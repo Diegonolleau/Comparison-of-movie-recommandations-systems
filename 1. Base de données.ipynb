{
 "cells": [
  {
   "cell_type": "markdown",
   "metadata": {},
   "source": [
    "# Présentation des bases"
   ]
  },
  {
   "cell_type": "code",
   "execution_count": 2,
   "metadata": {},
   "outputs": [],
   "source": [
    "import pandas as pd"
   ]
  },
  {
   "cell_type": "markdown",
   "metadata": {},
   "source": [
    "## Base de données \"movie\""
   ]
  },
  {
   "cell_type": "markdown",
   "metadata": {},
   "source": [
    "3 variables : \n",
    "- movieId\n",
    "- title \n",
    "- genres"
   ]
  },
  {
   "cell_type": "code",
   "execution_count": 3,
   "metadata": {},
   "outputs": [
    {
     "data": {
      "application/vnd.microsoft.datawrangler.viewer.v0+json": {
       "columns": [
        {
         "name": "index",
         "rawType": "int64",
         "type": "integer"
        },
        {
         "name": "movieId",
         "rawType": "int64",
         "type": "integer"
        },
        {
         "name": "title",
         "rawType": "object",
         "type": "string"
        },
        {
         "name": "genres",
         "rawType": "object",
         "type": "string"
        }
       ],
       "conversionMethod": "pd.DataFrame",
       "ref": "bbbc8226-dce6-437d-9ef0-bf0272452e21",
       "rows": [
        [
         "0",
         "1",
         "Toy Story (1995)",
         "Animation|Children's|Comedy"
        ],
        [
         "1",
         "2",
         "Jumanji (1995)",
         "Adventure|Children's|Fantasy"
        ],
        [
         "2",
         "3",
         "Grumpier Old Men (1995)",
         "Comedy|Romance"
        ],
        [
         "3",
         "4",
         "Waiting to Exhale (1995)",
         "Comedy|Drama"
        ],
        [
         "4",
         "5",
         "Father of the Bride Part II (1995)",
         "Comedy"
        ]
       ],
       "shape": {
        "columns": 3,
        "rows": 5
       }
      },
      "text/html": [
       "<div>\n",
       "<style scoped>\n",
       "    .dataframe tbody tr th:only-of-type {\n",
       "        vertical-align: middle;\n",
       "    }\n",
       "\n",
       "    .dataframe tbody tr th {\n",
       "        vertical-align: top;\n",
       "    }\n",
       "\n",
       "    .dataframe thead th {\n",
       "        text-align: right;\n",
       "    }\n",
       "</style>\n",
       "<table border=\"1\" class=\"dataframe\">\n",
       "  <thead>\n",
       "    <tr style=\"text-align: right;\">\n",
       "      <th></th>\n",
       "      <th>movieId</th>\n",
       "      <th>title</th>\n",
       "      <th>genres</th>\n",
       "    </tr>\n",
       "  </thead>\n",
       "  <tbody>\n",
       "    <tr>\n",
       "      <th>0</th>\n",
       "      <td>1</td>\n",
       "      <td>Toy Story (1995)</td>\n",
       "      <td>Animation|Children's|Comedy</td>\n",
       "    </tr>\n",
       "    <tr>\n",
       "      <th>1</th>\n",
       "      <td>2</td>\n",
       "      <td>Jumanji (1995)</td>\n",
       "      <td>Adventure|Children's|Fantasy</td>\n",
       "    </tr>\n",
       "    <tr>\n",
       "      <th>2</th>\n",
       "      <td>3</td>\n",
       "      <td>Grumpier Old Men (1995)</td>\n",
       "      <td>Comedy|Romance</td>\n",
       "    </tr>\n",
       "    <tr>\n",
       "      <th>3</th>\n",
       "      <td>4</td>\n",
       "      <td>Waiting to Exhale (1995)</td>\n",
       "      <td>Comedy|Drama</td>\n",
       "    </tr>\n",
       "    <tr>\n",
       "      <th>4</th>\n",
       "      <td>5</td>\n",
       "      <td>Father of the Bride Part II (1995)</td>\n",
       "      <td>Comedy</td>\n",
       "    </tr>\n",
       "  </tbody>\n",
       "</table>\n",
       "</div>"
      ],
      "text/plain": [
       "   movieId                               title                        genres\n",
       "0        1                    Toy Story (1995)   Animation|Children's|Comedy\n",
       "1        2                      Jumanji (1995)  Adventure|Children's|Fantasy\n",
       "2        3             Grumpier Old Men (1995)                Comedy|Romance\n",
       "3        4            Waiting to Exhale (1995)                  Comedy|Drama\n",
       "4        5  Father of the Bride Part II (1995)                        Comedy"
      ]
     },
     "execution_count": 3,
     "metadata": {},
     "output_type": "execute_result"
    }
   ],
   "source": [
    "movie = pd.read_csv(r\"C:\\Users\\nolle\\OneDrive\\Documents\\Université\\M2\\Mémoire\\Movielens1M\\movies.dat\", \n",
    "                     sep=\"::\", \n",
    "                     engine=\"python\", \n",
    "                     names=[\"movieId\", \"title\", \"genres\"], \n",
    "                     encoding = \"ISO-8859-1\")\n",
    "\n",
    "movie.head()"
   ]
  },
  {
   "cell_type": "code",
   "execution_count": 4,
   "metadata": {},
   "outputs": [
    {
     "data": {
      "text/plain": [
       "3883"
      ]
     },
     "execution_count": 4,
     "metadata": {},
     "output_type": "execute_result"
    }
   ],
   "source": [
    "len(movie[\"title\"].unique())"
   ]
  },
  {
   "cell_type": "markdown",
   "metadata": {},
   "source": [
    "Cette base permet d'avoir des informations sur les films présents dans la base : leur ID, leur titre, leur date de parution ainsi que les différents genres du film."
   ]
  },
  {
   "cell_type": "markdown",
   "metadata": {},
   "source": [
    "### *Title bis : titre sans la date de parution* ###"
   ]
  },
  {
   "cell_type": "code",
   "execution_count": 5,
   "metadata": {},
   "outputs": [
    {
     "data": {
      "text/plain": [
       "0                      Toy Story\n",
       "1                        Jumanji\n",
       "2               Grumpier Old Men\n",
       "3              Waiting to Exhale\n",
       "4    Father of the Bride Part II\n",
       "Name: title_bis, dtype: object"
      ]
     },
     "execution_count": 5,
     "metadata": {},
     "output_type": "execute_result"
    }
   ],
   "source": [
    "movie[\"title_bis\"] = movie[\"title\"].str[: -7].str.strip()\n",
    "movie[\"title_bis\"].head()"
   ]
  },
  {
   "cell_type": "code",
   "execution_count": 6,
   "metadata": {},
   "outputs": [
    {
     "data": {
      "text/plain": [
       "['American President, The',\n",
       " 'City of Lost Children, The',\n",
       " 'Usual Suspects, The',\n",
       " 'Big Green, The',\n",
       " 'Indian in the Cupboard, The',\n",
       " 'Crossing Guard, The',\n",
       " 'Juror, The',\n",
       " 'Journey of August King, The',\n",
       " 'Bridges of Madison County, The',\n",
       " \"Young Poisoner's Handbook, The\",\n",
       " 'Boys of St. Vincent, The',\n",
       " 'NeverEnding Story III, The',\n",
       " 'Neon Bible, The',\n",
       " 'Birdcage, The',\n",
       " 'Brothers McMullen, The',\n",
       " 'Amazing Panda Adventure, The',\n",
       " 'Basketball Diaries, The',\n",
       " 'Addiction, The',\n",
       " 'Doom Generation, The',\n",
       " 'Net, The',\n",
       " 'Prophecy, The',\n",
       " 'Scarlet Letter, The',\n",
       " 'Show, The',\n",
       " 'Stars Fell on Henrietta, The',\n",
       " 'Tie That Binds, The',\n",
       " 'Browning Version, The',\n",
       " 'Babysitter, The',\n",
       " 'Cure, The',\n",
       " 'Glass Shield, The',\n",
       " 'Hunted, The',\n",
       " 'Jerky Boys, The',\n",
       " 'Madness of King George, The',\n",
       " 'Perez Family, The',\n",
       " 'Quick and the Dead, The',\n",
       " 'Swan Princess, The',\n",
       " 'Secret of Roan Inish, The',\n",
       " 'Specialist, The',\n",
       " 'Santa Clause, The',\n",
       " 'Shawshank Redemption, The',\n",
       " 'Sum of Us, The',\n",
       " 'Underneath, The',\n",
       " 'Walking Dead, The',\n",
       " 'War, The',\n",
       " 'Baby-Sitters Club, The',\n",
       " 'Adventures of Priscilla, Queen of the Desert, The',\n",
       " 'Client, The',\n",
       " 'Crow, The',\n",
       " 'Flintstones, The',\n",
       " 'Jungle Book, The',\n",
       " 'Lion King, The',\n",
       " 'Mask, The',\n",
       " 'Paper, The',\n",
       " 'River Wild, The',\n",
       " 'Secret Adventures of Tom Thumb, The',\n",
       " 'Fear, The',\n",
       " 'Age of Innocence, The',\n",
       " 'Air Up There, The',\n",
       " 'Beverly Hillbillies, The',\n",
       " 'Cowboy Way, The',\n",
       " 'Endless Summer 2, The',\n",
       " 'Favor, The',\n",
       " 'Firm, The',\n",
       " 'Fugitive, The',\n",
       " 'Getaway, The',\n",
       " 'Englishman Who Went Up a Hill, But Came Down a Mountain, The',\n",
       " 'House of the Spirits, The',\n",
       " 'Hudsucker Proxy, The',\n",
       " 'Inkwell, The',\n",
       " 'Man Without a Face, The',\n",
       " 'Next Karate Kid, The',\n",
       " 'New Age, The',\n",
       " 'Piano, The',\n",
       " 'Program, The',\n",
       " 'Ref, The',\n",
       " 'Remains of the Day, The',\n",
       " 'Road to Wellville, The',\n",
       " 'Saint of Fort Washington, The',\n",
       " 'Scout, The',\n",
       " 'Secret Garden, The',\n",
       " 'Shadow, The',\n",
       " 'Nightmare Before Christmas, The',\n",
       " 'Three Musketeers, The',\n",
       " 'War Room, The',\n",
       " 'Pagemaster, The',\n",
       " 'Beans of Egypt, Maine, The',\n",
       " 'Wedding Gift, The',\n",
       " 'Little Rascals, The',\n",
       " 'Hour of the Pig, The',\n",
       " 'Celluloid Closet, The',\n",
       " 'Brady Bunch Movie, The',\n",
       " 'Silence of the Lambs, The',\n",
       " 'Wild Bunch, The',\n",
       " 'Pallbearer, The',\n",
       " 'Aristocats, The',\n",
       " 'Last Supper, The',\n",
       " 'Run of the Country, The',\n",
       " 'Substitute, The',\n",
       " 'Quest, The',\n",
       " 'Truth About Cats & Dogs, The',\n",
       " 'Haunted World of Edward D. Wood Jr., The',\n",
       " 'Craft, The',\n",
       " 'Great White Hype, The',\n",
       " 'Low Life, The',\n",
       " 'Rock, The',\n",
       " 'Stupids, The',\n",
       " 'Arrival, The',\n",
       " 'Man from Down Under, The',\n",
       " 'Phantom, The',\n",
       " 'Grass Harp, The',\n",
       " 'Fan, The',\n",
       " 'Hunchback of Notre Dame, The',\n",
       " 'Cable Guy, The',\n",
       " 'Gate of Heavenly Peace, The',\n",
       " 'Nutty Professor, The',\n",
       " 'Last Klezmer: Leopold Kozlowski, His Life and Music, The',\n",
       " 'Frighteners, The',\n",
       " 'Crude Oasis, The',\n",
       " 'Adventures of Pinocchio, The',\n",
       " 'First Wives Club, The',\n",
       " 'Crow: City of Angels, The',\n",
       " 'Story of Xinghua, The',\n",
       " 'Big Squeeze, The',\n",
       " 'Spitfire Grill, The',\n",
       " 'Godfather, The',\n",
       " 'Hippie Revolution, The',\n",
       " 'Wife, The',\n",
       " 'Relic, The',\n",
       " 'Island of Dr. Moreau, The',\n",
       " 'Trigger Effect, The',\n",
       " 'Philadelphia Story, The',\n",
       " 'Gay Divorcee, The',\n",
       " 'Apartment, The',\n",
       " 'Maltese Falcon, The',\n",
       " 'Little Princess, The',\n",
       " 'Wizard of Oz, The',\n",
       " 'Women, The',\n",
       " 'Band Wagon, The',\n",
       " 'Reluctant Debutante, The',\n",
       " 'Adventures of Robin Hood, The',\n",
       " 'Mark of Zorro, The',\n",
       " 'Ghost and Mrs. Muir, The',\n",
       " 'Thin Man, The',\n",
       " 'Inspector General, The',\n",
       " '39 Steps, The',\n",
       " 'Outlaw, The',\n",
       " 'African Queen, The',\n",
       " 'Last Time I Saw Paris, The',\n",
       " 'Pompatus of Love, The',\n",
       " \"Rich Man's Wife, The\",\n",
       " 'Glimmer Man, The',\n",
       " 'Chamber, The',\n",
       " 'Apple Dumpling Gang, The',\n",
       " 'Love Bug, The',\n",
       " 'Parent Trap, The',\n",
       " 'Shaggy Dog, The',\n",
       " 'Three Caballeros, The',\n",
       " 'Sword in the Stone, The',\n",
       " 'Fox and the Hound, The',\n",
       " 'Sound of Music, The',\n",
       " 'Lawnmower Man, The',\n",
       " 'Secret Agent, The',\n",
       " 'Long Kiss Goodnight, The',\n",
       " 'Ghost and the Darkness, The',\n",
       " 'Proprietor, The',\n",
       " 'Sunchaser, The',\n",
       " 'Woman in Question, The',\n",
       " 'Sexual Life of the Belgians, The',\n",
       " 'Innocents, The',\n",
       " 'Candidate, The',\n",
       " 'Great Race, The',\n",
       " 'Old Man and the Sea, The',\n",
       " 'Doors, The',\n",
       " 'Crying Game, The',\n",
       " 'Search for One-eye Jimmy, The',\n",
       " 'Leopard Son, The',\n",
       " 'Associate, The',\n",
       " 'Funeral, The',\n",
       " 'People vs. Larry Flynt, The',\n",
       " 'Return of the Pink Panther, The',\n",
       " 'Abyss, The',\n",
       " 'Fog, The',\n",
       " 'Howling, The',\n",
       " 'Line King: Al Hirschfeld, The',\n",
       " 'Wrong Trousers, The',\n",
       " 'Ruling Class, The',\n",
       " 'Bloody Child, The',\n",
       " 'Cook the Thief His Wife & Her Lover, The',\n",
       " 'Grifters, The',\n",
       " 'Shooter, The',\n",
       " 'English Patient, The',\n",
       " 'Thin Blue Line, The',\n",
       " 'Princess Bride, The',\n",
       " 'Good, The Bad and The Ugly, The',\n",
       " 'Transformers: The Movie, The',\n",
       " 'Third Man, The',\n",
       " 'Blues Brothers, The',\n",
       " 'Godfather: Part II, The',\n",
       " 'Quiet Man, The',\n",
       " 'Right Stuff, The',\n",
       " 'Sting, The',\n",
       " 'Terminator, The',\n",
       " 'Graduate, The',\n",
       " 'Bridge on the River Kwai, The',\n",
       " 'Day the Earth Stood Still, The',\n",
       " 'Treasure of the Sierra Madre, The',\n",
       " 'Shining, The',\n",
       " 'Great Escape, The',\n",
       " 'Deer Hunter, The',\n",
       " 'Manchurian Candidate, The',\n",
       " 'Great Dictator, The',\n",
       " 'Big Sleep, The',\n",
       " 'Unbearable Lightness of Being, The',\n",
       " 'Killing Fields, The',\n",
       " 'Man Who Would Be King, The',\n",
       " 'Amityville Horror, The',\n",
       " 'Amityville Curse, The',\n",
       " 'Believers, The',\n",
       " 'Birds, The',\n",
       " 'Blob, The',\n",
       " 'Body Snatcher, The',\n",
       " 'Omen, The',\n",
       " 'Mirror Has Two Faces, The',\n",
       " \"Preacher's Wife, The\",\n",
       " 'Crucible, The',\n",
       " 'Substance of Fire, The',\n",
       " 'Last of the Mohicans, The',\n",
       " 'Evening Star, The',\n",
       " 'Whole Wide World, The',\n",
       " 'Portrait of a Lady, The',\n",
       " 'Machine, The',\n",
       " 'Stranger, The',\n",
       " 'Cement Garden, The',\n",
       " 'Beautician and the Beast, The',\n",
       " 'Pest, The',\n",
       " 'Saint, The',\n",
       " 'Van, The',\n",
       " 'Daytrippers, The',\n",
       " 'Quiet Room, The',\n",
       " \"Devil's Own, The\",\n",
       " 'Sixth Man, The',\n",
       " 'Turning, The',\n",
       " 'Fifth Element, The',\n",
       " 'Second Jungle Book: Mowgli & Baloo, The',\n",
       " 'Designated Mourner, The',\n",
       " 'Lost World: Jurassic Park, The',\n",
       " 'War at Home, The',\n",
       " 'Pillow Book, The',\n",
       " 'Next Step, The',\n",
       " 'Last Time I Committed Suicide, The',\n",
       " 'Innocent Sleep, The',\n",
       " 'Hunt for Red October, The',\n",
       " 'Edge, The',\n",
       " 'Peacemaker, The',\n",
       " 'Game, The',\n",
       " 'Locusts, The',\n",
       " 'MatchMaker, The',\n",
       " 'Lay of the Land, The',\n",
       " 'Assignment, The',\n",
       " 'Ice Storm, The',\n",
       " 'Full Monty, The',\n",
       " \"Devil's Advocate, The\",\n",
       " 'House of Yes, The',\n",
       " 'Tango Lesson, The',\n",
       " 'Rainmaker, The',\n",
       " 'Joy Luck Club, The',\n",
       " 'Truman Show, The',\n",
       " 'Wings of the Dove, The',\n",
       " 'Jackal, The',\n",
       " 'Man Who Knew Too Little, The',\n",
       " 'Apostle, The',\n",
       " 'Big Bang Theory, The',\n",
       " 'Butcher Boy, The',\n",
       " 'Sweet Hereafter, The',\n",
       " 'Education of Little Tree, The',\n",
       " 'Postman, The',\n",
       " 'Horse Whisperer, The',\n",
       " 'Winter Guest, The',\n",
       " 'Big Lebowski, The',\n",
       " 'Leading Man, The',\n",
       " 'Prophecy II, The',\n",
       " 'Replacement Killers, The',\n",
       " 'Wedding Singer, The',\n",
       " 'Sadness of Sex, The',\n",
       " 'Man in the Iron Mask, The',\n",
       " 'Newton Boys, The',\n",
       " 'Proposition, The',\n",
       " 'Object of My Affection, The',\n",
       " \"Player's Club, The\",\n",
       " 'Big One, The',\n",
       " 'Spanish Prisoner, The',\n",
       " 'Last Days of Disco, The',\n",
       " 'Odd Couple II, The',\n",
       " 'Gingerbread Man, The',\n",
       " 'Borrowers, The',\n",
       " 'Real Blonde, The',\n",
       " 'Big Hit, The',\n",
       " 'Truce, The',\n",
       " 'Hanging Garden, The',\n",
       " 'Opposite of Sex, The',\n",
       " 'Ugly, The',\n",
       " 'Land Girls, The',\n",
       " 'X-Files: Fight the Future, The',\n",
       " 'Broadway Melody, The',\n",
       " 'Great Ziegfeld, The',\n",
       " 'Life of Émile Zola, The',\n",
       " 'Lost Weekend, The',\n",
       " 'Best Years of Our Lives, The',\n",
       " 'Greatest Show on Earth, The',\n",
       " 'French Connection, The',\n",
       " 'Last Emperor, The',\n",
       " 'Breakfast Club, The',\n",
       " 'Exorcist, The',\n",
       " 'Exorcist III, The',\n",
       " 'Goonies, The',\n",
       " 'Mask of Zorro, The',\n",
       " 'Poseidon Adventure, The',\n",
       " 'Absent Minded Professor, The',\n",
       " 'Apple Dumpling Gang Rides Again, The',\n",
       " 'Last Temptation of Christ, The',\n",
       " 'Godfather: Part III, The',\n",
       " 'Rapture, The',\n",
       " 'Barefoot Executive, The',\n",
       " 'Black Cauldron, The',\n",
       " 'Black Hole, The',\n",
       " 'Cat from Outer Space, The',\n",
       " 'Computer Wore Tennis Shoes, The',\n",
       " 'Devil and Max Devlin, The',\n",
       " 'Gnome-Mobile, The',\n",
       " 'Great Mouse Detective, The',\n",
       " 'Happiest Millionaire, The',\n",
       " 'Incredible Journey, The',\n",
       " 'Negotiator, The',\n",
       " 'Governess, The',\n",
       " 'Purple Rose of Cairo, The',\n",
       " 'Trip to Bountiful, The',\n",
       " \"'burbs, The\",\n",
       " 'Journey of Natty Gann, The',\n",
       " 'Little Mermaid, The',\n",
       " 'Mighty Ducks, The',\n",
       " 'Muppet Christmas Carol, The',\n",
       " 'Rescuers Down Under, The',\n",
       " 'Rescuers, The',\n",
       " 'Return of Jafar, The',\n",
       " 'Rocketeer, The',\n",
       " 'Shaggy D.A., The',\n",
       " 'Jerk, The',\n",
       " 'Man with Two Brains, The',\n",
       " 'Outsiders, The',\n",
       " 'Lord of the Rings, The',\n",
       " 'Dead Zone, The',\n",
       " 'Addams Family, The',\n",
       " 'Saltmen of Tibet, The',\n",
       " 'Secret of NIMH, The',\n",
       " 'Dark Crystal, The',\n",
       " 'Clan of the Cave Bear, The',\n",
       " 'Gods Must Be Crazy, The',\n",
       " 'Gods Must Be Crazy II, The',\n",
       " 'Avengers, The',\n",
       " 'Slums of Beverly Hills, The',\n",
       " 'Chambermaid on the Titanic, The',\n",
       " 'NeverEnding Story, The',\n",
       " 'NeverEnding Story II: The Next Chapter, The',\n",
       " 'Navigator: A Mediaeval Odyssey, The',\n",
       " 'Wrong Man, The',\n",
       " 'Man Who Knew Too Much, The',\n",
       " 'Trouble with Harry, The',\n",
       " 'Untouchables, The',\n",
       " 'Paradine Case, The',\n",
       " 'Lady Vanishes, The',\n",
       " 'Skin Game, The',\n",
       " 'Manxman, The',\n",
       " \"Farmer's Wife, The\",\n",
       " 'Ring, The',\n",
       " 'Lodger, The',\n",
       " 'Mountain Eagle, The',\n",
       " 'Pleasure Garden, The',\n",
       " 'Allnighter, The',\n",
       " 'Cabinet of Dr. Ramirez, The',\n",
       " 'Seventh Sign, The',\n",
       " \"Butcher's Wife, The\",\n",
       " 'Sheltering Sky, The',\n",
       " 'Fiendish Plot of Dr. Fu Manchu, The',\n",
       " 'Thing, The',\n",
       " 'Player, The',\n",
       " 'Impostors, The',\n",
       " 'Battle of the Sexes, The',\n",
       " 'Producers, The',\n",
       " 'Mighty, The',\n",
       " 'Elephant Man, The',\n",
       " 'Alarmist, The',\n",
       " 'Cruise, The',\n",
       " 'Siege, The',\n",
       " 'Waterboy, The',\n",
       " 'Naked Man, The',\n",
       " 'Stepford Wives, The',\n",
       " 'Pope of Greenwich Village, The',\n",
       " 'Big Chill, The',\n",
       " 'Rugrats Movie, The',\n",
       " 'Emerald Forest, The',\n",
       " 'Money Pit, The',\n",
       " 'Prince of Egypt, The',\n",
       " 'Jewel of the Nile, The',\n",
       " 'Karate Kid, The',\n",
       " 'Karate Kid, Part II, The',\n",
       " 'Karate Kid III, The',\n",
       " 'General, The',\n",
       " 'Theory of Flight, The',\n",
       " 'Thin Red Line, The',\n",
       " 'Faculty, The',\n",
       " 'Hi-Lo Country, The',\n",
       " 'Garbage Pail Kids Movie, The',\n",
       " 'Gate, The',\n",
       " 'Gate II: Trespassers, The',\n",
       " 'Boy Who Could Fly, The',\n",
       " 'Fly, The',\n",
       " 'Fly II, The',\n",
       " 'Texas Chainsaw Massacre, The',\n",
       " 'Texas Chainsaw Massacre 2, The',\n",
       " 'Return of the Texas Chainsaw Massacre, The',\n",
       " 'Name of the Rose, The',\n",
       " 'Color of Money, The',\n",
       " 'Harmonists, The',\n",
       " 'Last Days, The',\n",
       " 'Other Sister, The',\n",
       " 'Breaks, The',\n",
       " 'Long Goodbye, The',\n",
       " 'Towering Inferno, The',\n",
       " \"Concorde: Airport '79, The\",\n",
       " 'Corruptor, The',\n",
       " 'Deep End of the Ocean, The',\n",
       " 'Rage: Carrie 2, The',\n",
       " 'Haunting, The',\n",
       " 'King and I, The',\n",
       " 'Empty Mirror, The',\n",
       " 'Mod Squad, The',\n",
       " 'Matrix, The',\n",
       " 'Out-of-Towners, The',\n",
       " 'Sticky Fingers of Time, The',\n",
       " 'Joyriders, The',\n",
       " 'Winslow Boy, The',\n",
       " 'Mummy, The',\n",
       " 'Castle, The',\n",
       " 'Love Letter, The',\n",
       " \"Mummy's Curse, The\",\n",
       " \"Mummy's Ghost, The\",\n",
       " \"Mummy's Hand, The\",\n",
       " \"Mummy's Tomb, The\",\n",
       " 'Ghost of Frankenstein, The',\n",
       " 'Curse of Frankenstein, The',\n",
       " 'Wolf Man, The',\n",
       " 'Rocky Horror Picture Show, The',\n",
       " 'Flying Saucer, The',\n",
       " 'Thing From Another World, The',\n",
       " 'War of the Worlds, The',\n",
       " 'Mole People, The',\n",
       " 'Thirteenth Floor, The',\n",
       " 'Loss of Sexual Innocence, The',\n",
       " \"General's Daughter, The\",\n",
       " 'Boys, The',\n",
       " 'Blair Witch Project, The',\n",
       " 'Wood, The',\n",
       " 'Velocity of Gary, The',\n",
       " 'Killing, The',\n",
       " 'Mosquito Coast, The',\n",
       " 'Golden Child, The',\n",
       " 'Color Purple, The',\n",
       " 'Kindred, The',\n",
       " 'Mission, The',\n",
       " 'Little Shop of Horrors, The',\n",
       " 'Morning After, The',\n",
       " 'Bedroom Window, The',\n",
       " 'Iron Giant, The',\n",
       " 'Sixth Sense, The',\n",
       " 'Thomas Crown Affair, The',\n",
       " 'Acid House, The',\n",
       " 'Adventures of Sebastian Cole, The',\n",
       " 'Yards, The',\n",
       " 'Raven, The',\n",
       " 'Tingler, The',\n",
       " 'Tomb of Ligeia, The',\n",
       " 'Masque of the Red Death, The',\n",
       " 'Pelican Brief, The',\n",
       " 'Source, The',\n",
       " 'Bat, The',\n",
       " '13th Warrior, The',\n",
       " \"Astronaut's Wife, The\",\n",
       " 'Muse, The',\n",
       " 'Lost Son, The',\n",
       " 'Very Thought of You, The',\n",
       " 'Minus Man, The',\n",
       " 'Adventures of Milo and Otis, The',\n",
       " 'Buddy Holly Story, The',\n",
       " 'Pajama Game, The',\n",
       " 'Adventures of Elmo in Grouchland, The',\n",
       " 'Dark Half, The',\n",
       " 'Limey, The',\n",
       " 'Mating Habits of the Earthbound Human, The',\n",
       " \"Razor's Edge, The\",\n",
       " 'Lady Eve, The',\n",
       " 'Palm Beach Story, The',\n",
       " 'Dirty Dozen, The',\n",
       " 'Blue Lagoon, The',\n",
       " 'Story of Us, The',\n",
       " 'Omega Code, The',\n",
       " 'Straight Story, The',\n",
       " 'Bad Seed, The',\n",
       " 'Best Man, The',\n",
       " 'Guardian, The',\n",
       " 'Ipcress File, The',\n",
       " 'City, The',\n",
       " 'House on Haunted Hill, The',\n",
       " 'Suburbans, The',\n",
       " 'Bachelor, The',\n",
       " 'Bone Collector, The',\n",
       " 'Insider, The',\n",
       " 'Funhouse, The',\n",
       " 'Taming of the Shrew, The',\n",
       " 'Omega Man, The',\n",
       " 'Incredibly True Adventure of Two Girls in Love, The',\n",
       " 'Messenger: The Story of Joan of Arc, The',\n",
       " 'Ape, The',\n",
       " 'Commitments, The',\n",
       " 'Longest Day, The',\n",
       " 'Verdict, The',\n",
       " 'Effect of Gamma Rays on Man-in-the-Moon Marigolds, The',\n",
       " 'Adventures of Buckaroo Bonzai Across the 8th Dimension, The',\n",
       " 'Sandpiper, The',\n",
       " 'World Is Not Enough, The',\n",
       " 'Grapes of Wrath, The',\n",
       " 'Shop Around the Corner, The',\n",
       " 'Natural, The',\n",
       " 'Fisher King, The',\n",
       " 'River, The',\n",
       " 'Distinguished Gentleman, The',\n",
       " 'Hitch-Hiker, The',\n",
       " 'End of the Affair, The',\n",
       " 'Great Santini, The',\n",
       " 'James Dean Story, The',\n",
       " 'Sea Wolves, The',\n",
       " 'Three Ages, The',\n",
       " 'Two Jakes, The',\n",
       " 'Glass Bottom Boat, The',\n",
       " 'Cradle Will Rock, The',\n",
       " 'Green Mile, The',\n",
       " 'Cider House Rules, The',\n",
       " 'War Zone, The',\n",
       " 'Bat Whispers, The',\n",
       " 'Last Picture Show, The',\n",
       " '7th Voyage of Sinbad, The',\n",
       " 'Alley Cats, The',\n",
       " 'Falcon and the Snowman, The',\n",
       " 'Talented Mr. Ripley, The',\n",
       " 'Hurricane, The',\n",
       " 'Third Miracle, The',\n",
       " 'Life and Times of Hank Greenberg, The',\n",
       " 'Quarry, The',\n",
       " 'Way We Were, The',\n",
       " 'Presidio, The',\n",
       " 'Last Detail, The',\n",
       " 'Boys from Brazil, The',\n",
       " 'Snows of Kilimanjaro, The',\n",
       " 'Loves of Carmen, The',\n",
       " \"Draughtsman's Contract, The\",\n",
       " 'Odessa File, The',\n",
       " 'Saphead, The',\n",
       " 'Big Tease, The',\n",
       " 'Goodbye Girl, The',\n",
       " 'Hand That Rocks the Cradle, The',\n",
       " 'Bodyguard, The',\n",
       " 'Cutting Edge, The',\n",
       " 'Boondock Saints, The',\n",
       " 'Baby, The',\n",
       " 'Brandon Teena Story, The',\n",
       " 'Beach, The',\n",
       " 'Tigger Movie, The',\n",
       " 'Big Combo, The',\n",
       " 'Whole Nine Yards, The',\n",
       " 'Circus, The',\n",
       " 'Flamingo Kid, The',\n",
       " 'Kid, The',\n",
       " 'Man from Laramie, The',\n",
       " 'McCullochs, The',\n",
       " 'Big Trees, The',\n",
       " 'Waiting Game, The',\n",
       " 'Next Best Thing, The',\n",
       " 'Year My Voice Broke, The',\n",
       " 'Legend of Lobo, The',\n",
       " 'Killing of Sister George, The',\n",
       " 'Night Visitor, The',\n",
       " 'Perils of Pauline, The',\n",
       " 'Closer You Get, The',\n",
       " 'Ninth Gate, The',\n",
       " 'Asphalt Jungle, The',\n",
       " 'Searchers, The',\n",
       " \"Devil's Brigade, The\",\n",
       " 'Big Country, The',\n",
       " 'Bridge at Remagen, The',\n",
       " 'Taking of Pelham One Two Three, The',\n",
       " 'Muppet Movie, The',\n",
       " 'Great Muppet Caper, The',\n",
       " 'Muppets Take Manhattan, The',\n",
       " 'Bear, The',\n",
       " 'Crimson Pirate, The',\n",
       " 'Champ, The',\n",
       " 'Good Earth, The',\n",
       " 'Good Mother, The',\n",
       " 'Hustler, The',\n",
       " 'Road to El Dorado, The',\n",
       " 'Skulls, The',\n",
       " 'Hideous Sun Demon, The',\n",
       " 'Son of the Sheik, The',\n",
       " 'Odd Couple, The',\n",
       " 'Outlaw Josey Wales, The',\n",
       " 'Bells, The',\n",
       " 'End of Violence, The',\n",
       " 'Prince of Tides, The',\n",
       " 'Postman Always Rings Twice, The',\n",
       " 'Filth and the Fury, The',\n",
       " 'Hunger, The',\n",
       " 'Virgin Suicides, The',\n",
       " 'Crow: Salvation, The',\n",
       " 'Flintstones in Viva Rock Vegas, The',\n",
       " 'Big Kahuna, The',\n",
       " 'Last September, The',\n",
       " 'Hidden, The',\n",
       " 'Great Locomotive Chase, The',\n",
       " 'Idolmaker, The',\n",
       " 'King of Marvin Gardens, The',\n",
       " 'Lords of Flatbush, The',\n",
       " 'Castaway Cowboy, The',\n",
       " 'Gay Deceivers, The',\n",
       " 'Slipper and the Rose, The',\n",
       " 'Hollywood Knights, The',\n",
       " 'Myth of Fingerprints, The',\n",
       " 'Twelve Chairs, The',\n",
       " 'Gold Rush, The',\n",
       " 'Spy Who Loved Me, The',\n",
       " 'Man with the Golden Gun, The',\n",
       " 'Fighting Seabees, The',\n",
       " 'Abominable Snowman, The',\n",
       " 'Endless Summer, The',\n",
       " 'Guns of Navarone, The',\n",
       " 'Story of G.I. Joe, The',\n",
       " 'Man with the Golden Arm, The',\n",
       " 'Decline of Western Civilization, The',\n",
       " 'Decline of Western Civilization Part II: The Metal Years, The',\n",
       " 'Fabulous Baker Boys, The',\n",
       " 'Toxic Avenger, The',\n",
       " 'Toxic Avenger, Part II, The',\n",
       " 'Toxic Avenger Part III: The Last Temptation of Toxie, The',\n",
       " 'Running Man, The',\n",
       " 'Brother from Another Planet, The',\n",
       " 'Long Walk Home, The',\n",
       " 'Conversation, The',\n",
       " 'Fury, The',\n",
       " 'Paper Chase, The',\n",
       " 'Big Carnival, The',\n",
       " 'Sugarland Express, The',\n",
       " 'Match, The',\n",
       " 'Patriot, The',\n",
       " 'Adventures of Rocky and Bullwinkle, The',\n",
       " 'Perfect Storm, The',\n",
       " 'Golden Bowl, The',\n",
       " 'Kentucky Fried Movie, The',\n",
       " 'Hot Spot, The',\n",
       " 'Golden Voyage of Sinbad, The',\n",
       " 'Pawnbroker, The',\n",
       " 'Five Senses, The',\n",
       " 'In Crowd, The',\n",
       " \"Brain That Wouldn't Die, The\",\n",
       " 'Crush, The',\n",
       " 'Spiral Staircase, The',\n",
       " 'Tao of Steve, The',\n",
       " 'Tic Code, The',\n",
       " 'Eyes of Tammy Faye, The',\n",
       " 'Opportunists, The',\n",
       " 'Replacements, The',\n",
       " 'Cell, The',\n",
       " 'Original Kings of Comedy, The',\n",
       " 'Naked Gun: From the Files of Police Squad!, The',\n",
       " 'Naked Gun 2 1/2: The Smell of Fear, The',\n",
       " 'Devil Rides Out, The',\n",
       " 'Art of War, The',\n",
       " \"Ballad of Ramblin' Jack, The\",\n",
       " 'Crew, The',\n",
       " 'Watcher, The',\n",
       " 'Way of the Gun, The',\n",
       " 'Specials, The',\n",
       " 'Prince of Central Park, The',\n",
       " 'Broken Hearts Club, The',\n",
       " 'Bank Dick, The',\n",
       " 'Creature From the Black Lagoon, The',\n",
       " 'Giant Gila Monster, The',\n",
       " 'Invisible Man, The',\n",
       " 'Killer Shrews, The',\n",
       " 'Phantom of the Opera, The',\n",
       " 'Slumber Party Massacre, The',\n",
       " 'Slumber Party Massacre II, The',\n",
       " 'Slumber Party Massacre III, The',\n",
       " 'Contender, The']"
      ]
     },
     "execution_count": 6,
     "metadata": {},
     "output_type": "execute_result"
    }
   ],
   "source": [
    "liste_films_verif = movie[\"title_bis\"].unique().tolist()\n",
    "[f for f in liste_films_verif if f.endswith(\"The\")]\n",
    "# On peut voir qu'il existe un problème de format pour les titres qui se terminent par \"The\""
   ]
  },
  {
   "cell_type": "code",
   "execution_count": 7,
   "metadata": {},
   "outputs": [
    {
     "data": {
      "text/plain": [
       "0                      Toy Story\n",
       "1                        Jumanji\n",
       "2               Grumpier Old Men\n",
       "3              Waiting to Exhale\n",
       "4    Father of the Bride Part II\n",
       "Name: title_clean, dtype: object"
      ]
     },
     "execution_count": 7,
     "metadata": {},
     "output_type": "execute_result"
    }
   ],
   "source": [
    "# On créer une fonction pour corriger les titres\n",
    "\n",
    "def corriger_articles(titre):\n",
    "    for article in [\"The\", \"An\", \"A\"] :\n",
    "        if titre.endswith(f\", {article}\") :\n",
    "            return f\"{article} \" + titre[: -(len(article)+2)]\n",
    "    return titre\n",
    "\n",
    "movie[\"title_clean\"] = movie[\"title_bis\"].apply(corriger_articles)\n",
    "movie[\"title_clean\"].head()"
   ]
  },
  {
   "cell_type": "code",
   "execution_count": 8,
   "metadata": {},
   "outputs": [
    {
     "data": {
      "text/plain": [
       "[]"
      ]
     },
     "execution_count": 8,
     "metadata": {},
     "output_type": "execute_result"
    }
   ],
   "source": [
    "# Plus aucun film ne finit pat \"The\"\n",
    "\n",
    "liste_films_verif = movie[\"title_clean\"].unique().tolist()\n",
    "[f for f in liste_films_verif if f.endswith(\"The\")]"
   ]
  },
  {
   "cell_type": "code",
   "execution_count": null,
   "metadata": {},
   "outputs": [
    {
     "name": "stdout",
     "output_type": "stream",
     "text": [
      "[]\n"
     ]
    }
   ],
   "source": [
    "# Verification de la correction du format : méthode 1\n",
    "\n",
    "liste_articles = [\"The\", \"An\", \"A\"]\n",
    "\n",
    "for i in liste_articles : \n",
    "    test = [f for f in liste_films_verif if f.endswith(i)]\n",
    "    \n",
    "print(test)\n",
    "# On peut voir qu'il n'y a plus de titres qui se terminent par \"The\"."
   ]
  },
  {
   "cell_type": "code",
   "execution_count": 10,
   "metadata": {},
   "outputs": [
    {
     "data": {
      "text/plain": [
       "[]"
      ]
     },
     "execution_count": 10,
     "metadata": {},
     "output_type": "execute_result"
    }
   ],
   "source": [
    "# Verification de la correction du format : méthode 2\n",
    "\n",
    "films_rates = []\n",
    "\n",
    "for i in liste_films_verif : \n",
    "    for j in liste_articles : \n",
    "        if i.endswith(j) : \n",
    "            films_rates.append(i)\n",
    "\n",
    "films_rates\n",
    "# Tous les films sont au bon format"
   ]
  },
  {
   "cell_type": "markdown",
   "metadata": {},
   "source": [
    "### *Date : date de parution* ###"
   ]
  },
  {
   "cell_type": "code",
   "execution_count": 11,
   "metadata": {},
   "outputs": [
    {
     "data": {
      "text/plain": [
       "0    1995\n",
       "1    1995\n",
       "2    1995\n",
       "3    1995\n",
       "4    1995\n",
       "Name: date, dtype: object"
      ]
     },
     "execution_count": 11,
     "metadata": {},
     "output_type": "execute_result"
    }
   ],
   "source": [
    "movie[\"date\"] = movie[\"title\"].str[-5 : -1].str.strip()\n",
    "movie[\"date\"].head()"
   ]
  },
  {
   "cell_type": "markdown",
   "metadata": {},
   "source": [
    "### *Title clean : obligation de le créer pour les fusions qui viendront après* ###"
   ]
  },
  {
   "cell_type": "code",
   "execution_count": 12,
   "metadata": {},
   "outputs": [
    {
     "data": {
      "text/plain": [
       "0                         Toy Story (1995)\n",
       "1                           Jumanji (1995)\n",
       "2                  Grumpier Old Men (1995)\n",
       "3                 Waiting to Exhale (1995)\n",
       "4       Father of the Bride Part II (1995)\n",
       "                       ...                \n",
       "3878               Meet the Parents (2000)\n",
       "3879            Requiem for a Dream (2000)\n",
       "3880                      Tigerland (2000)\n",
       "3881               Two Family House (2000)\n",
       "3882                  The Contender (2000)\n",
       "Name: title_clean, Length: 3883, dtype: object"
      ]
     },
     "execution_count": 12,
     "metadata": {},
     "output_type": "execute_result"
    }
   ],
   "source": [
    "movie[\"title_clean\"] = movie[\"title_clean\"].str.strip() + \" (\" + movie[\"date\"] + \")\"\n",
    "movie[\"title_clean\"]"
   ]
  },
  {
   "cell_type": "markdown",
   "metadata": {},
   "source": [
    "## Base de données \"movies_metadata\""
   ]
  },
  {
   "cell_type": "markdown",
   "metadata": {},
   "source": [
    "Base de données donnant des informations supplémentaires sur les films"
   ]
  },
  {
   "cell_type": "code",
   "execution_count": 13,
   "metadata": {},
   "outputs": [
    {
     "name": "stderr",
     "output_type": "stream",
     "text": [
      "C:\\Users\\nolle\\AppData\\Local\\Temp\\ipykernel_20876\\2507172348.py:1: DtypeWarning: Columns (10) have mixed types. Specify dtype option on import or set low_memory=False.\n",
      "  movies_metadata = pd.read_csv(r\"C:\\Users\\nolle\\OneDrive\\Documents\\Université\\M2\\Mémoire\\Movielens1M\\movies_metadata.csv\")\n"
     ]
    },
    {
     "data": {
      "application/vnd.microsoft.datawrangler.viewer.v0+json": {
       "columns": [
        {
         "name": "index",
         "rawType": "int64",
         "type": "integer"
        },
        {
         "name": "adult",
         "rawType": "object",
         "type": "string"
        },
        {
         "name": "belongs_to_collection",
         "rawType": "object",
         "type": "string"
        },
        {
         "name": "budget",
         "rawType": "object",
         "type": "string"
        },
        {
         "name": "genres",
         "rawType": "object",
         "type": "string"
        },
        {
         "name": "homepage",
         "rawType": "object",
         "type": "string"
        },
        {
         "name": "id",
         "rawType": "object",
         "type": "string"
        },
        {
         "name": "imdb_id",
         "rawType": "object",
         "type": "string"
        },
        {
         "name": "original_language",
         "rawType": "object",
         "type": "string"
        },
        {
         "name": "original_title",
         "rawType": "object",
         "type": "string"
        },
        {
         "name": "overview",
         "rawType": "object",
         "type": "string"
        },
        {
         "name": "popularity",
         "rawType": "object",
         "type": "unknown"
        },
        {
         "name": "poster_path",
         "rawType": "object",
         "type": "string"
        },
        {
         "name": "production_companies",
         "rawType": "object",
         "type": "string"
        },
        {
         "name": "production_countries",
         "rawType": "object",
         "type": "string"
        },
        {
         "name": "release_date",
         "rawType": "object",
         "type": "string"
        },
        {
         "name": "revenue",
         "rawType": "float64",
         "type": "float"
        },
        {
         "name": "runtime",
         "rawType": "float64",
         "type": "float"
        },
        {
         "name": "spoken_languages",
         "rawType": "object",
         "type": "string"
        },
        {
         "name": "status",
         "rawType": "object",
         "type": "string"
        },
        {
         "name": "tagline",
         "rawType": "object",
         "type": "unknown"
        },
        {
         "name": "title",
         "rawType": "object",
         "type": "string"
        },
        {
         "name": "video",
         "rawType": "object",
         "type": "unknown"
        },
        {
         "name": "vote_average",
         "rawType": "float64",
         "type": "float"
        },
        {
         "name": "vote_count",
         "rawType": "float64",
         "type": "float"
        }
       ],
       "conversionMethod": "pd.DataFrame",
       "ref": "592da02c-2d05-457c-8c11-59bbbde0ee9a",
       "rows": [
        [
         "0",
         "False",
         "{'id': 10194, 'name': 'Toy Story Collection', 'poster_path': '/7G9915LfUQ2lVfwMEEhDsn3kT4B.jpg', 'backdrop_path': '/9FBwqcd9IRruEDUrTdcaafOMKUq.jpg'}",
         "30000000",
         "[{'id': 16, 'name': 'Animation'}, {'id': 35, 'name': 'Comedy'}, {'id': 10751, 'name': 'Family'}]",
         "http://toystory.disney.com/toy-story",
         "862",
         "tt0114709",
         "en",
         "Toy Story",
         "Led by Woody, Andy's toys live happily in his room until Andy's birthday brings Buzz Lightyear onto the scene. Afraid of losing his place in Andy's heart, Woody plots against Buzz. But when circumstances separate Buzz and Woody from their owner, the duo eventually learns to put aside their differences.",
         "21.946943",
         "/rhIRbceoE9lR4veEXuwCC2wARtG.jpg",
         "[{'name': 'Pixar Animation Studios', 'id': 3}]",
         "[{'iso_3166_1': 'US', 'name': 'United States of America'}]",
         "1995-10-30",
         "373554033.0",
         "81.0",
         "[{'iso_639_1': 'en', 'name': 'English'}]",
         "Released",
         null,
         "Toy Story",
         "False",
         "7.7",
         "5415.0"
        ]
       ],
       "shape": {
        "columns": 24,
        "rows": 1
       }
      },
      "text/html": [
       "<div>\n",
       "<style scoped>\n",
       "    .dataframe tbody tr th:only-of-type {\n",
       "        vertical-align: middle;\n",
       "    }\n",
       "\n",
       "    .dataframe tbody tr th {\n",
       "        vertical-align: top;\n",
       "    }\n",
       "\n",
       "    .dataframe thead th {\n",
       "        text-align: right;\n",
       "    }\n",
       "</style>\n",
       "<table border=\"1\" class=\"dataframe\">\n",
       "  <thead>\n",
       "    <tr style=\"text-align: right;\">\n",
       "      <th></th>\n",
       "      <th>adult</th>\n",
       "      <th>belongs_to_collection</th>\n",
       "      <th>budget</th>\n",
       "      <th>genres</th>\n",
       "      <th>homepage</th>\n",
       "      <th>id</th>\n",
       "      <th>imdb_id</th>\n",
       "      <th>original_language</th>\n",
       "      <th>original_title</th>\n",
       "      <th>overview</th>\n",
       "      <th>...</th>\n",
       "      <th>release_date</th>\n",
       "      <th>revenue</th>\n",
       "      <th>runtime</th>\n",
       "      <th>spoken_languages</th>\n",
       "      <th>status</th>\n",
       "      <th>tagline</th>\n",
       "      <th>title</th>\n",
       "      <th>video</th>\n",
       "      <th>vote_average</th>\n",
       "      <th>vote_count</th>\n",
       "    </tr>\n",
       "  </thead>\n",
       "  <tbody>\n",
       "    <tr>\n",
       "      <th>0</th>\n",
       "      <td>False</td>\n",
       "      <td>{'id': 10194, 'name': 'Toy Story Collection', ...</td>\n",
       "      <td>30000000</td>\n",
       "      <td>[{'id': 16, 'name': 'Animation'}, {'id': 35, '...</td>\n",
       "      <td>http://toystory.disney.com/toy-story</td>\n",
       "      <td>862</td>\n",
       "      <td>tt0114709</td>\n",
       "      <td>en</td>\n",
       "      <td>Toy Story</td>\n",
       "      <td>Led by Woody, Andy's toys live happily in his ...</td>\n",
       "      <td>...</td>\n",
       "      <td>1995-10-30</td>\n",
       "      <td>373554033.0</td>\n",
       "      <td>81.0</td>\n",
       "      <td>[{'iso_639_1': 'en', 'name': 'English'}]</td>\n",
       "      <td>Released</td>\n",
       "      <td>NaN</td>\n",
       "      <td>Toy Story</td>\n",
       "      <td>False</td>\n",
       "      <td>7.7</td>\n",
       "      <td>5415.0</td>\n",
       "    </tr>\n",
       "  </tbody>\n",
       "</table>\n",
       "<p>1 rows × 24 columns</p>\n",
       "</div>"
      ],
      "text/plain": [
       "   adult                              belongs_to_collection    budget  \\\n",
       "0  False  {'id': 10194, 'name': 'Toy Story Collection', ...  30000000   \n",
       "\n",
       "                                              genres  \\\n",
       "0  [{'id': 16, 'name': 'Animation'}, {'id': 35, '...   \n",
       "\n",
       "                               homepage   id    imdb_id original_language  \\\n",
       "0  http://toystory.disney.com/toy-story  862  tt0114709                en   \n",
       "\n",
       "  original_title                                           overview  ...  \\\n",
       "0      Toy Story  Led by Woody, Andy's toys live happily in his ...  ...   \n",
       "\n",
       "  release_date      revenue runtime                          spoken_languages  \\\n",
       "0   1995-10-30  373554033.0    81.0  [{'iso_639_1': 'en', 'name': 'English'}]   \n",
       "\n",
       "     status  tagline      title  video vote_average vote_count  \n",
       "0  Released      NaN  Toy Story  False          7.7     5415.0  \n",
       "\n",
       "[1 rows x 24 columns]"
      ]
     },
     "execution_count": 13,
     "metadata": {},
     "output_type": "execute_result"
    }
   ],
   "source": [
    "movies_metadata = pd.read_csv(r\"C:\\Users\\nolle\\OneDrive\\Documents\\Université\\M2\\Mémoire\\Movielens1M\\movies_metadata.csv\")\n",
    "movies_metadata.head(1)"
   ]
  },
  {
   "cell_type": "code",
   "execution_count": 14,
   "metadata": {},
   "outputs": [
    {
     "data": {
      "text/plain": [
       "45466"
      ]
     },
     "execution_count": 14,
     "metadata": {},
     "output_type": "execute_result"
    }
   ],
   "source": [
    "len(movies_metadata)"
   ]
  },
  {
   "cell_type": "markdown",
   "metadata": {},
   "source": [
    "Objectif : mettre title au même format que title de la table \"movie\" afin de voir si la fusion est pertinente. \n",
    "Si oui, garder les films en communs."
   ]
  },
  {
   "cell_type": "code",
   "execution_count": 15,
   "metadata": {},
   "outputs": [
    {
     "data": {
      "text/plain": [
       "0                          Toy Story (1995)\n",
       "1                            Jumanji (1995)\n",
       "2                   Grumpier Old Men (1995)\n",
       "3                  Waiting to Exhale (1995)\n",
       "4        Father of the Bride Part II (1995)\n",
       "                        ...                \n",
       "45461                                   NaN\n",
       "45462            Century of Birthing (2011)\n",
       "45463                       Betrayal (2003)\n",
       "45464               Satan Triumphant (1917)\n",
       "45465                       Queerama (2017)\n",
       "Name: title_clean, Length: 45466, dtype: object"
      ]
     },
     "execution_count": 15,
     "metadata": {},
     "output_type": "execute_result"
    }
   ],
   "source": [
    "movies_metadata[\"title_clean\"] = movies_metadata[\"title\"] + \" (\" + movies_metadata[\"release_date\"].str[:4].str.strip() + \")\"\n",
    "movies_metadata[\"title_clean\"]"
   ]
  },
  {
   "cell_type": "code",
   "execution_count": 16,
   "metadata": {},
   "outputs": [
    {
     "data": {
      "text/plain": [
       "90"
      ]
     },
     "execution_count": 16,
     "metadata": {},
     "output_type": "execute_result"
    }
   ],
   "source": [
    "movies_metadata[\"title_clean\"].isnull().sum()"
   ]
  },
  {
   "cell_type": "code",
   "execution_count": 18,
   "metadata": {},
   "outputs": [
    {
     "name": "stdout",
     "output_type": "stream",
     "text": [
      "45296\n",
      "45376\n"
     ]
    }
   ],
   "source": [
    "# 45296 films uniques\n",
    "print(len(movies_metadata[\"title_clean\"].unique()\n",
    "))\n",
    "\n",
    "# 45376 observations non nulles\n",
    "print(movies_metadata[\"title_clean\"].notnull().sum())"
   ]
  },
  {
   "cell_type": "code",
   "execution_count": null,
   "metadata": {},
   "outputs": [
    {
     "name": "stdout",
     "output_type": "stream",
     "text": [
      "3027\n",
      "77.95518928663404\n"
     ]
    }
   ],
   "source": [
    "liste_movies_metadata = set(movies_metadata[\"title_clean\"].to_list()) # Liste de films uniques de 'movies_metadata'\n",
    "liste_movies_movies = set(movie[\"title_clean\"]) # Liste de films uniques de 'movies'\n",
    "\n",
    "print(len(liste_movies_metadata.intersection(liste_movies_movies))\n",
    ") \n",
    "print(len(liste_movies_metadata.intersection(liste_movies_movies)) / len(movie) * 100\n",
    ")\n",
    "\n",
    "# 3027 films en communs dans les deux bases. \n",
    "# 78% des films présents dans metadata le sont aussi dans movie"
   ]
  },
  {
   "cell_type": "markdown",
   "metadata": {},
   "source": [
    "On pourra faire la récupération de 78% des films environ. On récupère ses films car ils contiennet les synopsis dont nous auront besoin. "
   ]
  },
  {
   "cell_type": "markdown",
   "metadata": {},
   "source": [
    "## Base de données \"movies_final\" ##"
   ]
  },
  {
   "cell_type": "markdown",
   "metadata": {},
   "source": [
    "Le but de cette section est de récuperer dans une base finale les films que l'on va utiliser avec les SYNOPSIS et d'autres informations. \n",
    "Pour cela nous allons utiliser \"movies\" et \"movies_metadata\"."
   ]
  },
  {
   "cell_type": "code",
   "execution_count": 20,
   "metadata": {},
   "outputs": [
    {
     "data": {
      "application/vnd.microsoft.datawrangler.viewer.v0+json": {
       "columns": [
        {
         "name": "index",
         "rawType": "int64",
         "type": "integer"
        },
        {
         "name": "movieId",
         "rawType": "int64",
         "type": "integer"
        },
        {
         "name": "genres_x",
         "rawType": "object",
         "type": "string"
        },
        {
         "name": "title_bis",
         "rawType": "object",
         "type": "string"
        },
        {
         "name": "title_clean",
         "rawType": "object",
         "type": "string"
        },
        {
         "name": "date",
         "rawType": "object",
         "type": "string"
        },
        {
         "name": "budget",
         "rawType": "object",
         "type": "string"
        },
        {
         "name": "overview",
         "rawType": "object",
         "type": "unknown"
        },
        {
         "name": "release_date",
         "rawType": "object",
         "type": "string"
        },
        {
         "name": "revenue",
         "rawType": "float64",
         "type": "float"
        },
        {
         "name": "tagline",
         "rawType": "object",
         "type": "unknown"
        }
       ],
       "conversionMethod": "pd.DataFrame",
       "ref": "85b8f35b-f3c3-4887-8bd8-bb1ae24e507f",
       "rows": [
        [
         "0",
         "1",
         "Animation|Children's|Comedy",
         "Toy Story",
         "Toy Story (1995)",
         "1995",
         "30000000",
         "Led by Woody, Andy's toys live happily in his room until Andy's birthday brings Buzz Lightyear onto the scene. Afraid of losing his place in Andy's heart, Woody plots against Buzz. But when circumstances separate Buzz and Woody from their owner, the duo eventually learns to put aside their differences.",
         "1995-10-30",
         "373554033.0",
         null
        ],
        [
         "1",
         "2",
         "Adventure|Children's|Fantasy",
         "Jumanji",
         "Jumanji (1995)",
         "1995",
         "65000000",
         "When siblings Judy and Peter discover an enchanted board game that opens the door to a magical world, they unwittingly invite Alan -- an adult who's been trapped inside the game for 26 years -- into their living room. Alan's only hope for freedom is to finish the game, which proves risky as all three find themselves running from giant rhinoceroses, evil monkeys and other terrifying creatures.",
         "1995-12-15",
         "262797249.0",
         "Roll the dice and unleash the excitement!"
        ],
        [
         "2",
         "3",
         "Comedy|Romance",
         "Grumpier Old Men",
         "Grumpier Old Men (1995)",
         "1995",
         "0",
         "A family wedding reignites the ancient feud between next-door neighbors and fishing buddies John and Max. Meanwhile, a sultry Italian divorcée opens a restaurant at the local bait shop, alarming the locals who worry she'll scare the fish away. But she's less interested in seafood than she is in cooking up a hot time with Max.",
         "1995-12-22",
         "0.0",
         "Still Yelling. Still Fighting. Still Ready for Love."
        ],
        [
         "3",
         "4",
         "Comedy|Drama",
         "Waiting to Exhale",
         "Waiting to Exhale (1995)",
         "1995",
         "16000000",
         "Cheated on, mistreated and stepped on, the women are holding their breath, waiting for the elusive \"good man\" to break a string of less-than-stellar lovers. Friends and confidants Vannah, Bernie, Glo and Robin talk it all out, determined to find a better way to breathe.",
         "1995-12-22",
         "81452156.0",
         "Friends are the people who let you be yourself... and never let you forget it."
        ],
        [
         "4",
         "5",
         "Comedy",
         "Father of the Bride Part II",
         "Father of the Bride Part II (1995)",
         "1995",
         "0",
         "Just when George Banks has recovered from his daughter's wedding, he receives the news that she's pregnant ... and that George's wife, Nina, is expecting too. He was planning on selling their home, but that's a plan that -- like George -- will have to change with the arrival of both a grandchild and a kid of his own.",
         "1995-02-10",
         "76578911.0",
         "Just When His World Is Back To Normal... He's In For The Surprise Of His Life!"
        ],
        [
         "5",
         "6",
         "Action|Crime|Thriller",
         "Heat",
         "Heat (1995)",
         "1995",
         "60000000",
         "Obsessive master thief, Neil McCauley leads a top-notch crew on various insane heists throughout Los Angeles while a mentally unstable detective, Vincent Hanna pursues him without rest. Each man recognizes and respects the ability and the dedication of the other even though they are aware their cat-and-mouse game may end in violence.",
         "1995-12-15",
         "187436818.0",
         "A Los Angeles Crime Saga"
        ],
        [
         "6",
         "7",
         "Comedy|Romance",
         "Sabrina",
         "Sabrina (1995)",
         "1995",
         "58000000",
         "An ugly duckling having undergone a remarkable change, still harbors feelings for her crush: a carefree playboy, but not before his business-focused brother has something to say about it.",
         "1995-12-15",
         "0.0",
         "You are cordially invited to the most surprising merger of the year."
        ],
        [
         "7",
         "8",
         "Adventure|Children's",
         "Tom and Huck",
         "Tom and Huck (1995)",
         "1995",
         "0",
         "A mischievous young boy, Tom Sawyer, witnesses a murder by the deadly Injun Joe. Tom becomes friends with Huckleberry Finn, a boy with no future and no family. Tom has to choose between honoring a friendship or honoring an oath because the town alcoholic is accused of the murder. Tom and Huck go through several adventures trying to retrieve evidence.",
         "1995-12-22",
         "0.0",
         "The Original Bad Boys."
        ],
        [
         "8",
         "9",
         "Action",
         "Sudden Death",
         "Sudden Death (1995)",
         "1995",
         "35000000",
         "International action superstar Jean Claude Van Damme teams with Powers Boothe in a Tension-packed, suspense thriller, set against the back-drop of a Stanley Cup game.Van Damme portrays a father whose daughter is suddenly taken during a championship hockey game. With the captors demanding a billion dollars by game's end, Van Damme frantically sets a plan in motion to rescue his daughter and abort an impending explosion before the final buzzer...",
         "1995-12-22",
         "64350171.0",
         "Terror goes into overtime."
        ],
        [
         "9",
         "10",
         "Action|Adventure|Thriller",
         "GoldenEye",
         "GoldenEye (1995)",
         "1995",
         "58000000",
         "James Bond must unmask the mysterious head of the Janus Syndicate and prevent the leader from utilizing the GoldenEye weapons system to inflict devastating revenge on Britain.",
         "1995-11-16",
         "352194034.0",
         "No limits. No fears. No substitutes."
        ],
        [
         "10",
         "11",
         "Comedy|Drama|Romance",
         "American President, The",
         "The American President (1995)",
         "1995",
         "62000000",
         "Widowed U.S. president Andrew Shepherd, one of the world's most powerful men, can have anything he wants -- and what he covets most is Sydney Ellen Wade, a Washington lobbyist. But Shepherd's attempts at courting her spark wild rumors and decimate his approval ratings.",
         "1995-11-17",
         "107879496.0",
         "Why can't the most powerful man in the world have the one thing he wants most?"
        ],
        [
         "11",
         "12",
         "Comedy|Horror",
         "Dracula: Dead and Loving It",
         "Dracula: Dead and Loving It (1995)",
         "1995",
         "0",
         "When a lawyer shows up at the vampire's doorstep, he falls prey to his charms and joins him in his search for fresh blood. Enter Dr. van Helsing, who may be the only one able to vanquish the count.",
         "1995-12-22",
         "0.0",
         null
        ],
        [
         "12",
         "13",
         "Animation|Children's",
         "Balto",
         "Balto (1995)",
         "1995",
         "0",
         "An outcast half-wolf risks his life to prevent a deadly epidemic from ravaging Nome, Alaska.",
         "1995-12-22",
         "11348324.0",
         "Part Dog. Part Wolf. All Hero."
        ],
        [
         "13",
         "14",
         "Drama",
         "Nixon",
         "Nixon (1995)",
         "1995",
         "44000000",
         "An all-star cast powers this epic look at American President Richard M. Nixon, a man carrying the fate of the world on his shoulders while battling the self-destructive demands within. Spanning his troubled boyhood in California to the shocking Watergate scandal that would end his presidency.",
         "1995-12-22",
         "13681765.0",
         "Triumphant in Victory, Bitter in Defeat. He Changed the World, But Lost a Nation."
        ],
        [
         "14",
         "15",
         "Action|Adventure|Romance",
         "Cutthroat Island",
         "Cutthroat Island (1995)",
         "1995",
         "98000000",
         "Morgan Adams and her slave, William Shaw, are on a quest to recover the three portions of a treasure map. Unfortunately, the final portion is held by her murderous uncle, Dawg. Her crew is skeptical of her leadership abilities, so she must complete her quest before they mutiny against her. This is made yet more difficult by the efforts of the British crown to end her pirate raids.",
         "1995-12-22",
         "10017322.0",
         "The Course Has Been Set. There Is No Turning Back. Prepare Your Weapons. Summon Your Courage. Discover the Adventure of a Lifetime!"
        ],
        [
         "15",
         "16",
         "Drama|Thriller",
         "Casino",
         "Casino (1995)",
         "1995",
         "52000000",
         "The life of the gambling paradise – Las Vegas – and its dark mafia underbelly.",
         "1995-11-22",
         "116112375.0",
         "No one stays at the top forever."
        ],
        [
         "16",
         "17",
         "Drama|Romance",
         "Sense and Sensibility",
         "Sense and Sensibility (1995)",
         "1995",
         "16500000",
         "Rich Mr. Dashwood dies, leaving his second wife and her daughters poor by the rules of inheritance. Two daughters are the titular opposites.",
         "1995-12-13",
         "135000000.0",
         "Lose your heart and come to your senses."
        ],
        [
         "17",
         "18",
         "Thriller",
         "Four Rooms",
         "Four Rooms (1995)",
         "1995",
         "4000000",
         "It's Ted the Bellhop's first night on the job...and the hotel's very unusual guests are about to place him in some outrageous predicaments. It seems that this evening's room service is serving up one unbelievable happening after another.",
         "1995-12-09",
         "4300000.0",
         "Twelve outrageous guests. Four scandalous requests. And one lone bellhop, in his first day on the job, who's in for the wildest New year's Eve of his life."
        ],
        [
         "18",
         "19",
         "Comedy",
         "Ace Ventura: When Nature Calls",
         "Ace Ventura: When Nature Calls (1995)",
         "1995",
         "30000000",
         "Summoned from an ashram in Tibet, Ace finds himself on a perilous journey into the jungles of Africa to find Shikaka, the missing sacred animal of the friendly Wachati tribe. He must accomplish this before the wedding of the Wachati's Princess to the prince of the warrior Wachootoos. If Ace fails, the result will be a vicious tribal war.",
         "1995-11-10",
         "212385533.0",
         "New animals. New adventures. Same hair."
        ],
        [
         "19",
         "20",
         "Action",
         "Money Train",
         "Money Train (1995)",
         "1995",
         "60000000",
         "A vengeful New York transit cop decides to steal a trainload of subway fares; his foster brother, a fellow cop, tries to protect him.",
         "1995-11-21",
         "35431113.0",
         "Get on, or GET OUT THE WAY!"
        ],
        [
         "20",
         "21",
         "Action|Comedy|Drama",
         "Get Shorty",
         "Get Shorty (1995)",
         "1995",
         "30250000",
         "Chili Palmer is a Miami mobster who gets sent by his boss, the psychopathic \"Bones\" Barboni, to collect a bad debt from Harry Zimm, a Hollywood producer who specializes in cheesy horror films. When Chili meets Harry's leading lady, the romantic sparks fly. After pitching his own life story as a movie idea, Chili learns that being a mobster and being a Hollywood producer really aren't all that different.",
         "1995-10-20",
         "115101622.0",
         "The mob is tough, but it’s nothing like show business."
        ],
        [
         "21",
         "22",
         "Crime|Drama|Thriller",
         "Copycat",
         "Copycat (1995)",
         "1995",
         "0",
         "An agoraphobic psychologist and a female detective must work together to take down a serial killer who copies serial killers from the past.",
         "1995-10-27",
         "0.0",
         "One man is copying the most notorious killers in history one at a time. Together, two women must stop him from killing again. Or they're next."
        ],
        [
         "22",
         "23",
         "Thriller",
         "Assassins",
         "Assassins (1995)",
         "1995",
         "50000000",
         "Assassin Robert Rath arrives at a funeral to kill a prominent mobster, only to witness a rival hired gun complete the job for him -- with grisly results. Horrified by the murder of innocent bystanders, Rath decides to take one last job and then return to civilian life. But finding his way out of the world of contract killing grows ever more dangerous as Rath falls for his female target and becomes a marked man himself.",
         "1995-10-06",
         "30303072.0",
         "In the shadows of life, In the business of death, One man found a reason to live..."
        ],
        [
         "23",
         "24",
         "Drama|Sci-Fi",
         "Powder",
         "Powder (1995)",
         "1995",
         "0",
         "Harassed by classmates who won't accept his shocking appearance, a shy young man known as \"Powder\" struggles to fit in. But the cruel taunts stop when Powder displays a mysterious power that allows him to do incredible things. This phenomenon changes the lives of all those around him in ways they never could have imagined.",
         "1995-10-27",
         "0.0",
         "An extraordinary encounter with another human being."
        ],
        [
         "24",
         "25",
         "Drama|Romance",
         "Leaving Las Vegas",
         "Leaving Las Vegas (1995)",
         "1995",
         "3600000",
         "Ben Sanderson, an alcoholic Hollywood screenwriter who lost everything because of his drinking, arrives in Las Vegas to drink himself to death. There, he meets and forms an uneasy friendship and non-interference pact with prostitute Sera.",
         "1995-10-27",
         "49800000.0",
         "I Love You... The Way You Are."
        ],
        [
         "25",
         "26",
         "Drama",
         "Othello",
         "Othello (1995)",
         "1995",
         "0",
         "The evil Iago pretends to be friend of Othello in order to manipulate him to serve his own end in the film version of this Shakespeare classic.",
         "1995-12-15",
         "0.0",
         "Envy, greed, jealousy and love."
        ],
        [
         "26",
         "27",
         "Drama",
         "Now and Then",
         "Now and Then (1995)",
         "1995",
         "12000000",
         "Waxing nostalgic about the bittersweet passage from childhood to puberty in this tender coming-of-age tale, four childhood girlfriends -- Teeny, Chrissy, Samantha and Roberta -- recall the magical summer of 1970. During their walk down memory lane, they reconcile experiences with boys, secrets, bullies and more.",
         "1995-10-20",
         "27400000.0",
         "In every woman there is the girl she left behind."
        ],
        [
         "27",
         "28",
         "Romance",
         "Persuasion",
         "Persuasion (1995)",
         "1995",
         "0",
         "This film adaptation of Jane Austen's last novel follows Anne Elliot, the daughter of a financially troubled aristocratic family, who is persuaded to break her engagement to Frederick Wentworth, a young sea captain of meager means. Years later, money troubles force Anne's father to rent out the family estate to Admiral Croft, and Anne is again thrown into company with Frederick -- who is now rich, successful and perhaps still in love with Anne.",
         "1995-09-27",
         "0.0",
         null
        ],
        [
         "28",
         "29",
         "Adventure|Sci-Fi",
         "City of Lost Children, The",
         "The City of Lost Children (1995)",
         "1995",
         "18000000",
         "A scientist in a surrealist society kidnaps children to steal their dreams, hoping that they slow his aging process.",
         "1995-05-16",
         "1738611.0",
         "Where happily ever after is just a dream."
        ],
        [
         "29",
         "31",
         "Drama",
         "Dangerous Minds",
         "Dangerous Minds (1995)",
         "1995",
         "0",
         "Former Marine Louanne Johnson lands a gig teaching in a pilot program for bright but underachieving teens at a notorious inner-city high school. After having a terrible first day, she decides she must throw decorum to the wind. When Johnson returns to the classroom, she does so armed with a no-nonsense attitude informed by her military training and a fearless determination to better the lives of her students -- no matter what the cost.",
         "1995-08-11",
         "180000000.0",
         "She broke the rules... and changed their lives."
        ],
        [
         "30",
         "32",
         "Drama|Sci-Fi",
         "Twelve Monkeys",
         "Twelve Monkeys (1995)",
         "1995",
         "29500000",
         "In the year 2035, convict James Cole reluctantly volunteers to be sent back in time to discover the origin of a deadly virus that wiped out nearly all of the earth's population and forced the survivors into underground communities. But when Cole is mistakenly sent to 1990 instead of 1996, he's arrested and locked up in a mental hospital. There he meets psychiatrist Dr. Kathryn Railly, and patient Jeffrey Goines, the son of a famous virus expert, who may hold the key to the mysterious rogue group, the Army of the 12 Monkeys, thought to be responsible for unleashing the killer disease.",
         "1995-12-29",
         "168840000.0",
         "The future is history."
        ],
        [
         "31",
         "34",
         "Children's|Comedy|Drama",
         "Babe",
         "Babe (1995)",
         "1995",
         "30000000",
         "Babe is a little pig who doesn't quite know his place in the world. With a bunch of odd friends, like Ferdinand the duck who thinks he is a rooster and Fly the dog he calls mom, Babe realizes that he has the makings to become the greatest sheep pig of all time, and Farmer Hogget knows it. With the help of the sheep dogs Babe learns that a pig can be anything that he wants to be.",
         "1995-07-18",
         "254134910.0",
         "A little pig goes a long way."
        ],
        [
         "32",
         "35",
         "Drama|Romance",
         "Carrington",
         "Carrington (1995)",
         "1995",
         "0",
         "The story of the relationship between painter Dora Carrington and author Lytton Strachey in a World War One England of cottages and countryside. Although platonic due to Strachey's homosexuality, the relationship was nevertheless a deep and complicated one. When Carrington did develop a more physical relationship with soldier Ralph Partridge, Strachey was able to welcome him as a friend, although Partridge remained somewhat uneasy, not so much with Strachey's lifestyle and sexual orientation as with the fact that he was a conscientious objector.",
         "1995-11-08",
         "0.0",
         "A Love so Unusual it has to be True"
        ],
        [
         "33",
         "36",
         "Drama",
         "Dead Man Walking",
         "Dead Man Walking (1995)",
         "1995",
         "11000000",
         "A justice drama based on a true story about a man on death row who in his last days forms a strong relationship with a nun who teaches him forgiveness and gives him spirituality as she accompanies him to his execution. Susan Sarandon won an Oscar for best female actress for her convincing portrayal of Sister Helen Prejean.",
         "1995-12-29",
         "39363635.0",
         null
        ],
        [
         "34",
         "37",
         "Documentary",
         "Across the Sea of Time",
         "Across the Sea of Time (1995)",
         "1995",
         "0",
         "A young Russian boy, Thomas Minton, travels to New York as a passenger on a Russian freighter. Close to Ellis Island he gets off and thus starts his journey to America the same way as all immigrants in former times. Thomas is searching for the family of one of his ancestors, who had emigrated decades ago, but once sent a letter home together with a sample of his new profession: 3D-Photography. The boy follows his relative's traces by counter-checking the old 3D-Photographs of New York (using an antique viewer) with the same places and how they look today. This way, the audience gets to see the Big Apple in former times as well as today.",
         "1995-10-20",
         "0.0",
         null
        ],
        [
         "35",
         "38",
         "Comedy",
         "It Takes Two",
         "It Takes Two (1995)",
         "1995",
         "0",
         "Identical 9-year-olds from very different backgrounds: orphaned Amanda and wealthy Alyssa meet at summer camp and decide to switch places -- and play matchmaker between Alyssa's dad, Roger, and the kind social worker who cares for Amanda.",
         "1995-11-17",
         "0.0",
         "Two identical strangers. Two different worlds. One perfect match."
        ],
        [
         "36",
         "39",
         "Comedy|Romance",
         "Clueless",
         "Clueless (1995)",
         "1995",
         "12000000",
         "Shallow, rich and socially successful Cher is at the top of her Beverly Hills high school's pecking scale. Seeing herself as a matchmaker, Cher first coaxes two teachers into dating each other. Emboldened by her success, she decides to give hopelessly klutzy new student Tai a makeover. When Tai becomes more popular than she is, Cher realizes that her disapproving ex-stepbrother was right about how misguided she was -- and falls for him.",
         "1995-07-19",
         "0.0",
         "Sex. Clothes. Popularity. Is there a problem here?"
        ],
        [
         "37",
         "40",
         "Drama",
         "Cry, the Beloved Country",
         "Cry, the Beloved Country (1995)",
         "1995",
         "0",
         "A South-African preacher goes to search for his wayward son who has committed a crime in the big city.",
         "1995-12-15",
         "676525.0",
         null
        ],
        [
         "38",
         "41",
         "Drama|War",
         "Richard III",
         "Richard III (1995)",
         "1995",
         "0",
         "Shakespeare's Play transplanted into a 1930s setting.",
         "1995-12-29",
         "0.0",
         "I can smile, and murder while I smile"
        ],
        [
         "39",
         "42",
         "Action|Crime|Drama",
         "Dead Presidents",
         "Dead Presidents (1995)",
         "1995",
         "10000000",
         "Depicts a heist of old bills, retired from circulation and destined by the government to be \"money to burn\". However, more broadly, it addresses the issues of Black Americans' involvement in the Vietnam War and their subsequent disillusionment with progress in social issues and civil rights back home in the United States, during the 1960s.",
         "1995-10-06",
         "0.0",
         "In this daring heist, the only color that counts is green"
        ],
        [
         "40",
         "43",
         "Drama",
         "Restoration",
         "Restoration (1995)",
         "1995",
         "19000000",
         "An aspiring young physician, Robert Merivel found himself in the service of King Charles II and saves the life of someone close to the King. Merivel joins the King's court and lives the high life provided to someone of his position. Merivel is ordered to marry his King's mistress in order to divert the queens suspicions. He is given one order by the king and that is not to fall in love. The situation worsens when Merivel finds himself in love with his new wife. Eventually, the King finds out and relieves Merivel of his position and wealth. His fall from grace leaves Merivel where he first started. And through his travels and reunions with an old friend, he rediscovers his love for true medicine and what it really means to be a physician.",
         "1995-12-29",
         "0.0",
         null
        ],
        [
         "41",
         "44",
         "Action|Adventure",
         "Mortal Kombat",
         "Mortal Kombat (1995)",
         "1995",
         "18000000",
         "For nine generations an evil sorcerer has been victorious in hand-to-hand battle against his mortal enemies. If he wins a tenth Mortal Kombat tournament, desolation and evil will reign over the multiverse forever. To save Earth, three warriors must overcome seemingly insurmountable odds, their own inner demons, and superhuman foes in this action/adventure movie based on one of the most popular video games of all time.",
         "1995-08-18",
         "122195920.0",
         "Nothing In This World Has Prepared You For This."
        ],
        [
         "42",
         "45",
         "Comedy|Drama",
         "To Die For",
         "To Die For (1995)",
         "1995",
         "20000000",
         "Susan wants to work in television and will therefore do anything it takes, even if it means killing her husband. A very dark comedy from independent director Gus Van Sant with a brilliant Nicole Kidman in the leading role.",
         "1995-05-20",
         "21284514.0",
         "All she wanted was a little attention."
        ],
        [
         "43",
         "48",
         "Animation|Children's|Musical|Romance",
         "Pocahontas",
         "Pocahontas (1995)",
         "1995",
         "55000000",
         "History comes gloriously to life in Disney's epic animated tale about love and adventure in the New World. Pocahontas is a Native American woman whose father has arranged for her to marry her village's best warrior. But a vision tells her change is coming, and soon she comes face to face with it in the form of Capt. John Smith.",
         "1995-06-14",
         "346079773.0",
         "An American legend comes to life."
        ],
        [
         "44",
         "49",
         "Drama|Romance",
         "When Night Is Falling",
         "When Night Is Falling (1995)",
         "1995",
         "0",
         "A prudish woman, working on tenure as a literacy professor at a large urban university, finds herself strangely attracted to a free-spirited, liberal woman whom works at a local carnival which comes to town.",
         "1995-05-05",
         "0.0",
         null
        ],
        [
         "45",
         "50",
         "Crime|Thriller",
         "Usual Suspects, The",
         "The Usual Suspects (1995)",
         "1995",
         "6000000",
         "Held in an L.A. interrogation room, Verbal Kint attempts to convince the feds that a mythic crime lord, Keyser Soze, not only exists, but was also responsible for drawing him and his four partners into a multi-million dollar heist that ended with an explosion in San Pedro harbor – leaving few survivors. Verbal lures his interrogators with an incredible story of the crime lord's almost supernatural prowess.",
         "1995-07-19",
         "23341568.0",
         "Five Criminals. One Line Up. No Coincidence."
        ],
        [
         "46",
         "51",
         "Action|Drama|Thriller",
         "Guardian Angel",
         "Guardian Angel (1994)",
         "1994",
         "0",
         "Detective - turned - bodyguard Cynthia McKay (Cynthia Rothrock) is hired by a psychotic icy seductress, Nina Lindell (Lydie Denier), the same woman who killed Mckay's lover months earlier.  With vendetta in her heart McKay accompanies the flamboyantly playful womanizer through the glamourous world of the super-rich as his protector.  In a unique role reversal, it is the woman protecting the man from another woman, erupting into a deadly triangle of passion, suspense and action.",
         "1994-11-22",
         "0.0",
         "She's no angel of mercy."
        ],
        [
         "47",
         "52",
         "Comedy",
         "Mighty Aphrodite",
         "Mighty Aphrodite (1995)",
         "1995",
         "15000000",
         "When Lenny and his wife, Amanda, adopt a baby, Lenny realizes that his son is a genius and becomes obsessed with finding the boy's biological mother in hopes that she will be brilliant too. But when he learns that Max's mother is Linda Ash, a kindhearted prostitute and porn star, Lenny is determined to reform her immoral lifestyle. A Greek chorus chimes in to relate the plot to Greek mythology in this quirky comedy.",
         "1995-09-13",
         "6700000.0",
         null
        ],
        [
         "48",
         "53",
         "Drama",
         "Lamerica",
         "Lamerica (1994)",
         "1994",
         "0",
         "Fiore, an Italian conman, arrives in post Communist Albania with Gino, his young apprentice, to set up a shoe factory that will never open. The con requires a native Albanian, so they designate Spiro, an impoverished and confused former political prisoner as chairman of the board. When Fiore returns to Italy to get government funds for the project, Spiro unexpectedly disappears and Gino sets out on a journey to find him. The search leads him to discover Spiro's tragic personal history and witness Albanian poverty firsthand.",
         "1994-01-01",
         "0.0",
         null
        ],
        [
         "49",
         "54",
         "Children's|Comedy",
         "Big Green, The",
         "The Big Green (1995)",
         "1995",
         "0",
         "In a depressed Texas town, British foreign exchange teacher Anna attempts to inject some life into her hopeless kids by introducing them to soccer. They're terrible at first, but Anna and her football-hero assistant whip them into shape. As they work overtime, the pair help kids build their self-esteem and also get involved in solving family squabbles.",
         "1995-09-29",
         "0.0",
         "The biggest kick of the year!"
        ]
       ],
       "shape": {
        "columns": 10,
        "rows": 3033
       }
      },
      "text/html": [
       "<div>\n",
       "<style scoped>\n",
       "    .dataframe tbody tr th:only-of-type {\n",
       "        vertical-align: middle;\n",
       "    }\n",
       "\n",
       "    .dataframe tbody tr th {\n",
       "        vertical-align: top;\n",
       "    }\n",
       "\n",
       "    .dataframe thead th {\n",
       "        text-align: right;\n",
       "    }\n",
       "</style>\n",
       "<table border=\"1\" class=\"dataframe\">\n",
       "  <thead>\n",
       "    <tr style=\"text-align: right;\">\n",
       "      <th></th>\n",
       "      <th>movieId</th>\n",
       "      <th>genres_x</th>\n",
       "      <th>title_bis</th>\n",
       "      <th>title_clean</th>\n",
       "      <th>date</th>\n",
       "      <th>budget</th>\n",
       "      <th>overview</th>\n",
       "      <th>release_date</th>\n",
       "      <th>revenue</th>\n",
       "      <th>tagline</th>\n",
       "    </tr>\n",
       "  </thead>\n",
       "  <tbody>\n",
       "    <tr>\n",
       "      <th>0</th>\n",
       "      <td>1</td>\n",
       "      <td>Animation|Children's|Comedy</td>\n",
       "      <td>Toy Story</td>\n",
       "      <td>Toy Story (1995)</td>\n",
       "      <td>1995</td>\n",
       "      <td>30000000</td>\n",
       "      <td>Led by Woody, Andy's toys live happily in his ...</td>\n",
       "      <td>1995-10-30</td>\n",
       "      <td>373554033.0</td>\n",
       "      <td>NaN</td>\n",
       "    </tr>\n",
       "    <tr>\n",
       "      <th>1</th>\n",
       "      <td>2</td>\n",
       "      <td>Adventure|Children's|Fantasy</td>\n",
       "      <td>Jumanji</td>\n",
       "      <td>Jumanji (1995)</td>\n",
       "      <td>1995</td>\n",
       "      <td>65000000</td>\n",
       "      <td>When siblings Judy and Peter discover an encha...</td>\n",
       "      <td>1995-12-15</td>\n",
       "      <td>262797249.0</td>\n",
       "      <td>Roll the dice and unleash the excitement!</td>\n",
       "    </tr>\n",
       "    <tr>\n",
       "      <th>2</th>\n",
       "      <td>3</td>\n",
       "      <td>Comedy|Romance</td>\n",
       "      <td>Grumpier Old Men</td>\n",
       "      <td>Grumpier Old Men (1995)</td>\n",
       "      <td>1995</td>\n",
       "      <td>0</td>\n",
       "      <td>A family wedding reignites the ancient feud be...</td>\n",
       "      <td>1995-12-22</td>\n",
       "      <td>0.0</td>\n",
       "      <td>Still Yelling. Still Fighting. Still Ready for...</td>\n",
       "    </tr>\n",
       "    <tr>\n",
       "      <th>3</th>\n",
       "      <td>4</td>\n",
       "      <td>Comedy|Drama</td>\n",
       "      <td>Waiting to Exhale</td>\n",
       "      <td>Waiting to Exhale (1995)</td>\n",
       "      <td>1995</td>\n",
       "      <td>16000000</td>\n",
       "      <td>Cheated on, mistreated and stepped on, the wom...</td>\n",
       "      <td>1995-12-22</td>\n",
       "      <td>81452156.0</td>\n",
       "      <td>Friends are the people who let you be yourself...</td>\n",
       "    </tr>\n",
       "    <tr>\n",
       "      <th>4</th>\n",
       "      <td>5</td>\n",
       "      <td>Comedy</td>\n",
       "      <td>Father of the Bride Part II</td>\n",
       "      <td>Father of the Bride Part II (1995)</td>\n",
       "      <td>1995</td>\n",
       "      <td>0</td>\n",
       "      <td>Just when George Banks has recovered from his ...</td>\n",
       "      <td>1995-02-10</td>\n",
       "      <td>76578911.0</td>\n",
       "      <td>Just When His World Is Back To Normal... He's ...</td>\n",
       "    </tr>\n",
       "    <tr>\n",
       "      <th>...</th>\n",
       "      <td>...</td>\n",
       "      <td>...</td>\n",
       "      <td>...</td>\n",
       "      <td>...</td>\n",
       "      <td>...</td>\n",
       "      <td>...</td>\n",
       "      <td>...</td>\n",
       "      <td>...</td>\n",
       "      <td>...</td>\n",
       "      <td>...</td>\n",
       "    </tr>\n",
       "    <tr>\n",
       "      <th>3028</th>\n",
       "      <td>3948</td>\n",
       "      <td>Comedy</td>\n",
       "      <td>Meet the Parents</td>\n",
       "      <td>Meet the Parents (2000)</td>\n",
       "      <td>2000</td>\n",
       "      <td>55000000</td>\n",
       "      <td>Greg Focker is ready to marry his girlfriend, ...</td>\n",
       "      <td>2000-10-06</td>\n",
       "      <td>330444045.0</td>\n",
       "      <td>First comes love. Then comes the interrogation.</td>\n",
       "    </tr>\n",
       "    <tr>\n",
       "      <th>3029</th>\n",
       "      <td>3949</td>\n",
       "      <td>Drama</td>\n",
       "      <td>Requiem for a Dream</td>\n",
       "      <td>Requiem for a Dream (2000)</td>\n",
       "      <td>2000</td>\n",
       "      <td>4500000</td>\n",
       "      <td>The hopes and dreams of four ambitious people ...</td>\n",
       "      <td>2000-10-27</td>\n",
       "      <td>7390108.0</td>\n",
       "      <td>NaN</td>\n",
       "    </tr>\n",
       "    <tr>\n",
       "      <th>3030</th>\n",
       "      <td>3950</td>\n",
       "      <td>Drama</td>\n",
       "      <td>Tigerland</td>\n",
       "      <td>Tigerland (2000)</td>\n",
       "      <td>2000</td>\n",
       "      <td>10000000</td>\n",
       "      <td>A group of recruits go through Advanced Infant...</td>\n",
       "      <td>2000-09-22</td>\n",
       "      <td>0.0</td>\n",
       "      <td>The system wanted them to become soldiers. One...</td>\n",
       "    </tr>\n",
       "    <tr>\n",
       "      <th>3031</th>\n",
       "      <td>3951</td>\n",
       "      <td>Drama</td>\n",
       "      <td>Two Family House</td>\n",
       "      <td>Two Family House (2000)</td>\n",
       "      <td>2000</td>\n",
       "      <td>0</td>\n",
       "      <td>Buddy Visalo (Michael Rispoli) is a factory wo...</td>\n",
       "      <td>2000-01-21</td>\n",
       "      <td>0.0</td>\n",
       "      <td>The only way to find out what you love is to r...</td>\n",
       "    </tr>\n",
       "    <tr>\n",
       "      <th>3032</th>\n",
       "      <td>3952</td>\n",
       "      <td>Drama|Thriller</td>\n",
       "      <td>Contender, The</td>\n",
       "      <td>The Contender (2000)</td>\n",
       "      <td>2000</td>\n",
       "      <td>9000000</td>\n",
       "      <td>Political thriller about Laine Hanson's nomina...</td>\n",
       "      <td>2000-10-13</td>\n",
       "      <td>0.0</td>\n",
       "      <td>Sometimes you can assassinate a leader without...</td>\n",
       "    </tr>\n",
       "  </tbody>\n",
       "</table>\n",
       "<p>3033 rows × 10 columns</p>\n",
       "</div>"
      ],
      "text/plain": [
       "      movieId                      genres_x                    title_bis  \\\n",
       "0           1   Animation|Children's|Comedy                    Toy Story   \n",
       "1           2  Adventure|Children's|Fantasy                      Jumanji   \n",
       "2           3                Comedy|Romance             Grumpier Old Men   \n",
       "3           4                  Comedy|Drama            Waiting to Exhale   \n",
       "4           5                        Comedy  Father of the Bride Part II   \n",
       "...       ...                           ...                          ...   \n",
       "3028     3948                        Comedy             Meet the Parents   \n",
       "3029     3949                         Drama          Requiem for a Dream   \n",
       "3030     3950                         Drama                    Tigerland   \n",
       "3031     3951                         Drama             Two Family House   \n",
       "3032     3952                Drama|Thriller               Contender, The   \n",
       "\n",
       "                             title_clean  date    budget  \\\n",
       "0                       Toy Story (1995)  1995  30000000   \n",
       "1                         Jumanji (1995)  1995  65000000   \n",
       "2                Grumpier Old Men (1995)  1995         0   \n",
       "3               Waiting to Exhale (1995)  1995  16000000   \n",
       "4     Father of the Bride Part II (1995)  1995         0   \n",
       "...                                  ...   ...       ...   \n",
       "3028             Meet the Parents (2000)  2000  55000000   \n",
       "3029          Requiem for a Dream (2000)  2000   4500000   \n",
       "3030                    Tigerland (2000)  2000  10000000   \n",
       "3031             Two Family House (2000)  2000         0   \n",
       "3032                The Contender (2000)  2000   9000000   \n",
       "\n",
       "                                               overview release_date  \\\n",
       "0     Led by Woody, Andy's toys live happily in his ...   1995-10-30   \n",
       "1     When siblings Judy and Peter discover an encha...   1995-12-15   \n",
       "2     A family wedding reignites the ancient feud be...   1995-12-22   \n",
       "3     Cheated on, mistreated and stepped on, the wom...   1995-12-22   \n",
       "4     Just when George Banks has recovered from his ...   1995-02-10   \n",
       "...                                                 ...          ...   \n",
       "3028  Greg Focker is ready to marry his girlfriend, ...   2000-10-06   \n",
       "3029  The hopes and dreams of four ambitious people ...   2000-10-27   \n",
       "3030  A group of recruits go through Advanced Infant...   2000-09-22   \n",
       "3031  Buddy Visalo (Michael Rispoli) is a factory wo...   2000-01-21   \n",
       "3032  Political thriller about Laine Hanson's nomina...   2000-10-13   \n",
       "\n",
       "          revenue                                            tagline  \n",
       "0     373554033.0                                                NaN  \n",
       "1     262797249.0          Roll the dice and unleash the excitement!  \n",
       "2             0.0  Still Yelling. Still Fighting. Still Ready for...  \n",
       "3      81452156.0  Friends are the people who let you be yourself...  \n",
       "4      76578911.0  Just When His World Is Back To Normal... He's ...  \n",
       "...           ...                                                ...  \n",
       "3028  330444045.0    First comes love. Then comes the interrogation.  \n",
       "3029    7390108.0                                                NaN  \n",
       "3030          0.0  The system wanted them to become soldiers. One...  \n",
       "3031          0.0  The only way to find out what you love is to r...  \n",
       "3032          0.0  Sometimes you can assassinate a leader without...  \n",
       "\n",
       "[3033 rows x 10 columns]"
      ]
     },
     "execution_count": 20,
     "metadata": {},
     "output_type": "execute_result"
    }
   ],
   "source": [
    "movies_final = pd.merge(movie, \n",
    "                  movies_metadata, \n",
    "                  on = \"title_clean\", \n",
    "                  how = \"inner\")\n",
    "\n",
    "movies_final.drop([\"adult\", \"belongs_to_collection\", \"genres_y\", \"homepage\", \"id\", \"imdb_id\", \n",
    "                   \"original_language\", \"original_title\", \"status\", \"video\", \"vote_count\", \"vote_average\", \n",
    "                   \"title_x\", \"title_y\", \"popularity\", \"poster_path\", \"production_companies\", \n",
    "                   \"production_countries\", \"runtime\", \"spoken_languages\"], \n",
    "                  axis = 1, \n",
    "                  inplace = True)\n",
    "\n",
    "movies_final"
   ]
  },
  {
   "cell_type": "markdown",
   "metadata": {},
   "source": [
    "Il reste 6 doublons. "
   ]
  },
  {
   "cell_type": "code",
   "execution_count": 21,
   "metadata": {},
   "outputs": [
    {
     "data": {
      "text/plain": [
       "title_clean\n",
       "Gossip (2000)                2\n",
       "A Farewell to Arms (1932)    2\n",
       "Soldier (1998)               2\n",
       "Hamlet (2000)                2\n",
       "Emma (1996)                  2\n",
       "The Castle (1997)            2\n",
       "Name: count, dtype: int64"
      ]
     },
     "execution_count": 21,
     "metadata": {},
     "output_type": "execute_result"
    }
   ],
   "source": [
    "doublons = movies_final[\"title_clean\"].value_counts()\n",
    "doublons = doublons[doublons == 2]\n",
    "doublons"
   ]
  },
  {
   "cell_type": "code",
   "execution_count": 22,
   "metadata": {},
   "outputs": [
    {
     "data": {
      "text/plain": [
       "['Gossip (2000)',\n",
       " 'A Farewell to Arms (1932)',\n",
       " 'Soldier (1998)',\n",
       " 'Hamlet (2000)',\n",
       " 'Emma (1996)',\n",
       " 'The Castle (1997)']"
      ]
     },
     "execution_count": 22,
     "metadata": {},
     "output_type": "execute_result"
    }
   ],
   "source": [
    "doublons_movies = doublons.index.tolist()\n",
    "doublons_movies"
   ]
  },
  {
   "cell_type": "code",
   "execution_count": null,
   "metadata": {},
   "outputs": [
    {
     "data": {
      "application/vnd.microsoft.datawrangler.viewer.v0+json": {
       "columns": [
        {
         "name": "index",
         "rawType": "int64",
         "type": "integer"
        },
        {
         "name": "movieId",
         "rawType": "int64",
         "type": "integer"
        },
        {
         "name": "genres_x",
         "rawType": "object",
         "type": "string"
        },
        {
         "name": "title_bis",
         "rawType": "object",
         "type": "string"
        },
        {
         "name": "title_clean",
         "rawType": "object",
         "type": "string"
        },
        {
         "name": "date",
         "rawType": "object",
         "type": "string"
        },
        {
         "name": "budget",
         "rawType": "object",
         "type": "string"
        },
        {
         "name": "overview",
         "rawType": "object",
         "type": "string"
        },
        {
         "name": "release_date",
         "rawType": "object",
         "type": "string"
        },
        {
         "name": "revenue",
         "rawType": "float64",
         "type": "float"
        },
        {
         "name": "tagline",
         "rawType": "object",
         "type": "string"
        }
       ],
       "conversionMethod": "pd.DataFrame",
       "ref": "3a44a051-b848-4cfb-9d0b-b9d03fa3d878",
       "rows": [
        [
         "638",
         "838",
         "Comedy|Drama|Romance",
         "Emma",
         "Emma (1996)",
         "1996",
         "6000000",
         "Emma Woodhouse is a congenial young lady who delights in meddling in other people’s affairs. She is perpetually trying to unite men and women who are utterly wrong for each other. Despite her interest in romance, Emma is clueless about her own feelings, and her relationship with gentle Mr. Knightly.",
         "1996-08-02",
         "22231658.0",
         "Cupid is armed and dangerous!"
        ],
        [
         "754",
         "976",
         "Romance|War",
         "Farewell to Arms, A",
         "A Farewell to Arms (1932)",
         "1932",
         "4",
         "British nurse Catherine Barkley (Helen Hayes) and American Lieutenant Frederic Henry (Gary Cooper) fall in love during the First World War in Italy. Eventually separated by Frederic's transfer, tremendous challenges and difficult decisions face each, as the war rages on. Academy Awards winner for Best Cinematography and for Best Sound, Recording. Nominated for Best Picture and for Best Art Direction.",
         "1932-12-08",
         "25.0",
         "Every woman who has loved will understand"
        ],
        [
         "1776",
         "2322",
         "Action|Adventure|Sci-Fi|Thriller|War",
         "Soldier",
         "Soldier (1998)",
         "1998",
         "75000000",
         "Sergeant Todd is a veteran soldier for an elite group of the armed forces. After being defeated by a new breed of genetically engineered soldiers, he is dumped on a waste planet and left for dead. He soon interacts with a group of crash survivors who lead out a peaceful existence. The peace is broken as the new soldiers land on the planet to eliminate the colony, which Sergeant Todd must defend.",
         "1998-10-23",
         "14567883.0",
         "Left for dead on a remote planet for obsolete machines and people, a fallen hero has one last battle to fight"
        ],
        [
         "2015",
         "2618",
         "Comedy",
         "Castle, The",
         "The Castle (1997)",
         "1997",
         "786675",
         "A Melbourne family is very happy living near the Melbourne airport. However, they are forced to leave their beloved home (by the Government and airport authorities) to make way for more runways. 'The Castle' is the story of how they fight to remain in their home.",
         "1997-04-10",
         "861789.0",
         "Ordinary Family. Extraordinary Story."
        ],
        [
         "2734",
         "3553",
         "Drama|Thriller",
         "Gossip",
         "Gossip (2000)",
         "2000",
         "14000000",
         "On a beautiful college campus, something ugly is about to be spread around. A bit of gossip that was told is starting to take a frightening turn. Who could it have offended and how far will the person on the other side of the gossip handle the embarrassing situation.",
         "2000-04-21",
         "5108820.0",
         "It can turn you on, or turn on you."
        ],
        [
         "2764",
         "3598",
         "Drama",
         "Hamlet",
         "Hamlet (2000)",
         "2000",
         "2000000",
         "Modern day adaptation of Shakespeare's immortal story about Hamlet's plight to avenge his father's murder in New York City.",
         "2000-05-12",
         "1568749.0",
         "Passion, Betrayal, Revenge, A hostile takeover is underway."
        ]
       ],
       "shape": {
        "columns": 10,
        "rows": 6
       }
      },
      "text/html": [
       "<div>\n",
       "<style scoped>\n",
       "    .dataframe tbody tr th:only-of-type {\n",
       "        vertical-align: middle;\n",
       "    }\n",
       "\n",
       "    .dataframe tbody tr th {\n",
       "        vertical-align: top;\n",
       "    }\n",
       "\n",
       "    .dataframe thead th {\n",
       "        text-align: right;\n",
       "    }\n",
       "</style>\n",
       "<table border=\"1\" class=\"dataframe\">\n",
       "  <thead>\n",
       "    <tr style=\"text-align: right;\">\n",
       "      <th></th>\n",
       "      <th>movieId</th>\n",
       "      <th>genres_x</th>\n",
       "      <th>title_bis</th>\n",
       "      <th>title_clean</th>\n",
       "      <th>date</th>\n",
       "      <th>budget</th>\n",
       "      <th>overview</th>\n",
       "      <th>release_date</th>\n",
       "      <th>revenue</th>\n",
       "      <th>tagline</th>\n",
       "    </tr>\n",
       "  </thead>\n",
       "  <tbody>\n",
       "    <tr>\n",
       "      <th>638</th>\n",
       "      <td>838</td>\n",
       "      <td>Comedy|Drama|Romance</td>\n",
       "      <td>Emma</td>\n",
       "      <td>Emma (1996)</td>\n",
       "      <td>1996</td>\n",
       "      <td>6000000</td>\n",
       "      <td>Emma Woodhouse is a congenial young lady who d...</td>\n",
       "      <td>1996-08-02</td>\n",
       "      <td>22231658.0</td>\n",
       "      <td>Cupid is armed and dangerous!</td>\n",
       "    </tr>\n",
       "    <tr>\n",
       "      <th>754</th>\n",
       "      <td>976</td>\n",
       "      <td>Romance|War</td>\n",
       "      <td>Farewell to Arms, A</td>\n",
       "      <td>A Farewell to Arms (1932)</td>\n",
       "      <td>1932</td>\n",
       "      <td>4</td>\n",
       "      <td>British nurse Catherine Barkley (Helen Hayes) ...</td>\n",
       "      <td>1932-12-08</td>\n",
       "      <td>25.0</td>\n",
       "      <td>Every woman who has loved will understand</td>\n",
       "    </tr>\n",
       "    <tr>\n",
       "      <th>1776</th>\n",
       "      <td>2322</td>\n",
       "      <td>Action|Adventure|Sci-Fi|Thriller|War</td>\n",
       "      <td>Soldier</td>\n",
       "      <td>Soldier (1998)</td>\n",
       "      <td>1998</td>\n",
       "      <td>75000000</td>\n",
       "      <td>Sergeant Todd is a veteran soldier for an elit...</td>\n",
       "      <td>1998-10-23</td>\n",
       "      <td>14567883.0</td>\n",
       "      <td>Left for dead on a remote planet for obsolete ...</td>\n",
       "    </tr>\n",
       "    <tr>\n",
       "      <th>2015</th>\n",
       "      <td>2618</td>\n",
       "      <td>Comedy</td>\n",
       "      <td>Castle, The</td>\n",
       "      <td>The Castle (1997)</td>\n",
       "      <td>1997</td>\n",
       "      <td>786675</td>\n",
       "      <td>A Melbourne family is very happy living near t...</td>\n",
       "      <td>1997-04-10</td>\n",
       "      <td>861789.0</td>\n",
       "      <td>Ordinary Family. Extraordinary Story.</td>\n",
       "    </tr>\n",
       "    <tr>\n",
       "      <th>2734</th>\n",
       "      <td>3553</td>\n",
       "      <td>Drama|Thriller</td>\n",
       "      <td>Gossip</td>\n",
       "      <td>Gossip (2000)</td>\n",
       "      <td>2000</td>\n",
       "      <td>14000000</td>\n",
       "      <td>On a beautiful college campus, something ugly ...</td>\n",
       "      <td>2000-04-21</td>\n",
       "      <td>5108820.0</td>\n",
       "      <td>It can turn you on, or turn on you.</td>\n",
       "    </tr>\n",
       "    <tr>\n",
       "      <th>2764</th>\n",
       "      <td>3598</td>\n",
       "      <td>Drama</td>\n",
       "      <td>Hamlet</td>\n",
       "      <td>Hamlet (2000)</td>\n",
       "      <td>2000</td>\n",
       "      <td>2000000</td>\n",
       "      <td>Modern day adaptation of Shakespeare's immorta...</td>\n",
       "      <td>2000-05-12</td>\n",
       "      <td>1568749.0</td>\n",
       "      <td>Passion, Betrayal, Revenge, A hostile takeover...</td>\n",
       "    </tr>\n",
       "  </tbody>\n",
       "</table>\n",
       "</div>"
      ],
      "text/plain": [
       "      movieId                              genres_x            title_bis  \\\n",
       "638       838                  Comedy|Drama|Romance                 Emma   \n",
       "754       976                           Romance|War  Farewell to Arms, A   \n",
       "1776     2322  Action|Adventure|Sci-Fi|Thriller|War              Soldier   \n",
       "2015     2618                                Comedy          Castle, The   \n",
       "2734     3553                        Drama|Thriller               Gossip   \n",
       "2764     3598                                 Drama               Hamlet   \n",
       "\n",
       "                    title_clean  date    budget  \\\n",
       "638                 Emma (1996)  1996   6000000   \n",
       "754   A Farewell to Arms (1932)  1932         4   \n",
       "1776             Soldier (1998)  1998  75000000   \n",
       "2015          The Castle (1997)  1997    786675   \n",
       "2734              Gossip (2000)  2000  14000000   \n",
       "2764              Hamlet (2000)  2000   2000000   \n",
       "\n",
       "                                               overview release_date  \\\n",
       "638   Emma Woodhouse is a congenial young lady who d...   1996-08-02   \n",
       "754   British nurse Catherine Barkley (Helen Hayes) ...   1932-12-08   \n",
       "1776  Sergeant Todd is a veteran soldier for an elit...   1998-10-23   \n",
       "2015  A Melbourne family is very happy living near t...   1997-04-10   \n",
       "2734  On a beautiful college campus, something ugly ...   2000-04-21   \n",
       "2764  Modern day adaptation of Shakespeare's immorta...   2000-05-12   \n",
       "\n",
       "         revenue                                            tagline  \n",
       "638   22231658.0                      Cupid is armed and dangerous!  \n",
       "754         25.0          Every woman who has loved will understand  \n",
       "1776  14567883.0  Left for dead on a remote planet for obsolete ...  \n",
       "2015    861789.0              Ordinary Family. Extraordinary Story.  \n",
       "2734   5108820.0                It can turn you on, or turn on you.  \n",
       "2764   1568749.0  Passion, Betrayal, Revenge, A hostile takeover...  "
      ]
     },
     "execution_count": 24,
     "metadata": {},
     "output_type": "execute_result"
    }
   ],
   "source": [
    "doublons_keep = doublons.drop_duplicates(subset = \"title_clean\", \n",
    "                                         keep   = \"first\")\n",
    "\n",
    "doublons_keep\n",
    "# Vue sur les doublons afin de voir lequel garder. Ici, nous allons prendre le premier doublon car il comporte \n",
    "# des informations sur le revenue. Voici les doublons que nous allons conserver : "
   ]
  },
  {
   "cell_type": "code",
   "execution_count": 25,
   "metadata": {},
   "outputs": [
    {
     "data": {
      "text/plain": [
       "3027"
      ]
     },
     "execution_count": 25,
     "metadata": {},
     "output_type": "execute_result"
    }
   ],
   "source": [
    "movies_final = movies_final.drop_duplicates(subset = \"title_clean\", \n",
    "                                            keep   = \"first\")\n",
    "\n",
    "len(movies_final)"
   ]
  },
  {
   "cell_type": "code",
   "execution_count": 26,
   "metadata": {},
   "outputs": [],
   "source": [
    "movies_final.to_csv(r\"C:\\Users\\nolle\\OneDrive\\Documents\\Université\\M2\\Mémoire\\movies_final.csv\")"
   ]
  },
  {
   "cell_type": "markdown",
   "metadata": {},
   "source": [
    "\"movies_final\" est propre. "
   ]
  },
  {
   "cell_type": "markdown",
   "metadata": {},
   "source": [
    "## Base de données \"rating\""
   ]
  },
  {
   "cell_type": "code",
   "execution_count": 27,
   "metadata": {},
   "outputs": [
    {
     "data": {
      "application/vnd.microsoft.datawrangler.viewer.v0+json": {
       "columns": [
        {
         "name": "index",
         "rawType": "int64",
         "type": "integer"
        },
        {
         "name": "userId",
         "rawType": "int64",
         "type": "integer"
        },
        {
         "name": "movieId",
         "rawType": "int64",
         "type": "integer"
        },
        {
         "name": "rating",
         "rawType": "int64",
         "type": "integer"
        },
        {
         "name": "timestamp",
         "rawType": "int64",
         "type": "integer"
        }
       ],
       "conversionMethod": "pd.DataFrame",
       "ref": "e9bf527e-9af9-4526-a9b3-927ba50416bb",
       "rows": [
        [
         "0",
         "1",
         "1193",
         "5",
         "978300760"
        ],
        [
         "1",
         "1",
         "661",
         "3",
         "978302109"
        ],
        [
         "2",
         "1",
         "914",
         "3",
         "978301968"
        ],
        [
         "3",
         "1",
         "3408",
         "4",
         "978300275"
        ],
        [
         "4",
         "1",
         "2355",
         "5",
         "978824291"
        ]
       ],
       "shape": {
        "columns": 4,
        "rows": 5
       }
      },
      "text/html": [
       "<div>\n",
       "<style scoped>\n",
       "    .dataframe tbody tr th:only-of-type {\n",
       "        vertical-align: middle;\n",
       "    }\n",
       "\n",
       "    .dataframe tbody tr th {\n",
       "        vertical-align: top;\n",
       "    }\n",
       "\n",
       "    .dataframe thead th {\n",
       "        text-align: right;\n",
       "    }\n",
       "</style>\n",
       "<table border=\"1\" class=\"dataframe\">\n",
       "  <thead>\n",
       "    <tr style=\"text-align: right;\">\n",
       "      <th></th>\n",
       "      <th>userId</th>\n",
       "      <th>movieId</th>\n",
       "      <th>rating</th>\n",
       "      <th>timestamp</th>\n",
       "    </tr>\n",
       "  </thead>\n",
       "  <tbody>\n",
       "    <tr>\n",
       "      <th>0</th>\n",
       "      <td>1</td>\n",
       "      <td>1193</td>\n",
       "      <td>5</td>\n",
       "      <td>978300760</td>\n",
       "    </tr>\n",
       "    <tr>\n",
       "      <th>1</th>\n",
       "      <td>1</td>\n",
       "      <td>661</td>\n",
       "      <td>3</td>\n",
       "      <td>978302109</td>\n",
       "    </tr>\n",
       "    <tr>\n",
       "      <th>2</th>\n",
       "      <td>1</td>\n",
       "      <td>914</td>\n",
       "      <td>3</td>\n",
       "      <td>978301968</td>\n",
       "    </tr>\n",
       "    <tr>\n",
       "      <th>3</th>\n",
       "      <td>1</td>\n",
       "      <td>3408</td>\n",
       "      <td>4</td>\n",
       "      <td>978300275</td>\n",
       "    </tr>\n",
       "    <tr>\n",
       "      <th>4</th>\n",
       "      <td>1</td>\n",
       "      <td>2355</td>\n",
       "      <td>5</td>\n",
       "      <td>978824291</td>\n",
       "    </tr>\n",
       "  </tbody>\n",
       "</table>\n",
       "</div>"
      ],
      "text/plain": [
       "   userId  movieId  rating  timestamp\n",
       "0       1     1193       5  978300760\n",
       "1       1      661       3  978302109\n",
       "2       1      914       3  978301968\n",
       "3       1     3408       4  978300275\n",
       "4       1     2355       5  978824291"
      ]
     },
     "execution_count": 27,
     "metadata": {},
     "output_type": "execute_result"
    }
   ],
   "source": [
    "rating = pd.read_csv(r\"C:\\Users\\nolle\\OneDrive\\Documents\\Université\\M2\\Mémoire\\Movielens1M\\ratings.dat\", \n",
    "                    sep=\"::\", \n",
    "                    engine=\"python\", \n",
    "                    names=[\"userId\", \"movieId\", \"rating\", \"timestamp\"],\n",
    "                    encoding=\"ISO-8859-1\")\n",
    "rating.head()"
   ]
  },
  {
   "cell_type": "code",
   "execution_count": 28,
   "metadata": {},
   "outputs": [
    {
     "data": {
      "text/plain": [
       "1000209"
      ]
     },
     "execution_count": 28,
     "metadata": {},
     "output_type": "execute_result"
    }
   ],
   "source": [
    "len(rating)"
   ]
  },
  {
   "cell_type": "code",
   "execution_count": 29,
   "metadata": {},
   "outputs": [
    {
     "data": {
      "text/plain": [
       "3706"
      ]
     },
     "execution_count": 29,
     "metadata": {},
     "output_type": "execute_result"
    }
   ],
   "source": [
    "len(rating[\"movieId\"].unique())\n",
    "# 3706 films à l'origine"
   ]
  },
  {
   "cell_type": "markdown",
   "metadata": {},
   "source": [
    "4 variables : \n",
    "- userId : utilisateur ayant noté le film\n",
    "- movieId : identifiant unique du film\n",
    "- rating : note attribuée au film\n",
    "- timestamp : aucune idée de l'utilité"
   ]
  },
  {
   "cell_type": "markdown",
   "metadata": {},
   "source": [
    "Cette table permet à l'aide d'un identifiant unique par utilisateur et par film, d'obtenir la note attribuée par un utilisateur pour un film donné. Cependant, il nous manque une information importante : le title afin de pouvoir faire une fusion avec \"movie_metadata\" pour créér la table \"all\". \n",
    "Nous allons obtenir cette information grâce à la table \"movies_final\". "
   ]
  },
  {
   "cell_type": "code",
   "execution_count": 30,
   "metadata": {},
   "outputs": [],
   "source": [
    "rating = pd.merge(rating, \n",
    "                  movies_final, \n",
    "                  left_on = \"movieId\", \n",
    "                  right_on = \"movieId\", \n",
    "                  how = \"inner\")"
   ]
  },
  {
   "cell_type": "code",
   "execution_count": 31,
   "metadata": {},
   "outputs": [
    {
     "data": {
      "application/vnd.microsoft.datawrangler.viewer.v0+json": {
       "columns": [
        {
         "name": "index",
         "rawType": "int64",
         "type": "integer"
        },
        {
         "name": "userId",
         "rawType": "int64",
         "type": "integer"
        },
        {
         "name": "movieId",
         "rawType": "int64",
         "type": "integer"
        },
        {
         "name": "rating",
         "rawType": "int64",
         "type": "integer"
        },
        {
         "name": "timestamp",
         "rawType": "int64",
         "type": "integer"
        },
        {
         "name": "genres_x",
         "rawType": "object",
         "type": "string"
        },
        {
         "name": "title_bis",
         "rawType": "object",
         "type": "string"
        },
        {
         "name": "title_clean",
         "rawType": "object",
         "type": "string"
        },
        {
         "name": "date",
         "rawType": "object",
         "type": "string"
        },
        {
         "name": "budget",
         "rawType": "object",
         "type": "string"
        },
        {
         "name": "overview",
         "rawType": "object",
         "type": "string"
        },
        {
         "name": "release_date",
         "rawType": "object",
         "type": "string"
        },
        {
         "name": "revenue",
         "rawType": "float64",
         "type": "float"
        },
        {
         "name": "tagline",
         "rawType": "object",
         "type": "string"
        }
       ],
       "conversionMethod": "pd.DataFrame",
       "ref": "267d17e3-55b2-4ba5-b5a0-b567a0ebb779",
       "rows": [
        [
         "0",
         "1",
         "1193",
         "5",
         "978300760",
         "Drama",
         "One Flew Over the Cuckoo's Nest",
         "One Flew Over the Cuckoo's Nest (1975)",
         "1975",
         "3000000",
         "While serving time for insanity at a state mental hospital, implacable rabble-rouser, Randle Patrick McMurphy inspires his fellow patients to rebel against the authoritarian rule of head nurse, Mildred Ratched.",
         "1975-11-18",
         "108981275.0",
         "If he's crazy, what does that make you?"
        ]
       ],
       "shape": {
        "columns": 13,
        "rows": 1
       }
      },
      "text/html": [
       "<div>\n",
       "<style scoped>\n",
       "    .dataframe tbody tr th:only-of-type {\n",
       "        vertical-align: middle;\n",
       "    }\n",
       "\n",
       "    .dataframe tbody tr th {\n",
       "        vertical-align: top;\n",
       "    }\n",
       "\n",
       "    .dataframe thead th {\n",
       "        text-align: right;\n",
       "    }\n",
       "</style>\n",
       "<table border=\"1\" class=\"dataframe\">\n",
       "  <thead>\n",
       "    <tr style=\"text-align: right;\">\n",
       "      <th></th>\n",
       "      <th>userId</th>\n",
       "      <th>movieId</th>\n",
       "      <th>rating</th>\n",
       "      <th>timestamp</th>\n",
       "      <th>genres_x</th>\n",
       "      <th>title_bis</th>\n",
       "      <th>title_clean</th>\n",
       "      <th>date</th>\n",
       "      <th>budget</th>\n",
       "      <th>overview</th>\n",
       "      <th>release_date</th>\n",
       "      <th>revenue</th>\n",
       "      <th>tagline</th>\n",
       "    </tr>\n",
       "  </thead>\n",
       "  <tbody>\n",
       "    <tr>\n",
       "      <th>0</th>\n",
       "      <td>1</td>\n",
       "      <td>1193</td>\n",
       "      <td>5</td>\n",
       "      <td>978300760</td>\n",
       "      <td>Drama</td>\n",
       "      <td>One Flew Over the Cuckoo's Nest</td>\n",
       "      <td>One Flew Over the Cuckoo's Nest (1975)</td>\n",
       "      <td>1975</td>\n",
       "      <td>3000000</td>\n",
       "      <td>While serving time for insanity at a state men...</td>\n",
       "      <td>1975-11-18</td>\n",
       "      <td>108981275.0</td>\n",
       "      <td>If he's crazy, what does that make you?</td>\n",
       "    </tr>\n",
       "  </tbody>\n",
       "</table>\n",
       "</div>"
      ],
      "text/plain": [
       "   userId  movieId  rating  timestamp genres_x  \\\n",
       "0       1     1193       5  978300760    Drama   \n",
       "\n",
       "                         title_bis                             title_clean  \\\n",
       "0  One Flew Over the Cuckoo's Nest  One Flew Over the Cuckoo's Nest (1975)   \n",
       "\n",
       "   date   budget                                           overview  \\\n",
       "0  1975  3000000  While serving time for insanity at a state men...   \n",
       "\n",
       "  release_date      revenue                                  tagline  \n",
       "0   1975-11-18  108981275.0  If he's crazy, what does that make you?  "
      ]
     },
     "execution_count": 31,
     "metadata": {},
     "output_type": "execute_result"
    }
   ],
   "source": [
    "rating.head(1)"
   ]
  },
  {
   "cell_type": "code",
   "execution_count": null,
   "metadata": {},
   "outputs": [
    {
     "name": "stdout",
     "output_type": "stream",
     "text": [
      "898688\n",
      "2954\n"
     ]
    }
   ],
   "source": [
    "print(len(rating))\n",
    "print(len(rating[\"movieId\"].unique()))"
   ]
  },
  {
   "cell_type": "code",
   "execution_count": null,
   "metadata": {},
   "outputs": [
    {
     "data": {
      "text/plain": [
       "0.7970858067997841"
      ]
     },
     "execution_count": 33,
     "metadata": {},
     "output_type": "execute_result"
    }
   ],
   "source": [
    "2954 / 3706\n",
    "# On a pu conservé 80% des films. "
   ]
  },
  {
   "cell_type": "markdown",
   "metadata": {},
   "source": [
    "## Base de données FINALE --> \"all\""
   ]
  },
  {
   "cell_type": "markdown",
   "metadata": {},
   "source": [
    "Fusion des autres tables avec la table \"rating\" afin d'obtenir plus de détails sur les films."
   ]
  },
  {
   "cell_type": "code",
   "execution_count": 34,
   "metadata": {},
   "outputs": [],
   "source": [
    "all = pd.merge(rating, \n",
    "         movies_final, \n",
    "         on = \"movieId\", \n",
    "         how = \"inner\")"
   ]
  },
  {
   "cell_type": "code",
   "execution_count": 35,
   "metadata": {},
   "outputs": [
    {
     "data": {
      "text/plain": [
       "898688"
      ]
     },
     "execution_count": 35,
     "metadata": {},
     "output_type": "execute_result"
    }
   ],
   "source": [
    "len(all)\n",
    "# La taille est la même que rating ce qui montre que notre fusion a bien fonctionné. "
   ]
  },
  {
   "cell_type": "code",
   "execution_count": 36,
   "metadata": {},
   "outputs": [],
   "source": [
    "# Sauvegarde de la table dans un CSV \n",
    "# all.to_csv(r\"C:\\Users\\nolle\\OneDrive\\Documents\\Université\\M2\\Mémoire\\All.csv\",\n",
    "#           index = False)"
   ]
  },
  {
   "cell_type": "code",
   "execution_count": 39,
   "metadata": {},
   "outputs": [
    {
     "data": {
      "text/plain": [
       "0"
      ]
     },
     "execution_count": 39,
     "metadata": {},
     "output_type": "execute_result"
    }
   ],
   "source": [
    "all['userId'].isna().sum()"
   ]
  },
  {
   "cell_type": "code",
   "execution_count": 40,
   "metadata": {},
   "outputs": [
    {
     "data": {
      "text/plain": [
       "898688"
      ]
     },
     "execution_count": 40,
     "metadata": {},
     "output_type": "execute_result"
    }
   ],
   "source": [
    "len(all)"
   ]
  }
 ],
 "metadata": {
  "kernelspec": {
   "display_name": "base",
   "language": "python",
   "name": "python3"
  },
  "language_info": {
   "codemirror_mode": {
    "name": "ipython",
    "version": 3
   },
   "file_extension": ".py",
   "mimetype": "text/x-python",
   "name": "python",
   "nbconvert_exporter": "python",
   "pygments_lexer": "ipython3",
   "version": "3.11.4"
  }
 },
 "nbformat": 4,
 "nbformat_minor": 2
}
