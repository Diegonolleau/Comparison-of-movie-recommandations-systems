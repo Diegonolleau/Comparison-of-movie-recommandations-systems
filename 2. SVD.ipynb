{
 "cells": [
  {
   "cell_type": "markdown",
   "id": "bcea010c",
   "metadata": {},
   "source": [
    "# SVD"
   ]
  },
  {
   "cell_type": "code",
   "execution_count": 1,
   "id": "9c597357",
   "metadata": {},
   "outputs": [],
   "source": [
    "import pandas as pd \n",
    "all = pd.read_csv(r\"C:\\Users\\nolle\\OneDrive\\Documents\\Université\\M2\\Mémoire\\Base de données traitées\\All.csv\")\n",
    "movies_final = pd.read_csv(r\"C:\\Users\\nolle\\OneDrive\\Documents\\Université\\M2\\Mémoire\\Base de données traitées\\movies_final.csv\")"
   ]
  },
  {
   "cell_type": "code",
   "execution_count": 2,
   "id": "f98f65ab",
   "metadata": {},
   "outputs": [
    {
     "data": {
      "application/vnd.microsoft.datawrangler.viewer.v0+json": {
       "columns": [
        {
         "name": "index",
         "rawType": "int64",
         "type": "integer"
        },
        {
         "name": "userId",
         "rawType": "int64",
         "type": "integer"
        },
        {
         "name": "movieId",
         "rawType": "int64",
         "type": "integer"
        },
        {
         "name": "rating",
         "rawType": "int64",
         "type": "integer"
        },
        {
         "name": "timestamp",
         "rawType": "int64",
         "type": "integer"
        },
        {
         "name": "genres_x_x",
         "rawType": "object",
         "type": "string"
        },
        {
         "name": "title_bis_x",
         "rawType": "object",
         "type": "string"
        },
        {
         "name": "title_clean_x",
         "rawType": "object",
         "type": "string"
        },
        {
         "name": "date_x",
         "rawType": "int64",
         "type": "integer"
        },
        {
         "name": "budget_x",
         "rawType": "int64",
         "type": "integer"
        },
        {
         "name": "overview_x",
         "rawType": "object",
         "type": "string"
        },
        {
         "name": "release_date_x",
         "rawType": "object",
         "type": "string"
        },
        {
         "name": "revenue_x",
         "rawType": "float64",
         "type": "float"
        },
        {
         "name": "tagline_x",
         "rawType": "object",
         "type": "string"
        },
        {
         "name": "genres_x_y",
         "rawType": "object",
         "type": "string"
        },
        {
         "name": "title_bis_y",
         "rawType": "object",
         "type": "string"
        },
        {
         "name": "title_clean_y",
         "rawType": "object",
         "type": "string"
        },
        {
         "name": "date_y",
         "rawType": "int64",
         "type": "integer"
        },
        {
         "name": "budget_y",
         "rawType": "int64",
         "type": "integer"
        },
        {
         "name": "overview_y",
         "rawType": "object",
         "type": "string"
        },
        {
         "name": "release_date_y",
         "rawType": "object",
         "type": "string"
        },
        {
         "name": "revenue_y",
         "rawType": "float64",
         "type": "float"
        },
        {
         "name": "tagline_y",
         "rawType": "object",
         "type": "string"
        }
       ],
       "ref": "aaf293d8-629f-4008-a208-4393e3daf187",
       "rows": [
        [
         "0",
         "1",
         "1193",
         "5",
         "978300760",
         "Drama",
         "One Flew Over the Cuckoo's Nest",
         "One Flew Over the Cuckoo's Nest (1975)",
         "1975",
         "3000000",
         "While serving time for insanity at a state mental hospital, implacable rabble-rouser, Randle Patrick McMurphy inspires his fellow patients to rebel against the authoritarian rule of head nurse, Mildred Ratched.",
         "1975-11-18",
         "108981275.0",
         "If he's crazy, what does that make you?",
         "Drama",
         "One Flew Over the Cuckoo's Nest",
         "One Flew Over the Cuckoo's Nest (1975)",
         "1975",
         "3000000",
         "While serving time for insanity at a state mental hospital, implacable rabble-rouser, Randle Patrick McMurphy inspires his fellow patients to rebel against the authoritarian rule of head nurse, Mildred Ratched.",
         "1975-11-18",
         "108981275.0",
         "If he's crazy, what does that make you?"
        ],
        [
         "1",
         "2",
         "1193",
         "5",
         "978298413",
         "Drama",
         "One Flew Over the Cuckoo's Nest",
         "One Flew Over the Cuckoo's Nest (1975)",
         "1975",
         "3000000",
         "While serving time for insanity at a state mental hospital, implacable rabble-rouser, Randle Patrick McMurphy inspires his fellow patients to rebel against the authoritarian rule of head nurse, Mildred Ratched.",
         "1975-11-18",
         "108981275.0",
         "If he's crazy, what does that make you?",
         "Drama",
         "One Flew Over the Cuckoo's Nest",
         "One Flew Over the Cuckoo's Nest (1975)",
         "1975",
         "3000000",
         "While serving time for insanity at a state mental hospital, implacable rabble-rouser, Randle Patrick McMurphy inspires his fellow patients to rebel against the authoritarian rule of head nurse, Mildred Ratched.",
         "1975-11-18",
         "108981275.0",
         "If he's crazy, what does that make you?"
        ],
        [
         "2",
         "12",
         "1193",
         "4",
         "978220179",
         "Drama",
         "One Flew Over the Cuckoo's Nest",
         "One Flew Over the Cuckoo's Nest (1975)",
         "1975",
         "3000000",
         "While serving time for insanity at a state mental hospital, implacable rabble-rouser, Randle Patrick McMurphy inspires his fellow patients to rebel against the authoritarian rule of head nurse, Mildred Ratched.",
         "1975-11-18",
         "108981275.0",
         "If he's crazy, what does that make you?",
         "Drama",
         "One Flew Over the Cuckoo's Nest",
         "One Flew Over the Cuckoo's Nest (1975)",
         "1975",
         "3000000",
         "While serving time for insanity at a state mental hospital, implacable rabble-rouser, Randle Patrick McMurphy inspires his fellow patients to rebel against the authoritarian rule of head nurse, Mildred Ratched.",
         "1975-11-18",
         "108981275.0",
         "If he's crazy, what does that make you?"
        ],
        [
         "3",
         "15",
         "1193",
         "4",
         "978199279",
         "Drama",
         "One Flew Over the Cuckoo's Nest",
         "One Flew Over the Cuckoo's Nest (1975)",
         "1975",
         "3000000",
         "While serving time for insanity at a state mental hospital, implacable rabble-rouser, Randle Patrick McMurphy inspires his fellow patients to rebel against the authoritarian rule of head nurse, Mildred Ratched.",
         "1975-11-18",
         "108981275.0",
         "If he's crazy, what does that make you?",
         "Drama",
         "One Flew Over the Cuckoo's Nest",
         "One Flew Over the Cuckoo's Nest (1975)",
         "1975",
         "3000000",
         "While serving time for insanity at a state mental hospital, implacable rabble-rouser, Randle Patrick McMurphy inspires his fellow patients to rebel against the authoritarian rule of head nurse, Mildred Ratched.",
         "1975-11-18",
         "108981275.0",
         "If he's crazy, what does that make you?"
        ],
        [
         "4",
         "17",
         "1193",
         "5",
         "978158471",
         "Drama",
         "One Flew Over the Cuckoo's Nest",
         "One Flew Over the Cuckoo's Nest (1975)",
         "1975",
         "3000000",
         "While serving time for insanity at a state mental hospital, implacable rabble-rouser, Randle Patrick McMurphy inspires his fellow patients to rebel against the authoritarian rule of head nurse, Mildred Ratched.",
         "1975-11-18",
         "108981275.0",
         "If he's crazy, what does that make you?",
         "Drama",
         "One Flew Over the Cuckoo's Nest",
         "One Flew Over the Cuckoo's Nest (1975)",
         "1975",
         "3000000",
         "While serving time for insanity at a state mental hospital, implacable rabble-rouser, Randle Patrick McMurphy inspires his fellow patients to rebel against the authoritarian rule of head nurse, Mildred Ratched.",
         "1975-11-18",
         "108981275.0",
         "If he's crazy, what does that make you?"
        ]
       ],
       "shape": {
        "columns": 22,
        "rows": 5
       }
      },
      "text/html": [
       "<div>\n",
       "<style scoped>\n",
       "    .dataframe tbody tr th:only-of-type {\n",
       "        vertical-align: middle;\n",
       "    }\n",
       "\n",
       "    .dataframe tbody tr th {\n",
       "        vertical-align: top;\n",
       "    }\n",
       "\n",
       "    .dataframe thead th {\n",
       "        text-align: right;\n",
       "    }\n",
       "</style>\n",
       "<table border=\"1\" class=\"dataframe\">\n",
       "  <thead>\n",
       "    <tr style=\"text-align: right;\">\n",
       "      <th></th>\n",
       "      <th>userId</th>\n",
       "      <th>movieId</th>\n",
       "      <th>rating</th>\n",
       "      <th>timestamp</th>\n",
       "      <th>genres_x_x</th>\n",
       "      <th>title_bis_x</th>\n",
       "      <th>title_clean_x</th>\n",
       "      <th>date_x</th>\n",
       "      <th>budget_x</th>\n",
       "      <th>overview_x</th>\n",
       "      <th>...</th>\n",
       "      <th>tagline_x</th>\n",
       "      <th>genres_x_y</th>\n",
       "      <th>title_bis_y</th>\n",
       "      <th>title_clean_y</th>\n",
       "      <th>date_y</th>\n",
       "      <th>budget_y</th>\n",
       "      <th>overview_y</th>\n",
       "      <th>release_date_y</th>\n",
       "      <th>revenue_y</th>\n",
       "      <th>tagline_y</th>\n",
       "    </tr>\n",
       "  </thead>\n",
       "  <tbody>\n",
       "    <tr>\n",
       "      <th>0</th>\n",
       "      <td>1</td>\n",
       "      <td>1193</td>\n",
       "      <td>5</td>\n",
       "      <td>978300760</td>\n",
       "      <td>Drama</td>\n",
       "      <td>One Flew Over the Cuckoo's Nest</td>\n",
       "      <td>One Flew Over the Cuckoo's Nest (1975)</td>\n",
       "      <td>1975</td>\n",
       "      <td>3000000</td>\n",
       "      <td>While serving time for insanity at a state men...</td>\n",
       "      <td>...</td>\n",
       "      <td>If he's crazy, what does that make you?</td>\n",
       "      <td>Drama</td>\n",
       "      <td>One Flew Over the Cuckoo's Nest</td>\n",
       "      <td>One Flew Over the Cuckoo's Nest (1975)</td>\n",
       "      <td>1975</td>\n",
       "      <td>3000000</td>\n",
       "      <td>While serving time for insanity at a state men...</td>\n",
       "      <td>1975-11-18</td>\n",
       "      <td>108981275.0</td>\n",
       "      <td>If he's crazy, what does that make you?</td>\n",
       "    </tr>\n",
       "    <tr>\n",
       "      <th>1</th>\n",
       "      <td>2</td>\n",
       "      <td>1193</td>\n",
       "      <td>5</td>\n",
       "      <td>978298413</td>\n",
       "      <td>Drama</td>\n",
       "      <td>One Flew Over the Cuckoo's Nest</td>\n",
       "      <td>One Flew Over the Cuckoo's Nest (1975)</td>\n",
       "      <td>1975</td>\n",
       "      <td>3000000</td>\n",
       "      <td>While serving time for insanity at a state men...</td>\n",
       "      <td>...</td>\n",
       "      <td>If he's crazy, what does that make you?</td>\n",
       "      <td>Drama</td>\n",
       "      <td>One Flew Over the Cuckoo's Nest</td>\n",
       "      <td>One Flew Over the Cuckoo's Nest (1975)</td>\n",
       "      <td>1975</td>\n",
       "      <td>3000000</td>\n",
       "      <td>While serving time for insanity at a state men...</td>\n",
       "      <td>1975-11-18</td>\n",
       "      <td>108981275.0</td>\n",
       "      <td>If he's crazy, what does that make you?</td>\n",
       "    </tr>\n",
       "    <tr>\n",
       "      <th>2</th>\n",
       "      <td>12</td>\n",
       "      <td>1193</td>\n",
       "      <td>4</td>\n",
       "      <td>978220179</td>\n",
       "      <td>Drama</td>\n",
       "      <td>One Flew Over the Cuckoo's Nest</td>\n",
       "      <td>One Flew Over the Cuckoo's Nest (1975)</td>\n",
       "      <td>1975</td>\n",
       "      <td>3000000</td>\n",
       "      <td>While serving time for insanity at a state men...</td>\n",
       "      <td>...</td>\n",
       "      <td>If he's crazy, what does that make you?</td>\n",
       "      <td>Drama</td>\n",
       "      <td>One Flew Over the Cuckoo's Nest</td>\n",
       "      <td>One Flew Over the Cuckoo's Nest (1975)</td>\n",
       "      <td>1975</td>\n",
       "      <td>3000000</td>\n",
       "      <td>While serving time for insanity at a state men...</td>\n",
       "      <td>1975-11-18</td>\n",
       "      <td>108981275.0</td>\n",
       "      <td>If he's crazy, what does that make you?</td>\n",
       "    </tr>\n",
       "    <tr>\n",
       "      <th>3</th>\n",
       "      <td>15</td>\n",
       "      <td>1193</td>\n",
       "      <td>4</td>\n",
       "      <td>978199279</td>\n",
       "      <td>Drama</td>\n",
       "      <td>One Flew Over the Cuckoo's Nest</td>\n",
       "      <td>One Flew Over the Cuckoo's Nest (1975)</td>\n",
       "      <td>1975</td>\n",
       "      <td>3000000</td>\n",
       "      <td>While serving time for insanity at a state men...</td>\n",
       "      <td>...</td>\n",
       "      <td>If he's crazy, what does that make you?</td>\n",
       "      <td>Drama</td>\n",
       "      <td>One Flew Over the Cuckoo's Nest</td>\n",
       "      <td>One Flew Over the Cuckoo's Nest (1975)</td>\n",
       "      <td>1975</td>\n",
       "      <td>3000000</td>\n",
       "      <td>While serving time for insanity at a state men...</td>\n",
       "      <td>1975-11-18</td>\n",
       "      <td>108981275.0</td>\n",
       "      <td>If he's crazy, what does that make you?</td>\n",
       "    </tr>\n",
       "    <tr>\n",
       "      <th>4</th>\n",
       "      <td>17</td>\n",
       "      <td>1193</td>\n",
       "      <td>5</td>\n",
       "      <td>978158471</td>\n",
       "      <td>Drama</td>\n",
       "      <td>One Flew Over the Cuckoo's Nest</td>\n",
       "      <td>One Flew Over the Cuckoo's Nest (1975)</td>\n",
       "      <td>1975</td>\n",
       "      <td>3000000</td>\n",
       "      <td>While serving time for insanity at a state men...</td>\n",
       "      <td>...</td>\n",
       "      <td>If he's crazy, what does that make you?</td>\n",
       "      <td>Drama</td>\n",
       "      <td>One Flew Over the Cuckoo's Nest</td>\n",
       "      <td>One Flew Over the Cuckoo's Nest (1975)</td>\n",
       "      <td>1975</td>\n",
       "      <td>3000000</td>\n",
       "      <td>While serving time for insanity at a state men...</td>\n",
       "      <td>1975-11-18</td>\n",
       "      <td>108981275.0</td>\n",
       "      <td>If he's crazy, what does that make you?</td>\n",
       "    </tr>\n",
       "  </tbody>\n",
       "</table>\n",
       "<p>5 rows × 22 columns</p>\n",
       "</div>"
      ],
      "text/plain": [
       "   userId  movieId  rating  timestamp genres_x_x  \\\n",
       "0       1     1193       5  978300760      Drama   \n",
       "1       2     1193       5  978298413      Drama   \n",
       "2      12     1193       4  978220179      Drama   \n",
       "3      15     1193       4  978199279      Drama   \n",
       "4      17     1193       5  978158471      Drama   \n",
       "\n",
       "                       title_bis_x                           title_clean_x  \\\n",
       "0  One Flew Over the Cuckoo's Nest  One Flew Over the Cuckoo's Nest (1975)   \n",
       "1  One Flew Over the Cuckoo's Nest  One Flew Over the Cuckoo's Nest (1975)   \n",
       "2  One Flew Over the Cuckoo's Nest  One Flew Over the Cuckoo's Nest (1975)   \n",
       "3  One Flew Over the Cuckoo's Nest  One Flew Over the Cuckoo's Nest (1975)   \n",
       "4  One Flew Over the Cuckoo's Nest  One Flew Over the Cuckoo's Nest (1975)   \n",
       "\n",
       "   date_x  budget_x                                         overview_x  ...  \\\n",
       "0    1975   3000000  While serving time for insanity at a state men...  ...   \n",
       "1    1975   3000000  While serving time for insanity at a state men...  ...   \n",
       "2    1975   3000000  While serving time for insanity at a state men...  ...   \n",
       "3    1975   3000000  While serving time for insanity at a state men...  ...   \n",
       "4    1975   3000000  While serving time for insanity at a state men...  ...   \n",
       "\n",
       "                                 tagline_x  genres_x_y  \\\n",
       "0  If he's crazy, what does that make you?       Drama   \n",
       "1  If he's crazy, what does that make you?       Drama   \n",
       "2  If he's crazy, what does that make you?       Drama   \n",
       "3  If he's crazy, what does that make you?       Drama   \n",
       "4  If he's crazy, what does that make you?       Drama   \n",
       "\n",
       "                       title_bis_y                           title_clean_y  \\\n",
       "0  One Flew Over the Cuckoo's Nest  One Flew Over the Cuckoo's Nest (1975)   \n",
       "1  One Flew Over the Cuckoo's Nest  One Flew Over the Cuckoo's Nest (1975)   \n",
       "2  One Flew Over the Cuckoo's Nest  One Flew Over the Cuckoo's Nest (1975)   \n",
       "3  One Flew Over the Cuckoo's Nest  One Flew Over the Cuckoo's Nest (1975)   \n",
       "4  One Flew Over the Cuckoo's Nest  One Flew Over the Cuckoo's Nest (1975)   \n",
       "\n",
       "  date_y budget_y                                         overview_y  \\\n",
       "0   1975  3000000  While serving time for insanity at a state men...   \n",
       "1   1975  3000000  While serving time for insanity at a state men...   \n",
       "2   1975  3000000  While serving time for insanity at a state men...   \n",
       "3   1975  3000000  While serving time for insanity at a state men...   \n",
       "4   1975  3000000  While serving time for insanity at a state men...   \n",
       "\n",
       "   release_date_y    revenue_y                                tagline_y  \n",
       "0      1975-11-18  108981275.0  If he's crazy, what does that make you?  \n",
       "1      1975-11-18  108981275.0  If he's crazy, what does that make you?  \n",
       "2      1975-11-18  108981275.0  If he's crazy, what does that make you?  \n",
       "3      1975-11-18  108981275.0  If he's crazy, what does that make you?  \n",
       "4      1975-11-18  108981275.0  If he's crazy, what does that make you?  \n",
       "\n",
       "[5 rows x 22 columns]"
      ]
     },
     "execution_count": 2,
     "metadata": {},
     "output_type": "execute_result"
    }
   ],
   "source": [
    "all.head()"
   ]
  },
  {
   "cell_type": "markdown",
   "id": "73b60195",
   "metadata": {},
   "source": [
    "Code si je souhaite modifier les noms de colonnes :  "
   ]
  },
  {
   "cell_type": "code",
   "execution_count": 3,
   "id": "16438870",
   "metadata": {},
   "outputs": [],
   "source": [
    "# df = df.rename(columns={   \n",
    "#    'colonne1': 'nouveau_nom1',     \n",
    "#    'colonne2': 'nouveau_nom2'      \n",
    "# })"
   ]
  },
  {
   "cell_type": "markdown",
   "id": "a6e8cf83",
   "metadata": {},
   "source": [
    "# I. Création de la matrice d'utilité"
   ]
  },
  {
   "cell_type": "code",
   "execution_count": 3,
   "id": "a1ca660e",
   "metadata": {},
   "outputs": [],
   "source": [
    "# On garde uniquement les colonnes utiles\n",
    "all_util = all[[\"userId\", \"title_clean_x\", \"rating\"]]\n",
    "\n",
    "# Création de la matrice d’utilité avec pivot_table\n",
    "util_matrix = all_util.pivot_table(index = \"userId\", \n",
    "                                   columns=\"title_clean_x\", \n",
    "                                   values=\"rating\")"
   ]
  },
  {
   "cell_type": "code",
   "execution_count": 4,
   "id": "500097fb",
   "metadata": {},
   "outputs": [
    {
     "data": {
      "text/plain": [
       "6040"
      ]
     },
     "execution_count": 4,
     "metadata": {},
     "output_type": "execute_result"
    }
   ],
   "source": [
    "len(util_matrix)\n",
    "# 6040 lignes : chaque ligne correspond à un utilisateur"
   ]
  },
  {
   "cell_type": "code",
   "execution_count": 5,
   "id": "d0bad7ea",
   "metadata": {},
   "outputs": [
    {
     "data": {
      "text/plain": [
       "2954"
      ]
     },
     "execution_count": 5,
     "metadata": {},
     "output_type": "execute_result"
    }
   ],
   "source": [
    "len(util_matrix.columns)\n",
    "# 2954 films"
   ]
  },
  {
   "cell_type": "markdown",
   "id": "858f3e78",
   "metadata": {},
   "source": [
    "## Calcul de la sparsity"
   ]
  },
  {
   "cell_type": "code",
   "execution_count": 6,
   "id": "5ecc6005",
   "metadata": {},
   "outputs": [
    {
     "name": "stdout",
     "output_type": "stream",
     "text": [
      "Taux de sparsity : 94.96%\n"
     ]
    }
   ],
   "source": [
    "# Nombre total de cellules (utilisateurs x films)\n",
    "total_values = util_matrix.shape[0] * util_matrix.shape[1]\n",
    "\n",
    "# Nombre de notes réelles (non nulles)\n",
    "non_null_values = util_matrix.count().sum()\n",
    "\n",
    "# Taux de sparsity\n",
    "sparsity = 1 - (non_null_values / total_values)\n",
    "print(f\"Taux de sparsity : {sparsity:.2%}\")"
   ]
  },
  {
   "cell_type": "markdown",
   "id": "604bd884",
   "metadata": {},
   "source": [
    "La sparsity est de 95%, signifiant que 95% des cellules de la matrice d'utilité sont vides, car les utilisateurs \n",
    "notent une petite portion des films. Ceci est logique et courant dans un système de recommandations. "
   ]
  },
  {
   "cell_type": "markdown",
   "id": "853ce5f7",
   "metadata": {},
   "source": [
    "# II. Présentation SVD et approche classique"
   ]
  },
  {
   "cell_type": "markdown",
   "id": "593a48a9",
   "metadata": {},
   "source": [
    "SVD est une méthode de factorisation de matrice utilisée pour la réduction de dimension et la détection de structures latentes. Dans le contexte des systèmes de recommandation collaboratifs, elle est utilisée pour approximer la matrice d'utilité (utilisateurs × items) en une forme plus compacte."
   ]
  },
  {
   "cell_type": "markdown",
   "id": "5406ec63",
   "metadata": {},
   "source": [
    "## Remplacement des notes vides par la moyenne par utilisateur"
   ]
  },
  {
   "cell_type": "code",
   "execution_count": 7,
   "id": "ba7ce7df",
   "metadata": {},
   "outputs": [],
   "source": [
    "util_matrix_filled = util_matrix.apply(lambda row: row.fillna(row.mean()), axis=1)"
   ]
  },
  {
   "cell_type": "code",
   "execution_count": 8,
   "id": "ca3fe8d7",
   "metadata": {},
   "outputs": [],
   "source": [
    "import numpy as np\n",
    "from sklearn.decomposition import TruncatedSVD\n",
    "from sklearn.metrics import mean_squared_error"
   ]
  },
  {
   "cell_type": "markdown",
   "id": "a7a4b727",
   "metadata": {},
   "source": [
    "## Choix du nombre de composantes"
   ]
  },
  {
   "cell_type": "markdown",
   "id": "4076fba2",
   "metadata": {},
   "source": [
    "Méthode du coude : méthode visuelle utilisée pour choisir le nombre optimal de composantes (ou de clusters, ou dimensions) dans une technique de réduction ou de regroupement, comme SVD.  \n",
    "Le point où l’amélioration devient marginale forme un \"coude\". "
   ]
  },
  {
   "cell_type": "code",
   "execution_count": 10,
   "id": "9e6c9e96",
   "metadata": {},
   "outputs": [
    {
     "name": "stdout",
     "output_type": "stream",
     "text": [
      "Le coude est détecté à : 10 composantes\n"
     ]
    },
    {
     "data": {
      "image/png": "[encoded data removed]",
      "text/plain": [
       "<Figure size 800x500 with 1 Axes>"
      ]
     },
     "metadata": {},
     "output_type": "display_data"
    }
   ],
   "source": [
    "import numpy as np\n",
    "import matplotlib.pyplot as plt\n",
    "from sklearn.decomposition import TruncatedSVD\n",
    "from kneed import KneeLocator\n",
    "\n",
    "#Étape 1 : Appliquer SVD\n",
    "svd = TruncatedSVD(n_components=50)\n",
    "svd.fit(util_matrix_filled)\n",
    "explained_variance = np.cumsum(svd.explained_variance_ratio_)\n",
    "\n",
    "# Étape 2 : Détection automatique du coude\n",
    "x = range(1, len(explained_variance) + 1)\n",
    "knee = KneeLocator(x, explained_variance, curve='concave', direction='increasing')\n",
    "\n",
    "print(f\"Le coude est détecté à : {knee.knee} composantes\")\n",
    "\n",
    "# Étape 3 : Visualisation\n",
    "plt.figure(figsize=(8, 5))\n",
    "plt.plot(x, explained_variance, label=\"Cumulative explained variance\")\n",
    "plt.axvline(knee.knee, color='red', linestyle='--', label=f\"Knee value : {knee.knee}\")\n",
    "plt.xlabel(\"Number of components\")\n",
    "plt.ylabel(\"Cumulative explained variance\")\n",
    "plt.title(\"Automatic elbow detection (KneeLocator method)\")\n",
    "plt.grid(True)\n",
    "plt.legend()\n",
    "plt.show()"
   ]
  },
  {
   "cell_type": "markdown",
   "id": "5aea39a6",
   "metadata": {},
   "source": [
    "Le package kneed (→ KneeLocator) :\n",
    "- Prend une série de points x et y (par ex. nombre de composantes vs variance cumulée)\n",
    "- Analyse la courbure de la fonction\n",
    "- Cherche l’endroit où la pente diminue le plus brusquement\n",
    "- Retourne ce point comme étant le \"knee\""
   ]
  },
  {
   "cell_type": "markdown",
   "id": "fbf33000",
   "metadata": {},
   "source": [
    "Nous allons donc conserver 10 composantes"
   ]
  },
  {
   "cell_type": "markdown",
   "id": "a88c52e7",
   "metadata": {},
   "source": [
    "## Application de SVD"
   ]
  },
  {
   "cell_type": "code",
   "execution_count": 11,
   "id": "050d2659",
   "metadata": {},
   "outputs": [
    {
     "data": {
      "application/vnd.microsoft.datawrangler.viewer.v0+json": {
       "columns": [
        {
         "name": "userId",
         "rawType": "int64",
         "type": "integer"
        },
        {
         "name": "...And Justice for All (1979)",
         "rawType": "float64",
         "type": "float"
        },
        {
         "name": "1-900 (1994)",
         "rawType": "float64",
         "type": "float"
        },
        {
         "name": "10 Things I Hate About You (1999)",
         "rawType": "float64",
         "type": "float"
        },
        {
         "name": "101 Dalmatians (1996)",
         "rawType": "float64",
         "type": "float"
        },
        {
         "name": "12 Angry Men (1957)",
         "rawType": "float64",
         "type": "float"
        },
        {
         "name": "2 Days in the Valley (1996)",
         "rawType": "float64",
         "type": "float"
        },
        {
         "name": "20 Dates (1998)",
         "rawType": "float64",
         "type": "float"
        },
        {
         "name": "20,000 Leagues Under the Sea (1954)",
         "rawType": "float64",
         "type": "float"
        },
        {
         "name": "200 Cigarettes (1999)",
         "rawType": "float64",
         "type": "float"
        },
        {
         "name": "2001: A Space Odyssey (1968)",
         "rawType": "float64",
         "type": "float"
        },
        {
         "name": "2010 (1984)",
         "rawType": "float64",
         "type": "float"
        },
        {
         "name": "24 7: Twenty Four Seven (1997)",
         "rawType": "float64",
         "type": "float"
        },
        {
         "name": "28 Days (2000)",
         "rawType": "float64",
         "type": "float"
        },
        {
         "name": "3 Strikes (2000)",
         "rawType": "float64",
         "type": "float"
        },
        {
         "name": "301, 302 (1995)",
         "rawType": "float64",
         "type": "float"
        },
        {
         "name": "42 Up (1998)",
         "rawType": "float64",
         "type": "float"
        },
        {
         "name": "52 Pick-Up (1986)",
         "rawType": "float64",
         "type": "float"
        },
        {
         "name": "54 (1998)",
         "rawType": "float64",
         "type": "float"
        },
        {
         "name": "8 Heads in a Duffel Bag (1997)",
         "rawType": "float64",
         "type": "float"
        },
        {
         "name": "8 Seconds (1994)",
         "rawType": "float64",
         "type": "float"
        },
        {
         "name": "8MM (1999)",
         "rawType": "float64",
         "type": "float"
        },
        {
         "name": "A Bronx Tale (1993)",
         "rawType": "float64",
         "type": "float"
        },
        {
         "name": "A Brother's Kiss (1997)",
         "rawType": "float64",
         "type": "float"
        },
        {
         "name": "A Bug's Life (1998)",
         "rawType": "float64",
         "type": "float"
        },
        {
         "name": "A Chef in Love (1996)",
         "rawType": "float64",
         "type": "float"
        },
        {
         "name": "A Christmas Carol (1938)",
         "rawType": "float64",
         "type": "float"
        },
        {
         "name": "A Christmas Story (1983)",
         "rawType": "float64",
         "type": "float"
        },
        {
         "name": "A Civil Action (1998)",
         "rawType": "float64",
         "type": "float"
        },
        {
         "name": "A Clockwork Orange (1971)",
         "rawType": "float64",
         "type": "float"
        },
        {
         "name": "A Close Shave (1995)",
         "rawType": "float64",
         "type": "float"
        },
        {
         "name": "A Couch in New York (1996)",
         "rawType": "float64",
         "type": "float"
        },
        {
         "name": "A Cry in the Dark (1988)",
         "rawType": "float64",
         "type": "float"
        },
        {
         "name": "A Damsel in Distress (1937)",
         "rawType": "float64",
         "type": "float"
        },
        {
         "name": "A Face in the Crowd (1957)",
         "rawType": "float64",
         "type": "float"
        },
        {
         "name": "A Family Thing (1996)",
         "rawType": "float64",
         "type": "float"
        },
        {
         "name": "A Far Off Place (1993)",
         "rawType": "float64",
         "type": "float"
        },
        {
         "name": "A Farewell to Arms (1932)",
         "rawType": "float64",
         "type": "float"
        },
        {
         "name": "A Few Good Men (1992)",
         "rawType": "float64",
         "type": "float"
        },
        {
         "name": "A Fish Called Wanda (1988)",
         "rawType": "float64",
         "type": "float"
        },
        {
         "name": "A Fistful of Dollars (1964)",
         "rawType": "float64",
         "type": "float"
        },
        {
         "name": "A Friend of the Deceased (1997)",
         "rawType": "float64",
         "type": "float"
        },
        {
         "name": "A Good Man in Africa (1994)",
         "rawType": "float64",
         "type": "float"
        },
        {
         "name": "A Goofy Movie (1995)",
         "rawType": "float64",
         "type": "float"
        },
        {
         "name": "A Great Day in Harlem (1994)",
         "rawType": "float64",
         "type": "float"
        },
        {
         "name": "A Hard Day's Night (1964)",
         "rawType": "float64",
         "type": "float"
        },
        {
         "name": "A Hungarian Fairy Tale (1987)",
         "rawType": "float64",
         "type": "float"
        },
        {
         "name": "A Kid in King Arthur's Court (1995)",
         "rawType": "float64",
         "type": "float"
        },
        {
         "name": "A King in New York (1957)",
         "rawType": "float64",
         "type": "float"
        },
        {
         "name": "A League of Their Own (1992)",
         "rawType": "float64",
         "type": "float"
        },
        {
         "name": "A Life Less Ordinary (1997)",
         "rawType": "float64",
         "type": "float"
        },
        {
         "name": "A Little Princess (1995)",
         "rawType": "float64",
         "type": "float"
        },
        {
         "name": "A Low Down Dirty Shame (1994)",
         "rawType": "float64",
         "type": "float"
        },
        {
         "name": "A Man for All Seasons (1966)",
         "rawType": "float64",
         "type": "float"
        },
        {
         "name": "A Man of No Importance (1994)",
         "rawType": "float64",
         "type": "float"
        },
        {
         "name": "A Map of the World (1999)",
         "rawType": "float64",
         "type": "float"
        },
        {
         "name": "A Midsummer Night's Dream (1999)",
         "rawType": "float64",
         "type": "float"
        },
        {
         "name": "A Month by the Lake (1995)",
         "rawType": "float64",
         "type": "float"
        },
        {
         "name": "A Night at the Roxbury (1998)",
         "rawType": "float64",
         "type": "float"
        },
        {
         "name": "A Night to Remember (1958)",
         "rawType": "float64",
         "type": "float"
        },
        {
         "name": "A Nightmare on Elm Street (1984)",
         "rawType": "float64",
         "type": "float"
        },
        {
         "name": "A Nightmare on Elm Street 3: Dream Warriors (1987)",
         "rawType": "float64",
         "type": "float"
        },
        {
         "name": "A Nightmare on Elm Street 4: The Dream Master (1988)",
         "rawType": "float64",
         "type": "float"
        },
        {
         "name": "A Nightmare on Elm Street 5: The Dream Child (1989)",
         "rawType": "float64",
         "type": "float"
        },
        {
         "name": "A Nightmare on Elm Street Part 2: Freddy's Revenge (1985)",
         "rawType": "float64",
         "type": "float"
        },
        {
         "name": "A Paralyzing Fear: The Story of Polio in America (1998)",
         "rawType": "float64",
         "type": "float"
        },
        {
         "name": "A Perfect Candidate (1996)",
         "rawType": "float64",
         "type": "float"
        },
        {
         "name": "A Perfect Murder (1998)",
         "rawType": "float64",
         "type": "float"
        },
        {
         "name": "A Perfect World (1993)",
         "rawType": "float64",
         "type": "float"
        },
        {
         "name": "A Place in the Sun (1951)",
         "rawType": "float64",
         "type": "float"
        },
        {
         "name": "A Price Above Rubies (1998)",
         "rawType": "float64",
         "type": "float"
        },
        {
         "name": "A Pyromaniac's Love Story (1995)",
         "rawType": "float64",
         "type": "float"
        },
        {
         "name": "A Raisin in the Sun (1961)",
         "rawType": "float64",
         "type": "float"
        },
        {
         "name": "A River Runs Through It (1992)",
         "rawType": "float64",
         "type": "float"
        },
        {
         "name": "A Simple Plan (1998)",
         "rawType": "float64",
         "type": "float"
        },
        {
         "name": "A Simple Twist of Fate (1994)",
         "rawType": "float64",
         "type": "float"
        },
        {
         "name": "A Simple Wish (1997)",
         "rawType": "float64",
         "type": "float"
        },
        {
         "name": "A Smile Like Yours (1997)",
         "rawType": "float64",
         "type": "float"
        },
        {
         "name": "A Soldier's Daughter Never Cries (1998)",
         "rawType": "float64",
         "type": "float"
        },
        {
         "name": "A Soldier's Story (1984)",
         "rawType": "float64",
         "type": "float"
        },
        {
         "name": "A Star Is Born (1937)",
         "rawType": "float64",
         "type": "float"
        },
        {
         "name": "A Streetcar Named Desire (1951)",
         "rawType": "float64",
         "type": "float"
        },
        {
         "name": "A Thin Line Between Love and Hate (1996)",
         "rawType": "float64",
         "type": "float"
        },
        {
         "name": "A Thousand Acres (1997)",
         "rawType": "float64",
         "type": "float"
        },
        {
         "name": "A Time to Kill (1996)",
         "rawType": "float64",
         "type": "float"
        },
        {
         "name": "A Very Brady Sequel (1996)",
         "rawType": "float64",
         "type": "float"
        },
        {
         "name": "A Very Natural Thing (1974)",
         "rawType": "float64",
         "type": "float"
        },
        {
         "name": "A View to a Kill (1985)",
         "rawType": "float64",
         "type": "float"
        },
        {
         "name": "A Walk in the Clouds (1995)",
         "rawType": "float64",
         "type": "float"
        },
        {
         "name": "A Walk in the Sun (1945)",
         "rawType": "float64",
         "type": "float"
        },
        {
         "name": "A Walk on the Moon (1999)",
         "rawType": "float64",
         "type": "float"
        },
        {
         "name": "A Woman of Paris (1923)",
         "rawType": "float64",
         "type": "float"
        },
        {
         "name": "A Zed & Two Noughts (1985)",
         "rawType": "float64",
         "type": "float"
        },
        {
         "name": "Abbott and Costello Meet Frankenstein (1948)",
         "rawType": "float64",
         "type": "float"
        },
        {
         "name": "About Adam (2000)",
         "rawType": "float64",
         "type": "float"
        },
        {
         "name": "About Last Night... (1986)",
         "rawType": "float64",
         "type": "float"
        },
        {
         "name": "Above the Rim (1994)",
         "rawType": "float64",
         "type": "float"
        },
        {
         "name": "Absolute Power (1997)",
         "rawType": "float64",
         "type": "float"
        },
        {
         "name": "Ace Ventura: Pet Detective (1994)",
         "rawType": "float64",
         "type": "float"
        },
        {
         "name": "Ace Ventura: When Nature Calls (1995)",
         "rawType": "float64",
         "type": "float"
        },
        {
         "name": "Across the Sea of Time (1995)",
         "rawType": "float64",
         "type": "float"
        },
        {
         "name": "Action Jackson (1988)",
         "rawType": "float64",
         "type": "float"
        },
        {
         "name": "Addams Family Values (1993)",
         "rawType": "float64",
         "type": "float"
        },
        {
         "name": "Addicted to Love (1997)",
         "rawType": "float64",
         "type": "float"
        },
        {
         "name": "Adrenalin: Fear the Rush (1996)",
         "rawType": "float64",
         "type": "float"
        },
        {
         "name": "Adventures in Babysitting (1987)",
         "rawType": "float64",
         "type": "float"
        },
        {
         "name": "Affliction (1997)",
         "rawType": "float64",
         "type": "float"
        },
        {
         "name": "After Life (1998)",
         "rawType": "float64",
         "type": "float"
        },
        {
         "name": "Afterglow (1997)",
         "rawType": "float64",
         "type": "float"
        },
        {
         "name": "Against All Odds (1984)",
         "rawType": "float64",
         "type": "float"
        },
        {
         "name": "Agnes Browne (1999)",
         "rawType": "float64",
         "type": "float"
        },
        {
         "name": "Agnes of God (1985)",
         "rawType": "float64",
         "type": "float"
        },
        {
         "name": "Air America (1990)",
         "rawType": "float64",
         "type": "float"
        },
        {
         "name": "Air Bud (1997)",
         "rawType": "float64",
         "type": "float"
        },
        {
         "name": "Air Bud: Golden Receiver (1998)",
         "rawType": "float64",
         "type": "float"
        },
        {
         "name": "Air Force One (1997)",
         "rawType": "float64",
         "type": "float"
        },
        {
         "name": "Airheads (1994)",
         "rawType": "float64",
         "type": "float"
        },
        {
         "name": "Airplane II: The Sequel (1982)",
         "rawType": "float64",
         "type": "float"
        },
        {
         "name": "Airplane! (1980)",
         "rawType": "float64",
         "type": "float"
        },
        {
         "name": "Airport '77 (1977)",
         "rawType": "float64",
         "type": "float"
        },
        {
         "name": "Airport (1970)",
         "rawType": "float64",
         "type": "float"
        },
        {
         "name": "Airport 1975 (1974)",
         "rawType": "float64",
         "type": "float"
        },
        {
         "name": "Akira (1988)",
         "rawType": "float64",
         "type": "float"
        },
        {
         "name": "Aladdin (1992)",
         "rawType": "float64",
         "type": "float"
        },
        {
         "name": "Aladdin and the King of Thieves (1996)",
         "rawType": "float64",
         "type": "float"
        },
        {
         "name": "Alaska (1996)",
         "rawType": "float64",
         "type": "float"
        },
        {
         "name": "Albino Alligator (1996)",
         "rawType": "float64",
         "type": "float"
        },
        {
         "name": "Algiers (1938)",
         "rawType": "float64",
         "type": "float"
        },
        {
         "name": "Alice in Wonderland (1951)",
         "rawType": "float64",
         "type": "float"
        },
        {
         "name": "Alien (1979)",
         "rawType": "float64",
         "type": "float"
        },
        {
         "name": "Alien Nation (1988)",
         "rawType": "float64",
         "type": "float"
        },
        {
         "name": "Alien: Resurrection (1997)",
         "rawType": "float64",
         "type": "float"
        },
        {
         "name": "Aliens (1986)",
         "rawType": "float64",
         "type": "float"
        },
        {
         "name": "Alien³ (1992)",
         "rawType": "float64",
         "type": "float"
        },
        {
         "name": "Alive (1993)",
         "rawType": "float64",
         "type": "float"
        },
        {
         "name": "All About Eve (1950)",
         "rawType": "float64",
         "type": "float"
        },
        {
         "name": "All Dogs Go to Heaven (1989)",
         "rawType": "float64",
         "type": "float"
        },
        {
         "name": "All Dogs Go to Heaven 2 (1996)",
         "rawType": "float64",
         "type": "float"
        },
        {
         "name": "All Over Me (1997)",
         "rawType": "float64",
         "type": "float"
        },
        {
         "name": "All Quiet on the Western Front (1930)",
         "rawType": "float64",
         "type": "float"
        },
        {
         "name": "All That Jazz (1979)",
         "rawType": "float64",
         "type": "float"
        },
        {
         "name": "All the King's Men (1949)",
         "rawType": "float64",
         "type": "float"
        },
        {
         "name": "All the Vermeers in New York (1990)",
         "rawType": "float64",
         "type": "float"
        },
        {
         "name": "Alligator (1980)",
         "rawType": "float64",
         "type": "float"
        },
        {
         "name": "Almost Famous (2000)",
         "rawType": "float64",
         "type": "float"
        },
        {
         "name": "Almost Heroes (1998)",
         "rawType": "float64",
         "type": "float"
        },
        {
         "name": "Alphaville (1965)",
         "rawType": "float64",
         "type": "float"
        },
        {
         "name": "Alvarez Kelly (1966)",
         "rawType": "float64",
         "type": "float"
        },
        {
         "name": "Amadeus (1984)",
         "rawType": "float64",
         "type": "float"
        },
        {
         "name": "Amateur (1994)",
         "rawType": "float64",
         "type": "float"
        },
        {
         "name": "American Beauty (1999)",
         "rawType": "float64",
         "type": "float"
        },
        {
         "name": "American Buffalo (1996)",
         "rawType": "float64",
         "type": "float"
        },
        {
         "name": "American Dream (1990)",
         "rawType": "float64",
         "type": "float"
        },
        {
         "name": "American Flyers (1985)",
         "rawType": "float64",
         "type": "float"
        },
        {
         "name": "American Gigolo (1980)",
         "rawType": "float64",
         "type": "float"
        },
        {
         "name": "American Graffiti (1973)",
         "rawType": "float64",
         "type": "float"
        },
        {
         "name": "American History X (1998)",
         "rawType": "float64",
         "type": "float"
        },
        {
         "name": "American Movie (1999)",
         "rawType": "float64",
         "type": "float"
        },
        {
         "name": "American Pie (1999)",
         "rawType": "float64",
         "type": "float"
        },
        {
         "name": "American Pimp (1999)",
         "rawType": "float64",
         "type": "float"
        },
        {
         "name": "American Pop (1981)",
         "rawType": "float64",
         "type": "float"
        },
        {
         "name": "American Psycho (2000)",
         "rawType": "float64",
         "type": "float"
        },
        {
         "name": "American Strays (1996)",
         "rawType": "float64",
         "type": "float"
        },
        {
         "name": "Amistad (1997)",
         "rawType": "float64",
         "type": "float"
        },
        {
         "name": "Amityville 3-D (1983)",
         "rawType": "float64",
         "type": "float"
        },
        {
         "name": "Amityville II: The Possession (1982)",
         "rawType": "float64",
         "type": "float"
        },
        {
         "name": "Amityville: A New Generation (1993)",
         "rawType": "float64",
         "type": "float"
        },
        {
         "name": "Amityville: Dollhouse (1996)",
         "rawType": "float64",
         "type": "float"
        },
        {
         "name": "Among Giants (1998)",
         "rawType": "float64",
         "type": "float"
        },
        {
         "name": "Amos & Andrew (1993)",
         "rawType": "float64",
         "type": "float"
        },
        {
         "name": "An Affair to Remember (1957)",
         "rawType": "float64",
         "type": "float"
        },
        {
         "name": "An American Tail (1986)",
         "rawType": "float64",
         "type": "float"
        },
        {
         "name": "An American Tail: Fievel Goes West (1991)",
         "rawType": "float64",
         "type": "float"
        },
        {
         "name": "An American Werewolf in London (1981)",
         "rawType": "float64",
         "type": "float"
        },
        {
         "name": "An American Werewolf in Paris (1997)",
         "rawType": "float64",
         "type": "float"
        },
        {
         "name": "An American in Paris (1951)",
         "rawType": "float64",
         "type": "float"
        },
        {
         "name": "An Awfully Big Adventure (1995)",
         "rawType": "float64",
         "type": "float"
        },
        {
         "name": "An Ideal Husband (1999)",
         "rawType": "float64",
         "type": "float"
        },
        {
         "name": "An Unforgettable Summer (1994)",
         "rawType": "float64",
         "type": "float"
        },
        {
         "name": "Anaconda (1997)",
         "rawType": "float64",
         "type": "float"
        },
        {
         "name": "Analyze This (1999)",
         "rawType": "float64",
         "type": "float"
        },
        {
         "name": "Anastasia (1997)",
         "rawType": "float64",
         "type": "float"
        },
        {
         "name": "Anatomy of a Murder (1959)",
         "rawType": "float64",
         "type": "float"
        },
        {
         "name": "Anchors Aweigh (1945)",
         "rawType": "float64",
         "type": "float"
        },
        {
         "name": "And God Created Woman (1988)",
         "rawType": "float64",
         "type": "float"
        },
        {
         "name": "And Now for Something Completely Different (1971)",
         "rawType": "float64",
         "type": "float"
        },
        {
         "name": "And the Band Played On (1993)",
         "rawType": "float64",
         "type": "float"
        },
        {
         "name": "Andre (1994)",
         "rawType": "float64",
         "type": "float"
        },
        {
         "name": "Angel Baby (1995)",
         "rawType": "float64",
         "type": "float"
        },
        {
         "name": "Angel Heart (1987)",
         "rawType": "float64",
         "type": "float"
        },
        {
         "name": "Angel and the Badman (1947)",
         "rawType": "float64",
         "type": "float"
        },
        {
         "name": "Angel on My Shoulder (1946)",
         "rawType": "float64",
         "type": "float"
        },
        {
         "name": "Angela (1995)",
         "rawType": "float64",
         "type": "float"
        },
        {
         "name": "Angela's Ashes (1999)",
         "rawType": "float64",
         "type": "float"
        },
        {
         "name": "Angels and Insects (1995)",
         "rawType": "float64",
         "type": "float"
        },
        {
         "name": "Angels in the Outfield (1994)",
         "rawType": "float64",
         "type": "float"
        },
        {
         "name": "Angus (1995)",
         "rawType": "float64",
         "type": "float"
        },
        {
         "name": "Animal House (1978)",
         "rawType": "float64",
         "type": "float"
        },
        {
         "name": "Anna Karenina (1997)",
         "rawType": "float64",
         "type": "float"
        },
        {
         "name": "Anna and the King (1999)",
         "rawType": "float64",
         "type": "float"
        },
        {
         "name": "Anne Frank Remembered (1995)",
         "rawType": "float64",
         "type": "float"
        },
        {
         "name": "Annie Hall (1977)",
         "rawType": "float64",
         "type": "float"
        },
        {
         "name": "Another Day in Paradise (1998)",
         "rawType": "float64",
         "type": "float"
        },
        {
         "name": "Another Stakeout (1993)",
         "rawType": "float64",
         "type": "float"
        },
        {
         "name": "Antz (1998)",
         "rawType": "float64",
         "type": "float"
        },
        {
         "name": "Any Given Sunday (1999)",
         "rawType": "float64",
         "type": "float"
        },
        {
         "name": "Anywhere But Here (1999)",
         "rawType": "float64",
         "type": "float"
        },
        {
         "name": "Aparajito (1956)",
         "rawType": "float64",
         "type": "float"
        },
        {
         "name": "Apocalypse Now (1979)",
         "rawType": "float64",
         "type": "float"
        },
        {
         "name": "Apollo 13 (1995)",
         "rawType": "float64",
         "type": "float"
        },
        {
         "name": "April Fool's Day (1986)",
         "rawType": "float64",
         "type": "float"
        },
        {
         "name": "Apt Pupil (1998)",
         "rawType": "float64",
         "type": "float"
        },
        {
         "name": "Arachnophobia (1990)",
         "rawType": "float64",
         "type": "float"
        },
        {
         "name": "Arlington Road (1999)",
         "rawType": "float64",
         "type": "float"
        },
        {
         "name": "Armageddon (1998)",
         "rawType": "float64",
         "type": "float"
        },
        {
         "name": "Armed and Dangerous (1986)",
         "rawType": "float64",
         "type": "float"
        },
        {
         "name": "Arsenic and Old Lace (1944)",
         "rawType": "float64",
         "type": "float"
        },
        {
         "name": "Artemisia (1997)",
         "rawType": "float64",
         "type": "float"
        },
        {
         "name": "Arthur (1981)",
         "rawType": "float64",
         "type": "float"
        },
        {
         "name": "Ashes of Time (1994)",
         "rawType": "float64",
         "type": "float"
        },
        {
         "name": "Assassination (1987)",
         "rawType": "float64",
         "type": "float"
        },
        {
         "name": "Assassins (1995)",
         "rawType": "float64",
         "type": "float"
        },
        {
         "name": "Assault on Precinct 13 (1976)",
         "rawType": "float64",
         "type": "float"
        },
        {
         "name": "Asylum (1972)",
         "rawType": "float64",
         "type": "float"
        },
        {
         "name": "At First Sight (1999)",
         "rawType": "float64",
         "type": "float"
        },
        {
         "name": "Atlantic City (1980)",
         "rawType": "float64",
         "type": "float"
        },
        {
         "name": "Audrey Rose (1977)",
         "rawType": "float64",
         "type": "float"
        },
        {
         "name": "August (1996)",
         "rawType": "float64",
         "type": "float"
        },
        {
         "name": "Auntie Mame (1958)",
         "rawType": "float64",
         "type": "float"
        },
        {
         "name": "Austin Powers: International Man of Mystery (1997)",
         "rawType": "float64",
         "type": "float"
        },
        {
         "name": "Austin Powers: The Spy Who Shagged Me (1999)",
         "rawType": "float64",
         "type": "float"
        },
        {
         "name": "Autumn in New York (2000)",
         "rawType": "float64",
         "type": "float"
        },
        {
         "name": "Avalanche (1978)",
         "rawType": "float64",
         "type": "float"
        },
        {
         "name": "Awakenings (1990)",
         "rawType": "float64",
         "type": "float"
        },
        {
         "name": "B. Monkey (1998)",
         "rawType": "float64",
         "type": "float"
        },
        {
         "name": "BASEketball (1998)",
         "rawType": "float64",
         "type": "float"
        },
        {
         "name": "Babe (1995)",
         "rawType": "float64",
         "type": "float"
        },
        {
         "name": "Babe: Pig in the City (1998)",
         "rawType": "float64",
         "type": "float"
        },
        {
         "name": "Babes in Toyland (1961)",
         "rawType": "float64",
         "type": "float"
        },
        {
         "name": "Baby Geniuses (1999)",
         "rawType": "float64",
         "type": "float"
        },
        {
         "name": "Babyfever (1994)",
         "rawType": "float64",
         "type": "float"
        },
        {
         "name": "Bachelor Party (1984)",
         "rawType": "float64",
         "type": "float"
        },
        {
         "name": "Back to School (1986)",
         "rawType": "float64",
         "type": "float"
        },
        {
         "name": "Back to the Future (1985)",
         "rawType": "float64",
         "type": "float"
        },
        {
         "name": "Back to the Future Part II (1989)",
         "rawType": "float64",
         "type": "float"
        },
        {
         "name": "Back to the Future Part III (1990)",
         "rawType": "float64",
         "type": "float"
        },
        {
         "name": "Backdraft (1991)",
         "rawType": "float64",
         "type": "float"
        },
        {
         "name": "Bad Boys (1995)",
         "rawType": "float64",
         "type": "float"
        },
        {
         "name": "Bad Company (1995)",
         "rawType": "float64",
         "type": "float"
        },
        {
         "name": "Bad Girls (1994)",
         "rawType": "float64",
         "type": "float"
        },
        {
         "name": "Bad Lieutenant (1992)",
         "rawType": "float64",
         "type": "float"
        },
        {
         "name": "Bad Moon (1996)",
         "rawType": "float64",
         "type": "float"
        },
        {
         "name": "Bad Taste (1987)",
         "rawType": "float64",
         "type": "float"
        },
        {
         "name": "Badlands (1973)",
         "rawType": "float64",
         "type": "float"
        },
        {
         "name": "Bait (2000)",
         "rawType": "float64",
         "type": "float"
        },
        {
         "name": "Balto (1995)",
         "rawType": "float64",
         "type": "float"
        },
        {
         "name": "Bambi (1942)",
         "rawType": "float64",
         "type": "float"
        },
        {
         "name": "Bamboozled (2000)",
         "rawType": "float64",
         "type": "float"
        },
        {
         "name": "Bananas (1971)",
         "rawType": "float64",
         "type": "float"
        },
        {
         "name": "Band of the Hand (1986)",
         "rawType": "float64",
         "type": "float"
        },
        {
         "name": "Bandit Queen (1994)",
         "rawType": "float64",
         "type": "float"
        },
        {
         "name": "Bandits (1997)",
         "rawType": "float64",
         "type": "float"
        },
        {
         "name": "Baraka (1992)",
         "rawType": "float64",
         "type": "float"
        },
        {
         "name": "Barb Wire (1996)",
         "rawType": "float64",
         "type": "float"
        },
        {
         "name": "Barbarella (1968)",
         "rawType": "float64",
         "type": "float"
        },
        {
         "name": "Barcelona (1994)",
         "rawType": "float64",
         "type": "float"
        },
        {
         "name": "Barefoot in the Park (1967)",
         "rawType": "float64",
         "type": "float"
        },
        {
         "name": "Barenaked in America (1999)",
         "rawType": "float64",
         "type": "float"
        },
        {
         "name": "Barney's Great Adventure (1998)",
         "rawType": "float64",
         "type": "float"
        },
        {
         "name": "Barry Lyndon (1975)",
         "rawType": "float64",
         "type": "float"
        },
        {
         "name": "Basic Instinct (1992)",
         "rawType": "float64",
         "type": "float"
        },
        {
         "name": "Basquiat (1996)",
         "rawType": "float64",
         "type": "float"
        },
        {
         "name": "Bastard Out of Carolina (1996)",
         "rawType": "float64",
         "type": "float"
        },
        {
         "name": "Batman & Robin (1997)",
         "rawType": "float64",
         "type": "float"
        },
        {
         "name": "Batman (1989)",
         "rawType": "float64",
         "type": "float"
        },
        {
         "name": "Batman Forever (1995)",
         "rawType": "float64",
         "type": "float"
        },
        {
         "name": "Batman Returns (1992)",
         "rawType": "float64",
         "type": "float"
        },
        {
         "name": "Batman: Mask of the Phantasm (1993)",
         "rawType": "float64",
         "type": "float"
        },
        {
         "name": "Bats (1999)",
         "rawType": "float64",
         "type": "float"
        },
        {
         "name": "Battle for the Planet of the Apes (1973)",
         "rawType": "float64",
         "type": "float"
        },
        {
         "name": "Battlefield Earth (2000)",
         "rawType": "float64",
         "type": "float"
        },
        {
         "name": "Battling Butler (1926)",
         "rawType": "float64",
         "type": "float"
        },
        {
         "name": "Beach Party (1963)",
         "rawType": "float64",
         "type": "float"
        },
        {
         "name": "Bean (1997)",
         "rawType": "float64",
         "type": "float"
        },
        {
         "name": "Beautiful (2000)",
         "rawType": "float64",
         "type": "float"
        },
        {
         "name": "Beautiful Girls (1996)",
         "rawType": "float64",
         "type": "float"
        },
        {
         "name": "Beautiful People (1999)",
         "rawType": "float64",
         "type": "float"
        },
        {
         "name": "Beautiful Thing (1996)",
         "rawType": "float64",
         "type": "float"
        },
        {
         "name": "Beauty and the Beast (1991)",
         "rawType": "float64",
         "type": "float"
        },
        {
         "name": "Bed of Roses (1996)",
         "rawType": "float64",
         "type": "float"
        },
        {
         "name": "Bedknobs and Broomsticks (1971)",
         "rawType": "float64",
         "type": "float"
        },
        {
         "name": "Beetlejuice (1988)",
         "rawType": "float64",
         "type": "float"
        },
        {
         "name": "Before Sunrise (1995)",
         "rawType": "float64",
         "type": "float"
        },
        {
         "name": "Before and After (1996)",
         "rawType": "float64",
         "type": "float"
        },
        {
         "name": "Being John Malkovich (1999)",
         "rawType": "float64",
         "type": "float"
        },
        {
         "name": "Being There (1979)",
         "rawType": "float64",
         "type": "float"
        },
        {
         "name": "Belizaire the Cajun (1986)",
         "rawType": "float64",
         "type": "float"
        },
        {
         "name": "Bell, Book and Candle (1958)",
         "rawType": "float64",
         "type": "float"
        },
        {
         "name": "Belly (1998)",
         "rawType": "float64",
         "type": "float"
        },
        {
         "name": "Beloved (1998)",
         "rawType": "float64",
         "type": "float"
        },
        {
         "name": "Ben-Hur (1959)",
         "rawType": "float64",
         "type": "float"
        },
        {
         "name": "Beneath the Planet of the Apes (1970)",
         "rawType": "float64",
         "type": "float"
        },
        {
         "name": "Benji (1974)",
         "rawType": "float64",
         "type": "float"
        },
        {
         "name": "Benji the Hunted (1987)",
         "rawType": "float64",
         "type": "float"
        },
        {
         "name": "Benny & Joon (1993)",
         "rawType": "float64",
         "type": "float"
        },
        {
         "name": "Bent (1997)",
         "rawType": "float64",
         "type": "float"
        },
        {
         "name": "Best Laid Plans (1999)",
         "rawType": "float64",
         "type": "float"
        },
        {
         "name": "Best Men (1997)",
         "rawType": "float64",
         "type": "float"
        },
        {
         "name": "Best in Show (2000)",
         "rawType": "float64",
         "type": "float"
        },
        {
         "name": "Best of the Best 3: No Turning Back (1995)",
         "rawType": "float64",
         "type": "float"
        },
        {
         "name": "Betrayed (1988)",
         "rawType": "float64",
         "type": "float"
        },
        {
         "name": "Better Living (1998)",
         "rawType": "float64",
         "type": "float"
        },
        {
         "name": "Better Living Through Circuitry (1999)",
         "rawType": "float64",
         "type": "float"
        },
        {
         "name": "Better Off Dead... (1985)",
         "rawType": "float64",
         "type": "float"
        },
        {
         "name": "Better Than Chocolate (1999)",
         "rawType": "float64",
         "type": "float"
        },
        {
         "name": "Beverly Hills Cop III (1994)",
         "rawType": "float64",
         "type": "float"
        },
        {
         "name": "Beverly Hills Ninja (1997)",
         "rawType": "float64",
         "type": "float"
        },
        {
         "name": "Beyond Rangoon (1995)",
         "rawType": "float64",
         "type": "float"
        },
        {
         "name": "Beyond Silence (1996)",
         "rawType": "float64",
         "type": "float"
        },
        {
         "name": "Beyond the Poseidon Adventure (1979)",
         "rawType": "float64",
         "type": "float"
        },
        {
         "name": "Bicentennial Man (1999)",
         "rawType": "float64",
         "type": "float"
        },
        {
         "name": "Big (1988)",
         "rawType": "float64",
         "type": "float"
        },
        {
         "name": "Big Bully (1996)",
         "rawType": "float64",
         "type": "float"
        },
        {
         "name": "Big Daddy (1999)",
         "rawType": "float64",
         "type": "float"
        },
        {
         "name": "Big Momma's House (2000)",
         "rawType": "float64",
         "type": "float"
        },
        {
         "name": "Big Night (1996)",
         "rawType": "float64",
         "type": "float"
        },
        {
         "name": "Big Trouble in Little China (1986)",
         "rawType": "float64",
         "type": "float"
        },
        {
         "name": "Bikini Beach (1964)",
         "rawType": "float64",
         "type": "float"
        },
        {
         "name": "Billy Madison (1995)",
         "rawType": "float64",
         "type": "float"
        },
        {
         "name": "Billy's Holiday (1995)",
         "rawType": "float64",
         "type": "float"
        },
        {
         "name": "Bio-Dome (1996)",
         "rawType": "float64",
         "type": "float"
        },
        {
         "name": "Bird on a Wire (1990)",
         "rawType": "float64",
         "type": "float"
        },
        {
         "name": "Birdy (1984)",
         "rawType": "float64",
         "type": "float"
        },
        {
         "name": "Bitter Moon (1992)",
         "rawType": "float64",
         "type": "float"
        },
        {
         "name": "Black Beauty (1994)",
         "rawType": "float64",
         "type": "float"
        },
        {
         "name": "Black Dog (1998)",
         "rawType": "float64",
         "type": "float"
        },
        {
         "name": "Black Sheep (1996)",
         "rawType": "float64",
         "type": "float"
        },
        {
         "name": "Black and White (1999)",
         "rawType": "float64",
         "type": "float"
        },
        {
         "name": "Blackbeard's Ghost (1968)",
         "rawType": "float64",
         "type": "float"
        },
        {
         "name": "Blackmail (1929)",
         "rawType": "float64",
         "type": "float"
        },
        {
         "name": "Blade (1998)",
         "rawType": "float64",
         "type": "float"
        },
        {
         "name": "Blade Runner (1982)",
         "rawType": "float64",
         "type": "float"
        },
        {
         "name": "Blame It on Rio (1984)",
         "rawType": "float64",
         "type": "float"
        },
        {
         "name": "Blank Check (1994)",
         "rawType": "float64",
         "type": "float"
        },
        {
         "name": "Blast from the Past (1999)",
         "rawType": "float64",
         "type": "float"
        },
        {
         "name": "Blazing Saddles (1974)",
         "rawType": "float64",
         "type": "float"
        },
        {
         "name": "Bless the Child (2000)",
         "rawType": "float64",
         "type": "float"
        },
        {
         "name": "Blind Date (1987)",
         "rawType": "float64",
         "type": "float"
        },
        {
         "name": "Blink (1994)",
         "rawType": "float64",
         "type": "float"
        },
        {
         "name": "Bliss (1997)",
         "rawType": "float64",
         "type": "float"
        },
        {
         "name": "Blood Feast (1963)",
         "rawType": "float64",
         "type": "float"
        },
        {
         "name": "Blood Simple (1984)",
         "rawType": "float64",
         "type": "float"
        },
        {
         "name": "Blood on the Sun (1945)",
         "rawType": "float64",
         "type": "float"
        },
        {
         "name": "Blood, Guts, Bullets and Octane (1998)",
         "rawType": "float64",
         "type": "float"
        },
        {
         "name": "Bloodsport (1988)",
         "rawType": "float64",
         "type": "float"
        },
        {
         "name": "Blown Away (1994)",
         "rawType": "float64",
         "type": "float"
        },
        {
         "name": "Blue Chips (1994)",
         "rawType": "float64",
         "type": "float"
        },
        {
         "name": "Blue Collar (1978)",
         "rawType": "float64",
         "type": "float"
        },
        {
         "name": "Blue Hawaii (1961)",
         "rawType": "float64",
         "type": "float"
        },
        {
         "name": "Blue Sky (1994)",
         "rawType": "float64",
         "type": "float"
        },
        {
         "name": "Blue Streak (1999)",
         "rawType": "float64",
         "type": "float"
        },
        {
         "name": "Blue Velvet (1986)",
         "rawType": "float64",
         "type": "float"
        },
        {
         "name": "Blue in the Face (1995)",
         "rawType": "float64",
         "type": "float"
        },
        {
         "name": "Bluebeard (1944)",
         "rawType": "float64",
         "type": "float"
        },
        {
         "name": "Blues Brothers 2000 (1998)",
         "rawType": "float64",
         "type": "float"
        },
        {
         "name": "Bob Roberts (1992)",
         "rawType": "float64",
         "type": "float"
        },
        {
         "name": "Body Heat (1981)",
         "rawType": "float64",
         "type": "float"
        },
        {
         "name": "Body Parts (1991)",
         "rawType": "float64",
         "type": "float"
        },
        {
         "name": "Body Shots (1999)",
         "rawType": "float64",
         "type": "float"
        },
        {
         "name": "Body Snatchers (1993)",
         "rawType": "float64",
         "type": "float"
        },
        {
         "name": "Bogus (1996)",
         "rawType": "float64",
         "type": "float"
        },
        {
         "name": "Boiler Room (2000)",
         "rawType": "float64",
         "type": "float"
        },
        {
         "name": "Boiling Point (1993)",
         "rawType": "float64",
         "type": "float"
        },
        {
         "name": "Bonnie and Clyde (1967)",
         "rawType": "float64",
         "type": "float"
        },
        {
         "name": "Boogie Nights (1997)",
         "rawType": "float64",
         "type": "float"
        },
        {
         "name": "Boomerang (1992)",
         "rawType": "float64",
         "type": "float"
        },
        {
         "name": "Bootmen (2000)",
         "rawType": "float64",
         "type": "float"
        },
        {
         "name": "Booty Call (1997)",
         "rawType": "float64",
         "type": "float"
        },
        {
         "name": "Born American (1986)",
         "rawType": "float64",
         "type": "float"
        },
        {
         "name": "Born Yesterday (1950)",
         "rawType": "float64",
         "type": "float"
        },
        {
         "name": "Born to Win (1971)",
         "rawType": "float64",
         "type": "float"
        },
        {
         "name": "Bottle Rocket (1996)",
         "rawType": "float64",
         "type": "float"
        },
        {
         "name": "Bound (1996)",
         "rawType": "float64",
         "type": "float"
        },
        {
         "name": "Bound for Glory (1976)",
         "rawType": "float64",
         "type": "float"
        },
        {
         "name": "Bowfinger (1999)",
         "rawType": "float64",
         "type": "float"
        },
        {
         "name": "Boxing Helena (1993)",
         "rawType": "float64",
         "type": "float"
        },
        {
         "name": "Boys (1996)",
         "rawType": "float64",
         "type": "float"
        },
        {
         "name": "Boys Don't Cry (1999)",
         "rawType": "float64",
         "type": "float"
        },
        {
         "name": "Boys Life 2 (1997)",
         "rawType": "float64",
         "type": "float"
        },
        {
         "name": "Boys and Girls (2000)",
         "rawType": "float64",
         "type": "float"
        },
        {
         "name": "Boys on the Side (1995)",
         "rawType": "float64",
         "type": "float"
        },
        {
         "name": "Braddock: Missing in Action III (1988)",
         "rawType": "float64",
         "type": "float"
        },
        {
         "name": "Braindead (1992)",
         "rawType": "float64",
         "type": "float"
        },
        {
         "name": "Brassed Off (1996)",
         "rawType": "float64",
         "type": "float"
        },
        {
         "name": "Braveheart (1995)",
         "rawType": "float64",
         "type": "float"
        },
        {
         "name": "Brazil (1985)",
         "rawType": "float64",
         "type": "float"
        },
        {
         "name": "Breakdown (1997)",
         "rawType": "float64",
         "type": "float"
        },
        {
         "name": "Breaker Morant (1980)",
         "rawType": "float64",
         "type": "float"
        },
        {
         "name": "Breakfast at Tiffany's (1961)",
         "rawType": "float64",
         "type": "float"
        },
        {
         "name": "Breakfast of Champions (1999)",
         "rawType": "float64",
         "type": "float"
        },
        {
         "name": "Breaking Away (1979)",
         "rawType": "float64",
         "type": "float"
        },
        {
         "name": "Breaking the Waves (1996)",
         "rawType": "float64",
         "type": "float"
        },
        {
         "name": "Breathless (1983)",
         "rawType": "float64",
         "type": "float"
        },
        {
         "name": "Brenda Starr (1989)",
         "rawType": "float64",
         "type": "float"
        },
        {
         "name": "Bride of Chucky (1998)",
         "rawType": "float64",
         "type": "float"
        },
        {
         "name": "Bride of Frankenstein (1935)",
         "rawType": "float64",
         "type": "float"
        },
        {
         "name": "Brighton Beach Memoirs (1986)",
         "rawType": "float64",
         "type": "float"
        },
        {
         "name": "Bring It On (2000)",
         "rawType": "float64",
         "type": "float"
        },
        {
         "name": "Bringing Out the Dead (1999)",
         "rawType": "float64",
         "type": "float"
        },
        {
         "name": "Bringing Up Baby (1938)",
         "rawType": "float64",
         "type": "float"
        },
        {
         "name": "Broadcast News (1987)",
         "rawType": "float64",
         "type": "float"
        },
        {
         "name": "Broadway Damage (1997)",
         "rawType": "float64",
         "type": "float"
        },
        {
         "name": "Brokedown Palace (1999)",
         "rawType": "float64",
         "type": "float"
        },
        {
         "name": "Broken Arrow (1996)",
         "rawType": "float64",
         "type": "float"
        },
        {
         "name": "Broken English (1996)",
         "rawType": "float64",
         "type": "float"
        },
        {
         "name": "Broken Vessels (1998)",
         "rawType": "float64",
         "type": "float"
        },
        {
         "name": "Bronco Billy (1980)",
         "rawType": "float64",
         "type": "float"
        },
        {
         "name": "Brothers in Trouble (1995)",
         "rawType": "float64",
         "type": "float"
        },
        {
         "name": "Brown's Requiem (1998)",
         "rawType": "float64",
         "type": "float"
        },
        {
         "name": "Buck and the Preacher (1972)",
         "rawType": "float64",
         "type": "float"
        },
        {
         "name": "Buddy (1997)",
         "rawType": "float64",
         "type": "float"
        },
        {
         "name": "Buena Vista Social Club (1999)",
         "rawType": "float64",
         "type": "float"
        },
        {
         "name": "Buffy the Vampire Slayer (1992)",
         "rawType": "float64",
         "type": "float"
        },
        {
         "name": "Bull Durham (1988)",
         "rawType": "float64",
         "type": "float"
        },
        {
         "name": "Bulletproof (1996)",
         "rawType": "float64",
         "type": "float"
        },
        {
         "name": "Bullets Over Broadway (1994)",
         "rawType": "float64",
         "type": "float"
        },
        {
         "name": "Bulworth (1998)",
         "rawType": "float64",
         "type": "float"
        },
        {
         "name": "Burglar (1987)",
         "rawType": "float64",
         "type": "float"
        },
        {
         "name": "Burnt Offerings (1976)",
         "rawType": "float64",
         "type": "float"
        },
        {
         "name": "Bushwhacked (1995)",
         "rawType": "float64",
         "type": "float"
        },
        {
         "name": "Bustin' Loose (1981)",
         "rawType": "float64",
         "type": "float"
        },
        {
         "name": "But I'm a Cheerleader (1999)",
         "rawType": "float64",
         "type": "float"
        },
        {
         "name": "Butch Cassidy and the Sundance Kid (1969)",
         "rawType": "float64",
         "type": "float"
        },
        {
         "name": "Butterfly Kiss (1995)",
         "rawType": "float64",
         "type": "float"
        },
        {
         "name": "Bye-Bye (1995)",
         "rawType": "float64",
         "type": "float"
        },
        {
         "name": "Cabaret (1972)",
         "rawType": "float64",
         "type": "float"
        },
        {
         "name": "Cabin Boy (1994)",
         "rawType": "float64",
         "type": "float"
        },
        {
         "name": "Caddyshack (1980)",
         "rawType": "float64",
         "type": "float"
        },
        {
         "name": "Calendar Girl (1993)",
         "rawType": "float64",
         "type": "float"
        },
        {
         "name": "Can't Hardly Wait (1998)",
         "rawType": "float64",
         "type": "float"
        },
        {
         "name": "Candleshoe (1977)",
         "rawType": "float64",
         "type": "float"
        },
        {
         "name": "Candyman (1992)",
         "rawType": "float64",
         "type": "float"
        },
        {
         "name": "Candyman: Farewell to the Flesh (1995)",
         "rawType": "float64",
         "type": "float"
        },
        {
         "name": "Cape Fear (1962)",
         "rawType": "float64",
         "type": "float"
        },
        {
         "name": "Cape Fear (1991)",
         "rawType": "float64",
         "type": "float"
        },
        {
         "name": "Captives (1994)",
         "rawType": "float64",
         "type": "float"
        },
        {
         "name": "Career Girls (1997)",
         "rawType": "float64",
         "type": "float"
        },
        {
         "name": "Careful (1992)",
         "rawType": "float64",
         "type": "float"
        },
        {
         "name": "Carlito's Way (1993)",
         "rawType": "float64",
         "type": "float"
        },
        {
         "name": "Carmen (1984)",
         "rawType": "float64",
         "type": "float"
        },
        {
         "name": "Carnal Knowledge (1971)",
         "rawType": "float64",
         "type": "float"
        },
        {
         "name": "Carnival of Souls (1962)",
         "rawType": "float64",
         "type": "float"
        },
        {
         "name": "Carnosaur (1993)",
         "rawType": "float64",
         "type": "float"
        },
        {
         "name": "Carnosaur 2 (1995)",
         "rawType": "float64",
         "type": "float"
        },
        {
         "name": "Carnosaur 3: Primal Species (1996)",
         "rawType": "float64",
         "type": "float"
        },
        {
         "name": "Carpool (1996)",
         "rawType": "float64",
         "type": "float"
        },
        {
         "name": "Carrie (1976)",
         "rawType": "float64",
         "type": "float"
        },
        {
         "name": "Carried Away (1996)",
         "rawType": "float64",
         "type": "float"
        },
        {
         "name": "Carrington (1995)",
         "rawType": "float64",
         "type": "float"
        },
        {
         "name": "Casablanca (1942)",
         "rawType": "float64",
         "type": "float"
        },
        {
         "name": "Casino (1995)",
         "rawType": "float64",
         "type": "float"
        },
        {
         "name": "Casper (1995)",
         "rawType": "float64",
         "type": "float"
        },
        {
         "name": "Castle Freak (1995)",
         "rawType": "float64",
         "type": "float"
        },
        {
         "name": "Cat Ballou (1965)",
         "rawType": "float64",
         "type": "float"
        },
        {
         "name": "Cat People (1982)",
         "rawType": "float64",
         "type": "float"
        },
        {
         "name": "Cat on a Hot Tin Roof (1958)",
         "rawType": "float64",
         "type": "float"
        },
        {
         "name": "Cat's Eye (1985)",
         "rawType": "float64",
         "type": "float"
        },
        {
         "name": "Catfish in Black Bean Sauce (2000)",
         "rawType": "float64",
         "type": "float"
        },
        {
         "name": "Cats Don't Dance (1997)",
         "rawType": "float64",
         "type": "float"
        },
        {
         "name": "Catwalk (1995)",
         "rawType": "float64",
         "type": "float"
        },
        {
         "name": "Caught (1996)",
         "rawType": "float64",
         "type": "float"
        },
        {
         "name": "Cavalcade (1933)",
         "rawType": "float64",
         "type": "float"
        },
        {
         "name": "Cecil B. Demented (2000)",
         "rawType": "float64",
         "type": "float"
        },
        {
         "name": "Celebrity (1998)",
         "rawType": "float64",
         "type": "float"
        },
        {
         "name": "Celtic Pride (1996)",
         "rawType": "float64",
         "type": "float"
        },
        {
         "name": "Center Stage (2000)",
         "rawType": "float64",
         "type": "float"
        },
        {
         "name": "Century (1993)",
         "rawType": "float64",
         "type": "float"
        },
        {
         "name": "Chain Reaction (1996)",
         "rawType": "float64",
         "type": "float"
        },
        {
         "name": "Chain of Fools (2000)",
         "rawType": "float64",
         "type": "float"
        },
        {
         "name": "Chairman of the Board (1998)",
         "rawType": "float64",
         "type": "float"
        },
        {
         "name": "Charade (1963)",
         "rawType": "float64",
         "type": "float"
        },
        {
         "name": "Chariots of Fire (1981)",
         "rawType": "float64",
         "type": "float"
        },
        {
         "name": "Charlie, the Lonesome Cougar (1967)",
         "rawType": "float64",
         "type": "float"
        },
        {
         "name": "Charlotte's Web (1973)",
         "rawType": "float64",
         "type": "float"
        },
        {
         "name": "Chasers (1994)",
         "rawType": "float64",
         "type": "float"
        },
        {
         "name": "Chasing Amy (1997)",
         "rawType": "float64",
         "type": "float"
        },
        {
         "name": "Cheetah (1989)",
         "rawType": "float64",
         "type": "float"
        },
        {
         "name": "Chicken Run (2000)",
         "rawType": "float64",
         "type": "float"
        },
        {
         "name": "Child's Play (1988)",
         "rawType": "float64",
         "type": "float"
        },
        {
         "name": "Child's Play 2 (1990)",
         "rawType": "float64",
         "type": "float"
        },
        {
         "name": "Children of a Lesser God (1986)",
         "rawType": "float64",
         "type": "float"
        },
        {
         "name": "Children of the Corn (1984)",
         "rawType": "float64",
         "type": "float"
        },
        {
         "name": "Children of the Corn II: The Final Sacrifice (1993)",
         "rawType": "float64",
         "type": "float"
        },
        {
         "name": "Children of the Corn IV: The Gathering (1996)",
         "rawType": "float64",
         "type": "float"
        },
        {
         "name": "Children of the Revolution (1996)",
         "rawType": "float64",
         "type": "float"
        },
        {
         "name": "Chill Factor (1999)",
         "rawType": "float64",
         "type": "float"
        },
        {
         "name": "Chinatown (1974)",
         "rawType": "float64",
         "type": "float"
        },
        {
         "name": "Chinese Box (1997)",
         "rawType": "float64",
         "type": "float"
        },
        {
         "name": "Choices (1981)",
         "rawType": "float64",
         "type": "float"
        },
        {
         "name": "Christine (1983)",
         "rawType": "float64",
         "type": "float"
        },
        {
         "name": "Chuck & Buck (2000)",
         "rawType": "float64",
         "type": "float"
        },
        {
         "name": "Chungking Express (1994)",
         "rawType": "float64",
         "type": "float"
        },
        {
         "name": "Cimarron (1931)",
         "rawType": "float64",
         "type": "float"
        },
        {
         "name": "Cinderella (1950)",
         "rawType": "float64",
         "type": "float"
        },
        {
         "name": "Cinema Paradiso (1988)",
         "rawType": "float64",
         "type": "float"
        },
        {
         "name": "Circle of Friends (1995)",
         "rawType": "float64",
         "type": "float"
        },
        {
         "name": "Circus (2000)",
         "rawType": "float64",
         "type": "float"
        },
        {
         "name": "Citizen Kane (1941)",
         "rawType": "float64",
         "type": "float"
        },
        {
         "name": "Citizen Ruth (1996)",
         "rawType": "float64",
         "type": "float"
        },
        {
         "name": "City Hall (1996)",
         "rawType": "float64",
         "type": "float"
        },
        {
         "name": "City Lights (1931)",
         "rawType": "float64",
         "type": "float"
        },
        {
         "name": "City Slickers II: The Legend of Curly's Gold (1994)",
         "rawType": "float64",
         "type": "float"
        },
        {
         "name": "City of Angels (1998)",
         "rawType": "float64",
         "type": "float"
        },
        {
         "name": "City of Industry (1997)",
         "rawType": "float64",
         "type": "float"
        },
        {
         "name": "Clara's Heart (1988)",
         "rawType": "float64",
         "type": "float"
        },
        {
         "name": "Class (1983)",
         "rawType": "float64",
         "type": "float"
        },
        {
         "name": "Class Reunion (1982)",
         "rawType": "float64",
         "type": "float"
        },
        {
         "name": "Class of Nuke 'Em High (1986)",
         "rawType": "float64",
         "type": "float"
        },
        {
         "name": "Clay Pigeons (1998)",
         "rawType": "float64",
         "type": "float"
        },
        {
         "name": "Clean Slate (1994)",
         "rawType": "float64",
         "type": "float"
        },
        {
         "name": "Clear and Present Danger (1994)",
         "rawType": "float64",
         "type": "float"
        },
        {
         "name": "Clerks (1994)",
         "rawType": "float64",
         "type": "float"
        },
        {
         "name": "Cliffhanger (1993)",
         "rawType": "float64",
         "type": "float"
        },
        {
         "name": "Clockers (1995)",
         "rawType": "float64",
         "type": "float"
        },
        {
         "name": "Clockwatchers (1997)",
         "rawType": "float64",
         "type": "float"
        },
        {
         "name": "Close Encounters of the Third Kind (1977)",
         "rawType": "float64",
         "type": "float"
        },
        {
         "name": "Clue (1985)",
         "rawType": "float64",
         "type": "float"
        },
        {
         "name": "Clueless (1995)",
         "rawType": "float64",
         "type": "float"
        },
        {
         "name": "Cobb (1994)",
         "rawType": "float64",
         "type": "float"
        },
        {
         "name": "Cobra (1925)",
         "rawType": "float64",
         "type": "float"
        },
        {
         "name": "Cocoon (1985)",
         "rawType": "float64",
         "type": "float"
        },
        {
         "name": "Cocoon: The Return (1988)",
         "rawType": "float64",
         "type": "float"
        },
        {
         "name": "Cold Comfort Farm (1995)",
         "rawType": "float64",
         "type": "float"
        },
        {
         "name": "Coldblooded (1995)",
         "rawType": "float64",
         "type": "float"
        },
        {
         "name": "Color Me Blood Red (1965)",
         "rawType": "float64",
         "type": "float"
        },
        {
         "name": "Color of Night (1994)",
         "rawType": "float64",
         "type": "float"
        },
        {
         "name": "Coma (1978)",
         "rawType": "float64",
         "type": "float"
        },
        {
         "name": "Come See the Paradise (1990)",
         "rawType": "float64",
         "type": "float"
        },
        {
         "name": "Coming Apart (1969)",
         "rawType": "float64",
         "type": "float"
        },
        {
         "name": "Coming Home (1978)",
         "rawType": "float64",
         "type": "float"
        },
        {
         "name": "Commandments (1997)",
         "rawType": "float64",
         "type": "float"
        },
        {
         "name": "Committed (2000)",
         "rawType": "float64",
         "type": "float"
        },
        {
         "name": "Communion (1989)",
         "rawType": "float64",
         "type": "float"
        },
        {
         "name": "Con Air (1997)",
         "rawType": "float64",
         "type": "float"
        },
        {
         "name": "Conan the Barbarian (1982)",
         "rawType": "float64",
         "type": "float"
        },
        {
         "name": "Condition Red (1995)",
         "rawType": "float64",
         "type": "float"
        },
        {
         "name": "Condorman (1981)",
         "rawType": "float64",
         "type": "float"
        },
        {
         "name": "Coneheads (1993)",
         "rawType": "float64",
         "type": "float"
        },
        {
         "name": "Congo (1995)",
         "rawType": "float64",
         "type": "float"
        },
        {
         "name": "Conquest of the Planet of the Apes (1972)",
         "rawType": "float64",
         "type": "float"
        },
        {
         "name": "Conspiracy Theory (1997)",
         "rawType": "float64",
         "type": "float"
        },
        {
         "name": "Contact (1997)",
         "rawType": "float64",
         "type": "float"
        },
        {
         "name": "Coogan's Bluff (1968)",
         "rawType": "float64",
         "type": "float"
        },
        {
         "name": "Cookie's Fortune (1999)",
         "rawType": "float64",
         "type": "float"
        },
        {
         "name": "Cool Hand Luke (1967)",
         "rawType": "float64",
         "type": "float"
        },
        {
         "name": "Cool Runnings (1993)",
         "rawType": "float64",
         "type": "float"
        },
        {
         "name": "Cool as Ice (1991)",
         "rawType": "float64",
         "type": "float"
        },
        {
         "name": "Cop Land (1997)",
         "rawType": "float64",
         "type": "float"
        },
        {
         "name": "Copycat (1995)",
         "rawType": "float64",
         "type": "float"
        },
        {
         "name": "Corrina, Corrina (1994)",
         "rawType": "float64",
         "type": "float"
        },
        {
         "name": "Cosi (1996)",
         "rawType": "float64",
         "type": "float"
        },
        {
         "name": "Cotton Mary (1999)",
         "rawType": "float64",
         "type": "float"
        },
        {
         "name": "Country (1984)",
         "rawType": "float64",
         "type": "float"
        },
        {
         "name": "Country Life (1994)",
         "rawType": "float64",
         "type": "float"
        },
        {
         "name": "Courage Under Fire (1996)",
         "rawType": "float64",
         "type": "float"
        },
        {
         "name": "Cousin Bette (1998)",
         "rawType": "float64",
         "type": "float"
        },
        {
         "name": "Coyote Ugly (2000)",
         "rawType": "float64",
         "type": "float"
        },
        {
         "name": "Crash (1996)",
         "rawType": "float64",
         "type": "float"
        },
        {
         "name": "Crazy in Alabama (1999)",
         "rawType": "float64",
         "type": "float"
        },
        {
         "name": "Creepshow (1982)",
         "rawType": "float64",
         "type": "float"
        },
        {
         "name": "Creepshow 2 (1987)",
         "rawType": "float64",
         "type": "float"
        },
        {
         "name": "Crimes and Misdemeanors (1989)",
         "rawType": "float64",
         "type": "float"
        },
        {
         "name": "Crimes of the Heart (1986)",
         "rawType": "float64",
         "type": "float"
        },
        {
         "name": "Crimson Tide (1995)",
         "rawType": "float64",
         "type": "float"
        },
        {
         "name": "Critical Care (1997)",
         "rawType": "float64",
         "type": "float"
        },
        {
         "name": "Crocodile Dundee (1986)",
         "rawType": "float64",
         "type": "float"
        },
        {
         "name": "Crocodile Dundee II (1988)",
         "rawType": "float64",
         "type": "float"
        },
        {
         "name": "Crooklyn (1994)",
         "rawType": "float64",
         "type": "float"
        },
        {
         "name": "Cross of Iron (1977)",
         "rawType": "float64",
         "type": "float"
        },
        {
         "name": "Crossfire (1947)",
         "rawType": "float64",
         "type": "float"
        },
        {
         "name": "Croupier (1998)",
         "rawType": "float64",
         "type": "float"
        },
        {
         "name": "Cruel Intentions (1999)",
         "rawType": "float64",
         "type": "float"
        },
        {
         "name": "Crumb (1994)",
         "rawType": "float64",
         "type": "float"
        },
        {
         "name": "Cry, the Beloved Country (1995)",
         "rawType": "float64",
         "type": "float"
        },
        {
         "name": "Cube (1997)",
         "rawType": "float64",
         "type": "float"
        },
        {
         "name": "Cujo (1983)",
         "rawType": "float64",
         "type": "float"
        },
        {
         "name": "Curdled (1996)",
         "rawType": "float64",
         "type": "float"
        },
        {
         "name": "Curse of the Puppet Master (1998)",
         "rawType": "float64",
         "type": "float"
        },
        {
         "name": "Cutter's Way (1981)",
         "rawType": "float64",
         "type": "float"
        },
        {
         "name": "Cutthroat Island (1995)",
         "rawType": "float64",
         "type": "float"
        },
        {
         "name": "Cyclo (1995)",
         "rawType": "float64",
         "type": "float"
        },
        {
         "name": "Cyrano de Bergerac (1990)",
         "rawType": "float64",
         "type": "float"
        },
        {
         "name": "D2: The Mighty Ducks (1994)",
         "rawType": "float64",
         "type": "float"
        },
        {
         "name": "D3: The Mighty Ducks (1996)",
         "rawType": "float64",
         "type": "float"
        },
        {
         "name": "Dadetown (1995)",
         "rawType": "float64",
         "type": "float"
        },
        {
         "name": "Damien: Omen II (1978)",
         "rawType": "float64",
         "type": "float"
        },
        {
         "name": "Dance with Me (1998)",
         "rawType": "float64",
         "type": "float"
        },
        {
         "name": "Dancer in the Dark (2000)",
         "rawType": "float64",
         "type": "float"
        },
        {
         "name": "Dancer, Texas Pop. 81 (1998)",
         "rawType": "float64",
         "type": "float"
        },
        {
         "name": "Dances with Wolves (1990)",
         "rawType": "float64",
         "type": "float"
        },
        {
         "name": "Dancing at Lughnasa (1998)",
         "rawType": "float64",
         "type": "float"
        },
        {
         "name": "Dangerous Beauty (1998)",
         "rawType": "float64",
         "type": "float"
        },
        {
         "name": "Dangerous Game (1993)",
         "rawType": "float64",
         "type": "float"
        },
        {
         "name": "Dangerous Ground (1997)",
         "rawType": "float64",
         "type": "float"
        },
        {
         "name": "Dangerous Liaisons (1988)",
         "rawType": "float64",
         "type": "float"
        },
        {
         "name": "Dangerous Minds (1995)",
         "rawType": "float64",
         "type": "float"
        },
        {
         "name": "Dante's Peak (1997)",
         "rawType": "float64",
         "type": "float"
        },
        {
         "name": "Darby O'Gill and the Little People (1959)",
         "rawType": "float64",
         "type": "float"
        },
        {
         "name": "Dark City (1998)",
         "rawType": "float64",
         "type": "float"
        },
        {
         "name": "Dark Command (1940)",
         "rawType": "float64",
         "type": "float"
        },
        {
         "name": "Dave (1993)",
         "rawType": "float64",
         "type": "float"
        },
        {
         "name": "Davy Crockett, King of the Wild Frontier (1955)",
         "rawType": "float64",
         "type": "float"
        },
        {
         "name": "Daylight (1996)",
         "rawType": "float64",
         "type": "float"
        },
        {
         "name": "Days of Heaven (1978)",
         "rawType": "float64",
         "type": "float"
        },
        {
         "name": "Days of Thunder (1990)",
         "rawType": "float64",
         "type": "float"
        },
        {
         "name": "Dazed and Confused (1993)",
         "rawType": "float64",
         "type": "float"
        },
        {
         "name": "Dead Again (1991)",
         "rawType": "float64",
         "type": "float"
        },
        {
         "name": "Dead Calm (1989)",
         "rawType": "float64",
         "type": "float"
        },
        {
         "name": "Dead Man (1995)",
         "rawType": "float64",
         "type": "float"
        },
        {
         "name": "Dead Man Walking (1995)",
         "rawType": "float64",
         "type": "float"
        },
        {
         "name": "Dead Man on Campus (1998)",
         "rawType": "float64",
         "type": "float"
        },
        {
         "name": "Dead Men Don't Wear Plaid (1982)",
         "rawType": "float64",
         "type": "float"
        },
        {
         "name": "Dead Poets Society (1989)",
         "rawType": "float64",
         "type": "float"
        },
        {
         "name": "Dead Presidents (1995)",
         "rawType": "float64",
         "type": "float"
        },
        {
         "name": "Dead Ringers (1988)",
         "rawType": "float64",
         "type": "float"
        },
        {
         "name": "Deadly Friend (1986)",
         "rawType": "float64",
         "type": "float"
        },
        {
         "name": "Dear God (1996)",
         "rawType": "float64",
         "type": "float"
        },
        {
         "name": "Death Becomes Her (1992)",
         "rawType": "float64",
         "type": "float"
        },
        {
         "name": "Death Wish (1974)",
         "rawType": "float64",
         "type": "float"
        },
        {
         "name": "Death Wish 3 (1985)",
         "rawType": "float64",
         "type": "float"
        },
        {
         "name": "Death Wish 4: The Crackdown (1987)",
         "rawType": "float64",
         "type": "float"
        },
        {
         "name": "Death and the Maiden (1994)",
         "rawType": "float64",
         "type": "float"
        },
        {
         "name": "Deceiver (1997)",
         "rawType": "float64",
         "type": "float"
        },
        {
         "name": "Deconstructing Harry (1997)",
         "rawType": "float64",
         "type": "float"
        },
        {
         "name": "Deep Blue Sea (1999)",
         "rawType": "float64",
         "type": "float"
        },
        {
         "name": "Deep Impact (1998)",
         "rawType": "float64",
         "type": "float"
        },
        {
         "name": "Deep Rising (1998)",
         "rawType": "float64",
         "type": "float"
        },
        {
         "name": "Defending Your Life (1991)",
         "rawType": "float64",
         "type": "float"
        },
        {
         "name": "Defying Gravity (1997)",
         "rawType": "float64",
         "type": "float"
        },
        {
         "name": "Delicatessen (1991)",
         "rawType": "float64",
         "type": "float"
        },
        {
         "name": "Deliverance (1972)",
         "rawType": "float64",
         "type": "float"
        },
        {
         "name": "Demolition Man (1993)",
         "rawType": "float64",
         "type": "float"
        },
        {
         "name": "Denise Calls Up (1995)",
         "rawType": "float64",
         "type": "float"
        },
        {
         "name": "Desert Bloom (1986)",
         "rawType": "float64",
         "type": "float"
        },
        {
         "name": "Desert Blue (1999)",
         "rawType": "float64",
         "type": "float"
        },
        {
         "name": "Desperado (1995)",
         "rawType": "float64",
         "type": "float"
        },
        {
         "name": "Desperate Measures (1998)",
         "rawType": "float64",
         "type": "float"
        },
        {
         "name": "Desperately Seeking Susan (1985)",
         "rawType": "float64",
         "type": "float"
        },
        {
         "name": "Destination Moon (1950)",
         "rawType": "float64",
         "type": "float"
        },
        {
         "name": "Destiny Turns on the Radio (1995)",
         "rawType": "float64",
         "type": "float"
        },
        {
         "name": "Detroit 9000 (1973)",
         "rawType": "float64",
         "type": "float"
        },
        {
         "name": "Detroit Rock City (1999)",
         "rawType": "float64",
         "type": "float"
        },
        {
         "name": "Deuce Bigalow: Male Gigolo (1999)",
         "rawType": "float64",
         "type": "float"
        },
        {
         "name": "Devil in a Blue Dress (1995)",
         "rawType": "float64",
         "type": "float"
        },
        {
         "name": "Diabolique (1996)",
         "rawType": "float64",
         "type": "float"
        },
        {
         "name": "Dial M for Murder (1954)",
         "rawType": "float64",
         "type": "float"
        },
        {
         "name": "Diamonds (1999)",
         "rawType": "float64",
         "type": "float"
        },
        {
         "name": "Dick (1999)",
         "rawType": "float64",
         "type": "float"
        },
        {
         "name": "Dick Tracy (1990)",
         "rawType": "float64",
         "type": "float"
        },
        {
         "name": "Die Hard (1988)",
         "rawType": "float64",
         "type": "float"
        },
        {
         "name": "Die Hard 2 (1990)",
         "rawType": "float64",
         "type": "float"
        },
        {
         "name": "Die Hard: With a Vengeance (1995)",
         "rawType": "float64",
         "type": "float"
        },
        {
         "name": "Different for Girls (1996)",
         "rawType": "float64",
         "type": "float"
        },
        {
         "name": "Digimon: The Movie (2000)",
         "rawType": "float64",
         "type": "float"
        },
        {
         "name": "Diner (1982)",
         "rawType": "float64",
         "type": "float"
        },
        {
         "name": "Dinosaur (2000)",
         "rawType": "float64",
         "type": "float"
        },
        {
         "name": "Dirty Dancing (1987)",
         "rawType": "float64",
         "type": "float"
        },
        {
         "name": "Dirty Work (1998)",
         "rawType": "float64",
         "type": "float"
        },
        {
         "name": "Disclosure (1994)",
         "rawType": "float64",
         "type": "float"
        },
        {
         "name": "Disturbing Behavior (1998)",
         "rawType": "float64",
         "type": "float"
        },
        {
         "name": "Diva (1981)",
         "rawType": "float64",
         "type": "float"
        },
        {
         "name": "Do the Right Thing (1989)",
         "rawType": "float64",
         "type": "float"
        },
        {
         "name": "Doctor Dolittle (1967)",
         "rawType": "float64",
         "type": "float"
        },
        {
         "name": "Doctor Dolittle (1998)",
         "rawType": "float64",
         "type": "float"
        },
        {
         "name": "Doctor Zhivago (1965)",
         "rawType": "float64",
         "type": "float"
        },
        {
         "name": "Dog Day Afternoon (1975)",
         "rawType": "float64",
         "type": "float"
        },
        {
         "name": "Dog Park (1998)",
         "rawType": "float64",
         "type": "float"
        },
        {
         "name": "Dogma (1999)",
         "rawType": "float64",
         "type": "float"
        },
        {
         "name": "Don't Be a Menace to South Central While Drinking Your Juice in the Hood (1996)",
         "rawType": "float64",
         "type": "float"
        },
        {
         "name": "Donnie Brasco (1997)",
         "rawType": "float64",
         "type": "float"
        },
        {
         "name": "Double Happiness (1994)",
         "rawType": "float64",
         "type": "float"
        },
        {
         "name": "Double Indemnity (1944)",
         "rawType": "float64",
         "type": "float"
        },
        {
         "name": "Double Jeopardy (1999)",
         "rawType": "float64",
         "type": "float"
        },
        {
         "name": "Double Team (1997)",
         "rawType": "float64",
         "type": "float"
        },
        {
         "name": "Doug's 1st Movie (1999)",
         "rawType": "float64",
         "type": "float"
        },
        {
         "name": "Down Periscope (1996)",
         "rawType": "float64",
         "type": "float"
        },
        {
         "name": "Down by Law (1986)",
         "rawType": "float64",
         "type": "float"
        },
        {
         "name": "Down in the Delta (1998)",
         "rawType": "float64",
         "type": "float"
        },
        {
         "name": "Down to You (2000)",
         "rawType": "float64",
         "type": "float"
        },
        {
         "name": "Dr. No (1962)",
         "rawType": "float64",
         "type": "float"
        },
        {
         "name": "Dracula (1931)",
         "rawType": "float64",
         "type": "float"
        },
        {
         "name": "Dracula: Dead and Loving It (1995)",
         "rawType": "float64",
         "type": "float"
        },
        {
         "name": "Dream Man (1995)",
         "rawType": "float64",
         "type": "float"
        },
        {
         "name": "Dream for an Insomniac (1996)",
         "rawType": "float64",
         "type": "float"
        },
        {
         "name": "Dreamscape (1984)",
         "rawType": "float64",
         "type": "float"
        },
        {
         "name": "Drive Me Crazy (1999)",
         "rawType": "float64",
         "type": "float"
        },
        {
         "name": "Driving Miss Daisy (1989)",
         "rawType": "float64",
         "type": "float"
        },
        {
         "name": "Drop Dead Fred (1991)",
         "rawType": "float64",
         "type": "float"
        },
        {
         "name": "Drop Dead Gorgeous (1999)",
         "rawType": "float64",
         "type": "float"
        },
        {
         "name": "Drop Zone (1994)",
         "rawType": "float64",
         "type": "float"
        },
        {
         "name": "Drowning Mona (2000)",
         "rawType": "float64",
         "type": "float"
        },
        {
         "name": "Drugstore Cowboy (1989)",
         "rawType": "float64",
         "type": "float"
        },
        {
         "name": "Drunks (1997)",
         "rawType": "float64",
         "type": "float"
        },
        {
         "name": "Duck Soup (1933)",
         "rawType": "float64",
         "type": "float"
        },
        {
         "name": "Dudley Do-Right (1999)",
         "rawType": "float64",
         "type": "float"
        },
        {
         "name": "Duel in the Sun (1946)",
         "rawType": "float64",
         "type": "float"
        },
        {
         "name": "Duets (2000)",
         "rawType": "float64",
         "type": "float"
        },
        {
         "name": "Dumbo (1941)",
         "rawType": "float64",
         "type": "float"
        },
        {
         "name": "Dune (1984)",
         "rawType": "float64",
         "type": "float"
        },
        {
         "name": "Dunston Checks In (1996)",
         "rawType": "float64",
         "type": "float"
        },
        {
         "name": "Dying Young (1991)",
         "rawType": "float64",
         "type": "float"
        },
        {
         "name": "E.T. the Extra-Terrestrial (1982)",
         "rawType": "float64",
         "type": "float"
        },
        {
         "name": "Earthquake (1974)",
         "rawType": "float64",
         "type": "float"
        },
        {
         "name": "East of Eden (1955)",
         "rawType": "float64",
         "type": "float"
        },
        {
         "name": "Easy Money (1983)",
         "rawType": "float64",
         "type": "float"
        },
        {
         "name": "Easy Rider (1969)",
         "rawType": "float64",
         "type": "float"
        },
        {
         "name": "Eat Drink Man Woman (1994)",
         "rawType": "float64",
         "type": "float"
        },
        {
         "name": "Eaten Alive (1976)",
         "rawType": "float64",
         "type": "float"
        },
        {
         "name": "Ed (1996)",
         "rawType": "float64",
         "type": "float"
        },
        {
         "name": "Ed Wood (1994)",
         "rawType": "float64",
         "type": "float"
        },
        {
         "name": "Ed's Next Move (1996)",
         "rawType": "float64",
         "type": "float"
        },
        {
         "name": "Eddie (1996)",
         "rawType": "float64",
         "type": "float"
        },
        {
         "name": "Edge of Seventeen (1998)",
         "rawType": "float64",
         "type": "float"
        },
        {
         "name": "Edward Scissorhands (1990)",
         "rawType": "float64",
         "type": "float"
        },
        {
         "name": "Eight Days a Week (1997)",
         "rawType": "float64",
         "type": "float"
        },
        {
         "name": "Election (1999)",
         "rawType": "float64",
         "type": "float"
        },
        {
         "name": "Elizabeth (1998)",
         "rawType": "float64",
         "type": "float"
        },
        {
         "name": "Elstree Calling (1930)",
         "rawType": "float64",
         "type": "float"
        },
        {
         "name": "Emma (1996)",
         "rawType": "float64",
         "type": "float"
        },
        {
         "name": "Empire Records (1995)",
         "rawType": "float64",
         "type": "float"
        },
        {
         "name": "Enchanted April (1991)",
         "rawType": "float64",
         "type": "float"
        },
        {
         "name": "Encino Man (1992)",
         "rawType": "float64",
         "type": "float"
        },
        {
         "name": "End of Days (1999)",
         "rawType": "float64",
         "type": "float"
        },
        {
         "name": "Enemy of the State (1998)",
         "rawType": "float64",
         "type": "float"
        },
        {
         "name": "Entrapment (1999)",
         "rawType": "float64",
         "type": "float"
        },
        {
         "name": "Eraser (1996)",
         "rawType": "float64",
         "type": "float"
        },
        {
         "name": "Eraserhead (1977)",
         "rawType": "float64",
         "type": "float"
        },
        {
         "name": "Erin Brockovich (2000)",
         "rawType": "float64",
         "type": "float"
        },
        {
         "name": "Escape from L.A. (1996)",
         "rawType": "float64",
         "type": "float"
        },
        {
         "name": "Escape from New York (1981)",
         "rawType": "float64",
         "type": "float"
        },
        {
         "name": "Escape from the Planet of the Apes (1971)",
         "rawType": "float64",
         "type": "float"
        },
        {
         "name": "Escape to Witch Mountain (1975)",
         "rawType": "float64",
         "type": "float"
        },
        {
         "name": "Eve's Bayou (1997)",
         "rawType": "float64",
         "type": "float"
        },
        {
         "name": "Event Horizon (1997)",
         "rawType": "float64",
         "type": "float"
        },
        {
         "name": "Ever After: A Cinderella Story (1998)",
         "rawType": "float64",
         "type": "float"
        },
        {
         "name": "Everest (1998)",
         "rawType": "float64",
         "type": "float"
        },
        {
         "name": "Everyone Says I Love You (1996)",
         "rawType": "float64",
         "type": "float"
        },
        {
         "name": "Everything Relative (1996)",
         "rawType": "float64",
         "type": "float"
        },
        {
         "name": "Evita (1996)",
         "rawType": "float64",
         "type": "float"
        },
        {
         "name": "Excalibur (1981)",
         "rawType": "float64",
         "type": "float"
        },
        {
         "name": "Excess Baggage (1997)",
         "rawType": "float64",
         "type": "float"
        },
        {
         "name": "Executive Decision (1996)",
         "rawType": "float64",
         "type": "float"
        },
        {
         "name": "Exit to Eden (1994)",
         "rawType": "float64",
         "type": "float"
        },
        {
         "name": "Exorcist II: The Heretic (1977)",
         "rawType": "float64",
         "type": "float"
        },
        {
         "name": "Exotica (1994)",
         "rawType": "float64",
         "type": "float"
        },
        {
         "name": "Extreme Measures (1996)",
         "rawType": "float64",
         "type": "float"
        },
        {
         "name": "Extremities (1986)",
         "rawType": "float64",
         "type": "float"
        },
        {
         "name": "Eye for an Eye (1996)",
         "rawType": "float64",
         "type": "float"
        },
        {
         "name": "Eye of the Beholder (1999)",
         "rawType": "float64",
         "type": "float"
        },
        {
         "name": "Eyes Wide Shut (1999)",
         "rawType": "float64",
         "type": "float"
        },
        {
         "name": "Eyes of Laura Mars (1978)",
         "rawType": "float64",
         "type": "float"
        },
        {
         "name": "F/X (1986)",
         "rawType": "float64",
         "type": "float"
        },
        {
         "name": "Face/Off (1997)",
         "rawType": "float64",
         "type": "float"
        },
        {
         "name": "Faces (1968)",
         "rawType": "float64",
         "type": "float"
        },
        {
         "name": "Fair Game (1995)",
         "rawType": "float64",
         "type": "float"
        },
        {
         "name": "FairyTale: A True Story (1997)",
         "rawType": "float64",
         "type": "float"
        },
        {
         "name": "Faithful (1996)",
         "rawType": "float64",
         "type": "float"
        },
        {
         "name": "Fall (1997)",
         "rawType": "float64",
         "type": "float"
        },
        {
         "name": "Fall Time (1995)",
         "rawType": "float64",
         "type": "float"
        },
        {
         "name": "Fallen (1998)",
         "rawType": "float64",
         "type": "float"
        },
        {
         "name": "Falling Down (1993)",
         "rawType": "float64",
         "type": "float"
        },
        {
         "name": "Falling in Love Again (1980)",
         "rawType": "float64",
         "type": "float"
        },
        {
         "name": "Family Plot (1976)",
         "rawType": "float64",
         "type": "float"
        },
        {
         "name": "Fandango (1985)",
         "rawType": "float64",
         "type": "float"
        },
        {
         "name": "Fantasia (1940)",
         "rawType": "float64",
         "type": "float"
        },
        {
         "name": "Fantasia 2000 (1999)",
         "rawType": "float64",
         "type": "float"
        },
        {
         "name": "Fantastic Voyage (1966)",
         "rawType": "float64",
         "type": "float"
        },
        {
         "name": "Far and Away (1992)",
         "rawType": "float64",
         "type": "float"
        },
        {
         "name": "Farewell My Concubine (1993)",
         "rawType": "float64",
         "type": "float"
        },
        {
         "name": "Fargo (1996)",
         "rawType": "float64",
         "type": "float"
        },
        {
         "name": "Fast Times at Ridgemont High (1982)",
         "rawType": "float64",
         "type": "float"
        },
        {
         "name": "Fast, Cheap & Out of Control (1997)",
         "rawType": "float64",
         "type": "float"
        },
        {
         "name": "Fatal Attraction (1987)",
         "rawType": "float64",
         "type": "float"
        },
        {
         "name": "Fatal Beauty (1987)",
         "rawType": "float64",
         "type": "float"
        },
        {
         "name": "Fatal Instinct (1993)",
         "rawType": "float64",
         "type": "float"
        },
        {
         "name": "Father of the Bride (1950)",
         "rawType": "float64",
         "type": "float"
        },
        {
         "name": "Father of the Bride Part II (1995)",
         "rawType": "float64",
         "type": "float"
        },
        {
         "name": "Fathers' Day (1997)",
         "rawType": "float64",
         "type": "float"
        },
        {
         "name": "Faust (1994)",
         "rawType": "float64",
         "type": "float"
        },
        {
         "name": "Fear (1996)",
         "rawType": "float64",
         "type": "float"
        },
        {
         "name": "Fear and Loathing in Las Vegas (1998)",
         "rawType": "float64",
         "type": "float"
        },
        {
         "name": "Fearless (1993)",
         "rawType": "float64",
         "type": "float"
        },
        {
         "name": "Feast of July (1995)",
         "rawType": "float64",
         "type": "float"
        },
        {
         "name": "Feeling Minnesota (1996)",
         "rawType": "float64",
         "type": "float"
        },
        {
         "name": "Felicia's Journey (1999)",
         "rawType": "float64",
         "type": "float"
        },
        {
         "name": "Female Perversions (1996)",
         "rawType": "float64",
         "type": "float"
        },
        {
         "name": "Ferris Bueller's Day Off (1986)",
         "rawType": "float64",
         "type": "float"
        },
        {
         "name": "Fever Pitch (1997)",
         "rawType": "float64",
         "type": "float"
        },
        {
         "name": "Field of Dreams (1989)",
         "rawType": "float64",
         "type": "float"
        },
        {
         "name": "Fierce Creatures (1997)",
         "rawType": "float64",
         "type": "float"
        },
        {
         "name": "Fight Club (1999)",
         "rawType": "float64",
         "type": "float"
        },
        {
         "name": "Final Destination (2000)",
         "rawType": "float64",
         "type": "float"
        },
        {
         "name": "Fire Down Below (1997)",
         "rawType": "float64",
         "type": "float"
        },
        {
         "name": "Firelight (1997)",
         "rawType": "float64",
         "type": "float"
        },
        {
         "name": "Firestarter (1984)",
         "rawType": "float64",
         "type": "float"
        },
        {
         "name": "Firestorm (1998)",
         "rawType": "float64",
         "type": "float"
        },
        {
         "name": "Firewalker (1986)",
         "rawType": "float64",
         "type": "float"
        },
        {
         "name": "First Blood (1982)",
         "rawType": "float64",
         "type": "float"
        },
        {
         "name": "First Kid (1996)",
         "rawType": "float64",
         "type": "float"
        },
        {
         "name": "First Knight (1995)",
         "rawType": "float64",
         "type": "float"
        },
        {
         "name": "Fitzcarraldo (1982)",
         "rawType": "float64",
         "type": "float"
        },
        {
         "name": "Five Easy Pieces (1970)",
         "rawType": "float64",
         "type": "float"
        },
        {
         "name": "Flashdance (1983)",
         "rawType": "float64",
         "type": "float"
        },
        {
         "name": "Flatliners (1990)",
         "rawType": "float64",
         "type": "float"
        },
        {
         "name": "Flawless (1999)",
         "rawType": "float64",
         "type": "float"
        },
        {
         "name": "Fled (1996)",
         "rawType": "float64",
         "type": "float"
        },
        {
         "name": "Flesh and Bone (1993)",
         "rawType": "float64",
         "type": "float"
        },
        {
         "name": "Fletch (1985)",
         "rawType": "float64",
         "type": "float"
        },
        {
         "name": "Fletch Lives (1989)",
         "rawType": "float64",
         "type": "float"
        },
        {
         "name": "Flight of the Navigator (1986)",
         "rawType": "float64",
         "type": "float"
        },
        {
         "name": "Flipper (1996)",
         "rawType": "float64",
         "type": "float"
        },
        {
         "name": "Flirt (1995)",
         "rawType": "float64",
         "type": "float"
        },
        {
         "name": "Flubber (1997)",
         "rawType": "float64",
         "type": "float"
        },
        {
         "name": "Fluke (1995)",
         "rawType": "float64",
         "type": "float"
        },
        {
         "name": "Fly Away Home (1996)",
         "rawType": "float64",
         "type": "float"
        },
        {
         "name": "Flying Tigers (1942)",
         "rawType": "float64",
         "type": "float"
        },
        {
         "name": "Following (1998)",
         "rawType": "float64",
         "type": "float"
        },
        {
         "name": "Foolish (1999)",
         "rawType": "float64",
         "type": "float"
        },
        {
         "name": "Fools Rush In (1997)",
         "rawType": "float64",
         "type": "float"
        },
        {
         "name": "Footloose (1984)",
         "rawType": "float64",
         "type": "float"
        },
        {
         "name": "For All Mankind (1989)",
         "rawType": "float64",
         "type": "float"
        },
        {
         "name": "For Ever Mozart (1996)",
         "rawType": "float64",
         "type": "float"
        },
        {
         "name": "For Love of the Game (1999)",
         "rawType": "float64",
         "type": "float"
        },
        {
         "name": "For Love or Money (1993)",
         "rawType": "float64",
         "type": "float"
        },
        {
         "name": "For Richer or Poorer (1997)",
         "rawType": "float64",
         "type": "float"
        },
        {
         "name": "For Whom the Bell Tolls (1943)",
         "rawType": "float64",
         "type": "float"
        },
        {
         "name": "For Your Eyes Only (1981)",
         "rawType": "float64",
         "type": "float"
        },
        {
         "name": "For a Few Dollars More (1965)",
         "rawType": "float64",
         "type": "float"
        },
        {
         "name": "For the Love of Benji (1977)",
         "rawType": "float64",
         "type": "float"
        },
        {
         "name": "Forbidden Planet (1956)",
         "rawType": "float64",
         "type": "float"
        },
        {
         "name": "Force 10 from Navarone (1978)",
         "rawType": "float64",
         "type": "float"
        },
        {
         "name": "Force of Evil (1948)",
         "rawType": "float64",
         "type": "float"
        },
        {
         "name": "Forces of Nature (1999)",
         "rawType": "float64",
         "type": "float"
        },
        {
         "name": "Foreign Correspondent (1940)",
         "rawType": "float64",
         "type": "float"
        },
        {
         "name": "Foreign Student (1994)",
         "rawType": "float64",
         "type": "float"
        },
        {
         "name": "Forever Young (1992)",
         "rawType": "float64",
         "type": "float"
        },
        {
         "name": "Forget Paris (1995)",
         "rawType": "float64",
         "type": "float"
        },
        {
         "name": "Forrest Gump (1994)",
         "rawType": "float64",
         "type": "float"
        },
        {
         "name": "Four Days in September (1997)",
         "rawType": "float64",
         "type": "float"
        },
        {
         "name": "Four Rooms (1995)",
         "rawType": "float64",
         "type": "float"
        },
        {
         "name": "Four Weddings and a Funeral (1994)",
         "rawType": "float64",
         "type": "float"
        },
        {
         "name": "Foxfire (1996)",
         "rawType": "float64",
         "type": "float"
        },
        {
         "name": "Frances (1982)",
         "rawType": "float64",
         "type": "float"
        },
        {
         "name": "Frank and Ollie (1995)",
         "rawType": "float64",
         "type": "float"
        },
        {
         "name": "Frankenstein (1931)",
         "rawType": "float64",
         "type": "float"
        },
        {
         "name": "Frankenstein Meets the Wolf Man (1943)",
         "rawType": "float64",
         "type": "float"
        },
        {
         "name": "Frankie Starlight (1995)",
         "rawType": "float64",
         "type": "float"
        },
        {
         "name": "Freddy's Dead: The Final Nightmare (1991)",
         "rawType": "float64",
         "type": "float"
        },
        {
         "name": "Free Enterprise (1998)",
         "rawType": "float64",
         "type": "float"
        },
        {
         "name": "Free Willy (1993)",
         "rawType": "float64",
         "type": "float"
        },
        {
         "name": "Free Willy 3: The Rescue (1997)",
         "rawType": "float64",
         "type": "float"
        },
        {
         "name": "Freejack (1992)",
         "rawType": "float64",
         "type": "float"
        },
        {
         "name": "Freeway (1996)",
         "rawType": "float64",
         "type": "float"
        },
        {
         "name": "French Kiss (1995)",
         "rawType": "float64",
         "type": "float"
        },
        {
         "name": "Frenzy (1972)",
         "rawType": "float64",
         "type": "float"
        },
        {
         "name": "Frequency (2000)",
         "rawType": "float64",
         "type": "float"
        },
        {
         "name": "Fresh (1994)",
         "rawType": "float64",
         "type": "float"
        },
        {
         "name": "Friday (1995)",
         "rawType": "float64",
         "type": "float"
        },
        {
         "name": "Friday the 13th (1980)",
         "rawType": "float64",
         "type": "float"
        },
        {
         "name": "Friday the 13th Part 2 (1981)",
         "rawType": "float64",
         "type": "float"
        },
        {
         "name": "Friday the 13th Part VI: Jason Lives (1986)",
         "rawType": "float64",
         "type": "float"
        },
        {
         "name": "Friday the 13th Part VII: The New Blood (1988)",
         "rawType": "float64",
         "type": "float"
        },
        {
         "name": "Friday the 13th Part VIII: Jason Takes Manhattan (1989)",
         "rawType": "float64",
         "type": "float"
        },
        {
         "name": "Friday the 13th: The Final Chapter (1984)",
         "rawType": "float64",
         "type": "float"
        },
        {
         "name": "Fried Green Tomatoes (1991)",
         "rawType": "float64",
         "type": "float"
        },
        {
         "name": "Friends & Lovers (1999)",
         "rawType": "float64",
         "type": "float"
        },
        {
         "name": "Fright Night (1985)",
         "rawType": "float64",
         "type": "float"
        },
        {
         "name": "Frogs for Snakes (1998)",
         "rawType": "float64",
         "type": "float"
        },
        {
         "name": "From Dusk Till Dawn (1996)",
         "rawType": "float64",
         "type": "float"
        },
        {
         "name": "From Here to Eternity (1953)",
         "rawType": "float64",
         "type": "float"
        },
        {
         "name": "From Russia with Love (1963)",
         "rawType": "float64",
         "type": "float"
        },
        {
         "name": "From the Hip (1987)",
         "rawType": "float64",
         "type": "float"
        },
        {
         "name": "From the Journals of Jean Seberg (1995)",
         "rawType": "float64",
         "type": "float"
        },
        {
         "name": "Full Metal Jacket (1987)",
         "rawType": "float64",
         "type": "float"
        },
        {
         "name": "Full Speed (1996)",
         "rawType": "float64",
         "type": "float"
        },
        {
         "name": "Full Tilt Boogie (1997)",
         "rawType": "float64",
         "type": "float"
        },
        {
         "name": "Funny Bones (1995)",
         "rawType": "float64",
         "type": "float"
        },
        {
         "name": "Funny Face (1957)",
         "rawType": "float64",
         "type": "float"
        },
        {
         "name": "Funny Farm (1988)",
         "rawType": "float64",
         "type": "float"
        },
        {
         "name": "G.I. Jane (1997)",
         "rawType": "float64",
         "type": "float"
        },
        {
         "name": "Gabbeh (1996)",
         "rawType": "float64",
         "type": "float"
        },
        {
         "name": "Galaxy Quest (1999)",
         "rawType": "float64",
         "type": "float"
        },
        {
         "name": "Gandhi (1982)",
         "rawType": "float64",
         "type": "float"
        },
        {
         "name": "Gang Related (1997)",
         "rawType": "float64",
         "type": "float"
        },
        {
         "name": "Gaslight (1944)",
         "rawType": "float64",
         "type": "float"
        },
        {
         "name": "Gattaca (1997)",
         "rawType": "float64",
         "type": "float"
        },
        {
         "name": "Gentleman's Agreement (1947)",
         "rawType": "float64",
         "type": "float"
        },
        {
         "name": "George of the Jungle (1997)",
         "rawType": "float64",
         "type": "float"
        },
        {
         "name": "Georgia (1995)",
         "rawType": "float64",
         "type": "float"
        },
        {
         "name": "Germinal (1993)",
         "rawType": "float64",
         "type": "float"
        },
        {
         "name": "Geronimo: An American Legend (1993)",
         "rawType": "float64",
         "type": "float"
        },
        {
         "name": "Get Carter (1971)",
         "rawType": "float64",
         "type": "float"
        },
        {
         "name": "Get Carter (2000)",
         "rawType": "float64",
         "type": "float"
        },
        {
         "name": "Get Real (1998)",
         "rawType": "float64",
         "type": "float"
        },
        {
         "name": "Get Shorty (1995)",
         "rawType": "float64",
         "type": "float"
        },
        {
         "name": "Get on the Bus (1996)",
         "rawType": "float64",
         "type": "float"
        },
        {
         "name": "Getting Even with Dad (1994)",
         "rawType": "float64",
         "type": "float"
        },
        {
         "name": "Ghost (1990)",
         "rawType": "float64",
         "type": "float"
        },
        {
         "name": "Ghost Dog: The Way of the Samurai (1999)",
         "rawType": "float64",
         "type": "float"
        },
        {
         "name": "Ghostbusters (1984)",
         "rawType": "float64",
         "type": "float"
        },
        {
         "name": "Ghostbusters II (1989)",
         "rawType": "float64",
         "type": "float"
        },
        {
         "name": "Ghosts of Mississippi (1996)",
         "rawType": "float64",
         "type": "float"
        },
        {
         "name": "Giant (1956)",
         "rawType": "float64",
         "type": "float"
        },
        {
         "name": "Gigi (1958)",
         "rawType": "float64",
         "type": "float"
        },
        {
         "name": "Gilda (1946)",
         "rawType": "float64",
         "type": "float"
        },
        {
         "name": "Girl 6 (1996)",
         "rawType": "float64",
         "type": "float"
        },
        {
         "name": "Girl, Interrupted (1999)",
         "rawType": "float64",
         "type": "float"
        },
        {
         "name": "Girlfight (2000)",
         "rawType": "float64",
         "type": "float"
        },
        {
         "name": "Girls Town (1996)",
         "rawType": "float64",
         "type": "float"
        },
        {
         "name": "Gladiator (2000)",
         "rawType": "float64",
         "type": "float"
        },
        {
         "name": "Glen or Glenda (1953)",
         "rawType": "float64",
         "type": "float"
        },
        {
         "name": "Glengarry Glen Ross (1992)",
         "rawType": "float64",
         "type": "float"
        },
        {
         "name": "Gloria (1999)",
         "rawType": "float64",
         "type": "float"
        },
        {
         "name": "Glory (1989)",
         "rawType": "float64",
         "type": "float"
        },
        {
         "name": "Go (1999)",
         "rawType": "float64",
         "type": "float"
        },
        {
         "name": "Go Fish (1994)",
         "rawType": "float64",
         "type": "float"
        },
        {
         "name": "Go Now (1995)",
         "rawType": "float64",
         "type": "float"
        },
        {
         "name": "Go West (1925)",
         "rawType": "float64",
         "type": "float"
        },
        {
         "name": "Gods and Monsters (1998)",
         "rawType": "float64",
         "type": "float"
        },
        {
         "name": "Godzilla (1998)",
         "rawType": "float64",
         "type": "float"
        },
        {
         "name": "Going My Way (1944)",
         "rawType": "float64",
         "type": "float"
        },
        {
         "name": "Gold Diggers: The Secret of Bear Mountain (1995)",
         "rawType": "float64",
         "type": "float"
        },
        {
         "name": "Golden Earrings (1947)",
         "rawType": "float64",
         "type": "float"
        },
        {
         "name": "GoldenEye (1995)",
         "rawType": "float64",
         "type": "float"
        },
        {
         "name": "Goldfinger (1964)",
         "rawType": "float64",
         "type": "float"
        },
        {
         "name": "Gone Fishin' (1997)",
         "rawType": "float64",
         "type": "float"
        },
        {
         "name": "Gone with the Wind (1939)",
         "rawType": "float64",
         "type": "float"
        },
        {
         "name": "Good Morning, Vietnam (1987)",
         "rawType": "float64",
         "type": "float"
        },
        {
         "name": "Good Will Hunting (1997)",
         "rawType": "float64",
         "type": "float"
        },
        {
         "name": "GoodFellas (1990)",
         "rawType": "float64",
         "type": "float"
        },
        {
         "name": "Gordy (1995)",
         "rawType": "float64",
         "type": "float"
        },
        {
         "name": "Gossip (2000)",
         "rawType": "float64",
         "type": "float"
        },
        {
         "name": "Gothic (1986)",
         "rawType": "float64",
         "type": "float"
        },
        {
         "name": "Grace of My Heart (1996)",
         "rawType": "float64",
         "type": "float"
        },
        {
         "name": "Grand Canyon (1991)",
         "rawType": "float64",
         "type": "float"
        },
        {
         "name": "Grand Hotel (1932)",
         "rawType": "float64",
         "type": "float"
        },
        {
         "name": "Grandview, U.S.A. (1984)",
         "rawType": "float64",
         "type": "float"
        },
        {
         "name": "Graveyard Shift (1990)",
         "rawType": "float64",
         "type": "float"
        },
        {
         "name": "Grease (1978)",
         "rawType": "float64",
         "type": "float"
        },
        {
         "name": "Grease 2 (1982)",
         "rawType": "float64",
         "type": "float"
        },
        {
         "name": "Greaser's Palace (1972)",
         "rawType": "float64",
         "type": "float"
        },
        {
         "name": "Great Expectations (1998)",
         "rawType": "float64",
         "type": "float"
        },
        {
         "name": "Gremlins (1984)",
         "rawType": "float64",
         "type": "float"
        },
        {
         "name": "Gremlins 2: The New Batch (1990)",
         "rawType": "float64",
         "type": "float"
        },
        {
         "name": "Gridlock'd (1997)",
         "rawType": "float64",
         "type": "float"
        },
        {
         "name": "Groove (2000)",
         "rawType": "float64",
         "type": "float"
        },
        {
         "name": "Grosse Pointe Blank (1997)",
         "rawType": "float64",
         "type": "float"
        },
        {
         "name": "Groundhog Day (1993)",
         "rawType": "float64",
         "type": "float"
        },
        {
         "name": "Grumpier Old Men (1995)",
         "rawType": "float64",
         "type": "float"
        },
        {
         "name": "Grumpy Old Men (1993)",
         "rawType": "float64",
         "type": "float"
        },
        {
         "name": "Guess Who's Coming to Dinner (1967)",
         "rawType": "float64",
         "type": "float"
        },
        {
         "name": "Guilty as Sin (1993)",
         "rawType": "float64",
         "type": "float"
        },
        {
         "name": "Guinevere (1999)",
         "rawType": "float64",
         "type": "float"
        },
        {
         "name": "Gulliver's Travels (1939)",
         "rawType": "float64",
         "type": "float"
        },
        {
         "name": "Gumby: The Movie (1995)",
         "rawType": "float64",
         "type": "float"
        },
        {
         "name": "Gun Shy (2000)",
         "rawType": "float64",
         "type": "float"
        },
        {
         "name": "Gung Ho (1986)",
         "rawType": "float64",
         "type": "float"
        },
        {
         "name": "Guys and Dolls (1955)",
         "rawType": "float64",
         "type": "float"
        },
        {
         "name": "Gypsy (1962)",
         "rawType": "float64",
         "type": "float"
        },
        {
         "name": "H.O.T.S. (1979)",
         "rawType": "float64",
         "type": "float"
        },
        {
         "name": "Hackers (1995)",
         "rawType": "float64",
         "type": "float"
        },
        {
         "name": "Hairspray (1988)",
         "rawType": "float64",
         "type": "float"
        },
        {
         "name": "Half Baked (1998)",
         "rawType": "float64",
         "type": "float"
        },
        {
         "name": "Halloween (1978)",
         "rawType": "float64",
         "type": "float"
        },
        {
         "name": "Halloween 4: The Return of Michael Myers (1988)",
         "rawType": "float64",
         "type": "float"
        },
        {
         "name": "Halloween 5: The Revenge of Michael Myers (1989)",
         "rawType": "float64",
         "type": "float"
        },
        {
         "name": "Halloween II (1981)",
         "rawType": "float64",
         "type": "float"
        },
        {
         "name": "Halloween: H20 (1998)",
         "rawType": "float64",
         "type": "float"
        },
        {
         "name": "Halloween: The Curse of Michael Myers (1995)",
         "rawType": "float64",
         "type": "float"
        },
        {
         "name": "Hamlet (1948)",
         "rawType": "float64",
         "type": "float"
        },
        {
         "name": "Hamlet (1964)",
         "rawType": "float64",
         "type": "float"
        },
        {
         "name": "Hamlet (1990)",
         "rawType": "float64",
         "type": "float"
        },
        {
         "name": "Hamlet (1996)",
         "rawType": "float64",
         "type": "float"
        },
        {
         "name": "Hamlet (2000)",
         "rawType": "float64",
         "type": "float"
        },
        {
         "name": "Hanging Up (2000)",
         "rawType": "float64",
         "type": "float"
        },
        {
         "name": "Happiness (1998)",
         "rawType": "float64",
         "type": "float"
        },
        {
         "name": "Happy Gilmore (1996)",
         "rawType": "float64",
         "type": "float"
        },
        {
         "name": "Happy Go Lovely (1951)",
         "rawType": "float64",
         "type": "float"
        },
        {
         "name": "Happy Weekend (1996)",
         "rawType": "float64",
         "type": "float"
        },
        {
         "name": "Happy, Texas (1999)",
         "rawType": "float64",
         "type": "float"
        },
        {
         "name": "Hard Core Logo (1996)",
         "rawType": "float64",
         "type": "float"
        },
        {
         "name": "Hard Rain (1998)",
         "rawType": "float64",
         "type": "float"
        },
        {
         "name": "Hard Target (1993)",
         "rawType": "float64",
         "type": "float"
        },
        {
         "name": "Harold and Maude (1971)",
         "rawType": "float64",
         "type": "float"
        },
        {
         "name": "Harriet the Spy (1996)",
         "rawType": "float64",
         "type": "float"
        },
        {
         "name": "Harry and the Hendersons (1987)",
         "rawType": "float64",
         "type": "float"
        },
        {
         "name": "Harvey (1950)",
         "rawType": "float64",
         "type": "float"
        },
        {
         "name": "Haunted Honeymoon (1986)",
         "rawType": "float64",
         "type": "float"
        },
        {
         "name": "Hav Plenty (1997)",
         "rawType": "float64",
         "type": "float"
        },
        {
         "name": "He Got Game (1998)",
         "rawType": "float64",
         "type": "float"
        },
        {
         "name": "He Walked by Night (1948)",
         "rawType": "float64",
         "type": "float"
        },
        {
         "name": "Head Above Water (1996)",
         "rawType": "float64",
         "type": "float"
        },
        {
         "name": "Head On (1998)",
         "rawType": "float64",
         "type": "float"
        },
        {
         "name": "Hear My Song (1991)",
         "rawType": "float64",
         "type": "float"
        },
        {
         "name": "Heart Condition (1990)",
         "rawType": "float64",
         "type": "float"
        },
        {
         "name": "Heart and Souls (1993)",
         "rawType": "float64",
         "type": "float"
        },
        {
         "name": "Heartbreak Ridge (1986)",
         "rawType": "float64",
         "type": "float"
        },
        {
         "name": "Heartburn (1986)",
         "rawType": "float64",
         "type": "float"
        },
        {
         "name": "Heat (1995)",
         "rawType": "float64",
         "type": "float"
        },
        {
         "name": "Heaven & Earth (1993)",
         "rawType": "float64",
         "type": "float"
        },
        {
         "name": "Heaven Can Wait (1978)",
         "rawType": "float64",
         "type": "float"
        },
        {
         "name": "Heaven's Burning (1997)",
         "rawType": "float64",
         "type": "float"
        },
        {
         "name": "Heaven's Prisoners (1996)",
         "rawType": "float64",
         "type": "float"
        },
        {
         "name": "Heavenly Creatures (1994)",
         "rawType": "float64",
         "type": "float"
        },
        {
         "name": "Heavy (1995)",
         "rawType": "float64",
         "type": "float"
        },
        {
         "name": "Heavy Metal (1981)",
         "rawType": "float64",
         "type": "float"
        },
        {
         "name": "Heidi Fleiss: Hollywood Madam (1995)",
         "rawType": "float64",
         "type": "float"
        },
        {
         "name": "Hell Night (1981)",
         "rawType": "float64",
         "type": "float"
        },
        {
         "name": "Hell in the Pacific (1968)",
         "rawType": "float64",
         "type": "float"
        },
        {
         "name": "Hellbound: Hellraiser II (1988)",
         "rawType": "float64",
         "type": "float"
        },
        {
         "name": "Hello Mary Lou: Prom Night II (1987)",
         "rawType": "float64",
         "type": "float"
        },
        {
         "name": "Hellraiser (1987)",
         "rawType": "float64",
         "type": "float"
        },
        {
         "name": "Hellraiser III: Hell on Earth (1992)",
         "rawType": "float64",
         "type": "float"
        },
        {
         "name": "Hellraiser: Bloodline (1996)",
         "rawType": "float64",
         "type": "float"
        },
        {
         "name": "Help! (1965)",
         "rawType": "float64",
         "type": "float"
        },
        {
         "name": "Henry Fool (1997)",
         "rawType": "float64",
         "type": "float"
        },
        {
         "name": "Henry V (1989)",
         "rawType": "float64",
         "type": "float"
        },
        {
         "name": "Herbie Goes Bananas (1980)",
         "rawType": "float64",
         "type": "float"
        },
        {
         "name": "Herbie Rides Again (1974)",
         "rawType": "float64",
         "type": "float"
        },
        {
         "name": "Hercules (1997)",
         "rawType": "float64",
         "type": "float"
        },
        {
         "name": "Hero (1992)",
         "rawType": "float64",
         "type": "float"
        },
        {
         "name": "Hideaway (1995)",
         "rawType": "float64",
         "type": "float"
        },
        {
         "name": "Hideous Kinky (1998)",
         "rawType": "float64",
         "type": "float"
        },
        {
         "name": "High Art (1998)",
         "rawType": "float64",
         "type": "float"
        },
        {
         "name": "High Fidelity (2000)",
         "rawType": "float64",
         "type": "float"
        },
        {
         "name": "High Noon (1952)",
         "rawType": "float64",
         "type": "float"
        },
        {
         "name": "High School High (1996)",
         "rawType": "float64",
         "type": "float"
        },
        {
         "name": "Higher Learning (1995)",
         "rawType": "float64",
         "type": "float"
        },
        {
         "name": "Highlander (1986)",
         "rawType": "float64",
         "type": "float"
        },
        {
         "name": "Highlander: Endgame (2000)",
         "rawType": "float64",
         "type": "float"
        },
        {
         "name": "Hilary and Jackie (1998)",
         "rawType": "float64",
         "type": "float"
        },
        {
         "name": "Hillbillys in a Haunted House (1967)",
         "rawType": "float64",
         "type": "float"
        },
        {
         "name": "His Girl Friday (1940)",
         "rawType": "float64",
         "type": "float"
        },
        {
         "name": "History of the World: Part I (1981)",
         "rawType": "float64",
         "type": "float"
        },
        {
         "name": "Hocus Pocus (1993)",
         "rawType": "float64",
         "type": "float"
        },
        {
         "name": "Holiday Inn (1942)",
         "rawType": "float64",
         "type": "float"
        },
        {
         "name": "Hollow Man (2000)",
         "rawType": "float64",
         "type": "float"
        },
        {
         "name": "Hollow Reed (1996)",
         "rawType": "float64",
         "type": "float"
        },
        {
         "name": "Holy Man (1998)",
         "rawType": "float64",
         "type": "float"
        },
        {
         "name": "Home Alone (1990)",
         "rawType": "float64",
         "type": "float"
        },
        {
         "name": "Home Alone 2: Lost in New York (1992)",
         "rawType": "float64",
         "type": "float"
        },
        {
         "name": "Home Alone 3 (1997)",
         "rawType": "float64",
         "type": "float"
        },
        {
         "name": "Home Fries (1998)",
         "rawType": "float64",
         "type": "float"
        },
        {
         "name": "Home for the Holidays (1995)",
         "rawType": "float64",
         "type": "float"
        },
        {
         "name": "Homegrown (1998)",
         "rawType": "float64",
         "type": "float"
        },
        {
         "name": "Homeward Bound II: Lost in San Francisco (1996)",
         "rawType": "float64",
         "type": "float"
        },
        {
         "name": "Homeward Bound: The Incredible Journey (1993)",
         "rawType": "float64",
         "type": "float"
        },
        {
         "name": "Honey, I Shrunk the Kids (1989)",
         "rawType": "float64",
         "type": "float"
        },
        {
         "name": "Honeymoon in Vegas (1992)",
         "rawType": "float64",
         "type": "float"
        },
        {
         "name": "Hoodlum (1997)",
         "rawType": "float64",
         "type": "float"
        },
        {
         "name": "Hook (1991)",
         "rawType": "float64",
         "type": "float"
        },
        {
         "name": "Hoop Dreams (1994)",
         "rawType": "float64",
         "type": "float"
        },
        {
         "name": "Hoosiers (1986)",
         "rawType": "float64",
         "type": "float"
        },
        {
         "name": "Hope Floats (1998)",
         "rawType": "float64",
         "type": "float"
        },
        {
         "name": "Horror Express (1972)",
         "rawType": "float64",
         "type": "float"
        },
        {
         "name": "Hot Shots! Part Deux (1993)",
         "rawType": "float64",
         "type": "float"
        },
        {
         "name": "Hotel de Love (1996)",
         "rawType": "float64",
         "type": "float"
        },
        {
         "name": "House (1986)",
         "rawType": "float64",
         "type": "float"
        },
        {
         "name": "House Arrest (1996)",
         "rawType": "float64",
         "type": "float"
        },
        {
         "name": "House II: The Second Story (1987)",
         "rawType": "float64",
         "type": "float"
        },
        {
         "name": "House Party (1990)",
         "rawType": "float64",
         "type": "float"
        },
        {
         "name": "House Party 2 (1991)",
         "rawType": "float64",
         "type": "float"
        },
        {
         "name": "House Party 3 (1994)",
         "rawType": "float64",
         "type": "float"
        },
        {
         "name": "House of Dracula (1945)",
         "rawType": "float64",
         "type": "float"
        },
        {
         "name": "House of Frankenstein (1944)",
         "rawType": "float64",
         "type": "float"
        },
        {
         "name": "How Green Was My Valley (1941)",
         "rawType": "float64",
         "type": "float"
        },
        {
         "name": "How I Won the War (1967)",
         "rawType": "float64",
         "type": "float"
        },
        {
         "name": "How Stella Got Her Groove Back (1998)",
         "rawType": "float64",
         "type": "float"
        },
        {
         "name": "How to Stuff a Wild Bikini (1965)",
         "rawType": "float64",
         "type": "float"
        },
        {
         "name": "Howard the Duck (1986)",
         "rawType": "float64",
         "type": "float"
        },
        {
         "name": "Howards End (1992)",
         "rawType": "float64",
         "type": "float"
        },
        {
         "name": "Hud (1963)",
         "rawType": "float64",
         "type": "float"
        },
        {
         "name": "Hugo Pool (1997)",
         "rawType": "float64",
         "type": "float"
        },
        {
         "name": "Human Traffic (1999)",
         "rawType": "float64",
         "type": "float"
        },
        {
         "name": "Hurlyburly (1998)",
         "rawType": "float64",
         "type": "float"
        },
        {
         "name": "Hush (1998)",
         "rawType": "float64",
         "type": "float"
        },
        {
         "name": "Hype! (1996)",
         "rawType": "float64",
         "type": "float"
        },
        {
         "name": "I Confess (1953)",
         "rawType": "float64",
         "type": "float"
        },
        {
         "name": "I Dreamed of Africa (2000)",
         "rawType": "float64",
         "type": "float"
        },
        {
         "name": "I Got the Hook Up (1998)",
         "rawType": "float64",
         "type": "float"
        },
        {
         "name": "I Know What You Did Last Summer (1997)",
         "rawType": "float64",
         "type": "float"
        },
        {
         "name": "I Like It Like That (1994)",
         "rawType": "float64",
         "type": "float"
        },
        {
         "name": "I Love Trouble (1994)",
         "rawType": "float64",
         "type": "float"
        },
        {
         "name": "I Love You, I Love You Not (1996)",
         "rawType": "float64",
         "type": "float"
        },
        {
         "name": "I Saw What You Did (1965)",
         "rawType": "float64",
         "type": "float"
        },
        {
         "name": "I Shot Andy Warhol (1996)",
         "rawType": "float64",
         "type": "float"
        },
        {
         "name": "I Still Know What You Did Last Summer (1998)",
         "rawType": "float64",
         "type": "float"
        },
        {
         "name": "I Went Down (1997)",
         "rawType": "float64",
         "type": "float"
        },
        {
         "name": "I'll Do Anything (1994)",
         "rawType": "float64",
         "type": "float"
        },
        {
         "name": "I'm Not Rappaport (1996)",
         "rawType": "float64",
         "type": "float"
        },
        {
         "name": "I.Q. (1994)",
         "rawType": "float64",
         "type": "float"
        },
        {
         "name": "Idle Hands (1999)",
         "rawType": "float64",
         "type": "float"
        },
        {
         "name": "If Lucy Fell (1996)",
         "rawType": "float64",
         "type": "float"
        },
        {
         "name": "If.... (1968)",
         "rawType": "float64",
         "type": "float"
        },
        {
         "name": "Illtown (1996)",
         "rawType": "float64",
         "type": "float"
        },
        {
         "name": "Illuminata (1998)",
         "rawType": "float64",
         "type": "float"
        },
        {
         "name": "Immortal Beloved (1994)",
         "rawType": "float64",
         "type": "float"
        },
        {
         "name": "Impact (1949)",
         "rawType": "float64",
         "type": "float"
        },
        {
         "name": "In & Out (1997)",
         "rawType": "float64",
         "type": "float"
        },
        {
         "name": "In Dreams (1999)",
         "rawType": "float64",
         "type": "float"
        },
        {
         "name": "In God's Hands (1998)",
         "rawType": "float64",
         "type": "float"
        },
        {
         "name": "In Love and War (1996)",
         "rawType": "float64",
         "type": "float"
        },
        {
         "name": "In Old California (1942)",
         "rawType": "float64",
         "type": "float"
        },
        {
         "name": "In Search of the Castaways (1962)",
         "rawType": "float64",
         "type": "float"
        },
        {
         "name": "In Too Deep (1999)",
         "rawType": "float64",
         "type": "float"
        },
        {
         "name": "In the Army Now (1994)",
         "rawType": "float64",
         "type": "float"
        },
        {
         "name": "In the Company of Men (1997)",
         "rawType": "float64",
         "type": "float"
        },
        {
         "name": "In the Heat of the Night (1967)",
         "rawType": "float64",
         "type": "float"
        },
        {
         "name": "In the Line of Fire (1993)",
         "rawType": "float64",
         "type": "float"
        },
        {
         "name": "In the Name of the Father (1993)",
         "rawType": "float64",
         "type": "float"
        },
        {
         "name": "Incognito (1997)",
         "rawType": "float64",
         "type": "float"
        },
        {
         "name": "Indecent Proposal (1993)",
         "rawType": "float64",
         "type": "float"
        },
        {
         "name": "Indiana Jones and the Last Crusade (1989)",
         "rawType": "float64",
         "type": "float"
        },
        {
         "name": "Indiana Jones and the Temple of Doom (1984)",
         "rawType": "float64",
         "type": "float"
        },
        {
         "name": "Indochine (1992)",
         "rawType": "float64",
         "type": "float"
        },
        {
         "name": "Inferno (1980)",
         "rawType": "float64",
         "type": "float"
        },
        {
         "name": "Infinity (1996)",
         "rawType": "float64",
         "type": "float"
        },
        {
         "name": "Inherit the Wind (1960)",
         "rawType": "float64",
         "type": "float"
        },
        {
         "name": "Insomnia (1997)",
         "rawType": "float64",
         "type": "float"
        },
        {
         "name": "Inspector Gadget (1999)",
         "rawType": "float64",
         "type": "float"
        },
        {
         "name": "Instinct (1999)",
         "rawType": "float64",
         "type": "float"
        },
        {
         "name": "Institute Benjamenta, or This Dream People Call Human Life (1995)",
         "rawType": "float64",
         "type": "float"
        },
        {
         "name": "Interiors (1978)",
         "rawType": "float64",
         "type": "float"
        },
        {
         "name": "Interview with the Vampire (1994)",
         "rawType": "float64",
         "type": "float"
        },
        {
         "name": "Intimate Relations (1996)",
         "rawType": "float64",
         "type": "float"
        },
        {
         "name": "Invasion of the Body Snatchers (1956)",
         "rawType": "float64",
         "type": "float"
        },
        {
         "name": "Inventing the Abbotts (1997)",
         "rawType": "float64",
         "type": "float"
        },
        {
         "name": "Irma la Douce (1963)",
         "rawType": "float64",
         "type": "float"
        },
        {
         "name": "Iron Eagle (1986)",
         "rawType": "float64",
         "type": "float"
        },
        {
         "name": "Iron Eagle II (1988)",
         "rawType": "float64",
         "type": "float"
        },
        {
         "name": "Iron Eagle IV (1995)",
         "rawType": "float64",
         "type": "float"
        },
        {
         "name": "It Came from Beneath the Sea (1955)",
         "rawType": "float64",
         "type": "float"
        },
        {
         "name": "It Came from Hollywood (1982)",
         "rawType": "float64",
         "type": "float"
        },
        {
         "name": "It Came from Outer Space (1953)",
         "rawType": "float64",
         "type": "float"
        },
        {
         "name": "It Conquered the World (1956)",
         "rawType": "float64",
         "type": "float"
        },
        {
         "name": "It Could Happen to You (1994)",
         "rawType": "float64",
         "type": "float"
        },
        {
         "name": "It Happened One Night (1934)",
         "rawType": "float64",
         "type": "float"
        },
        {
         "name": "It Takes Two (1995)",
         "rawType": "float64",
         "type": "float"
        },
        {
         "name": "It's a Wonderful Life (1946)",
         "rawType": "float64",
         "type": "float"
        },
        {
         "name": "JFK (1991)",
         "rawType": "float64",
         "type": "float"
        },
        {
         "name": "Jack (1996)",
         "rawType": "float64",
         "type": "float"
        },
        {
         "name": "Jack Frost (1998)",
         "rawType": "float64",
         "type": "float"
        },
        {
         "name": "Jackie Brown (1997)",
         "rawType": "float64",
         "type": "float"
        },
        {
         "name": "Jacob's Ladder (1990)",
         "rawType": "float64",
         "type": "float"
        },
        {
         "name": "Jade (1995)",
         "rawType": "float64",
         "type": "float"
        },
        {
         "name": "Jagged Edge (1985)",
         "rawType": "float64",
         "type": "float"
        },
        {
         "name": "Jail Bait (1954)",
         "rawType": "float64",
         "type": "float"
        },
        {
         "name": "Jakob the Liar (1999)",
         "rawType": "float64",
         "type": "float"
        },
        {
         "name": "Jamaica Inn (1939)",
         "rawType": "float64",
         "type": "float"
        },
        {
         "name": "James and the Giant Peach (1996)",
         "rawType": "float64",
         "type": "float"
        },
        {
         "name": "Jane Eyre (1996)",
         "rawType": "float64",
         "type": "float"
        },
        {
         "name": "Jason's Lyric (1994)",
         "rawType": "float64",
         "type": "float"
        },
        {
         "name": "Jawbreaker (1999)",
         "rawType": "float64",
         "type": "float"
        },
        {
         "name": "Jaws (1975)",
         "rawType": "float64",
         "type": "float"
        },
        {
         "name": "Jaws 2 (1978)",
         "rawType": "float64",
         "type": "float"
        },
        {
         "name": "Jaws 3-D (1983)",
         "rawType": "float64",
         "type": "float"
        },
        {
         "name": "Jean de Florette (1986)",
         "rawType": "float64",
         "type": "float"
        },
        {
         "name": "Jefferson in Paris (1995)",
         "rawType": "float64",
         "type": "float"
        },
        {
         "name": "Jeffrey (1995)",
         "rawType": "float64",
         "type": "float"
        },
        {
         "name": "Jeremiah Johnson (1972)",
         "rawType": "float64",
         "type": "float"
        },
        {
         "name": "Jerry Maguire (1996)",
         "rawType": "float64",
         "type": "float"
        },
        {
         "name": "Jesus' Son (1999)",
         "rawType": "float64",
         "type": "float"
        },
        {
         "name": "Jimmy Hollywood (1994)",
         "rawType": "float64",
         "type": "float"
        },
        {
         "name": "Jingle All the Way (1996)",
         "rawType": "float64",
         "type": "float"
        },
        {
         "name": "Joe Gould's Secret (2000)",
         "rawType": "float64",
         "type": "float"
        },
        {
         "name": "Joe the King (1999)",
         "rawType": "float64",
         "type": "float"
        },
        {
         "name": "Joe's Apartment (1996)",
         "rawType": "float64",
         "type": "float"
        },
        {
         "name": "Johnny 100 Pesos (1993)",
         "rawType": "float64",
         "type": "float"
        },
        {
         "name": "Johnny Mnemonic (1995)",
         "rawType": "float64",
         "type": "float"
        },
        {
         "name": "Johns (1996)",
         "rawType": "float64",
         "type": "float"
        },
        {
         "name": "Jonah Who Will Be 25 in the Year 2000 (1976)",
         "rawType": "float64",
         "type": "float"
        },
        {
         "name": "Jude (1996)",
         "rawType": "float64",
         "type": "float"
        },
        {
         "name": "Judge Dredd (1995)",
         "rawType": "float64",
         "type": "float"
        },
        {
         "name": "Judgment Night (1993)",
         "rawType": "float64",
         "type": "float"
        },
        {
         "name": "Judy Berlin (1999)",
         "rawType": "float64",
         "type": "float"
        },
        {
         "name": "Julien Donkey-Boy (1999)",
         "rawType": "float64",
         "type": "float"
        },
        {
         "name": "Jumanji (1995)",
         "rawType": "float64",
         "type": "float"
        },
        {
         "name": "Jumpin' Jack Flash (1986)",
         "rawType": "float64",
         "type": "float"
        },
        {
         "name": "Jungle Fever (1991)",
         "rawType": "float64",
         "type": "float"
        },
        {
         "name": "Junior (1994)",
         "rawType": "float64",
         "type": "float"
        },
        {
         "name": "Junk Mail (1997)",
         "rawType": "float64",
         "type": "float"
        },
        {
         "name": "Jurassic Park (1993)",
         "rawType": "float64",
         "type": "float"
        },
        {
         "name": "Jury Duty (1995)",
         "rawType": "float64",
         "type": "float"
        },
        {
         "name": "Just Cause (1995)",
         "rawType": "float64",
         "type": "float"
        },
        {
         "name": "Just the Ticket (1999)",
         "rawType": "float64",
         "type": "float"
        },
        {
         "name": "Kagemusha (1980)",
         "rawType": "float64",
         "type": "float"
        },
        {
         "name": "Kalifornia (1993)",
         "rawType": "float64",
         "type": "float"
        },
        {
         "name": "Kansas City (1996)",
         "rawType": "float64",
         "type": "float"
        },
        {
         "name": "Kaspar Hauser (1993)",
         "rawType": "float64",
         "type": "float"
        },
        {
         "name": "Kazaam (1996)",
         "rawType": "float64",
         "type": "float"
        },
        {
         "name": "Keeping the Faith (2000)",
         "rawType": "float64",
         "type": "float"
        },
        {
         "name": "Kelly's Heroes (1970)",
         "rawType": "float64",
         "type": "float"
        },
        {
         "name": "Key Largo (1948)",
         "rawType": "float64",
         "type": "float"
        },
        {
         "name": "Keys to Tulsa (1997)",
         "rawType": "float64",
         "type": "float"
        },
        {
         "name": "Kicked in the Head (1997)",
         "rawType": "float64",
         "type": "float"
        },
        {
         "name": "Kicking and Screaming (1995)",
         "rawType": "float64",
         "type": "float"
        },
        {
         "name": "Kidnapped (1960)",
         "rawType": "float64",
         "type": "float"
        },
        {
         "name": "Kids (1995)",
         "rawType": "float64",
         "type": "float"
        },
        {
         "name": "Kids in the Hall: Brain Candy (1996)",
         "rawType": "float64",
         "type": "float"
        },
        {
         "name": "Kika (1993)",
         "rawType": "float64",
         "type": "float"
        },
        {
         "name": "Killer's Kiss (1955)",
         "rawType": "float64",
         "type": "float"
        },
        {
         "name": "Kim (1950)",
         "rawType": "float64",
         "type": "float"
        },
        {
         "name": "King Creole (1958)",
         "rawType": "float64",
         "type": "float"
        },
        {
         "name": "King Kong (1933)",
         "rawType": "float64",
         "type": "float"
        },
        {
         "name": "King Kong (1976)",
         "rawType": "float64",
         "type": "float"
        },
        {
         "name": "King Kong Lives (1986)",
         "rawType": "float64",
         "type": "float"
        },
        {
         "name": "King of New York (1990)",
         "rawType": "float64",
         "type": "float"
        },
        {
         "name": "King of the Hill (1993)",
         "rawType": "float64",
         "type": "float"
        },
        {
         "name": "Kingpin (1996)",
         "rawType": "float64",
         "type": "float"
        },
        {
         "name": "Kiss Me, Guido (1997)",
         "rawType": "float64",
         "type": "float"
        },
        {
         "name": "Kiss of Death (1995)",
         "rawType": "float64",
         "type": "float"
        },
        {
         "name": "Kiss the Girls (1997)",
         "rawType": "float64",
         "type": "float"
        },
        {
         "name": "Kissed (1996)",
         "rawType": "float64",
         "type": "float"
        },
        {
         "name": "Kissing a Fool (1998)",
         "rawType": "float64",
         "type": "float"
        },
        {
         "name": "Klute (1971)",
         "rawType": "float64",
         "type": "float"
        },
        {
         "name": "Knightriders (1981)",
         "rawType": "float64",
         "type": "float"
        },
        {
         "name": "Knock Off (1998)",
         "rawType": "float64",
         "type": "float"
        },
        {
         "name": "Kolya (1996)",
         "rawType": "float64",
         "type": "float"
        },
        {
         "name": "Krippendorf's Tribe (1998)",
         "rawType": "float64",
         "type": "float"
        },
        {
         "name": "Kronos (1957)",
         "rawType": "float64",
         "type": "float"
        },
        {
         "name": "Kull the Conqueror (1997)",
         "rawType": "float64",
         "type": "float"
        },
        {
         "name": "Kundun (1997)",
         "rawType": "float64",
         "type": "float"
        },
        {
         "name": "Kurt & Courtney (1998)",
         "rawType": "float64",
         "type": "float"
        },
        {
         "name": "L.A. Confidential (1997)",
         "rawType": "float64",
         "type": "float"
        },
        {
         "name": "L.A. Story (1991)",
         "rawType": "float64",
         "type": "float"
        },
        {
         "name": "Labyrinth (1986)",
         "rawType": "float64",
         "type": "float"
        },
        {
         "name": "Lady and the Tramp (1955)",
         "rawType": "float64",
         "type": "float"
        },
        {
         "name": "Lady of Burlesque (1943)",
         "rawType": "float64",
         "type": "float"
        },
        {
         "name": "Ladybird Ladybird (1994)",
         "rawType": "float64",
         "type": "float"
        },
        {
         "name": "Ladyhawke (1985)",
         "rawType": "float64",
         "type": "float"
        },
        {
         "name": "Lake Placid (1999)",
         "rawType": "float64",
         "type": "float"
        },
        {
         "name": "Lamerica (1994)",
         "rawType": "float64",
         "type": "float"
        },
        {
         "name": "Larger Than Life (1996)",
         "rawType": "float64",
         "type": "float"
        },
        {
         "name": "Lassie (1994)",
         "rawType": "float64",
         "type": "float"
        },
        {
         "name": "Last Action Hero (1993)",
         "rawType": "float64",
         "type": "float"
        },
        {
         "name": "Last Dance (1996)",
         "rawType": "float64",
         "type": "float"
        },
        {
         "name": "Last Man Standing (1996)",
         "rawType": "float64",
         "type": "float"
        },
        {
         "name": "Last Night (1998)",
         "rawType": "float64",
         "type": "float"
        },
        {
         "name": "Last Summer in the Hamptons (1995)",
         "rawType": "float64",
         "type": "float"
        },
        {
         "name": "Late Bloomers (1996)",
         "rawType": "float64",
         "type": "float"
        },
        {
         "name": "Laura (1944)",
         "rawType": "float64",
         "type": "float"
        },
        {
         "name": "Lawn Dogs (1997)",
         "rawType": "float64",
         "type": "float"
        },
        {
         "name": "Lawnmower Man 2: Beyond Cyberspace (1996)",
         "rawType": "float64",
         "type": "float"
        },
        {
         "name": "Lawrence of Arabia (1962)",
         "rawType": "float64",
         "type": "float"
        },
        {
         "name": "Leatherface: Texas Chainsaw Massacre III (1990)",
         "rawType": "float64",
         "type": "float"
        },
        {
         "name": "Leaving Las Vegas (1995)",
         "rawType": "float64",
         "type": "float"
        },
        {
         "name": "Legend (1985)",
         "rawType": "float64",
         "type": "float"
        },
        {
         "name": "Legends of the Fall (1994)",
         "rawType": "float64",
         "type": "float"
        },
        {
         "name": "Let's Get Harry (1986)",
         "rawType": "float64",
         "type": "float"
        },
        {
         "name": "Let's Talk About Sex (1998)",
         "rawType": "float64",
         "type": "float"
        },
        {
         "name": "Lethal Weapon (1987)",
         "rawType": "float64",
         "type": "float"
        },
        {
         "name": "Lethal Weapon 2 (1989)",
         "rawType": "float64",
         "type": "float"
        },
        {
         "name": "Lethal Weapon 3 (1992)",
         "rawType": "float64",
         "type": "float"
        },
        {
         "name": "Lethal Weapon 4 (1998)",
         "rawType": "float64",
         "type": "float"
        },
        {
         "name": "Liar Liar (1997)",
         "rawType": "float64",
         "type": "float"
        },
        {
         "name": "Liberty Heights (1999)",
         "rawType": "float64",
         "type": "float"
        },
        {
         "name": "Licence to Kill (1989)",
         "rawType": "float64",
         "type": "float"
        },
        {
         "name": "Life (1999)",
         "rawType": "float64",
         "type": "float"
        },
        {
         "name": "Lifeboat (1944)",
         "rawType": "float64",
         "type": "float"
        },
        {
         "name": "Lifeforce (1985)",
         "rawType": "float64",
         "type": "float"
        },
        {
         "name": "Light It Up (1999)",
         "rawType": "float64",
         "type": "float"
        },
        {
         "name": "Light of Day (1987)",
         "rawType": "float64",
         "type": "float"
        },
        {
         "name": "Lightning Jack (1994)",
         "rawType": "float64",
         "type": "float"
        },
        {
         "name": "Limbo (1999)",
         "rawType": "float64",
         "type": "float"
        },
        {
         "name": "Limelight (1952)",
         "rawType": "float64",
         "type": "float"
        },
        {
         "name": "Little Big League (1994)",
         "rawType": "float64",
         "type": "float"
        },
        {
         "name": "Little Big Man (1970)",
         "rawType": "float64",
         "type": "float"
        },
        {
         "name": "Little Boy Blue (1997)",
         "rawType": "float64",
         "type": "float"
        },
        {
         "name": "Little Buddha (1993)",
         "rawType": "float64",
         "type": "float"
        },
        {
         "name": "Little Lord Fauntleroy (1936)",
         "rawType": "float64",
         "type": "float"
        },
        {
         "name": "Little Men (1998)",
         "rawType": "float64",
         "type": "float"
        },
        {
         "name": "Little Odessa (1994)",
         "rawType": "float64",
         "type": "float"
        },
        {
         "name": "Little Shop of Horrors (1986)",
         "rawType": "float64",
         "type": "float"
        },
        {
         "name": "Little Voice (1998)",
         "rawType": "float64",
         "type": "float"
        },
        {
         "name": "Little Women (1994)",
         "rawType": "float64",
         "type": "float"
        },
        {
         "name": "Live Flesh (1997)",
         "rawType": "float64",
         "type": "float"
        },
        {
         "name": "Live Nude Girls (1995)",
         "rawType": "float64",
         "type": "float"
        },
        {
         "name": "Live and Let Die (1973)",
         "rawType": "float64",
         "type": "float"
        },
        {
         "name": "Living Out Loud (1998)",
         "rawType": "float64",
         "type": "float"
        },
        {
         "name": "Living in Oblivion (1995)",
         "rawType": "float64",
         "type": "float"
        },
        {
         "name": "Local Hero (1983)",
         "rawType": "float64",
         "type": "float"
        },
        {
         "name": "Logan's Run (1976)",
         "rawType": "float64",
         "type": "float"
        },
        {
         "name": "Lolita (1962)",
         "rawType": "float64",
         "type": "float"
        },
        {
         "name": "Lolita (1997)",
         "rawType": "float64",
         "type": "float"
        },
        {
         "name": "Lone Star (1996)",
         "rawType": "float64",
         "type": "float"
        },
        {
         "name": "Lonely Are the Brave (1962)",
         "rawType": "float64",
         "type": "float"
        },
        {
         "name": "Looking for Richard (1996)",
         "rawType": "float64",
         "type": "float"
        },
        {
         "name": "Lord of Illusions (1995)",
         "rawType": "float64",
         "type": "float"
        },
        {
         "name": "Lord of the Flies (1963)",
         "rawType": "float64",
         "type": "float"
        },
        {
         "name": "Loser (2000)",
         "rawType": "float64",
         "type": "float"
        },
        {
         "name": "Losing Chase (1996)",
         "rawType": "float64",
         "type": "float"
        },
        {
         "name": "Losing Isaiah (1995)",
         "rawType": "float64",
         "type": "float"
        },
        {
         "name": "Lost & Found (1999)",
         "rawType": "float64",
         "type": "float"
        },
        {
         "name": "Lost Highway (1997)",
         "rawType": "float64",
         "type": "float"
        },
        {
         "name": "Lost Horizon (1937)",
         "rawType": "float64",
         "type": "float"
        },
        {
         "name": "Lost in Space (1998)",
         "rawType": "float64",
         "type": "float"
        },
        {
         "name": "Lotto Land (1995)",
         "rawType": "float64",
         "type": "float"
        },
        {
         "name": "Love & Human Remains (1993)",
         "rawType": "float64",
         "type": "float"
        },
        {
         "name": "Love & Sex (2000)",
         "rawType": "float64",
         "type": "float"
        },
        {
         "name": "Love Affair (1994)",
         "rawType": "float64",
         "type": "float"
        },
        {
         "name": "Love Is a Many-Splendored Thing (1955)",
         "rawType": "float64",
         "type": "float"
        },
        {
         "name": "Love Jones (1997)",
         "rawType": "float64",
         "type": "float"
        },
        {
         "name": "Love Serenade (1996)",
         "rawType": "float64",
         "type": "float"
        },
        {
         "name": "Love Stinks (1999)",
         "rawType": "float64",
         "type": "float"
        },
        {
         "name": "Love and Death (1975)",
         "rawType": "float64",
         "type": "float"
        },
        {
         "name": "Love and Death on Long Island (1997)",
         "rawType": "float64",
         "type": "float"
        },
        {
         "name": "Love and Other Catastrophes (1996)",
         "rawType": "float64",
         "type": "float"
        },
        {
         "name": "Love and a .45 (1994)",
         "rawType": "float64",
         "type": "float"
        },
        {
         "name": "Love in the Afternoon (1957)",
         "rawType": "float64",
         "type": "float"
        },
        {
         "name": "Love! Valour! Compassion! (1997)",
         "rawType": "float64",
         "type": "float"
        },
        {
         "name": "Love's Labour's Lost (2000)",
         "rawType": "float64",
         "type": "float"
        },
        {
         "name": "Love, etc. (1996)",
         "rawType": "float64",
         "type": "float"
        },
        {
         "name": "Lucas (1986)",
         "rawType": "float64",
         "type": "float"
        },
        {
         "name": "Lucie Aubrac (1997)",
         "rawType": "float64",
         "type": "float"
        },
        {
         "name": "Lulu on the Bridge (1998)",
         "rawType": "float64",
         "type": "float"
        },
        {
         "name": "Lured (1947)",
         "rawType": "float64",
         "type": "float"
        },
        {
         "name": "M (1931)",
         "rawType": "float64",
         "type": "float"
        },
        {
         "name": "M*A*S*H (1970)",
         "rawType": "float64",
         "type": "float"
        },
        {
         "name": "M. Butterfly (1993)",
         "rawType": "float64",
         "type": "float"
        },
        {
         "name": "Macao (1952)",
         "rawType": "float64",
         "type": "float"
        },
        {
         "name": "Mad City (1997)",
         "rawType": "float64",
         "type": "float"
        },
        {
         "name": "Mad Dog Time (1996)",
         "rawType": "float64",
         "type": "float"
        },
        {
         "name": "Mad Love (1995)",
         "rawType": "float64",
         "type": "float"
        },
        {
         "name": "Mad Max (1979)",
         "rawType": "float64",
         "type": "float"
        },
        {
         "name": "Mad Max Beyond Thunderdome (1985)",
         "rawType": "float64",
         "type": "float"
        },
        {
         "name": "Madame Butterfly (1995)",
         "rawType": "float64",
         "type": "float"
        },
        {
         "name": "Madame Sousatzka (1988)",
         "rawType": "float64",
         "type": "float"
        },
        {
         "name": "Made in America (1993)",
         "rawType": "float64",
         "type": "float"
        },
        {
         "name": "Madeline (1998)",
         "rawType": "float64",
         "type": "float"
        },
        {
         "name": "Madonna: Truth or Dare (1991)",
         "rawType": "float64",
         "type": "float"
        },
        {
         "name": "Magnolia (1999)",
         "rawType": "float64",
         "type": "float"
        },
        {
         "name": "Magnum Force (1973)",
         "rawType": "float64",
         "type": "float"
        },
        {
         "name": "Major League: Back to the Minors (1998)",
         "rawType": "float64",
         "type": "float"
        },
        {
         "name": "Make Mine Music (1946)",
         "rawType": "float64",
         "type": "float"
        },
        {
         "name": "Malcolm X (1992)",
         "rawType": "float64",
         "type": "float"
        },
        {
         "name": "Male and Female (1919)",
         "rawType": "float64",
         "type": "float"
        },
        {
         "name": "Malice (1993)",
         "rawType": "float64",
         "type": "float"
        },
        {
         "name": "Mallrats (1995)",
         "rawType": "float64",
         "type": "float"
        },
        {
         "name": "Mamma Roma (1962)",
         "rawType": "float64",
         "type": "float"
        },
        {
         "name": "Man of the House (1995)",
         "rawType": "float64",
         "type": "float"
        },
        {
         "name": "Man of the Year (1995)",
         "rawType": "float64",
         "type": "float"
        },
        {
         "name": "Man on the Moon (1999)",
         "rawType": "float64",
         "type": "float"
        },
        {
         "name": "Manhattan (1979)",
         "rawType": "float64",
         "type": "float"
        },
        {
         "name": "Manhattan Murder Mystery (1993)",
         "rawType": "float64",
         "type": "float"
        },
        {
         "name": "Manny & Lo (1996)",
         "rawType": "float64",
         "type": "float"
        },
        {
         "name": "Mansfield Park (1999)",
         "rawType": "float64",
         "type": "float"
        },
        {
         "name": "Marathon Man (1976)",
         "rawType": "float64",
         "type": "float"
        },
        {
         "name": "Margaret's Museum (1995)",
         "rawType": "float64",
         "type": "float"
        },
        {
         "name": "Marked for Death (1990)",
         "rawType": "float64",
         "type": "float"
        },
        {
         "name": "Marnie (1964)",
         "rawType": "float64",
         "type": "float"
        },
        {
         "name": "Married to the Mob (1988)",
         "rawType": "float64",
         "type": "float"
        },
        {
         "name": "Mars Attacks! (1996)",
         "rawType": "float64",
         "type": "float"
        },
        {
         "name": "Marty (1955)",
         "rawType": "float64",
         "type": "float"
        },
        {
         "name": "Marvin's Room (1996)",
         "rawType": "float64",
         "type": "float"
        },
        {
         "name": "Mary Poppins (1964)",
         "rawType": "float64",
         "type": "float"
        },
        {
         "name": "Mary Reilly (1996)",
         "rawType": "float64",
         "type": "float"
        },
        {
         "name": "Mary Shelley's Frankenstein (1994)",
         "rawType": "float64",
         "type": "float"
        },
        {
         "name": "Mascara (1999)",
         "rawType": "float64",
         "type": "float"
        },
        {
         "name": "Mass Appeal (1984)",
         "rawType": "float64",
         "type": "float"
        },
        {
         "name": "Matewan (1987)",
         "rawType": "float64",
         "type": "float"
        },
        {
         "name": "Matilda (1996)",
         "rawType": "float64",
         "type": "float"
        },
        {
         "name": "Maurice (1987)",
         "rawType": "float64",
         "type": "float"
        },
        {
         "name": "Maverick (1994)",
         "rawType": "float64",
         "type": "float"
        },
        {
         "name": "Max Dugan Returns (1983)",
         "rawType": "float64",
         "type": "float"
        },
        {
         "name": "Maximum Overdrive (1986)",
         "rawType": "float64",
         "type": "float"
        },
        {
         "name": "Maximum Risk (1996)",
         "rawType": "float64",
         "type": "float"
        },
        {
         "name": "McCabe & Mrs. Miller (1971)",
         "rawType": "float64",
         "type": "float"
        },
        {
         "name": "McHale's Navy (1997)",
         "rawType": "float64",
         "type": "float"
        },
        {
         "name": "Me Myself I (2000)",
         "rawType": "float64",
         "type": "float"
        },
        {
         "name": "Meatballs (1979)",
         "rawType": "float64",
         "type": "float"
        },
        {
         "name": "Meatballs 4 (1992)",
         "rawType": "float64",
         "type": "float"
        },
        {
         "name": "Meatballs Part II (1984)",
         "rawType": "float64",
         "type": "float"
        },
        {
         "name": "Medicine Man (1992)",
         "rawType": "float64",
         "type": "float"
        },
        {
         "name": "Mediterraneo (1991)",
         "rawType": "float64",
         "type": "float"
        },
        {
         "name": "Meet Joe Black (1998)",
         "rawType": "float64",
         "type": "float"
        },
        {
         "name": "Meet John Doe (1941)",
         "rawType": "float64",
         "type": "float"
        },
        {
         "name": "Meet Me in St. Louis (1944)",
         "rawType": "float64",
         "type": "float"
        },
        {
         "name": "Meet Wally Sparks (1997)",
         "rawType": "float64",
         "type": "float"
        },
        {
         "name": "Meet the Deedles (1998)",
         "rawType": "float64",
         "type": "float"
        },
        {
         "name": "Meet the Parents (2000)",
         "rawType": "float64",
         "type": "float"
        },
        {
         "name": "Melody Time (1948)",
         "rawType": "float64",
         "type": "float"
        },
        {
         "name": "Melvin and Howard (1980)",
         "rawType": "float64",
         "type": "float"
        },
        {
         "name": "Men Don't Leave (1990)",
         "rawType": "float64",
         "type": "float"
        },
        {
         "name": "Men in Black (1997)",
         "rawType": "float64",
         "type": "float"
        },
        {
         "name": "Menace II Society (1993)",
         "rawType": "float64",
         "type": "float"
        },
        {
         "name": "Mephisto (1981)",
         "rawType": "float64",
         "type": "float"
        },
        {
         "name": "Mercury Rising (1998)",
         "rawType": "float64",
         "type": "float"
        },
        {
         "name": "Message in a Bottle (1999)",
         "rawType": "float64",
         "type": "float"
        },
        {
         "name": "Message to Love: The Isle of Wight Festival (1996)",
         "rawType": "float64",
         "type": "float"
        },
        {
         "name": "Meteor (1979)",
         "rawType": "float64",
         "type": "float"
        },
        {
         "name": "Metro (1997)",
         "rawType": "float64",
         "type": "float"
        },
        {
         "name": "Metroland (1997)",
         "rawType": "float64",
         "type": "float"
        },
        {
         "name": "Metropolitan (1990)",
         "rawType": "float64",
         "type": "float"
        },
        {
         "name": "Miami Rhapsody (1995)",
         "rawType": "float64",
         "type": "float"
        },
        {
         "name": "Michael (1996)",
         "rawType": "float64",
         "type": "float"
        },
        {
         "name": "Michael Collins (1996)",
         "rawType": "float64",
         "type": "float"
        },
        {
         "name": "Mickey Blue Eyes (1999)",
         "rawType": "float64",
         "type": "float"
        },
        {
         "name": "Midnight Cowboy (1969)",
         "rawType": "float64",
         "type": "float"
        },
        {
         "name": "Midnight Express (1978)",
         "rawType": "float64",
         "type": "float"
        },
        {
         "name": "Midnight Run (1988)",
         "rawType": "float64",
         "type": "float"
        },
        {
         "name": "Midnight in the Garden of Good and Evil (1997)",
         "rawType": "float64",
         "type": "float"
        },
        {
         "name": "Mighty Aphrodite (1995)",
         "rawType": "float64",
         "type": "float"
        },
        {
         "name": "Mighty Joe Young (1949)",
         "rawType": "float64",
         "type": "float"
        },
        {
         "name": "Mighty Joe Young (1998)",
         "rawType": "float64",
         "type": "float"
        },
        {
         "name": "Mighty Morphin Power Rangers: The Movie (1995)",
         "rawType": "float64",
         "type": "float"
        },
        {
         "name": "Mike's Murder (1984)",
         "rawType": "float64",
         "type": "float"
        },
        {
         "name": "Mildred Pierce (1945)",
         "rawType": "float64",
         "type": "float"
        },
        {
         "name": "Milk Money (1994)",
         "rawType": "float64",
         "type": "float"
        },
        {
         "name": "Miller's Crossing (1990)",
         "rawType": "float64",
         "type": "float"
        },
        {
         "name": "Mimic (1997)",
         "rawType": "float64",
         "type": "float"
        },
        {
         "name": "Mina Tannenbaum (1994)",
         "rawType": "float64",
         "type": "float"
        },
        {
         "name": "Minnie and Moskowitz (1971)",
         "rawType": "float64",
         "type": "float"
        },
        {
         "name": "Miracle on 34th Street (1947)",
         "rawType": "float64",
         "type": "float"
        },
        {
         "name": "Miracle on 34th Street (1994)",
         "rawType": "float64",
         "type": "float"
        },
        {
         "name": "Mirage (1995)",
         "rawType": "float64",
         "type": "float"
        },
        {
         "name": "Misery (1990)",
         "rawType": "float64",
         "type": "float"
        },
        {
         "name": "Miss Julie (1999)",
         "rawType": "float64",
         "type": "float"
        },
        {
         "name": "Missing in Action (1984)",
         "rawType": "float64",
         "type": "float"
        },
        {
         "name": "Missing in Action 2: The Beginning (1985)",
         "rawType": "float64",
         "type": "float"
        },
        {
         "name": "Mission to Mars (2000)",
         "rawType": "float64",
         "type": "float"
        },
        {
         "name": "Mission: Impossible (1996)",
         "rawType": "float64",
         "type": "float"
        },
        {
         "name": "Mister Roberts (1955)",
         "rawType": "float64",
         "type": "float"
        },
        {
         "name": "Mixed Nuts (1994)",
         "rawType": "float64",
         "type": "float"
        },
        {
         "name": "Mo' Better Blues (1990)",
         "rawType": "float64",
         "type": "float"
        },
        {
         "name": "Modern Times (1936)",
         "rawType": "float64",
         "type": "float"
        },
        {
         "name": "Modulations (1998)",
         "rawType": "float64",
         "type": "float"
        },
        {
         "name": "Moll Flanders (1996)",
         "rawType": "float64",
         "type": "float"
        },
        {
         "name": "Molly (1999)",
         "rawType": "float64",
         "type": "float"
        },
        {
         "name": "Mommie Dearest (1981)",
         "rawType": "float64",
         "type": "float"
        },
        {
         "name": "Mona Lisa (1986)",
         "rawType": "float64",
         "type": "float"
        },
        {
         "name": "Money Talks (1997)",
         "rawType": "float64",
         "type": "float"
        },
        {
         "name": "Money Train (1995)",
         "rawType": "float64",
         "type": "float"
        },
        {
         "name": "Monkey Shines (1988)",
         "rawType": "float64",
         "type": "float"
        },
        {
         "name": "Monsieur Verdoux (1947)",
         "rawType": "float64",
         "type": "float"
        },
        {
         "name": "Montana (1998)",
         "rawType": "float64",
         "type": "float"
        },
        {
         "name": "Monument Ave. (1998)",
         "rawType": "float64",
         "type": "float"
        },
        {
         "name": "Moonlight Murder (1936)",
         "rawType": "float64",
         "type": "float"
        },
        {
         "name": "Moonlight and Valentino (1995)",
         "rawType": "float64",
         "type": "float"
        },
        {
         "name": "Moonraker (1979)",
         "rawType": "float64",
         "type": "float"
        },
        {
         "name": "Moonstruck (1987)",
         "rawType": "float64",
         "type": "float"
        },
        {
         "name": "Mortal Kombat (1995)",
         "rawType": "float64",
         "type": "float"
        },
        {
         "name": "Mortal Kombat: Annihilation (1997)",
         "rawType": "float64",
         "type": "float"
        },
        {
         "name": "Mortal Thoughts (1991)",
         "rawType": "float64",
         "type": "float"
        },
        {
         "name": "Mother (1996)",
         "rawType": "float64",
         "type": "float"
        },
        {
         "name": "Mother Night (1996)",
         "rawType": "float64",
         "type": "float"
        },
        {
         "name": "Mr. & Mrs. Smith (1941)",
         "rawType": "float64",
         "type": "float"
        },
        {
         "name": "Mr. Holland's Opus (1995)",
         "rawType": "float64",
         "type": "float"
        },
        {
         "name": "Mr. Jealousy (1997)",
         "rawType": "float64",
         "type": "float"
        },
        {
         "name": "Mr. Jones (1993)",
         "rawType": "float64",
         "type": "float"
        },
        {
         "name": "Mr. Magoo (1997)",
         "rawType": "float64",
         "type": "float"
        },
        {
         "name": "Mr. Mom (1983)",
         "rawType": "float64",
         "type": "float"
        },
        {
         "name": "Mr. Nice Guy (1997)",
         "rawType": "float64",
         "type": "float"
        },
        {
         "name": "Mr. Saturday Night (1992)",
         "rawType": "float64",
         "type": "float"
        },
        {
         "name": "Mr. Smith Goes to Washington (1939)",
         "rawType": "float64",
         "type": "float"
        },
        {
         "name": "Mr. Wonderful (1993)",
         "rawType": "float64",
         "type": "float"
        },
        {
         "name": "Mr. Wrong (1996)",
         "rawType": "float64",
         "type": "float"
        },
        {
         "name": "Mrs. Dalloway (1997)",
         "rawType": "float64",
         "type": "float"
        },
        {
         "name": "Mrs. Doubtfire (1993)",
         "rawType": "float64",
         "type": "float"
        },
        {
         "name": "Mrs. Miniver (1942)",
         "rawType": "float64",
         "type": "float"
        },
        {
         "name": "Mrs. Parker and the Vicious Circle (1994)",
         "rawType": "float64",
         "type": "float"
        },
        {
         "name": "Mrs. Winterbourne (1996)",
         "rawType": "float64",
         "type": "float"
        },
        {
         "name": "Much Ado About Nothing (1993)",
         "rawType": "float64",
         "type": "float"
        },
        {
         "name": "Mulan (1998)",
         "rawType": "float64",
         "type": "float"
        },
        {
         "name": "Mulholland Falls (1996)",
         "rawType": "float64",
         "type": "float"
        },
        {
         "name": "Multiplicity (1996)",
         "rawType": "float64",
         "type": "float"
        },
        {
         "name": "Mumford (1999)",
         "rawType": "float64",
         "type": "float"
        },
        {
         "name": "Muppet Treasure Island (1996)",
         "rawType": "float64",
         "type": "float"
        },
        {
         "name": "Murder at 1600 (1997)",
         "rawType": "float64",
         "type": "float"
        },
        {
         "name": "Murder in the First (1995)",
         "rawType": "float64",
         "type": "float"
        },
        {
         "name": "Murder! (1930)",
         "rawType": "float64",
         "type": "float"
        },
        {
         "name": "Murder, My Sweet (1944)",
         "rawType": "float64",
         "type": "float"
        },
        {
         "name": "Muriel's Wedding (1994)",
         "rawType": "float64",
         "type": "float"
        },
        {
         "name": "Murphy's Romance (1985)",
         "rawType": "float64",
         "type": "float"
        },
        {
         "name": "Music of the Heart (1999)",
         "rawType": "float64",
         "type": "float"
        },
        {
         "name": "Mutiny on the Bounty (1935)",
         "rawType": "float64",
         "type": "float"
        },
        {
         "name": "My Best Friend's Wedding (1997)",
         "rawType": "float64",
         "type": "float"
        },
        {
         "name": "My Blue Heaven (1990)",
         "rawType": "float64",
         "type": "float"
        },
        {
         "name": "My Bodyguard (1980)",
         "rawType": "float64",
         "type": "float"
        },
        {
         "name": "My Boyfriend's Back (1993)",
         "rawType": "float64",
         "type": "float"
        },
        {
         "name": "My Chauffeur (1986)",
         "rawType": "float64",
         "type": "float"
        },
        {
         "name": "My Cousin Vinny (1992)",
         "rawType": "float64",
         "type": "float"
        },
        {
         "name": "My Fair Lady (1964)",
         "rawType": "float64",
         "type": "float"
        },
        {
         "name": "My Family (1995)",
         "rawType": "float64",
         "type": "float"
        },
        {
         "name": "My Favorite Martian (1999)",
         "rawType": "float64",
         "type": "float"
        },
        {
         "name": "My Favorite Season (1993)",
         "rawType": "float64",
         "type": "float"
        },
        {
         "name": "My Favorite Year (1982)",
         "rawType": "float64",
         "type": "float"
        },
        {
         "name": "My Fellow Americans (1996)",
         "rawType": "float64",
         "type": "float"
        },
        {
         "name": "My Giant (1998)",
         "rawType": "float64",
         "type": "float"
        },
        {
         "name": "My Life (1993)",
         "rawType": "float64",
         "type": "float"
        },
        {
         "name": "My Life So Far (1999)",
         "rawType": "float64",
         "type": "float"
        },
        {
         "name": "My Man Godfrey (1936)",
         "rawType": "float64",
         "type": "float"
        },
        {
         "name": "My Man Godfrey (1957)",
         "rawType": "float64",
         "type": "float"
        },
        {
         "name": "My Name Is Joe (1998)",
         "rawType": "float64",
         "type": "float"
        },
        {
         "name": "My Own Private Idaho (1991)",
         "rawType": "float64",
         "type": "float"
        },
        {
         "name": "My Science Project (1985)",
         "rawType": "float64",
         "type": "float"
        },
        {
         "name": "My Tutor (1983)",
         "rawType": "float64",
         "type": "float"
        },
        {
         "name": "Mystery Men (1999)",
         "rawType": "float64",
         "type": "float"
        },
        {
         "name": "Mystery Science Theater 3000: The Movie (1996)",
         "rawType": "float64",
         "type": "float"
        },
        {
         "name": "Mystery Train (1989)",
         "rawType": "float64",
         "type": "float"
        },
        {
         "name": "Mystery, Alaska (1999)",
         "rawType": "float64",
         "type": "float"
        },
        {
         "name": "Nadine (1987)",
         "rawType": "float64",
         "type": "float"
        },
        {
         "name": "Nadja (1994)",
         "rawType": "float64",
         "type": "float"
        },
        {
         "name": "Naked (1993)",
         "rawType": "float64",
         "type": "float"
        },
        {
         "name": "Napoleon and Samantha (1972)",
         "rawType": "float64",
         "type": "float"
        },
        {
         "name": "Nashville (1975)",
         "rawType": "float64",
         "type": "float"
        },
        {
         "name": "Native Son (1986)",
         "rawType": "float64",
         "type": "float"
        },
        {
         "name": "Natural Born Killers (1994)",
         "rawType": "float64",
         "type": "float"
        },
        {
         "name": "Near Dark (1987)",
         "rawType": "float64",
         "type": "float"
        },
        {
         "name": "Needful Things (1993)",
         "rawType": "float64",
         "type": "float"
        },
        {
         "name": "Nekromantik (1987)",
         "rawType": "float64",
         "type": "float"
        },
        {
         "name": "Nell (1994)",
         "rawType": "float64",
         "type": "float"
        },
        {
         "name": "Network (1976)",
         "rawType": "float64",
         "type": "float"
        },
        {
         "name": "Never Been Kissed (1999)",
         "rawType": "float64",
         "type": "float"
        },
        {
         "name": "Never Cry Wolf (1983)",
         "rawType": "float64",
         "type": "float"
        },
        {
         "name": "Never Met Picasso (1996)",
         "rawType": "float64",
         "type": "float"
        },
        {
         "name": "Never Talk to Strangers (1995)",
         "rawType": "float64",
         "type": "float"
        },
        {
         "name": "New Jersey Drive (1995)",
         "rawType": "float64",
         "type": "float"
        },
        {
         "name": "New Rose Hotel (1998)",
         "rawType": "float64",
         "type": "float"
        },
        {
         "name": "Newsies (1992)",
         "rawType": "float64",
         "type": "float"
        },
        {
         "name": "Niagara (1953)",
         "rawType": "float64",
         "type": "float"
        },
        {
         "name": "Niagara, Niagara (1997)",
         "rawType": "float64",
         "type": "float"
        },
        {
         "name": "Nick of Time (1995)",
         "rawType": "float64",
         "type": "float"
        },
        {
         "name": "Nico Icon (1995)",
         "rawType": "float64",
         "type": "float"
        },
        {
         "name": "Night Shift (1982)",
         "rawType": "float64",
         "type": "float"
        },
        {
         "name": "Night Tide (1961)",
         "rawType": "float64",
         "type": "float"
        },
        {
         "name": "Night of the Comet (1984)",
         "rawType": "float64",
         "type": "float"
        },
        {
         "name": "Night of the Creeps (1986)",
         "rawType": "float64",
         "type": "float"
        },
        {
         "name": "Night of the Living Dead (1968)",
         "rawType": "float64",
         "type": "float"
        },
        {
         "name": "Night on Earth (1991)",
         "rawType": "float64",
         "type": "float"
        },
        {
         "name": "Nighthawks (1981)",
         "rawType": "float64",
         "type": "float"
        },
        {
         "name": "Nightmares (1983)",
         "rawType": "float64",
         "type": "float"
        },
        {
         "name": "Nightwatch (1997)",
         "rawType": "float64",
         "type": "float"
        },
        {
         "name": "Nine 1/2 Weeks (1986)",
         "rawType": "float64",
         "type": "float"
        },
        {
         "name": "Nine Months (1995)",
         "rawType": "float64",
         "type": "float"
        },
        {
         "name": "Nineteen Eighty-Four (1984)",
         "rawType": "float64",
         "type": "float"
        },
        {
         "name": "Ninotchka (1939)",
         "rawType": "float64",
         "type": "float"
        },
        {
         "name": "Nixon (1995)",
         "rawType": "float64",
         "type": "float"
        },
        {
         "name": "No Escape (1994)",
         "rawType": "float64",
         "type": "float"
        },
        {
         "name": "No Looking Back (1998)",
         "rawType": "float64",
         "type": "float"
        },
        {
         "name": "No Mercy (1986)",
         "rawType": "float64",
         "type": "float"
        },
        {
         "name": "No Small Affair (1984)",
         "rawType": "float64",
         "type": "float"
        },
        {
         "name": "No Way Out (1987)",
         "rawType": "float64",
         "type": "float"
        },
        {
         "name": "Nobody's Fool (1994)",
         "rawType": "float64",
         "type": "float"
        },
        {
         "name": "Normal Life (1996)",
         "rawType": "float64",
         "type": "float"
        },
        {
         "name": "North (1994)",
         "rawType": "float64",
         "type": "float"
        },
        {
         "name": "North Dallas Forty (1979)",
         "rawType": "float64",
         "type": "float"
        },
        {
         "name": "North by Northwest (1959)",
         "rawType": "float64",
         "type": "float"
        },
        {
         "name": "Nothing in Common (1986)",
         "rawType": "float64",
         "type": "float"
        },
        {
         "name": "Nothing to Lose (1994)",
         "rawType": "float64",
         "type": "float"
        },
        {
         "name": "Notorious (1946)",
         "rawType": "float64",
         "type": "float"
        },
        {
         "name": "Notting Hill (1999)",
         "rawType": "float64",
         "type": "float"
        },
        {
         "name": "Now and Then (1995)",
         "rawType": "float64",
         "type": "float"
        },
        {
         "name": "Nowhere (1997)",
         "rawType": "float64",
         "type": "float"
        },
        {
         "name": "Nueba Yol (1995)",
         "rawType": "float64",
         "type": "float"
        },
        {
         "name": "Number Seventeen (1932)",
         "rawType": "float64",
         "type": "float"
        },
        {
         "name": "Nurse Betty (2000)",
         "rawType": "float64",
         "type": "float"
        },
        {
         "name": "Nutty Professor II: The Klumps (2000)",
         "rawType": "float64",
         "type": "float"
        },
        {
         "name": "October Sky (1999)",
         "rawType": "float64",
         "type": "float"
        },
        {
         "name": "Of Human Bondage (1934)",
         "rawType": "float64",
         "type": "float"
        },
        {
         "name": "Of Mice and Men (1992)",
         "rawType": "float64",
         "type": "float"
        },
        {
         "name": "Office Killer (1997)",
         "rawType": "float64",
         "type": "float"
        },
        {
         "name": "Office Space (1999)",
         "rawType": "float64",
         "type": "float"
        },
        {
         "name": "Old Yeller (1957)",
         "rawType": "float64",
         "type": "float"
        },
        {
         "name": "Oliver & Company (1988)",
         "rawType": "float64",
         "type": "float"
        },
        {
         "name": "Oliver! (1968)",
         "rawType": "float64",
         "type": "float"
        },
        {
         "name": "On Any Sunday (1971)",
         "rawType": "float64",
         "type": "float"
        },
        {
         "name": "On Golden Pond (1981)",
         "rawType": "float64",
         "type": "float"
        },
        {
         "name": "On Her Majesty's Secret Service (1969)",
         "rawType": "float64",
         "type": "float"
        },
        {
         "name": "On Our Merry Way (1948)",
         "rawType": "float64",
         "type": "float"
        },
        {
         "name": "On the Beach (1959)",
         "rawType": "float64",
         "type": "float"
        },
        {
         "name": "On the Ropes (1999)",
         "rawType": "float64",
         "type": "float"
        },
        {
         "name": "On the Town (1949)",
         "rawType": "float64",
         "type": "float"
        },
        {
         "name": "On the Waterfront (1954)",
         "rawType": "float64",
         "type": "float"
        },
        {
         "name": "Once Upon a Time in America (1984)",
         "rawType": "float64",
         "type": "float"
        },
        {
         "name": "Once Were Warriors (1994)",
         "rawType": "float64",
         "type": "float"
        },
        {
         "name": "One Crazy Summer (1986)",
         "rawType": "float64",
         "type": "float"
        },
        {
         "name": "One Fine Day (1996)",
         "rawType": "float64",
         "type": "float"
        },
        {
         "name": "One Flew Over the Cuckoo's Nest (1975)",
         "rawType": "float64",
         "type": "float"
        },
        {
         "name": "One Little Indian (1973)",
         "rawType": "float64",
         "type": "float"
        },
        {
         "name": "One Magic Christmas (1985)",
         "rawType": "float64",
         "type": "float"
        },
        {
         "name": "One Man's Hero (1999)",
         "rawType": "float64",
         "type": "float"
        },
        {
         "name": "One Night Stand (1997)",
         "rawType": "float64",
         "type": "float"
        },
        {
         "name": "One Tough Cop (1998)",
         "rawType": "float64",
         "type": "float"
        },
        {
         "name": "One True Thing (1998)",
         "rawType": "float64",
         "type": "float"
        },
        {
         "name": "Onegin (1999)",
         "rawType": "float64",
         "type": "float"
        },
        {
         "name": "Only Angels Have Wings (1939)",
         "rawType": "float64",
         "type": "float"
        },
        {
         "name": "Only You (1994)",
         "rawType": "float64",
         "type": "float"
        },
        {
         "name": "Open Season (1996)",
         "rawType": "float64",
         "type": "float"
        },
        {
         "name": "Operation Dumbo Drop (1995)",
         "rawType": "float64",
         "type": "float"
        },
        {
         "name": "Ordinary People (1980)",
         "rawType": "float64",
         "type": "float"
        },
        {
         "name": "Orgazmo (1997)",
         "rawType": "float64",
         "type": "float"
        },
        {
         "name": "Original Gangstas (1996)",
         "rawType": "float64",
         "type": "float"
        },
        {
         "name": "Otello (1986)",
         "rawType": "float64",
         "type": "float"
        },
        {
         "name": "Othello (1995)",
         "rawType": "float64",
         "type": "float"
        },
        {
         "name": "Our Town (1940)",
         "rawType": "float64",
         "type": "float"
        },
        {
         "name": "Out of Africa (1985)",
         "rawType": "float64",
         "type": "float"
        },
        {
         "name": "Out of Sight (1998)",
         "rawType": "float64",
         "type": "float"
        },
        {
         "name": "Out of the Past (1947)",
         "rawType": "float64",
         "type": "float"
        },
        {
         "name": "Out to Sea (1997)",
         "rawType": "float64",
         "type": "float"
        },
        {
         "name": "Outbreak (1995)",
         "rawType": "float64",
         "type": "float"
        },
        {
         "name": "Outrageous Fortune (1987)",
         "rawType": "float64",
         "type": "float"
        },
        {
         "name": "Outside Ozona (1998)",
         "rawType": "float64",
         "type": "float"
        },
        {
         "name": "Outside Providence (1999)",
         "rawType": "float64",
         "type": "float"
        },
        {
         "name": "Oxygen (1999)",
         "rawType": "float64",
         "type": "float"
        },
        {
         "name": "Pacific Heights (1990)",
         "rawType": "float64",
         "type": "float"
        },
        {
         "name": "Pajama Party (1964)",
         "rawType": "float64",
         "type": "float"
        },
        {
         "name": "Pal Joey (1957)",
         "rawType": "float64",
         "type": "float"
        },
        {
         "name": "Pale Rider (1985)",
         "rawType": "float64",
         "type": "float"
        },
        {
         "name": "Palmetto (1998)",
         "rawType": "float64",
         "type": "float"
        },
        {
         "name": "Pandora and the Flying Dutchman (1951)",
         "rawType": "float64",
         "type": "float"
        },
        {
         "name": "Panther (1995)",
         "rawType": "float64",
         "type": "float"
        },
        {
         "name": "Papillon (1973)",
         "rawType": "float64",
         "type": "float"
        },
        {
         "name": "Paradise Lost: The Child Murders at Robin Hood Hills (1996)",
         "rawType": "float64",
         "type": "float"
        },
        {
         "name": "Paradise Road (1997)",
         "rawType": "float64",
         "type": "float"
        },
        {
         "name": "Parasite (1982)",
         "rawType": "float64",
         "type": "float"
        },
        {
         "name": "Parenthood (1989)",
         "rawType": "float64",
         "type": "float"
        },
        {
         "name": "Paris, Texas (1984)",
         "rawType": "float64",
         "type": "float"
        },
        {
         "name": "Party Girl (1995)",
         "rawType": "float64",
         "type": "float"
        },
        {
         "name": "Passion Fish (1992)",
         "rawType": "float64",
         "type": "float"
        },
        {
         "name": "Patch Adams (1998)",
         "rawType": "float64",
         "type": "float"
        },
        {
         "name": "Pather Panchali (1955)",
         "rawType": "float64",
         "type": "float"
        },
        {
         "name": "Paths of Glory (1957)",
         "rawType": "float64",
         "type": "float"
        },
        {
         "name": "Patriot Games (1992)",
         "rawType": "float64",
         "type": "float"
        },
        {
         "name": "Patton (1970)",
         "rawType": "float64",
         "type": "float"
        },
        {
         "name": "Paulie (1998)",
         "rawType": "float64",
         "type": "float"
        },
        {
         "name": "Payback (1999)",
         "rawType": "float64",
         "type": "float"
        },
        {
         "name": "Pecker (1998)",
         "rawType": "float64",
         "type": "float"
        },
        {
         "name": "Pee-wee's Big Adventure (1985)",
         "rawType": "float64",
         "type": "float"
        },
        {
         "name": "Peeping Tom (1960)",
         "rawType": "float64",
         "type": "float"
        },
        {
         "name": "Peggy Sue Got Married (1986)",
         "rawType": "float64",
         "type": "float"
        },
        {
         "name": "Penitentiary II (1982)",
         "rawType": "float64",
         "type": "float"
        },
        {
         "name": "Penny Serenade (1941)",
         "rawType": "float64",
         "type": "float"
        },
        {
         "name": "Perfect Blue (1997)",
         "rawType": "float64",
         "type": "float"
        },
        {
         "name": "Permanent Midnight (1998)",
         "rawType": "float64",
         "type": "float"
        },
        {
         "name": "Persuasion (1995)",
         "rawType": "float64",
         "type": "float"
        },
        {
         "name": "Pet Sematary (1989)",
         "rawType": "float64",
         "type": "float"
        },
        {
         "name": "Pet Sematary II (1992)",
         "rawType": "float64",
         "type": "float"
        },
        {
         "name": "Pete's Dragon (1977)",
         "rawType": "float64",
         "type": "float"
        },
        {
         "name": "Peter Pan (1953)",
         "rawType": "float64",
         "type": "float"
        },
        {
         "name": "Peter's Friends (1992)",
         "rawType": "float64",
         "type": "float"
        },
        {
         "name": "Phantasm (1979)",
         "rawType": "float64",
         "type": "float"
        },
        {
         "name": "Phantasm II (1988)",
         "rawType": "float64",
         "type": "float"
        },
        {
         "name": "Phantasm III: Lord of the Dead (1994)",
         "rawType": "float64",
         "type": "float"
        },
        {
         "name": "Phantasm IV: Oblivion (1998)",
         "rawType": "float64",
         "type": "float"
        },
        {
         "name": "Phantoms (1998)",
         "rawType": "float64",
         "type": "float"
        },
        {
         "name": "Phat Beach (1996)",
         "rawType": "float64",
         "type": "float"
        },
        {
         "name": "Phenomenon (1996)",
         "rawType": "float64",
         "type": "float"
        },
        {
         "name": "Philadelphia (1993)",
         "rawType": "float64",
         "type": "float"
        },
        {
         "name": "Pi (1998)",
         "rawType": "float64",
         "type": "float"
        },
        {
         "name": "Picnic (1955)",
         "rawType": "float64",
         "type": "float"
        },
        {
         "name": "Picnic at Hanging Rock (1975)",
         "rawType": "float64",
         "type": "float"
        },
        {
         "name": "Picture Bride (1995)",
         "rawType": "float64",
         "type": "float"
        },
        {
         "name": "Picture Perfect (1997)",
         "rawType": "float64",
         "type": "float"
        },
        {
         "name": "Pink Flamingos (1972)",
         "rawType": "float64",
         "type": "float"
        },
        {
         "name": "Pinocchio (1940)",
         "rawType": "float64",
         "type": "float"
        },
        {
         "name": "Piranha (1978)",
         "rawType": "float64",
         "type": "float"
        },
        {
         "name": "Pitch Black (2000)",
         "rawType": "float64",
         "type": "float"
        },
        {
         "name": "Places in the Heart (1984)",
         "rawType": "float64",
         "type": "float"
        },
        {
         "name": "Planet of the Apes (1968)",
         "rawType": "float64",
         "type": "float"
        },
        {
         "name": "Platoon (1986)",
         "rawType": "float64",
         "type": "float"
        },
        {
         "name": "Playing God (1997)",
         "rawType": "float64",
         "type": "float"
        },
        {
         "name": "Playing by Heart (1998)",
         "rawType": "float64",
         "type": "float"
        },
        {
         "name": "Pleasantville (1998)",
         "rawType": "float64",
         "type": "float"
        },
        {
         "name": "Plenty (1985)",
         "rawType": "float64",
         "type": "float"
        },
        {
         "name": "Pocahontas (1995)",
         "rawType": "float64",
         "type": "float"
        },
        {
         "name": "Poetic Justice (1993)",
         "rawType": "float64",
         "type": "float"
        },
        {
         "name": "Poison (1991)",
         "rawType": "float64",
         "type": "float"
        },
        {
         "name": "Poison Ivy (1992)",
         "rawType": "float64",
         "type": "float"
        },
        {
         "name": "Police Academy (1984)",
         "rawType": "float64",
         "type": "float"
        },
        {
         "name": "Police Academy 2: Their First Assignment (1985)",
         "rawType": "float64",
         "type": "float"
        },
        {
         "name": "Police Academy 3: Back in Training (1986)",
         "rawType": "float64",
         "type": "float"
        },
        {
         "name": "Police Academy 4: Citizens on Patrol (1987)",
         "rawType": "float64",
         "type": "float"
        },
        {
         "name": "Police Academy 6: City Under Siege (1989)",
         "rawType": "float64",
         "type": "float"
        },
        {
         "name": "Polish Wedding (1998)",
         "rawType": "float64",
         "type": "float"
        },
        {
         "name": "Pollyanna (1960)",
         "rawType": "float64",
         "type": "float"
        },
        {
         "name": "Poltergeist (1982)",
         "rawType": "float64",
         "type": "float"
        },
        {
         "name": "Poltergeist II: The Other Side (1986)",
         "rawType": "float64",
         "type": "float"
        },
        {
         "name": "Poltergeist III (1988)",
         "rawType": "float64",
         "type": "float"
        },
        {
         "name": "Ponette (1996)",
         "rawType": "float64",
         "type": "float"
        },
        {
         "name": "Popeye (1980)",
         "rawType": "float64",
         "type": "float"
        },
        {
         "name": "Pork Chop Hill (1959)",
         "rawType": "float64",
         "type": "float"
        },
        {
         "name": "Porky's (1981)",
         "rawType": "float64",
         "type": "float"
        },
        {
         "name": "Porky's II: The Next Day (1983)",
         "rawType": "float64",
         "type": "float"
        },
        {
         "name": "Possession (1981)",
         "rawType": "float64",
         "type": "float"
        },
        {
         "name": "Powder (1995)",
         "rawType": "float64",
         "type": "float"
        },
        {
         "name": "Practical Magic (1998)",
         "rawType": "float64",
         "type": "float"
        },
        {
         "name": "Prancer (1989)",
         "rawType": "float64",
         "type": "float"
        },
        {
         "name": "Predator (1987)",
         "rawType": "float64",
         "type": "float"
        },
        {
         "name": "Predator 2 (1990)",
         "rawType": "float64",
         "type": "float"
        },
        {
         "name": "Prefontaine (1997)",
         "rawType": "float64",
         "type": "float"
        },
        {
         "name": "Pretty Woman (1990)",
         "rawType": "float64",
         "type": "float"
        },
        {
         "name": "Pretty in Pink (1986)",
         "rawType": "float64",
         "type": "float"
        },
        {
         "name": "Price of Glory (2000)",
         "rawType": "float64",
         "type": "float"
        },
        {
         "name": "Prick Up Your Ears (1987)",
         "rawType": "float64",
         "type": "float"
        },
        {
         "name": "Priest (1994)",
         "rawType": "float64",
         "type": "float"
        },
        {
         "name": "Primal Fear (1996)",
         "rawType": "float64",
         "type": "float"
        },
        {
         "name": "Primary Colors (1998)",
         "rawType": "float64",
         "type": "float"
        },
        {
         "name": "Prince Valiant (1997)",
         "rawType": "float64",
         "type": "float"
        },
        {
         "name": "Prince of the City (1981)",
         "rawType": "float64",
         "type": "float"
        },
        {
         "name": "Princess Caraboo (1994)",
         "rawType": "float64",
         "type": "float"
        },
        {
         "name": "Private Benjamin (1980)",
         "rawType": "float64",
         "type": "float"
        },
        {
         "name": "Private Parts (1997)",
         "rawType": "float64",
         "type": "float"
        },
        {
         "name": "Private School (1983)",
         "rawType": "float64",
         "type": "float"
        },
        {
         "name": "Prizzi's Honor (1985)",
         "rawType": "float64",
         "type": "float"
        },
        {
         "name": "Problem Child (1990)",
         "rawType": "float64",
         "type": "float"
        },
        {
         "name": "Problem Child 2 (1991)",
         "rawType": "float64",
         "type": "float"
        },
        {
         "name": "Project Moon Base (1953)",
         "rawType": "float64",
         "type": "float"
        },
        {
         "name": "Prom Night (1980)",
         "rawType": "float64",
         "type": "float"
        },
        {
         "name": "Psycho (1960)",
         "rawType": "float64",
         "type": "float"
        },
        {
         "name": "Psycho (1998)",
         "rawType": "float64",
         "type": "float"
        },
        {
         "name": "Psycho Beach Party (2000)",
         "rawType": "float64",
         "type": "float"
        },
        {
         "name": "Psycho II (1983)",
         "rawType": "float64",
         "type": "float"
        },
        {
         "name": "Psycho III (1986)",
         "rawType": "float64",
         "type": "float"
        },
        {
         "name": "Public Access (1993)",
         "rawType": "float64",
         "type": "float"
        },
        {
         "name": "Pulp Fiction (1994)",
         "rawType": "float64",
         "type": "float"
        },
        {
         "name": "Pumpkinhead (1988)",
         "rawType": "float64",
         "type": "float"
        },
        {
         "name": "Puppet Master (1989)",
         "rawType": "float64",
         "type": "float"
        },
        {
         "name": "Puppet Master 4 (1993)",
         "rawType": "float64",
         "type": "float"
        },
        {
         "name": "Puppet Master 5: The Final Chapter (1994)",
         "rawType": "float64",
         "type": "float"
        },
        {
         "name": "Puppet Master II (1990)",
         "rawType": "float64",
         "type": "float"
        },
        {
         "name": "Purple Noon (1960)",
         "rawType": "float64",
         "type": "float"
        },
        {
         "name": "Pushing Hands (1992)",
         "rawType": "float64",
         "type": "float"
        },
        {
         "name": "Pushing Tin (1999)",
         "rawType": "float64",
         "type": "float"
        },
        {
         "name": "Quatermass II (1957)",
         "rawType": "float64",
         "type": "float"
        },
        {
         "name": "Quatermass and the Pit (1967)",
         "rawType": "float64",
         "type": "float"
        },
        {
         "name": "Queens Logic (1991)",
         "rawType": "float64",
         "type": "float"
        },
        {
         "name": "Quest for Camelot (1998)",
         "rawType": "float64",
         "type": "float"
        },
        {
         "name": "Quest for Fire (1981)",
         "rawType": "float64",
         "type": "float"
        },
        {
         "name": "Quiz Show (1994)",
         "rawType": "float64",
         "type": "float"
        },
        {
         "name": "Race the Sun (1996)",
         "rawType": "float64",
         "type": "float"
        },
        {
         "name": "Radio Days (1987)",
         "rawType": "float64",
         "type": "float"
        },
        {
         "name": "Radioland Murders (1994)",
         "rawType": "float64",
         "type": "float"
        },
        {
         "name": "Raging Bull (1980)",
         "rawType": "float64",
         "type": "float"
        },
        {
         "name": "Raiders of the Lost Ark (1981)",
         "rawType": "float64",
         "type": "float"
        },
        {
         "name": "Railroaded! (1947)",
         "rawType": "float64",
         "type": "float"
        },
        {
         "name": "Rain (1932)",
         "rawType": "float64",
         "type": "float"
        },
        {
         "name": "Rain Man (1988)",
         "rawType": "float64",
         "type": "float"
        },
        {
         "name": "Raining Stones (1993)",
         "rawType": "float64",
         "type": "float"
        },
        {
         "name": "Raise the Red Lantern (1991)",
         "rawType": "float64",
         "type": "float"
        },
        {
         "name": "Raise the Titanic (1980)",
         "rawType": "float64",
         "type": "float"
        },
        {
         "name": "Raising Arizona (1987)",
         "rawType": "float64",
         "type": "float"
        },
        {
         "name": "Rambo III (1988)",
         "rawType": "float64",
         "type": "float"
        },
        {
         "name": "Rambo: First Blood Part II (1985)",
         "rawType": "float64",
         "type": "float"
        },
        {
         "name": "Ran (1985)",
         "rawType": "float64",
         "type": "float"
        },
        {
         "name": "Random Hearts (1999)",
         "rawType": "float64",
         "type": "float"
        },
        {
         "name": "Ransom (1996)",
         "rawType": "float64",
         "type": "float"
        },
        {
         "name": "Ravenous (1999)",
         "rawType": "float64",
         "type": "float"
        },
        {
         "name": "Raw Deal (1948)",
         "rawType": "float64",
         "type": "float"
        },
        {
         "name": "Rawhead Rex (1986)",
         "rawType": "float64",
         "type": "float"
        },
        {
         "name": "Re-Animator (1985)",
         "rawType": "float64",
         "type": "float"
        },
        {
         "name": "Ready to Rumble (2000)",
         "rawType": "float64",
         "type": "float"
        },
        {
         "name": "Real Genius (1985)",
         "rawType": "float64",
         "type": "float"
        },
        {
         "name": "Reality Bites (1994)",
         "rawType": "float64",
         "type": "float"
        },
        {
         "name": "Rear Window (1954)",
         "rawType": "float64",
         "type": "float"
        },
        {
         "name": "Rebecca (1940)",
         "rawType": "float64",
         "type": "float"
        },
        {
         "name": "Rebel Without a Cause (1955)",
         "rawType": "float64",
         "type": "float"
        },
        {
         "name": "Reckless (1995)",
         "rawType": "float64",
         "type": "float"
        },
        {
         "name": "Red Corner (1997)",
         "rawType": "float64",
         "type": "float"
        },
        {
         "name": "Red Dawn (1984)",
         "rawType": "float64",
         "type": "float"
        },
        {
         "name": "Red Firecracker, Green Firecracker (1994)",
         "rawType": "float64",
         "type": "float"
        },
        {
         "name": "Red Sonja (1985)",
         "rawType": "float64",
         "type": "float"
        },
        {
         "name": "Reds (1981)",
         "rawType": "float64",
         "type": "float"
        },
        {
         "name": "Reindeer Games (2000)",
         "rawType": "float64",
         "type": "float"
        },
        {
         "name": "Relax... It's Just Sex (1998)",
         "rawType": "float64",
         "type": "float"
        },
        {
         "name": "Remember the Titans (2000)",
         "rawType": "float64",
         "type": "float"
        },
        {
         "name": "Renaissance Man (1994)",
         "rawType": "float64",
         "type": "float"
        },
        {
         "name": "Rent-a-Kid (1995)",
         "rawType": "float64",
         "type": "float"
        },
        {
         "name": "Repo Man (1984)",
         "rawType": "float64",
         "type": "float"
        },
        {
         "name": "Repossessed (1990)",
         "rawType": "float64",
         "type": "float"
        },
        {
         "name": "Repulsion (1965)",
         "rawType": "float64",
         "type": "float"
        },
        {
         "name": "Requiem for a Dream (2000)",
         "rawType": "float64",
         "type": "float"
        },
        {
         "name": "Reservoir Dogs (1992)",
         "rawType": "float64",
         "type": "float"
        },
        {
         "name": "Restoration (1995)",
         "rawType": "float64",
         "type": "float"
        },
        {
         "name": "Resurrection Man (1998)",
         "rawType": "float64",
         "type": "float"
        },
        {
         "name": "Retroactive (1997)",
         "rawType": "float64",
         "type": "float"
        },
        {
         "name": "Return from Witch Mountain (1978)",
         "rawType": "float64",
         "type": "float"
        },
        {
         "name": "Return of the Fly (1959)",
         "rawType": "float64",
         "type": "float"
        },
        {
         "name": "Return to Me (2000)",
         "rawType": "float64",
         "type": "float"
        },
        {
         "name": "Return to Oz (1985)",
         "rawType": "float64",
         "type": "float"
        },
        {
         "name": "Return to Paradise (1998)",
         "rawType": "float64",
         "type": "float"
        },
        {
         "name": "Rhyme & Reason (1997)",
         "rawType": "float64",
         "type": "float"
        },
        {
         "name": "Richard III (1995)",
         "rawType": "float64",
         "type": "float"
        },
        {
         "name": "Ride with the Devil (1999)",
         "rawType": "float64",
         "type": "float"
        },
        {
         "name": "Ridicule (1996)",
         "rawType": "float64",
         "type": "float"
        },
        {
         "name": "Ripe (1996)",
         "rawType": "float64",
         "type": "float"
        },
        {
         "name": "Rising Sun (1993)",
         "rawType": "float64",
         "type": "float"
        },
        {
         "name": "Risky Business (1983)",
         "rawType": "float64",
         "type": "float"
        },
        {
         "name": "Road Trip (2000)",
         "rawType": "float64",
         "type": "float"
        },
        {
         "name": "Roadside Prophets (1992)",
         "rawType": "float64",
         "type": "float"
        },
        {
         "name": "Rob Roy (1995)",
         "rawType": "float64",
         "type": "float"
        },
        {
         "name": "Robin Hood (1973)",
         "rawType": "float64",
         "type": "float"
        },
        {
         "name": "Robin Hood: Men in Tights (1993)",
         "rawType": "float64",
         "type": "float"
        },
        {
         "name": "Robin Hood: Prince of Thieves (1991)",
         "rawType": "float64",
         "type": "float"
        },
        {
         "name": "Rocketship X-M (1950)",
         "rawType": "float64",
         "type": "float"
        },
        {
         "name": "Rocky (1976)",
         "rawType": "float64",
         "type": "float"
        },
        {
         "name": "Rocky II (1979)",
         "rawType": "float64",
         "type": "float"
        },
        {
         "name": "Rocky III (1982)",
         "rawType": "float64",
         "type": "float"
        },
        {
         "name": "Rocky IV (1985)",
         "rawType": "float64",
         "type": "float"
        },
        {
         "name": "Rocky V (1990)",
         "rawType": "float64",
         "type": "float"
        },
        {
         "name": "Roger & Me (1989)",
         "rawType": "float64",
         "type": "float"
        },
        {
         "name": "Rollercoaster (1977)",
         "rawType": "float64",
         "type": "float"
        },
        {
         "name": "Roman Holiday (1953)",
         "rawType": "float64",
         "type": "float"
        },
        {
         "name": "Romancing the Stone (1984)",
         "rawType": "float64",
         "type": "float"
        },
        {
         "name": "Romeo Is Bleeding (1993)",
         "rawType": "float64",
         "type": "float"
        },
        {
         "name": "Romeo Must Die (2000)",
         "rawType": "float64",
         "type": "float"
        },
        {
         "name": "Romeo and Juliet (1968)",
         "rawType": "float64",
         "type": "float"
        },
        {
         "name": "Romper Stomper (1992)",
         "rawType": "float64",
         "type": "float"
        },
        {
         "name": "Romy and Michele's High School Reunion (1997)",
         "rawType": "float64",
         "type": "float"
        },
        {
         "name": "Ronin (1998)",
         "rawType": "float64",
         "type": "float"
        },
        {
         "name": "Room at the Top (1959)",
         "rawType": "float64",
         "type": "float"
        },
        {
         "name": "Roommates (1995)",
         "rawType": "float64",
         "type": "float"
        },
        {
         "name": "Rope (1948)",
         "rawType": "float64",
         "type": "float"
        },
        {
         "name": "Rosemary's Baby (1968)",
         "rawType": "float64",
         "type": "float"
        },
        {
         "name": "Rosetta (1999)",
         "rawType": "float64",
         "type": "float"
        },
        {
         "name": "Rosewood (1997)",
         "rawType": "float64",
         "type": "float"
        },
        {
         "name": "Rosie (1998)",
         "rawType": "float64",
         "type": "float"
        },
        {
         "name": "Rough Magic (1995)",
         "rawType": "float64",
         "type": "float"
        },
        {
         "name": "Rough Night in Jericho (1967)",
         "rawType": "float64",
         "type": "float"
        },
        {
         "name": "Roula (1995)",
         "rawType": "float64",
         "type": "float"
        },
        {
         "name": "Rounders (1998)",
         "rawType": "float64",
         "type": "float"
        },
        {
         "name": "Roustabout (1964)",
         "rawType": "float64",
         "type": "float"
        },
        {
         "name": "Ruby in Paradise (1993)",
         "rawType": "float64",
         "type": "float"
        },
        {
         "name": "Rudy (1993)",
         "rawType": "float64",
         "type": "float"
        },
        {
         "name": "Rules of Engagement (2000)",
         "rawType": "float64",
         "type": "float"
        },
        {
         "name": "Rumble in the Bronx (1995)",
         "rawType": "float64",
         "type": "float"
        },
        {
         "name": "Run Silent, Run Deep (1958)",
         "rawType": "float64",
         "type": "float"
        },
        {
         "name": "Runaway (1984)",
         "rawType": "float64",
         "type": "float"
        },
        {
         "name": "Runaway Bride (1999)",
         "rawType": "float64",
         "type": "float"
        },
        {
         "name": "Runaway Train (1985)",
         "rawType": "float64",
         "type": "float"
        },
        {
         "name": "Running Scared (1986)",
         "rawType": "float64",
         "type": "float"
        },
        {
         "name": "Rush Hour (1998)",
         "rawType": "float64",
         "type": "float"
        },
        {
         "name": "Rushmore (1998)",
         "rawType": "float64",
         "type": "float"
        },
        {
         "name": "Ruthless People (1986)",
         "rawType": "float64",
         "type": "float"
        },
        {
         "name": "S.F.W. (1994)",
         "rawType": "float64",
         "type": "float"
        },
        {
         "name": "Sabotage (1936)",
         "rawType": "float64",
         "type": "float"
        },
        {
         "name": "Saboteur (1942)",
         "rawType": "float64",
         "type": "float"
        },
        {
         "name": "Sabrina (1954)",
         "rawType": "float64",
         "type": "float"
        },
        {
         "name": "Sabrina (1995)",
         "rawType": "float64",
         "type": "float"
        },
        {
         "name": "Safe (1995)",
         "rawType": "float64",
         "type": "float"
        },
        {
         "name": "Safe Men (1998)",
         "rawType": "float64",
         "type": "float"
        },
        {
         "name": "Safe Passage (1994)",
         "rawType": "float64",
         "type": "float"
        },
        {
         "name": "Sanjuro (1962)",
         "rawType": "float64",
         "type": "float"
        },
        {
         "name": "Santa Claus: The Movie (1985)",
         "rawType": "float64",
         "type": "float"
        },
        {
         "name": "Santa Fe Trail (1940)",
         "rawType": "float64",
         "type": "float"
        },
        {
         "name": "Santa with Muscles (1996)",
         "rawType": "float64",
         "type": "float"
        },
        {
         "name": "Sarafina! (1992)",
         "rawType": "float64",
         "type": "float"
        },
        {
         "name": "Saving Grace (2000)",
         "rawType": "float64",
         "type": "float"
        },
        {
         "name": "Saving Private Ryan (1998)",
         "rawType": "float64",
         "type": "float"
        },
        {
         "name": "Savior (1998)",
         "rawType": "float64",
         "type": "float"
        },
        {
         "name": "Say Anything... (1989)",
         "rawType": "float64",
         "type": "float"
        },
        {
         "name": "Scary Movie (2000)",
         "rawType": "float64",
         "type": "float"
        },
        {
         "name": "Scent of a Woman (1992)",
         "rawType": "float64",
         "type": "float"
        },
        {
         "name": "Schindler's List (1993)",
         "rawType": "float64",
         "type": "float"
        },
        {
         "name": "Schizopolis (1996)",
         "rawType": "float64",
         "type": "float"
        },
        {
         "name": "School Daze (1988)",
         "rawType": "float64",
         "type": "float"
        },
        {
         "name": "Scream (1996)",
         "rawType": "float64",
         "type": "float"
        },
        {
         "name": "Scream 2 (1997)",
         "rawType": "float64",
         "type": "float"
        },
        {
         "name": "Scream 3 (2000)",
         "rawType": "float64",
         "type": "float"
        },
        {
         "name": "Screamers (1995)",
         "rawType": "float64",
         "type": "float"
        },
        {
         "name": "Screwed (2000)",
         "rawType": "float64",
         "type": "float"
        },
        {
         "name": "Scrooged (1988)",
         "rawType": "float64",
         "type": "float"
        },
        {
         "name": "Searching for Bobby Fischer (1993)",
         "rawType": "float64",
         "type": "float"
        },
        {
         "name": "Second Best (1994)",
         "rawType": "float64",
         "type": "float"
        },
        {
         "name": "Secret Agent (1936)",
         "rawType": "float64",
         "type": "float"
        },
        {
         "name": "Secrets & Lies (1996)",
         "rawType": "float64",
         "type": "float"
        },
        {
         "name": "Selena (1997)",
         "rawType": "float64",
         "type": "float"
        },
        {
         "name": "Sense and Sensibility (1995)",
         "rawType": "float64",
         "type": "float"
        },
        {
         "name": "Senseless (1998)",
         "rawType": "float64",
         "type": "float"
        },
        {
         "name": "Serial Mom (1994)",
         "rawType": "float64",
         "type": "float"
        },
        {
         "name": "Serpico (1973)",
         "rawType": "float64",
         "type": "float"
        },
        {
         "name": "Sesame Street Presents Follow That Bird (1985)",
         "rawType": "float64",
         "type": "float"
        },
        {
         "name": "Set It Off (1996)",
         "rawType": "float64",
         "type": "float"
        },
        {
         "name": "Seven Chances (1925)",
         "rawType": "float64",
         "type": "float"
        },
        {
         "name": "Seven Days in May (1964)",
         "rawType": "float64",
         "type": "float"
        },
        {
         "name": "Seven Years in Tibet (1997)",
         "rawType": "float64",
         "type": "float"
        },
        {
         "name": "Sex, Lies, and Videotape (1989)",
         "rawType": "float64",
         "type": "float"
        },
        {
         "name": "Sgt. Bilko (1996)",
         "rawType": "float64",
         "type": "float"
        },
        {
         "name": "Shadow Conspiracy (1997)",
         "rawType": "float64",
         "type": "float"
        },
        {
         "name": "Shadow of a Doubt (1943)",
         "rawType": "float64",
         "type": "float"
        },
        {
         "name": "Shadowlands (1993)",
         "rawType": "float64",
         "type": "float"
        },
        {
         "name": "Shadrach (1998)",
         "rawType": "float64",
         "type": "float"
        },
        {
         "name": "Shaft (1971)",
         "rawType": "float64",
         "type": "float"
        },
        {
         "name": "Shaft (2000)",
         "rawType": "float64",
         "type": "float"
        },
        {
         "name": "Shaft in Africa (1973)",
         "rawType": "float64",
         "type": "float"
        },
        {
         "name": "Shaft's Big Score! (1972)",
         "rawType": "float64",
         "type": "float"
        },
        {
         "name": "Shakes the Clown (1991)",
         "rawType": "float64",
         "type": "float"
        },
        {
         "name": "Shakespeare in Love (1998)",
         "rawType": "float64",
         "type": "float"
        },
        {
         "name": "Shallow Grave (1994)",
         "rawType": "float64",
         "type": "float"
        },
        {
         "name": "Shampoo (1975)",
         "rawType": "float64",
         "type": "float"
        },
        {
         "name": "Shane (1953)",
         "rawType": "float64",
         "type": "float"
        },
        {
         "name": "Shanghai Noon (2000)",
         "rawType": "float64",
         "type": "float"
        },
        {
         "name": "Shanghai Surprise (1986)",
         "rawType": "float64",
         "type": "float"
        },
        {
         "name": "Shattered Image (1998)",
         "rawType": "float64",
         "type": "float"
        },
        {
         "name": "She's All That (1999)",
         "rawType": "float64",
         "type": "float"
        },
        {
         "name": "She's Gotta Have It (1986)",
         "rawType": "float64",
         "type": "float"
        },
        {
         "name": "She's So Lovely (1997)",
         "rawType": "float64",
         "type": "float"
        },
        {
         "name": "She's the One (1996)",
         "rawType": "float64",
         "type": "float"
        },
        {
         "name": "She-Devil (1989)",
         "rawType": "float64",
         "type": "float"
        },
        {
         "name": "Shine (1996)",
         "rawType": "float64",
         "type": "float"
        },
        {
         "name": "Shooting Fish (1997)",
         "rawType": "float64",
         "type": "float"
        },
        {
         "name": "Shopping (1994)",
         "rawType": "float64",
         "type": "float"
        },
        {
         "name": "Short Cuts (1993)",
         "rawType": "float64",
         "type": "float"
        },
        {
         "name": "Showgirls (1995)",
         "rawType": "float64",
         "type": "float"
        },
        {
         "name": "Silent Fall (1994)",
         "rawType": "float64",
         "type": "float"
        },
        {
         "name": "Simon Birch (1998)",
         "rawType": "float64",
         "type": "float"
        },
        {
         "name": "Simon Sez (1999)",
         "rawType": "float64",
         "type": "float"
        },
        {
         "name": "Simpatico (1999)",
         "rawType": "float64",
         "type": "float"
        },
        {
         "name": "Simply Irresistible (1999)",
         "rawType": "float64",
         "type": "float"
        },
        {
         "name": "Sinbad and the Eye of the Tiger (1977)",
         "rawType": "float64",
         "type": "float"
        },
        {
         "name": "Singin' in the Rain (1952)",
         "rawType": "float64",
         "type": "float"
        },
        {
         "name": "Single White Female (1992)",
         "rawType": "float64",
         "type": "float"
        },
        {
         "name": "Singles (1992)",
         "rawType": "float64",
         "type": "float"
        },
        {
         "name": "Sister Act (1992)",
         "rawType": "float64",
         "type": "float"
        },
        {
         "name": "Sister Act 2: Back in the Habit (1993)",
         "rawType": "float64",
         "type": "float"
        },
        {
         "name": "Six Days Seven Nights (1998)",
         "rawType": "float64",
         "type": "float"
        },
        {
         "name": "Six Degrees of Separation (1993)",
         "rawType": "float64",
         "type": "float"
        },
        {
         "name": "Six Ways to Sunday (1997)",
         "rawType": "float64",
         "type": "float"
        },
        {
         "name": "Six of a Kind (1934)",
         "rawType": "float64",
         "type": "float"
        },
        {
         "name": "Six-String Samurai (1998)",
         "rawType": "float64",
         "type": "float"
        },
        {
         "name": "Sixteen Candles (1984)",
         "rawType": "float64",
         "type": "float"
        },
        {
         "name": "Skipped Parts (2000)",
         "rawType": "float64",
         "type": "float"
        },
        {
         "name": "Slam (1998)",
         "rawType": "float64",
         "type": "float"
        },
        {
         "name": "Slappy and the Stinkers (1998)",
         "rawType": "float64",
         "type": "float"
        },
        {
         "name": "Slaughterhouse (1987)",
         "rawType": "float64",
         "type": "float"
        },
        {
         "name": "Slaves to the Underground (1997)",
         "rawType": "float64",
         "type": "float"
        },
        {
         "name": "Sleepaway Camp (1983)",
         "rawType": "float64",
         "type": "float"
        },
        {
         "name": "Sleeper (1973)",
         "rawType": "float64",
         "type": "float"
        },
        {
         "name": "Sleepers (1996)",
         "rawType": "float64",
         "type": "float"
        },
        {
         "name": "Sleeping Beauty (1959)",
         "rawType": "float64",
         "type": "float"
        },
        {
         "name": "Sleepless in Seattle (1993)",
         "rawType": "float64",
         "type": "float"
        },
        {
         "name": "Sleepwalkers (1992)",
         "rawType": "float64",
         "type": "float"
        },
        {
         "name": "Sleepy Hollow (1999)",
         "rawType": "float64",
         "type": "float"
        },
        {
         "name": "Sliding Doors (1998)",
         "rawType": "float64",
         "type": "float"
        },
        {
         "name": "Sling Blade (1996)",
         "rawType": "float64",
         "type": "float"
        },
        {
         "name": "Sliver (1993)",
         "rawType": "float64",
         "type": "float"
        },
        {
         "name": "Small Soldiers (1998)",
         "rawType": "float64",
         "type": "float"
        },
        {
         "name": "Small Time Crooks (2000)",
         "rawType": "float64",
         "type": "float"
        },
        {
         "name": "Smashing Time (1967)",
         "rawType": "float64",
         "type": "float"
        },
        {
         "name": "Smilla's Sense of Snow (1997)",
         "rawType": "float64",
         "type": "float"
        },
        {
         "name": "Smoke (1995)",
         "rawType": "float64",
         "type": "float"
        },
        {
         "name": "Smoke Signals (1998)",
         "rawType": "float64",
         "type": "float"
        },
        {
         "name": "Snake Eyes (1998)",
         "rawType": "float64",
         "type": "float"
        },
        {
         "name": "Sneakers (1992)",
         "rawType": "float64",
         "type": "float"
        },
        {
         "name": "Snow Day (2000)",
         "rawType": "float64",
         "type": "float"
        },
        {
         "name": "Snow Falling on Cedars (1999)",
         "rawType": "float64",
         "type": "float"
        },
        {
         "name": "Snow White and the Seven Dwarfs (1937)",
         "rawType": "float64",
         "type": "float"
        },
        {
         "name": "Snowriders (1996)",
         "rawType": "float64",
         "type": "float"
        },
        {
         "name": "So I Married an Axe Murderer (1993)",
         "rawType": "float64",
         "type": "float"
        },
        {
         "name": "Soapdish (1991)",
         "rawType": "float64",
         "type": "float"
        },
        {
         "name": "Soft Fruit (1999)",
         "rawType": "float64",
         "type": "float"
        },
        {
         "name": "Soft Toilet Seats (1999)",
         "rawType": "float64",
         "type": "float"
        },
        {
         "name": "Soldier (1998)",
         "rawType": "float64",
         "type": "float"
        },
        {
         "name": "Solo (1996)",
         "rawType": "float64",
         "type": "float"
        },
        {
         "name": "Some Kind of Wonderful (1987)",
         "rawType": "float64",
         "type": "float"
        },
        {
         "name": "Some Like It Hot (1959)",
         "rawType": "float64",
         "type": "float"
        },
        {
         "name": "Some Mother's Son (1996)",
         "rawType": "float64",
         "type": "float"
        },
        {
         "name": "Someone to Watch Over Me (1987)",
         "rawType": "float64",
         "type": "float"
        },
        {
         "name": "Something Wicked This Way Comes (1983)",
         "rawType": "float64",
         "type": "float"
        },
        {
         "name": "Something to Sing About (1937)",
         "rawType": "float64",
         "type": "float"
        },
        {
         "name": "Something to Talk About (1995)",
         "rawType": "float64",
         "type": "float"
        },
        {
         "name": "Somewhere in Time (1980)",
         "rawType": "float64",
         "type": "float"
        },
        {
         "name": "Sommersby (1993)",
         "rawType": "float64",
         "type": "float"
        },
        {
         "name": "Son in Law (1993)",
         "rawType": "float64",
         "type": "float"
        },
        {
         "name": "Son of Dracula (1943)",
         "rawType": "float64",
         "type": "float"
        },
        {
         "name": "Son of Flubber (1963)",
         "rawType": "float64",
         "type": "float"
        },
        {
         "name": "Son of Frankenstein (1939)",
         "rawType": "float64",
         "type": "float"
        },
        {
         "name": "Song of Freedom (1936)",
         "rawType": "float64",
         "type": "float"
        },
        {
         "name": "Song of the South (1946)",
         "rawType": "float64",
         "type": "float"
        },
        {
         "name": "Sonic Outlaws (1995)",
         "rawType": "float64",
         "type": "float"
        },
        {
         "name": "Sophie's Choice (1982)",
         "rawType": "float64",
         "type": "float"
        },
        {
         "name": "Sorority House Massacre (1986)",
         "rawType": "float64",
         "type": "float"
        },
        {
         "name": "Sorority House Massacre II (1990)",
         "rawType": "float64",
         "type": "float"
        },
        {
         "name": "Soul Food (1997)",
         "rawType": "float64",
         "type": "float"
        },
        {
         "name": "Soul Man (1986)",
         "rawType": "float64",
         "type": "float"
        },
        {
         "name": "Sour Grapes (1998)",
         "rawType": "float64",
         "type": "float"
        },
        {
         "name": "South Pacific (1958)",
         "rawType": "float64",
         "type": "float"
        },
        {
         "name": "Soylent Green (1973)",
         "rawType": "float64",
         "type": "float"
        },
        {
         "name": "Space Cowboys (2000)",
         "rawType": "float64",
         "type": "float"
        },
        {
         "name": "Space Jam (1996)",
         "rawType": "float64",
         "type": "float"
        },
        {
         "name": "Spaceballs (1987)",
         "rawType": "float64",
         "type": "float"
        },
        {
         "name": "Spanking the Monkey (1994)",
         "rawType": "float64",
         "type": "float"
        },
        {
         "name": "Spartacus (1960)",
         "rawType": "float64",
         "type": "float"
        },
        {
         "name": "Spawn (1997)",
         "rawType": "float64",
         "type": "float"
        },
        {
         "name": "Species (1995)",
         "rawType": "float64",
         "type": "float"
        },
        {
         "name": "Species II (1998)",
         "rawType": "float64",
         "type": "float"
        },
        {
         "name": "Speechless (1994)",
         "rawType": "float64",
         "type": "float"
        },
        {
         "name": "Speed (1994)",
         "rawType": "float64",
         "type": "float"
        },
        {
         "name": "Speed 2: Cruise Control (1997)",
         "rawType": "float64",
         "type": "float"
        },
        {
         "name": "Spellbound (1945)",
         "rawType": "float64",
         "type": "float"
        },
        {
         "name": "Sphere (1998)",
         "rawType": "float64",
         "type": "float"
        },
        {
         "name": "Spice World (1997)",
         "rawType": "float64",
         "type": "float"
        },
        {
         "name": "Splash (1984)",
         "rawType": "float64",
         "type": "float"
        },
        {
         "name": "Splendor (1999)",
         "rawType": "float64",
         "type": "float"
        },
        {
         "name": "Splendor in the Grass (1961)",
         "rawType": "float64",
         "type": "float"
        },
        {
         "name": "Sprung (1997)",
         "rawType": "float64",
         "type": "float"
        },
        {
         "name": "Spy Hard (1996)",
         "rawType": "float64",
         "type": "float"
        },
        {
         "name": "Squanto: A Warrior's Tale (1994)",
         "rawType": "float64",
         "type": "float"
        },
        {
         "name": "St. Elmo's Fire (1985)",
         "rawType": "float64",
         "type": "float"
        },
        {
         "name": "Stag (1997)",
         "rawType": "float64",
         "type": "float"
        },
        {
         "name": "Stage Fright (1950)",
         "rawType": "float64",
         "type": "float"
        },
        {
         "name": "Stalag 17 (1953)",
         "rawType": "float64",
         "type": "float"
        },
        {
         "name": "Stalingrad (1993)",
         "rawType": "float64",
         "type": "float"
        },
        {
         "name": "Stalker (1979)",
         "rawType": "float64",
         "type": "float"
        },
        {
         "name": "Stand by Me (1986)",
         "rawType": "float64",
         "type": "float"
        },
        {
         "name": "Stanley & Iris (1990)",
         "rawType": "float64",
         "type": "float"
        },
        {
         "name": "Star Kid (1997)",
         "rawType": "float64",
         "type": "float"
        },
        {
         "name": "Star Maps (1997)",
         "rawType": "float64",
         "type": "float"
        },
        {
         "name": "Star Trek III: The Search for Spock (1984)",
         "rawType": "float64",
         "type": "float"
        },
        {
         "name": "Star Trek IV: The Voyage Home (1986)",
         "rawType": "float64",
         "type": "float"
        },
        {
         "name": "Star Trek V: The Final Frontier (1989)",
         "rawType": "float64",
         "type": "float"
        },
        {
         "name": "Star Trek VI: The Undiscovered Country (1991)",
         "rawType": "float64",
         "type": "float"
        },
        {
         "name": "Star Trek: First Contact (1996)",
         "rawType": "float64",
         "type": "float"
        },
        {
         "name": "Star Trek: Generations (1994)",
         "rawType": "float64",
         "type": "float"
        },
        {
         "name": "Star Trek: Insurrection (1998)",
         "rawType": "float64",
         "type": "float"
        },
        {
         "name": "Star Trek: The Motion Picture (1979)",
         "rawType": "float64",
         "type": "float"
        },
        {
         "name": "Star Wars: Episode I - The Phantom Menace (1999)",
         "rawType": "float64",
         "type": "float"
        },
        {
         "name": "Stardust Memories (1980)",
         "rawType": "float64",
         "type": "float"
        },
        {
         "name": "Stargate (1994)",
         "rawType": "float64",
         "type": "float"
        },
        {
         "name": "Starman (1984)",
         "rawType": "float64",
         "type": "float"
        },
        {
         "name": "Starship Troopers (1997)",
         "rawType": "float64",
         "type": "float"
        },
        {
         "name": "Stay Tuned (1992)",
         "rawType": "float64",
         "type": "float"
        },
        {
         "name": "Stealing Beauty (1996)",
         "rawType": "float64",
         "type": "float"
        },
        {
         "name": "Stealing Home (1988)",
         "rawType": "float64",
         "type": "float"
        },
        {
         "name": "Steel (1997)",
         "rawType": "float64",
         "type": "float"
        },
        {
         "name": "Steel Magnolias (1989)",
         "rawType": "float64",
         "type": "float"
        },
        {
         "name": "Stepmom (1998)",
         "rawType": "float64",
         "type": "float"
        },
        {
         "name": "Stiff Upper Lips (1998)",
         "rawType": "float64",
         "type": "float"
        },
        {
         "name": "Stigmata (1999)",
         "rawType": "float64",
         "type": "float"
        },
        {
         "name": "Still Breathing (1997)",
         "rawType": "float64",
         "type": "float"
        },
        {
         "name": "Still Crazy (1998)",
         "rawType": "float64",
         "type": "float"
        },
        {
         "name": "Stir of Echoes (1999)",
         "rawType": "float64",
         "type": "float"
        },
        {
         "name": "Stonewall (1995)",
         "rawType": "float64",
         "type": "float"
        },
        {
         "name": "Stop Making Sense (1984)",
         "rawType": "float64",
         "type": "float"
        },
        {
         "name": "Stop! Or My Mom Will Shoot (1992)",
         "rawType": "float64",
         "type": "float"
        },
        {
         "name": "Strange Days (1995)",
         "rawType": "float64",
         "type": "float"
        },
        {
         "name": "Strangeland (1998)",
         "rawType": "float64",
         "type": "float"
        },
        {
         "name": "Stranger Than Paradise (1984)",
         "rawType": "float64",
         "type": "float"
        },
        {
         "name": "Stranger in the House (1997)",
         "rawType": "float64",
         "type": "float"
        },
        {
         "name": "Strangers on a Train (1951)",
         "rawType": "float64",
         "type": "float"
        },
        {
         "name": "Street Fighter (1994)",
         "rawType": "float64",
         "type": "float"
        },
        {
         "name": "Strictly Ballroom (1992)",
         "rawType": "float64",
         "type": "float"
        },
        {
         "name": "Striking Distance (1993)",
         "rawType": "float64",
         "type": "float"
        },
        {
         "name": "Stripes (1981)",
         "rawType": "float64",
         "type": "float"
        },
        {
         "name": "Striptease (1996)",
         "rawType": "float64",
         "type": "float"
        },
        {
         "name": "Stuart Little (1999)",
         "rawType": "float64",
         "type": "float"
        },
        {
         "name": "Stuart Saves His Family (1995)",
         "rawType": "float64",
         "type": "float"
        },
        {
         "name": "Sudden Death (1995)",
         "rawType": "float64",
         "type": "float"
        },
        {
         "name": "Sudden Manhattan (1996)",
         "rawType": "float64",
         "type": "float"
        },
        {
         "name": "Suddenly, Last Summer (1959)",
         "rawType": "float64",
         "type": "float"
        },
        {
         "name": "Sugar Town (1999)",
         "rawType": "float64",
         "type": "float"
        },
        {
         "name": "Suicide Kings (1997)",
         "rawType": "float64",
         "type": "float"
        },
        {
         "name": "Summer of Sam (1999)",
         "rawType": "float64",
         "type": "float"
        },
        {
         "name": "Sunset Park (1996)",
         "rawType": "float64",
         "type": "float"
        },
        {
         "name": "Sunset Strip (2000)",
         "rawType": "float64",
         "type": "float"
        },
        {
         "name": "Sunshine (1999)",
         "rawType": "float64",
         "type": "float"
        },
        {
         "name": "Super Mario Bros. (1993)",
         "rawType": "float64",
         "type": "float"
        },
        {
         "name": "Supergirl (1984)",
         "rawType": "float64",
         "type": "float"
        },
        {
         "name": "Superman (1978)",
         "rawType": "float64",
         "type": "float"
        },
        {
         "name": "Superman II (1980)",
         "rawType": "float64",
         "type": "float"
        },
        {
         "name": "Superman III (1983)",
         "rawType": "float64",
         "type": "float"
        },
        {
         "name": "Superman IV: The Quest for Peace (1987)",
         "rawType": "float64",
         "type": "float"
        },
        {
         "name": "Supernova (2000)",
         "rawType": "float64",
         "type": "float"
        },
        {
         "name": "Superstar (1999)",
         "rawType": "float64",
         "type": "float"
        },
        {
         "name": "Surf Nazis Must Die (1987)",
         "rawType": "float64",
         "type": "float"
        },
        {
         "name": "Surviving Picasso (1996)",
         "rawType": "float64",
         "type": "float"
        },
        {
         "name": "Surviving the Game (1994)",
         "rawType": "float64",
         "type": "float"
        },
        {
         "name": "Suspicion (1941)",
         "rawType": "float64",
         "type": "float"
        },
        {
         "name": "Suture (1993)",
         "rawType": "float64",
         "type": "float"
        },
        {
         "name": "Swamp Thing (1982)",
         "rawType": "float64",
         "type": "float"
        },
        {
         "name": "Sweet Nothing (1995)",
         "rawType": "float64",
         "type": "float"
        },
        {
         "name": "Sweet and Lowdown (1999)",
         "rawType": "float64",
         "type": "float"
        },
        {
         "name": "Swing Kids (1993)",
         "rawType": "float64",
         "type": "float"
        },
        {
         "name": "Swingers (1996)",
         "rawType": "float64",
         "type": "float"
        },
        {
         "name": "Swiss Family Robinson (1960)",
         "rawType": "float64",
         "type": "float"
        },
        {
         "name": "Switchback (1997)",
         "rawType": "float64",
         "type": "float"
        },
        {
         "name": "Switchblade Sisters (1975)",
         "rawType": "float64",
         "type": "float"
        },
        {
         "name": "Synthetic Pleasures (1995)",
         "rawType": "float64",
         "type": "float"
        },
        {
         "name": "T-Men (1947)",
         "rawType": "float64",
         "type": "float"
        },
        {
         "name": "Taffin (1988)",
         "rawType": "float64",
         "type": "float"
        },
        {
         "name": "Tainted (1998)",
         "rawType": "float64",
         "type": "float"
        },
        {
         "name": "Take the Money and Run (1969)",
         "rawType": "float64",
         "type": "float"
        },
        {
         "name": "Tales from the Darkside: The Movie (1990)",
         "rawType": "float64",
         "type": "float"
        },
        {
         "name": "Tales from the Hood (1995)",
         "rawType": "float64",
         "type": "float"
        },
        {
         "name": "Tales of Terror (1962)",
         "rawType": "float64",
         "type": "float"
        },
        {
         "name": "Talk of Angels (1998)",
         "rawType": "float64",
         "type": "float"
        },
        {
         "name": "Tango (1998)",
         "rawType": "float64",
         "type": "float"
        },
        {
         "name": "Tank Girl (1995)",
         "rawType": "float64",
         "type": "float"
        },
        {
         "name": "Tarantula (1955)",
         "rawType": "float64",
         "type": "float"
        },
        {
         "name": "Target (1995)",
         "rawType": "float64",
         "type": "float"
        },
        {
         "name": "Tarzan (1999)",
         "rawType": "float64",
         "type": "float"
        },
        {
         "name": "Tarzan and the Lost City (1998)",
         "rawType": "float64",
         "type": "float"
        },
        {
         "name": "Tarzan the Fearless (1933)",
         "rawType": "float64",
         "type": "float"
        },
        {
         "name": "Taste of Cherry (1997)",
         "rawType": "float64",
         "type": "float"
        },
        {
         "name": "Taxi Driver (1976)",
         "rawType": "float64",
         "type": "float"
        },
        {
         "name": "Tea with Mussolini (1999)",
         "rawType": "float64",
         "type": "float"
        },
        {
         "name": "Teaching Mrs. Tingle (1999)",
         "rawType": "float64",
         "type": "float"
        },
        {
         "name": "Teenage Mutant Ninja Turtles (1990)",
         "rawType": "float64",
         "type": "float"
        },
        {
         "name": "Teenage Mutant Ninja Turtles II: The Secret of the Ooze (1991)",
         "rawType": "float64",
         "type": "float"
        },
        {
         "name": "Teenage Mutant Ninja Turtles III (1993)",
         "rawType": "float64",
         "type": "float"
        },
        {
         "name": "Telling You (1998)",
         "rawType": "float64",
         "type": "float"
        },
        {
         "name": "Tender Mercies (1983)",
         "rawType": "float64",
         "type": "float"
        },
        {
         "name": "Tequila Sunrise (1988)",
         "rawType": "float64",
         "type": "float"
        },
        {
         "name": "Terminal Velocity (1994)",
         "rawType": "float64",
         "type": "float"
        },
        {
         "name": "Terminator 2: Judgment Day (1991)",
         "rawType": "float64",
         "type": "float"
        },
        {
         "name": "Terms of Endearment (1983)",
         "rawType": "float64",
         "type": "float"
        },
        {
         "name": "Terror in a Texas Town (1958)",
         "rawType": "float64",
         "type": "float"
        },
        {
         "name": "Tetsuo II: Body Hammer (1992)",
         "rawType": "float64",
         "type": "float"
        },
        {
         "name": "Tex (1982)",
         "rawType": "float64",
         "type": "float"
        },
        {
         "name": "That Darn Cat! (1965)",
         "rawType": "float64",
         "type": "float"
        },
        {
         "name": "That Old Feeling (1997)",
         "rawType": "float64",
         "type": "float"
        },
        {
         "name": "That Thing You Do! (1996)",
         "rawType": "float64",
         "type": "float"
        },
        {
         "name": "That's Life! (1986)",
         "rawType": "float64",
         "type": "float"
        },
        {
         "name": "The 13th Warrior (1999)",
         "rawType": "float64",
         "type": "float"
        },
        {
         "name": "The 39 Steps (1935)",
         "rawType": "float64",
         "type": "float"
        },
        {
         "name": "The 7th Voyage of Sinbad (1958)",
         "rawType": "float64",
         "type": "float"
        },
        {
         "name": "The Abominable Snowman (1957)",
         "rawType": "float64",
         "type": "float"
        },
        {
         "name": "The Abyss (1989)",
         "rawType": "float64",
         "type": "float"
        },
        {
         "name": "The Acid House (1998)",
         "rawType": "float64",
         "type": "float"
        },
        {
         "name": "The Addams Family (1991)",
         "rawType": "float64",
         "type": "float"
        },
        {
         "name": "The Addiction (1995)",
         "rawType": "float64",
         "type": "float"
        },
        {
         "name": "The Adventures of Elmo in Grouchland (1999)",
         "rawType": "float64",
         "type": "float"
        },
        {
         "name": "The Adventures of Milo and Otis (1986)",
         "rawType": "float64",
         "type": "float"
        },
        {
         "name": "The Adventures of Pinocchio (1996)",
         "rawType": "float64",
         "type": "float"
        },
        {
         "name": "The Adventures of Priscilla, Queen of the Desert (1994)",
         "rawType": "float64",
         "type": "float"
        },
        {
         "name": "The Adventures of Robin Hood (1938)",
         "rawType": "float64",
         "type": "float"
        },
        {
         "name": "The Adventures of Sebastian Cole (1998)",
         "rawType": "float64",
         "type": "float"
        },
        {
         "name": "The African Queen (1951)",
         "rawType": "float64",
         "type": "float"
        },
        {
         "name": "The Age of Innocence (1993)",
         "rawType": "float64",
         "type": "float"
        },
        {
         "name": "The Air Up There (1994)",
         "rawType": "float64",
         "type": "float"
        },
        {
         "name": "The Allnighter (1987)",
         "rawType": "float64",
         "type": "float"
        },
        {
         "name": "The Amazing Panda Adventure (1995)",
         "rawType": "float64",
         "type": "float"
        },
        {
         "name": "The American President (1995)",
         "rawType": "float64",
         "type": "float"
        },
        {
         "name": "The Amityville Horror (1979)",
         "rawType": "float64",
         "type": "float"
        },
        {
         "name": "The Apartment (1960)",
         "rawType": "float64",
         "type": "float"
        },
        {
         "name": "The Ape (1940)",
         "rawType": "float64",
         "type": "float"
        },
        {
         "name": "The Apostle (1997)",
         "rawType": "float64",
         "type": "float"
        },
        {
         "name": "The Apple Dumpling Gang (1975)",
         "rawType": "float64",
         "type": "float"
        },
        {
         "name": "The Apple Dumpling Gang Rides Again (1979)",
         "rawType": "float64",
         "type": "float"
        },
        {
         "name": "The Aristocats (1970)",
         "rawType": "float64",
         "type": "float"
        },
        {
         "name": "The Arrival (1996)",
         "rawType": "float64",
         "type": "float"
        },
        {
         "name": "The Art of War (2000)",
         "rawType": "float64",
         "type": "float"
        },
        {
         "name": "The Asphalt Jungle (1950)",
         "rawType": "float64",
         "type": "float"
        },
        {
         "name": "The Assignment (1997)",
         "rawType": "float64",
         "type": "float"
        },
        {
         "name": "The Associate (1996)",
         "rawType": "float64",
         "type": "float"
        },
        {
         "name": "The Astronaut's Wife (1999)",
         "rawType": "float64",
         "type": "float"
        },
        {
         "name": "The Avengers (1998)",
         "rawType": "float64",
         "type": "float"
        },
        {
         "name": "The Baby (1973)",
         "rawType": "float64",
         "type": "float"
        },
        {
         "name": "The Baby-Sitters Club (1995)",
         "rawType": "float64",
         "type": "float"
        },
        {
         "name": "The Babysitter (1995)",
         "rawType": "float64",
         "type": "float"
        },
        {
         "name": "The Bachelor (1999)",
         "rawType": "float64",
         "type": "float"
        },
        {
         "name": "The Bad Seed (1956)",
         "rawType": "float64",
         "type": "float"
        },
        {
         "name": "The Ballad of Ramblin' Jack (2000)",
         "rawType": "float64",
         "type": "float"
        },
        {
         "name": "The Band Wagon (1953)",
         "rawType": "float64",
         "type": "float"
        },
        {
         "name": "The Bank Dick (1940)",
         "rawType": "float64",
         "type": "float"
        },
        {
         "name": "The Barefoot Executive (1971)",
         "rawType": "float64",
         "type": "float"
        },
        {
         "name": "The Basketball Diaries (1995)",
         "rawType": "float64",
         "type": "float"
        },
        {
         "name": "The Bat (1959)",
         "rawType": "float64",
         "type": "float"
        },
        {
         "name": "The Bat Whispers (1930)",
         "rawType": "float64",
         "type": "float"
        },
        {
         "name": "The Beach (2000)",
         "rawType": "float64",
         "type": "float"
        },
        {
         "name": "The Beans of Egypt, Maine (1994)",
         "rawType": "float64",
         "type": "float"
        },
        {
         "name": "The Bear (1988)",
         "rawType": "float64",
         "type": "float"
        },
        {
         "name": "The Beautician and the Beast (1997)",
         "rawType": "float64",
         "type": "float"
        },
        {
         "name": "The Bedroom Window (1987)",
         "rawType": "float64",
         "type": "float"
        },
        {
         "name": "The Believers (1987)",
         "rawType": "float64",
         "type": "float"
        },
        {
         "name": "The Bells (1926)",
         "rawType": "float64",
         "type": "float"
        },
        {
         "name": "The Best Man (1999)",
         "rawType": "float64",
         "type": "float"
        },
        {
         "name": "The Best Years of Our Lives (1946)",
         "rawType": "float64",
         "type": "float"
        },
        {
         "name": "The Beverly Hillbillies (1993)",
         "rawType": "float64",
         "type": "float"
        },
        {
         "name": "The Big Chill (1983)",
         "rawType": "float64",
         "type": "float"
        },
        {
         "name": "The Big Combo (1955)",
         "rawType": "float64",
         "type": "float"
        },
        {
         "name": "The Big Country (1958)",
         "rawType": "float64",
         "type": "float"
        },
        {
         "name": "The Big Green (1995)",
         "rawType": "float64",
         "type": "float"
        },
        {
         "name": "The Big Hit (1998)",
         "rawType": "float64",
         "type": "float"
        },
        {
         "name": "The Big Kahuna (2000)",
         "rawType": "float64",
         "type": "float"
        },
        {
         "name": "The Big Lebowski (1998)",
         "rawType": "float64",
         "type": "float"
        },
        {
         "name": "The Big One (1997)",
         "rawType": "float64",
         "type": "float"
        },
        {
         "name": "The Big Sleep (1946)",
         "rawType": "float64",
         "type": "float"
        },
        {
         "name": "The Big Squeeze (1996)",
         "rawType": "float64",
         "type": "float"
        },
        {
         "name": "The Big Tease (1999)",
         "rawType": "float64",
         "type": "float"
        },
        {
         "name": "The Big Trees (1952)",
         "rawType": "float64",
         "type": "float"
        },
        {
         "name": "The Birdcage (1996)",
         "rawType": "float64",
         "type": "float"
        },
        {
         "name": "The Birds (1963)",
         "rawType": "float64",
         "type": "float"
        },
        {
         "name": "The Black Cauldron (1985)",
         "rawType": "float64",
         "type": "float"
        },
        {
         "name": "The Black Hole (1979)",
         "rawType": "float64",
         "type": "float"
        },
        {
         "name": "The Blair Witch Project (1999)",
         "rawType": "float64",
         "type": "float"
        },
        {
         "name": "The Blob (1958)",
         "rawType": "float64",
         "type": "float"
        },
        {
         "name": "The Bloody Child (1996)",
         "rawType": "float64",
         "type": "float"
        },
        {
         "name": "The Blue Lagoon (1980)",
         "rawType": "float64",
         "type": "float"
        },
        {
         "name": "The Blues Brothers (1980)",
         "rawType": "float64",
         "type": "float"
        },
        {
         "name": "The Body Snatcher (1945)",
         "rawType": "float64",
         "type": "float"
        },
        {
         "name": "The Bodyguard (1992)",
         "rawType": "float64",
         "type": "float"
        },
        {
         "name": "The Bone Collector (1999)",
         "rawType": "float64",
         "type": "float"
        },
        {
         "name": "The Boondock Saints (1999)",
         "rawType": "float64",
         "type": "float"
        },
        {
         "name": "The Borrowers (1997)",
         "rawType": "float64",
         "type": "float"
        },
        {
         "name": "The Boy Who Could Fly (1986)",
         "rawType": "float64",
         "type": "float"
        },
        {
         "name": "The Boys (1997)",
         "rawType": "float64",
         "type": "float"
        },
        {
         "name": "The Boys from Brazil (1978)",
         "rawType": "float64",
         "type": "float"
        },
        {
         "name": "The Brady Bunch Movie (1995)",
         "rawType": "float64",
         "type": "float"
        },
        {
         "name": "The Brain That Wouldn't Die (1962)",
         "rawType": "float64",
         "type": "float"
        },
        {
         "name": "The Brandon Teena Story (1998)",
         "rawType": "float64",
         "type": "float"
        },
        {
         "name": "The Breakfast Club (1985)",
         "rawType": "float64",
         "type": "float"
        },
        {
         "name": "The Bridge at Remagen (1969)",
         "rawType": "float64",
         "type": "float"
        },
        {
         "name": "The Bridge on the River Kwai (1957)",
         "rawType": "float64",
         "type": "float"
        },
        {
         "name": "The Bridges of Madison County (1995)",
         "rawType": "float64",
         "type": "float"
        },
        {
         "name": "The Broadway Melody (1929)",
         "rawType": "float64",
         "type": "float"
        },
        {
         "name": "The Brother from Another Planet (1984)",
         "rawType": "float64",
         "type": "float"
        },
        {
         "name": "The Brothers McMullen (1995)",
         "rawType": "float64",
         "type": "float"
        },
        {
         "name": "The Browning Version (1994)",
         "rawType": "float64",
         "type": "float"
        },
        {
         "name": "The Buddy Holly Story (1978)",
         "rawType": "float64",
         "type": "float"
        },
        {
         "name": "The Butcher's Wife (1991)",
         "rawType": "float64",
         "type": "float"
        },
        {
         "name": "The Cabinet of Dr. Ramirez (1991)",
         "rawType": "float64",
         "type": "float"
        },
        {
         "name": "The Cable Guy (1996)",
         "rawType": "float64",
         "type": "float"
        },
        {
         "name": "The Candidate (1972)",
         "rawType": "float64",
         "type": "float"
        },
        {
         "name": "The Castaway Cowboy (1974)",
         "rawType": "float64",
         "type": "float"
        },
        {
         "name": "The Castle (1997)",
         "rawType": "float64",
         "type": "float"
        },
        {
         "name": "The Cat from Outer Space (1978)",
         "rawType": "float64",
         "type": "float"
        },
        {
         "name": "The Cell (2000)",
         "rawType": "float64",
         "type": "float"
        },
        {
         "name": "The Cement Garden (1993)",
         "rawType": "float64",
         "type": "float"
        },
        {
         "name": "The Chamber (1996)",
         "rawType": "float64",
         "type": "float"
        },
        {
         "name": "The Champ (1979)",
         "rawType": "float64",
         "type": "float"
        },
        {
         "name": "The Cider House Rules (1999)",
         "rawType": "float64",
         "type": "float"
        },
        {
         "name": "The Circus (1928)",
         "rawType": "float64",
         "type": "float"
        },
        {
         "name": "The City of Lost Children (1995)",
         "rawType": "float64",
         "type": "float"
        },
        {
         "name": "The Clan of the Cave Bear (1986)",
         "rawType": "float64",
         "type": "float"
        },
        {
         "name": "The Client (1994)",
         "rawType": "float64",
         "type": "float"
        },
        {
         "name": "The Closer You Get (2000)",
         "rawType": "float64",
         "type": "float"
        },
        {
         "name": "The Color Purple (1985)",
         "rawType": "float64",
         "type": "float"
        },
        {
         "name": "The Color of Money (1986)",
         "rawType": "float64",
         "type": "float"
        },
        {
         "name": "The Commitments (1991)",
         "rawType": "float64",
         "type": "float"
        },
        {
         "name": "The Contender (2000)",
         "rawType": "float64",
         "type": "float"
        },
        {
         "name": "The Conversation (1974)",
         "rawType": "float64",
         "type": "float"
        },
        {
         "name": "The Corruptor (1999)",
         "rawType": "float64",
         "type": "float"
        },
        {
         "name": "The Cowboy Way (1994)",
         "rawType": "float64",
         "type": "float"
        },
        {
         "name": "The Craft (1996)",
         "rawType": "float64",
         "type": "float"
        },
        {
         "name": "The Crew (2000)",
         "rawType": "float64",
         "type": "float"
        },
        {
         "name": "The Crimson Pirate (1952)",
         "rawType": "float64",
         "type": "float"
        },
        {
         "name": "The Crossing Guard (1995)",
         "rawType": "float64",
         "type": "float"
        },
        {
         "name": "The Crow (1994)",
         "rawType": "float64",
         "type": "float"
        },
        {
         "name": "The Crow: City of Angels (1996)",
         "rawType": "float64",
         "type": "float"
        },
        {
         "name": "The Crow: Salvation (2000)",
         "rawType": "float64",
         "type": "float"
        },
        {
         "name": "The Crucible (1996)",
         "rawType": "float64",
         "type": "float"
        },
        {
         "name": "The Cruise (1998)",
         "rawType": "float64",
         "type": "float"
        },
        {
         "name": "The Crush (1993)",
         "rawType": "float64",
         "type": "float"
        },
        {
         "name": "The Crying Game (1992)",
         "rawType": "float64",
         "type": "float"
        },
        {
         "name": "The Cure (1995)",
         "rawType": "float64",
         "type": "float"
        },
        {
         "name": "The Curse of Frankenstein (1957)",
         "rawType": "float64",
         "type": "float"
        },
        {
         "name": "The Cutting Edge (1992)",
         "rawType": "float64",
         "type": "float"
        },
        {
         "name": "The Dark Crystal (1982)",
         "rawType": "float64",
         "type": "float"
        },
        {
         "name": "The Dark Half (1993)",
         "rawType": "float64",
         "type": "float"
        },
        {
         "name": "The Day the Earth Stood Still (1951)",
         "rawType": "float64",
         "type": "float"
        },
        {
         "name": "The Daytrippers (1996)",
         "rawType": "float64",
         "type": "float"
        },
        {
         "name": "The Dead Zone (1983)",
         "rawType": "float64",
         "type": "float"
        },
        {
         "name": "The Decline of Western Civilization (1981)",
         "rawType": "float64",
         "type": "float"
        },
        {
         "name": "The Decline of Western Civilization Part II: The Metal Years (1988)",
         "rawType": "float64",
         "type": "float"
        },
        {
         "name": "The Deep End of the Ocean (1999)",
         "rawType": "float64",
         "type": "float"
        },
        {
         "name": "The Deer Hunter (1978)",
         "rawType": "float64",
         "type": "float"
        },
        {
         "name": "The Designated Mourner (1997)",
         "rawType": "float64",
         "type": "float"
        },
        {
         "name": "The Devil Rides Out (1968)",
         "rawType": "float64",
         "type": "float"
        },
        {
         "name": "The Devil and Max Devlin (1981)",
         "rawType": "float64",
         "type": "float"
        },
        {
         "name": "The Devil's Advocate (1997)",
         "rawType": "float64",
         "type": "float"
        },
        {
         "name": "The Devil's Brigade (1968)",
         "rawType": "float64",
         "type": "float"
        },
        {
         "name": "The Devil's Own (1997)",
         "rawType": "float64",
         "type": "float"
        },
        {
         "name": "The Dirty Dozen (1967)",
         "rawType": "float64",
         "type": "float"
        },
        {
         "name": "The Distinguished Gentleman (1992)",
         "rawType": "float64",
         "type": "float"
        },
        {
         "name": "The Doom Generation (1995)",
         "rawType": "float64",
         "type": "float"
        },
        {
         "name": "The Doors (1991)",
         "rawType": "float64",
         "type": "float"
        },
        {
         "name": "The Draughtsman's Contract (1982)",
         "rawType": "float64",
         "type": "float"
        },
        {
         "name": "The Edge (1997)",
         "rawType": "float64",
         "type": "float"
        },
        {
         "name": "The Education of Little Tree (1997)",
         "rawType": "float64",
         "type": "float"
        },
        {
         "name": "The Effect of Gamma Rays on Man-in-the-Moon Marigolds (1972)",
         "rawType": "float64",
         "type": "float"
        },
        {
         "name": "The Elephant Man (1980)",
         "rawType": "float64",
         "type": "float"
        },
        {
         "name": "The Emerald Forest (1985)",
         "rawType": "float64",
         "type": "float"
        },
        {
         "name": "The End of Violence (1997)",
         "rawType": "float64",
         "type": "float"
        },
        {
         "name": "The End of the Affair (1955)",
         "rawType": "float64",
         "type": "float"
        },
        {
         "name": "The End of the Affair (1999)",
         "rawType": "float64",
         "type": "float"
        },
        {
         "name": "The Endless Summer (1966)",
         "rawType": "float64",
         "type": "float"
        },
        {
         "name": "The Endless Summer 2 (1994)",
         "rawType": "float64",
         "type": "float"
        },
        {
         "name": "The English Patient (1996)",
         "rawType": "float64",
         "type": "float"
        },
        {
         "name": "The Evening Star (1996)",
         "rawType": "float64",
         "type": "float"
        },
        {
         "name": "The Exorcist (1973)",
         "rawType": "float64",
         "type": "float"
        },
        {
         "name": "The Exorcist III (1990)",
         "rawType": "float64",
         "type": "float"
        },
        {
         "name": "The Eyes of Tammy Faye (2000)",
         "rawType": "float64",
         "type": "float"
        },
        {
         "name": "The Fabulous Baker Boys (1989)",
         "rawType": "float64",
         "type": "float"
        },
        {
         "name": "The Faculty (1998)",
         "rawType": "float64",
         "type": "float"
        },
        {
         "name": "The Fan (1996)",
         "rawType": "float64",
         "type": "float"
        },
        {
         "name": "The Favor (1994)",
         "rawType": "float64",
         "type": "float"
        },
        {
         "name": "The Fear (1995)",
         "rawType": "float64",
         "type": "float"
        },
        {
         "name": "The Fiendish Plot of Dr. Fu Manchu (1980)",
         "rawType": "float64",
         "type": "float"
        },
        {
         "name": "The Fifth Element (1997)",
         "rawType": "float64",
         "type": "float"
        },
        {
         "name": "The Fighting Seabees (1944)",
         "rawType": "float64",
         "type": "float"
        },
        {
         "name": "The Filth and the Fury (2000)",
         "rawType": "float64",
         "type": "float"
        },
        {
         "name": "The Firm (1993)",
         "rawType": "float64",
         "type": "float"
        },
        {
         "name": "The First Wives Club (1996)",
         "rawType": "float64",
         "type": "float"
        },
        {
         "name": "The Fisher King (1991)",
         "rawType": "float64",
         "type": "float"
        },
        {
         "name": "The Five Senses (1999)",
         "rawType": "float64",
         "type": "float"
        },
        {
         "name": "The Flamingo Kid (1984)",
         "rawType": "float64",
         "type": "float"
        },
        {
         "name": "The Flintstones (1994)",
         "rawType": "float64",
         "type": "float"
        },
        {
         "name": "The Flintstones in Viva Rock Vegas (2000)",
         "rawType": "float64",
         "type": "float"
        },
        {
         "name": "The Fly (1958)",
         "rawType": "float64",
         "type": "float"
        },
        {
         "name": "The Fly (1986)",
         "rawType": "float64",
         "type": "float"
        },
        {
         "name": "The Fly II (1989)",
         "rawType": "float64",
         "type": "float"
        },
        {
         "name": "The Flying Saucer (1950)",
         "rawType": "float64",
         "type": "float"
        },
        {
         "name": "The Fog (1980)",
         "rawType": "float64",
         "type": "float"
        },
        {
         "name": "The Fox and the Hound (1981)",
         "rawType": "float64",
         "type": "float"
        },
        {
         "name": "The French Connection (1971)",
         "rawType": "float64",
         "type": "float"
        },
        {
         "name": "The Frighteners (1996)",
         "rawType": "float64",
         "type": "float"
        },
        {
         "name": "The Fugitive (1993)",
         "rawType": "float64",
         "type": "float"
        },
        {
         "name": "The Full Monty (1997)",
         "rawType": "float64",
         "type": "float"
        },
        {
         "name": "The Funeral (1996)",
         "rawType": "float64",
         "type": "float"
        },
        {
         "name": "The Funhouse (1981)",
         "rawType": "float64",
         "type": "float"
        },
        {
         "name": "The Fury (1978)",
         "rawType": "float64",
         "type": "float"
        },
        {
         "name": "The Game (1997)",
         "rawType": "float64",
         "type": "float"
        },
        {
         "name": "The Garbage Pail Kids Movie (1987)",
         "rawType": "float64",
         "type": "float"
        },
        {
         "name": "The Gate (1987)",
         "rawType": "float64",
         "type": "float"
        },
        {
         "name": "The Gate II: Trespassers (1990)",
         "rawType": "float64",
         "type": "float"
        },
        {
         "name": "The Gate of Heavenly Peace (1995)",
         "rawType": "float64",
         "type": "float"
        },
        {
         "name": "The Gay Deceivers (1969)",
         "rawType": "float64",
         "type": "float"
        },
        {
         "name": "The Gay Divorcee (1934)",
         "rawType": "float64",
         "type": "float"
        },
        {
         "name": "The General (1998)",
         "rawType": "float64",
         "type": "float"
        },
        {
         "name": "The General's Daughter (1999)",
         "rawType": "float64",
         "type": "float"
        },
        {
         "name": "The Getaway (1994)",
         "rawType": "float64",
         "type": "float"
        },
        {
         "name": "The Ghost and Mrs. Muir (1947)",
         "rawType": "float64",
         "type": "float"
        },
        {
         "name": "The Ghost and the Darkness (1996)",
         "rawType": "float64",
         "type": "float"
        },
        {
         "name": "The Ghost of Frankenstein (1942)",
         "rawType": "float64",
         "type": "float"
        },
        {
         "name": "The Giant Gila Monster (1959)",
         "rawType": "float64",
         "type": "float"
        },
        {
         "name": "The Gingerbread Man (1998)",
         "rawType": "float64",
         "type": "float"
        },
        {
         "name": "The Glass Bottom Boat (1966)",
         "rawType": "float64",
         "type": "float"
        },
        {
         "name": "The Glass Shield (1994)",
         "rawType": "float64",
         "type": "float"
        },
        {
         "name": "The Glimmer Man (1996)",
         "rawType": "float64",
         "type": "float"
        },
        {
         "name": "The Gnome-Mobile (1967)",
         "rawType": "float64",
         "type": "float"
        },
        {
         "name": "The Godfather (1972)",
         "rawType": "float64",
         "type": "float"
        },
        {
         "name": "The Godfather: Part II (1974)",
         "rawType": "float64",
         "type": "float"
        },
        {
         "name": "The Godfather: Part III (1990)",
         "rawType": "float64",
         "type": "float"
        },
        {
         "name": "The Gods Must Be Crazy (1980)",
         "rawType": "float64",
         "type": "float"
        },
        {
         "name": "The Gods Must Be Crazy II (1989)",
         "rawType": "float64",
         "type": "float"
        },
        {
         "name": "The Gold Rush (1925)",
         "rawType": "float64",
         "type": "float"
        },
        {
         "name": "The Golden Bowl (2000)",
         "rawType": "float64",
         "type": "float"
        },
        {
         "name": "The Golden Child (1986)",
         "rawType": "float64",
         "type": "float"
        },
        {
         "name": "The Good Earth (1937)",
         "rawType": "float64",
         "type": "float"
        },
        {
         "name": "The Good Mother (1988)",
         "rawType": "float64",
         "type": "float"
        },
        {
         "name": "The Goodbye Girl (1977)",
         "rawType": "float64",
         "type": "float"
        },
        {
         "name": "The Goonies (1985)",
         "rawType": "float64",
         "type": "float"
        },
        {
         "name": "The Governess (1998)",
         "rawType": "float64",
         "type": "float"
        },
        {
         "name": "The Graduate (1967)",
         "rawType": "float64",
         "type": "float"
        },
        {
         "name": "The Grapes of Wrath (1940)",
         "rawType": "float64",
         "type": "float"
        },
        {
         "name": "The Grass Harp (1995)",
         "rawType": "float64",
         "type": "float"
        },
        {
         "name": "The Great Dictator (1940)",
         "rawType": "float64",
         "type": "float"
        },
        {
         "name": "The Great Escape (1963)",
         "rawType": "float64",
         "type": "float"
        },
        {
         "name": "The Great Locomotive Chase (1956)",
         "rawType": "float64",
         "type": "float"
        },
        {
         "name": "The Great Mouse Detective (1986)",
         "rawType": "float64",
         "type": "float"
        },
        {
         "name": "The Great Muppet Caper (1981)",
         "rawType": "float64",
         "type": "float"
        },
        {
         "name": "The Great Race (1965)",
         "rawType": "float64",
         "type": "float"
        },
        {
         "name": "The Great Santini (1979)",
         "rawType": "float64",
         "type": "float"
        },
        {
         "name": "The Great White Hype (1996)",
         "rawType": "float64",
         "type": "float"
        },
        {
         "name": "The Great Ziegfeld (1936)",
         "rawType": "float64",
         "type": "float"
        },
        {
         "name": "The Greatest Show on Earth (1952)",
         "rawType": "float64",
         "type": "float"
        },
        {
         "name": "The Green Mile (1999)",
         "rawType": "float64",
         "type": "float"
        },
        {
         "name": "The Grifters (1990)",
         "rawType": "float64",
         "type": "float"
        },
        {
         "name": "The Guardian (1990)",
         "rawType": "float64",
         "type": "float"
        },
        {
         "name": "The Guns of Navarone (1961)",
         "rawType": "float64",
         "type": "float"
        },
        {
         "name": "The Hanging Garden (1997)",
         "rawType": "float64",
         "type": "float"
        },
        {
         "name": "The Happiest Millionaire (1967)",
         "rawType": "float64",
         "type": "float"
        },
        {
         "name": "The Haunting (1963)",
         "rawType": "float64",
         "type": "float"
        },
        {
         "name": "The Haunting (1999)",
         "rawType": "float64",
         "type": "float"
        },
        {
         "name": "The Hi-Lo Country (1998)",
         "rawType": "float64",
         "type": "float"
        },
        {
         "name": "The Hidden (1987)",
         "rawType": "float64",
         "type": "float"
        },
        {
         "name": "The Hitch-Hiker (1953)",
         "rawType": "float64",
         "type": "float"
        },
        {
         "name": "The Hollywood Knights (1980)",
         "rawType": "float64",
         "type": "float"
        },
        {
         "name": "The Horse Whisperer (1998)",
         "rawType": "float64",
         "type": "float"
        },
        {
         "name": "The Hot Spot (1990)",
         "rawType": "float64",
         "type": "float"
        },
        {
         "name": "The House of Yes (1997)",
         "rawType": "float64",
         "type": "float"
        },
        {
         "name": "The House of the Spirits (1993)",
         "rawType": "float64",
         "type": "float"
        },
        {
         "name": "The Hudsucker Proxy (1994)",
         "rawType": "float64",
         "type": "float"
        },
        {
         "name": "The Hunchback of Notre Dame (1996)",
         "rawType": "float64",
         "type": "float"
        },
        {
         "name": "The Hunger (1983)",
         "rawType": "float64",
         "type": "float"
        },
        {
         "name": "The Hunt for Red October (1990)",
         "rawType": "float64",
         "type": "float"
        },
        {
         "name": "The Hunted (1995)",
         "rawType": "float64",
         "type": "float"
        },
        {
         "name": "The Hurricane (1999)",
         "rawType": "float64",
         "type": "float"
        },
        {
         "name": "The Hustler (1961)",
         "rawType": "float64",
         "type": "float"
        },
        {
         "name": "The Ice Storm (1997)",
         "rawType": "float64",
         "type": "float"
        },
        {
         "name": "The Idolmaker (1980)",
         "rawType": "float64",
         "type": "float"
        },
        {
         "name": "The Impostors (1998)",
         "rawType": "float64",
         "type": "float"
        },
        {
         "name": "The In Crowd (2000)",
         "rawType": "float64",
         "type": "float"
        },
        {
         "name": "The Incredible Journey (1963)",
         "rawType": "float64",
         "type": "float"
        },
        {
         "name": "The Indian in the Cupboard (1995)",
         "rawType": "float64",
         "type": "float"
        },
        {
         "name": "The Inkwell (1994)",
         "rawType": "float64",
         "type": "float"
        },
        {
         "name": "The Innocents (1961)",
         "rawType": "float64",
         "type": "float"
        },
        {
         "name": "The Insider (1999)",
         "rawType": "float64",
         "type": "float"
        },
        {
         "name": "The Inspector General (1949)",
         "rawType": "float64",
         "type": "float"
        },
        {
         "name": "The Invisible Man (1933)",
         "rawType": "float64",
         "type": "float"
        },
        {
         "name": "The Ipcress File (1965)",
         "rawType": "float64",
         "type": "float"
        },
        {
         "name": "The Iron Giant (1999)",
         "rawType": "float64",
         "type": "float"
        },
        {
         "name": "The Island of Dr. Moreau (1996)",
         "rawType": "float64",
         "type": "float"
        },
        {
         "name": "The Jackal (1997)",
         "rawType": "float64",
         "type": "float"
        },
        {
         "name": "The James Dean Story (1957)",
         "rawType": "float64",
         "type": "float"
        },
        {
         "name": "The Jerk (1979)",
         "rawType": "float64",
         "type": "float"
        },
        {
         "name": "The Jewel of the Nile (1985)",
         "rawType": "float64",
         "type": "float"
        },
        {
         "name": "The Journey of August King (1995)",
         "rawType": "float64",
         "type": "float"
        },
        {
         "name": "The Journey of Natty Gann (1985)",
         "rawType": "float64",
         "type": "float"
        },
        {
         "name": "The Joy Luck Club (1993)",
         "rawType": "float64",
         "type": "float"
        },
        {
         "name": "The Joyriders (1999)",
         "rawType": "float64",
         "type": "float"
        },
        {
         "name": "The Jungle Book (1967)",
         "rawType": "float64",
         "type": "float"
        },
        {
         "name": "The Jungle Book (1994)",
         "rawType": "float64",
         "type": "float"
        },
        {
         "name": "The Juror (1996)",
         "rawType": "float64",
         "type": "float"
        },
        {
         "name": "The Karate Kid (1984)",
         "rawType": "float64",
         "type": "float"
        },
        {
         "name": "The Karate Kid, Part II (1986)",
         "rawType": "float64",
         "type": "float"
        },
        {
         "name": "The Kentucky Fried Movie (1977)",
         "rawType": "float64",
         "type": "float"
        },
        {
         "name": "The Kid (1921)",
         "rawType": "float64",
         "type": "float"
        },
        {
         "name": "The Kid (2000)",
         "rawType": "float64",
         "type": "float"
        },
        {
         "name": "The Killer Shrews (1959)",
         "rawType": "float64",
         "type": "float"
        },
        {
         "name": "The Killing (1956)",
         "rawType": "float64",
         "type": "float"
        },
        {
         "name": "The Killing Fields (1984)",
         "rawType": "float64",
         "type": "float"
        },
        {
         "name": "The Killing of Sister George (1968)",
         "rawType": "float64",
         "type": "float"
        },
        {
         "name": "The King and I (1956)",
         "rawType": "float64",
         "type": "float"
        },
        {
         "name": "The King and I (1999)",
         "rawType": "float64",
         "type": "float"
        },
        {
         "name": "The King of Marvin Gardens (1972)",
         "rawType": "float64",
         "type": "float"
        },
        {
         "name": "The Lady Eve (1941)",
         "rawType": "float64",
         "type": "float"
        },
        {
         "name": "The Lady Vanishes (1938)",
         "rawType": "float64",
         "type": "float"
        },
        {
         "name": "The Land Girls (1998)",
         "rawType": "float64",
         "type": "float"
        },
        {
         "name": "The Last Days (1998)",
         "rawType": "float64",
         "type": "float"
        },
        {
         "name": "The Last Days of Disco (1998)",
         "rawType": "float64",
         "type": "float"
        },
        {
         "name": "The Last Detail (1973)",
         "rawType": "float64",
         "type": "float"
        },
        {
         "name": "The Last Emperor (1987)",
         "rawType": "float64",
         "type": "float"
        },
        {
         "name": "The Last Picture Show (1971)",
         "rawType": "float64",
         "type": "float"
        },
        {
         "name": "The Last Supper (1995)",
         "rawType": "float64",
         "type": "float"
        },
        {
         "name": "The Last Temptation of Christ (1988)",
         "rawType": "float64",
         "type": "float"
        },
        {
         "name": "The Last Time I Committed Suicide (1997)",
         "rawType": "float64",
         "type": "float"
        },
        {
         "name": "The Last Time I Saw Paris (1954)",
         "rawType": "float64",
         "type": "float"
        },
        {
         "name": "The Last of the Mohicans (1992)",
         "rawType": "float64",
         "type": "float"
        },
        {
         "name": "The Lawnmower Man (1992)",
         "rawType": "float64",
         "type": "float"
        },
        {
         "name": "The Leading Man (1996)",
         "rawType": "float64",
         "type": "float"
        },
        {
         "name": "The Limey (1999)",
         "rawType": "float64",
         "type": "float"
        },
        {
         "name": "The Lion King (1994)",
         "rawType": "float64",
         "type": "float"
        },
        {
         "name": "The Little Mermaid (1989)",
         "rawType": "float64",
         "type": "float"
        },
        {
         "name": "The Little Princess (1939)",
         "rawType": "float64",
         "type": "float"
        },
        {
         "name": "The Little Rascals (1994)",
         "rawType": "float64",
         "type": "float"
        },
        {
         "name": "The Little Shop of Horrors (1960)",
         "rawType": "float64",
         "type": "float"
        },
        {
         "name": "The Long Goodbye (1973)",
         "rawType": "float64",
         "type": "float"
        },
        {
         "name": "The Long Kiss Goodnight (1996)",
         "rawType": "float64",
         "type": "float"
        },
        {
         "name": "The Long Walk Home (1990)",
         "rawType": "float64",
         "type": "float"
        },
        {
         "name": "The Longest Day (1962)",
         "rawType": "float64",
         "type": "float"
        },
        {
         "name": "The Lord of the Rings (1978)",
         "rawType": "float64",
         "type": "float"
        },
        {
         "name": "The Lords of Flatbush (1974)",
         "rawType": "float64",
         "type": "float"
        },
        {
         "name": "The Loss of Sexual Innocence (1999)",
         "rawType": "float64",
         "type": "float"
        },
        {
         "name": "The Lost Weekend (1945)",
         "rawType": "float64",
         "type": "float"
        },
        {
         "name": "The Lost World: Jurassic Park (1997)",
         "rawType": "float64",
         "type": "float"
        },
        {
         "name": "The Love Letter (1999)",
         "rawType": "float64",
         "type": "float"
        },
        {
         "name": "The Loves of Carmen (1948)",
         "rawType": "float64",
         "type": "float"
        },
        {
         "name": "The Machine (1994)",
         "rawType": "float64",
         "type": "float"
        },
        {
         "name": "The Madness of King George (1994)",
         "rawType": "float64",
         "type": "float"
        },
        {
         "name": "The Maltese Falcon (1941)",
         "rawType": "float64",
         "type": "float"
        },
        {
         "name": "The Man Who Knew Too Little (1997)",
         "rawType": "float64",
         "type": "float"
        },
        {
         "name": "The Man Who Knew Too Much (1934)",
         "rawType": "float64",
         "type": "float"
        },
        {
         "name": "The Man Who Knew Too Much (1956)",
         "rawType": "float64",
         "type": "float"
        },
        {
         "name": "The Man Who Would Be King (1975)",
         "rawType": "float64",
         "type": "float"
        },
        {
         "name": "The Man from Down Under (1943)",
         "rawType": "float64",
         "type": "float"
        },
        {
         "name": "The Man from Laramie (1955)",
         "rawType": "float64",
         "type": "float"
        },
        {
         "name": "The Man in the Iron Mask (1998)",
         "rawType": "float64",
         "type": "float"
        },
        {
         "name": "The Man with Two Brains (1983)",
         "rawType": "float64",
         "type": "float"
        },
        {
         "name": "The Man with the Golden Arm (1955)",
         "rawType": "float64",
         "type": "float"
        },
        {
         "name": "The Man with the Golden Gun (1974)",
         "rawType": "float64",
         "type": "float"
        },
        {
         "name": "The Manchurian Candidate (1962)",
         "rawType": "float64",
         "type": "float"
        },
        {
         "name": "The Mark of Zorro (1940)",
         "rawType": "float64",
         "type": "float"
        },
        {
         "name": "The Mask (1994)",
         "rawType": "float64",
         "type": "float"
        },
        {
         "name": "The Mask of Zorro (1998)",
         "rawType": "float64",
         "type": "float"
        },
        {
         "name": "The Masque of the Red Death (1964)",
         "rawType": "float64",
         "type": "float"
        },
        {
         "name": "The Match (1999)",
         "rawType": "float64",
         "type": "float"
        },
        {
         "name": "The Matrix (1999)",
         "rawType": "float64",
         "type": "float"
        },
        {
         "name": "The Messenger: The Story of Joan of Arc (1999)",
         "rawType": "float64",
         "type": "float"
        },
        {
         "name": "The Mighty (1998)",
         "rawType": "float64",
         "type": "float"
        },
        {
         "name": "The Mighty Ducks (1992)",
         "rawType": "float64",
         "type": "float"
        },
        {
         "name": "The Minus Man (1999)",
         "rawType": "float64",
         "type": "float"
        },
        {
         "name": "The Mirror Has Two Faces (1996)",
         "rawType": "float64",
         "type": "float"
        },
        {
         "name": "The Mission (1986)",
         "rawType": "float64",
         "type": "float"
        },
        {
         "name": "The Mod Squad (1999)",
         "rawType": "float64",
         "type": "float"
        },
        {
         "name": "The Mole People (1956)",
         "rawType": "float64",
         "type": "float"
        },
        {
         "name": "The Money Pit (1986)",
         "rawType": "float64",
         "type": "float"
        },
        {
         "name": "The Morning After (1986)",
         "rawType": "float64",
         "type": "float"
        },
        {
         "name": "The Mosquito Coast (1986)",
         "rawType": "float64",
         "type": "float"
        },
        {
         "name": "The Mummy (1932)",
         "rawType": "float64",
         "type": "float"
        },
        {
         "name": "The Mummy (1959)",
         "rawType": "float64",
         "type": "float"
        },
        {
         "name": "The Mummy (1999)",
         "rawType": "float64",
         "type": "float"
        },
        {
         "name": "The Mummy's Curse (1944)",
         "rawType": "float64",
         "type": "float"
        },
        {
         "name": "The Mummy's Ghost (1944)",
         "rawType": "float64",
         "type": "float"
        },
        {
         "name": "The Mummy's Hand (1940)",
         "rawType": "float64",
         "type": "float"
        },
        {
         "name": "The Mummy's Tomb (1942)",
         "rawType": "float64",
         "type": "float"
        },
        {
         "name": "The Muppet Christmas Carol (1992)",
         "rawType": "float64",
         "type": "float"
        },
        {
         "name": "The Muppet Movie (1979)",
         "rawType": "float64",
         "type": "float"
        },
        {
         "name": "The Muppets Take Manhattan (1984)",
         "rawType": "float64",
         "type": "float"
        },
        {
         "name": "The Muse (1999)",
         "rawType": "float64",
         "type": "float"
        },
        {
         "name": "The Naked Gun: From the Files of Police Squad! (1988)",
         "rawType": "float64",
         "type": "float"
        },
        {
         "name": "The Naked Man (1998)",
         "rawType": "float64",
         "type": "float"
        },
        {
         "name": "The Name of the Rose (1986)",
         "rawType": "float64",
         "type": "float"
        },
        {
         "name": "The Natural (1984)",
         "rawType": "float64",
         "type": "float"
        },
        {
         "name": "The Negotiator (1998)",
         "rawType": "float64",
         "type": "float"
        },
        {
         "name": "The Neon Bible (1995)",
         "rawType": "float64",
         "type": "float"
        },
        {
         "name": "The Net (1995)",
         "rawType": "float64",
         "type": "float"
        },
        {
         "name": "The NeverEnding Story (1984)",
         "rawType": "float64",
         "type": "float"
        },
        {
         "name": "The New Age (1994)",
         "rawType": "float64",
         "type": "float"
        },
        {
         "name": "The Newton Boys (1998)",
         "rawType": "float64",
         "type": "float"
        },
        {
         "name": "The Next Best Thing (2000)",
         "rawType": "float64",
         "type": "float"
        },
        {
         "name": "The Next Karate Kid (1994)",
         "rawType": "float64",
         "type": "float"
        },
        {
         "name": "The Nightmare Before Christmas (1993)",
         "rawType": "float64",
         "type": "float"
        },
        {
         "name": "The Nutty Professor (1963)",
         "rawType": "float64",
         "type": "float"
        },
        {
         "name": "The Nutty Professor (1996)",
         "rawType": "float64",
         "type": "float"
        },
        {
         "name": "The Object of My Affection (1998)",
         "rawType": "float64",
         "type": "float"
        },
        {
         "name": "The Odd Couple (1968)",
         "rawType": "float64",
         "type": "float"
        },
        {
         "name": "The Odd Couple II (1998)",
         "rawType": "float64",
         "type": "float"
        },
        {
         "name": "The Odessa File (1974)",
         "rawType": "float64",
         "type": "float"
        },
        {
         "name": "The Old Man and the Sea (1958)",
         "rawType": "float64",
         "type": "float"
        },
        {
         "name": "The Omega Code (1999)",
         "rawType": "float64",
         "type": "float"
        },
        {
         "name": "The Omega Man (1971)",
         "rawType": "float64",
         "type": "float"
        },
        {
         "name": "The Omen (1976)",
         "rawType": "float64",
         "type": "float"
        },
        {
         "name": "The Opposite of Sex (1998)",
         "rawType": "float64",
         "type": "float"
        },
        {
         "name": "The Original Kings of Comedy (2000)",
         "rawType": "float64",
         "type": "float"
        },
        {
         "name": "The Other Sister (1999)",
         "rawType": "float64",
         "type": "float"
        },
        {
         "name": "The Out-of-Towners (1999)",
         "rawType": "float64",
         "type": "float"
        },
        {
         "name": "The Outlaw (1943)",
         "rawType": "float64",
         "type": "float"
        },
        {
         "name": "The Outlaw Josey Wales (1976)",
         "rawType": "float64",
         "type": "float"
        },
        {
         "name": "The Outsiders (1983)",
         "rawType": "float64",
         "type": "float"
        },
        {
         "name": "The Pagemaster (1994)",
         "rawType": "float64",
         "type": "float"
        },
        {
         "name": "The Pajama Game (1957)",
         "rawType": "float64",
         "type": "float"
        },
        {
         "name": "The Pallbearer (1996)",
         "rawType": "float64",
         "type": "float"
        },
        {
         "name": "The Palm Beach Story (1942)",
         "rawType": "float64",
         "type": "float"
        },
        {
         "name": "The Paper (1994)",
         "rawType": "float64",
         "type": "float"
        },
        {
         "name": "The Paper Chase (1973)",
         "rawType": "float64",
         "type": "float"
        },
        {
         "name": "The Paradine Case (1947)",
         "rawType": "float64",
         "type": "float"
        },
        {
         "name": "The Parent Trap (1961)",
         "rawType": "float64",
         "type": "float"
        },
        {
         "name": "The Parent Trap (1998)",
         "rawType": "float64",
         "type": "float"
        },
        {
         "name": "The Patriot (2000)",
         "rawType": "float64",
         "type": "float"
        },
        {
         "name": "The Pawnbroker (1965)",
         "rawType": "float64",
         "type": "float"
        },
        {
         "name": "The Peacemaker (1997)",
         "rawType": "float64",
         "type": "float"
        },
        {
         "name": "The Pelican Brief (1993)",
         "rawType": "float64",
         "type": "float"
        },
        {
         "name": "The People vs. Larry Flynt (1996)",
         "rawType": "float64",
         "type": "float"
        },
        {
         "name": "The Perez Family (1995)",
         "rawType": "float64",
         "type": "float"
        },
        {
         "name": "The Perfect Storm (2000)",
         "rawType": "float64",
         "type": "float"
        },
        {
         "name": "The Perils of Pauline (1947)",
         "rawType": "float64",
         "type": "float"
        },
        {
         "name": "The Pest (1997)",
         "rawType": "float64",
         "type": "float"
        },
        {
         "name": "The Phantom (1996)",
         "rawType": "float64",
         "type": "float"
        },
        {
         "name": "The Philadelphia Story (1940)",
         "rawType": "float64",
         "type": "float"
        },
        {
         "name": "The Piano (1993)",
         "rawType": "float64",
         "type": "float"
        },
        {
         "name": "The Player (1992)",
         "rawType": "float64",
         "type": "float"
        },
        {
         "name": "The Pompatus of Love (1996)",
         "rawType": "float64",
         "type": "float"
        },
        {
         "name": "The Pope of Greenwich Village (1984)",
         "rawType": "float64",
         "type": "float"
        },
        {
         "name": "The Portrait of a Lady (1996)",
         "rawType": "float64",
         "type": "float"
        },
        {
         "name": "The Poseidon Adventure (1972)",
         "rawType": "float64",
         "type": "float"
        },
        {
         "name": "The Postman (1997)",
         "rawType": "float64",
         "type": "float"
        },
        {
         "name": "The Postman Always Rings Twice (1981)",
         "rawType": "float64",
         "type": "float"
        },
        {
         "name": "The Preacher's Wife (1996)",
         "rawType": "float64",
         "type": "float"
        },
        {
         "name": "The Presidio (1988)",
         "rawType": "float64",
         "type": "float"
        },
        {
         "name": "The Prince of Egypt (1998)",
         "rawType": "float64",
         "type": "float"
        },
        {
         "name": "The Prince of Tides (1991)",
         "rawType": "float64",
         "type": "float"
        },
        {
         "name": "The Princess Bride (1987)",
         "rawType": "float64",
         "type": "float"
        },
        {
         "name": "The Program (1993)",
         "rawType": "float64",
         "type": "float"
        },
        {
         "name": "The Prophecy (1995)",
         "rawType": "float64",
         "type": "float"
        },
        {
         "name": "The Prophecy II (1998)",
         "rawType": "float64",
         "type": "float"
        },
        {
         "name": "The Proposition (1998)",
         "rawType": "float64",
         "type": "float"
        },
        {
         "name": "The Purple Rose of Cairo (1985)",
         "rawType": "float64",
         "type": "float"
        },
        {
         "name": "The Quest (1996)",
         "rawType": "float64",
         "type": "float"
        },
        {
         "name": "The Quick and the Dead (1995)",
         "rawType": "float64",
         "type": "float"
        },
        {
         "name": "The Quiet Man (1952)",
         "rawType": "float64",
         "type": "float"
        },
        {
         "name": "The Quiet Room (1996)",
         "rawType": "float64",
         "type": "float"
        },
        {
         "name": "The Rage: Carrie 2 (1999)",
         "rawType": "float64",
         "type": "float"
        },
        {
         "name": "The Rainmaker (1997)",
         "rawType": "float64",
         "type": "float"
        },
        {
         "name": "The Rapture (1991)",
         "rawType": "float64",
         "type": "float"
        },
        {
         "name": "The Raven (1963)",
         "rawType": "float64",
         "type": "float"
        },
        {
         "name": "The Razor's Edge (1984)",
         "rawType": "float64",
         "type": "float"
        },
        {
         "name": "The Real Blonde (1997)",
         "rawType": "float64",
         "type": "float"
        },
        {
         "name": "The Ref (1994)",
         "rawType": "float64",
         "type": "float"
        },
        {
         "name": "The Relic (1997)",
         "rawType": "float64",
         "type": "float"
        },
        {
         "name": "The Reluctant Debutante (1958)",
         "rawType": "float64",
         "type": "float"
        },
        {
         "name": "The Remains of the Day (1993)",
         "rawType": "float64",
         "type": "float"
        },
        {
         "name": "The Replacement Killers (1998)",
         "rawType": "float64",
         "type": "float"
        },
        {
         "name": "The Replacements (2000)",
         "rawType": "float64",
         "type": "float"
        },
        {
         "name": "The Rescuers (1977)",
         "rawType": "float64",
         "type": "float"
        },
        {
         "name": "The Rescuers Down Under (1990)",
         "rawType": "float64",
         "type": "float"
        },
        {
         "name": "The Rich Man's Wife (1996)",
         "rawType": "float64",
         "type": "float"
        },
        {
         "name": "The Right Stuff (1983)",
         "rawType": "float64",
         "type": "float"
        },
        {
         "name": "The Ring (1927)",
         "rawType": "float64",
         "type": "float"
        },
        {
         "name": "The River (1984)",
         "rawType": "float64",
         "type": "float"
        },
        {
         "name": "The River Wild (1994)",
         "rawType": "float64",
         "type": "float"
        },
        {
         "name": "The Road to El Dorado (2000)",
         "rawType": "float64",
         "type": "float"
        },
        {
         "name": "The Road to Wellville (1994)",
         "rawType": "float64",
         "type": "float"
        },
        {
         "name": "The Rock (1996)",
         "rawType": "float64",
         "type": "float"
        },
        {
         "name": "The Rocketeer (1991)",
         "rawType": "float64",
         "type": "float"
        },
        {
         "name": "The Rocky Horror Picture Show (1975)",
         "rawType": "float64",
         "type": "float"
        },
        {
         "name": "The Rugrats Movie (1998)",
         "rawType": "float64",
         "type": "float"
        },
        {
         "name": "The Ruling Class (1972)",
         "rawType": "float64",
         "type": "float"
        },
        {
         "name": "The Run of the Country (1995)",
         "rawType": "float64",
         "type": "float"
        },
        {
         "name": "The Running Man (1987)",
         "rawType": "float64",
         "type": "float"
        },
        {
         "name": "The Saint (1997)",
         "rawType": "float64",
         "type": "float"
        },
        {
         "name": "The Saint of Fort Washington (1993)",
         "rawType": "float64",
         "type": "float"
        },
        {
         "name": "The Saltmen of Tibet (1997)",
         "rawType": "float64",
         "type": "float"
        },
        {
         "name": "The Sandpiper (1965)",
         "rawType": "float64",
         "type": "float"
        },
        {
         "name": "The Santa Clause (1994)",
         "rawType": "float64",
         "type": "float"
        },
        {
         "name": "The Scarlet Letter (1926)",
         "rawType": "float64",
         "type": "float"
        },
        {
         "name": "The Scarlet Letter (1995)",
         "rawType": "float64",
         "type": "float"
        },
        {
         "name": "The Scout (1994)",
         "rawType": "float64",
         "type": "float"
        },
        {
         "name": "The Sea Wolves (1980)",
         "rawType": "float64",
         "type": "float"
        },
        {
         "name": "The Searchers (1956)",
         "rawType": "float64",
         "type": "float"
        },
        {
         "name": "The Second Jungle Book: Mowgli & Baloo (1997)",
         "rawType": "float64",
         "type": "float"
        },
        {
         "name": "The Secret Adventures of Tom Thumb (1993)",
         "rawType": "float64",
         "type": "float"
        },
        {
         "name": "The Secret Agent (1996)",
         "rawType": "float64",
         "type": "float"
        },
        {
         "name": "The Secret Garden (1993)",
         "rawType": "float64",
         "type": "float"
        },
        {
         "name": "The Secret of NIMH (1982)",
         "rawType": "float64",
         "type": "float"
        },
        {
         "name": "The Secret of Roan Inish (1994)",
         "rawType": "float64",
         "type": "float"
        },
        {
         "name": "The Seventh Sign (1988)",
         "rawType": "float64",
         "type": "float"
        },
        {
         "name": "The Shadow (1994)",
         "rawType": "float64",
         "type": "float"
        },
        {
         "name": "The Shaggy D.A. (1976)",
         "rawType": "float64",
         "type": "float"
        },
        {
         "name": "The Shaggy Dog (1959)",
         "rawType": "float64",
         "type": "float"
        },
        {
         "name": "The Shawshank Redemption (1994)",
         "rawType": "float64",
         "type": "float"
        },
        {
         "name": "The Sheltering Sky (1990)",
         "rawType": "float64",
         "type": "float"
        },
        {
         "name": "The Shining (1980)",
         "rawType": "float64",
         "type": "float"
        },
        {
         "name": "The Shop Around the Corner (1940)",
         "rawType": "float64",
         "type": "float"
        },
        {
         "name": "The Show (1995)",
         "rawType": "float64",
         "type": "float"
        },
        {
         "name": "The Siege (1998)",
         "rawType": "float64",
         "type": "float"
        },
        {
         "name": "The Silence of the Lambs (1991)",
         "rawType": "float64",
         "type": "float"
        },
        {
         "name": "The Sixth Man (1997)",
         "rawType": "float64",
         "type": "float"
        },
        {
         "name": "The Sixth Sense (1999)",
         "rawType": "float64",
         "type": "float"
        },
        {
         "name": "The Skulls (2000)",
         "rawType": "float64",
         "type": "float"
        },
        {
         "name": "The Slipper and the Rose (1976)",
         "rawType": "float64",
         "type": "float"
        },
        {
         "name": "The Slumber Party Massacre (1982)",
         "rawType": "float64",
         "type": "float"
        },
        {
         "name": "The Snows of Kilimanjaro (1952)",
         "rawType": "float64",
         "type": "float"
        },
        {
         "name": "The Son of the Sheik (1926)",
         "rawType": "float64",
         "type": "float"
        },
        {
         "name": "The Sound of Music (1965)",
         "rawType": "float64",
         "type": "float"
        },
        {
         "name": "The Source (1999)",
         "rawType": "float64",
         "type": "float"
        },
        {
         "name": "The Spanish Prisoner (1997)",
         "rawType": "float64",
         "type": "float"
        },
        {
         "name": "The Specialist (1994)",
         "rawType": "float64",
         "type": "float"
        },
        {
         "name": "The Specials (2000)",
         "rawType": "float64",
         "type": "float"
        },
        {
         "name": "The Spiral Staircase (1946)",
         "rawType": "float64",
         "type": "float"
        },
        {
         "name": "The Spitfire Grill (1996)",
         "rawType": "float64",
         "type": "float"
        },
        {
         "name": "The Spy Who Loved Me (1977)",
         "rawType": "float64",
         "type": "float"
        },
        {
         "name": "The Stars Fell on Henrietta (1995)",
         "rawType": "float64",
         "type": "float"
        },
        {
         "name": "The Stepford Wives (1975)",
         "rawType": "float64",
         "type": "float"
        },
        {
         "name": "The Sticky Fingers of Time (1997)",
         "rawType": "float64",
         "type": "float"
        },
        {
         "name": "The Sting (1973)",
         "rawType": "float64",
         "type": "float"
        },
        {
         "name": "The Story of G.I. Joe (1945)",
         "rawType": "float64",
         "type": "float"
        },
        {
         "name": "The Story of Us (1999)",
         "rawType": "float64",
         "type": "float"
        },
        {
         "name": "The Straight Story (1999)",
         "rawType": "float64",
         "type": "float"
        },
        {
         "name": "The Stupids (1996)",
         "rawType": "float64",
         "type": "float"
        },
        {
         "name": "The Substance of Fire (1996)",
         "rawType": "float64",
         "type": "float"
        },
        {
         "name": "The Substitute (1996)",
         "rawType": "float64",
         "type": "float"
        },
        {
         "name": "The Suburbans (1999)",
         "rawType": "float64",
         "type": "float"
        },
        {
         "name": "The Sugarland Express (1974)",
         "rawType": "float64",
         "type": "float"
        },
        {
         "name": "The Sum of Us (1994)",
         "rawType": "float64",
         "type": "float"
        },
        {
         "name": "The Sunchaser (1996)",
         "rawType": "float64",
         "type": "float"
        },
        {
         "name": "The Swan Princess (1994)",
         "rawType": "float64",
         "type": "float"
        },
        {
         "name": "The Sweet Hereafter (1997)",
         "rawType": "float64",
         "type": "float"
        },
        {
         "name": "The Sword in the Stone (1963)",
         "rawType": "float64",
         "type": "float"
        },
        {
         "name": "The Taking of Pelham One Two Three (1974)",
         "rawType": "float64",
         "type": "float"
        },
        {
         "name": "The Talented Mr. Ripley (1999)",
         "rawType": "float64",
         "type": "float"
        },
        {
         "name": "The Taming of the Shrew (1967)",
         "rawType": "float64",
         "type": "float"
        },
        {
         "name": "The Tango Lesson (1997)",
         "rawType": "float64",
         "type": "float"
        },
        {
         "name": "The Tao of Steve (2000)",
         "rawType": "float64",
         "type": "float"
        },
        {
         "name": "The Terminator (1984)",
         "rawType": "float64",
         "type": "float"
        },
        {
         "name": "The Texas Chainsaw Massacre 2 (1986)",
         "rawType": "float64",
         "type": "float"
        },
        {
         "name": "The Thin Blue Line (1988)",
         "rawType": "float64",
         "type": "float"
        },
        {
         "name": "The Thin Man (1934)",
         "rawType": "float64",
         "type": "float"
        },
        {
         "name": "The Thin Red Line (1998)",
         "rawType": "float64",
         "type": "float"
        },
        {
         "name": "The Thing (1982)",
         "rawType": "float64",
         "type": "float"
        },
        {
         "name": "The Third Man (1949)",
         "rawType": "float64",
         "type": "float"
        },
        {
         "name": "The Third Miracle (1999)",
         "rawType": "float64",
         "type": "float"
        },
        {
         "name": "The Thirteenth Floor (1999)",
         "rawType": "float64",
         "type": "float"
        },
        {
         "name": "The Thomas Crown Affair (1968)",
         "rawType": "float64",
         "type": "float"
        },
        {
         "name": "The Thomas Crown Affair (1999)",
         "rawType": "float64",
         "type": "float"
        },
        {
         "name": "The Three Musketeers (1993)",
         "rawType": "float64",
         "type": "float"
        },
        {
         "name": "The Tie That Binds (1995)",
         "rawType": "float64",
         "type": "float"
        },
        {
         "name": "The Tigger Movie (2000)",
         "rawType": "float64",
         "type": "float"
        },
        {
         "name": "The Tingler (1959)",
         "rawType": "float64",
         "type": "float"
        },
        {
         "name": "The Towering Inferno (1974)",
         "rawType": "float64",
         "type": "float"
        },
        {
         "name": "The Toxic Avenger Part III: The Last Temptation of Toxie (1989)",
         "rawType": "float64",
         "type": "float"
        },
        {
         "name": "The Transformers: The Movie (1986)",
         "rawType": "float64",
         "type": "float"
        },
        {
         "name": "The Treasure of the Sierra Madre (1948)",
         "rawType": "float64",
         "type": "float"
        },
        {
         "name": "The Trigger Effect (1996)",
         "rawType": "float64",
         "type": "float"
        },
        {
         "name": "The Trip to Bountiful (1985)",
         "rawType": "float64",
         "type": "float"
        },
        {
         "name": "The Trouble with Harry (1955)",
         "rawType": "float64",
         "type": "float"
        },
        {
         "name": "The Truman Show (1998)",
         "rawType": "float64",
         "type": "float"
        },
        {
         "name": "The Truth About Cats & Dogs (1996)",
         "rawType": "float64",
         "type": "float"
        },
        {
         "name": "The Twelve Chairs (1970)",
         "rawType": "float64",
         "type": "float"
        },
        {
         "name": "The Two Jakes (1990)",
         "rawType": "float64",
         "type": "float"
        },
        {
         "name": "The Ugly (1997)",
         "rawType": "float64",
         "type": "float"
        },
        {
         "name": "The Unbearable Lightness of Being (1988)",
         "rawType": "float64",
         "type": "float"
        },
        {
         "name": "The Underneath (1995)",
         "rawType": "float64",
         "type": "float"
        },
        {
         "name": "The Untouchables (1987)",
         "rawType": "float64",
         "type": "float"
        },
        {
         "name": "The Usual Suspects (1995)",
         "rawType": "float64",
         "type": "float"
        },
        {
         "name": "The Van (1996)",
         "rawType": "float64",
         "type": "float"
        },
        {
         "name": "The Verdict (1982)",
         "rawType": "float64",
         "type": "float"
        },
        {
         "name": "The Very Thought of You (1998)",
         "rawType": "float64",
         "type": "float"
        },
        {
         "name": "The Virgin Suicides (1999)",
         "rawType": "float64",
         "type": "float"
        },
        {
         "name": "The Walking Dead (1995)",
         "rawType": "float64",
         "type": "float"
        },
        {
         "name": "The War (1994)",
         "rawType": "float64",
         "type": "float"
        },
        {
         "name": "The War Room (1993)",
         "rawType": "float64",
         "type": "float"
        },
        {
         "name": "The War Zone (1999)",
         "rawType": "float64",
         "type": "float"
        },
        {
         "name": "The War at Home (1996)",
         "rawType": "float64",
         "type": "float"
        },
        {
         "name": "The War of the Worlds (1953)",
         "rawType": "float64",
         "type": "float"
        },
        {
         "name": "The Watcher (2000)",
         "rawType": "float64",
         "type": "float"
        },
        {
         "name": "The Waterboy (1998)",
         "rawType": "float64",
         "type": "float"
        },
        {
         "name": "The Way We Were (1973)",
         "rawType": "float64",
         "type": "float"
        },
        {
         "name": "The Way of the Gun (2000)",
         "rawType": "float64",
         "type": "float"
        },
        {
         "name": "The Wedding Singer (1998)",
         "rawType": "float64",
         "type": "float"
        },
        {
         "name": "The Whole Nine Yards (2000)",
         "rawType": "float64",
         "type": "float"
        },
        {
         "name": "The Whole Wide World (1996)",
         "rawType": "float64",
         "type": "float"
        },
        {
         "name": "The Wild Bunch (1969)",
         "rawType": "float64",
         "type": "float"
        },
        {
         "name": "The Wings of the Dove (1997)",
         "rawType": "float64",
         "type": "float"
        },
        {
         "name": "The Winter Guest (1997)",
         "rawType": "float64",
         "type": "float"
        },
        {
         "name": "The Wizard of Oz (1939)",
         "rawType": "float64",
         "type": "float"
        },
        {
         "name": "The Wolf Man (1941)",
         "rawType": "float64",
         "type": "float"
        },
        {
         "name": "The Women (1939)",
         "rawType": "float64",
         "type": "float"
        },
        {
         "name": "The Wood (1999)",
         "rawType": "float64",
         "type": "float"
        },
        {
         "name": "The World Is Not Enough (1999)",
         "rawType": "float64",
         "type": "float"
        },
        {
         "name": "The Wrong Man (1956)",
         "rawType": "float64",
         "type": "float"
        },
        {
         "name": "The Wrong Trousers (1993)",
         "rawType": "float64",
         "type": "float"
        },
        {
         "name": "The Year My Voice Broke (1987)",
         "rawType": "float64",
         "type": "float"
        },
        {
         "name": "The Young Poisoner's Handbook (1995)",
         "rawType": "float64",
         "type": "float"
        },
        {
         "name": "Thelma & Louise (1991)",
         "rawType": "float64",
         "type": "float"
        },
        {
         "name": "Them! (1954)",
         "rawType": "float64",
         "type": "float"
        },
        {
         "name": "Theodore Rex (1995)",
         "rawType": "float64",
         "type": "float"
        },
        {
         "name": "There's Something About Mary (1998)",
         "rawType": "float64",
         "type": "float"
        },
        {
         "name": "They Made Me a Criminal (1939)",
         "rawType": "float64",
         "type": "float"
        },
        {
         "name": "They Might Be Giants (1971)",
         "rawType": "float64",
         "type": "float"
        },
        {
         "name": "They Shoot Horses, Don't They? (1969)",
         "rawType": "float64",
         "type": "float"
        },
        {
         "name": "Things Change (1988)",
         "rawType": "float64",
         "type": "float"
        },
        {
         "name": "Thinner (1996)",
         "rawType": "float64",
         "type": "float"
        },
        {
         "name": "This Is Spinal Tap (1984)",
         "rawType": "float64",
         "type": "float"
        },
        {
         "name": "Thomas and the Magic Railroad (2000)",
         "rawType": "float64",
         "type": "float"
        },
        {
         "name": "Three Colors: Blue (1993)",
         "rawType": "float64",
         "type": "float"
        },
        {
         "name": "Three Colors: Red (1994)",
         "rawType": "float64",
         "type": "float"
        },
        {
         "name": "Three Colors: White (1994)",
         "rawType": "float64",
         "type": "float"
        },
        {
         "name": "Three Days of the Condor (1975)",
         "rawType": "float64",
         "type": "float"
        },
        {
         "name": "Three Kings (1999)",
         "rawType": "float64",
         "type": "float"
        },
        {
         "name": "Three Seasons (1999)",
         "rawType": "float64",
         "type": "float"
        },
        {
         "name": "Three Wishes (1995)",
         "rawType": "float64",
         "type": "float"
        },
        {
         "name": "Three to Tango (1999)",
         "rawType": "float64",
         "type": "float"
        },
        {
         "name": "Threesome (1994)",
         "rawType": "float64",
         "type": "float"
        },
        {
         "name": "Thumbelina (1994)",
         "rawType": "float64",
         "type": "float"
        },
        {
         "name": "Thunderball (1965)",
         "rawType": "float64",
         "type": "float"
        },
        {
         "name": "Thunderbolt and Lightfoot (1974)",
         "rawType": "float64",
         "type": "float"
        },
        {
         "name": "Tigerland (2000)",
         "rawType": "float64",
         "type": "float"
        },
        {
         "name": "Tigrero: A Film That Was Never Made (1994)",
         "rawType": "float64",
         "type": "float"
        },
        {
         "name": "Time Bandits (1981)",
         "rawType": "float64",
         "type": "float"
        },
        {
         "name": "Timecop (1994)",
         "rawType": "float64",
         "type": "float"
        },
        {
         "name": "Tin Cup (1996)",
         "rawType": "float64",
         "type": "float"
        },
        {
         "name": "Tin Men (1987)",
         "rawType": "float64",
         "type": "float"
        },
        {
         "name": "Titan A.E. (2000)",
         "rawType": "float64",
         "type": "float"
        },
        {
         "name": "Titanic (1953)",
         "rawType": "float64",
         "type": "float"
        },
        {
         "name": "Titanic (1997)",
         "rawType": "float64",
         "type": "float"
        },
        {
         "name": "Titus (1999)",
         "rawType": "float64",
         "type": "float"
        },
        {
         "name": "To Be or Not to Be (1942)",
         "rawType": "float64",
         "type": "float"
        },
        {
         "name": "To Catch a Thief (1955)",
         "rawType": "float64",
         "type": "float"
        },
        {
         "name": "To Die For (1995)",
         "rawType": "float64",
         "type": "float"
        },
        {
         "name": "To Gillian on Her 37th Birthday (1996)",
         "rawType": "float64",
         "type": "float"
        },
        {
         "name": "To Kill a Mockingbird (1962)",
         "rawType": "float64",
         "type": "float"
        },
        {
         "name": "To Wong Foo, Thanks for Everything! Julie Newmar (1995)",
         "rawType": "float64",
         "type": "float"
        },
        {
         "name": "Tokyo Fist (1995)",
         "rawType": "float64",
         "type": "float"
        },
        {
         "name": "Tom & Viv (1994)",
         "rawType": "float64",
         "type": "float"
        },
        {
         "name": "Tom Jones (1963)",
         "rawType": "float64",
         "type": "float"
        },
        {
         "name": "Tom and Huck (1995)",
         "rawType": "float64",
         "type": "float"
        },
        {
         "name": "Tombstone (1993)",
         "rawType": "float64",
         "type": "float"
        },
        {
         "name": "Tommy (1975)",
         "rawType": "float64",
         "type": "float"
        },
        {
         "name": "Tommy Boy (1995)",
         "rawType": "float64",
         "type": "float"
        },
        {
         "name": "Tomorrow Never Dies (1997)",
         "rawType": "float64",
         "type": "float"
        },
        {
         "name": "Top Gun (1986)",
         "rawType": "float64",
         "type": "float"
        },
        {
         "name": "Top Hat (1935)",
         "rawType": "float64",
         "type": "float"
        },
        {
         "name": "Topaz (1969)",
         "rawType": "float64",
         "type": "float"
        },
        {
         "name": "Topsy-Turvy (1999)",
         "rawType": "float64",
         "type": "float"
        },
        {
         "name": "Tora! Tora! Tora! (1970)",
         "rawType": "float64",
         "type": "float"
        },
        {
         "name": "Torn Curtain (1966)",
         "rawType": "float64",
         "type": "float"
        },
        {
         "name": "Total Eclipse (1995)",
         "rawType": "float64",
         "type": "float"
        },
        {
         "name": "Total Recall (1990)",
         "rawType": "float64",
         "type": "float"
        },
        {
         "name": "Touch (1997)",
         "rawType": "float64",
         "type": "float"
        },
        {
         "name": "Touch of Evil (1958)",
         "rawType": "float64",
         "type": "float"
        },
        {
         "name": "Tough Guys (1986)",
         "rawType": "float64",
         "type": "float"
        },
        {
         "name": "Tough and Deadly (1995)",
         "rawType": "float64",
         "type": "float"
        },
        {
         "name": "Toy Story (1995)",
         "rawType": "float64",
         "type": "float"
        },
        {
         "name": "Toy Story 2 (1999)",
         "rawType": "float64",
         "type": "float"
        },
        {
         "name": "Toys (1992)",
         "rawType": "float64",
         "type": "float"
        },
        {
         "name": "Trading Places (1983)",
         "rawType": "float64",
         "type": "float"
        },
        {
         "name": "Trainspotting (1996)",
         "rawType": "float64",
         "type": "float"
        },
        {
         "name": "Trans (1998)",
         "rawType": "float64",
         "type": "float"
        },
        {
         "name": "Traveller (1997)",
         "rawType": "float64",
         "type": "float"
        },
        {
         "name": "Trees Lounge (1996)",
         "rawType": "float64",
         "type": "float"
        },
        {
         "name": "Trekkies (1997)",
         "rawType": "float64",
         "type": "float"
        },
        {
         "name": "Trial and Error (1997)",
         "rawType": "float64",
         "type": "float"
        },
        {
         "name": "Trial by Jury (1994)",
         "rawType": "float64",
         "type": "float"
        },
        {
         "name": "Trick (1999)",
         "rawType": "float64",
         "type": "float"
        },
        {
         "name": "Trick or Treat (1986)",
         "rawType": "float64",
         "type": "float"
        },
        {
         "name": "Trippin' (1999)",
         "rawType": "float64",
         "type": "float"
        },
        {
         "name": "Trois (2000)",
         "rawType": "float64",
         "type": "float"
        },
        {
         "name": "Tron (1982)",
         "rawType": "float64",
         "type": "float"
        },
        {
         "name": "Trouble in Paradise (1932)",
         "rawType": "float64",
         "type": "float"
        },
        {
         "name": "True Crime (1999)",
         "rawType": "float64",
         "type": "float"
        },
        {
         "name": "True Grit (1969)",
         "rawType": "float64",
         "type": "float"
        },
        {
         "name": "True Lies (1994)",
         "rawType": "float64",
         "type": "float"
        },
        {
         "name": "True Romance (1993)",
         "rawType": "float64",
         "type": "float"
        },
        {
         "name": "Trust (1990)",
         "rawType": "float64",
         "type": "float"
        },
        {
         "name": "Truth or Consequences, N.M. (1997)",
         "rawType": "float64",
         "type": "float"
        },
        {
         "name": "Tumbleweeds (1999)",
         "rawType": "float64",
         "type": "float"
        },
        {
         "name": "Turbo: A Power Rangers Movie (1997)",
         "rawType": "float64",
         "type": "float"
        },
        {
         "name": "Turbulence (1997)",
         "rawType": "float64",
         "type": "float"
        },
        {
         "name": "Turn It Up (2000)",
         "rawType": "float64",
         "type": "float"
        },
        {
         "name": "Turtle Diary (1985)",
         "rawType": "float64",
         "type": "float"
        },
        {
         "name": "Twelfth Night (1996)",
         "rawType": "float64",
         "type": "float"
        },
        {
         "name": "Twelve Monkeys (1995)",
         "rawType": "float64",
         "type": "float"
        },
        {
         "name": "Twice Upon a Yesterday (1998)",
         "rawType": "float64",
         "type": "float"
        },
        {
         "name": "Twilight (1998)",
         "rawType": "float64",
         "type": "float"
        },
        {
         "name": "Twin Falls Idaho (1999)",
         "rawType": "float64",
         "type": "float"
        },
        {
         "name": "Twin Peaks: Fire Walk with Me (1992)",
         "rawType": "float64",
         "type": "float"
        },
        {
         "name": "Twin Town (1997)",
         "rawType": "float64",
         "type": "float"
        },
        {
         "name": "Twister (1996)",
         "rawType": "float64",
         "type": "float"
        },
        {
         "name": "Two Bits (1995)",
         "rawType": "float64",
         "type": "float"
        },
        {
         "name": "Two Family House (2000)",
         "rawType": "float64",
         "type": "float"
        },
        {
         "name": "Two Girls and a Guy (1997)",
         "rawType": "float64",
         "type": "float"
        },
        {
         "name": "Two Much (1996)",
         "rawType": "float64",
         "type": "float"
        },
        {
         "name": "Two Thousand Maniacs! (1964)",
         "rawType": "float64",
         "type": "float"
        },
        {
         "name": "U Turn (1997)",
         "rawType": "float64",
         "type": "float"
        },
        {
         "name": "U-571 (2000)",
         "rawType": "float64",
         "type": "float"
        },
        {
         "name": "U2: Rattle and Hum (1988)",
         "rawType": "float64",
         "type": "float"
        },
        {
         "name": "Ulee's Gold (1997)",
         "rawType": "float64",
         "type": "float"
        },
        {
         "name": "Under Capricorn (1949)",
         "rawType": "float64",
         "type": "float"
        },
        {
         "name": "Under Siege (1992)",
         "rawType": "float64",
         "type": "float"
        },
        {
         "name": "Under Siege 2: Dark Territory (1995)",
         "rawType": "float64",
         "type": "float"
        },
        {
         "name": "Under Suspicion (2000)",
         "rawType": "float64",
         "type": "float"
        },
        {
         "name": "Under the Rainbow (1981)",
         "rawType": "float64",
         "type": "float"
        },
        {
         "name": "Underground (1995)",
         "rawType": "float64",
         "type": "float"
        },
        {
         "name": "Unforgettable (1996)",
         "rawType": "float64",
         "type": "float"
        },
        {
         "name": "Unforgiven (1992)",
         "rawType": "float64",
         "type": "float"
        },
        {
         "name": "Unhook the Stars (1996)",
         "rawType": "float64",
         "type": "float"
        },
        {
         "name": "Universal Soldier (1992)",
         "rawType": "float64",
         "type": "float"
        },
        {
         "name": "Universal Soldier: The Return (1999)",
         "rawType": "float64",
         "type": "float"
        },
        {
         "name": "Unstrung Heroes (1995)",
         "rawType": "float64",
         "type": "float"
        },
        {
         "name": "Unzipped (1995)",
         "rawType": "float64",
         "type": "float"
        },
        {
         "name": "Up at the Villa (2000)",
         "rawType": "float64",
         "type": "float"
        },
        {
         "name": "Up in Smoke (1978)",
         "rawType": "float64",
         "type": "float"
        },
        {
         "name": "Urban Legend (1998)",
         "rawType": "float64",
         "type": "float"
        },
        {
         "name": "Urban Legends: Final Cut (2000)",
         "rawType": "float64",
         "type": "float"
        },
        {
         "name": "Urbania (2000)",
         "rawType": "float64",
         "type": "float"
        },
        {
         "name": "Vampire in Brooklyn (1995)",
         "rawType": "float64",
         "type": "float"
        },
        {
         "name": "Vampires (1998)",
         "rawType": "float64",
         "type": "float"
        },
        {
         "name": "Vanya on 42nd Street (1994)",
         "rawType": "float64",
         "type": "float"
        },
        {
         "name": "Varsity Blues (1999)",
         "rawType": "float64",
         "type": "float"
        },
        {
         "name": "Vegas Vacation (1997)",
         "rawType": "float64",
         "type": "float"
        },
        {
         "name": "Velvet Goldmine (1998)",
         "rawType": "float64",
         "type": "float"
        },
        {
         "name": "Vertigo (1958)",
         "rawType": "float64",
         "type": "float"
        },
        {
         "name": "Very Bad Things (1998)",
         "rawType": "float64",
         "type": "float"
        },
        {
         "name": "Vibes (1988)",
         "rawType": "float64",
         "type": "float"
        },
        {
         "name": "Victor/Victoria (1982)",
         "rawType": "float64",
         "type": "float"
        },
        {
         "name": "Village of the Damned (1960)",
         "rawType": "float64",
         "type": "float"
        },
        {
         "name": "Village of the Damned (1995)",
         "rawType": "float64",
         "type": "float"
        },
        {
         "name": "Virtuosity (1995)",
         "rawType": "float64",
         "type": "float"
        },
        {
         "name": "Virus (1999)",
         "rawType": "float64",
         "type": "float"
        },
        {
         "name": "Volcano (1997)",
         "rawType": "float64",
         "type": "float"
        },
        {
         "name": "Volunteers (1985)",
         "rawType": "float64",
         "type": "float"
        },
        {
         "name": "Voyage of the Damned (1976)",
         "rawType": "float64",
         "type": "float"
        },
        {
         "name": "Voyage to the Beginning of the World (1997)",
         "rawType": "float64",
         "type": "float"
        },
        {
         "name": "Voyage to the Bottom of the Sea (1961)",
         "rawType": "float64",
         "type": "float"
        },
        {
         "name": "Wag the Dog (1997)",
         "rawType": "float64",
         "type": "float"
        },
        {
         "name": "Waiting for Guffman (1996)",
         "rawType": "float64",
         "type": "float"
        },
        {
         "name": "Waiting to Exhale (1995)",
         "rawType": "float64",
         "type": "float"
        },
        {
         "name": "Walkabout (1971)",
         "rawType": "float64",
         "type": "float"
        },
        {
         "name": "Walking and Talking (1996)",
         "rawType": "float64",
         "type": "float"
        },
        {
         "name": "Wanted: Dead or Alive (1987)",
         "rawType": "float64",
         "type": "float"
        },
        {
         "name": "Warriors of Virtue (1997)",
         "rawType": "float64",
         "type": "float"
        },
        {
         "name": "Washington Square (1997)",
         "rawType": "float64",
         "type": "float"
        },
        {
         "name": "Watership Down (1978)",
         "rawType": "float64",
         "type": "float"
        },
        {
         "name": "Waterworld (1995)",
         "rawType": "float64",
         "type": "float"
        },
        {
         "name": "Wayne's World (1992)",
         "rawType": "float64",
         "type": "float"
        },
        {
         "name": "Wayne's World 2 (1993)",
         "rawType": "float64",
         "type": "float"
        },
        {
         "name": "We're Back! A Dinosaur's Story (1993)",
         "rawType": "float64",
         "type": "float"
        },
        {
         "name": "We're No Angels (1989)",
         "rawType": "float64",
         "type": "float"
        },
        {
         "name": "Wedding Bell Blues (1996)",
         "rawType": "float64",
         "type": "float"
        },
        {
         "name": "Weekend at Bernie's (1989)",
         "rawType": "float64",
         "type": "float"
        },
        {
         "name": "Weird Science (1985)",
         "rawType": "float64",
         "type": "float"
        },
        {
         "name": "Welcome to the Dollhouse (1995)",
         "rawType": "float64",
         "type": "float"
        },
        {
         "name": "West Side Story (1961)",
         "rawType": "float64",
         "type": "float"
        },
        {
         "name": "Westworld (1973)",
         "rawType": "float64",
         "type": "float"
        },
        {
         "name": "What About Bob? (1991)",
         "rawType": "float64",
         "type": "float"
        },
        {
         "name": "What Dreams May Come (1998)",
         "rawType": "float64",
         "type": "float"
        },
        {
         "name": "What Ever Happened to Baby Jane? (1962)",
         "rawType": "float64",
         "type": "float"
        },
        {
         "name": "What Happened Was... (1994)",
         "rawType": "float64",
         "type": "float"
        },
        {
         "name": "What Lies Beneath (2000)",
         "rawType": "float64",
         "type": "float"
        },
        {
         "name": "What Planet Are You From? (2000)",
         "rawType": "float64",
         "type": "float"
        },
        {
         "name": "What's Eating Gilbert Grape (1993)",
         "rawType": "float64",
         "type": "float"
        },
        {
         "name": "Whatever (1998)",
         "rawType": "float64",
         "type": "float"
        },
        {
         "name": "Whatever It Takes (2000)",
         "rawType": "float64",
         "type": "float"
        },
        {
         "name": "When Harry Met Sally... (1989)",
         "rawType": "float64",
         "type": "float"
        },
        {
         "name": "When Night Is Falling (1995)",
         "rawType": "float64",
         "type": "float"
        },
        {
         "name": "When We Were Kings (1996)",
         "rawType": "float64",
         "type": "float"
        },
        {
         "name": "When a Man Loves a Woman (1994)",
         "rawType": "float64",
         "type": "float"
        },
        {
         "name": "Where the Buffalo Roam (1980)",
         "rawType": "float64",
         "type": "float"
        },
        {
         "name": "Where the Heart Is (2000)",
         "rawType": "float64",
         "type": "float"
        },
        {
         "name": "While You Were Sleeping (1995)",
         "rawType": "float64",
         "type": "float"
        },
        {
         "name": "Whipped (2000)",
         "rawType": "float64",
         "type": "float"
        },
        {
         "name": "White Christmas (1954)",
         "rawType": "float64",
         "type": "float"
        },
        {
         "name": "White Man's Burden (1995)",
         "rawType": "float64",
         "type": "float"
        },
        {
         "name": "White Men Can't Jump (1992)",
         "rawType": "float64",
         "type": "float"
        },
        {
         "name": "White Sands (1992)",
         "rawType": "float64",
         "type": "float"
        },
        {
         "name": "White Squall (1996)",
         "rawType": "float64",
         "type": "float"
        },
        {
         "name": "Who's Afraid of Virginia Woolf? (1966)",
         "rawType": "float64",
         "type": "float"
        },
        {
         "name": "Who's Harry Crumb? (1989)",
         "rawType": "float64",
         "type": "float"
        },
        {
         "name": "Wide Awake (1998)",
         "rawType": "float64",
         "type": "float"
        },
        {
         "name": "Widows' Peak (1994)",
         "rawType": "float64",
         "type": "float"
        },
        {
         "name": "Wild America (1997)",
         "rawType": "float64",
         "type": "float"
        },
        {
         "name": "Wild Bill (1995)",
         "rawType": "float64",
         "type": "float"
        },
        {
         "name": "Wild Reeds (1994)",
         "rawType": "float64",
         "type": "float"
        },
        {
         "name": "Wild Things (1998)",
         "rawType": "float64",
         "type": "float"
        },
        {
         "name": "Wild Wild West (1999)",
         "rawType": "float64",
         "type": "float"
        },
        {
         "name": "Wilde (1997)",
         "rawType": "float64",
         "type": "float"
        },
        {
         "name": "Willow (1988)",
         "rawType": "float64",
         "type": "float"
        },
        {
         "name": "Windows (1980)",
         "rawType": "float64",
         "type": "float"
        },
        {
         "name": "Wing Commander (1999)",
         "rawType": "float64",
         "type": "float"
        },
        {
         "name": "Wings (1927)",
         "rawType": "float64",
         "type": "float"
        },
        {
         "name": "Winnie the Pooh and the Blustery Day (1968)",
         "rawType": "float64",
         "type": "float"
        },
        {
         "name": "Wisdom (1986)",
         "rawType": "float64",
         "type": "float"
        },
        {
         "name": "Wishmaster (1997)",
         "rawType": "float64",
         "type": "float"
        },
        {
         "name": "With Byrd at the South Pole (1930)",
         "rawType": "float64",
         "type": "float"
        },
        {
         "name": "With Friends Like These... (1998)",
         "rawType": "float64",
         "type": "float"
        },
        {
         "name": "With Honors (1994)",
         "rawType": "float64",
         "type": "float"
        },
        {
         "name": "Without Limits (1998)",
         "rawType": "float64",
         "type": "float"
        },
        {
         "name": "Witness (1985)",
         "rawType": "float64",
         "type": "float"
        },
        {
         "name": "Wolf (1994)",
         "rawType": "float64",
         "type": "float"
        },
        {
         "name": "Woman on Top (2000)",
         "rawType": "float64",
         "type": "float"
        },
        {
         "name": "Women on the Verge of a Nervous Breakdown (1988)",
         "rawType": "float64",
         "type": "float"
        },
        {
         "name": "Wonder Boys (2000)",
         "rawType": "float64",
         "type": "float"
        },
        {
         "name": "Wonderland (1997)",
         "rawType": "float64",
         "type": "float"
        },
        {
         "name": "Wonderland (1999)",
         "rawType": "float64",
         "type": "float"
        },
        {
         "name": "Woo (1998)",
         "rawType": "float64",
         "type": "float"
        },
        {
         "name": "Working Girl (1988)",
         "rawType": "float64",
         "type": "float"
        },
        {
         "name": "Wrongfully Accused (1998)",
         "rawType": "float64",
         "type": "float"
        },
        {
         "name": "Wyatt Earp (1994)",
         "rawType": "float64",
         "type": "float"
        },
        {
         "name": "X-Men (2000)",
         "rawType": "float64",
         "type": "float"
        },
        {
         "name": "X: The Unknown (1956)",
         "rawType": "float64",
         "type": "float"
        },
        {
         "name": "Year of the Horse (1997)",
         "rawType": "float64",
         "type": "float"
        },
        {
         "name": "Yellow Submarine (1968)",
         "rawType": "float64",
         "type": "float"
        },
        {
         "name": "Yojimbo (1961)",
         "rawType": "float64",
         "type": "float"
        },
        {
         "name": "You Can't Take It With You (1938)",
         "rawType": "float64",
         "type": "float"
        },
        {
         "name": "You've Got Mail (1998)",
         "rawType": "float64",
         "type": "float"
        },
        {
         "name": "Young Doctors in Love (1982)",
         "rawType": "float64",
         "type": "float"
        },
        {
         "name": "Young Frankenstein (1974)",
         "rawType": "float64",
         "type": "float"
        },
        {
         "name": "Young Guns (1988)",
         "rawType": "float64",
         "type": "float"
        },
        {
         "name": "Young Guns II (1990)",
         "rawType": "float64",
         "type": "float"
        },
        {
         "name": "Young Sherlock Holmes (1985)",
         "rawType": "float64",
         "type": "float"
        },
        {
         "name": "Young and Innocent (1937)",
         "rawType": "float64",
         "type": "float"
        },
        {
         "name": "Zachariah (1971)",
         "rawType": "float64",
         "type": "float"
        },
        {
         "name": "Zero Effect (1998)",
         "rawType": "float64",
         "type": "float"
        },
        {
         "name": "eXistenZ (1999)",
         "rawType": "float64",
         "type": "float"
        }
       ],
       "ref": "ccf41056-211e-407d-913b-4ba0e998bb5c",
       "rows": [
        [
         "1",
         "4.227422555365158",
         "4.219394625383424",
         "4.211117209534996",
         "4.2217247061551015",
         "4.245856889962794",
         "4.215183176293748",
         "4.2168634178145386",
         "4.2340517167663325",
         "4.219221969365143",
         "4.223470890365938",
         "4.219489187635655",
         "4.220775267217394",
         "4.203347424848065",
         "4.219440946601695",
         "4.220250221901166",
         "4.22216845157903",
         "4.222152065261186",
         "4.210411623517129",
         "4.228096884864837",
         "4.224861339983625",
         "4.21651155559035",
         "4.221587229616779",
         "4.220126197196808",
         "4.228845486883908",
         "4.219336080086996",
         "4.228234367769588",
         "4.269920121213155",
         "4.2169170204051545",
         "4.191018389999799",
         "4.203577541844337",
         "4.216069168154387",
         "4.222074075278676",
         "4.219890294892514",
         "4.222502716936443",
         "4.218909896971387",
         "4.221743964499627",
         "4.225915042732339",
         "4.263771066546383",
         "4.184083127236208",
         "4.215203934961202",
         "4.219997154054166",
         "4.224147911501544",
         "4.222889096980476",
         "4.221345901437467",
         "4.195815212583215",
         "4.220084982808651",
         "4.230138049089204",
         "4.220291221889449",
         "4.23178554405677",
         "4.221176217286865",
         "4.222953680442585",
         "4.219561658285624",
         "4.223760636523802",
         "4.21904152007217",
         "4.219372185005564",
         "4.212630360072421",
         "4.221712767181109",
         "4.2124339913482585",
         "4.223416442943124",
         "4.252519793031672",
         "4.198914303178547",
         "4.17328891778891",
         "4.168794658427025",
         "4.169685874015438",
         "4.220133607093899",
         "4.217947405220862",
         "4.2205743400780165",
         "4.211115928228796",
         "4.21996557245927",
         "4.222063694031599",
         "4.222209987717864",
         "4.222235927689482",
         "4.218966796516451",
         "4.1868082638761015",
         "4.22239135011282",
         "4.220393867291198",
         "4.221771043565336",
         "4.217613764907957",
         "4.224444150222732",
         "4.21931209862803",
         "4.220755494801071",
         "4.219006821273621",
         "4.2195202525833375",
         "4.227359549719824",
         "4.2188228170040505",
         "4.219707775807391",
         "4.2282779116155185",
         "4.22831263578155",
         "4.219901585570253",
         "4.220521731027203",
         "4.220555521097424",
         "4.219504260445737",
         "4.222133428429275",
         "4.218828277837675",
         "4.228304503223102",
         "4.219721786509902",
         "4.222074829284674",
         "4.1989186941655925",
         "4.211862797363038",
         "4.219816571081564",
         "4.213874958159217",
         "4.202276269388099",
         "4.213276977721291",
         "4.218805161621696",
         "4.2212282261546505",
         "4.209853757466309",
         "4.223547410933542",
         "4.218092994469238",
         "4.2241752158354196",
         "4.218282361137837",
         "4.213765614982717",
         "4.220601332337679",
         "4.220004310029453",
         "4.217629317621685",
         "4.2332086538972264",
         "4.2328941684937025",
         "4.204076410645848",
         "4.223617299929576",
         "4.214242671227324",
         "4.215145997762325",
         "4.216878723659233",
         "4.19281508776247",
         "4.256946389565815",
         "4.2186369558923165",
         "4.220828338888511",
         "4.21638642585328",
         "4.218536337651041",
         "4.232686995972025",
         "4.275318020601724",
         "4.219088021430054",
         "4.217161366402752",
         "4.236486619497892",
         "4.221551592199774",
         "4.214830167330384",
         "4.224456765705151",
         "4.224328876168117",
         "4.224334018336381",
         "4.219374514026555",
         "4.219758193362848",
         "4.224997661063882",
         "4.214531396896844",
         "4.217420037970478",
         "4.202048254213142",
         "4.2423266111645646",
         "4.220129507792981",
         "4.215574208428634",
         "4.219092338876791",
         "4.2541606296839545",
         "4.2194313336010385",
         "4.324428637535527",
         "4.218422708588178",
         "4.217070141338525",
         "4.220496117470146",
         "4.212047998566681",
         "4.244014543525137",
         "4.232107509567994",
         "4.21803179014133",
         "4.226248153348004",
         "4.211509407063508",
         "4.218599786536611",
         "4.176672862969558",
         "4.218954414621137",
         "4.226829051553959",
         "4.193316451225863",
         "4.199230971255354",
         "4.208547715365692",
         "4.2065768466357545",
         "4.220647121326543",
         "4.2190185390996096",
         "4.238175183405192",
         "4.246272421590542",
         "4.224792143315753",
         "4.246721219185003",
         "4.214706831002916",
         "4.212990178349824",
         "4.2196676771825565",
         "4.209616801578588",
         "4.219962951525747",
         "4.209580064910623",
         "4.204375079956888",
         "4.229578585020101",
         "4.228947547605796",
         "4.220119044526483",
         "4.218098762530508",
         "4.201239977869683",
         "4.216980990336881",
         "4.218527691295862",
         "4.220628031558327",
         "4.205007351529136",
         "4.218401031326579",
         "4.219740434515271",
         "4.219918887083177",
         "4.212915944158835",
         "4.214046386422703",
         "4.227968836132285",
         "4.2160911731274195",
         "4.233362873952117",
         "4.21927384879716",
         "4.221340220633641",
         "4.223384296213293",
         "4.217310921402456",
         "4.2210905830437335",
         "4.229266347823432",
         "4.206874959671526",
         "4.2019713084267165",
         "4.2139191162489045",
         "4.220975654909081",
         "4.219074788857795",
         "4.256103933944459",
         "4.216907560060812",
         "4.217689748004882",
         "4.173342313386136",
         "4.231932458992309",
         "4.241426196483383",
         "4.222042274983745",
         "4.232124125933755",
         "4.220627836580488",
         "4.225581945105486",
         "4.219827182866614",
         "4.2208360066356825",
         "4.225568450760661",
         "4.220959678379683",
         "4.218308413622623",
         "4.221919404011814",
         "4.214236060133489",
         "4.22124547751783",
         "4.220913344227084",
         "4.222111023710114",
         "4.16862876043147",
         "4.174348870028346",
         "4.220228171290894",
         "4.2161147183826495",
         "4.243850435280897",
         "4.220672370007959",
         "4.216724657763275",
         "4.20267164262164",
         "4.189498330220393",
         "4.223329906473883",
         "4.198437436984129",
         "4.219397460454982",
         "4.21697060223009",
         "4.224265729591967",
         "4.272266632366857",
         "4.241210515014191",
         "4.23166758691232",
         "4.224213462540534",
         "4.2099034926998335",
         "4.220619532977637",
         "4.224551572411044",
         "4.231750069769901",
         "4.214820081053999",
         "4.217823374076702",
         "4.213086478995572",
         "4.219389518500629",
         "4.225485260694457",
         "4.250071887941386",
         "4.2113738577369455",
         "4.203628856632261",
         "4.21735799543863",
         "4.221259181150879",
         "4.218338475716595",
         "4.218428257479006",
         "4.220482716733591",
         "4.228081806162982",
         "4.212037705172888",
         "4.218287953018415",
         "4.219157686087963",
         "4.212280215806924",
         "4.2160170076018755",
         "4.247771351876296",
         "4.21910535590966",
         "4.220138561304591",
         "4.254090463298888",
         "4.181687615979096",
         "4.236869972896883",
         "4.194407560381973",
         "4.2042585295683095",
         "4.207515094258682",
         "4.229340532929828",
         "4.205270698908206",
         "4.219554973782075",
         "4.21505060523635",
         "4.21782252695165",
         "4.2206669662998895",
         "4.222518755063329",
         "4.218948880049793",
         "4.2183945503311255",
         "4.266230408924834",
         "4.225846902709943",
         "4.227173260954718",
         "4.171081008699533",
         "4.220828349640684",
         "4.221391960663172",
         "4.160205043310045",
         "4.2140140172736125",
         "4.220658958059636",
         "4.222268106674124",
         "4.22128851273422",
         "4.213761866421218",
         "4.2439666152889055",
         "4.229158260245465",
         "4.228739779893511",
         "4.218859704160096",
         "4.214375106137988",
         "4.215305622205009",
         "4.220153511478779",
         "4.217336166756984",
         "4.208088927620664",
         "4.223692907246947",
         "4.215993835608206",
         "4.219600426185261",
         "4.219113866784508",
         "4.211022793163172",
         "4.218233918065685",
         "4.231776977718852",
         "4.2199327113677665",
         "4.218842733974459",
         "4.219797957124248",
         "4.214378554117676",
         "4.232010830379505",
         "4.245627400127051",
         "4.220234404363248",
         "4.2023460548567275",
         "4.210084269212405",
         "4.2028885350075775",
         "4.188072491335176",
         "4.22307123665283",
         "4.214242095734767",
         "4.220014250183528",
         "4.224544048903384",
         "4.236812370302512",
         "4.218535853453915",
         "4.218151791857357",
         "4.227301657088951",
         "4.2253682301436815",
         "4.215102619574692",
         "4.211180743871092",
         "4.221683074235532",
         "4.2207770205383595",
         "4.209745033341389",
         "4.172237112936833",
         "4.232556748608289",
         "4.221564557402053",
         "4.220528113704703",
         "4.207943403085203",
         "4.216342474428617",
         "4.232049222960145",
         "4.2186698393555275",
         "4.219378374924226",
         "4.2195635035047445",
         "4.19772154682249",
         "4.21941275696838",
         "4.219633880991923",
         "4.217110757264716",
         "4.220581128965128",
         "4.225586702951431",
         "4.2185554570484785",
         "4.219081839450979",
         "4.220309870077479",
         "4.2172691486202964",
         "4.20162024440103",
         "4.220515631596696",
         "4.219878328088313",
         "4.22753994556652",
         "4.20225253717713",
         "4.226477040153653",
         "4.214382319507685",
         "4.216914814211869",
         "4.2093407516018715",
         "4.216465915395255",
         "4.19816440463955",
         "4.2167655895341705",
         "4.228124246702392",
         "4.190456787826206",
         "4.223810056934267",
         "4.220456455727286",
         "4.2249697713453145",
         "4.219587273655597",
         "4.219802606735146",
         "4.220609461804698",
         "4.210293292606002",
         "4.191873064679242",
         "4.218421366800625",
         "4.161782497615596",
         "4.217887519912806",
         "4.21966275024526",
         "4.253788371396021",
         "4.2198215699794845",
         "4.220007381838864",
         "4.223368405989044",
         "4.218143618557402",
         "4.21489493796453",
         "4.211150033081818",
         "4.344582813905624",
         "4.1590821738712815",
         "4.223490617624513",
         "4.213172949137332",
         "4.210683104714287",
         "4.221668863115744",
         "4.230137910843743",
         "4.207950952075468",
         "4.219516558238197",
         "4.218201614690687",
         "4.208432402877621",
         "4.239958831602177",
         "4.216352639947372",
         "4.217906975476602",
         "4.169125960926712",
         "4.221854797027477",
         "4.202090754955002",
         "4.219927612551269",
         "4.2172272553091",
         "4.217856001259804",
         "4.2197801656052105",
         "4.219955013509116",
         "4.213818945316905",
         "4.21917699576622",
         "4.219215554619798",
         "4.219673233704124",
         "4.220655772704664",
         "4.220642441610562",
         "4.1979826626071075",
         "4.198772895576114",
         "4.218393954666982",
         "4.2052998027796775",
         "4.1803367165840255",
         "4.222264188341523",
         "4.216389624067665",
         "4.219209577734503",
         "4.221522485091863",
         "4.2047638361943145",
         "4.251942442025721",
         "4.219816335280967",
         "4.220042891927682",
         "4.223664397361605",
         "4.220791514668009",
         "4.223492273020991",
         "4.218945916565164",
         "4.220808440385434",
         "4.222563814869027",
         "4.223682369015769",
         "4.205345613904099",
         "4.220935431722449",
         "4.229552277083295",
         "4.220284765001005",
         "4.2199130465058",
         "4.218541504724109",
         "4.218525810378687",
         "4.2198179642183975",
         "4.224579508957118",
         "4.216976950556165",
         "4.215289866182339",
         "4.21712511018201",
         "4.212410629497543",
         "4.2194831198790705",
         "4.255984250438821",
         "4.222197066748227",
         "4.2227289198573335",
         "4.274484038378468",
         "4.219288475388181",
         "4.222875634469864",
         "4.209522770018136",
         "4.21445157933051",
         "4.221407046828724",
         "4.21864334205779",
         "4.217582992178138",
         "4.216241875873349",
         "4.221624472214109",
         "4.217960421578067",
         "4.218916154379258",
         "4.221094741591417",
         "4.219619868132744",
         "4.225439392031904",
         "4.2257505052546875",
         "4.224773888787907",
         "4.2201882215436815",
         "4.2269953018750375",
         "4.220101712424776",
         "4.2234274822809335",
         "4.219349637673045",
         "4.217016815107724",
         "4.220149112027327",
         "4.240282006500601",
         "4.2238502810678975",
         "4.178252695882149",
         "4.220620841897219",
         "4.1850713003064826",
         "4.223823277391197",
         "4.19723203819961",
         "4.221361280094812",
         "4.202885845395445",
         "4.195177774656618",
         "4.201428449516604",
         "4.220573500638982",
         "4.220795221618329",
         "4.22596938350262",
         "4.219342691040339",
         "4.2204095282949305",
         "4.216698673148269",
         "4.21480258384834",
         "4.2202964987456415",
         "4.218818482870614",
         "4.257551881791723",
         "4.226883431235377",
         "4.214898540542508",
         "4.218529642113182",
         "4.219829792917462",
         "4.212163371906519",
         "4.226850003595211",
         "4.227379744859724",
         "4.223719284531684",
         "4.219191324025567",
         "4.217288083681915",
         "4.21953583960828",
         "4.225419476398029",
         "4.216843161613975",
         "4.2023365427391255",
         "4.214706199380208",
         "4.221821821771028",
         "4.237241637712619",
         "4.186739406061973",
         "4.2261203342531415",
         "4.214753590531305",
         "4.2150090080663665",
         "4.231967397421291",
         "4.2256828385488525",
         "4.180412556029301",
         "4.2210314702322",
         "4.219777859086249",
         "4.239274882235257",
         "4.236109340765039",
         "4.211896095795863",
         "4.218990979519742",
         "4.219326286814759",
         "4.222454346029863",
         "4.225265297347608",
         "4.220884951261336",
         "4.219909445989996",
         "4.220130544186077",
         "4.221178165058201",
         "4.22098416110549",
         "4.230029979904814",
         "4.209832514798646",
         "4.208090715235361",
         "4.219863209215735",
         "4.226551644197753",
         "4.225424423310432",
         "4.250317369025324",
         "4.22319580312914",
         "4.216323515755829",
         "4.215382415738552",
         "4.218101312301747",
         "4.207050075328393",
         "4.240615067487168",
         "4.230423021044465",
         "4.221111001988096",
         "4.195695459070327",
         "4.220560463166716",
         "4.224767051098899",
         "4.214379085489029",
         "4.21909135661347",
         "4.2217265193472375",
         "4.220318109478754",
         "4.219162007954126",
         "4.221897342773285",
         "4.225520827751301",
         "4.221017197272339",
         "4.22409296514834",
         "4.229978495056737",
         "4.207246194584215",
         "4.210208209009702",
         "4.22144227810947",
         "4.226175746677851",
         "4.2260537660189685",
         "4.22448070766537",
         "4.232070782798728",
         "4.212285282167919",
         "4.218479631994039",
         "4.216035417660856",
         "4.219165219425518",
         "4.2142603329241775",
         "4.207885678684484",
         "4.219636969931769",
         "4.220575465242561",
         "4.213682186506589",
         "4.218684681368237",
         "4.210660308449413",
         "4.218905607960336",
         "4.227405010518607",
         "4.21813038819081",
         "4.2138615036147105",
         "4.226618413330926",
         "4.229750170403241",
         "4.218770344242407",
         "4.213165289882753",
         "4.223189190824556",
         "4.230656186787443",
         "4.216762393979827",
         "4.281520808666352",
         "4.222264205605841",
         "4.222342433650105",
         "4.220424849719784",
         "4.220367508721901",
         "4.194338519235597",
         "4.22398520719318",
         "4.22576906819991",
         "4.219550794930481",
         "4.174604104950995",
         "4.219115798366493",
         "4.2124434825254236",
         "4.222789647881064",
         "4.234494007138144",
         "4.215650022951417",
         "4.236729393884423",
         "4.219151699381158",
         "4.209320000426814",
         "4.228506196987939",
         "4.2100732943349195",
         "4.227092780517756",
         "4.21595417835292",
         "4.2027601322180805",
         "4.2667754283206065",
         "4.221125977588382",
         "4.219554318446547",
         "4.211479081194732",
         "4.2196262085129534",
         "4.239671308839558",
         "4.2260168629957535",
         "4.217606238866401",
         "4.218301382995466",
         "4.221839655935317",
         "4.220468040533654",
         "4.223292934687051",
         "4.20003359368404",
         "4.223174071182447",
         "4.218894775890208",
         "4.207619535049369",
         "4.220035938710994",
         "4.210161944074361",
         "4.239090918797719",
         "4.222307548798018",
         "4.220697570130828",
         "4.21673077313884",
         "4.220145387579993",
         "4.194925054344273",
         "4.21884164486589",
         "4.177447438761673",
         "4.215364515712299",
         "4.2235356831836794",
         "4.2198574335637895",
         "4.2067858133300815",
         "4.199598701295734",
         "4.201925237009081",
         "4.226177568918125",
         "4.229193753520035",
         "4.222392249596704",
         "4.202769394867921",
         "4.226001422344575",
         "4.239098713933895",
         "4.214705220171008",
         "4.2109915491127605",
         "4.220499172849948",
         "4.21894414815733",
         "4.21996082850587",
         "4.216060662089093",
         "4.248632295843658",
         "4.2191369840895865",
         "4.22696288240105",
         "4.2085139587887195",
         "4.21404377126897",
         "4.205972957662515",
         "4.2278821871962355",
         "4.199031586987473",
         "4.247653344473376",
         "4.22651784820322",
         "4.2210439990782636",
         "4.167975221304976",
         "4.221677383033611",
         "4.219596579309965",
         "4.221758830124251",
         "4.232351784920499",
         "4.230691395176074",
         "4.21823397756579",
         "4.224042906338049",
         "4.216129230965303",
         "4.214232062593066",
         "4.217699517823105",
         "4.2096982902401585",
         "4.210686018523887",
         "4.2421933144824315",
         "4.208192288195307",
         "4.219594249892588",
         "4.220478065420696",
         "4.225157204235599",
         "4.211340950454536",
         "4.2455931496657575",
         "4.21321749879689",
         "4.196862574326187",
         "4.21533200399968",
         "4.201410261940131",
         "4.2189506670951795",
         "4.2202398175421685",
         "4.201066098545374",
         "4.216143662603901",
         "4.22120947075835",
         "4.212539945377169",
         "4.238234585282003",
         "4.2256530409254545",
         "4.214416576548706",
         "4.226212828892181",
         "4.331460262772028",
         "4.224608935747158",
         "4.225255547450417",
         "4.2178650116437195",
         "4.215819852812807",
         "4.211854971287441",
         "4.219851784508293",
         "4.226027416462275",
         "4.1682706185939224",
         "4.220133327196706",
         "4.221503448573904",
         "4.220989074013038",
         "4.143209849215234",
         "4.220803509008741",
         "4.18744712169487",
         "4.233035311943509",
         "4.221227552404236",
         "4.218923781883601",
         "4.217642420591014",
         "4.218593600987026",
         "4.223914999240292",
         "4.185951065887269",
         "4.225052884294303",
         "4.2083223137973",
         "4.234062160199561",
         "4.219248337726588",
         "4.259175235363124",
         "4.2296966345761415",
         "4.195699294243644",
         "4.228711286983906",
         "4.236849321406284",
         "4.214556614928094",
         "4.23834422872903",
         "4.237177407096479",
         "4.226190394787266",
         "4.220581099065542",
         "4.219984332452906",
         "4.225492878950513",
         "4.226127986889091",
         "4.218308224488586",
         "4.228924198412932",
         "4.225140366567353",
         "4.189011458922586",
         "4.221806052785406",
         "4.21744642943948",
         "4.221340535399226",
         "4.217888992548849",
         "4.18824704217095",
         "4.183007034698747",
         "4.218861161432552",
         "4.215263023223665",
         "4.183322245582628",
         "4.219060265615231",
         "4.227014373555753",
         "4.2246414922859135",
         "4.220598535818136",
         "4.217203217991859",
         "4.220168764702824",
         "4.218105589888354",
         "4.22036322002185",
         "4.218454747893952",
         "4.223855578039833",
         "4.222290942991269",
         "4.218521632593442",
         "4.229361102081212",
         "4.216165633128535",
         "4.236752669714335",
         "4.2165366299066465",
         "4.2245465584060025",
         "4.234068745522196",
         "4.2158472600315235",
         "4.248927086419353",
         "4.221741422053263",
         "4.214096663074009",
         "4.226471438901962",
         "4.236674897254744",
         "4.2242261451751215",
         "4.219493072775901",
         "4.221944241547423",
         "4.212860335624933",
         "4.212671435192533",
         "4.21953777316906",
         "4.219019604035595",
         "4.210362812388653",
         "4.2188106666985785",
         "4.230502705507951",
         "4.220339129241829",
         "4.231862540443267",
         "4.2132060048031486",
         "4.167510813763149",
         "4.226250171946095",
         "4.215861680390702",
         "4.221282478202555",
         "4.222066325858731",
         "4.218923043927617",
         "4.219914568634513",
         "4.23057329549632",
         "4.221716705928407",
         "4.251301570214252",
         "4.218398995690228",
         "4.216531774736294",
         "4.239064903840519",
         "4.2251647119878255",
         "4.213591150302311",
         "4.219997221325539",
         "4.217415331979879",
         "4.217267667881022",
         "4.226077131934763",
         "4.2383633884554595",
         "4.222119930584536",
         "4.217793149563203",
         "4.237014132747351",
         "4.222791798910813",
         "4.225683764348714",
         "4.219523848297007",
         "4.218026930434512",
         "4.220001013052255",
         "4.2291712805193145",
         "4.229080698883743",
         "4.216578983769545",
         "4.219863870084373",
         "4.21344825164975",
         "4.220593494606984",
         "4.220319779622611",
         "4.217030529322854",
         "4.228561214490544",
         "4.206260348816904",
         "4.220606130632158",
         "4.231160049883674",
         "4.22042064322381",
         "4.216557288594896",
         "4.218308778906666",
         "4.221137410517955",
         "4.220144065598145",
         "4.240480751081861",
         "4.221126821344836",
         "4.34146447344838",
         "4.214484349729008",
         "4.212071610155276",
         "4.182091435538473",
         "4.213780150372289",
         "4.2226269610547105",
         "4.219942980248653",
         "4.23996815398424",
         "4.2267987379204754",
         "4.218770299052631",
         "4.187142004135401",
         "4.219694004506436",
         "4.22448855114307",
         "4.216510431758138",
         "4.225307656933736",
         "4.2139494166687435",
         "4.224145159766145",
         "4.215929892680585",
         "4.234908668355752",
         "4.220098556855038",
         "4.208376984705329",
         "4.232218830240472",
         "4.201853169180008",
         "4.191198034068537",
         "4.1906754311500185",
         "4.179430016300127",
         "4.180365603667325",
         "4.250768503922615",
         "4.223526652337193",
         "4.219182296819117",
         "4.22015460186867",
         "4.203460442795432",
         "4.23301737664412",
         "4.208950687133294",
         "4.219306435151697",
         "4.219536699963825",
         "4.235781616652872",
         "4.220058452528963",
         "4.220103169796332",
         "4.215332054512045",
         "4.218347795513129",
         "4.2303634982953335",
         "4.219215391383821",
         "4.2179098885701",
         "4.159095014316609",
         "4.224269890843197",
         "4.220047547680293",
         "4.223296174294989",
         "4.181836597281752",
         "4.215328991343046",
         "4.214557139789633",
         "4.219907945512192",
         "4.219951289500616",
         "4.22371119902117",
         "4.216236890473347",
         "4.213703098916426",
         "4.220256192409132",
         "4.1508922705858575",
         "4.2168727193806275",
         "4.226233740409726",
         "4.27966686263905",
         "4.204570154702904",
         "4.220632001227168",
         "4.2223866881091805",
         "4.230617527061965",
         "4.2259247364626695",
         "4.22314878673377",
         "4.220325799012415",
         "4.221511639014102",
         "4.21122186649414",
         "4.221356030136785",
         "4.218738712595537",
         "4.2406963149968755",
         "4.217360325926848",
         "4.205256469622064",
         "4.213070719593327",
         "4.256428667867117",
         "4.213431064889049",
         "4.214789149571248",
         "4.220525993544978",
         "4.2189390296944325",
         "4.217428755459624",
         "4.244348855947532",
         "4.223615096984957",
         "4.221537596976141",
         "4.21929297842468",
         "4.196225137572472",
         "4.206763395625562",
         "4.218849324042189",
         "4.291404002375152",
         "4.232786150569186",
         "4.274605033667841",
         "4.259882754442677",
         "4.2182781638083995",
         "4.2185906255335",
         "4.224665740966357",
         "4.220160870334986",
         "4.222519099506862",
         "4.21910967448134",
         "4.218786768074161",
         "4.206554923539719",
         "4.268257166283279",
         "4.2278275405217585",
         "4.218920327155449",
         "4.2164068092120255",
         "4.24355947228432",
         "4.2211656693020325",
         "4.220104632124927",
         "4.21906150999315",
         "4.145997894330116",
         "4.125181699978009",
         "4.22686694747017",
         "4.2150678336718705",
         "4.229022682971523",
         "4.219529146527616",
         "4.220673760867056",
         "4.2175690382730044",
         "4.220609271938816",
         "4.212819525488838",
         "4.232105575796529",
         "4.227803083989841",
         "4.2276887960442275",
         "4.225880756529772",
         "4.223795696499967",
         "4.203450271303056",
         "4.22310139108906",
         "4.2751379077807705",
         "4.195486044766825",
         "4.186913346310885",
         "4.207628036155381",
         "4.213163175733449",
         "4.181271391038435",
         "4.218551678808891",
         "4.219796035510977",
         "4.21753155803365",
         "4.209008932151668",
         "4.217541945774315",
         "4.209817888247853",
         "4.218924168315369",
         "4.2010251408434485",
         "4.22031457617522",
         "4.2199113219595015",
         "4.2075932626396115",
         "4.218672663948322",
         "4.218833183563385",
         "4.215864362412752",
         "4.216368203689665",
         "4.218009377321651",
         "4.2299326871466345",
         "4.229935612248305",
         "4.215416679596741",
         "4.219638462185146",
         "4.211355000677888",
         "4.215553433876679",
         "4.220865832216393",
         "4.219486259513778",
         "4.215687487247279",
         "4.220524389272551",
         "4.222976989953638",
         "4.22131858140704",
         "4.219590035550486",
         "4.210794801495057",
         "4.217919791298279",
         "4.219203460677993",
         "4.220094358958492",
         "4.220975094659462",
         "4.201905486563458",
         "4.2237847135312165",
         "4.2275769478932395",
         "4.219467657114123",
         "4.213603444512298",
         "4.220548607347994",
         "4.206563760047587",
         "4.204000127655405",
         "4.2105819512734035",
         "4.208459019039627",
         "4.204840061931211",
         "4.205665596819891",
         "4.219190553665051",
         "4.205995858188254",
         "4.226613321799264",
         "4.224610075657457",
         "4.2213076364546875",
         "4.225018742585834",
         "4.216234318456759",
         "4.216711030534643",
         "4.215945650607935",
         "4.17180113003404",
         "4.229436175497061",
         "4.219903577399858",
         "4.22065347544475",
         "4.203156068126086",
         "4.210015984850971",
         "4.221430141801573",
         "4.22002507178066",
         "4.212197691485886",
         "4.220923805908234",
         "4.228521706964872",
         "4.230794409926118",
         "4.204848120100251",
         "4.219974718556703",
         "4.217279716557819",
         "4.236119414534383",
         "4.234201066823465",
         "4.222921363562387",
         "4.221836024437679",
         "4.218534346405719",
         "4.211614273270869",
         "4.222748203673957",
         "4.232374722123883",
         "4.223783292791337",
         "4.219742823028751",
         "4.225952148511073",
         "4.247110676444121",
         "4.213509034701217",
         "4.232123671716413",
         "4.236512497190657",
         "4.216905841138389",
         "4.2270342822799645",
         "4.218085144522024",
         "4.2134934523407495",
         "4.225939936807253",
         "4.194123522300466",
         "4.205923686729919",
         "4.215959122351476",
         "4.221777105978598",
         "4.227191406270211",
         "4.224158440435483",
         "4.226942689778767",
         "4.219123120353612",
         "4.218837281505723",
         "4.219791901480985",
         "4.223740429890335",
         "4.222903021137084",
         "4.227389226627632",
         "4.221428015386397",
         "4.219946514616077",
         "4.218435827765676",
         "4.218911906343795",
         "4.216500134671883",
         "4.221391014086736",
         "4.220946624818763",
         "4.21960337553957",
         "4.206848944926165",
         "4.218757186236945",
         "4.2240689164940015",
         "4.220076104653446",
         "4.2070067972938245",
         "4.218925825953648",
         "4.20170574083727",
         "4.215825693457808",
         "4.2210750765598",
         "4.222373865965902",
         "4.2270373628111955",
         "4.209881306568521",
         "4.222094150579675",
         "4.215765797133307",
         "4.220079817089054",
         "4.219511271721605",
         "4.227097796859017",
         "4.22026019564226",
         "4.231668894253863",
         "4.218297154259851",
         "4.221471778110457",
         "4.220621958879027",
         "4.221371719169886",
         "4.223523914980951",
         "4.220063818545367",
         "4.223235879851758",
         "4.213938888647864",
         "4.22248674381558",
         "4.212139916634778",
         "4.215423714457229",
         "4.219395822689765",
         "4.222730794458451",
         "4.236774820270371",
         "4.245934382827865",
         "4.218492162734984",
         "4.2202928737279",
         "4.2206164997777735",
         "4.228331221885189",
         "4.214870224563341",
         "4.2272930607100445",
         "4.217947099892781",
         "4.219443413768081",
         "4.218469866039882",
         "4.231469493377598",
         "4.220187430294273",
         "4.246937947280578",
         "4.216326537089944",
         "4.219145845856436",
         "4.219212131899567",
         "4.202131088299709",
         "4.2120767106886055",
         "4.221464118394048",
         "4.216183644688572",
         "4.226192495594667",
         "4.221051994457422",
         "4.235416091979327",
         "4.232682139584707",
         "4.2222793698003",
         "4.250258846781243",
         "4.220503689765063",
         "4.231368828605918",
         "4.2061507043421145",
         "4.1942178345306935",
         "4.211673423764447",
         "4.221304040680707",
         "4.2242742718036315",
         "4.219351247577316",
         "4.214765119522019",
         "4.221368693320035",
         "4.198928472770458",
         "4.219574294620051",
         "4.218881017113502",
         "4.214267649757439",
         "4.31321642899381",
         "4.2124733236994985",
         "4.18447274168432",
         "4.220296085392818",
         "4.219128428895405",
         "4.223589255778346",
         "4.223065205560225",
         "4.201881242260554",
         "4.216282888917464",
         "4.220884746355288",
         "4.23090645099482",
         "4.217849305081977",
         "4.218730781304318",
         "4.207725818660897",
         "4.219972431549309",
         "4.231161738155156",
         "4.2199434028782346",
         "4.220898579504734",
         "4.218168398360679",
         "4.234992430323142",
         "4.226966323840372",
         "4.218694823266643",
         "4.220228060420686",
         "4.222792563706748",
         "4.237091861073055",
         "4.217413817537322",
         "4.238646797251401",
         "4.2198511825725635",
         "4.244264774426457",
         "4.225843203931875",
         "4.22773817980115",
         "4.220477664236347",
         "4.220866398484667",
         "4.221357118312628",
         "4.221472354845105",
         "4.220511091098896",
         "4.2187296443313915",
         "4.2190068928389035",
         "4.215892728269711",
         "4.211615300013138",
         "4.220098571996263",
         "4.220117355147127",
         "4.2153345302594305",
         "4.221160400413886",
         "4.226197291925267",
         "4.205025296238978",
         "4.221625346986672",
         "4.215539109076518",
         "4.219012497954041",
         "4.217286992305437",
         "4.231376740785579",
         "4.2122048572101045",
         "4.204916629477503",
         "4.2157690518956485",
         "4.2185682950942205",
         "4.2054672966303075",
         "4.222062187259625",
         "4.217185683005768",
         "4.224474973827863",
         "4.221338843965948",
         "4.221128204472264",
         "4.216030340040485",
         "4.222062987235763",
         "4.220400626214589",
         "4.223065053020434",
         "4.22598231019011",
         "4.215775155901151",
         "4.2255001005056485",
         "4.214178171613071",
         "4.220835855158421",
         "4.199390959879571",
         "4.186237973294057",
         "4.24313218476221",
         "4.25115900760103",
         "4.21946471830428",
         "4.2197325244948285",
         "4.216564692022537",
         "4.174735222346902",
         "4.221247567217648",
         "4.221743661713993",
         "4.2226308746418715",
         "4.235853161460719",
         "4.219512047322336",
         "4.22182195286375",
         "4.218377131228358",
         "4.219325687632661",
         "4.218407816839708",
         "4.220946675839892",
         "4.221463260224451",
         "4.2229066456355175",
         "4.235005723035725",
         "4.20144706337127",
         "4.1920859822913314",
         "4.232075167962652",
         "4.233982656550377",
         "4.2160748878943295",
         "4.220496664261896",
         "4.243112652331168",
         "4.236103583342029",
         "4.216899220909679",
         "4.223578192134703",
         "4.216604125787536",
         "4.219554176153228",
         "4.227391261291371",
         "4.218428856392284",
         "4.219739502781051",
         "4.213707979202175",
         "4.21956311025526",
         "4.22228560832294",
         "4.221788975530507",
         "4.218806718607646",
         "4.220672325106979",
         "4.224585169567567",
         "4.214375013821931",
         "4.220812475047831",
         "4.213424256600406",
         "4.222818967182247",
         "4.220274493046241",
         "4.218011040011619",
         "4.192084257133562",
         "4.2095044514736735",
         "4.225611325578917",
         "4.219942424774936",
         "4.220344740767932",
         "4.221595483741121",
         "4.216520412948455",
         "4.209362126545017",
         "4.21126707205546",
         "4.219804139360437",
         "4.217183018580877",
         "4.216210093783183",
         "4.188352187271069",
         "4.222754812632873",
         "4.216357953185595",
         "4.216348147474555",
         "4.215419286723318",
         "4.214156137804359",
         "4.221090572828708",
         "4.220484607559201",
         "4.217422783951558",
         "4.214672346767807",
         "4.220131447894165",
         "4.239236367942443",
         "4.22041302810002",
         "4.220134032414733",
         "4.218868192921368",
         "4.220603912324311",
         "4.218506938949399",
         "4.2214966337871065",
         "4.220872631151641",
         "4.2191447014517065",
         "4.2136346526299056",
         "4.218032205943191",
         "4.219755441990142",
         "4.220592020031103",
         "4.224419047339488",
         "4.223828408726602",
         "4.220210738661604",
         "4.220144614542096",
         "4.226262651260916",
         "4.220050601473719",
         "4.2181077010912515",
         "4.220210337927447",
         "4.215308930245529",
         "4.213773246450852",
         "4.221494013051133",
         "4.22008692725705",
         "4.2145206181955155",
         "4.220958954299358",
         "4.218996964276822",
         "4.202010032733067",
         "4.220217539699745",
         "4.221949801832002",
         "4.222571559877117",
         "4.216279016364436",
         "4.219478212215629",
         "4.222845665453943",
         "4.198912038847664",
         "4.218168339606737",
         "4.219812549917524",
         "4.219907050873751",
         "4.223728741472429",
         "4.219126532107477",
         "4.214406779933431",
         "4.198894498031791",
         "4.220074215234892",
         "4.223415628376554",
         "4.216451505453056",
         "4.178515640707954",
         "4.217927636722315",
         "4.22061898875387",
         "4.219624395564961",
         "4.217934135304751",
         "4.2161405000978",
         "4.21801919268392",
         "4.223833467739195",
         "4.220083910399763",
         "4.226007534480267",
         "4.16906108301625",
         "4.221547640656942",
         "4.219495147761185",
         "4.263534817899569",
         "4.21920875440477",
         "4.219594167456262",
         "4.219727110499723",
         "4.220554588011939",
         "4.2220510764111205",
         "4.2202300902223415",
         "4.2215028122053795",
         "4.208801352673481",
         "4.22447437489306",
         "4.201213011319988",
         "4.218116855294338",
         "4.205287721254923",
         "4.222607218534636",
         "4.2070710350565905",
         "4.2163379642182015",
         "4.219687808422113",
         "4.222606980065021",
         "4.235420879598255",
         "4.220670931279937",
         "4.206660064516896",
         "4.216850403858869",
         "4.233055772103386",
         "4.2200686944723",
         "4.22285471599529",
         "4.200245178498407",
         "4.221083671549564",
         "4.215520791623853",
         "4.215936388596608",
         "4.123078948139551",
         "4.214826315115111",
         "4.21773359081151",
         "4.225314390460288",
         "4.226319171465443",
         "4.217954276064488",
         "4.212857752167509",
         "4.2240162746007925",
         "4.219501505475279",
         "4.211188560233481",
         "4.224761835368587",
         "4.2200802572874",
         "4.2186741034305415",
         "4.2111315063113",
         "4.22348658168308",
         "4.235218797770049",
         "4.222126198816817",
         "4.2063828866765265",
         "4.209733090479363",
         "4.223354819714067",
         "4.229005548024322",
         "4.214955736551605",
         "4.223345152737733",
         "4.222633497434649",
         "4.222772135331205",
         "4.20057378750531",
         "4.229901104357972",
         "4.219788139397779",
         "4.220789499209453",
         "4.229853838283308",
         "4.2225509102295495",
         "4.21991620069564",
         "4.260182605983003",
         "4.22102185924424",
         "4.2188400692436305",
         "4.215394225957625",
         "4.181905045763339",
         "4.175620697935382",
         "4.229805420356886",
         "4.230578400358222",
         "4.22110469511421",
         "4.2148352003339555",
         "4.220652347883687",
         "4.223163598841161",
         "4.219050045627848",
         "4.222139658826604",
         "4.2114431823093454",
         "4.221795484216012",
         "4.226686541343483",
         "4.212340020711364",
         "4.218745708305672",
         "4.220797285988176",
         "4.221233812366886",
         "4.219342154649194",
         "4.222664138425789",
         "4.235927795587127",
         "4.220680232473005",
         "4.230203714009264",
         "4.222969840947329",
         "4.219988395869384",
         "4.216371091634528",
         "4.220488509033296",
         "4.220493911578062",
         "4.2452226086214875",
         "4.217205852234398",
         "4.21904701615021",
         "4.210448125984226",
         "4.226318747515333",
         "4.209587200634688",
         "4.2281129251667355",
         "4.220009520236562",
         "4.22134874826148",
         "4.22634817583794",
         "4.219506674241655",
         "4.255391996755401",
         "4.2232491649096495",
         "4.220785357849692",
         "4.2280106404043005",
         "4.218021550852501",
         "4.23715483029084",
         "4.229408203879802",
         "4.2301977572774065",
         "4.202995063363756",
         "4.224514245442018",
         "4.225581924519596",
         "4.223892687440494",
         "4.219541351706575",
         "4.217741973008505",
         "4.209346293599834",
         "4.230939970985057",
         "4.2285280545609645",
         "4.222783405540741",
         "4.232054261593222",
         "4.227024157910883",
         "4.220084197431372",
         "4.2154269528271024",
         "4.215114460890282",
         "4.224234251071593",
         "4.25614926985359",
         "4.2205119526381925",
         "4.226284546210368",
         "4.218505094035282",
         "4.203743971238984",
         "4.2226177510036225",
         "4.226314131407516",
         "4.22229032801391",
         "4.217395304210406",
         "4.221647563611684",
         "4.221475156508126",
         "4.220201175490228",
         "4.209321010011798",
         "4.221488603429217",
         "4.219745546180947",
         "4.160251809413598",
         "4.207697012647529",
         "4.208609317977417",
         "4.214872768585946",
         "4.224605641153127",
         "4.221051801817886",
         "4.215968718218571",
         "4.219919021514874",
         "4.208250027614993",
         "4.218050218845255",
         "4.200140765498385",
         "4.217628236099131",
         "4.212270077246638",
         "4.216772296626558",
         "4.227041117789957",
         "4.1999203890088355",
         "4.212937362469892",
         "4.218875937312307",
         "4.22052776604027",
         "4.217850661882547",
         "4.217717031587895",
         "4.2213975108486625",
         "4.232291559467441",
         "4.224131311815994",
         "4.22064030580227",
         "4.221833603603569",
         "4.219871370790148",
         "4.21633361146589",
         "4.2199113219595015",
         "4.216475528315726",
         "4.215456630507292",
         "4.2566112048798095",
         "4.2211221963148216",
         "4.212225593956142",
         "4.217031261929874",
         "4.214814118178834",
         "4.211694162774341",
         "4.226804848509389",
         "4.218192265548265",
         "4.220214130783037",
         "4.220454157880468",
         "4.22856841307226",
         "4.219620586701692",
         "4.216559135415699",
         "4.222056144792764",
         "4.235114187317823",
         "4.214482610227944",
         "4.215310998170145",
         "4.218210424114679",
         "4.216693556762207",
         "4.2624827601390916",
         "4.221048376281432",
         "4.222555615273126",
         "4.218976258828342",
         "4.218666490140159",
         "4.223781517442434",
         "4.2215864097010085",
         "4.219973346306378",
         "4.220196457810196",
         "4.198163465310308",
         "4.198159267940494",
         "4.249551420333966",
         "4.2229502508460355",
         "4.220055334661918",
         "4.2213596918565415",
         "4.189771180744192",
         "4.2294533135300165",
         "4.225503603087819",
         "4.236848425589565",
         "4.220560991651058",
         "4.238706092424014",
         "4.216442431199076",
         "4.221148708413018",
         "4.223789048599492",
         "4.219541189197896",
         "4.222328733975546",
         "4.2306106443540195",
         "4.212281200020952",
         "4.219184421878036",
         "4.229024337071198",
         "4.22327361831519",
         "4.320285354382242",
         "4.220351338262922",
         "4.222032705580252",
         "4.2199113219595015",
         "4.215706773868272",
         "4.217880564818097",
         "4.220322909386219",
         "4.220183866735975",
         "4.2223411221447265",
         "4.225041429494188",
         "4.219848141001024",
         "4.220905558272891",
         "4.227955074338403",
         "4.217944662031646",
         "4.219002306946478",
         "4.21723219498194",
         "4.21711591742446",
         "4.220932070523893",
         "4.218941183343926",
         "4.181250808384159",
         "4.2187180537196065",
         "4.221355264979247",
         "4.226782295030824",
         "4.2273429161123275",
         "4.220048091065991",
         "4.212902854411586",
         "4.219045775077023",
         "4.217538236442533",
         "4.219668934002822",
         "4.22021965575871",
         "4.221093071254575",
         "4.219739873804253",
         "4.220736413351389",
         "4.2202846230255915",
         "4.226832008460442",
         "4.221877942119825",
         "4.219983057643402",
         "4.215051082897546",
         "4.213796058500849",
         "4.218908358917627",
         "4.219726898390361",
         "4.222498017256913",
         "4.245323146323531",
         "4.218519242483356",
         "4.230129069970918",
         "4.239036435460895",
         "4.237979223644814",
         "4.218072872559369",
         "4.19591719434726",
         "4.212823547215137",
         "4.167780310125115",
         "4.22197360504032",
         "4.220446831671159",
         "4.218283905689528",
         "4.218728857741082",
         "4.21857552595916",
         "4.219715554228337",
         "4.214022239266728",
         "4.2281780119019965",
         "4.193327903842224",
         "4.230799977173996",
         "4.2407280964236165",
         "4.227786316094249",
         "4.226606386694336",
         "4.209422205540947",
         "4.213951189548249",
         "4.214950442688841",
         "4.211103010423618",
         "4.221208856109118",
         "4.231880240860367",
         "4.2328993430554345",
         "4.185759145720595",
         "4.223629697400129",
         "4.21983390406599",
         "4.218859041315109",
         "4.213711810973492",
         "4.214412981382335",
         "4.237589376997935",
         "4.214371069347773",
         "4.1929100317275125",
         "4.226618144032701",
         "4.244153294152063",
         "4.2467577833687145",
         "4.223558259638104",
         "4.22592326832489",
         "4.181428654029165",
         "4.216303952708355",
         "4.221338310009901",
         "4.2234382375943085",
         "4.2211400949691",
         "4.226124858101153",
         "4.2296164616755165",
         "4.219761890191658",
         "4.204133467651262",
         "4.214066870369372",
         "4.205640876277778",
         "4.2223660931745695",
         "4.23314723281725",
         "4.259894380355213",
         "4.1880229456642555",
         "4.18476033879527",
         "4.222459381505013",
         "4.219000623102465",
         "4.226160416023555",
         "4.2190940408294315",
         "4.2148949107604485",
         "4.218962154402372",
         "4.2174464152600954",
         "4.224151881545646",
         "4.2175791845986375",
         "4.223442983910752",
         "4.220607740639768",
         "4.219302968253979",
         "4.257850709873606",
         "4.229851781891348",
         "4.220570220070245",
         "4.217485404035165",
         "4.222780223592918",
         "4.232017744682715",
         "4.210680498244333",
         "4.221234790094249",
         "4.220766145101752",
         "4.2200520164731845",
         "4.2364316877389445",
         "4.2225019241416675",
         "4.216947532094556",
         "4.200177838004977",
         "4.218712965638016",
         "4.225201644490945",
         "4.219683314614867",
         "4.207509632910001",
         "4.302109726337539",
         "4.199416446895362",
         "4.219871239083181",
         "4.206279986881282",
         "4.195350985464965",
         "4.218755638794697",
         "4.221053061700155",
         "4.218882176428696",
         "4.211489153054196",
         "4.212927914780625",
         "4.211339441085756",
         "4.201918807703946",
         "4.219736357529763",
         "4.219939764733604",
         "4.206715537643719",
         "4.216582161690588",
         "4.214148714258254",
         "4.224446617754123",
         "4.224169462124069",
         "4.219576523224548",
         "4.199877073246471",
         "4.2203382253527195",
         "4.214502972170033",
         "4.226551373662511",
         "4.224138010010189",
         "4.336008870708825",
         "4.219890092401744",
         "4.220802408765666",
         "4.277038974622314",
         "4.219834463300346",
         "4.223054847781615",
         "4.219997312781942",
         "4.145938238814831",
         "4.2187786719448415",
         "4.216116290712628",
         "4.216201753271588",
         "4.209157112386384",
         "4.235708193725424",
         "4.219250877384969",
         "4.2188524326695696",
         "4.2143334138272195",
         "4.2310164907572565",
         "4.218965055148968",
         "4.2093158358787806",
         "4.228083618285026",
         "4.269242666263026",
         "4.2275398703961535",
         "4.222887949250605",
         "4.220075478188863",
         "4.224391256242216",
         "4.23472247626011",
         "4.219638308979921",
         "4.221125895889521",
         "4.209704607880655",
         "4.209859621407783",
         "4.222133807904845",
         "4.23286831404429",
         "4.236292321930935",
         "4.218573200684609",
         "4.198845769628038",
         "4.22090626844294",
         "4.22020768675491",
         "4.211215142948142",
         "4.21200573345459",
         "4.218922949605807",
         "4.220001013052255",
         "4.21969508238493",
         "4.2296598611260565",
         "4.213408771137076",
         "4.225086366777068",
         "4.216295624877305",
         "4.225878497464831",
         "4.219761525453537",
         "4.20202243030656",
         "4.214572834876258",
         "4.218221118910441",
         "4.219205599033467",
         "4.23022741480152",
         "4.215237983255382",
         "4.2138461918304975",
         "4.217815493539469",
         "4.221056492359396",
         "4.228768681052343",
         "4.2282353135422115",
         "4.232939014598716",
         "4.224234412074955",
         "4.238773778713421",
         "4.227352780472179",
         "4.235281302900833",
         "4.22486032593142",
         "4.216184007895055",
         "4.20022926841456",
         "4.216861248425896",
         "4.228018595181495",
         "4.230953427850105",
         "4.218332411034345",
         "4.21456507589049",
         "4.234627814322549",
         "4.218093517874461",
         "4.2049183669656705",
         "4.190693090641384",
         "4.2188290148252205",
         "4.217096581275855",
         "4.223001782300141",
         "4.259286308706212",
         "4.217831164579383",
         "4.218519929904842",
         "4.2194141719971086",
         "4.219428062452809",
         "4.223340068127701",
         "4.219598861799827",
         "4.216068341335527",
         "4.218424059151446",
         "4.221490882326868",
         "4.2280876218895145",
         "4.2124107327759255",
         "4.194353371436882",
         "4.230708073703671",
         "4.222064929885244",
         "4.2055393859013375",
         "4.214311672826562",
         "4.210377190098284",
         "4.1924212843405",
         "4.172850038359758",
         "4.230690430928085",
         "4.218320366121185",
         "4.223452194080569",
         "4.222327811500797",
         "4.214798080460043",
         "4.238298077097709",
         "4.220585505935372",
         "4.219374850989606",
         "4.219809803132874",
         "4.21794962173525",
         "4.229544643811275",
         "4.219354506318504",
         "4.220915179140852",
         "4.218948438175133",
         "4.215832334173242",
         "4.377729727253629",
         "4.220533382644499",
         "4.215266733576879",
         "4.185451716978325",
         "4.233980911840814",
         "4.441040940667428",
         "4.214444962536023",
         "4.2234398611958595",
         "4.227160575807791",
         "4.212895465556485",
         "4.184980571782685",
         "4.2205605754594995",
         "4.220828019138998",
         "4.218758509681524",
         "4.209692316946083",
         "4.219682325146698",
         "4.221030685607311",
         "4.22406506261585",
         "4.2203900365389035",
         "4.228418560552352",
         "4.2197301701372805",
         "4.216651593404624",
         "4.214700389914121",
         "4.223175461195696",
         "4.21909517977906",
         "4.221900324166833",
         "4.221634121488784",
         "4.2229940823236145",
         "4.1930454477308245",
         "4.219899663474826",
         "4.2193273592715395",
         "4.2260037752752835",
         "4.230474390529945",
         "4.221706372935937",
         "4.218778717220206",
         "4.2052936362552975",
         "4.223620143962785",
         "4.220759658338438",
         "4.220419526275423",
         "4.23287708692673",
         "4.2185369339729055",
         "4.206903522336982",
         "4.225487006993883",
         "4.18117036681201",
         "4.22044891254091",
         "4.218234964336302",
         "4.218866900850734",
         "4.211732683455913",
         "4.213308004804618",
         "4.215720332578186",
         "4.221841306070778",
         "4.2133194409306",
         "4.2187971602938745",
         "4.220136519225828",
         "4.221997881024497",
         "4.212479451521349",
         "4.221318963995378",
         "4.228346930422018",
         "4.220148989709365",
         "4.218893427937591",
         "4.221962060295988",
         "4.220803850977774",
         "4.238351513810663",
         "4.225499994855928",
         "4.2177496372710905",
         "4.257352811583657",
         "4.225306200262462",
         "4.218391022767706",
         "4.211973600064065",
         "4.2195403034398815",
         "4.220866865020166",
         "4.214452469831119",
         "4.235008772752054",
         "4.220182283733923",
         "4.217442136834961",
         "4.220134627776515",
         "4.218859857044101",
         "4.219683295982274",
         "4.213983220972679",
         "4.207436392719347",
         "4.222706852019647",
         "4.244800317602475",
         "4.263953697333571",
         "4.202959586339681",
         "4.192737177307012",
         "4.207284179161411",
         "4.255954161059011",
         "4.222674963789258",
         "4.22750350762349",
         "4.207096066995453",
         "4.220622145346225",
         "4.209939325286339",
         "4.208655178462186",
         "4.211308894461787",
         "4.20598259487492",
         "4.201590325617817",
         "4.200526606486057",
         "4.198929614448917",
         "4.245030003684035",
         "4.219924963089906",
         "4.189033050871824",
         "4.210938066754939",
         "4.217568048044738",
         "4.2199072509434234",
         "4.214496543389528",
         "4.22341120457431",
         "4.225729006404417",
         "4.238427939967225",
         "4.217178949063169",
         "4.22133359206461",
         "4.220476751461337",
         "4.221057390419576",
         "4.220281966788379",
         "4.237811860170236",
         "4.221914645308232",
         "4.229338320306018",
         "4.222838897949305",
         "4.224231302019735",
         "4.226185675306643",
         "4.220367262623691",
         "4.239870072570755",
         "4.220101896412479",
         "4.221463781730912",
         "4.218345662133444",
         "4.218508055786472",
         "4.220939766618778",
         "4.230405954047334",
         "4.22034216793384",
         "4.229781872244556",
         "4.219721131553545",
         "4.205978565583401",
         "4.2091754914766355",
         "4.238025764811081",
         "4.223863273867105",
         "4.212041967727295",
         "4.225408111513478",
         "4.228699872045457",
         "4.225581345048861",
         "4.222037848307776",
         "4.171199977953101",
         "4.227533597139405",
         "4.218188889218901",
         "4.231707881949204",
         "4.215151258515965",
         "4.2027677638544265",
         "4.217356400398514",
         "4.218571752715088",
         "4.219550262258226",
         "4.224868967927823",
         "4.222791427340945",
         "4.236201574746321",
         "4.220941324174034",
         "4.220440316655425",
         "4.232710188470418",
         "4.219347488225256",
         "4.221284179331872",
         "4.309657570063172",
         "4.218953834289738",
         "4.226987487391549",
         "4.220401593105663",
         "4.246257188480475",
         "4.218562007067597",
         "4.2789981883291945",
         "4.2360261479603185",
         "4.224475036912505",
         "4.24211395647088",
         "4.24107824150916",
         "4.24983251285767",
         "4.172831479842317",
         "4.214313235312824",
         "4.239622048271964",
         "4.214917527276775",
         "4.182006960784007",
         "4.2201678101503886",
         "4.219448383881149",
         "4.219622264493978",
         "4.228088944682312",
         "4.2519698828067725",
         "4.216112450746565",
         "4.217894493104293",
         "4.2077481499308025",
         "4.2170967201125755",
         "4.218350134853168",
         "4.222830255881646",
         "4.221438914167249",
         "4.215830931541006",
         "4.216652195611562",
         "4.197259485525756",
         "4.216415369116516",
         "4.2199925418387965",
         "4.21984501089587",
         "4.232676729348205",
         "4.229671273147784",
         "4.202964355551718",
         "4.22451611593427",
         "4.21247622717303",
         "4.220155968569984",
         "4.205173803685763",
         "4.213283160766486",
         "4.2237449325214325",
         "4.219776287685932",
         "4.222256600455391",
         "4.218859867637401",
         "4.21442902474687",
         "4.204513894071573",
         "4.220798151571886",
         "4.218730247099329",
         "4.215864641528721",
         "4.246209527378924",
         "4.222446356825074",
         "4.245199668071539",
         "4.249130441893143",
         "4.253256444502293",
         "4.2487072519699725",
         "4.211653414962727",
         "4.203303199374945",
         "4.22549522460402",
         "4.222117654086251",
         "4.223074234099192",
         "4.219675235592221",
         "4.216461151122653",
         "4.217410286595619",
         "4.2202483256798375",
         "4.205127877942769",
         "4.226767440205501",
         "4.218622939839712",
         "4.2328792045526376",
         "4.219980366307358",
         "4.217005856287174",
         "4.220093139134752",
         "4.219456568319688",
         "4.220597859977318",
         "4.220001013052255",
         "4.211944071275885",
         "4.220786542881315",
         "4.213726577845652",
         "4.216114592590779",
         "4.219620305274847",
         "4.221659144896957",
         "4.228274302222987",
         "4.222033857891756",
         "4.220086710439577",
         "4.228983735434566",
         "4.213440956877395",
         "4.221630128933447",
         "4.21957884994057",
         "4.226478924840493",
         "4.220899755512953",
         "4.209996075529709",
         "4.215856420265479",
         "4.223649384470375",
         "4.2251443236612545",
         "4.219980136557744",
         "4.2269294554375305",
         "4.221693826829152",
         "4.219805043950204",
         "4.225535447590371",
         "4.242426542690746",
         "4.219821630866748",
         "4.218277397014806",
         "4.2199458384937385",
         "4.237700153849715",
         "4.223449324439768",
         "4.222489980673215",
         "4.219272622484224",
         "4.175545120510479",
         "4.218161861254945",
         "4.222494856450779",
         "4.220650203134007",
         "4.201747653319173",
         "4.219299722005228",
         "4.199335557379874",
         "4.212654468963969",
         "4.218486314816827",
         "4.224946974694591",
         "4.217594359672702",
         "4.216947760127284",
         "4.216102406838348",
         "4.217343376773895",
         "4.258975713838232",
         "4.221252100241465",
         "4.226730158509744",
         "4.221344639928942",
         "4.221882355129971",
         "4.246914600495781",
         "4.208147485257878",
         "4.218069616834188",
         "4.219174753678298",
         "4.206227094697472",
         "4.225821586430292",
         "4.226360754129593",
         "4.23970001894744",
         "4.225560975133427",
         "4.224143644281478",
         "4.2185376724281065",
         "4.217086152816161",
         "4.221320887235325",
         "4.212977750371298",
         "4.237768023813533",
         "4.22024874705825",
         "4.217480247686976",
         "4.217726979321809",
         "4.210748150371583",
         "4.220909456065941",
         "4.217238450496242",
         "4.220694295905896",
         "4.220951269699865",
         "4.223369869853189",
         "4.22511292745314",
         "4.217747173455746",
         "4.220519838531755",
         "4.190062035973286",
         "4.219391081047241",
         "4.222563422758083",
         "4.216452959391895",
         "4.2212843433781195",
         "4.219586767960005",
         "4.2190519949423875",
         "4.219107109220047",
         "4.2263875555289125",
         "4.223383542012034",
         "4.232722807399222",
         "4.219805139870554",
         "4.222064734684485",
         "4.225701837036708",
         "4.2119343694844416",
         "4.2022219631539635",
         "4.162176022924542",
         "4.213155969419203",
         "4.2169367288223905",
         "4.218929590998964",
         "4.217639759185179",
         "4.220805280857679",
         "4.230196416184306",
         "4.258554977317813",
         "4.219412450257289",
         "4.225704901022419",
         "4.148595651053236",
         "4.230681062106527",
         "4.219713939660126",
         "4.228001065822294",
         "4.20629626619297",
         "4.224179787331789",
         "4.236210865686837",
         "4.215563294326236",
         "4.21346209515",
         "4.221888709666543",
         "4.225825200938321",
         "4.220283489267048",
         "4.2222442727739695",
         "4.212555604814707",
         "4.223341544921384",
         "4.222627640026912",
         "4.248899566156598",
         "4.2218128856616275",
         "4.2556406248091205",
         "4.2194103353370656",
         "4.2216524256301975",
         "4.2115061603267",
         "4.212050026660811",
         "4.220660334899811",
         "4.222267978060456",
         "4.219911151224234",
         "4.219849300072269",
         "4.210388130190936",
         "4.215326484754074",
         "4.220026188059437",
         "4.217096287679514",
         "4.222575249755891",
         "4.195070103603417",
         "4.217019357545972",
         "4.21911424233217",
         "4.216268410852861",
         "4.244096009214883",
         "4.2180576489093715",
         "4.202179838647779",
         "4.212694142649107",
         "4.235715517485897",
         "4.220022167250865",
         "4.240426506680064",
         "4.226089348231725",
         "4.216610881644487",
         "4.21093983998259",
         "4.21508397777076",
         "4.216175221397673",
         "4.225244542337142",
         "4.223658995311585",
         "4.220028226706192",
         "4.220266988950553",
         "4.225178517903243",
         "4.189624841926148",
         "4.222854036736581",
         "4.218716101657874",
         "4.216666978202776",
         "4.220394002624285",
         "4.217576969068942",
         "4.1790044900023045",
         "4.219386418112215",
         "4.218247971776998",
         "4.224908944266344",
         "4.229002858953388",
         "4.223721644278722",
         "4.231799346203294",
         "4.216482244369524",
         "4.23817844539237",
         "4.222636038642064",
         "4.217975436723866",
         "4.213038826421729",
         "4.235838298254708",
         "4.222981869106641",
         "4.219816655667061",
         "4.220028621414477",
         "4.207353974507366",
         "4.221286383279659",
         "4.222268190018834",
         "4.235629218874501",
         "4.223035098575055",
         "4.2246286235511095",
         "4.219043297567769",
         "4.218989822768613",
         "4.220121312979586",
         "4.220061448709105",
         "4.220222489227592",
         "4.223502040716101",
         "4.21802825470761",
         "4.215617161416322",
         "4.21984329039128",
         "4.215929024396784",
         "4.217725214967241",
         "4.219174872696263",
         "4.1922745748194545",
         "4.216501443758778",
         "4.301664565388955",
         "4.207139417340365",
         "4.217740757250284",
         "4.203401519543605",
         "4.20105677892353",
         "4.222718983162857",
         "4.221115943699005",
         "4.2169987269638405",
         "4.217942471644247",
         "4.139549688245698",
         "4.2190237276656894",
         "4.219056860987253",
         "4.231038320131279",
         "4.2346230862974386",
         "4.168468264402973",
         "4.214511601529274",
         "4.211301036567218",
         "4.235417428404543",
         "4.19963445017332",
         "4.246705451173473",
         "4.231604058877681",
         "4.201161732337944",
         "4.2184958330254885",
         "4.224535169740686",
         "4.235894761024594",
         "4.234916707772399",
         "4.2048930238966475",
         "4.261874381794209",
         "4.1874885189557025",
         "4.220395265831347",
         "4.2176533608460005",
         "4.214560527234965",
         "4.216467265799845",
         "4.21433155422887",
         "4.208078788455788",
         "4.212383184908149",
         "4.219683279644789",
         "4.2200974302237295",
         "4.217055182921057",
         "4.220139673908626",
         "4.214851130294704",
         "4.219000473430416",
         "4.2234452881337425",
         "4.223036018732282",
         "4.225272981581857",
         "4.218186065392968",
         "4.215461145928689",
         "4.220132307637875",
         "4.217881650743373",
         "4.218743716636075",
         "4.221006348309419",
         "4.3642424677737575",
         "4.278130030248687",
         "4.206800100279648",
         "4.2112497043336345",
         "4.212818510033277",
         "4.219814402942257",
         "4.220100491459776",
         "4.222281878043459",
         "4.222098938043568",
         "4.222337132011987",
         "4.217742958563443",
         "4.246292246873543",
         "4.219586551193049",
         "4.239293500171538",
         "4.236377215679775",
         "4.219564469985272",
         "4.21541119460977",
         "4.227205494253969",
         "4.220564701282153",
         "4.226192435386874",
         "4.223123535393109",
         "4.215360485104092",
         "4.224894910072902",
         "4.221594144920957",
         "4.228875477202188",
         "4.223743211476152",
         "4.297594484750325",
         "4.186199047093984",
         "4.217233533941561",
         "4.219526559854192",
         "4.220594177149623",
         "4.222776236583484",
         "4.224645737570789",
         "4.193390250534322",
         "4.2198007385619265",
         "4.2147308674458",
         "4.220168859268548",
         "4.22205228243239",
         "4.227552435173306",
         "4.2181846928967435",
         "4.20576600162689",
         "4.222755677104824",
         "4.178861666551871",
         "4.220670426986881",
         "4.216616807866635",
         "4.2486473636600275",
         "4.220671055055058",
         "4.23033403910444",
         "4.222022462264878",
         "4.205349347602139",
         "4.21831730202096",
         "4.214562568770273",
         "4.222627854552966",
         "4.224778457103474",
         "4.2160378430723355",
         "4.22029675466857",
         "4.221447293452476",
         "4.211849139980294",
         "4.220112237192815",
         "4.219642517360898",
         "4.2223315299959925",
         "4.209802221616965",
         "4.241643259935557",
         "4.217376882352582",
         "4.21977632771521",
         "4.210047397452916",
         "4.24447886238501",
         "4.22026613039581",
         "4.225947683883327",
         "4.240294063554515",
         "4.219998080356055",
         "4.233599433307173",
         "4.219572828687706",
         "4.2233415324472166",
         "4.229192746405091",
         "4.224535343541223",
         "4.212088241117368",
         "4.215323714077685",
         "4.219016194079842",
         "4.22039159513277",
         "4.223444199057806",
         "4.239983192982785",
         "4.21799055397331",
         "4.23774731693902",
         "4.220388283235465",
         "4.21843671225405",
         "4.218963525982259",
         "4.224260934929352",
         "4.220156401696475",
         "4.2208876394502415",
         "4.221364717924092",
         "4.224219979021885",
         "4.2078406468611735",
         "4.215306473430614",
         "4.2166618685830475",
         "4.201564757752752",
         "4.219674118630505",
         "4.221596840804548",
         "4.227476406009647",
         "4.237768430490368",
         "4.220336912729023",
         "4.1846242777876945",
         "4.274457724050848",
         "4.2690331583023315",
         "4.224829453336412",
         "4.227629535371484",
         "4.217185749326614",
         "4.217380201457122",
         "4.216025067409079",
         "4.221477747571008",
         "4.23380577777265",
         "4.228531227689273",
         "4.217935869384882",
         "4.2179190793704935",
         "4.217288102945353",
         "4.250765305216259",
         "4.213751747048941",
         "4.21941733586432",
         "4.216315128419683",
         "4.202885449001538",
         "4.23489596173945",
         "4.215106289355143",
         "4.219409119365501",
         "4.2259891840685775",
         "4.215316968674063",
         "4.219980754522801",
         "4.2196352144709675",
         "4.221286308235606",
         "4.215443871144033",
         "4.218208022445972",
         "4.2186003458498496",
         "4.201669232349219",
         "4.216314056521883",
         "4.163498020520189",
         "4.195359048135982",
         "4.220957253948517",
         "4.2196216677146925",
         "4.1502142494786645",
         "4.211916914741831",
         "4.222831664723822",
         "4.2236970255026",
         "4.215160484174443",
         "4.239598615717069",
         "4.214595923492175",
         "4.212672809328334",
         "4.22569692769043",
         "4.232739992651785",
         "4.213301225534419",
         "4.208361790615315",
         "4.232165211086307",
         "4.225029072815526",
         "4.1504225683164915",
         "4.221255573806323",
         "4.220697145273139",
         "4.217951949866774",
         "4.217204482486092",
         "4.227405944701412",
         "4.217135073105737",
         "4.229359500236658",
         "4.212094525628253",
         "4.201274604570877",
         "4.218841065972693",
         "4.221978291807879",
         "4.214987581807032",
         "4.2126115704918785",
         "4.219647982127169",
         "4.252297427327615",
         "4.254713262869217",
         "4.2191471351009975",
         "4.216784470299839",
         "4.210002520574031",
         "4.218597483882835",
         "4.182084553975267",
         "4.219176133229664",
         "4.222500212912036",
         "4.226773711316092",
         "4.221791690018095",
         "4.221607960760684",
         "4.220974024579407",
         "4.224442035607823",
         "4.2122795012100225",
         "4.223108569702769",
         "4.24947733228706",
         "4.199224977399605",
         "4.20364030690202",
         "4.229522766449299",
         "4.216314684117185",
         "4.218495114562621",
         "4.224551789570803",
         "4.2312956465227805",
         "4.221336905134683",
         "4.224955159822831",
         "4.216638293179515",
         "4.219928136238858",
         "4.220684363354473",
         "4.216081543681166",
         "4.220501505546879",
         "4.232465112023105",
         "4.233338547657677",
         "4.2521067237810195",
         "4.225225057956919",
         "4.222688172625781",
         "4.2278215808645",
         "4.205447694912656",
         "4.22170759574441",
         "4.196587607322474",
         "4.22080723921712",
         "4.217985981910959",
         "4.221167635426147",
         "4.22736254619522",
         "4.207179375776884",
         "4.183064958851813",
         "4.221752195751271",
         "4.220396155748908",
         "4.220276460367113",
         "4.231807894077113",
         "4.225749102897173",
         "4.224017976618716",
         "4.21760900608556",
         "4.229161582367002",
         "4.229889847414147",
         "4.232542900384792",
         "4.237588255732849",
         "4.221929059174146",
         "4.221527649123536",
         "4.213907162095277",
         "4.220590031325334",
         "4.197752530811293",
         "4.2227293505525365",
         "4.2119561034554724",
         "4.230884713537919",
         "4.22095200336028",
         "4.201152324808954",
         "4.213240101172958",
         "4.217705546569701",
         "4.223556608092793",
         "4.218928983984563",
         "4.221984310441974",
         "4.217463188356242",
         "4.219706369823862",
         "4.219481856111984",
         "4.225347829804926",
         "4.211425174448922",
         "4.2160960621284405",
         "4.234879576975137",
         "4.225115372064987",
         "4.22002387956213",
         "4.217735570441599",
         "4.220016759191535",
         "4.2210482178767155",
         "4.23230704423192",
         "4.21874592342734",
         "4.2282999251352305",
         "4.2243391096575085",
         "4.223072244649074",
         "4.198701748206467",
         "4.217460166265317",
         "4.217385516142714",
         "4.220257911563248",
         "4.223429404598937",
         "4.21819892034463",
         "4.216732263776992",
         "4.220555669476067",
         "4.221878461049392",
         "4.2433836405189185",
         "4.2176292675479505",
         "4.225885536434625",
         "4.221642470118652",
         "4.21920944102161",
         "4.232516057068236",
         "4.217437074724011",
         "4.21878490350725",
         "4.219156570672851",
         "4.231302193935225",
         "4.227826859448617",
         "4.216260410982387",
         "4.223288869819335",
         "4.215588028878594",
         "4.230095751403831",
         "4.228209766360424",
         "4.406698021246879",
         "4.215182209286793",
         "4.296606429421696",
         "4.224279652627606",
         "4.219493371353459",
         "4.211881979956911",
         "4.3920622600914045",
         "4.218524027649093",
         "4.342979390114659",
         "4.205589722489627",
         "4.2229748004480046",
         "4.215498771034326",
         "4.2203464749319375",
         "4.218174327530604",
         "4.261757594044884",
         "4.22030648409936",
         "4.196589184328368",
         "4.219922429586327",
         "4.219334509695024",
         "4.2227968921414885",
         "4.222861196216709",
         "4.225723050505834",
         "4.219628683437232",
         "4.2256043848262825",
         "4.219980764504234",
         "4.2356071126799995",
         "4.218777914838387",
         "4.210475819771792",
         "4.223770805123467",
         "4.216147727305051",
         "4.22058558060362",
         "4.219899376790629",
         "4.219226394863175",
         "4.21939418093379",
         "4.218632852260311",
         "4.21940788888157",
         "4.218192152221075",
         "4.205248292903887",
         "4.223475003521139",
         "4.219136607535755",
         "4.161172311001251",
         "4.2162976083841555",
         "4.216620081300223",
         "4.206741528405809",
         "4.251001295704792",
         "4.194033992013401",
         "4.220023956069858",
         "4.22031177035662",
         "4.179347115030559",
         "4.247139540634272",
         "4.225956128808",
         "4.21766536516819",
         "4.214385067925418",
         "4.212410578616274",
         "4.2019792681392",
         "4.222296194516729",
         "4.219138541785168",
         "4.212416983153121",
         "4.221576427414165",
         "4.228755183269263",
         "4.208841886298037",
         "4.228991174427551",
         "4.23059657140927",
         "4.2172869527927315",
         "4.222543875316575",
         "4.218337433561099",
         "4.1986865069067125",
         "4.223490014599317",
         "4.217165908989618",
         "4.223265596040658",
         "4.216358326876458",
         "4.200049969889662",
         "4.216711950653266",
         "4.225253983924176",
         "4.244078068807687",
         "4.219384393916215",
         "4.221674745037234",
         "4.219997661319195",
         "4.210643476083355",
         "4.217886711213449",
         "4.221138647766027",
         "4.218919715161784",
         "4.218983376366525",
         "4.220194957080012",
         "4.2347895633542",
         "4.211724653050378",
         "4.21702469150538",
         "4.215993442277524",
         "4.212106454580895",
         "4.194440941937888",
         "4.204018189194533",
         "4.215249401621256",
         "4.2178537823570865",
         "4.214372006202836",
         "4.217598593449361",
         "4.317538815954559",
         "4.235178426761966",
         "4.223444473673156",
         "4.215106544329799",
         "4.195456553873231",
         "4.217187082844443",
         "4.214071741524641",
         "4.221443493668383",
         "4.219625788687337",
         "4.210745935187282",
         "4.2207517749011165",
         "4.220766778691566",
         "4.205562662964449",
         "4.220328632310575",
         "4.220464619515678",
         "4.212249549682915",
         "4.215779582886352",
         "4.199921944751192",
         "4.187764115869711",
         "4.212960021711501",
         "4.210322319895061",
         "4.21763783265332",
         "4.2078255984406825",
         "4.2199400519499894",
         "4.157766582781124",
         "4.218161972901255",
         "4.2200337615211225",
         "4.219259251597009",
         "4.226464775209567",
         "4.218043648994154",
         "4.21751363003278",
         "4.211425858240271",
         "4.2222491894861465",
         "4.219236868116274",
         "4.1674033407025775",
         "4.231870919467879",
         "4.198853696362582",
         "4.214849654609283",
         "4.219051021065407",
         "4.218054369739227",
         "4.259284227375405",
         "4.2120951920609855",
         "4.218073569789804",
         "4.223409433106553",
         "4.19398011861291",
         "4.214469986705437",
         "4.2568220111455295",
         "4.2224827585330775",
         "4.2207090058169525",
         "4.21877503110641",
         "4.216208989789764",
         "4.222685137041494",
         "4.237215471633852",
         "4.222370291923881",
         "4.219559381242524",
         "4.199606469357057",
         "4.257896284079",
         "4.225006940697203",
         "4.221911751054091",
         "4.201642787913979",
         "4.222675144400479",
         "4.220323880131236",
         "4.218209410916234",
         "4.178294592716432",
         "4.221691599275664",
         "4.212670398689635",
         "4.224285537208518",
         "4.217627325938949",
         "4.269216338978709",
         "4.2548795581461665",
         "4.247632210234988",
         "4.229339672907464",
         "4.197086259415694",
         "4.220327488630228",
         "4.217594295515479",
         "4.218203539167058",
         "4.216914086941779",
         "4.222908572374842",
         "4.220742322632686",
         "4.224122142652845",
         "4.217655460476265",
         "4.219997793876752",
         "4.22023813113097",
         "4.2150561042458605",
         "4.218428759863683",
         "4.2179982742414115",
         "4.2232145553757",
         "4.202044871892691",
         "4.226206059278897",
         "4.2211177388723256",
         "4.220863935603702",
         "4.218477879167345",
         "4.218514873320394",
         "4.218779472749557",
         "4.218518079455406",
         "4.219652064868879",
         "4.216297084580913",
         "4.129914859801602",
         "4.219928089644732",
         "4.217222929302906",
         "4.22076571222612",
         "4.218295677879474",
         "4.2184379788070645",
         "4.220885719553746",
         "4.220034031028281",
         "4.2238271415820785",
         "4.219712680370646",
         "4.219898371317869",
         "4.2174437724680764",
         "4.216519133069326",
         "4.212925439030506",
         "4.22779177883984",
         "4.204291881515216",
         "4.219374809362779",
         "4.216298798219398",
         "4.224455615398822",
         "4.21961973758639",
         "4.229795672774974",
         "4.220626284858763",
         "4.223185165155183",
         "4.199330718068782",
         "4.220210250356919",
         "4.233929508600701",
         "4.222309869512714",
         "4.2186527731494925",
         "4.218297593365373",
         "4.219268530626542",
         "4.223782474582101",
         "4.218901233386388",
         "4.2102159200618265",
         "4.219643979368981",
         "4.225062357036931",
         "4.209569552677913",
         "4.211343573341286",
         "4.219073914689688",
         "4.223353749100347",
         "4.219322708268056",
         "4.235789703424833",
         "4.220540591627678",
         "4.2221179300779985",
         "4.223854667126125",
         "4.214719156077967",
         "4.20998880879417",
         "4.220468185234725",
         "4.2190379548237935",
         "4.2236103392856785",
         "4.221131730405922",
         "4.2190844853805",
         "4.2201353701752335",
         "4.214114671481274",
         "4.168870687642563",
         "4.202445988728685",
         "4.219139489827525",
         "4.220390882961369",
         "4.21605950321972",
         "4.218965492157161",
         "4.221696724528265",
         "4.220419261796657",
         "4.216166896677125",
         "4.214254511609659",
         "4.178236259040086",
         "4.211698497715907",
         "4.219517838047762",
         "4.2280117678089555",
         "4.2194093402414925",
         "4.216694140924639",
         "4.231206002627379",
         "4.21001437526475",
         "4.248649379509861",
         "4.209803957284432",
         "4.207900021597559",
         "4.2237120702672994",
         "4.228075152765464",
         "4.214628571823109",
         "4.221787702959174",
         "4.215360108429127",
         "4.218509250522536",
         "4.21841590975167",
         "4.220860202085707",
         "4.255707332818666",
         "4.220067170249076",
         "4.217937913333865",
         "4.223410451498853",
         "4.222271742886609",
         "4.221220514501799",
         "4.220898242083583",
         "4.218902053060899",
         "4.226847970197865",
         "4.223837186913589",
         "4.202218006348461",
         "4.220112473039972",
         "4.226107146629748",
         "4.2211354773677225",
         "4.219793694014527",
         "4.217367817353821",
         "4.218257539714496",
         "4.225337458916321",
         "4.219418221647252",
         "4.219667615575905",
         "4.215773238480462",
         "4.20584630912259",
         "4.220604524717876",
         "4.232388511863951",
         "4.2191344644288415",
         "4.236149390537587",
         "4.225697747177415",
         "4.220457010389985",
         "4.221067928023062",
         "4.204787266709232",
         "4.219937503790062",
         "4.219813823061656",
         "4.232029378555587",
         "4.222225218375904",
         "4.25386753689576",
         "4.213664949423978",
         "4.219690991948733",
         "4.209066981125974",
         "4.198468017631807",
         "4.2182083792530305",
         "4.220095240067282",
         "4.218976125240131",
         "4.2214645344705115",
         "4.218415874521469",
         "4.2214616665001286",
         "4.195102620220425",
         "4.219203079251442",
         "4.21991581312401",
         "4.202177225446171",
         "4.213783829818999",
         "4.217502856456849",
         "4.232791964937013",
         "4.2243360097112985",
         "4.235984148872285",
         "4.24228807239623",
         "4.225384597201701",
         "4.220643548935854",
         "4.220810571979668",
         "4.219457287940283",
         "4.205524047351394",
         "4.207888004064405"
        ],
        [
         "2",
         "3.69923845822921",
         "3.6955248007742028",
         "3.679112367432202",
         "3.7025309526020407",
         "3.7566141356617218",
         "3.6607292543941945",
         "3.6849134116511033",
         "3.7061287156437333",
         "3.6917130739909467",
         "3.666243358322045",
         "3.693938302145432",
         "3.69546464345333",
         "3.6626986901375944",
         "3.693773700652381",
         "3.6927552451926906",
         "3.6894220281332033",
         "3.684824928378189",
         "3.679448188071174",
         "3.7137198765485695",
         "3.699215626076328",
         "3.6554811725281486",
         "3.721672318325129",
         "3.6950596013325385",
         "3.749078694726258",
         "3.695985614524145",
         "3.708309734795809",
         "3.8241274132568925",
         "3.6540250360461966",
         "3.607783992227005",
         "3.682224047485933",
         "3.6905186046740397",
         "3.697774787129335",
         "3.6918870350955255",
         "3.687123491192033",
         "3.6915129346339324",
         "3.695997518930454",
         "3.7015051781360833",
         "3.930505181033648",
         "3.6333887470880954",
         "3.682556285645789",
         "3.6946212420626754",
         "3.6955121458163296",
         "3.6963340201822503",
         "3.6958359395282927",
         "3.642876204794081",
         "3.694667512383586",
         "3.7132098291952143",
         "3.696423882644593",
         "3.7929045780361337",
         "3.691728771194104",
         "3.7056227174703857",
         "3.686916401030115",
         "3.717079865233282",
         "3.694331024530366",
         "3.7012296143177736",
         "3.6740367609078644",
         "3.6963685835335074",
         "3.673338683219527",
         "3.7074459496360217",
         "3.635937244259469",
         "3.6837259893658474",
         "3.664830806347511",
         "3.6811535959437776",
         "3.689599118672396",
         "3.694607981794002",
         "3.6873558966446187",
         "3.7136907531235974",
         "3.6768790030447014",
         "3.7005132430333485",
         "3.699497772401691",
         "3.7002204834413805",
         "3.7169294968146716",
         "3.786588075331508",
         "3.680244267514454",
         "3.7145757756885125",
         "3.7047422217252937",
         "3.6963764343527235",
         "3.695395341554464",
         "3.7073937990381682",
         "3.695945896342977",
         "3.699850857342082",
         "3.6976372843670715",
         "3.700878774140955",
         "3.7499534553622214",
         "3.6810385802309225",
         "3.69384405052199",
         "3.6818619655263713",
         "3.687167067851991",
         "3.695671239800458",
         "3.6970175975690394",
         "3.6940639617603552",
         "3.690287321054803",
         "3.682227219189273",
         "3.692027267973364",
         "3.7245082371655918",
         "3.6897238092845144",
         "3.6936172335279642",
         "3.6579087070623353",
         "3.675711461082851",
         "3.698077103449847",
         "3.699022600526865",
         "3.6342478692476967",
         "3.6955334190542937",
         "3.6934605359471737",
         "3.663722872246066",
         "3.6718111952541923",
         "3.69378875405335",
         "3.6872267268717507",
         "3.709769220461181",
         "3.6957016651104597",
         "3.6886218959297548",
         "3.688990482218434",
         "3.700572132310021",
         "3.7042607258229747",
         "3.720433704616191",
         "3.7156450365901463",
         "3.646714506341237",
         "3.6148902710196924",
         "3.6950993726670167",
         "3.701746107148671",
         "3.6888761699506163",
         "3.6457412157695193",
         "3.820284443159391",
         "3.6839135301345345",
         "3.693213045395744",
         "3.6824236960518886",
         "3.6926464851672125",
         "3.7060036098761633",
         "3.7982281838537557",
         "3.654237076193117",
         "3.610601780994939",
         "3.810894497460388",
         "3.563175751812195",
         "3.6915373469092287",
         "3.670936667159846",
         "3.696890233079212",
         "3.7187340456553635",
         "3.6939065628960615",
         "3.7075134822930425",
         "3.6933730178992077",
         "3.6926408679352725",
         "3.7020049869909823",
         "3.670377113490676",
         "3.7794521343878276",
         "3.692856921073634",
         "3.6771768366794872",
         "3.6934228287868662",
         "3.8435929285502",
         "3.6779794312869813",
         "3.9392950256038337",
         "3.6932007033519842",
         "3.694533417721477",
         "3.697453376824742",
         "3.67725513430305",
         "3.767422866570642",
         "3.8111291459970587",
         "3.674197692236519",
         "3.6590078753235495",
         "3.6812327186080647",
         "3.687430315465511",
         "3.5817220323890604",
         "3.6938743435468298",
         "3.7395440451285697",
         "3.7085190771777845",
         "3.69884919370734",
         "3.704998421743076",
         "3.691141751074647",
         "3.6952953521059304",
         "3.7083560503138435",
         "3.728839105449709",
         "3.7407906687318686",
         "3.712515158778352",
         "3.659112308939831",
         "3.7145487024742954",
         "3.670264445799816",
         "3.6971075788823518",
         "3.6961642855630745",
         "3.694884109074025",
         "3.5965767305561553",
         "3.6671987752390067",
         "3.7074475147269554",
         "3.7014460778867453",
         "3.6905285946156567",
         "3.6979099326683484",
         "3.65147666454314",
         "3.7053871129424327",
         "3.6993220839510035",
         "3.698645950556782",
         "3.6504396347720274",
         "3.685852392803024",
         "3.6935662973626786",
         "3.693898230362182",
         "3.7011885037753887",
         "3.688417228988512",
         "3.7306414621718997",
         "3.684120580693504",
         "3.725092838781044",
         "3.695556914811952",
         "3.724599860882548",
         "3.697742633099175",
         "3.5792382849959323",
         "3.6957245513544374",
         "3.7013658600730244",
         "3.6695151439295275",
         "3.662967807653876",
         "3.690544817175757",
         "3.695276545812685",
         "3.7849074078861613",
         "3.9334842244327177",
         "3.709547450053013",
         "3.680027908770348",
         "3.4535747326247708",
         "3.718763276020167",
         "3.6402183175913856",
         "3.7255975197557096",
         "3.704697530691967",
         "3.6993818830296212",
         "3.6629741477709477",
         "3.6939438560681936",
         "3.704965985614766",
         "3.692944992338917",
         "3.690590004021426",
         "3.688191093816606",
         "3.695493959360971",
         "3.65942441128039",
         "3.701752632544554",
         "3.697307716131374",
         "3.701785495358162",
         "3.555487810165736",
         "3.573195647038772",
         "3.6730432580358943",
         "3.6943413029365977",
         "3.7849666228087537",
         "3.6942115925702645",
         "3.6740215765622555",
         "3.7359113398254076",
         "3.6529049768136312",
         "3.6851000204278717",
         "3.7017602782179146",
         "3.6945636495821597",
         "3.67460586216071",
         "3.705175329370125",
         "3.920545849157978",
         "3.6416411365683627",
         "3.6123118222054083",
         "3.727174154593664",
         "3.664961120039079",
         "3.6840909388152405",
         "3.6960376122185834",
         "3.670236539522728",
         "3.6983301168249954",
         "3.692846473320852",
         "3.650346216099581",
         "3.6820122613739503",
         "3.7009320669275336",
         "3.753733842572287",
         "3.677146402264821",
         "3.6346961059052987",
         "3.7051287739198067",
         "3.697107935315154",
         "3.692505145278396",
         "3.6951152992980583",
         "3.6613807402712233",
         "3.6522080017354384",
         "3.6762563986760806",
         "3.6973470480252804",
         "3.6934259919761567",
         "3.6884732847840183",
         "3.690313172180133",
         "3.7303777885246605",
         "3.691969110599604",
         "3.6980502800799355",
         "3.621604833069354",
         "3.6193458330030537",
         "3.6236485044555717",
         "3.493838259327599",
         "3.648120987283853",
         "3.6939592316288343",
         "3.66553853636347",
         "3.580347867232511",
         "3.693502641866193",
         "3.6954947952969803",
         "3.6997457053374387",
         "3.6987141729539235",
         "3.6956199824947538",
         "3.691710913132432",
         "3.6932935863761633",
         "3.830838730092117",
         "3.7005173152844884",
         "3.6968728278467995",
         "3.548964208191853",
         "3.697100589475107",
         "3.6936598581951103",
         "3.548042393788954",
         "3.66605199214606",
         "3.6962075366047578",
         "3.6951975977221445",
         "3.6978880250480852",
         "3.6775313508898075",
         "3.8255887414470706",
         "3.664699005944827",
         "3.7058000069773684",
         "3.697543058358906",
         "3.7069593713402904",
         "3.7008808651952894",
         "3.696968228853452",
         "3.6912455952156162",
         "3.660302488030934",
         "3.7039543575539575",
         "3.6939663449025906",
         "3.693396881294371",
         "3.695080179464627",
         "3.671813837482857",
         "3.694900638384179",
         "3.6892068316583777",
         "3.6800866019640397",
         "3.7107961501596627",
         "3.6936552050395166",
         "3.694358380009327",
         "3.6936332704217008",
         "3.7818881490728873",
         "3.698981980795578",
         "3.6279032110525735",
         "3.6721275721332236",
         "3.6663550024437463",
         "3.6087257120046394",
         "3.695717106579195",
         "3.6853006820434215",
         "3.695053146241055",
         "3.7114421482863427",
         "3.7037878766259373",
         "3.688716183211631",
         "3.6834446976290893",
         "3.6941819561078404",
         "3.709779865034704",
         "3.6883777149380794",
         "3.6987245656824896",
         "3.6997958012607186",
         "3.695777853136059",
         "3.5941364129647493",
         "3.708877485675078",
         "3.724138312550798",
         "3.7114938925456737",
         "3.678864127058059",
         "3.6472231863906157",
         "3.70559365379525",
         "3.7025171337119267",
         "3.688184606684886",
         "3.6973065458096275",
         "3.69587557714297",
         "3.6331598489372823",
         "3.6942747619008127",
         "3.696469730284439",
         "3.6757860088278287",
         "3.6790715239791663",
         "3.7037088942871184",
         "3.6901947336086933",
         "3.6999637599599544",
         "3.6886439531606916",
         "3.68900016141729",
         "3.6265295562210165",
         "3.6880501551181806",
         "3.6949534353855453",
         "3.720883096925533",
         "3.6688553501617127",
         "3.7000802194258453",
         "3.695710330931001",
         "3.696635595292482",
         "3.64813021854257",
         "3.7059397024489042",
         "3.6767490444174302",
         "3.687434264698845",
         "3.7016685570361485",
         "3.6234091344020696",
         "3.693778104021654",
         "3.694873262948987",
         "3.6986150406651883",
         "3.6942342992647186",
         "3.676529393319881",
         "3.6968116541208227",
         "3.661454272933134",
         "3.6469507141469584",
         "3.692201783609836",
         "3.5533896914881082",
         "3.6927462160767095",
         "3.6917006518703968",
         "3.714480849187674",
         "3.6950592343529918",
         "3.69274480169047",
         "3.712412687354031",
         "3.695033754974591",
         "3.676204363641186",
         "3.688219040556766",
         "4.286683135337663",
         "3.605463005708016",
         "3.6802190100254606",
         "3.696418373389623",
         "3.736382071442798",
         "3.7058988318249253",
         "3.7109717274559184",
         "3.6796139260820446",
         "3.698283015521726",
         "3.6974382352606963",
         "3.6615429593815167",
         "3.6807222121505654",
         "3.686073913198914",
         "3.674674362417711",
         "3.586040002020814",
         "3.6679494068116743",
         "3.6541708574833485",
         "3.694984867925343",
         "3.6817817693524515",
         "3.539852804014063",
         "3.695258766389583",
         "3.6946269960011517",
         "3.674942427464156",
         "3.694165627679549",
         "3.693077940152833",
         "3.693866625985051",
         "3.697082103379396",
         "3.6826487432057533",
         "3.6675270316862174",
         "3.7158962111797713",
         "3.6854564932782554",
         "3.6460787599873803",
         "3.635983172802724",
         "3.726542891098657",
         "3.6970735100231096",
         "3.696627491590305",
         "3.7021298174763295",
         "3.6828522932642547",
         "3.809780565704574",
         "3.694248726224515",
         "3.6949691355719536",
         "3.684462908268732",
         "3.682176764810057",
         "3.6717260714202617",
         "3.705066752174109",
         "3.680325741778963",
         "3.6957414019323984",
         "3.6884557677155647",
         "3.701592216542441",
         "3.67365411080153",
         "3.704869583812002",
         "3.6958889619153275",
         "3.694845943665577",
         "3.6928844931039766",
         "3.7110948640130608",
         "3.6928447046229764",
         "3.681047279512537",
         "3.6677176970147056",
         "3.7071404971402404",
         "3.69524707609055",
         "3.703816319722129",
         "3.7037877245492536",
         "3.6640836860638273",
         "3.699953104413639",
         "3.7022852255956424",
         "3.82891980404156",
         "3.714041729641131",
         "3.6802209313683782",
         "3.6910181463765417",
         "3.7010371077400874",
         "3.688420151957323",
         "3.6936417191431508",
         "3.701584602596324",
         "3.692960298520745",
         "3.703707601610637",
         "3.6916929350721386",
         "3.700818785421427",
         "3.695008004850599",
         "3.6984850359681873",
         "3.6916673005786036",
         "3.707711621097067",
         "3.692039617649522",
         "3.6955491508680747",
         "3.6917716829400273",
         "3.694937066599951",
         "3.715146337187242",
         "3.686840873719105",
         "3.750539232819943",
         "3.6934880467434392",
         "3.7373542390333134",
         "3.6948542740493227",
         "3.6536896843808924",
         "3.6949834797493764",
         "3.6951848532653533",
         "3.68104060894537",
         "3.696191929831084",
         "3.7196647420884013",
         "3.711593883624954",
         "3.7008098355340446",
         "3.702177295378916",
         "3.6883871335615117",
         "3.693665100730868",
         "3.6574981768574126",
         "3.6918150280155935",
         "3.6952173427156643",
         "3.676420531712277",
         "3.6682600522845603",
         "3.6813535464321534",
         "3.6912167711279005",
         "3.7570242215686998",
         "3.732727843001751",
         "3.708956259647459",
         "3.692253795105816",
         "3.6965492835386593",
         "3.6618886128250834",
         "3.682263611762504",
         "3.6896264737106086",
         "3.7061684087775175",
         "3.6987255064257534",
         "3.6935910299600865",
         "3.702518482932997",
         "3.717804771436095",
         "3.6975855892794627",
         "3.694164923484282",
         "3.6950953610548374",
         "3.70007628542558",
         "3.762492910845606",
         "3.626508450231173",
         "3.622746320572618",
         "3.679262691980216",
         "3.6599812769939",
         "3.8055640117591776",
         "3.7155383460672002",
         "3.586721458687331",
         "3.6937489251493116",
         "3.693626795006748",
         "3.74306776094166",
         "3.7120200827806804",
         "3.6881366845286516",
         "3.690488360523068",
         "3.692766020944323",
         "3.7097453743826905",
         "3.696912042131608",
         "3.699572016835487",
         "3.6940977469485987",
         "3.690700366308706",
         "3.68975519010256",
         "3.691159142961104",
         "3.7017691599450027",
         "3.5628620648672396",
         "3.640819287111184",
         "3.694892223409204",
         "3.718348707164322",
         "3.6365137922829067",
         "3.5955767730761163",
         "3.64806706209619",
         "3.6957759104095755",
         "3.833870127016576",
         "3.6882023869236447",
         "3.6727317827120842",
         "3.768230198369097",
         "3.6867118118572977",
         "3.700099344756982",
         "3.632868650655729",
         "3.6751241111138193",
         "3.7107693926053402",
         "3.6970979094052754",
         "3.694611385841729",
         "3.6987623134090533",
         "3.6943153233908896",
         "3.716847053788833",
         "3.6941595442100046",
         "3.681119982779057",
         "3.6697108255914412",
         "3.700509353703487",
         "3.68221651524486",
         "3.705106595068759",
         "3.6413988966300797",
         "3.6967403344882053",
         "3.775477702532437",
         "3.705646314103787",
         "3.6850265144315926",
         "3.6780944344833695",
         "3.6976961612855903",
         "3.6955501353473514",
         "3.683750179047623",
         "3.6938814337333032",
         "3.662844569570625",
         "3.6118032290385993",
         "3.695701221199294",
         "3.685847210859093",
         "3.6779923706694895",
         "3.6893718121858856",
         "3.7011312342799405",
         "3.689704336553918",
         "3.7198632447096487",
         "3.6920647815494947",
         "3.7218092787513246",
         "3.698771538351796",
         "3.7131154641526916",
         "3.692526600623194",
         "3.6904277421941036",
         "3.700289358165992",
         "3.6903960423368716",
         "3.6980879193890304",
         "4.060233333726318",
         "3.696657312680399",
         "3.711562548926114",
         "3.6954423664289697",
         "3.6938888635901934",
         "3.7111235731625887",
         "3.710273955445129",
         "3.670668575093893",
         "3.687994607547077",
         "3.6364873363447843",
         "3.6937575118769743",
         "3.712776766481827",
         "3.703522330659903",
         "3.6847447248162046",
         "3.6815687494677145",
         "3.7118876982300444",
         "3.6952356996695723",
         "3.7059273540194106",
         "3.689354603622822",
         "3.6760418326807907",
         "3.7421584224196076",
         "3.6962454851693227",
         "3.6432196730535726",
         "3.9017407981396124",
         "3.6586008742391085",
         "3.6761867208629693",
         "3.7141249086705304",
         "3.706674926204",
         "3.682113033881903",
         "3.7028474454053377",
         "3.7125191587008928",
         "3.7108810621983044",
         "3.6833914198396305",
         "3.7035456502201125",
         "3.6824450518742027",
         "3.5934140150363376",
         "3.606854377152364",
         "3.6665626503463087",
         "3.632292899315325",
         "3.6946829444617166",
         "3.660893445156632",
         "3.7159604155914945",
         "3.5837582739140013",
         "3.6947521979364493",
         "3.6942819054648246",
         "3.6948177109310687",
         "3.625348621401965",
         "3.6918575419834037",
         "3.5652347905425494",
         "3.6870330458451095",
         "3.7017338118551453",
         "3.6953481579510505",
         "3.664020341284026",
         "3.644341206608932",
         "3.6631385375777334",
         "3.695781584589542",
         "3.702595035042332",
         "3.6980731512106684",
         "3.644664886779827",
         "3.5978299711371635",
         "3.870413586614259",
         "3.6469640326197603",
         "3.632530535439951",
         "3.693588046018771",
         "3.683769903821728",
         "3.6792947962723703",
         "3.6963377936564825",
         "3.758798170220946",
         "3.6953808099636465",
         "3.6931142353878275",
         "3.697179225261324",
         "3.6820274096943444",
         "3.6596966174597507",
         "3.7090983548500533",
         "3.6630874496986756",
         "3.795840877468372",
         "3.680957455518616",
         "3.704434842880504",
         "3.588421098487272",
         "3.690236837634867",
         "3.7035319357395093",
         "3.69027291290625",
         "3.6401120458608056",
         "3.678065465932185",
         "3.7031114757508226",
         "3.6980823437840105",
         "3.687425792665814",
         "3.6675518610366233",
         "3.692206590971752",
         "3.6798145536775464",
         "3.668506488444307",
         "3.697034262092271",
         "3.7376884466843903",
         "3.6944235327023174",
         "3.693997218257056",
         "3.679721640482139",
         "3.6884036834792004",
         "3.7799435843938443",
         "3.71021993736915",
         "3.639212544588837",
         "3.666560053093322",
         "3.6804029948615358",
         "3.6627214331205917",
         "3.6941384107301585",
         "3.628727834334747",
         "3.6700736720371885",
         "3.6974917583449693",
         "3.687238264654282",
         "3.7278155339436463",
         "3.660028131233781",
         "3.7111516774716327",
         "3.698420101509882",
         "4.0257982222990085",
         "3.6900299292401133",
         "3.6958773267846143",
         "3.685297530831333",
         "3.6769356840813314",
         "3.690663655849981",
         "3.6938219446523917",
         "3.698601078491528",
         "3.529734074487088",
         "3.6932142065758087",
         "3.707625115193547",
         "3.6916039376277703",
         "3.539953516780417",
         "3.6940721999541952",
         "3.5935577078799086",
         "3.774327321266454",
         "3.6966052846837685",
         "3.723741675635772",
         "3.6948268034654275",
         "3.689591069112838",
         "3.680989403838219",
         "3.6155759894021307",
         "3.713804484230315",
         "3.6461302275229297",
         "3.664961433502587",
         "3.6933100501895555",
         "3.8304956271640016",
         "3.580191671324915",
         "3.5958704414780573",
         "3.646528031420517",
         "3.708760023759262",
         "3.6881425655784783",
         "3.5849899240362886",
         "3.7320099280232344",
         "3.7222569525620735",
         "3.6949992076539813",
         "3.6949731322280672",
         "3.7199027579248902",
         "3.7025071180873286",
         "3.694331677748231",
         "3.6758255739988592",
         "3.7161779633908174",
         "3.70653892389671",
         "3.67380869697584",
         "3.6775862650444133",
         "3.6862297280352863",
         "3.704095776829576",
         "3.6373345379117987",
         "3.581362025431438",
         "3.6961268654609807",
         "3.652231562281547",
         "3.5259368930044848",
         "3.6894270649125294",
         "3.7020429550147536",
         "3.704856999028365",
         "3.6948018071218613",
         "3.694415388151875",
         "3.6948810725728793",
         "3.6592824945392866",
         "3.686297415019219",
         "3.69516812429062",
         "3.6865539755182213",
         "3.7026864824465284",
         "3.724294832724545",
         "3.720660496640525",
         "3.683578545861922",
         "3.73565050436481",
         "3.692317389710261",
         "3.7522039174607498",
         "3.672040168360585",
         "3.66330008966563",
         "3.792608553783484",
         "3.7075254336533727",
         "3.71182764080429",
         "3.7120872969597816",
         "3.7374991284018977",
         "3.708469172927156",
         "3.6923494415086227",
         "3.7085824405401033",
         "3.6548093088029696",
         "3.6763998768829325",
         "3.6939450993593135",
         "3.6982852279137783",
         "3.6859967622451557",
         "3.6821858246143315",
         "3.7849887685122403",
         "3.691341480227348",
         "3.8321940145556663",
         "3.6763183663811487",
         "3.6663505659110913",
         "3.66761776585686",
         "3.6783342060869817",
         "3.700320676993407",
         "3.7055107178382345",
         "3.6850918033735813",
         "3.701225407500895",
         "3.7227089292855338",
         "3.710055091991639",
         "3.6965403967559634",
         "3.684924575344937",
         "3.6758476785531964",
         "3.7161990065006054",
         "3.684053392054507",
         "3.6943399351059156",
         "3.6809746300647133",
         "3.6738030828056867",
         "3.6928168450055465",
         "3.7043185262517517",
         "3.7057771362622245",
         "3.690905171037495",
         "3.6837295721064733",
         "3.714325679395439",
         "3.6906464295977943",
         "3.709094946932094",
         "3.692493274230796",
         "3.6878223758367725",
         "3.695073906797783",
         "3.7045293929690044",
         "3.7063354305176848",
         "3.6913725773495303",
         "3.694925409668911",
         "3.69251336901042",
         "3.697650155633537",
         "3.6851184366241023",
         "3.6974132482829254",
         "3.69464784989501",
         "3.6610579089993793",
         "3.7019324693602758",
         "3.7061304299638094",
         "3.6839630148961215",
         "3.688789646450857",
         "3.685303454916101",
         "3.6944212930571494",
         "3.697318774977225",
         "3.696581276803914",
         "3.699646156014783",
         "4.256925205050897",
         "3.6884851014828812",
         "3.6893357301788874",
         "3.7161804956161544",
         "3.69135009972904",
         "3.691166120483923",
         "3.6949957941206897",
         "3.687280148817241",
         "3.69860621306901",
         "3.698902242486988",
         "3.689143546280764",
         "3.693296750409118",
         "3.6986253681465606",
         "3.6927660430324853",
         "3.665803158374186",
         "3.6698582179803023",
         "3.713754198745455",
         "3.6863056117510826",
         "3.7672836574108994",
         "3.695047997076481",
         "3.6765809096739854",
         "3.6866507101079007",
         "3.718874387441611",
         "3.6859743412516983",
         "3.6883958043893883",
         "3.6966648636780852",
         "3.6683992239135463",
         "3.805998327707444",
         "3.6985957585705123",
         "3.662701959070718",
         "3.698525017187988",
         "3.509831903123912",
         "3.7270716509035635",
         "3.674378011308918",
         "3.7024650742104535",
         "3.6920636883860496",
         "3.798952566879482",
         "3.694683404383506",
         "3.6942436026240375",
         "3.6966322840882837",
         "3.6960532865695472",
         "3.7025714849914033",
         "3.6493156653893686",
         "3.689725398089355",
         "3.5929302324575714",
         "3.7754813503839295",
         "3.6943557220190977",
         "3.6829395656984087",
         "3.7042424055863585",
         "3.693122880570568",
         "3.674354250998533",
         "3.6909951478185956",
         "3.692598606073367",
         "3.6884681660592187",
         "3.6902041116604782",
         "3.6770541034653093",
         "3.6997397495459783",
         "3.5753915882261245",
         "3.6902149568642275",
         "3.7104695437752726",
         "3.8895830379562364",
         "3.6673141200060373",
         "3.692192819456985",
         "3.6569956061365714",
         "3.7229516452365896",
         "3.7026477882168316",
         "3.717024081638563",
         "3.6885497789685404",
         "3.70442196371485",
         "3.7110293923570694",
         "3.6952381181686245",
         "3.6991834275765445",
         "3.983274510460166",
         "3.6982022132849894",
         "3.6344421921425307",
         "3.7037753906127198",
         "3.9262020724986244",
         "3.660918932835256",
         "3.685512708185097",
         "3.6974518877684814",
         "3.6943683012643116",
         "3.678594118387678",
         "3.5729448611769854",
         "3.699775969854242",
         "3.6952618995063697",
         "3.693904234616811",
         "3.606661290443325",
         "3.6969933791902845",
         "3.694048684880422",
         "3.833304471221943",
         "3.7761695953929677",
         "4.0129593997723685",
         "3.8565599667622945",
         "3.694868340566112",
         "3.691662902427872",
         "3.710846559652633",
         "3.690880106319826",
         "3.7127479882618912",
         "3.6897957689675995",
         "3.6923925929242176",
         "3.7191430028872277",
         "3.7814751538223574",
         "3.752994466512251",
         "3.6927237214594806",
         "3.6902356006805146",
         "3.6219001688426617",
         "3.6462376271362977",
         "3.6947773618987307",
         "3.6943731651621476",
         "3.6083446275898754",
         "3.6417334066782017",
         "3.699077107786931",
         "3.70000547880584",
         "3.727371006927878",
         "3.6911887244122896",
         "3.6920156683292618",
         "3.6839006322430796",
         "3.695323105665495",
         "3.6890088936034497",
         "3.7130862626736834",
         "3.701997697351627",
         "3.7012537208319456",
         "3.7062484874791237",
         "3.6741469306932797",
         "3.6211748986635475",
         "3.687683058181797",
         "3.654767756936704",
         "3.6879822564620124",
         "3.674793887571144",
         "3.6972048117236747",
         "3.660595541551604",
         "3.6642667381388776",
         "3.6935171844707493",
         "3.696571222448885",
         "3.718374451715336",
         "3.7057383352755866",
         "3.6992534219927284",
         "3.67834852846502",
         "3.6715956890147416",
         "3.6637983979899245",
         "3.694128795488236",
         "3.6944459114089168",
         "3.6958539959081897",
         "3.690770630689969",
         "3.6662950653675135",
         "3.6742154163137895",
         "3.658325911892082",
         "3.6865171667998418",
         "3.719571843744097",
         "3.7004647801798107",
         "3.713707491360534",
         "3.6939600299870765",
         "3.6760252179757615",
         "3.6904926998958776",
         "3.69847465592673",
         "3.695643667104024",
         "3.687538805973327",
         "3.7072105493513643",
         "3.700015528538279",
         "3.6755295341117167",
         "3.707310203936269",
         "3.7735733167302388",
         "3.697058232839829",
         "3.6931069574530078",
         "3.6950200122023333",
         "3.6974040140689053",
         "3.604880237084468",
         "3.7007111003834137",
         "3.6914641060198106",
         "3.6940448787169515",
         "3.7070203325697846",
         "3.69387177071716",
         "3.6700031492019343",
         "3.7088791797374974",
         "3.651333092407821",
         "3.6972075435186667",
         "3.6917907590900594",
         "3.669884888011269",
         "3.6783981396375527",
         "3.7042336559882636",
         "3.7154395389861943",
         "3.7023542959616145",
         "3.700729489552206",
         "3.7116410983063153",
         "3.689232612235853",
         "3.69205491096661",
         "3.6787111507223633",
         "3.610439987955207",
         "3.7149883984658953",
         "3.7038038661234935",
         "3.6945950627323167",
         "3.6984942814844097",
         "3.663890091619477",
         "3.6987125626524775",
         "3.699288731621362",
         "3.661687735182327",
         "3.6704290261702353",
         "3.702968879026883",
         "3.7081660411661175",
         "3.596941705845044",
         "3.6931339234269527",
         "3.697538844319553",
         "3.7395547878548294",
         "3.725753325037611",
         "3.7241370688224342",
         "3.682986481041471",
         "3.696441668049539",
         "3.6951316544910933",
         "3.6937833875970023",
         "3.7171660208479844",
         "3.6030588476251566",
         "3.676185093283312",
         "3.709472258000281",
         "3.704884530131653",
         "3.7117921500575144",
         "3.804408306201624",
         "3.7272804793981047",
         "3.683901283255061",
         "3.596796100376094",
         "3.6942555804225146",
         "3.6993597903057807",
         "3.705290249597507",
         "3.722065897637037",
         "3.6776393059257764",
         "3.706386370188942",
         "3.7254451689536454",
         "3.7007136890057444",
         "3.688677974450403",
         "3.707388857702711",
         "3.6941141515013305",
         "3.6879856751650664",
         "3.6929168676281874",
         "3.6235318606828453",
         "3.703087107864639",
         "3.6942816239550442",
         "3.7016440937391226",
         "3.6950164540350667",
         "3.6941030613374415",
         "3.7082942083166013",
         "3.691473935350159",
         "3.6974409322420114",
         "3.688467520335338",
         "3.694659521543665",
         "3.644338705034777",
         "3.6927963616776567",
         "3.7082817061052573",
         "3.693958550733593",
         "3.6776416023685994",
         "3.6780226111969117",
         "3.648437333664958",
         "3.690938686045536",
         "3.701312728851656",
         "3.6994026678611553",
         "3.693854614375927",
         "3.655800483191144",
         "3.6998817590488184",
         "3.6832375025852615",
         "3.695160817746009",
         "3.6993366847864957",
         "3.7312631538965517",
         "3.6959905897747856",
         "3.6897882445968615",
         "3.696432487196176",
         "3.6941316103768362",
         "3.69447161846245",
         "3.695845264694084",
         "3.6969539094088377",
         "3.6916369709826418",
         "3.686629254286287",
         "3.666118565610459",
         "3.717406841252196",
         "3.7207866777075385",
         "3.7340174194365137",
         "3.6941241512322347",
         "3.7153700987732785",
         "3.888666416489225",
         "3.720056067355545",
         "3.7010631529806264",
         "3.695330647130404",
         "3.6936793269587236",
         "3.722163134498099",
         "3.6894705356675352",
         "3.6583275109070685",
         "3.6620582055355935",
         "3.6912418401003455",
         "3.692655496754676",
         "3.7275501989546957",
         "3.6956169939645758",
         "3.6526263457815125",
         "3.6912901837188716",
         "3.7024599002369705",
         "3.6466085337168446",
         "3.625706717681632",
         "3.665613457511596",
         "3.695087510889388",
         "3.704086799216247",
         "3.6921751140975405",
         "3.694974698637697",
         "3.7157540244242058",
         "3.6991103502960674",
         "3.6913753215608613",
         "3.8230734423691968",
         "3.728611213878848",
         "3.723637409318293",
         "3.6760560318370787",
         "3.635844096446245",
         "3.676151628531952",
         "3.677923658060143",
         "3.711762117259524",
         "3.6928844302845123",
         "3.6981477717060716",
         "3.696949540749716",
         "3.6546157724380817",
         "3.7038972490871913",
         "3.6971517514525254",
         "3.700353195525356",
         "3.860977945449216",
         "3.658170823896116",
         "3.65992650651129",
         "3.7023411213552597",
         "3.6943110127401826",
         "3.699989624612462",
         "3.7168898163205593",
         "3.814100641552682",
         "3.673595522014199",
         "3.6961380436569558",
         "3.711409872173595",
         "3.6892901368028554",
         "3.6960870901377056",
         "3.69255901262675",
         "3.694876291285617",
         "3.6739271241046976",
         "3.696856437747101",
         "3.6935313366130207",
         "3.6980906165144236",
         "3.563977078542634",
         "3.7005203479636615",
         "3.69394352814073",
         "3.6952790730068457",
         "3.646991967690298",
         "3.711369589802897",
         "3.6976012131261",
         "3.702275522073027",
         "3.6949084380789006",
         "3.8534096503503963",
         "3.7092977268728027",
         "3.706937456106212",
         "3.6961240425083397",
         "3.7068618690924366",
         "3.667825970762131",
         "3.699450812159745",
         "3.691451012427411",
         "3.7309950065064537",
         "3.703519857495308",
         "3.6984770862086958",
         "3.686348890152982",
         "3.6957462323850345",
         "3.696248966044686",
         "3.6867468790608915",
         "3.6957178582482357",
         "3.7117329573275906",
         "3.6575455309557126",
         "3.6933074955135474",
         "3.691747252950823",
         "3.694579631358557",
         "3.6980007696990387",
         "3.6684437052276597",
         "3.7068178117543034",
         "3.7275671059257163",
         "3.6712420293096546",
         "3.694366143385578",
         "3.6060626616802183",
         "3.7029116798403807",
         "3.690348252156857",
         "3.703296157017267",
         "3.696544882533349",
         "3.700089855233448",
         "3.678971409114627",
         "3.695396680436269",
         "3.7032730367119635",
         "3.713943073274223",
         "3.7131646929673106",
         "3.6896430039640267",
         "3.6945822709235743",
         "3.6933568109620887",
         "3.704931799672417",
         "3.81498858142654",
         "3.627206610043573",
         "3.6948170613673894",
         "3.7581522441519337",
         "3.6949846201418843",
         "3.692821896569344",
         "3.70366852268446",
         "3.608621133203853",
         "3.6937580402749917",
         "3.7045505772447465",
         "3.698143780793776",
         "3.657148960715388",
         "3.6921537019450517",
         "3.668120869255648",
         "3.684856392628286",
         "3.69724687792595",
         "3.694435248819363",
         "3.671292678189657",
         "3.698317292870854",
         "3.710105928609934",
         "3.77713828411328",
         "3.683122859258143",
         "3.680205503356174",
         "3.689907085171962",
         "3.7947949629333744",
         "3.7045766684147052",
         "3.7042017225655672",
         "3.7965968248866386",
         "3.6774566588158684",
         "3.6489251763486727",
         "3.6486265546704706",
         "3.6878032726949437",
         "3.7020874418680303",
         "3.6696119867839236",
         "3.6940832169955597",
         "3.6774115199331145",
         "3.6793672641536133",
         "3.697019542467443",
         "3.699598692846146",
         "3.702409735472876",
         "3.686970970943092",
         "3.6910834525754024",
         "3.6998512480014094",
         "3.69323902671602",
         "3.696752230564531",
         "3.6862666152496724",
         "3.6962214584132886",
         "3.6941093208380757",
         "3.689415024699756",
         "3.5800123383469393",
         "3.687599209211903",
         "3.7222963898336396",
         "3.6919594007698517",
         "3.6972248334903037",
         "3.6914862853772115",
         "3.69006921525212",
         "3.6593737786106595",
         "3.6773157311492173",
         "3.6702647808531177",
         "3.6741740287641336",
         "3.6677254596737354",
         "3.660779942905706",
         "3.6996198124601922",
         "3.667534842809585",
         "3.6983429823592164",
         "3.678037207970747",
         "3.691609676034263",
         "3.6943541077301645",
         "3.6935811404719656",
         "3.698788572304781",
         "3.6698133040734096",
         "3.683068307770113",
         "3.570427427135959",
         "3.7009985543759667",
         "3.6920425426672323",
         "3.6950360100422848",
         "3.699971347287573",
         "3.6982036982753272",
         "3.7007071473704447",
         "3.69059618735466",
         "3.6999190855844653",
         "3.6487415100847183",
         "3.6875220599590617",
         "3.6963198028116135",
         "3.6921811879903443",
         "3.7065631127669882",
         "3.7053450364337936",
         "3.7099263916690424",
         "3.694942239404723",
         "3.6908184515364124",
         "3.6958836586229817",
         "3.6944781704898757",
         "3.6949431045207115",
         "3.638476952669419",
         "3.7319786819046485",
         "3.6997073712830235",
         "3.6957510316476014",
         "3.6821913425905977",
         "3.698908652299132",
         "3.694950470811229",
         "3.661699740538877",
         "3.613974692970167",
         "3.6973291733042464",
         "3.697222780039326",
         "3.709815317290666",
         "3.6848549831413777",
         "3.681379762393423",
         "3.614261063682047",
         "3.6865244131853503",
         "3.7124237016119617",
         "3.6911747963682244",
         "3.7270237158899318",
         "3.6934998115337465",
         "3.6960071280189717",
         "3.649663799376748",
         "3.6919665498430083",
         "3.7007980481854927",
         "3.698680876008032",
         "3.6413938756461377",
         "3.631917978494005",
         "3.675497966858641",
         "3.6973402318013084",
         "3.702564621577624",
         "3.6898299031168866",
         "3.695097375633268",
         "3.6914852647582554",
         "3.6938335958274973",
         "3.6831938153844814",
         "3.4069923966803577",
         "3.693966210115695",
         "3.699040668206696",
         "3.7996834288254573",
         "3.6873800661577425",
         "3.695903902803371",
         "3.6948044434124516",
         "3.6929048849744595",
         "3.6840707803505595",
         "3.69723121427456",
         "3.6934603339238974",
         "3.6817383525820317",
         "3.6961159638196848",
         "3.698970714607439",
         "3.700864207263769",
         "3.661427221758186",
         "3.7058789873664435",
         "3.6806078036014607",
         "3.6662117508617205",
         "3.7115242861298317",
         "3.7521950897264023",
         "3.707767862469838",
         "3.6916633439365087",
         "3.672284777390854",
         "3.6883537617913476",
         "3.7023078447326236",
         "3.7060655395018833",
         "3.7069838060495868",
         "3.676357725075223",
         "3.69270511643228",
         "3.6733056925990444",
         "3.6818769900968875",
         "3.5916465044978745",
         "3.702817341932347",
         "3.6907710271394656",
         "3.6780365590197",
         "3.6812411363619497",
         "3.6918700033870757",
         "3.7014111250296824",
         "3.6945426255912",
         "3.691072497061543",
         "3.6643389115602405",
         "3.695350000103926",
         "3.6880644539914225",
         "3.7108228690307024",
         "3.658457946809177",
         "3.660377741752521",
         "3.73072531833868",
         "3.7099627036011342",
         "3.645296534167656",
         "3.6699487172831873",
         "3.680960045699114",
         "3.6803153484311446",
         "3.7032639516554164",
         "3.689909928905518",
         "3.6907920848996594",
         "3.692551685011399",
         "3.666183455487626",
         "3.655799061263791",
         "3.69805722479699",
         "3.694200873857667",
         "3.723386444625669",
         "3.713061073514588",
         "3.694481939461346",
         "3.7501042078982114",
         "3.694609238438762",
         "3.6900088828499613",
         "3.691533363565704",
         "3.575329123207823",
         "3.625990471684732",
         "3.7222748323107577",
         "3.7094640321274004",
         "3.702175571583735",
         "3.6639559122872383",
         "3.6959010536086594",
         "3.702977078330465",
         "3.6915476117392747",
         "3.688819446837659",
         "3.6912399599589274",
         "3.707722373544697",
         "3.7012491047915357",
         "3.688799634553128",
         "3.687773222920429",
         "3.697184087059027",
         "3.6963818370565056",
         "3.694339530345204",
         "3.7009150540615994",
         "3.6576616311075494",
         "3.7125310345696607",
         "3.6517065290578916",
         "3.696725147184489",
         "3.6919765941575338",
         "3.6720279039824466",
         "3.6979000045116224",
         "3.69278463159988",
         "3.7837210770811223",
         "3.689529743601081",
         "3.6868739408635616",
         "3.7099686981998294",
         "3.6931486035223973",
         "3.682448485168546",
         "3.7115712816644897",
         "3.732268017258849",
         "3.697678888231006",
         "3.697981688250601",
         "3.6893854174398",
         "3.771097784316351",
         "3.6972623855736764",
         "3.694447984804184",
         "3.709205509002199",
         "3.7402893410094538",
         "3.760333669527405",
         "3.687693853504901",
         "3.7082730568598445",
         "3.677895014530319",
         "3.6966986042116994",
         "3.6790564772540777",
         "3.7015654244285003",
         "3.6948438801384467",
         "3.688838082261196",
         "3.67995965525518",
         "3.7189977309385336",
         "3.71820449921307",
         "3.716310019625081",
         "3.741340680782931",
         "3.6857190056628624",
         "3.6874880700750428",
         "3.698045388633039",
         "3.6901216390737686",
         "3.731633229498765",
         "3.8021560041244298",
         "3.6986360694749427",
         "3.718355029088257",
         "3.6819062180167",
         "3.6414157934382634",
         "3.6952431839114546",
         "3.709336825341805",
         "3.7005522768799985",
         "3.693888849815017",
         "3.6875161920948054",
         "3.688664502507523",
         "3.697764601461391",
         "3.652516334608235",
         "3.693988492848215",
         "3.686410329931791",
         "3.530123497887471",
         "3.6445085394224335",
         "3.660122278595383",
         "3.6985867823416956",
         "3.7062291972707904",
         "3.68811036780435",
         "3.6744843601552413",
         "3.695130049522093",
         "3.636885004484148",
         "3.697421832374411",
         "3.5507307786663316",
         "3.6689561266790074",
         "3.679759084072774",
         "3.7006667698291293",
         "3.724337954276991",
         "3.658599903577026",
         "3.688483479484992",
         "3.716234512504907",
         "3.6966103727850217",
         "3.6922331321966864",
         "3.69313336873708",
         "3.6968871770469156",
         "3.7483786031230166",
         "3.6999670998612126",
         "3.700282461476797",
         "3.6883604745646763",
         "3.691611400061301",
         "3.669585563668157",
         "3.6944459114089168",
         "3.678600908345727",
         "3.70828970496278",
         "3.594773068282359",
         "3.6758000762000482",
         "3.6821107681720644",
         "3.6910854859085953",
         "3.697643180331062",
         "3.695806393812646",
         "3.692312064937935",
         "3.693751601167821",
         "3.693206032593461",
         "3.6815333156169796",
         "3.6840774342996374",
         "3.6934008187559946",
         "3.6994282782049037",
         "3.699437659391727",
         "3.7585135069417217",
         "3.6773764883877287",
         "3.6919297128662123",
         "3.709750401617055",
         "3.6856453181023685",
         "3.729249146588654",
         "3.6953158626433242",
         "3.6961140359471427",
         "3.651101828831902",
         "3.7577610557431647",
         "3.7045498984081853",
         "3.697069837566697",
         "3.694935460944454",
         "3.6955515491934876",
         "3.642650097445647",
         "3.6490465946848394",
         "3.8218527330927303",
         "3.6928390941080265",
         "3.7122263193422222",
         "3.698946064634932",
         "3.6057664090491435",
         "3.7201292223422433",
         "3.7006693203669174",
         "3.743641517527512",
         "3.6936105173520577",
         "3.747995934148551",
         "3.6606559959435065",
         "3.694329769432126",
         "3.698837580378463",
         "3.693323720757001",
         "3.69143658394484",
         "3.7133342743379156",
         "3.6778344138301167",
         "3.685008736584045",
         "3.6888375361543715",
         "3.699666119173416",
         "3.900092603780199",
         "3.6955872991269074",
         "3.6994377493212456",
         "3.6944459114089168",
         "3.699570497161513",
         "3.7031163724348763",
         "3.707244984855256",
         "3.694123501401324",
         "3.6931673563082734",
         "3.6889275133297166",
         "3.6948156567345483",
         "3.6973049725533693",
         "3.702249216453572",
         "3.67557282002931",
         "3.6955585678325362",
         "3.6886118142474955",
         "3.7090879684662026",
         "3.6991428810927487",
         "3.7325977862010395",
         "3.64440444694463",
         "3.6770915473612567",
         "3.688551571326396",
         "3.6668466606730927",
         "3.6914257644897974",
         "3.6949412436792346",
         "3.6829503358407853",
         "3.693420449786197",
         "3.7046180447301524",
         "3.6909534784581486",
         "3.696526061894444",
         "3.701401396515258",
         "3.7010148524346187",
         "3.6968308645904235",
         "3.701094383315175",
         "3.732578504322032",
         "3.6740355238708724",
         "3.702079555798328",
         "3.6908767184631444",
         "3.725374086265673",
         "3.679319773792566",
         "3.6952455517338194",
         "3.690531753486338",
         "3.794369919869246",
         "3.690164829708059",
         "3.6989027085773616",
         "3.751374497295123",
         "3.8020509941018084",
         "3.691936031034985",
         "3.644247789539596",
         "3.6596543659613703",
         "3.478938851966844",
         "3.6860378121370556",
         "3.6949443633664374",
         "3.6969469759799134",
         "3.692145674347373",
         "3.69065242603506",
         "3.688725719798217",
         "3.6896112501670952",
         "3.692485370961726",
         "3.7120482945030115",
         "3.7161409369627894",
         "3.7351025797279944",
         "3.7166440624605066",
         "3.6736850667174497",
         "3.6900406348838337",
         "3.704413804890274",
         "3.703533752910613",
         "3.696436493069173",
         "3.6965057219600155",
         "3.7456815306368485",
         "3.814064171292691",
         "3.647064132114969",
         "3.6992435799580483",
         "3.679864103391361",
         "3.69786322111238",
         "3.6869872688950793",
         "3.6566622042087826",
         "3.723596455165654",
         "3.698596942934726",
         "3.6445771239420006",
         "3.728106297220368",
         "3.6979844643890396",
         "3.8712688776376445",
         "3.695565555010023",
         "3.7064420420129354",
         "3.6661323728423207",
         "3.6844867463384925",
         "3.6961306631409463",
         "3.699773430741622",
         "3.699074497950318",
         "3.690341388443491",
         "3.6568609321365204",
         "3.7061035921775054",
         "3.718826784039083",
         "3.728021251046339",
         "3.727058170681359",
         "3.703864784832973",
         "3.7052167797569537",
         "3.656908185727533",
         "3.6881228070306125",
         "3.709898966641492",
         "3.6956703338610417",
         "3.6610071316424273",
         "3.702367808044455",
         "3.686511196727777",
         "3.6997865877224387",
         "3.6933853714594123",
         "3.692162696019859",
         "3.689522222275441",
         "3.694732560687456",
         "3.694471309993032",
         "3.600816758686403",
         "3.700569067150552",
         "3.8467138457628214",
         "3.6913732781342934",
         "3.6969936829208807",
         "3.68849509558189",
         "3.688680521798637",
         "3.7396383099261277",
         "3.68539615702351",
         "3.6974396726388954",
         "3.688415360476418",
         "3.693036637197668",
         "3.690549682840639",
         "3.66447921100408",
         "3.7041180123615645",
         "3.6618249369986713",
         "3.736463920802863",
         "3.748219290027906",
         "3.694718948330359",
         "3.7346914135770657",
         "3.718067926820792",
         "3.702262423307697",
         "3.6956740467652143",
         "3.6968472396990424",
         "3.7148163367448057",
         "3.6982545728879064",
         "3.82356384536447",
         "3.711250115099555",
         "3.700461622009531",
         "3.714098780000659",
         "3.7070149706887845",
         "3.702147522404649",
         "3.6907406065322994",
         "3.694407551770166",
         "3.6416911649268586",
         "3.685827643236689",
         "3.678406144014934",
         "3.703304208288256",
         "3.6911359337161613",
         "3.6803708394079124",
         "3.6820274511980116",
         "3.6948958622371793",
         "3.667754957126874",
         "3.692930207886649",
         "3.6750328379102335",
         "4.142022406692026",
         "3.6934448837010896",
         "3.695866584134535",
         "3.9204785630245786",
         "3.693252576093404",
         "3.699119317108327",
         "3.694595386218226",
         "3.594794435853592",
         "3.663648452730782",
         "3.6669428259389614",
         "3.701127474406695",
         "3.629679421221354",
         "3.7486921417745815",
         "3.663392923680257",
         "3.692435855210407",
         "3.6971302416715837",
         "3.661918817949289",
         "3.703900305818792",
         "3.669356384232248",
         "3.717789421037522",
         "3.7469975156853286",
         "3.682650326824587",
         "3.707062003752294",
         "3.6901601633322",
         "3.701384376262862",
         "3.723636496833096",
         "3.693930517869707",
         "3.688134999668321",
         "3.6796997534913194",
         "3.6615840914969144",
         "3.6920553193703363",
         "3.7739770549580487",
         "3.692656734652405",
         "3.693171566396297",
         "3.588756207796833",
         "3.7189437963914247",
         "3.6836496263616545",
         "3.685310419154512",
         "3.7156918631887192",
         "3.6978647743807813",
         "3.695073906797783",
         "3.6934059259776175",
         "3.6924188649484146",
         "3.6842530631244026",
         "3.7187104351380067",
         "3.662516436977393",
         "3.6967825487984545",
         "3.6946962311378466",
         "3.679785354635085",
         "3.6857421808054065",
         "3.693206822969871",
         "3.69320680113998",
         "3.6819056079776775",
         "3.681871298372655",
         "3.6635236148753503",
         "3.692976244726098",
         "3.727208991383531",
         "3.7186072596366486",
         "3.670098519083643",
         "3.7191647332699374",
         "3.703489019924793",
         "3.7976307027289256",
         "3.6854774512102018",
         "3.7042310687742193",
         "3.6714535152057906",
         "3.6682812857135376",
         "3.6174650749691075",
         "3.6926296499952778",
         "3.724333494766148",
         "3.7291466420949684",
         "3.6758846836103967",
         "3.6686875939070984",
         "3.7282116611858007",
         "3.6913690702062865",
         "3.6317735187022224",
         "3.6267169611534467",
         "3.6910924980419537",
         "3.6983908022942584",
         "3.681530898838666",
         "3.6414821248349667",
         "3.6890649700370655",
         "3.6931153878341094",
         "3.6923823321058498",
         "3.6968349049552676",
         "3.7008376032169195",
         "3.6947894579479392",
         "3.6908957469890544",
         "3.6929861548756486",
         "3.686317354343687",
         "3.7406181548578203",
         "3.6987602970748568",
         "3.6513196293959487",
         "3.7175755652677096",
         "3.705806331705877",
         "3.6851712236521625",
         "3.6735122017933866",
         "3.6793817219285794",
         "3.633135170897467",
         "3.540276514893054",
         "3.6811759334536975",
         "3.6942013125805673",
         "3.696793122894991",
         "3.6897927324146993",
         "3.7152121817251462",
         "3.733297845824967",
         "3.6809370535089934",
         "3.701488275373721",
         "3.694488777573463",
         "3.691672283945942",
         "3.7109873636424204",
         "3.690747205689643",
         "3.6997433345263433",
         "3.695974337258796",
         "3.7054607054307467",
         "4.375423074347117",
         "3.6961805434034396",
         "3.691223432472498",
         "3.613173135786278",
         "3.7917353890955248",
         "4.407165562452418",
         "3.688782658440295",
         "3.700167275173868",
         "3.6332687710829683",
         "3.631064846870403",
         "3.592306256807492",
         "3.66202043735316",
         "3.697505036322711",
         "3.675271474038368",
         "3.735850538334521",
         "3.694376908457792",
         "3.692967662362953",
         "3.6869381452370757",
         "3.701224100390511",
         "3.774931606226752",
         "3.7028458239685125",
         "3.6599155269308623",
         "3.6946389085785114",
         "3.679871944281515",
         "3.6965349246286876",
         "3.6967573169743395",
         "3.7058374823868396",
         "3.714681311334683",
         "3.6369869420288845",
         "3.6908238037178283",
         "3.7044149562109223",
         "3.670262787720836",
         "3.7196858712742085",
         "3.6935953543712796",
         "3.692863719264263",
         "3.6569387701326352",
         "3.69695874428595",
         "3.7010042341778098",
         "3.715938261562531",
         "3.91116822536762",
         "3.6862162296067806",
         "3.6648677508594516",
         "3.7035278216817873",
         "3.6396708182517594",
         "3.7155408156741463",
         "3.6943542553728106",
         "3.6875892971085094",
         "3.6795939232883814",
         "3.6949615203087403",
         "3.6974172191006955",
         "3.7148570873143973",
         "3.7444157362887163",
         "3.697634135803058",
         "3.6950100944856086",
         "3.6684257144336128",
         "3.6652192092768314",
         "3.697738727180887",
         "3.721760037613809",
         "3.694882926607285",
         "3.694257623173898",
         "3.6967095714009615",
         "3.6842085647245795",
         "3.7234740404989863",
         "3.6629804973455578",
         "3.698655714912728",
         "3.7503701424204827",
         "3.7288754543930342",
         "3.6712902770033935",
         "3.67187161269725",
         "3.6947497792985544",
         "3.6994473145215654",
         "3.687432139906824",
         "3.7172332600054214",
         "3.695009743376563",
         "3.692280940908873",
         "3.6950732842078047",
         "3.700136295413488",
         "3.694390704236164",
         "3.696430449089596",
         "3.6319296692328513",
         "3.7242388263593984",
         "3.739166223446242",
         "3.84593697433774",
         "3.6923310165773353",
         "3.600717856303509",
         "3.715554991530443",
         "3.844760010838656",
         "3.711305551079127",
         "3.6403893562136096",
         "3.658386869591229",
         "3.695258929886026",
         "3.6612928231641813",
         "3.6834914404178463",
         "3.701864810667986",
         "3.593581930404748",
         "3.741925957350026",
         "3.673551473394628",
         "3.690435869060695",
         "3.763386317557751",
         "3.6944430691447927",
         "3.6326296298284952",
         "3.663608501335577",
         "3.6932181122764787",
         "3.6949057614130423",
         "3.6529655444536018",
         "3.7048247849178995",
         "3.715407890468458",
         "3.6862526613058106",
         "3.695154954718411",
         "3.6964787720844967",
         "3.676376889376512",
         "3.6967120924538164",
         "3.709049389155328",
         "3.7406156953705363",
         "3.7110594295043775",
         "3.7170296358581383",
         "3.7009140447487696",
         "3.7087300994668784",
         "3.696888254348385",
         "3.6949353143822474",
         "3.72342242250431",
         "3.694786146202795",
         "3.713890213383269",
         "3.6902938355324744",
         "3.6945308956470213",
         "3.6987126934289183",
         "3.7305018476838243",
         "3.695115640077023",
         "3.721034777425287",
         "3.7002596504367475",
         "3.680141673896951",
         "3.6536835198596926",
         "3.6236354727916336",
         "3.6866776682373446",
         "3.730085295994833",
         "3.632241344927462",
         "3.6079314927454917",
         "3.7059746130525717",
         "3.7005189770541835",
         "3.648698892352849",
         "3.6399826211047035",
         "3.67761104866216",
         "3.64226890698631",
         "3.7108837721956056",
         "3.647429193595534",
         "3.6982234529056606",
         "3.7043463225008444",
         "3.6945519351029628",
         "3.7111911644649385",
         "3.6996233265077927",
         "3.7182130123903776",
         "3.6969313216843704",
         "3.6950808752442863",
         "3.7378541802982648",
         "3.696401419842842",
         "3.688103512947628",
         "3.913381215265923",
         "3.6958949620301027",
         "3.7109916467272868",
         "3.6991827033319256",
         "3.689746827505887",
         "3.699736014338517",
         "3.685707242266994",
         "3.6495026124815015",
         "3.703852197271427",
         "3.677798968536988",
         "3.7059951766175594",
         "3.682751511686915",
         "3.6712491530268956",
         "3.682287238336217",
         "3.6831522291395444",
         "3.69526533299047",
         "3.418126459092208",
         "3.696336877440914",
         "3.7042197627788847",
         "3.694865915349716",
         "3.7113288921865206",
         "3.786717682646881",
         "3.6827303947178245",
         "3.6931415404156955",
         "3.6554070938464713",
         "3.690770954377504",
         "3.6915459735496863",
         "3.6917707565793267",
         "3.695030852837443",
         "3.663068408081962",
         "3.7251587241860924",
         "3.6225777487180317",
         "3.687210750905129",
         "3.68155978563322",
         "3.694823898458882",
         "3.6672659767166444",
         "3.728111691067935",
         "3.664953586023242",
         "3.7110961202804997",
         "3.689636610856982",
         "3.673546100877788",
         "3.6632054354814683",
         "3.7086549720221544",
         "3.6869036932650254",
         "3.696552552662675",
         "3.6846868690830084",
         "3.6959108152367386",
         "3.678777606021151",
         "3.640897606566308",
         "3.6963730779755126",
         "3.6932634582879706",
         "3.690713505217171",
         "3.677194802762226",
         "3.6741482895413693",
         "3.7057343905378453",
         "3.622078479719126",
         "3.652241982336863",
         "3.693346285286945",
         "3.7061579187943123",
         "3.639791436976906",
         "3.7130582172381357",
         "3.7077664474807044",
         "3.68865978170299",
         "3.6759290467479806",
         "3.694454592676328",
         "3.672752190362143",
         "3.6954711975073167",
         "3.6586245467164797",
         "3.714083203079041",
         "3.746431018772737",
         "3.726698667896825",
         "3.689065039166056",
         "3.69723071786714",
         "3.694868678542518",
         "3.694829807813735",
         "3.696860481742974",
         "3.695073906797783",
         "3.6529038068086805",
         "3.7065894548635443",
         "3.698679287819298",
         "3.690257235272626",
         "3.6935009175955065",
         "3.6958077756034573",
         "3.6676444430518647",
         "3.7100708707800076",
         "3.6951959473961105",
         "3.7235483845462864",
         "3.70253360366268",
         "3.6995021449372274",
         "3.688561290711278",
         "3.6745834015357994",
         "3.7067628720162604",
         "3.672577273611702",
         "3.618822910136372",
         "3.6910016901114107",
         "3.6950586866912842",
         "3.6954220212993243",
         "3.704980963078142",
         "3.665824710794069",
         "3.68216441945283",
         "3.843454870645873",
         "3.7552641602121968",
         "3.6938179160200515",
         "3.683315826073246",
         "3.695673717897852",
         "3.713525631139763",
         "3.690248275932084",
         "3.6939505751526474",
         "3.6917238582794236",
         "3.571034447723802",
         "3.6885518658258625",
         "3.6736002279242665",
         "3.6931177253748455",
         "3.715879692316597",
         "3.6958440248425832",
         "3.61116730545172",
         "3.6860724256664534",
         "3.691528674149959",
         "3.6937800767123177",
         "3.693015140110491",
         "3.696051814295735",
         "3.708945295862696",
         "3.689370483066159",
         "3.7488926634811333",
         "3.70648811722301",
         "3.703732622365946",
         "3.7002515621053194",
         "3.705129737500299",
         "3.7714012775949346",
         "3.6741503203853854",
         "3.701154795053551",
         "3.7004641455591503",
         "3.6558751485188887",
         "3.702686924556027",
         "3.7099099849786548",
         "3.7051114694803524",
         "3.652063835195818",
         "3.6717509925700713",
         "3.68796662427771",
         "3.6956174769778323",
         "3.6999675805055117",
         "3.663625272676782",
         "3.670790912876675",
         "3.695021913790388",
         "3.6849777999111555",
         "3.7057879798724596",
         "3.67921379302783",
         "3.681438875599261",
         "3.6909723172101",
         "3.7017216266841646",
         "3.689786458462149",
         "3.698661529970587",
         "3.7290183233210237",
         "3.696302253428558",
         "3.6962245633185504",
         "3.6324615974019134",
         "3.6949599032025047",
         "3.6969393140198186",
         "3.6860786179283274",
         "3.693765228992608",
         "3.695079929364385",
         "3.6929702818208745",
         "3.69783078570144",
         "3.697712123144056",
         "3.7318094589995483",
         "3.7463606644421685",
         "3.6950350153780795",
         "3.698212196470436",
         "3.7021906410749557",
         "3.6671821202082295",
         "3.6735511035070867",
         "3.552088126121577",
         "3.6837678022540814",
         "3.6231314477105836",
         "3.69987270757325",
         "3.6901095386597547",
         "3.6974512728219935",
         "3.7239105302327986",
         "3.68730680481376",
         "3.695379934275814",
         "3.6870143916901337",
         "3.5863292678184964",
         "3.679119898171926",
         "3.693110138006194",
         "3.697647736247338",
         "3.674042196110782",
         "3.692041192892355",
         "3.717315419356369",
         "3.676791753351538",
         "3.6792146498627933",
         "3.695160055161554",
         "3.7007024706102203",
         "3.695580279770398",
         "3.6875458281168565",
         "3.6240118608639746",
         "3.698432794384388",
         "3.6903090786414716",
         "3.809766641591606",
         "3.69606418065159",
         "3.8598850911681164",
         "3.718618996344657",
         "3.69188023136999",
         "3.6711841855518457",
         "3.7186769738203727",
         "3.699151837361106",
         "3.6880551624475784",
         "3.6774928416278305",
         "3.695138232348346",
         "3.644880872565201",
         "3.680608462243952",
         "3.6949613897463283",
         "3.6948906783282465",
         "3.698775725888672",
         "3.6303987900612915",
         "3.693478034359757",
         "3.68577151754949",
         "3.7010722362379935",
         "3.807167196693385",
         "3.687966449990126",
         "3.6611264444465994",
         "3.670475542950103",
         "3.7050745908945903",
         "3.69508992775127",
         "3.7789724921667323",
         "3.692175469675909",
         "3.692088573017585",
         "3.7129192962684416",
         "3.650158071192278",
         "3.675222323160816",
         "3.7054034827073727",
         "3.6506282376780104",
         "3.6865750589466804",
         "3.7031033970115996",
         "3.6898167105268667",
         "3.5878178896142634",
         "3.695170784080367",
         "3.689037071707618",
         "3.684431212016033",
         "3.6939046552499195",
         "3.6907114082571377",
         "3.620511964798185",
         "3.6947196864235297",
         "3.67724295760443",
         "3.6920874377043176",
         "3.683560615324328",
         "3.7073473495170437",
         "3.7166974744392456",
         "3.6838240658612387",
         "3.674860971154063",
         "3.683491757785788",
         "3.6931565719687387",
         "3.668372931201517",
         "3.7590062862881877",
         "3.6932465371258494",
         "3.69364839684874",
         "3.7150296025777294",
         "3.6549582664595532",
         "3.6928038214577366",
         "3.6834895876450098",
         "3.741844993714428",
         "3.703008419010129",
         "3.720892158360921",
         "3.684217716453733",
         "3.6877154701398642",
         "3.6912701507718713",
         "3.6986564646635025",
         "3.6940864259078263",
         "3.69938190078512",
         "3.7027016043389636",
         "3.6971670593425285",
         "3.694328575518184",
         "3.6680988358393605",
         "3.6895535945594604",
         "3.6979943664863417",
         "3.723873505652101",
         "3.689537249163893",
         "3.731610180576164",
         "3.696026774818228",
         "3.6902137297332174",
         "3.675512335418207",
         "3.6182798153035725",
         "3.6817816414703346",
         "3.698464040756966",
         "3.6988480508667183",
         "3.710549295786549",
         "3.5477461680268645",
         "3.6920976592572625",
         "3.69395347506383",
         "3.7646787899377565",
         "3.710332242787738",
         "3.6118780919945825",
         "3.6892271479403513",
         "3.664749922727698",
         "3.711838906081275",
         "3.6827677919172204",
         "3.675306612307793",
         "3.602703277606782",
         "3.667923782421635",
         "3.6912569786938145",
         "3.6828561329323413",
         "3.7111242149993204",
         "3.7100527107539194",
         "3.6296423409837866",
         "3.95553265675108",
         "3.6830780106118333",
         "3.6916640293084666",
         "3.6919417971293567",
         "3.6921422162383615",
         "3.7388583825742874",
         "3.702447924643139",
         "3.6934820273104894",
         "3.7038617987549216",
         "3.6941697284916946",
         "3.6955180197461455",
         "3.6889625517635083",
         "3.6949861082167015",
         "3.6545432672810714",
         "3.701622289567456",
         "3.693636531049726",
         "3.6741533467864556",
         "3.699936120819529",
         "3.70214028352469",
         "3.6707396459759805",
         "3.6918199897767523",
         "3.690920418121734",
         "3.702947914579938",
         "3.695933793410101",
         "4.063659104840697",
         "3.887382597268204",
         "3.6797647532550597",
         "3.717727790190029",
         "3.701736260643884",
         "3.6763811607749606",
         "3.6953929218744963",
         "3.6625055555157155",
         "3.7037848235504236",
         "3.6972178097331003",
         "3.7123089560426905",
         "3.7135730849408617",
         "3.6940058567668044",
         "3.7372595819655023",
         "3.741399060487931",
         "3.694442800917056",
         "3.6810745807355936",
         "3.784719875292041",
         "3.6981278143148297",
         "3.699504219062378",
         "3.686319281315025",
         "3.692685358622932",
         "3.7070627322318797",
         "3.6992054833522343",
         "3.701841260665584",
         "3.699264761984651",
         "3.985358620866431",
         "3.5943371537486764",
         "3.7085458022922455",
         "3.7188907067294084",
         "3.694731509581336",
         "3.6991326316404285",
         "3.658122081954444",
         "3.6389085637191023",
         "3.69299902398466",
         "3.6694960982546942",
         "3.693152402569712",
         "3.704812675116249",
         "3.716107379119647",
         "3.6915210614848313",
         "3.6525123136964037",
         "3.706674305710153",
         "3.611859068281013",
         "3.7079288939956876",
         "3.6966054181378185",
         "3.9365031948081",
         "3.693723892768658",
         "3.77357978391805",
         "3.705887971502646",
         "3.669580420631344",
         "3.6899438507185045",
         "3.680945150537752",
         "3.6961670925915353",
         "3.702395146669375",
         "3.6846218045095434",
         "3.6992972128233035",
         "3.688398462309286",
         "3.752658769207201",
         "3.697126821282701",
         "3.6814558384967664",
         "3.6850208887133293",
         "3.6624432421842337",
         "3.644355566264952",
         "3.6753291705540785",
         "3.6942048375495236",
         "3.6591460643278464",
         "3.6778029130790353",
         "3.6963402473542115",
         "3.7031134507781647",
         "3.76676457852438",
         "3.694920712693659",
         "3.7409538259172876",
         "3.7009482533454277",
         "3.698444765224882",
         "3.7215966974536374",
         "3.6606813082875074",
         "3.6552836521670344",
         "3.685256864177462",
         "3.7023070829930966",
         "3.7036622416603593",
         "3.677623671782839",
         "3.7978634209319266",
         "3.6881086117940547",
         "3.7481846573004707",
         "3.6974373586000295",
         "3.6916243414659164",
         "3.6849489737256573",
         "3.682823524096197",
         "3.69432204506772",
         "3.6999337827826664",
         "3.688066668061157",
         "3.6772951859895926",
         "3.728724798199444",
         "3.670167584801382",
         "3.702557853237484",
         "3.650433503131567",
         "3.6925378626180794",
         "3.6971900167330616",
         "3.838373576787904",
         "3.5931063097425215",
         "3.6961206413416305",
         "3.6083455143346415",
         "3.8710993922957684",
         "3.798195697234453",
         "3.7086959409633975",
         "3.7307682300541134",
         "3.6775384192537715",
         "3.687570130140692",
         "3.666710874347012",
         "3.6974821081640146",
         "3.7466987234590086",
         "3.6960902639330078",
         "3.6845372213843928",
         "3.6909378684808503",
         "3.687124333016224",
         "3.592978809141103",
         "3.6788039167504434",
         "3.694706065123457",
         "3.6945183776064496",
         "3.6646922606888928",
         "3.6837497721367685",
         "3.6785232755871795",
         "3.6857871248813256",
         "3.693929751245854",
         "3.6944161800226625",
         "3.695512160386616",
         "3.6944306226931993",
         "3.6833400302630173",
         "3.6343728793975254",
         "3.6946892692585274",
         "3.6812303669569677",
         "3.66191835471899",
         "3.6789714332051267",
         "3.5172002249540335",
         "3.655412791923542",
         "3.6920057963586763",
         "3.693622602758185",
         "3.9413781465190536",
         "3.6557684617923623",
         "3.7110808147304906",
         "3.715468594932595",
         "3.6877109887554123",
         "3.744555514100812",
         "3.7114774145704392",
         "3.656641774661886",
         "3.698838575192754",
         "3.6908985402688095",
         "3.6839326586656154",
         "3.6674015182392288",
         "3.6975424680829327",
         "3.6954188010874476",
         "3.4860611649292714",
         "3.6904535030920003",
         "3.7005603931742463",
         "3.692573883599468",
         "3.6969370039228027",
         "3.7069580843035315",
         "3.693815838887848",
         "3.687035112339071",
         "3.676951656296374",
         "3.6350858377078152",
         "3.693068186425436",
         "3.7140526716910918",
         "3.7508479826196566",
         "3.6926673320443446",
         "3.694195903048723",
         "3.6615501256640575",
         "3.722912235394048",
         "3.6910158109765914",
         "3.6974198148156616",
         "3.6741668460691694",
         "3.6813044266258883",
         "3.585027472155054",
         "3.691872658249983",
         "3.5866358270102556",
         "3.7128302600509344",
         "3.7008891929890306",
         "3.714936674977357",
         "3.6970804396471233",
         "3.7058539953287606",
         "3.675224233780448",
         "3.713916107133263",
         "3.702578656044725",
         "3.6509787954347828",
         "3.681302265611889",
         "3.7220427442252073",
         "3.672119555187213",
         "3.694275771961888",
         "3.7257277324289775",
         "3.719832081968167",
         "3.6975572395925584",
         "3.7013472436211",
         "3.684039386668865",
         "3.6817138110965155",
         "3.688518148884969",
         "3.7177852764927692",
         "3.6945660733795496",
         "3.7158529674833978",
         "3.7197749185214355",
         "3.854078012470758",
         "3.697451366793779",
         "3.6584633471069297",
         "3.726430795586322",
         "3.6310661054308633",
         "3.697448633347858",
         "3.694900953879823",
         "3.700650644820283",
         "3.7024287002985488",
         "3.6707726488462114",
         "3.667670798825299",
         "3.690069521939096",
         "3.608848225931264",
         "3.7053455737273207",
         "3.6905026762837934",
         "3.695762228550746",
         "3.7177339411408736",
         "3.6947982902419896",
         "3.692651873641775",
         "3.6876634601442944",
         "3.702312534779746",
         "3.714914574239042",
         "3.749569802581646",
         "3.903648513345702",
         "3.694966722492426",
         "3.691297842141451",
         "3.708162980487965",
         "3.696675606592906",
         "3.6499799676331057",
         "3.7066150093990564",
         "3.6189685367919036",
         "3.7260403549249927",
         "3.6963170554536893",
         "3.709074628601656",
         "3.69665130845481",
         "3.671564478868001",
         "3.686689592468068",
         "3.6968934458605998",
         "3.706753241894015",
         "3.669084359478202",
         "3.671011447317943",
         "3.6980282530807354",
         "3.710733285576168",
         "3.6540321624755747",
         "3.686355594999768",
         "3.715468796953089",
         "3.6962938099328726",
         "3.698981688078639",
         "3.783022726303163",
         "3.695010771482179",
         "3.696343552147462",
         "3.682008396790361",
         "3.69006761291982",
         "3.715046532674122",
         "3.704074612217736",
         "3.6238667781228346",
         "3.556067923906584",
         "3.6912520061841025",
         "3.6880903504660543",
         "3.695744338708865",
         "3.631603492996269",
         "3.6658237445352895",
         "3.69342847304852",
         "3.6957196219735393",
         "3.6966799116402838",
         "3.7048735339530734",
         "3.6950174162499505",
         "3.703097975100783",
         "3.6903559621122977",
         "3.693389377261964",
         "3.717223428032374",
         "3.6926783646566026",
         "3.6989547438794763",
         "3.6926548302782214",
         "3.7217133326093927",
         "3.691910904733961",
         "3.6982051452813205",
         "3.709022213865438",
         "3.6518989540504307",
         "3.7105203997975003",
         "3.7081665049314054",
         "4.383506965426335",
         "3.692864242454948",
         "3.761883062939089",
         "3.6974640234033505",
         "3.694509162516133",
         "3.6306538745693158",
         "4.2056109065446226",
         "3.693509484035607",
         "4.152631323295615",
         "3.672631037996832",
         "3.699257440632516",
         "3.6916585159450794",
         "3.694659582057438",
         "3.693267160809607",
         "3.863047296360421",
         "3.6993105816017753",
         "3.676789026053107",
         "3.706322029344621",
         "3.6934223132306006",
         "3.691071462273361",
         "3.719647021581853",
         "3.6849486618699547",
         "3.694443150671535",
         "3.655410933772333",
         "3.695784098119925",
         "3.818647102911654",
         "3.6918908595417705",
         "3.663349907337795",
         "3.703645521257177",
         "3.6867226923406524",
         "3.695789837223078",
         "3.6778206702971525",
         "3.697724291480425",
         "3.692818749002656",
         "3.6929518622694184",
         "3.694598117409851",
         "3.698716727427267",
         "3.6584933782784943",
         "3.6989759446360897",
         "3.6855202637482036",
         "3.5988109451014796",
         "3.6907084084478554",
         "3.6946015098950875",
         "3.67714204688704",
         "3.8880821742471494",
         "3.682099248006966",
         "3.6754191928604665",
         "3.67628058938251",
         "3.5622432320649446",
         "3.687605978968961",
         "3.6686710182454982",
         "3.6942982122067884",
         "3.675469988083308",
         "3.6834404912111407",
         "3.710917961895124",
         "3.684166013796713",
         "3.692683261042517",
         "3.690011524961781",
         "3.6930084373699588",
         "3.7053240421848037",
         "3.705292702554469",
         "3.6977006966151365",
         "3.703014649278705",
         "3.6958727953110735",
         "3.702576103794595",
         "3.6821541907401087",
         "3.706317386066073",
         "3.6999690512035732",
         "3.69043763157129",
         "3.7002938492609347",
         "3.6979563148982013",
         "3.685697996525835",
         "3.689409457648686",
         "3.8075920828411003",
         "3.971895677810013",
         "3.6894190800759987",
         "3.7072844579857493",
         "3.6981270227168097",
         "3.6743657053492575",
         "3.687555599119665",
         "3.702647507042482",
         "3.6917520879343693",
         "3.6818448516494957",
         "3.6953753706286627",
         "3.7107821278601354",
         "3.674552223534812",
         "3.6514734186972833",
         "3.7144290199997623",
         "3.6756833751500153",
         "3.643330045208234",
         "3.677421669296031",
         "3.683159270499866",
         "3.6774190613901494",
         "3.687169268369718",
         "3.6905566927403943",
         "3.893369482961992",
         "3.694001483161674",
         "3.6891500683881793",
         "3.6875022717016304",
         "3.6018668018881455",
         "3.692164715752854",
         "3.700962961229947",
         "3.695982136359492",
         "3.6962396780673292",
         "3.7151685676704367",
         "3.6829217776132586",
         "3.695404571401734",
         "3.681948491861763",
         "3.693077122633291",
         "3.696461908907235",
         "3.679504916625417",
         "3.6810449644690033",
         "3.684524682139089",
         "3.5465138957990527",
         "3.707511503166776",
         "3.6816801833715447",
         "3.6872314223907257",
         "3.683495504656798",
         "3.7186764807498833",
         "3.608647586689745",
         "3.6968813003355288",
         "3.69742965169245",
         "3.7024106119214446",
         "3.6956987260979166",
         "3.694778183690248",
         "3.6856143498377163",
         "3.667668591812423",
         "3.7088476878111827",
         "3.6944845642331763",
         "3.612569388215738",
         "3.63370503042333",
         "3.664556886582959",
         "3.6711115039293563",
         "3.6641135287561326",
         "3.714489080126349",
         "3.9418494332117717",
         "3.6759111300277394",
         "3.679246104313182",
         "3.692848579982283",
         "3.574292290598369",
         "3.689196866183419",
         "3.8267606216185883",
         "3.69459908819287",
         "3.696578900020121",
         "3.6948643916958916",
         "3.6885390349627283",
         "3.6933216878825372",
         "3.7748339779632327",
         "3.7072410803602502",
         "3.693222565256803",
         "3.619588921681791",
         "3.845456701572306",
         "3.6926332943184357",
         "3.6950197954023056",
         "3.647525316165054",
         "3.7156152405467697",
         "3.694757118291688",
         "3.709098924847251",
         "3.6655713785031385",
         "3.703054350012872",
         "3.6428022091176397",
         "3.694657940148595",
         "3.6924960810986622",
         "3.8916830873904638",
         "3.828821904443608",
         "3.708102336934473",
         "3.6819555218905493",
         "3.662533933254155",
         "3.69554327791256",
         "3.6957792882859986",
         "3.6886833091105533",
         "3.671922056734441",
         "3.6965956800664537",
         "3.6928082334582903",
         "3.696890331798937",
         "3.6996702400614154",
         "3.6951117234077526",
         "3.6996944417818862",
         "3.632533465539457",
         "3.693429926901032",
         "3.679596411207449",
         "3.7155595973801847",
         "3.658737553352646",
         "3.7088246239820513",
         "3.6735021811077333",
         "3.6908895465197533",
         "3.692520723670011",
         "3.7260940632474253",
         "3.6822724066465793",
         "3.690119310087474",
         "3.692193214011658",
         "3.6959234912401944",
         "3.6458599150696354",
         "3.6957274574908747",
         "3.6741181783707177",
         "3.6942420860464704",
         "3.6644740200900823",
         "3.692775612453317",
         "3.6477079432777506",
         "3.695176251404481",
         "3.699839786307398",
         "3.6973522740564375",
         "3.6968385985880614",
         "3.695939353903999",
         "3.659089014007098",
         "3.720718839952934",
         "3.7134256573002635",
         "3.688809550965628",
         "3.6945703461914285",
         "3.654490016503081",
         "3.6989579073639374",
         "3.689565036986302",
         "3.7168279424188957",
         "3.6942638954815994",
         "3.7048086560664313",
         "3.7497566222176273",
         "3.6963763522700175",
         "3.625499866698064",
         "3.689032923311367",
         "3.6928965035151307",
         "3.690912309873829",
         "3.692967741952427",
         "3.6683585802814136",
         "3.6827075215255065",
         "3.6789030699990137",
         "3.694162894909899",
         "3.714173341538694",
         "3.683985856792087",
         "3.666417875694506",
         "3.6977034384100977",
         "3.7059515848114972",
         "3.6796377370846485",
         "3.6856645152607874",
         "3.6857966289797988",
         "3.7124185670367065",
         "3.683660061382246",
         "3.6571733730110263",
         "3.6832926766833975",
         "3.6690362547243436",
         "3.6946417420913966",
         "3.6706682114897076",
         "3.7068586342014864",
         "3.6935000151287567",
         "3.694972188100229",
         "3.687778150255246",
         "3.5670665220537865",
         "3.651379086102173",
         "3.710479390733268",
         "3.6948169295737583",
         "3.69073772419469",
         "3.694905190500028",
         "3.7032353819874735",
         "3.6975320361494983",
         "3.695457007216664",
         "3.56571884364157",
         "3.631174528071869",
         "3.6619196905940194",
         "3.702798833889435",
         "3.7110359712449603",
         "3.6948051116139573",
         "3.683670337297662",
         "3.6836058747994342",
         "3.640791908960198",
         "3.7665691822761223",
         "3.6438871451710333",
         "3.6542479773119",
         "3.708335147980077",
         "3.6900987764314763",
         "3.684647104418422",
         "3.7020581188332935",
         "3.691320468536595",
         "3.729757980504483",
         "3.6907083965787715",
         "3.69918673747851",
         "3.914808147508644",
         "3.6916045232356027",
         "3.6913737820504418",
         "3.713173025829838",
         "3.697083370567716",
         "3.7034327291298608",
         "3.708224725618137",
         "3.6872429770975437",
         "3.7160814827059534",
         "3.702222747641378",
         "3.6501715839593243",
         "3.696396277808351",
         "3.7017444521680045",
         "3.668111286109994",
         "3.703866999750922",
         "3.6900694424792526",
         "3.6891114604611537",
         "3.6970669029266077",
         "3.69063249079968",
         "3.6933475247266885",
         "3.6106693791398103",
         "3.4805724943299334",
         "3.6943839862167382",
         "3.702972854749616",
         "3.694697837531266",
         "3.6882893126726577",
         "3.7057603337746845",
         "3.7085281451909395",
         "3.722217495643977",
         "3.7021175157951705",
         "3.6949283757405036",
         "3.6945804283335377",
         "3.7158413256298077",
         "3.7042874484687407",
         "3.813981272817415",
         "3.673433923162679",
         "3.6870910488928694",
         "3.667039394670001",
         "3.697966261374295",
         "3.6925553943753777",
         "3.6945336984897112",
         "3.6945482046211855",
         "3.695909677252583",
         "3.7047529070248215",
         "3.701328843495175",
         "3.665035194151163",
         "3.6952822710588187",
         "3.6948146571850793",
         "3.666839488167562",
         "3.684034908574063",
         "3.6905558253844135",
         "3.7376986245655694",
         "3.708497268875019",
         "3.668421986953607",
         "3.7396891766322646",
         "3.694741069951763",
         "3.6717970727760334",
         "3.696901296203837",
         "3.694963151904829",
         "3.662438552065229",
         "3.6284277543477472"
        ],
        [
         "3",
         "3.9206926357408975",
         "3.9102959644003743",
         "3.9078900050515264",
         "3.900028157211784",
         "3.935104457302966",
         "3.909399073367685",
         "3.91472344730092",
         "3.9385536675012403",
         "3.927390716196928",
         "3.9873302344122568",
         "3.9280025482152596",
         "3.913092250911487",
         "3.9312521869654566",
         "3.9105892018494477",
         "3.9115883684972217",
         "3.9089048412908576",
         "3.9152794033982",
         "3.926150349463517",
         "3.9141571479953385",
         "3.9183371920296617",
         "3.9350554119881638",
         "3.9244335321082695",
         "3.9123211080916964",
         "3.8924820451005844",
         "3.911936876822656",
         "3.912145545380988",
         "3.9942516162222796",
         "3.9317868804501437",
         "3.9511258123678",
         "3.9117469332773918",
         "3.908584939504169",
         "3.913292467607985",
         "3.9082245905695046",
         "3.9134423049033162",
         "3.9111471365066803",
         "3.9168144935102616",
         "3.9179490901653273",
         "3.9240959485773987",
         "3.9134535193074496",
         "3.943798648998299",
         "3.911045662212885",
         "3.919448280559115",
         "3.9023195543103215",
         "3.9124305068910967",
         "3.8809746895519197",
         "3.911192935605403",
         "3.9159869697658203",
         "3.9126184333161262",
         "3.88987499913238",
         "3.9257180529633913",
         "3.9117425912497152",
         "3.9117535214419177",
         "3.913851525038579",
         "3.9109102977666983",
         "3.9086172760034317",
         "3.92225474118538",
         "3.916904961347048",
         "3.915572333495609",
         "3.9108689855508803",
         "3.935315473016182",
         "3.8795663650536825",
         "3.8574595442305997",
         "3.8573689336861534",
         "3.8408270445678148",
         "3.9112402147723198",
         "3.9102021655373385",
         "3.918698689051816",
         "3.9070054230855233",
         "3.89660254524518",
         "3.912747244172976",
         "3.9173247542479306",
         "3.9061913351670747",
         "3.9019957784637915",
         "3.8395954941389356",
         "3.914043929090976",
         "3.9121622699513563",
         "3.9210212048700135",
         "3.906761543396717",
         "3.918918177813994",
         "3.9050671646346666",
         "3.8972782604879477",
         "3.913864663842102",
         "3.9209995853532704",
         "3.9145214840659137",
         "3.8998095528447196",
         "3.910150958579364",
         "3.9148449796097973",
         "3.9293199414860416",
         "3.91067591777421",
         "3.910742092792753",
         "3.9093047164567603",
         "3.9122957260495688",
         "3.9108800363027423",
         "3.9119976148925346",
         "3.9128315617960157",
         "3.9095238466942117",
         "3.918185250350122",
         "3.90791568367703",
         "3.9032980139050895",
         "3.9118136762156004",
         "3.8814686053682426",
         "3.881794302992132",
         "3.92063092460199",
         "3.9122228541609982",
         "3.8832438246972925",
         "3.9008538279738523",
         "3.9100075090699318",
         "3.9186571667775287",
         "3.9168633678425833",
         "3.911344424849755",
         "3.9088681163596264",
         "3.9031323797053896",
         "3.8934856305700833",
         "3.8963963876295504",
         "3.9055243965170403",
         "3.921283963060337",
         "3.89870674288513",
         "3.9939290879066958",
         "3.902634510434072",
         "3.9045914989095336",
         "3.9078409364273865",
         "3.9330074428303936",
         "3.9089530691165595",
         "3.9063436883183025",
         "3.9137357826686308",
         "3.9207614042533763",
         "3.9093974478864624",
         "3.9295365376160722",
         "4.001033573642752",
         "3.9020633939595353",
         "3.924377693065258",
         "3.960931885075821",
         "3.90700931668482",
         "3.901304471626749",
         "3.87769896825582",
         "3.900779640262418",
         "3.907975270793545",
         "3.910724636469825",
         "3.9108628841264474",
         "3.914279175155858",
         "3.900555090369127",
         "3.9105009218214217",
         "3.882386655570656",
         "3.8669538376920576",
         "3.913589058845683",
         "3.9121517951795455",
         "3.9107937598640583",
         "3.9491576607580154",
         "3.9089297904802525",
         "3.823612360648114",
         "3.9155040635828535",
         "3.9058558766901625",
         "3.9087542827717154",
         "3.906370920701859",
         "3.9324100554470656",
         "3.903449719082399",
         "3.9070630349541564",
         "3.929359588821846",
         "3.9040245555719975",
         "3.9053200013925835",
         "3.879542289334064",
         "3.9112006526061207",
         "3.9276128686067997",
         "3.8813245698382803",
         "3.887508237795752",
         "3.8994226739456805",
         "3.899531163600106",
         "3.912310160567154",
         "3.909149855671896",
         "3.92486869631668",
         "3.9196142535891365",
         "3.899039441200279",
         "3.95010763181899",
         "3.907295837690565",
         "3.8875109431241284",
         "3.9122153841292024",
         "3.888497298489768",
         "3.911044100668518",
         "3.9011858910300967",
         "3.8972607004175237",
         "3.9105203343815584",
         "3.915618030873715",
         "3.910172148024985",
         "3.914315963554256",
         "3.9276321723497647",
         "3.9008713759527676",
         "3.914032639660256",
         "3.9103940771688785",
         "3.916777150905478",
         "3.9110078647609687",
         "3.9102752684820206",
         "3.9110498382916106",
         "3.9104221538665453",
         "3.904008043401066",
         "3.907100040877604",
         "3.901199315583045",
         "3.9981371324892963",
         "3.913047106342428",
         "3.916547965315027",
         "3.909158885926442",
         "3.877632022224439",
         "3.9170812089558456",
         "3.9228547979088715",
         "3.900666527134841",
         "3.9115326335415155",
         "3.92335520997552",
         "3.910777574196248",
         "3.988480608993526",
         "3.917006869243213",
         "3.9056392705124905",
         "3.9140299489157266",
         "3.8848719255170043",
         "3.935599501061709",
         "3.9122878398590637",
         "3.8982772462318795",
         "3.917026549283557",
         "3.9127538445971974",
         "3.9134035236844222",
         "3.910588862339601",
         "3.9146320604024005",
         "3.926462225659367",
         "3.9165259738005775",
         "3.909097662626389",
         "3.9202832116170963",
         "3.900754247631198",
         "3.917127560440675",
         "3.916581227554013",
         "3.9043379246744405",
         "3.9215765446110593",
         "3.927705673763425",
         "3.945110452714824",
         "3.91152585638922",
         "3.928246964221715",
         "3.91387023800216",
         "3.917773007382535",
         "3.810213408141737",
         "3.849360518080079",
         "3.911332007350468",
         "3.913104036542382",
         "3.9114723735506356",
         "3.8999730145709184",
         "3.9250148147861297",
         "3.9602034427558794",
         "3.911798459369593",
         "3.8970336834796035",
         "3.8982462584208997",
         "3.897961428589593",
         "3.9140780513317313",
         "3.91475653129288",
         "3.935142136482728",
         "3.9071798241308318",
         "3.914320763158551",
         "3.901167779966287",
         "3.9171236314102322",
         "3.914699559033842",
         "3.9235055864705233",
         "3.912806896580629",
         "3.9066166881792252",
         "3.9037037867758655",
         "3.9141760306200735",
         "3.9092936324640815",
         "3.9104266711152884",
         "3.9059920573256774",
         "3.923089603911065",
         "3.9101881454793648",
         "3.9106730227101734",
         "3.9076887290490037",
         "3.891805063895304",
         "3.9063279635247916",
         "3.9293300958840143",
         "3.9130131624921702",
         "3.910715778348874",
         "3.9267581741265944",
         "3.8959984447188516",
         "3.8850548096007302",
         "3.8588216004911318",
         "3.90041310422054",
         "3.91189115301411",
         "3.9071900075153674",
         "3.9562283299632037",
         "3.9098617653645014",
         "3.9115111057433576",
         "3.9091846629562226",
         "3.921254810345086",
         "3.908511000353007",
         "3.911494218359455",
         "3.906024542033808",
         "3.904341198626263",
         "3.9319216686078313",
         "3.9180018434507393",
         "3.8999830343840394",
         "3.904622401470127",
         "3.916845468647876",
         "3.7855213602211597",
         "3.9045397565207067",
         "3.911588979595014",
         "3.9085348015460433",
         "3.913157526276216",
         "3.9125408869484373",
         "3.948409652604864",
         "3.903997616288637",
         "3.910641351774728",
         "3.9069393933578827",
         "3.907868291327013",
         "3.9090514998925308",
         "3.913386696610505",
         "3.909003561064421",
         "3.8882767302215835",
         "3.915173156878365",
         "3.90514161318332",
         "3.9111470427080937",
         "3.91037092212043",
         "3.932379864619927",
         "3.9089147667241844",
         "3.9199798753132074",
         "3.910718124978797",
         "3.911536919099903",
         "3.9103129458383457",
         "3.907361826219992",
         "3.9339530493748023",
         "3.907617637003758",
         "3.91007474950425",
         "3.9372680286386146",
         "3.9113837876031465",
         "3.8814091123329058",
         "3.903709930130526",
         "3.913275038562141",
         "3.926630058280691",
         "3.91111393975337",
         "3.917849295906857",
         "3.919361530758968",
         "3.90884834698777",
         "3.9105163385965813",
         "3.9157038516496216",
         "3.915801044787133",
         "3.9138066930782855",
         "3.9084405481809266",
         "3.9060456790555427",
         "3.9088432307110303",
         "3.9366710470271475",
         "3.9596486055011635",
         "3.914681887720428",
         "3.9084985916857566",
         "3.9201939035077147",
         "3.97008396974963",
         "3.918788129308755",
         "3.917091684508419",
         "3.9109352902078176",
         "3.9194501856749193",
         "3.9093515250579722",
         "3.878468325145054",
         "3.9098432774763836",
         "3.9108622789226786",
         "3.9065563237521923",
         "3.9120801773821747",
         "3.9110535074305033",
         "3.9111754862225805",
         "3.9081402512384384",
         "3.9125266238566714",
         "3.9133830078939793",
         "3.929072336468859",
         "3.9148004704654067",
         "3.911027129169255",
         "3.899137361127718",
         "3.9054685728706984",
         "3.901970825629867",
         "3.9065253746668693",
         "3.922862092004143",
         "3.9017350515198608",
         "3.909643180432374",
         "3.896834340196414",
         "3.9071510885667755",
         "3.9012470122056677",
         "3.835436384703012",
         "3.914260277345198",
         "3.9146630950608285",
         "3.9133197327263938",
         "3.9112101075106835",
         "3.909826075390403",
         "3.914390795571781",
         "3.9191280415037286",
         "3.853676454401826",
         "3.9079698865952865",
         "3.863991053920889",
         "3.925948814357309",
         "3.9162236952350242",
         "3.8712689636324975",
         "3.9124211413853875",
         "3.9294101840202678",
         "3.9172156616813423",
         "3.8956359829096296",
         "3.9074056558951518",
         "3.907348900402374",
         "4.056175516881201",
         "3.9201596882487353",
         "3.9075829765618098",
         "3.906632218522974",
         "3.89036405322788",
         "3.914081379947853",
         "3.918727855578634",
         "3.876309425386879",
         "3.914882193635637",
         "3.9083100891466143",
         "3.897572682525874",
         "3.926096635302594",
         "3.909381103614667",
         "3.9113861916709904",
         "3.888639229625958",
         "3.8911829164118705",
         "3.864707387106061",
         "3.91116900945521",
         "3.927813564094093",
         "3.8909109931637835",
         "3.910540397956209",
         "3.9112697014659554",
         "3.8913909193438667",
         "3.910332090925193",
         "3.9108819384148403",
         "3.910984984932033",
         "3.918841868929395",
         "3.9149891830453414",
         "3.889455110086654",
         "3.8697844444743206",
         "3.912186514751153",
         "3.8878016924529795",
         "3.8688437141627667",
         "3.9077942665409258",
         "3.9076490270521385",
         "3.910163041993525",
         "3.910539201164706",
         "3.904309991592416",
         "3.9659405321116785",
         "3.9111606917896515",
         "3.911120979888017",
         "3.902868481075021",
         "3.911649774507246",
         "4.008620811366181",
         "3.909656014386149",
         "3.926782640744864",
         "3.912484272403558",
         "3.9253167185373967",
         "3.9033653400522748",
         "3.9122492467766383",
         "3.9120467578823312",
         "3.912087128227404",
         "3.9095667139867714",
         "3.909621409975774",
         "3.9197007879324475",
         "3.909176097266527",
         "3.909717513013006",
         "3.90832765270206",
         "3.9010495722309204",
         "3.90856948990064",
         "3.9068975146098124",
         "3.9073880206275287",
         "3.941694510071708",
         "3.915508940349911",
         "3.9175659213332708",
         "3.956479266008626",
         "3.926249705728829",
         "3.9133399605110717",
         "3.8977661950957425",
         "3.907320022110631",
         "3.9127687047737005",
         "3.8964303097972337",
         "3.90176336365903",
         "3.9074678994545184",
         "3.911528533476188",
         "3.908611795933647",
         "3.9121589887200137",
         "3.9129130847285283",
         "3.912271573624498",
         "3.927586549008117",
         "3.9161578306859113",
         "3.9189750038601328",
         "3.9122654111968473",
         "3.918785471991692",
         "3.9112096305892057",
         "3.9060016903446235",
         "3.901497166023832",
         "3.908501966677902",
         "3.909557912330768",
         "3.9446911913654703",
         "3.919484377978138",
         "3.8870631434920346",
         "3.9122443685387984",
         "3.8600028266551853",
         "3.8956349073278957",
         "3.8833077383843704",
         "3.900002887641776",
         "3.888477165051454",
         "3.8799686707280245",
         "3.891313362367068",
         "3.9102569457350516",
         "3.919301979015257",
         "3.909252634211043",
         "3.916265129741955",
         "3.910941159817875",
         "3.9097941993759484",
         "3.9081279390539336",
         "3.9166748549078223",
         "3.9098082997616515",
         "3.933628004100256",
         "3.9066283850244696",
         "3.9004577384361623",
         "3.9101286131714215",
         "3.91225113984295",
         "3.9009240962548235",
         "3.9344437422910126",
         "3.904468823353343",
         "3.903002304667629",
         "3.9263893354303523",
         "3.9153830874992623",
         "3.908135395864896",
         "3.9154045895303256",
         "3.9076108740676907",
         "3.8956825037736804",
         "3.9078957154134883",
         "3.9167199265437933",
         "3.9234246721589643",
         "3.916355859209998",
         "3.8806351077431405",
         "3.9061441905159406",
         "3.910379802766875",
         "3.931373875431035",
         "3.9279372556129175",
         "3.8073194409520768",
         "3.91820655971695",
         "3.909670149591038",
         "3.9022844170164412",
         "3.9049577466513146",
         "3.902301730591567",
         "3.9123573974566925",
         "3.910541015266721",
         "3.9300774125255513",
         "3.91698249906374",
         "3.913073389411527",
         "3.913764329663285",
         "3.901494003362834",
         "3.9138702416710283",
         "3.9171810453946594",
         "3.918039903844165",
         "3.8597157416997834",
         "3.9414862824433063",
         "3.9109984837578566",
         "3.9032160627568544",
         "3.9117267318523967",
         "3.9464644033763108",
         "3.906560165798546",
         "3.909854738096955",
         "3.890450450566988",
         "3.9116404628363504",
         "3.8976092929037973",
         "3.964983275640696",
         "3.913066813927736",
         "3.9084454767699217",
         "3.8954035841859995",
         "3.9066365019583196",
         "3.918007117900071",
         "3.9067943977169595",
         "3.910540440317717",
         "3.9114353492382503",
         "3.9121334975175075",
         "3.903474464606097",
         "3.9144275643046025",
         "3.930434482481987",
         "3.9262973427739527",
         "3.9167682803682693",
         "3.9253087735320102",
         "3.8936237661898403",
         "3.8977765210093995",
         "3.9149100937041315",
         "3.906921126662008",
         "3.923559647243164",
         "3.924426140545644",
         "3.8944202031227806",
         "3.906338554939994",
         "3.916362819463832",
         "3.905241896336787",
         "3.8967117849389483",
         "3.915289594301958",
         "3.907607716174417",
         "3.9083583543963423",
         "3.9198734175402064",
         "3.896847882454953",
         "3.909341716910731",
         "3.9031575826722267",
         "3.9112998264167746",
         "3.9246036044196964",
         "3.909878040754988",
         "3.895617587342755",
         "3.9112555938131406",
         "3.911622976883456",
         "3.910482717714451",
         "3.9099886604069383",
         "3.916487007963364",
         "3.9090669706710406",
         "3.9083241102081914",
         "3.939154905691128",
         "3.919213240355911",
         "3.9105150239335718",
         "3.91152415895978",
         "3.91111439585224",
         "3.8611006367380747",
         "3.9194113373423485",
         "3.9209652998932323",
         "3.906908332574241",
         "3.8523955628705004",
         "3.9113018897771106",
         "3.8882559642012198",
         "3.909824301253528",
         "3.930329695041012",
         "3.9046335037842175",
         "3.9118819488910286",
         "3.9224389020395263",
         "3.888153571955899",
         "3.911817537008103",
         "3.9171973278527994",
         "3.876636580313046",
         "3.909577561806347",
         "3.9102185739983857",
         "3.9683888969346763",
         "3.9218391468770966",
         "3.917374705516274",
         "3.89817209471032",
         "3.9123067076174225",
         "3.924767936560581",
         "3.9140925079094147",
         "3.8992493160983868",
         "3.9028839682578784",
         "3.918245278143758",
         "3.916103570367881",
         "3.922006758420978",
         "3.907240720316451",
         "3.907871647683583",
         "3.9157813103838963",
         "3.8935962413531118",
         "3.911156532967299",
         "3.914988567186613",
         "3.9511863233441242",
         "3.9061511297641522",
         "3.912379725996988",
         "3.907897631691215",
         "3.9143328883954354",
         "3.9081561810064747",
         "3.9218437317383104",
         "3.86167316946533",
         "3.9077672859764805",
         "3.9148981793201947",
         "3.9110206736784945",
         "3.9116872845874053",
         "3.9088480403469332",
         "3.898062992886366",
         "3.927680155308308",
         "3.916586863069213",
         "3.9196590003628464",
         "3.9009620854300056",
         "3.890740269860396",
         "3.9285263422981425",
         "3.858456819461527",
         "3.8767637062068117",
         "3.911854904425696",
         "3.9071313302843205",
         "3.9001921739797374",
         "3.9086515482299",
         "3.8880113496848208",
         "3.9178874449000163",
         "3.921853300906628",
         "3.903753839069436",
         "3.8945092720353545",
         "3.9145595302276424",
         "3.924078122367357",
         "3.92560083686994",
         "3.936874314483448",
         "3.9110838944429833",
         "3.9148955601774498",
         "3.895601955098501",
         "3.9161527354612917",
         "3.9004691559240015",
         "3.9114539728018896",
         "3.908141199452037",
         "3.9699626332152604",
         "3.901724534280428",
         "3.91413502094481",
         "3.9175187308986406",
         "3.918402710602796",
         "3.9054322535667283",
         "3.9224747067447225",
         "3.9285301083142796",
         "3.9329732539967397",
         "3.9017460840895968",
         "3.9107306077865984",
         "3.9139697069293726",
         "3.9230370258469796",
         "3.9166380221069126",
         "3.913322404550482",
         "3.890382785885062",
         "3.9073740179539223",
         "3.908963423404567",
         "3.91331160719877",
         "3.9102686572373258",
         "3.911058988436499",
         "3.9085150435993192",
         "3.9237943780410824",
         "3.9102632691260832",
         "3.9211286362038043",
         "3.9213365548972177",
         "3.9566182969263917",
         "3.902796865134033",
         "3.9285183533441814",
         "3.9854591274524207",
         "3.917512091678733",
         "3.913277180547498",
         "3.9146441727513697",
         "3.9304093677510106",
         "3.8911236348599005",
         "3.9112403588853315",
         "3.917011299915075",
         "3.8830774318810195",
         "3.911015758387263",
         "3.9142577316171825",
         "3.911611547199757",
         "3.845233608338327",
         "3.9145086168840377",
         "3.8016916530769143",
         "3.864790685378648",
         "3.911653517670371",
         "3.887467671468446",
         "3.9167996923301636",
         "3.900982899754353",
         "3.907581215470067",
         "3.9202145340665755",
         "3.903086610565186",
         "3.9397404703512064",
         "3.9122587449833555",
         "3.903853173092502",
         "3.879007944302705",
         "3.908430742872916",
         "3.9163957178311017",
         "3.912176505254934",
         "3.9076424875302296",
         "3.9064027656821563",
         "3.948012659747992",
         "3.9149810042321547",
         "3.919505425684125",
         "3.911004815561484",
         "3.9111012839935073",
         "3.9133149672667322",
         "3.9575768700151928",
         "3.9267443399009423",
         "3.911998591785303",
         "3.9278880433384558",
         "3.8827677920314145",
         "3.90814006243026",
         "3.9224933586939037",
         "3.914827821402263",
         "3.916675900884399",
         "3.9489695618827994",
         "3.9156449857220443",
         "3.9128645755377303",
         "3.9084588307920045",
         "3.8193403561008967",
         "3.905563788423986",
         "3.9286273008658132",
         "3.914848760145677",
         "3.9143663379582954",
         "3.9078991483866736",
         "3.9112658684486856",
         "3.9243644791410257",
         "3.9174263683030266",
         "3.9083202943745587",
         "3.920172838413553",
         "3.910672293860795",
         "3.9396924719298516",
         "3.922068949268621",
         "3.910872268370105",
         "3.9401195022728914",
         "3.8947238164787157",
         "3.8363210949776785",
         "3.9621432251868565",
         "3.911296444078918",
         "3.902834904184962",
         "3.911342368868225",
         "3.90569908225683",
         "3.8999030272277952",
         "3.916935680595042",
         "3.926605732573313",
         "3.913642469805976",
         "3.9131515643950183",
         "3.9450028934369783",
         "3.8970416230714844",
         "3.9095767811075315",
         "3.9259688700494326",
         "3.9014396290345763",
         "3.9102137840818614",
         "3.9681569345031806",
         "3.910789207130407",
         "3.8999719786264246",
         "3.9131643747521796",
         "3.8487645792213248",
         "3.925508557954804",
         "3.9067041437098164",
         "3.9126472582935685",
         "3.9151423585549727",
         "3.9149037871830497",
         "3.9103413114755643",
         "3.939710341518885",
         "3.905410049030094",
         "3.9310042466869954",
         "3.909719189148515",
         "3.900140449945771",
         "3.913960102836033",
         "3.9236785215421923",
         "3.9132792801727287",
         "3.9191462079898054",
         "3.9157016301413177",
         "3.9437576192935104",
         "3.906006820341095",
         "3.9238231687419782",
         "3.908332214770105",
         "3.911378642431571",
         "3.9208298806585122",
         "3.917189548171693",
         "3.9017854599362627",
         "3.9100893990021417",
         "3.909417921222464",
         "3.91109780929043",
         "3.920087071990037",
         "3.9009726802129356",
         "3.9090068727345932",
         "3.9110330213530062",
         "3.927278227379054",
         "3.9131779264650253",
         "3.9166435309186594",
         "3.907310833595068",
         "3.9279931496972256",
         "3.930216795435094",
         "3.9062621527511543",
         "3.9302865915408254",
         "3.918247806996551",
         "3.9064372723189287",
         "3.9336343999813317",
         "3.906021102758187",
         "3.9103243063664634",
         "3.927380947255915",
         "3.9133497972618234",
         "3.980572526272752",
         "3.9041606016554478",
         "3.9199362690459103",
         "3.8167467558479813",
         "3.9045411190079977",
         "3.9078464002796833",
         "3.9109754374996193",
         "3.922412257526952",
         "3.9120896626927766",
         "3.9109759706439386",
         "3.878281682547053",
         "3.9125375748127222",
         "3.893936129398167",
         "3.8992119145969997",
         "3.9115344076152976",
         "3.906515576825721",
         "3.918314026506133",
         "3.9074369467944656",
         "3.896721668718726",
         "3.9052755810949087",
         "3.920480829051932",
         "3.9130156829898564",
         "3.87886512020664",
         "3.872281928363144",
         "3.8676440995749464",
         "3.8584880323152975",
         "3.8695117655827227",
         "3.9203746639063173",
         "3.9217536495140184",
         "3.913171985434728",
         "3.91321571786898",
         "3.923142176617722",
         "3.9131072457219873",
         "3.921471255518506",
         "3.9095114814426504",
         "3.9117147167153603",
         "4.007027654912898",
         "3.9109660611742454",
         "3.91147435624894",
         "3.9093454324597086",
         "3.8918893910021226",
         "3.906940182227141",
         "3.8900417344832037",
         "3.91010015650323",
         "3.839877093562918",
         "3.9231375425979804",
         "3.9141582235449195",
         "3.90735287947038",
         "3.872604452302348",
         "3.9021484271459332",
         "3.898743153570145",
         "3.9128897207214",
         "3.9113525317715108",
         "3.919950785105013",
         "3.9074595703443076",
         "3.926285034801108",
         "3.904302618796086",
         "3.830363707929861",
         "3.9070710756463196",
         "3.9291812170722333",
         "3.8944670090242126",
         "3.9053210341097655",
         "3.961221271242038",
         "3.890328957244932",
         "3.9284188865443688",
         "3.9145061620144324",
         "3.901645983757115",
         "3.9060969927629823",
         "3.907481861714864",
         "3.90695728503707",
         "3.912912887823806",
         "3.9123782537693055",
         "3.862847187458619",
         "3.9126840793125086",
         "3.8996101803316403",
         "3.906696442321144",
         "3.964500566422218",
         "3.870268781270455",
         "3.9079067665108966",
         "3.9107020521268394",
         "3.9062546050627986",
         "3.8806464935355427",
         "3.9555863128615876",
         "3.9146370317920516",
         "3.91324464138524",
         "3.91208388781599",
         "3.8879027847941767",
         "3.9386158545150316",
         "3.9183308769010794",
         "3.929467294303125",
         "3.9435887000531635",
         "3.9246644702032687",
         "3.924238801056728",
         "3.91064833658169",
         "3.9234864344982623",
         "3.9135534914743024",
         "3.916002837569299",
         "3.910545106706212",
         "3.906379417628717",
         "3.9109986472895795",
         "3.8922787409361335",
         "3.9126849958606544",
         "3.8774106764871137",
         "3.9089959491461275",
         "3.923891759111254",
         "3.937796806098503",
         "3.8962628633750405",
         "3.913845849589363",
         "3.9113177247142223",
         "3.847666919518895",
         "3.8180354161701584",
         "3.9174388910840965",
         "3.9160526654533427",
         "3.914830445490026",
         "3.9237928157558777",
         "3.912259578120501",
         "3.908080500520873",
         "3.9100096765733707",
         "3.9088367891771307",
         "3.908457124899035",
         "3.907365476969944",
         "3.9116464577747494",
         "3.9059543140751543",
         "3.922185095643299",
         "3.8813475688008974",
         "3.92723926932164",
         "3.9688510493205067",
         "3.869710753445419",
         "3.874307353623657",
         "3.8926762855921577",
         "3.9143661810692474",
         "3.883147067735191",
         "3.910143752643",
         "3.9138365589315214",
         "3.9083868480736617",
         "3.9107582335832887",
         "3.9099419982349706",
         "3.9427237731862546",
         "3.903252011604703",
         "3.9329507394737555",
         "3.9124710580309308",
         "3.911158181541503",
         "3.8971478260258325",
         "3.9098445286234744",
         "3.917427236244295",
         "3.900841856287893",
         "3.9015968742571556",
         "3.9153188443030174",
         "3.882263745757885",
         "3.9244765709984115",
         "3.8956644746744966",
         "3.9113377202404234",
         "3.9048050064038864",
         "3.905777965602745",
         "3.9134313593021135",
         "3.9110309273724995",
         "3.9009989614618834",
         "3.9106692219789627",
         "3.9086476944583763",
         "3.9111153846384834",
         "3.9123854399793814",
         "3.884693304546404",
         "3.910105351991145",
         "3.9011236052631415",
         "3.9112165295472345",
         "3.9171858155174313",
         "3.8871253486833157",
         "3.922166404544717",
         "3.9463849776289823",
         "3.908341121667906",
         "3.897689897235739",
         "3.9144797420987625",
         "3.902325223082053",
         "3.8909616164667225",
         "3.900630731691005",
         "3.8947287135808955",
         "3.9008221611155784",
         "3.8946609880893313",
         "3.9147574961303064",
         "3.917976655453807",
         "3.9026331139888937",
         "3.901830293767611",
         "3.8966578293903353",
         "3.9292852618926823",
         "3.911817745142876",
         "3.915016366400337",
         "3.9130763095409327",
         "3.854532600690622",
         "3.9274583914024066",
         "3.91091290164602",
         "3.91106429465574",
         "3.9706352893961845",
         "3.9099172285675308",
         "3.8988783304686745",
         "3.90939710181449",
         "3.8865363007224283",
         "3.9483980523046847",
         "3.925394677168675",
         "3.912691498089854",
         "3.926677432166196",
         "3.9102596801080427",
         "3.91359451766544",
         "3.879640276750737",
         "3.888219565058493",
         "3.8926978637402385",
         "3.932608838773041",
         "3.9109566737849493",
         "3.906363225548838",
         "3.91474098476006",
         "3.9134878489846714",
         "3.8445464460538563",
         "3.920349846175307",
         "3.918163669455471",
         "3.93739784189709",
         "3.8921402751133662",
         "3.922064593660769",
         "3.947670047835019",
         "3.9072921825153397",
         "3.924819078990687",
         "3.912263608441222",
         "3.902649011468525",
         "3.915696533131714",
         "3.8733751453616434",
         "3.8903350390147495",
         "3.9017625795619115",
         "3.9020190853806644",
         "3.9129955549435484",
         "3.9139228683467393",
         "3.908489944773765",
         "3.907016834002915",
         "3.9216384390032992",
         "3.9164073520764378",
         "3.8714606855812392",
         "3.8969225366581246",
         "3.91621532877883",
         "3.915292774951576",
         "3.913887122523848",
         "3.9154835315161547",
         "3.921602491263479",
         "3.908345249793013",
         "3.912881786802652",
         "3.924555066260212",
         "3.909678027350461",
         "3.9191495730942045",
         "3.910618444025343",
         "3.9249447369052235",
         "3.910627148930296",
         "3.9089100523362696",
         "3.9060268478428166",
         "3.921615866022594",
         "3.9111428094901592",
         "3.919008759134772",
         "3.915442344814768",
         "3.9287943562627086",
         "3.9241122430192177",
         "3.9255063236948344",
         "3.9020237516870937",
         "3.911217436914307",
         "3.913955505211851",
         "3.921562334993456",
         "3.9122885676484085",
         "3.911464824552999",
         "3.920034143236516",
         "3.913418922186141",
         "3.9166157692518957",
         "3.913910685824596",
         "3.9135964520994793",
         "3.910577947261555",
         "3.923461912823",
         "3.8964416483850646",
         "3.9018640078131077",
         "3.8735812941291523",
         "3.891682473329938",
         "3.9101351251721246",
         "3.912305595406555",
         "3.971817503644057",
         "3.9511295147352334",
         "3.909786624519316",
         "3.9120440560538006",
         "3.9123602372297763",
         "3.914333571039644",
         "3.9064693129610197",
         "3.9461826069976995",
         "3.9357651009176693",
         "3.9090574255722608",
         "3.9106722208846167",
         "3.9087768888803516",
         "3.9117731568160345",
         "3.935607707225078",
         "3.9185425244254257",
         "3.9079219877793907",
         "3.8739364956588025",
         "3.856711382460707",
         "3.8882161247664464",
         "3.914286648806216",
         "3.9053441358652052",
         "3.920622490094909",
         "3.9161423480383815",
         "3.9265108109713656",
         "3.8978235105887022",
         "3.9150065609655353",
         "3.92230676559319",
         "3.899377755617077",
         "3.9304412530232424",
         "3.922394409165222",
         "3.884606974491902",
         "3.925356951359296",
         "3.918069928039373",
         "3.915994398574622",
         "3.9105611409291057",
         "3.9234044577157223",
         "3.9134931791961343",
         "3.8954695704152784",
         "3.9101308594401605",
         "3.9104516312468074",
         "3.91157017188822",
         "4.001480167285774",
         "3.883410212494283",
         "3.8430328806007457",
         "3.901736660191034",
         "3.9135374614769343",
         "3.916123087834944",
         "3.9192938156184796",
         "3.8228118017071155",
         "3.9028462665951267",
         "3.916685790258174",
         "3.9065418829198855",
         "3.911565867679411",
         "3.9108688533234885",
         "3.9022209354109427",
         "3.9111142929191933",
         "3.923333221382036",
         "3.9156826576947394",
         "3.912233700698732",
         "3.9106944346575383",
         "3.9071310096502976",
         "3.906813211615295",
         "3.9133411369639743",
         "3.9123522480615014",
         "3.909764365552577",
         "3.9047222280994545",
         "3.907927086193841",
         "3.9331592482864672",
         "3.910904407406787",
         "3.8510890192329987",
         "3.924296140032534",
         "3.9239349560545835",
         "3.9116622039254727",
         "3.914349867121333",
         "3.9269830444641385",
         "3.9128318073944834",
         "3.9107656844717322",
         "3.890740042112924",
         "3.907472702431482",
         "3.929045136461036",
         "3.9077224011660086",
         "3.914775987349562",
         "3.9139742664804333",
         "3.901387083627091",
         "3.9139900800227014",
         "3.9174986680695834",
         "3.9175525274313023",
         "3.9112569215040187",
         "3.9047655634665808",
         "3.9106179320407133",
         "3.9117571126443003",
         "3.9067728265510566",
         "3.9039812281288797",
         "3.881042927298266",
         "3.91461706303459",
         "3.9052924977866357",
         "3.9329019014180115",
         "3.9160592840909603",
         "3.921886806130237",
         "3.922369875873183",
         "3.915210126350445",
         "3.913917655548008",
         "3.9012342215334663",
         "3.914888881000938",
         "3.9061941665533264",
         "3.9064299549863613",
         "3.908021214649835",
         "3.9065131845519234",
         "3.9004347882194397",
         "3.907600070541616",
         "3.9111944381711417",
         "3.8275086795660362",
         "3.892492042791481",
         "3.9601126578663854",
         "3.924349937924587",
         "3.911386740624185",
         "3.9109864398770875",
         "3.919167375052832",
         "3.9128454696601755",
         "3.911581633244468",
         "3.912759087346563",
         "3.9160971255909085",
         "3.8999071818209727",
         "3.91035155510255",
         "3.913965603207392",
         "3.90393525761141",
         "3.913761631677031",
         "3.9099426045809578",
         "3.897232274910773",
         "3.916116943729919",
         "3.9101313066622505",
         "3.950351927522139",
         "3.8884880739943615",
         "3.864937561336786",
         "3.9357309355605006",
         "3.9195951979521393",
         "3.903417957882801",
         "3.9126440143662804",
         "3.950303277705835",
         "3.9136918911040834",
         "3.8790170806237216",
         "3.90139114805674",
         "3.9104822196112274",
         "3.909021086713731",
         "3.915165086737065",
         "3.916380921276649",
         "3.9095935800975297",
         "3.905023976899448",
         "3.911862328111351",
         "3.9118724302315147",
         "3.914278997275295",
         "3.8991947748307054",
         "3.9109235677612313",
         "3.9103991030321783",
         "3.918168390830765",
         "3.9153241099930423",
         "3.9087568470171896",
         "3.909358780946782",
         "3.912018377081192",
         "3.9118949368950626",
         "3.861413988884679",
         "3.8935654905040935",
         "3.9071354667751295",
         "3.9087569360009775",
         "3.914390188294649",
         "3.930604747948352",
         "3.909149241370759",
         "3.9009433780841687",
         "3.9034583522635815",
         "3.9245506464597035",
         "3.912626544530901",
         "3.9170524796937483",
         "3.8597322926100013",
         "3.9166696314644023",
         "3.9106824268877394",
         "3.9070461805799703",
         "3.91434987923536",
         "3.921181199610004",
         "3.9110603238425017",
         "3.910666078090653",
         "3.9113488181772698",
         "3.9227069108468897",
         "3.909007399446454",
         "3.939022029850307",
         "3.911481130295176",
         "3.9113647544895147",
         "3.9112502887552267",
         "3.920280125449616",
         "3.9101475302158004",
         "3.9131571887988215",
         "3.9138381049199866",
         "3.9107466968002758",
         "3.9145178972435923",
         "3.909609910017644",
         "3.9064976670537286",
         "3.91703810217896",
         "3.909045449520261",
         "3.9202000590485593",
         "3.916135614339093",
         "3.911153704298657",
         "3.9124247896506565",
         "3.909589563020643",
         "3.914797122886736",
         "3.911336363431825",
         "3.907884245997612",
         "3.931251400647001",
         "3.9146920479923555",
         "3.912367463838939",
         "3.917889977414274",
         "3.9156414355963216",
         "3.9189557887389666",
         "3.922633926261765",
         "3.911775846497057",
         "3.9132475552101456",
         "3.9155028631333164",
         "3.9076605168903678",
         "3.908272261729641",
         "3.8991027567711027",
         "3.8385461872282525",
         "3.922927432784289",
         "3.8957041577620393",
         "3.909675949089631",
         "3.901692437220452",
         "3.909447832492198",
         "3.9094949842638935",
         "3.916884103992843",
         "3.9113358877666187",
         "3.918117332891766",
         "3.9081154684743273",
         "3.881636113084734",
         "3.8948385988622367",
         "3.906364749407783",
         "3.914871090971986",
         "3.900383942570238",
         "3.9021173955156088",
         "3.91101860685886",
         "3.907732344150624",
         "3.9155657103819737",
         "3.903094509206399",
         "3.8885564289234793",
         "3.900478407260504",
         "3.915422807090154",
         "3.934812867987071",
         "3.9174510189241127",
         "3.924969070243544",
         "3.910956485850438",
         "3.9123089123715435",
         "3.907004789331731",
         "3.9067730796471887",
         "3.911107292650919",
         "3.911196056199504",
         "3.9157032488448564",
         "3.8722150992192725",
         "3.9146830233145065",
         "3.8886609318565997",
         "3.8979868341922277",
         "3.898293232661906",
         "3.922010311488576",
         "3.8993109255666503",
         "3.8782958890453285",
         "3.933546254523294",
         "3.912030371177473",
         "3.9046472960365315",
         "3.9058128799234937",
         "3.917411100168613",
         "3.906578510803807",
         "3.9106011166122374",
         "3.8916962772392667",
         "3.9114677592112086",
         "3.9063868724307005",
         "3.9051265553657846",
         "3.803071919221861",
         "3.907050169562878",
         "3.9061888019006945",
         "3.931098739856537",
         "3.936163428387722",
         "3.9098087241276853",
         "3.9113622570842552",
         "3.9225941481902438",
         "3.9105421260438606",
         "3.9095623005778233",
         "3.9138620656510854",
         "3.9267977131258816",
         "3.9163690900857575",
         "3.9442259335403973",
         "3.903524381666976",
         "3.9309906279946394",
         "3.9161268100444238",
         "3.9224962036196147",
         "3.898116117201279",
         "3.90910799123778",
         "3.9221071677913937",
         "3.895119858118742",
         "3.9209380216853007",
         "3.9014050454208213",
         "3.9207250395750943",
         "3.901208928773478",
         "3.920232447219125",
         "3.9048770029933144",
         "3.9131322352231863",
         "3.901821552306256",
         "3.9063546542822754",
         "3.911170226864527",
         "3.929585805863827",
         "3.915807342496685",
         "3.8924708176087015",
         "3.884386224231402",
         "3.9604180176750945",
         "3.8675725279999837",
         "3.9273515519294744",
         "3.924700248185649",
         "3.910267525082523",
         "3.897121680418275",
         "3.9112912378608606",
         "3.91875920979592",
         "3.9137643867480096",
         "3.9121018924285873",
         "3.897103237693529",
         "3.9111687172322993",
         "3.922889972872711",
         "3.899428568794276",
         "3.909864896943029",
         "3.9150823107353174",
         "3.913743229382341",
         "3.9105923168087138",
         "3.9239422251184193",
         "3.9136366086335834",
         "3.87121547732601",
         "3.9089741884284024",
         "3.9012453249119936",
         "3.9137837556092268",
         "3.907536885795589",
         "3.9138232336783134",
         "3.914302658614558",
         "3.9413594288835943",
         "3.908742793091613",
         "3.9173485427531336",
         "3.903719448268618",
         "3.9162516719655405",
         "3.902541175518449",
         "3.91934471437949",
         "3.9001549996934997",
         "3.9198332540350407",
         "3.9317814697299553",
         "3.9087862069207526",
         "3.9082770774841213",
         "3.9077546374402474",
         "3.912477121999982",
         "3.925378421517606",
         "3.8986093358629432",
         "3.9144450604059746",
         "3.928849732603019",
         "3.9321216246306037",
         "3.8953385103458755",
         "3.921006632060544",
         "3.9230680345985482",
         "3.9153946572371954",
         "3.9107602194925635",
         "3.9036349848433516",
         "3.886042572796675",
         "3.9208632762917968",
         "3.917761032830234",
         "3.9160894355083573",
         "3.8812061044719477",
         "3.9232203173439903",
         "3.9039965014216027",
         "3.9095578197044674",
         "3.906541220012855",
         "3.8992940303408257",
         "3.9205406363294903",
         "3.9070923515941134",
         "3.9161323935966306",
         "3.9097473581335636",
         "3.896925405017131",
         "3.9199166144705866",
         "3.913935295878429",
         "3.9144409457218803",
         "3.9091070444537013",
         "3.902152958928951",
         "3.911957394525902",
         "3.9110635160213842",
         "3.911264901919923",
         "3.9073517945567717",
         "3.9114880122320383",
         "3.9073260463236053",
         "3.9175522205300584",
         "3.9105205770483225",
         "3.905952476904942",
         "3.9136596215983803",
         "3.9124199718877466",
         "3.9052235291299278",
         "3.9110850074158394",
         "3.890902190296806",
         "3.9098180236155153",
         "3.901481478420149",
         "3.9154881017745824",
         "3.922314994106381",
         "3.90464508531453",
         "3.9249787298511287",
         "3.8705236845088336",
         "3.9137313584168276",
         "3.913959377762117",
         "3.9115916128993993",
         "3.9172970373102567",
         "3.9097183510160107",
         "3.914765950166799",
         "3.9181602039356695",
         "3.9176438406270444",
         "3.911601355151188",
         "3.9113145661029836",
         "3.911867086552803",
         "3.9045909955599827",
         "3.911158181541503",
         "3.9009355878180205",
         "3.9034854465865734",
         "3.949553195276629",
         "3.9309620152532654",
         "3.8947484417112315",
         "3.9093367769356897",
         "3.9149011851888664",
         "3.9077681010967957",
         "3.9369976011217838",
         "3.9286495689864296",
         "3.902212455591825",
         "3.9086152137202683",
         "3.9241160967202537",
         "3.9118835446687625",
         "3.909995789451607",
         "3.911755818764973",
         "3.9230424788063814",
         "3.900979156939391",
         "3.908538808373558",
         "3.9146554118671415",
         "3.908520197784923",
         "3.9318523272956236",
         "3.917343728468041",
         "3.9117554710559226",
         "3.8936677480709085",
         "3.869092701835905",
         "3.9194468432620497",
         "3.9183201644991286",
         "3.911102484646655",
         "3.912273814751167",
         "3.877661890419322",
         "3.9070318509162694",
         "3.9282951950122467",
         "3.9110893827263418",
         "3.9127720300044198",
         "3.9123960279225924",
         "3.904375301048593",
         "3.9125825962501435",
         "3.904747237030742",
         "3.9204767174737634",
         "3.910510433095779",
         "3.9088398939711966",
         "3.9158746235400006",
         "3.910335463881315",
         "3.9168209771212",
         "3.9105587028859095",
         "3.90549278587417",
         "3.9160739619221925",
         "3.9086468773352174",
         "3.906989720501421",
         "3.9293836418156483",
         "3.925982557342188",
         "4.017766358574841",
         "3.9113740298172015",
         "3.9145314809702114",
         "3.911158181541503",
         "3.9141511613572426",
         "3.9091089828499554",
         "3.906671536556958",
         "3.912977750120657",
         "3.9120972481516123",
         "3.9206140314324305",
         "3.9109210940817882",
         "3.896589219685233",
         "3.885906941769943",
         "3.9194246082095696",
         "3.9111717120852587",
         "3.9068354623630444",
         "3.9074144225975354",
         "3.90969798653821",
         "3.876084906487733",
         "3.838472797518428",
         "3.89861483254416",
         "3.9189376683013646",
         "3.905539673042285",
         "3.916543995816418",
         "3.9111713063081",
         "3.911288113555581",
         "3.9102021416945516",
         "3.919341508069654",
         "3.9148983528784056",
         "3.9138553418810615",
         "3.93073145830324",
         "3.9194758254310353",
         "3.9145435695461615",
         "3.9089073073321488",
         "3.929607296701649",
         "3.9072922142065662",
         "3.9127874458806735",
         "3.905698315473117",
         "3.886776697754943",
         "3.913841820416618",
         "3.9097253321337595",
         "3.903667902303013",
         "3.9619972776185706",
         "3.909312533714425",
         "3.9167670571968882",
         "3.9225430529124705",
         "3.963593788064219",
         "3.911271033456565",
         "3.9110536993492686",
         "3.922471701134763",
         "3.8834609747290085",
         "3.905140265367231",
         "3.8912038629517673",
         "3.9086520326938046",
         "3.909548696060811",
         "3.9123393407683404",
         "3.9121991874074604",
         "3.896167838332363",
         "3.9181263700523488",
         "3.8829906986445484",
         "3.9117169224909785",
         "3.9310488852266907",
         "3.921306480448212",
         "3.923445305350762",
         "3.900047802289994",
         "3.90930965500728",
         "3.9084790508990737",
         "3.9160410231910605",
         "3.9097441682071343",
         "3.935135711410192",
         "3.904182300377273",
         "3.91368369759884",
         "3.9121944807276963",
         "3.9114977540399405",
         "3.913928695238745",
         "3.9145791677322332",
         "3.916786049530079",
         "3.923392954945722",
         "3.8885375005337712",
         "3.9015515498924715",
         "3.904703151795857",
         "3.9538227380439888",
         "3.9720219766156677",
         "3.9286620874683016",
         "3.9138635079727258",
         "3.845885557676917",
         "3.910071354199156",
         "3.8987893782939747",
         "3.9204137183757557",
         "3.915680149890605",
         "3.921819849295092",
         "3.9040981749126993",
         "3.8823689603323905",
         "3.864771099620423",
         "3.8628410657158763",
         "3.8484276579836325",
         "3.9170263429659014",
         "3.9197832216154933",
         "3.9532840119998474",
         "3.8679356254532076",
         "3.8767807722584773",
         "3.905902140117767",
         "3.8943897213663874",
         "3.918949333218676",
         "3.8970043858330183",
         "3.8833333259584437",
         "3.9104557848170534",
         "3.9335301941633514",
         "3.9353143812070965",
         "3.908148509345517",
         "3.9333589147682964",
         "3.8995113855245385",
         "3.913685852393099",
         "3.843442603695178",
         "3.8958103369057526",
         "3.911032723700719",
         "3.902503327654535",
         "3.9171490957281088",
         "3.890345446265159",
         "3.9007052615670443",
         "3.912968562732619",
         "3.9097587999230417",
         "3.9155512695880126",
         "3.8955208203947618",
         "3.923235764391522",
         "3.9036871803049165",
         "3.891695989166171",
         "3.900605349703973",
         "3.8990749058789116",
         "3.9107832781620626",
         "3.8904699320558667",
         "3.983481306487555",
         "3.9147051599584435",
         "3.91072668897972",
         "3.8947701931476746",
         "3.881330241001502",
         "3.910321615607464",
         "3.872457045792108",
         "3.902208294704587",
         "3.900891162091316",
         "3.899010624503329",
         "3.899805240227128",
         "3.889314978887033",
         "3.9098381017839836",
         "3.9100539921825446",
         "3.932655850096086",
         "3.910398902175086",
         "3.9075287038771966",
         "3.9182312800769097",
         "3.91744648244321",
         "3.9174097329775135",
         "3.870794604457299",
         "3.911887412558528",
         "3.9099442585236197",
         "3.9214700852849624",
         "3.9114683244923394",
         "4.114001161640084",
         "3.91028486105599",
         "3.910661574165847",
         "3.9528452339566518",
         "3.9111001212445045",
         "3.897760099267562",
         "3.9133121244429256",
         "3.8930574279948638",
         "3.86554669460131",
         "3.876227555008459",
         "3.9175882002924487",
         "3.955130162486656",
         "3.914753055734254",
         "3.923562398453481",
         "3.906794736420406",
         "3.9050266384907117",
         "3.9239321800293845",
         "3.912382433350944",
         "3.924147807811665",
         "3.915642264483489",
         "3.9462772716591914",
         "3.9005973660933435",
         "3.9055192036572826",
         "3.911868241198203",
         "3.920243870581729",
         "3.9282399909275107",
         "3.908832544682089",
         "3.891965282142185",
         "3.8979599807848295",
         "3.9318568463070225",
         "3.9122538343856728",
         "3.9026754334104505",
         "3.930919112282564",
         "3.9095319276477376",
         "3.92866399765438",
         "3.9150561289169343",
         "3.9061611351921948",
         "3.8809978309100397",
         "3.9266888216605307",
         "3.9200221506284656",
         "3.91109780929043",
         "3.9126829973636403",
         "3.90592766052463",
         "3.906787841515778",
         "3.9082224028472843",
         "3.8979353246176807",
         "3.913151145221246",
         "3.910988854175044",
         "3.893095513856996",
         "3.90778913003077",
         "3.907160082377026",
         "3.9101411163843833",
         "3.9303842505814583",
         "3.8929899486861026",
         "3.9135855679929294",
         "3.909396528488401",
         "3.925053983449101",
         "3.928425765209324",
         "3.9297280494187468",
         "3.919553069378285",
         "3.9154789947988706",
         "3.949660036536014",
         "3.915820024452768",
         "3.90808123911171",
         "3.886115287957515",
         "3.877779985097257",
         "3.918169175646658",
         "3.909362188669943",
         "3.8891000105470908",
         "3.905836439447929",
         "3.920769672991959",
         "3.9148826840792066",
         "3.927495018569306",
         "3.90818279025656",
         "3.9088744135036664",
         "3.9151680177642736",
         "3.906129141764409",
         "3.9107349689796216",
         "3.9145593978019355",
         "3.9397848485869678",
         "3.905809181882583",
         "3.9109962946792898",
         "3.9087583097279412",
         "3.916323842609337",
         "3.912949598228127",
         "3.910723297773557",
         "3.909842924378807",
         "3.9119419415762953",
         "3.905742253708177",
         "3.925632935840668",
         "3.92229865263037",
         "3.9056236341615214",
         "3.924447451168428",
         "3.9091788480514973",
         "3.9148345332129946",
         "3.901419576470232",
         "3.9043927149101663",
         "3.8969092825995535",
         "3.8894170806228128",
         "3.91029270896918",
         "3.910490889981204",
         "3.915238235870254",
         "3.916599750252837",
         "3.892808250345781",
         "3.939085072355171",
         "3.906605775501517",
         "3.9110527229553704",
         "3.9119075641555585",
         "3.910949263680468",
         "3.918501585125193",
         "3.912749306651422",
         "3.906831171206712",
         "3.90820502098711",
         "3.908142648955824",
         "4.022389681083345",
         "3.9118068389463936",
         "3.897945685407654",
         "3.9154114206477053",
         "3.922225090526568",
         "4.084156572215961",
         "3.9084817275290296",
         "3.9101185445546105",
         "3.8756284545254776",
         "3.8920408462368905",
         "3.911996519397786",
         "3.914079743201532",
         "3.917104965523891",
         "3.926826914837827",
         "3.8930888972207622",
         "3.9100325856936036",
         "3.913143576830397",
         "3.8841527740703934",
         "3.901299562466491",
         "3.852237179930243",
         "3.9153993675566636",
         "3.913736501917",
         "3.906527991983435",
         "3.919792180458786",
         "3.914842366596979",
         "3.9118426101988413",
         "3.9086193338315374",
         "3.9283388011086626",
         "3.8661806623708097",
         "3.9050295442807568",
         "3.9149460745255964",
         "3.9026813244654472",
         "3.9182953149596433",
         "3.915627034207002",
         "3.917036702370095",
         "3.9039276912034087",
         "3.908412693777361",
         "3.9046221458891046",
         "3.9167985664145237",
         "3.8032529937733592",
         "3.9074974037538595",
         "3.889847196781369",
         "3.916079021845795",
         "3.8907857842358244",
         "3.910360870729369",
         "3.910249300317256",
         "3.935458081264799",
         "3.9011008753899246",
         "3.916403753041105",
         "3.922797229402854",
         "3.920624097348098",
         "3.902898522632238",
         "3.9116857794303335",
         "3.9121529986291383",
         "3.9033492727650563",
         "3.915911762163476",
         "3.9168235776699913",
         "3.918375009335874",
         "3.911311064219002",
         "3.9156369066655388",
         "3.9364444714446756",
         "3.9150925642552594",
         "3.907765327513426",
         "3.905048546506151",
         "3.906167441130624",
         "3.9068647322090384",
         "3.906346410381679",
         "3.919371731572818",
         "3.8973205549252747",
         "3.910783196232821",
         "3.9098738010334695",
         "3.9110240517866504",
         "3.916499616652763",
         "3.9112505619178504",
         "3.9101080003877544",
         "3.911322822031273",
         "3.9075163307801124",
         "3.91090470522548",
         "3.901291316898344",
         "3.902226895712743",
         "3.9203991049539626",
         "3.927190019910723",
         "3.901795728891977",
         "3.9066264560568307",
         "3.8946276641115793",
         "3.8833394331682487",
         "3.919284214230274",
         "3.9350304372841354",
         "3.924793510157887",
         "3.9174051216830845",
         "3.911744948181916",
         "3.917181554526814",
         "3.894449938721329",
         "3.9016457085259715",
         "3.9256042983830897",
         "3.9060600258405054",
         "3.90258044270034",
         "3.9088012202641695",
         "3.921792230883361",
         "3.9111639174523503",
         "3.904158993525269",
         "3.9102327091739526",
         "3.9088233611451533",
         "3.9110363975920532",
         "3.9080375384521346",
         "3.9085991387044303",
         "3.914319783119538",
         "3.9040196228056003",
         "3.9078735400346774",
         "3.9113710095586947",
         "3.9308227986220143",
         "3.9114304541320255",
         "3.9247952476769834",
         "3.9237042225348624",
         "3.9260942006758848",
         "3.9177459044700242",
         "3.9079473630129353",
         "3.916285206897785",
         "3.9163759122356265",
         "3.9114279032368753",
         "3.9226216884250777",
         "3.9111486373430284",
         "3.885452363535553",
         "3.9061251703509545",
         "3.9101124388060944",
         "3.909743855133663",
         "3.900656247577007",
         "3.9129873219505518",
         "3.907642075474838",
         "3.9261580251374943",
         "3.898893410577579",
         "3.8540523783991905",
         "3.9628672158691858",
         "3.9121314609846696",
         "3.91661906438249",
         "3.9167035185683385",
         "3.9152192716532173",
         "3.9233318809157933",
         "3.926514510169813",
         "3.7467214559148014",
         "3.9297916206059234",
         "3.905727200926477",
         "3.943352746610602",
         "3.8795482255981657",
         "3.8526670703610666",
         "3.9101898346099757",
         "3.901757450815278",
         "3.9108829288839653",
         "3.91822844988141",
         "3.9120782641582634",
         "3.921728571387357",
         "3.9110510713389712",
         "3.9091966856981104",
         "3.9324674525769767",
         "3.912405220892577",
         "3.9126743253409195",
         "4.011375659555912",
         "3.911126736224764",
         "3.914459359098325",
         "3.915372868610566",
         "3.9286214068875376",
         "3.907246105458742",
         "3.9314194727094325",
         "3.922916510125304",
         "3.9133929582622904",
         "3.9251757966763345",
         "3.924582328688847",
         "3.943762189163628",
         "3.893332856276666",
         "3.910769404613324",
         "3.9430831532458566",
         "3.888495406305029",
         "3.8732362834016834",
         "3.9117738736135848",
         "3.913451400074374",
         "3.9091603762259637",
         "3.9058079062084303",
         "3.9222665004338686",
         "3.9120586259558943",
         "3.9092720958711085",
         "3.9501263125627024",
         "3.9079105621900077",
         "3.9122582190781707",
         "3.91567669348708",
         "3.9100556863150757",
         "3.9109288116983216",
         "3.8888610530276675",
         "3.91098377575782",
         "3.9115805915030326",
         "3.9159274693447306",
         "3.9113060782230415",
         "3.9044653210812785",
         "3.906779605036394",
         "3.874324157799657",
         "3.9131974938230467",
         "3.9563540671960093",
         "3.922117491347871",
         "3.905510602980394",
         "3.899982243210228",
         "3.914136080494276",
         "3.910236727598293",
         "3.910906865976235",
         "3.9117977251183174",
         "3.9193410057431652",
         "3.9220311893947386",
         "3.911293533149385",
         "3.909886571018539",
         "3.9001193763549185",
         "3.917886863925149",
         "3.8962822330901288",
         "3.917121161620453",
         "3.9062719632455303",
         "3.8883818835715718",
         "3.8847519240432633",
         "3.922604492015658",
         "3.9234539153868155",
         "3.9093413984571783",
         "3.9138093574797352",
         "3.907237458699129",
         "3.907181103283811",
         "3.9068330546741157",
         "3.8844807347096597",
         "3.9123134469916256",
         "3.8912298582917346",
         "3.925824089639564",
         "3.9195171422075226",
         "3.9151413301588733",
         "3.9112563976033345",
         "3.9079171772311785",
         "3.911223850548652",
         "3.9114633565728796",
         "3.910992753244321",
         "3.91109780929043",
         "3.903986132719007",
         "3.903824961378899",
         "3.8963719600986884",
         "3.905286574019717",
         "3.9118634990294052",
         "3.916665496877644",
         "3.9149530339300025",
         "3.9108245896448297",
         "3.911196119491856",
         "3.903839007381882",
         "3.901054960625758",
         "3.9101164622546363",
         "3.91318094435851",
         "3.9283587949150935",
         "3.911659955353687",
         "3.932968877637948",
         "3.87608183476716",
         "3.8882697312879726",
         "3.88798749801818",
         "3.911434722307482",
         "3.90576405185119",
         "3.9147896787653655",
         "3.908421242556123",
         "3.8440656043490784",
         "3.8930531044717642",
         "3.911218553792578",
         "3.91388069279321",
         "3.9101964744118094",
         "3.923099792072384",
         "3.919697524397414",
         "3.9115932087797223",
         "3.913069086701299",
         "3.9257130807584972",
         "3.906222913687122",
         "3.9175825765759034",
         "3.9107400109477854",
         "3.8795250168578104",
         "3.9137825090926293",
         "3.8852609381885426",
         "3.905560258845899",
         "3.9067864094403113",
         "3.9173319210030617",
         "3.909338994650596",
         "3.8898720686834287",
         "3.899755265032659",
         "3.9094407393413793",
         "3.9488444429964136",
         "3.900831996315098",
         "3.913531221239226",
         "3.910853983588754",
         "3.9127467670840526",
         "3.9059314273019394",
         "3.901008429403821",
         "3.8872526030095464",
         "3.907527775045909",
         "3.8922607190799607",
         "3.9016772044462376",
         "3.906115678136195",
         "3.9314673581853468",
         "3.915119916319172",
         "3.927120482641352",
         "3.9046716539968247",
         "3.9108316079735133",
         "3.909653622867227",
         "3.9614644093492237",
         "3.9488468471008646",
         "3.9113517173054304",
         "3.9097499688613646",
         "3.9124322852747606",
         "3.9406366441903917",
         "3.9122004305235385",
         "3.9063516793312503",
         "3.9033162625984557",
         "3.905984941738065",
         "3.9135464050519184",
         "3.9265762853267905",
         "3.909852534022364",
         "3.9135571986685624",
         "3.920170188829723",
         "3.9106410172976256",
         "3.9176523322602788",
         "3.913077601881148",
         "3.9128414670240246",
         "3.9082841108915325",
         "3.907082304568192",
         "3.9207830373057413",
         "3.904852260582745",
         "3.9145177817495695",
         "3.8956783312058323",
         "3.909862306060019",
         "3.912043470278111",
         "3.9145440433737755",
         "3.9113128091411506",
         "3.8948957253199374",
         "3.939729946195743",
         "3.9047775398665148",
         "3.912207175872474",
         "3.912107578954696",
         "3.9101086570079833",
         "3.9126665609540927",
         "3.905368188393781",
         "3.9504015383509152",
         "3.905367888158913",
         "3.913829501779082",
         "3.901390091190244",
         "3.9168786001619478",
         "3.91101896819703",
         "3.9164336449619546",
         "4.013186767720063",
         "3.9165541578376",
         "3.8984121629797013",
         "3.9176046584735897",
         "3.9175833757752576",
         "3.9131207266067265",
         "3.921190071515046",
         "3.912666333541395",
         "3.916337697813859",
         "3.8983005191975284",
         "3.917499589911849",
         "3.9088922455890764",
         "3.9693880265014294",
         "3.9173711653532153",
         "3.9763309282848533",
         "3.9072339702242993",
         "3.910529850738973",
         "3.9013344560834944",
         "3.904449174922029",
         "3.909604502391426",
         "3.9080897866645996",
         "3.920971906456987",
         "3.911031689573506",
         "3.908174172582171",
         "3.904043960696935",
         "3.9112181532996804",
         "3.910903008286406",
         "3.9003192093077153",
         "3.8920218829167252",
         "3.9087831309167638",
         "3.91952253398011",
         "3.9090837219814896",
         "3.919587172705937",
         "3.90361226680357",
         "3.9175269772998917",
         "3.9171459025196387",
         "3.919713313947806",
         "3.91100525242993",
         "3.907697051998386",
         "3.9255233249682413",
         "3.898864928835024",
         "3.8860789428709634",
         "3.902864225629681",
         "3.9148156062025676",
         "3.9200733998422987",
         "3.917694993454473",
         "3.9272399928323045",
         "3.9093972806961443",
         "3.917159936042352",
         "3.933741276396584",
         "3.8979038190194455",
         "3.9097832313812115",
         "3.913523915945797",
         "3.912438893183797",
         "3.914997836276644",
         "3.8252534238170446",
         "3.9131226741107694",
         "3.9099407717907457",
         "3.914843467733718",
         "3.9465753152932086",
         "3.919613795860379",
         "3.9314952899441824",
         "3.906118835422339",
         "3.935675951001128",
         "3.9176535234617336",
         "3.9087825814644614",
         "3.932712301781486",
         "3.9492739160394064",
         "3.9167066716841217",
         "3.9106444559486397",
         "3.9060345759297608",
         "3.9105808710571073",
         "3.913639820163204",
         "3.9304084715337213",
         "3.970174965034296",
         "3.91235149285528",
         "3.914354456981497",
         "3.9295047530966545",
         "3.912033336802441",
         "3.9072618311018563",
         "3.9118398666968415",
         "3.907466670105698",
         "3.916837327664639",
         "3.911569299903442",
         "3.9163494076832386",
         "3.9101103875436487",
         "3.9023520521833364",
         "3.910154421395035",
         "3.912535431968459",
         "3.842258979732681",
         "3.918750685223894",
         "4.00038320127855",
         "3.908161404453784",
         "3.9050109610979837",
         "3.8761124285651554",
         "3.921419891777213",
         "3.933771525971394",
         "3.9145483577991804",
         "3.9086960275085287",
         "3.913470200197954",
         "3.8552809709242144",
         "3.911547534569649",
         "3.908131510389083",
         "3.893561037414822",
         "3.9310629725624477",
         "3.896477213630164",
         "3.9082686388418524",
         "3.8901921576281304",
         "3.918679202419989",
         "3.9005324454661396",
         "3.9307915843592163",
         "3.9054880266331455",
         "3.8746639986782454",
         "3.9101831961407747",
         "3.91468689010261",
         "3.923052037439431",
         "3.9303258856916123",
         "3.9033809995320117",
         "3.8965752049477427",
         "3.855670336176834",
         "3.91696624534257",
         "3.9061871304414884",
         "3.907705243532569",
         "3.8943091514644266",
         "3.904434965487632",
         "3.8920103838482523",
         "3.9002962132719383",
         "3.9099905629543983",
         "3.9112356422593164",
         "3.897521772032423",
         "3.9086453993345165",
         "3.9499499281580115",
         "3.9162810881296846",
         "3.9071313308274456",
         "3.93065585597295",
         "3.913375015011704",
         "3.9139078544465393",
         "3.9116349280211824",
         "3.917060388440583",
         "3.90801174444662",
         "3.912104957065066",
         "3.9133101164106385",
         "4.086904243403803",
         "3.9919179768118846",
         "3.902348784725074",
         "3.9178361495115746",
         "3.903231752562902",
         "3.8999933583285715",
         "3.913787633396473",
         "3.8929232393434923",
         "3.9103020207668284",
         "3.918429612752544",
         "3.889179103782078",
         "3.9406441440635858",
         "3.9119172231841333",
         "3.913552141103984",
         "3.9190666201482878",
         "3.909115981097966",
         "3.901137734193784",
         "3.957625430558621",
         "3.911219446970983",
         "3.9151611823065444",
         "3.925147241746164",
         "3.9125748745168765",
         "3.9123606586841837",
         "3.9106886464644988",
         "3.916363012047646",
         "3.9120111021947",
         "3.9594049584523985",
         "3.843921660259489",
         "3.9075844973539047",
         "3.9217082524866966",
         "3.91008896961038",
         "3.91600917117709",
         "3.9137893024797084",
         "3.9566129087237463",
         "3.9160166741071496",
         "3.9100915304736734",
         "3.9100578488139734",
         "3.9139814874258128",
         "3.9228566163155705",
         "3.914568334615109",
         "3.907162881527958",
         "3.9246159489402004",
         "3.9072945224769073",
         "3.8992186094683983",
         "3.910464930014686",
         "3.9658568438427975",
         "3.9119649648897026",
         "3.9016259410489336",
         "3.9234306427772165",
         "3.8601242904874677",
         "3.9114450883583842",
         "3.905587617798535",
         "3.9232784138696704",
         "3.9125873949783596",
         "3.9101763754156487",
         "3.9108089817627674",
         "3.9099155120437312",
         "3.8563178679419714",
         "3.912982778394694",
         "3.9107389683781384",
         "3.9150704036901995",
         "3.9091335246326575",
         "3.9503160666502617",
         "3.9185763084245884",
         "3.9110151076870823",
         "3.9429121108366885",
         "3.905564016405206",
         "3.911908882000393",
         "3.912622558038096",
         "3.9094959491163355",
         "3.911167895011048",
         "3.9387114042465328",
         "3.9124454281595833",
         "3.937609957703273",
         "3.9160012761838154",
         "3.8716155407053354",
         "3.9163185993312744",
         "3.9023839628311534",
         "3.917415362485777",
         "3.912596039408435",
         "3.910996985819797",
         "3.9311476189446304",
         "3.909135172459698",
         "3.9129230254231495",
         "3.910161100371209",
         "3.910839750463235",
         "3.8967152667337417",
         "3.8996623592910398",
         "3.912050262572095",
         "3.908687257562353",
         "3.9138736945013886",
         "3.9203973971241917",
         "3.9108328049864713",
         "3.8908155622549043",
         "3.9109137955353854",
         "3.906908369876819",
         "3.9117653153132275",
         "3.914001588263659",
         "3.9265944594024",
         "3.9228346375107046",
         "3.9109551829818407",
         "3.879986828567576",
         "3.921864605005391",
         "3.904269010251714",
         "3.9137415552361743",
         "3.9135221641451508",
         "3.9123153207985357",
         "3.9094456110031186",
         "3.907012442823582",
         "3.9080253587048106",
         "3.9426666659800915",
         "3.9364249464034193",
         "3.9072031934146407",
         "3.9138339615089093",
         "3.902315197992813",
         "3.9109009085002198",
         "3.9321113110167683",
         "3.910752026453233",
         "3.9072569276003803",
         "3.8948769722834466",
         "3.911777815349214",
         "3.9182337604470336",
         "3.913716559908647",
         "3.923848904477158",
         "3.923718616556094",
         "3.9120683653963972",
         "3.9089713023276045",
         "3.914966531356059",
         "3.9092884868407842",
         "3.9056565532779217",
         "3.9295852448054647",
         "3.8903618434877303",
         "3.91202140351937",
         "3.832969160073309",
         "3.876533464069807",
         "3.91263312224695",
         "3.9111142312901044",
         "3.8600254052012453",
         "3.932195154511391",
         "3.905620442612825",
         "3.885929535157641",
         "3.914705758295902",
         "3.9350480391470612",
         "3.9228410493474586",
         "3.9294772816807715",
         "3.9182575542854865",
         "3.9050135566390733",
         "3.9058033682147815",
         "3.914443757040492",
         "3.9243877912685194",
         "3.9171226751079185",
         "3.842131161186018",
         "3.9133858569131514",
         "3.9087082453697857",
         "3.906461307701667",
         "3.90916708066354",
         "3.920847321387058",
         "3.948574246347029",
         "3.9250869868461313",
         "3.907753142370611",
         "3.9231507221978728",
         "3.909983188679289",
         "3.9286728077299413",
         "3.922752809353175",
         "3.908790361453603",
         "3.910351292585391",
         "3.9324208462898094",
         "3.949391698494441",
         "3.910867669803994",
         "3.9163781276463285",
         "3.9349930282907284",
         "3.893046495265646",
         "3.918180909748627",
         "3.9081691522854047",
         "3.8925415986461775",
         "3.9257187744758952",
         "3.920649664427432",
         "3.9164747565712106",
         "3.9158028206416344",
         "3.9184294085134725",
         "3.9004605942735315",
         "3.9186094296465863",
         "3.950354080900494",
         "3.8758533978451872",
         "3.9059854160283356",
         "3.929528392855913",
         "3.9331822657921522",
         "3.9131678863174097",
         "3.9483444367892218",
         "3.9279449493725673",
         "3.9084223821446895",
         "3.9135768940632825",
         "3.9220540168668343",
         "3.9038731241763016",
         "3.916771757122421",
         "3.8987337286090664",
         "3.912176048257426",
         "3.9143096090803646",
         "3.911863022732745",
         "3.9286898340829612",
         "3.9126375880999706",
         "3.921943032803133",
         "3.917191356615564",
         "3.891427802979942",
         "3.9157237634751616",
         "3.8889868489490738",
         "3.912719678639741",
         "3.914144688142859",
         "3.916632974348148",
         "3.8906409492457",
         "3.8673685147443493",
         "3.8483314772457713",
         "3.9178084702807072",
         "3.9135912842639784",
         "3.9170111077883516",
         "3.9244787262588066",
         "3.916609512849164",
         "3.917901773469386",
         "3.9137095896031293",
         "3.920389897063643",
         "3.9252115080009444",
         "3.924354262382928",
         "4.053288349464232",
         "3.906941172054156",
         "3.920321940210892",
         "3.9063500543234744",
         "3.9144038744823257",
         "3.887498544965598",
         "3.913425380912846",
         "3.907903844436073",
         "3.9202929024642565",
         "3.91337027744708",
         "3.8979032867492456",
         "3.8959531144757125",
         "3.904371246264442",
         "3.918396810964946",
         "3.9099485912496634",
         "3.916055078638539",
         "3.9182212936346383",
         "3.9126547669829628",
         "3.9098313212042677",
         "3.8977541816950163",
         "3.9128179078992185",
         "3.9212872627545785",
         "3.9202039695450472",
         "3.908672547346443",
         "3.911790046180185",
         "3.9109134248578172",
         "3.910781478275305",
         "3.91237656129339",
         "3.920807561412982",
         "3.912470483463166",
         "3.9329719826743736",
         "3.873147821518729",
         "3.9049537304278896",
         "3.910006649645086",
         "3.906005245028769",
         "3.9062360137477423",
         "3.9123967561121944",
         "3.908909732516948",
         "3.928765611458045",
         "3.907110768691624",
         "3.912159750982515",
         "3.917670432045863",
         "3.9222743030137206",
         "3.900097855388904",
         "3.9144410871754554",
         "3.920170825705533",
         "3.910436769503744",
         "3.9258744849478324",
         "3.9073235745851433",
         "3.9119558661844787",
         "3.910056981142065",
         "3.9131329548911804",
         "3.9421750698594296",
         "3.8980765657813703",
         "3.9111475147634995",
         "3.909847273460441",
         "3.912210567416035",
         "3.9128865788997484",
         "4.058433579873457",
         "3.9158494823313306",
         "4.025245885429407",
         "3.905052572871476",
         "3.910694414318158",
         "3.9221579540941587",
         "3.991799131513889",
         "3.9108865944926414",
         "3.9064371632937602",
         "3.9238917012887375",
         "3.914582411703441",
         "3.905570354110996",
         "3.913458983204582",
         "3.9075466769942238",
         "3.8953086576643225",
         "3.9138274694893602",
         "3.862647014538862",
         "3.9090646848351063",
         "3.9110660173858913",
         "3.9111105230284795",
         "3.9160114833017987",
         "3.9299220310284455",
         "3.9138612412195157",
         "3.918287491300442",
         "3.9111821736275427",
         "3.946578835095674",
         "3.907010358921347",
         "3.946247873863993",
         "3.906025078138621",
         "3.9061775874959617",
         "3.912474001675115",
         "3.9074211591026256",
         "3.9117445103636292",
         "3.9089193711562147",
         "3.9074793486682697",
         "3.9105268518870857",
         "3.9110448227521712",
         "3.8739188362641968",
         "3.914752096396358",
         "3.909607987295988",
         "3.8022983694142507",
         "3.910447340538822",
         "3.9052894862344627",
         "3.8973097725136943",
         "3.9641635243271276",
         "3.880600016240997",
         "3.9035341287008243",
         "3.9042109505982325",
         "3.8856845045452615",
         "3.964840437769292",
         "3.9101029835112486",
         "3.9074029657172837",
         "3.9339040840925135",
         "3.9135911012671882",
         "3.881959055956583",
         "3.903122755901574",
         "3.913167502120517",
         "3.903088777579037",
         "3.9122161803987776",
         "3.91263067114859",
         "3.896037304247566",
         "3.9290802935866576",
         "3.9295204450861",
         "3.910588735214561",
         "3.9060119365925834",
         "3.9089498814897445",
         "3.8613625382203622",
         "3.8963202829744206",
         "3.9072458294462344",
         "3.9190518209753846",
         "3.9074546261210705",
         "3.886364845994527",
         "3.9106092456161554",
         "3.942468388274559",
         "3.9202505815113438",
         "3.9113334340567567",
         "3.9087612665934452",
         "3.9130886361790465",
         "3.896520147110009",
         "3.9077565759082953",
         "3.917529042687916",
         "3.902631353142618",
         "3.905182566235291",
         "3.9123337767099",
         "3.9331533045597418",
         "3.931446898998113",
         "3.9288762920332356",
         "3.902118112018051",
         "3.921142136131514",
         "3.897799583459408",
         "3.902833459837764",
         "3.911789894601445",
         "3.9213529894640002",
         "3.8933466702867405",
         "3.9068073003155432",
         "4.001934713510831",
         "3.9287778697787723",
         "3.906247085857762",
         "3.913447987105105",
         "3.906928961904764",
         "3.905226035884913",
         "3.9297853442487054",
         "3.9091354450298743",
         "3.9157405527967475",
         "3.8238856764990214",
         "3.909211863190273",
         "3.9129890466328545",
         "3.9001705213071887",
         "3.910256347208206",
         "3.913269089957384",
         "3.8966694225529714",
         "3.9098243503573795",
         "3.8993170102885233",
         "3.9399503270354996",
         "3.9076484476988074",
         "3.898753846673628",
         "3.8987908485379283",
         "3.896065894082289",
         "3.9110437733342724",
         "3.835170333087552",
         "3.906084082904488",
         "3.9123862360228894",
         "3.918533526079027",
         "3.9181991830963416",
         "3.9117206291286504",
         "3.9293500171758855",
         "3.9085325862788594",
         "3.913984233300955",
         "3.9108901490584183",
         "3.9161340908762194",
         "3.9168372191226246",
         "3.885120948682495",
         "3.905465920501289",
         "3.921313005834612",
         "3.898826644728561",
         "3.8402506845316893",
         "3.9071340588356396",
         "3.902537433932537",
         "3.911056305659321",
         "3.876101322569875",
         "3.9203268258622477",
         "3.927098633205799",
         "3.9110789376382225",
         "3.912169762961497",
         "3.9114724648945796",
         "3.900540274886084",
         "3.9127490806603626",
         "3.9473187589308045",
         "3.9154265181493173",
         "3.9259174350745605",
         "3.8983763709828247",
         "3.919692241561968",
         "3.902089804618046",
         "3.916909612739013",
         "3.885327848499133",
         "3.927499011382201",
         "3.916738416591052",
         "3.916140847281253",
         "3.857307897520901",
         "3.9140642084258546",
         "3.906169768728183",
         "3.9127576175671464",
         "3.9099648179682664",
         "3.918745388248426",
         "3.869757774218805",
         "3.9397897530858748",
         "3.9545115537865083",
         "3.90421926032264",
         "3.910395691867295",
         "3.9098826209335398",
         "3.9125321718294765",
         "3.9104476979329394",
         "3.9225483739411793",
         "3.917702706900075",
         "3.912423958793181",
         "3.9093845863501446",
         "3.9110193889006575",
         "3.910312972415166",
         "3.931111942026413",
         "3.901521198499807",
         "3.9138522219057688",
         "3.9266971805156645",
         "3.8560904180029154",
         "3.9325726906938177",
         "3.910074064375441",
         "3.9193768447725157",
         "3.9041643528520846",
         "3.8863930085470546",
         "3.9211196742601198",
         "3.911436975376047",
         "3.912012264772244",
         "3.905582348028208",
         "3.8561524282266184",
         "3.91294544024093",
         "3.916186675761173",
         "3.9076489663760183",
         "3.9273146795871807",
         "3.910994169697744",
         "3.8699608530946352",
         "3.9113115895942547",
         "3.915116002914637",
         "3.9168967935326253",
         "3.9159836936404457",
         "3.908143842872164",
         "3.924695685914016",
         "3.907715084113239",
         "3.9160479034604694",
         "3.887746771352459",
         "3.914262947557286",
         "3.8885721957574635",
         "3.903612159060479",
         "3.914022663286342",
         "3.9139874212042343",
         "3.911737656173619",
         "3.9185117372638776",
         "3.927018938325004",
         "3.910810715139984",
         "3.9120075877266625",
         "3.904678255374967",
         "3.9106847310835304",
         "3.910966347532664",
         "3.91290643724808",
         "3.943181965832471",
         "3.9169791876194395",
         "3.917861013416598",
         "3.9094918870249704",
         "3.904919894314474",
         "3.899601143143664",
         "3.9024030344312806",
         "3.9083731591701363",
         "3.913518655094791",
         "3.915488794588039",
         "3.918312584579006",
         "3.9307806146730235",
         "3.90803026006625",
         "3.9062752898944093",
         "3.9075093558445455",
         "3.904146222231162",
         "3.927199957640026",
         "3.914568738276847",
         "3.925107729050571",
         "3.8984508537673657",
         "3.911882497191894",
         "3.9112663982322156",
         "3.9115605279458032",
         "3.861042428955409",
         "3.8962364037981785",
         "3.9156414480829014",
         "3.912108153297911",
         "3.9070290075709506",
         "3.9075386873496756",
         "3.90798645484751",
         "3.9137036627827144",
         "3.9276079999686253",
         "3.891289584461167",
         "3.89699418863244",
         "3.898877604406044",
         "3.907093424739504",
         "3.9105749636364253",
         "3.9106612339860876",
         "3.890610329207033",
         "3.934931873261676",
         "3.9079229419241974",
         "3.908391235701063",
         "3.9078584001250114",
         "3.9083539470880604",
         "3.9532078640696064",
         "3.9071079135099653",
         "3.9070485418405285",
         "3.937725284051707",
         "3.9279507204674355",
         "3.89709893848408",
         "3.913442174488774",
         "3.919924813293",
         "3.8985790801537274",
         "3.910196224648231",
         "3.914056882522861",
         "3.9126143707570136",
         "3.9169304136808933",
         "3.9283995766708273",
         "3.895760273440766",
         "3.918932169976154",
         "3.908822139885956",
         "3.9226533825374172",
         "3.881778358312102",
         "3.9164756449701046",
         "3.9295481470906473",
         "3.901684511817183",
         "3.8936482647486206",
         "3.9101756185128917",
         "3.910377219560682",
         "3.915211337606308",
         "3.9127694577176158",
         "3.9140609841462615",
         "3.8953470491747546",
         "3.9808899923493093",
         "3.9114025184083987",
         "3.9607571792929037",
         "3.9102015382383017",
         "3.92120300466144",
         "3.9106085247986875",
         "3.917414870226978",
         "3.912167803149079",
         "3.9004188588123903",
         "3.9110158967338213",
         "3.9101279061260703",
         "3.9201633161105587",
         "3.9113811251701747",
         "3.9260481627605475",
         "3.9066365911426617",
         "3.924947217296116",
         "3.8904672726605316",
         "3.859113040713268",
         "3.9086172153840666",
         "3.908280934063303",
         "3.909101297096747",
         "3.8816615614718137",
         "3.9123317987702313",
         "3.913857807658142",
         "3.913351465696632",
         "3.9114999851550545",
         "3.911309697178043",
         "3.890357889108856",
         "3.914908556610661",
         "3.898494131116187",
         "3.9013330068686503",
         "3.913593684027697",
         "3.9814811663156573",
         "3.9282392472529803",
         "3.900411446029463",
         "3.9163922267898217",
         "3.9131413683398755",
         "3.910510784877465",
         "3.898284965751694",
         "3.9133023634256867"
        ],
        [
         "4",
         "4.25066567538021",
         "4.249104087741751",
         "4.243985772373367",
         "4.241443588341978",
         "4.275322444066353",
         "4.244326187123267",
         "4.245974939200309",
         "4.254231987463145",
         "4.251229536850177",
         "4.2865485666147904",
         "4.244396962833573",
         "4.251267554498028",
         "4.236803000449689",
         "4.249503016006401",
         "4.250719975649854",
         "4.2541213048487245",
         "4.250757862030812",
         "4.2445721202065485",
         "4.252506381024597",
         "4.253327337395898",
         "4.257144602659828",
         "4.251685202871192",
         "4.250485139027409",
         "4.244089458552702",
         "4.250162317928537",
         "4.252230879262766",
         "4.315184349498449",
         "4.246600406240289",
         "4.250391990882483",
         "4.285510996123907",
         "4.2471043675884985",
         "4.249712863721214",
         "4.250182135730033",
         "4.253714262448145",
         "4.248803835397383",
         "4.252291413384102",
         "4.251823112761958",
         "4.250579651715149",
         "4.253050210471923",
         "4.2561746337794855",
         "4.2502139489267785",
         "4.251758031560772",
         "4.246476906775969",
         "4.252293621988373",
         "4.240441513029989",
         "4.25010340575449",
         "4.25499019265429",
         "4.250174279574007",
         "4.243411261017439",
         "4.255719037501236",
         "4.253397368143348",
         "4.253790423037512",
         "4.25953797676829",
         "4.249795631434268",
         "4.248631325849565",
         "4.238455967871906",
         "4.250903124327919",
         "4.254553622340872",
         "4.248129478147481",
         "4.2532564930936685",
         "4.238017059458547",
         "4.230617504910794",
         "4.232853855402285",
         "4.223987214471758",
         "4.250286058549996",
         "4.2498828791112055",
         "4.2527490207314536",
         "4.236934841281659",
         "4.244772241209376",
         "4.250266204232034",
         "4.251551833361455",
         "4.2452522025326695",
         "4.229981525158767",
         "4.208304729408544",
         "4.249417879121947",
         "4.250715283211573",
         "4.252284776816744",
         "4.246679209542427",
         "4.251137445868159",
         "4.243792840015339",
         "4.255675947474226",
         "4.253267991761803",
         "4.253368619779325",
         "4.250246573685308",
         "4.244410016747135",
         "4.2496189020398925",
         "4.2538934639542285",
         "4.253379957662215",
         "4.249772208414848",
         "4.250385269737527",
         "4.248890327098202",
         "4.251855627153132",
         "4.244186921685011",
         "4.250090045724424",
         "4.24208615080929",
         "4.2507367000541345",
         "4.249184534578807",
         "4.231689437556047",
         "4.2486959043231165",
         "4.2494689257429705",
         "4.244054650321848",
         "4.235357008803099",
         "4.242722967608596",
         "4.249970219915879",
         "4.242042923491782",
         "4.24209242595529",
         "4.254627463849858",
         "4.249621099863677",
         "4.251884301717927",
         "4.248792562708792",
         "4.237206932878253",
         "4.2474050405320565",
         "4.240420723993177",
         "4.245217612431357",
         "4.256900012322419",
         "4.256986166925775",
         "4.2364613703897005",
         "4.297059183335296",
         "4.241878560098308",
         "4.240024949420077",
         "4.246045370740152",
         "4.2446258088801025",
         "4.24641723500525",
         "4.247916733912221",
         "4.250432523589267",
         "4.252895138719591",
         "4.248946159234426",
         "4.240494473957404",
         "4.2852707512627",
         "4.23980486085155",
         "4.257970090182863",
         "4.2565518391903785",
         "4.244404747045246",
         "4.238221271699044",
         "4.252954242206121",
         "4.244639863010139",
         "4.249543246162511",
         "4.249310216971181",
         "4.250825422258085",
         "4.253247333483047",
         "4.247551296447314",
         "4.246747386214003",
         "4.243298134927012",
         "4.262145499944802",
         "4.251079943867673",
         "4.2500926552422085",
         "4.247861160699161",
         "4.299252738921603",
         "4.25036373273911",
         "4.34919341894966",
         "4.24870831802189",
         "4.247029439353515",
         "4.247710127621798",
         "4.239365526389525",
         "4.26607858546691",
         "4.239461162319621",
         "4.254938765442173",
         "4.264523491075178",
         "4.245635129383432",
         "4.243913333070151",
         "4.213461493039606",
         "4.248750236035759",
         "4.249831536742901",
         "4.246048484115161",
         "4.246744688602088",
         "4.246891545030916",
         "4.247178161760512",
         "4.250518871659659",
         "4.247757304853441",
         "4.2587688423443195",
         "4.250341760641564",
         "4.243408058312235",
         "4.2584468853084285",
         "4.258800621570873",
         "4.24558104267495",
         "4.249020990470517",
         "4.240988461842778",
         "4.249912520751664",
         "4.259913615936656",
         "4.239523426094006",
         "4.251164078207406",
         "4.258895194096344",
         "4.246697289538502",
         "4.251613453615809",
         "4.263059493735525",
         "4.247102049472432",
         "4.2510480731073805",
         "4.248096023211763",
         "4.234232611991654",
         "4.248668295576586",
         "4.247637116256516",
         "4.25018635499385",
         "4.243662556101302",
         "4.24180063990931",
         "4.250214604957998",
         "4.2442938296301165",
         "4.288445909566745",
         "4.2493072596553265",
         "4.243452833091053",
         "4.251202592583639",
         "4.291372077351218",
         "4.249937326253944",
         "4.265341215117562",
         "4.230102194131566",
         "4.232655569352492",
         "4.247510923669698",
         "4.250779488463282",
         "4.275450394092465",
         "4.2731216227231394",
         "4.249668966126771",
         "4.253358928451869",
         "4.192625646149797",
         "4.2563166618270225",
         "4.264540363294999",
         "4.2519016935673495",
         "4.274024877293837",
         "4.249999304395912",
         "4.245127773209015",
         "4.249961895758712",
         "4.251731778927196",
         "4.263405716118482",
         "4.248600666239458",
         "4.248419021288223",
         "4.25131074288143",
         "4.248694925339123",
         "4.251252273561977",
         "4.25224310193138",
         "4.2488001172813945",
         "4.25220761551963",
         "4.237257040621307",
         "4.25335075478889",
         "4.249263413870388",
         "4.245804529972696",
         "4.250865417136344",
         "4.252817241219804",
         "4.2361140654671186",
         "4.210615816129676",
         "4.244376608587574",
         "4.237790695953209",
         "4.249687059056145",
         "4.246092287271851",
         "4.252330557338357",
         "4.283822161317016",
         "4.2404745895005815",
         "4.237799777573633",
         "4.233970768052361",
         "4.247324293124386",
         "4.251221251634734",
         "4.252691037153064",
         "4.258858520784655",
         "4.248892557934805",
         "4.251832800912469",
         "4.248390082786025",
         "4.252041439183558",
         "4.250733675054412",
         "4.244318980253257",
         "4.245653277711033",
         "4.253440404066079",
         "4.251197924455892",
         "4.251167371153073",
         "4.249611456526626",
         "4.249823815855543",
         "4.261371617711809",
         "4.248952044876506",
         "4.247699428926158",
         "4.249095228720834",
         "4.247423111995033",
         "4.245192392814949",
         "4.244468491883806",
         "4.254478437938794",
         "4.2491133176656835",
         "4.247784451721383",
         "4.2722949076140875",
         "4.202416561618406",
         "4.247732755452895",
         "4.213592943343041",
         "4.236837041067288",
         "4.255777427072829",
         "4.245121888421813",
         "4.248147532032874",
         "4.249783652698728",
         "4.24542816159971",
         "4.252758062732093",
         "4.252922589379369",
         "4.246297507769324",
         "4.2486840537100665",
         "4.2474148472220525",
         "4.251617693063196",
         "4.256296208711892",
         "4.2498718679310254",
         "4.212528482472073",
         "4.248268780618993",
         "4.250349982758119",
         "4.25791313604104",
         "4.2524443125082865",
         "4.250131774405091",
         "4.247021293768851",
         "4.250967737307301",
         "4.2449266380183195",
         "4.26276768363969",
         "4.238230431871927",
         "4.245809079903234",
         "4.249313986352386",
         "4.238849405841229",
         "4.248763827023933",
         "4.250361759943049",
         "4.246545076117585",
         "4.260839065614327",
         "4.252278925672116",
         "4.247696089206234",
         "4.250014141685801",
         "4.249721233973307",
         "4.256274954048823",
         "4.247439747175169",
         "4.263924902301405",
         "4.259412805037449",
         "4.249378681155105",
         "4.250081680857644",
         "4.247300351663591",
         "4.256215574753614",
         "4.262449804092835",
         "4.250470204165329",
         "4.246478109708794",
         "4.245413661708669",
         "4.247973972564833",
         "4.23453342378068",
         "4.248211200810176",
         "4.2655694697107736",
         "4.249978945479207",
         "4.264012291444724",
         "4.253153992615867",
         "4.248007844589009",
         "4.249711180383114",
         "4.25053318293925",
         "4.257467291733623",
         "4.259371771318162",
         "4.243772376816795",
         "4.248867101548502",
         "4.248845246079921",
         "4.253971486967801",
         "4.292502972382223",
         "4.246042803485228",
         "4.252355269302076",
         "4.256183736690411",
         "4.27951707837364",
         "4.25290959973621",
         "4.251308752454618",
         "4.248975028236087",
         "4.249993438736355",
         "4.248347359991212",
         "4.250251202642224",
         "4.249017199717898",
         "4.249290014655023",
         "4.25369978174507",
         "4.2547296855136745",
         "4.252954352116731",
         "4.248058241781985",
         "4.2452857586772765",
         "4.2516270792355035",
         "4.255728953803242",
         "4.236811463441587",
         "4.249689220982945",
         "4.249871658365406",
         "4.253632675285614",
         "4.242213614426281",
         "4.255810174428129",
         "4.249119541630928",
         "4.254206906134977",
         "4.244858431273945",
         "4.251445408138504",
         "4.231308194859318",
         "4.253691389682057",
         "4.2513550560539795",
         "4.207456625611046",
         "4.2519968618285295",
         "4.2516074487651165",
         "4.252347759035663",
         "4.24956992549814",
         "4.255929587715958",
         "4.251334340784503",
         "4.249023067937284",
         "4.223548124886733",
         "4.248549916785845",
         "4.206135220557443",
         "4.2511003296732905",
         "4.252405358965554",
         "4.250294417285098",
         "4.250432860808853",
         "4.253167429443436",
         "4.2456941425644885",
         "4.24727926232151",
         "4.244861845024171",
         "4.242297061845185",
         "4.3247976711533065",
         "4.253064682264817",
         "4.249018091545852",
         "4.256173307331885",
         "4.240944833875023",
         "4.2509195261487225",
         "4.2663942878826475",
         "4.2365873773347005",
         "4.250470059217172",
         "4.249075135477014",
         "4.251338975791919",
         "4.253543815230967",
         "4.244970355375249",
         "4.24542085251565",
         "4.216127711976202",
         "4.257559805215525",
         "4.229596797863047",
         "4.249881672918005",
         "4.252493221443884",
         "4.254146560399475",
         "4.250202522199294",
         "4.249980909089875",
         "4.239379735544751",
         "4.249495448965276",
         "4.249459175574747",
         "4.249702890896771",
         "4.251716056710725",
         "4.2583413823019916",
         "4.240697564231637",
         "4.236274790618031",
         "4.254796887924435",
         "4.237063695857459",
         "4.216080545749168",
         "4.2505732546308685",
         "4.247362681948233",
         "4.250032862170353",
         "4.250466028635578",
         "4.239622274541054",
         "4.3047698008641175",
         "4.249587613275535",
         "4.25005013961674",
         "4.248916948442214",
         "4.254065372528049",
         "4.281573935132889",
         "4.250627074145917",
         "4.257154702184385",
         "4.24947811348364",
         "4.255938965147355",
         "4.251651770809932",
         "4.250049853165136",
         "4.239335852150471",
         "4.250469633765563",
         "4.248858239622983",
         "4.249025951518001",
         "4.243185664454614",
         "4.250861770224346",
         "4.243696553951779",
         "4.249569118413929",
         "4.251757499133668",
         "4.25315265678488",
         "4.253337048558147",
         "4.249542601431751",
         "4.248092901363953",
         "4.252121816734251",
         "4.250937546773913",
         "4.354204550386716",
         "4.236980857984221",
         "4.252381605803267",
         "4.247760574042779",
         "4.247892066676526",
         "4.2519642205436625",
         "4.248724607853915",
         "4.251307230631196",
         "4.246704737078381",
         "4.246900073319995",
         "4.248728849550931",
         "4.25007451118675",
         "4.251257062990894",
         "4.247375953026847",
         "4.25348078072411",
         "4.255432098509285",
         "4.253039198234327",
         "4.250454124560641",
         "4.266929353525391",
         "4.25010600163429",
         "4.250549270215741",
         "4.258256153188896",
         "4.246488604510968",
         "4.24910013060974",
         "4.253219977395563",
         "4.255222926213489",
         "4.216867093542444",
         "4.250821569698391",
         "4.237831157247223",
         "4.254246224341631",
         "4.25065562170862",
         "4.244894414065817",
         "4.247035909644996",
         "4.244474836493534",
         "4.245428161291987",
         "4.249960129718054",
         "4.253798496294582",
         "4.2959040754786235",
         "4.250507588089585",
         "4.250027152730442",
         "4.250059250448945",
         "4.246210628628949",
         "4.2552816715383",
         "4.248961601760809",
         "4.25444001563145",
         "4.273739196500992",
         "4.238135943704844",
         "4.249222942243063",
         "4.287723176681993",
         "4.244430657022811",
         "4.257897254454548",
         "4.261196228594863",
         "4.244664907548596",
         "4.249400634531391",
         "4.251162535824276",
         "4.24604748280578",
         "4.250601471496564",
         "4.250807972597103",
         "4.243807860048024",
         "4.248154337387504",
         "4.251410297685576",
         "4.2559939223098935",
         "4.245604021461836",
         "4.243957578991424",
         "4.247499997376669",
         "4.247527076618002",
         "4.24333012629304",
         "4.240385428531541",
         "4.220970844709101",
         "4.250998682050098",
         "4.249533459534993",
         "4.232261422585272",
         "4.253699976845892",
         "4.245328413394767",
         "4.248959330665839",
         "4.249968338066525",
         "4.2638625323274555",
         "4.248324485068486",
         "4.250588548159839",
         "4.25123813121221",
         "4.2470982102966515",
         "4.250880917258752",
         "4.253051595917188",
         "4.2520232423288595",
         "4.242039315814744",
         "4.25230396914158",
         "4.249865894043291",
         "4.249261350853064",
         "4.261088080212539",
         "4.2877891428061705",
         "4.236789294854539",
         "4.254216026488899",
         "4.2308802960628125",
         "4.247976135685973",
         "4.2394274688377145",
         "4.28921698811575",
         "4.253122521346408",
         "4.250688616758311",
         "4.232514967815946",
         "4.249886323745777",
         "4.248731011730372",
         "4.249552688339185",
         "4.249321746233953",
         "4.2502326055410755",
         "4.250592046659911",
         "4.239822435359938",
         "4.249033378096237",
         "4.25016635863291",
         "4.254424484865814",
         "4.252270289157588",
         "4.250400884963772",
         "4.251869501664927",
         "4.253897469169929",
         "4.248535877892616",
         "4.242276939458053",
         "4.2525506599112",
         "4.249153853125194",
         "4.252448158508722",
         "4.24257689071493",
         "4.250729725726244",
         "4.245843238692861",
         "4.246029309584782",
         "4.245048721620681",
         "4.256819186288281",
         "4.250059942050417",
         "4.243772654785251",
         "4.251465381768456",
         "4.250807001242079",
         "4.248636786693437",
         "4.24826488093953",
         "4.263066319628624",
         "4.249465034101018",
         "4.245499444891225",
         "4.260352105214461",
         "4.2573046539308566",
         "4.250142604793072",
         "4.2485304226018386",
         "4.249355176237616",
         "4.252248202257016",
         "4.247382710153943",
         "4.244641933250052",
         "4.251046623166348",
         "4.249123114100212",
         "4.250183612109786",
         "4.2500683308921685",
         "4.228831010326935",
         "4.256629837618394",
         "4.267098772863372",
         "4.244243468241381",
         "4.215049155344482",
         "4.2493963981452705",
         "4.2502205677528435",
         "4.246714386759807",
         "4.267002786225651",
         "4.250301627112838",
         "4.26124497790399",
         "4.242990082401291",
         "4.245854741653884",
         "4.249579326434285",
         "4.249467952209974",
         "4.239061331530395",
         "4.250614724940383",
         "4.240238231597468",
         "4.262664144898883",
         "4.2531323700765435",
         "4.247792353685389",
         "4.250415429921783",
         "4.250799521855821",
         "4.254575253677376",
         "4.2476564233288485",
         "4.252804416295078",
         "4.253012895092706",
         "4.251615627145901",
         "4.251027986897901",
         "4.248105270664863",
         "4.25077931433397",
         "4.243020850837779",
         "4.260173136143426",
         "4.236941828602447",
         "4.249982277855075",
         "4.256216258570112",
         "4.2544421869260995",
         "4.26564760752516",
         "4.250382205234308",
         "4.247551727666765",
         "4.250156089853779",
         "4.246606399888616",
         "4.259391642605269",
         "4.208209289289414",
         "4.246249424865216",
         "4.252755020881501",
         "4.2497895529722145",
         "4.240994424664403",
         "4.240832214849235",
         "4.2374190501019005",
         "4.2553534256435395",
         "4.256401524902539",
         "4.252805651866432",
         "4.237383490984343",
         "4.240436899932758",
         "4.266144147935096",
         "4.239203941537722",
         "4.2491384231389855",
         "4.250011296348179",
         "4.246914523842748",
         "4.25620855546617",
         "4.239479316256536",
         "4.244051485948845",
         "4.2520262686031485",
         "4.258444998284679",
         "4.253622438827309",
         "4.251604633051273",
         "4.250367533351829",
         "4.247384702015285",
         "4.239763687643992",
         "4.26990377544736",
         "4.248262142669956",
         "4.251335118902935",
         "4.224911191666656",
         "4.25372991704535",
         "4.237623022728464",
         "4.250295830625455",
         "4.276174405492793",
         "4.267148999990453",
         "4.255950940477969",
         "4.248386424571839",
         "4.256837575715593",
         "4.255631671456773",
         "4.24787717464323",
         "4.248021316171524",
         "4.2532552809012865",
         "4.253046300022942",
         "4.256579366868069",
         "4.249627810838669",
         "4.2508443255275665",
         "4.250663451587134",
         "4.248623057057562",
         "4.248136590050844",
         "4.244633376702994",
         "4.238780943624763",
         "4.253562441001313",
         "4.2415499823912794",
         "4.247922438036715",
         "4.2485360996598365",
         "4.2646809669051935",
         "4.247743238539058",
         "4.24889696002435",
         "4.25007938806846",
         "4.237888695675954",
         "4.238685898294235",
         "4.250818546776918",
         "4.255436062792171",
         "4.288917235124402",
         "4.24921829548182",
         "4.251997412496883",
         "4.251390397861607",
         "4.247129911687985",
         "4.253139790515585",
         "4.250068874828051",
         "4.252455787646598",
         "4.211073500096123",
         "4.250799373331078",
         "4.2551602932697365",
         "4.250325203492858",
         "4.190974317615615",
         "4.250847028426272",
         "4.2323627474474215",
         "4.243620912708057",
         "4.24986743378493",
         "4.253356189082198",
         "4.256347462592458",
         "4.249374838612247",
         "4.256330763860065",
         "4.247211536537168",
         "4.253349162351105",
         "4.252470017126538",
         "4.265412138468979",
         "4.242513957785715",
         "4.258964533746705",
         "4.270655954276862",
         "4.225563449005794",
         "4.234897718862008",
         "4.247834174144166",
         "4.242910207495769",
         "4.268175191340697",
         "4.257512615296613",
         "4.253604068715232",
         "4.243935363758949",
         "4.250023685751404",
         "4.246123433256639",
         "4.255840604796137",
         "4.253735639547207",
         "4.2535189016651",
         "4.262826116804706",
         "4.244750894657095",
         "4.249174223812982",
         "4.256511896723664",
         "4.249573751909454",
         "4.257056128899342",
         "4.236925126413046",
         "4.197341604500073",
         "4.245264086140515",
         "4.246854106908269",
         "4.216464352337622",
         "4.248143536436696",
         "4.264756937825196",
         "4.252939994458858",
         "4.251018848579772",
         "4.24882677314243",
         "4.250056580092376",
         "4.25101824333854",
         "4.240913473510293",
         "4.248541090343212",
         "4.251376848462035",
         "4.25157665251529",
         "4.240475878305762",
         "4.246128878017718",
         "4.2403143345550625",
         "4.252114051133724",
         "4.250341797535414",
         "4.293499961509645",
         "4.2645142086527885",
         "4.253649823746056",
         "4.233132196275997",
         "4.250873788372364",
         "4.253330071559398",
         "4.24183953672489",
         "4.251414176500299",
         "4.258090123885901",
         "4.250555969769616",
         "4.2534581869280235",
         "4.25046202562505",
         "4.24131576745108",
         "4.249480136203323",
         "4.254562941225439",
         "4.24346367446044",
         "4.249190676154077",
         "4.288636384963876",
         "4.250166075966313",
         "4.2369077297729945",
         "4.2491885212644425",
         "4.217073247035203",
         "4.24901114061734",
         "4.256825818236705",
         "4.251483922358659",
         "4.2526479545215095",
         "4.25354472440559",
         "4.251005622402902",
         "4.249018562495466",
         "4.248650207333874",
         "4.272838799531915",
         "4.250082601037681",
         "4.249956406098147",
         "4.2473596432754",
         "4.245952737698237",
         "4.243816738982202",
         "4.2575361172126",
         "4.24641873670863",
         "4.252899676179557",
         "4.254008412122236",
         "4.255625358530386",
         "4.249020205221154",
         "4.250842949470217",
         "4.2547602203680635",
         "4.250989676816303",
         "4.248718930186772",
         "4.248394839686886",
         "4.248138008650858",
         "4.2499754709741335",
         "4.250594565149599",
         "4.238092629695765",
         "4.249279076478784",
         "4.249852603336141",
         "4.252775157654564",
         "4.251225699900602",
         "4.255663963241233",
         "4.248589161549393",
         "4.252497971111147",
         "4.250323085820716",
         "4.248755628541943",
         "4.2560756898305305",
         "4.247216021643228",
         "4.248078154814578",
         "4.255200991455812",
         "4.246730053136261",
         "4.2497809584680475",
         "4.253267557845342",
         "4.245983664992827",
         "4.295530938623407",
         "4.247241494433769",
         "4.251182336039622",
         "4.2184473647372425",
         "4.246864776429347",
         "4.248923528131241",
         "4.249979435956563",
         "4.2504997419833375",
         "4.24979853827456",
         "4.250428506923555",
         "4.240487186525008",
         "4.250726324144956",
         "4.248092184403625",
         "4.250468166163944",
         "4.259158428165337",
         "4.242091427242099",
         "4.25245162347446",
         "4.2451605113767155",
         "4.247681308424993",
         "4.248148003973161",
         "4.24906066829834",
         "4.250797253715696",
         "4.243472704278287",
         "4.247512648826587",
         "4.2456120032001365",
         "4.243597603881535",
         "4.241052182177047",
         "4.251270113737712",
         "4.2517379302866045",
         "4.247804592251372",
         "4.2503084318051405",
         "4.242085729345654",
         "4.256765781353241",
         "4.253456272235654",
         "4.250572365214546",
         "4.250382618221913",
         "4.264099018240338",
         "4.2499542512672965",
         "4.249880548303543",
         "4.247789761572461",
         "4.2434477748120365",
         "4.251954494910025",
         "4.241616460150717",
         "4.248741523794376",
         "4.231626826823904",
         "4.264043308195988",
         "4.25017751582609",
         "4.254437572442838",
         "4.215478040856611",
         "4.2462478192465545",
         "4.242550444749689",
         "4.24844388441387",
         "4.249101313530201",
         "4.254342822206572",
         "4.2467846773155165",
         "4.251271064940105",
         "4.246670722438795",
         "4.206105847750225",
         "4.246238714881797",
         "4.25987164845999",
         "4.242109359032995",
         "4.2484140477940615",
         "4.266662925127662",
         "4.2469366400102775",
         "4.254368886893447",
         "4.247037555252394",
         "4.244788418574225",
         "4.251154168204171",
         "4.244387810393274",
         "4.235243595775361",
         "4.2487049424827426",
         "4.248415964925393",
         "4.27074681035311",
         "4.250793855185201",
         "4.2388633632089405",
         "4.2469162961025715",
         "4.268450287476639",
         "4.240351749870628",
         "4.244376186315762",
         "4.249302912721687",
         "4.249201273844091",
         "4.238677717841411",
         "4.292654542479952",
         "4.25120258279656",
         "4.251911321410753",
         "4.249739926099882",
         "4.246784650819384",
         "4.254816654657269",
         "4.249175238587257",
         "4.280030952290308",
         "4.245514426851322",
         "4.279439437822242",
         "4.273398374734338",
         "4.2505615351291635",
         "4.251784708050017",
         "4.251139716228474",
         "4.2506620392041174",
         "4.2400551094372965",
         "4.247963259891767",
         "4.249667967432795",
         "4.250130966184613",
         "4.253270310349874",
         "4.233035780683511",
         "4.248622151968665",
         "4.2445665735669",
         "4.236122027290641",
         "4.2571720964286905",
         "4.249941272316618",
         "4.249190669999974",
         "4.217613429308628",
         "4.234498257057676",
         "4.243483561251606",
         "4.231766062973783",
         "4.247697929547405",
         "4.25624955716504",
         "4.2492634071752216",
         "4.245996782859294",
         "4.249888947439921",
         "4.243815531412637",
         "4.254070147694849",
         "4.253220126559693",
         "4.250747537159816",
         "4.248276862967039",
         "4.261763652276922",
         "4.239584896256191",
         "4.2543324226355805",
         "4.260416237880428",
         "4.244283242928577",
         "4.2465894917551985",
         "4.2454246274026195",
         "4.259259762086782",
         "4.242242873091529",
         "4.250092449076732",
         "4.251621031597682",
         "4.245644230589706",
         "4.244642753787725",
         "4.249476967643422",
         "4.242247440422417",
         "4.245290049535163",
         "4.2556724304025755",
         "4.250361209617601",
         "4.250005250669027",
         "4.242282379358411",
         "4.249976608934903",
         "4.266072325164929",
         "4.2545222489895265",
         "4.2661449778686205",
         "4.251005770133442",
         "4.241287111454978",
         "4.259300061306934",
         "4.249062305135829",
         "4.2498771252783865",
         "4.244397686687277",
         "4.247400868673465",
         "4.2518602034487705",
         "4.249005039206659",
         "4.246401464399765",
         "4.251985608701155",
         "4.24909342184445",
         "4.249025975144221",
         "4.248572079299767",
         "4.233046912998272",
         "4.244953261199142",
         "4.246751885206375",
         "4.250082305274769",
         "4.252211412855606",
         "4.239802363460815",
         "4.252871381132501",
         "4.256754746603141",
         "4.2481888636815555",
         "4.247763680603783",
         "4.251023787037549",
         "4.242419466436284",
         "4.247378596855597",
         "4.238219489051636",
         "4.249027233411027",
         "4.25595807958608",
         "4.2450522040245",
         "4.248285219800594",
         "4.259299159117373",
         "4.249019150260392",
         "4.24620210898006",
         "4.240248532410896",
         "4.253769626805743",
         "4.248786018737082",
         "4.250154889597412",
         "4.249485415024271",
         "4.243816387990251",
         "4.259607195710756",
         "4.2541908649529265",
         "4.249433675720517",
         "4.2616924460271415",
         "4.249030448750847",
         "4.245225295133909",
         "4.250111235462483",
         "4.261069156890429",
         "4.256059160593198",
         "4.254104358953218",
         "4.254530767171898",
         "4.249396930578343",
         "4.249200218327339",
         "4.251336430564635",
         "4.237533177221986",
         "4.248600079616261",
         "4.253716887072174",
         "4.255752697487098",
         "4.247770165287767",
         "4.246075189893181",
         "4.25004835330799",
         "4.251775944575409",
         "4.204426779509517",
         "4.241880938049135",
         "4.254925913684017",
         "4.2543826667872615",
         "4.262356843585044",
         "4.252667850687631",
         "4.257750827003955",
         "4.248114212193747",
         "4.262831982018244",
         "4.248293465731043",
         "4.247579414048396",
         "4.2519048005659155",
         "4.244223884787743",
         "4.239092613325442",
         "4.248145698676845",
         "4.2502586232322965",
         "4.251215291374578",
         "4.248845598416218",
         "4.250897529654308",
         "4.246879394549717",
         "4.248427894573487",
         "4.249252076706512",
         "4.259447604613075",
         "4.244421644214653",
         "4.2568647471898595",
         "4.252355543368514",
         "4.250308608898352",
         "4.249771459018053",
         "4.254825031457115",
         "4.2466544374179875",
         "4.250276655045538",
         "4.2518047198497335",
         "4.249463925521078",
         "4.2561974402533105",
         "4.249249783083379",
         "4.263493290392992",
         "4.249873997110108",
         "4.242077284164726",
         "4.2455218306563385",
         "4.257570526603434",
         "4.249187206922902",
         "4.252539403385971",
         "4.2521244609581395",
         "4.254121429439266",
         "4.255525069670106",
         "4.25177971912948",
         "4.247220028623232",
         "4.2501075079147865",
         "4.250350896490348",
         "4.251183272880006",
         "4.250438975349307",
         "4.242333192889483",
         "4.257710871852164",
         "4.251121298441233",
         "4.252031146869078",
         "4.250273580008784",
         "4.250376327703437",
         "4.250091179270794",
         "4.264447666793181",
         "4.237346000305546",
         "4.25070152200358",
         "4.230805338087461",
         "4.243441474801897",
         "4.249419591716793",
         "4.251303263909894",
         "4.284432448208284",
         "4.254072489587402",
         "4.248770453813116",
         "4.250041991455584",
         "4.250542294897627",
         "4.255803260289226",
         "4.247032445341868",
         "4.2505338082376145",
         "4.256985000905295",
         "4.249579676964486",
         "4.244150687830234",
         "4.231405444157786",
         "4.249999634101312",
         "4.257589118637045",
         "4.246485111652667",
         "4.248851648682672",
         "4.252465720777492",
         "4.243183915886132",
         "4.246737940295928",
         "4.249900547504023",
         "4.248022481783426",
         "4.25207883002",
         "4.251981489931426",
         "4.253256350634143",
         "4.262948773459734",
         "4.255277908038103",
         "4.266285702934539",
         "4.223967625690661",
         "4.262280432701203",
         "4.248564825982035",
         "4.231238671614281",
         "4.235529785143184",
         "4.256411450012125",
         "4.24818065973777",
         "4.2493409979873515",
         "4.2510394864789465",
         "4.250230067536494",
         "4.2226404594113145",
         "4.250340419957624",
         "4.249032065411137",
         "4.247898265498026",
         "4.278800635299863",
         "4.245209979337619",
         "4.244622146007028",
         "4.255501621830093",
         "4.249142412345571",
         "4.250418316520158",
         "4.248927394772359",
         "4.199291067708935",
         "4.246460927297909",
         "4.255617031775105",
         "4.256816685855458",
         "4.246344288336218",
         "4.250244917557482",
         "4.247416799801339",
         "4.24997579389217",
         "4.272457322391438",
         "4.250437765814894",
         "4.250224466860707",
         "4.248555721252513",
         "4.279491265130152",
         "4.251814511217576",
         "4.249137186088481",
         "4.249626626345233",
         "4.246214958678801",
         "4.254665492253153",
         "4.24345257062033",
         "4.2643280004522905",
         "4.250039862292357",
         "4.201560034059709",
         "4.261415669334754",
         "4.257994480179035",
         "4.250123954350258",
         "4.255097605932097",
         "4.244675678632943",
         "4.250266567668321",
         "4.251249510161736",
         "4.243234102444564",
         "4.250754072827674",
         "4.254231828917061",
         "4.253680161311164",
         "4.251238583036377",
         "4.251590681464101",
         "4.244093759460357",
         "4.250977088400781",
         "4.252683091642833",
         "4.249773337871127",
         "4.249357231515643",
         "4.246326548552677",
         "4.249495351980691",
         "4.247960004354832",
         "4.227995301509125",
         "4.241614406389717",
         "4.246592863803517",
         "4.245516580006047",
         "4.247473836555722",
         "4.253375208375478",
         "4.25029415600917",
         "4.256107694209833",
         "4.257364768868205",
         "4.25127195251731",
         "4.250881277598554",
         "4.24624542386141",
         "4.250299148040208",
         "4.2505767658433875",
         "4.252702245472004",
         "4.251127244481861",
         "4.2472230949267145",
         "4.2581348093932725",
         "4.24630636009887",
         "4.246982327310965",
         "4.263972105716115",
         "4.239340107786679",
         "4.263890976769034",
         "4.2519338733906675",
         "4.24939592970695",
         "4.251423918510486",
         "4.24932544501701",
         "4.242446077464009",
         "4.251399404614385",
         "4.252897949816778",
         "4.253053935928854",
         "4.262573903092191",
         "4.2496941637662",
         "4.25907388766638",
         "4.247912918072079",
         "4.249581713389699",
         "4.2494823360857135",
         "4.255791849820316",
         "4.251673102709166",
         "4.255747426279402",
         "4.289729128508822",
         "4.247496360771147",
         "4.198508449807341",
         "4.254089235915951",
         "4.229287995377606",
         "4.249679140455522",
         "4.249917330158512",
         "4.266603546039131",
         "4.255522994047299",
         "4.251530714923788",
         "4.2596384359800155",
         "4.252398409991463",
         "4.246944415629819",
         "4.254548263963683",
         "4.2492469945489315",
         "4.247373232132977",
         "4.25020651518567",
         "4.249645133486703",
         "4.251075587476718",
         "4.252909143139465",
         "4.246607672296767",
         "4.250030896444069",
         "4.253025835597743",
         "4.257519895500255",
         "4.251917664134639",
         "4.245766691208031",
         "4.249458193408253",
         "4.250519938301484",
         "4.24816932617233",
         "4.213209964661843",
         "4.241213985423964",
         "4.2460047949006245",
         "4.250238860149178",
         "4.250160662540655",
         "4.251559363749185",
         "4.241579029435462",
         "4.247779473456025",
         "4.259298497629853",
         "4.2393561543036515",
         "4.249617129972746",
         "4.2467593975636175",
         "4.242807252341717",
         "4.251267235011715",
         "4.248018277641395",
         "4.257958478788761",
         "4.249682924453915",
         "4.246316317759568",
         "4.248999325577654",
         "4.247859896566491",
         "4.254696266037581",
         "4.247887694412591",
         "4.247435944224007",
         "4.275916016174773",
         "4.250344502289863",
         "4.250862324787771",
         "4.249694092365239",
         "4.250047163404858",
         "4.2475079153146345",
         "4.250579088898352",
         "4.2510017575590195",
         "4.251545904115126",
         "4.25638770704402",
         "4.245299840021109",
         "4.24871724641618",
         "4.252146152574169",
         "4.250149338273393",
         "4.250949431862433",
         "4.248982034437516",
         "4.249956644463705",
         "4.252531688011945",
         "4.249792635553086",
         "4.250114989433976",
         "4.2502369955403205",
         "4.257413564165233",
         "4.270280948505766",
         "4.250734864487275",
         "4.2502735397158276",
         "4.254204824591291",
         "4.251331139732631",
         "4.252734774679694",
         "4.23104311410219",
         "4.234883259386784",
         "4.249990361097703",
         "4.247980230808959",
         "4.251148703545104",
         "4.246322448804298",
         "4.2419758064441595",
         "4.212365755752812",
         "4.2485734096435275",
         "4.251039282658905",
         "4.249248884923336",
         "4.240523330719265",
         "4.2489889900684865",
         "4.2483442057943845",
         "4.241647338375359",
         "4.250684179197147",
         "4.254224410332697",
         "4.248498163136719",
         "4.2139854227130344",
         "4.263130261309793",
         "4.245736512373115",
         "4.251741977245779",
         "4.249468545601262",
         "4.2411046411589775",
         "4.249062753432806",
         "4.258046772072229",
         "4.247023798048199",
         "4.2432811202034655",
         "4.216112164231122",
         "4.246480290950174",
         "4.247975566485102",
         "4.259421856113245",
         "4.25415724813643",
         "4.259937214271611",
         "4.249780009316175",
         "4.249212566535795",
         "4.254441812595487",
         "4.250501976040087",
         "4.251337856388409",
         "4.237777226877171",
         "4.2511613965403665",
         "4.246336717891152",
         "4.256202622954581",
         "4.239403520076877",
         "4.256706180704758",
         "4.237107858951289",
         "4.249621181764337",
         "4.248758992399802",
         "4.24570804582331",
         "4.2583408966509975",
         "4.25244779731117",
         "4.236596269467631",
         "4.24888123653235",
         "4.25146278157472",
         "4.252582989476045",
         "4.249906234711195",
         "4.233204870073232",
         "4.249505388103993",
         "4.247404894310379",
         "4.24643106408996",
         "4.224249581116607",
         "4.2430871351975865",
         "4.248256322851773",
         "4.264158667897897",
         "4.251389624387988",
         "4.249788584456156",
         "4.246649884769962",
         "4.258299521123268",
         "4.249579752727616",
         "4.251151808030154",
         "4.249700586364252",
         "4.245773764360674",
         "4.247391330318916",
         "4.240472313882238",
         "4.254967276898073",
         "4.254761862412983",
         "4.25264810794144",
         "4.233820467452081",
         "4.235266603271369",
         "4.2454347626484745",
         "4.253837371845633",
         "4.254552179134138",
         "4.253524764031546",
         "4.249763090411585",
         "4.251963636628994",
         "4.2414320167494015",
         "4.259361409005837",
         "4.2474102778443115",
         "4.250923614476682",
         "4.248414363360472",
         "4.246280142799385",
         "4.250044546413175",
         "4.244573287251378",
         "4.25173650536029",
         "4.247035429850138",
         "4.246734086864643",
         "4.220652886647113",
         "4.219878930236589",
         "4.261642334212831",
         "4.2553948017945284",
         "4.2480409732980355",
         "4.257815527278269",
         "4.25016537123214",
         "4.251093524722925",
         "4.250386861216264",
         "4.249090513013701",
         "4.2410135898292936",
         "4.25482794974813",
         "4.261149569335179",
         "4.251839813035088",
         "4.2484312426328925",
         "4.2516039004308634",
         "4.250915852948968",
         "4.24940216399588",
         "4.252156778334897",
         "4.244662303617085",
         "4.236797247703187",
         "4.265279177731731",
         "4.257442401747978",
         "4.251279006252025",
         "4.245630218101903",
         "4.248888175798171",
         "4.2505237208611275",
         "4.260466615405291",
         "4.248815460294821",
         "4.248845312282088",
         "4.249014023590712",
         "4.248061102714817",
         "4.25110046968904",
         "4.2513487968846295",
         "4.248316885427924",
         "4.251924861765546",
         "4.25941850190386",
         "4.250207506014178",
         "4.249897844593359",
         "4.249193746164109",
         "4.250084816074652",
         "4.252216292538939",
         "4.256203964222226",
         "4.246475541518812",
         "4.25040246508172",
         "4.26008038720885",
         "4.236407703669567",
         "4.246896068143281",
         "4.257985315197085",
         "4.245226803525483",
         "4.249572308847099",
         "4.247773153839255",
         "4.235199029692024",
         "4.250625740176987",
         "4.249618577429702",
         "4.250764089074422",
         "4.222271033560802",
         "4.255689327407046",
         "4.249924155689003",
         "4.253877735667072",
         "4.248681478382989",
         "4.254964930626568",
         "4.274263066006061",
         "4.248588898127032",
         "4.2545582620187075",
         "4.250408856135709",
         "4.246019950791605",
         "4.251512074333007",
         "4.252671077916186",
         "4.249077562074663",
         "4.247817911778048",
         "4.252208049707511",
         "4.252868365499472",
         "4.249139445980321",
         "4.243363444972761",
         "4.253853091687463",
         "4.254262332710856",
         "4.223184857055184",
         "4.254201130006808",
         "4.2499631285216575",
         "4.242530285815307",
         "4.253091027338222",
         "4.250953985448829",
         "4.246574078531738",
         "4.249941042532138",
         "4.243926598720353",
         "4.248207451475595",
         "4.212872130837192",
         "4.249530181936199",
         "4.261288940914428",
         "4.2488948649177605",
         "4.252627184599027",
         "4.233875312412369",
         "4.235041571508947",
         "4.252273968188109",
         "4.2499276854199755",
         "4.253518978574427",
         "4.248701898308391",
         "4.251574872909022",
         "4.254664683462294",
         "4.249779614499343",
         "4.2505237709023405",
         "4.254197041291562",
         "4.24994006214834",
         "4.247052778659113",
         "4.250005250669027",
         "4.244994074503531",
         "4.24612563958229",
         "4.2484085295307255",
         "4.258176804803767",
         "4.241914364801509",
         "4.24986933933181",
         "4.252728321275305",
         "4.239471294555483",
         "4.257099199120593",
         "4.249349053149752",
         "4.250467543829668",
         "4.24732824189743",
         "4.264930396260869",
         "4.249675190063939",
         "4.252458409869709",
         "4.24962405547163",
         "4.250516939565835",
         "4.241636528512953",
         "4.248849674683503",
         "4.252822587212027",
         "4.244637500685934",
         "4.319237291981705",
         "4.250524856573067",
         "4.251454169244038",
         "4.264592937071652",
         "4.23793113306564",
         "4.251356822133823",
         "4.253616670544517",
         "4.249974236202257",
         "4.250461810739555",
         "4.221189184446972",
         "4.236200193295497",
         "4.271111939948483",
         "4.2499705882255165",
         "4.244742311187741",
         "4.24994106520183",
         "4.248307312822343",
         "4.24316211938497",
         "4.244108420054177",
         "4.251301087879613",
         "4.25022578304149",
         "4.247192468800811",
         "4.24745005994925",
         "4.249530176102261",
         "4.253353424995628",
         "4.249910040358671",
         "4.251485073935061",
         "4.263857705684491",
         "4.2482857658794675",
         "4.250320833857214",
         "4.2572071194231",
         "4.255887047714749",
         "4.351982376817803",
         "4.25020487604806",
         "4.2503966175882395",
         "4.250005250669027",
         "4.2523273678661635",
         "4.249922369946259",
         "4.244157266908821",
         "4.250826505308913",
         "4.250659779449479",
         "4.253058719754521",
         "4.24986367345864",
         "4.247619808091547",
         "4.246372134843867",
         "4.251809038062819",
         "4.249627898143791",
         "4.248130431483984",
         "4.24839294809051",
         "4.249558958189937",
         "4.2313534100809385",
         "4.2194458156748285",
         "4.2487747692674755",
         "4.253153832735801",
         "4.251002287532899",
         "4.252056744825755",
         "4.2500360363673355",
         "4.2467248799632245",
         "4.24934506144878",
         "4.244118381850409",
         "4.250470138988384",
         "4.2477711715317845",
         "4.251621129228375",
         "4.248504573766848",
         "4.251479867985322",
         "4.249460092205393",
         "4.255005520295413",
         "4.251693440534858",
         "4.249336070007905",
         "4.247892726063683",
         "4.241555118174543",
         "4.250924748174783",
         "4.248844097677577",
         "4.2438687118215395",
         "4.264458035576437",
         "4.25317629213567",
         "4.2606615683258475",
         "4.258226112451259",
         "4.274256146119064",
         "4.248190941144635",
         "4.240640201039443",
         "4.251805839294771",
         "4.225553057969274",
         "4.249465333646622",
         "4.233746079831106",
         "4.249138872892489",
         "4.249005023131579",
         "4.250392029987789",
         "4.24756556896657",
         "4.251561267644185",
         "4.258838028254595",
         "4.251711806196062",
         "4.241581393905873",
         "4.245934074091753",
         "4.248410844412532",
         "4.246667026977136",
         "4.2463706058450015",
         "4.252230821957519",
         "4.2502684763027405",
         "4.254178220061208",
         "4.250290812205464",
         "4.256132907080177",
         "4.242342413915249",
         "4.23095914869389",
         "4.248022074365201",
         "4.250909249487842",
         "4.248952085696359",
         "4.24738312423736",
         "4.244218661788106",
         "4.2431072592268455",
         "4.249421660776952",
         "4.236543336643018",
         "4.24454708016419",
         "4.233591001519036",
         "4.255931295309273",
         "4.256576781473809",
         "4.251998211903058",
         "4.208651409682487",
         "4.2485177278641775",
         "4.240092228924949",
         "4.2554344762019705",
         "4.25049577377743",
         "4.255316065237556",
         "4.247834222819419",
         "4.250289226228283",
         "4.239842512759411",
         "4.247780532472491",
         "4.24236353535061",
         "4.24738828715637",
         "4.254644680530388",
         "4.248037778707719",
         "4.24697582439131",
         "4.2512219678992755",
         "4.250984178360857",
         "4.229558599112753",
         "4.253205463901026",
         "4.234952598134914",
         "4.245012699216524",
         "4.2493060909341605",
         "4.243614882880404",
         "4.253499332227629",
         "4.247644755120501",
         "4.235361301198449",
         "4.250177465426779",
         "4.250224506965289",
         "4.239072202060732",
         "4.239595456774749",
         "4.2501457750580816",
         "4.2443867213028605",
         "4.251843654646688",
         "4.243500018509277",
         "4.238922777170795",
         "4.2500582975062615",
         "4.248086821478512",
         "4.251487249494116",
         "4.241271234477522",
         "4.249863082451434",
         "4.2474603901344",
         "4.223983989500925",
         "4.256505714521913",
         "4.257024160372448",
         "4.249694221438553",
         "4.250226206864545",
         "4.289237541028124",
         "4.259780703262965",
         "4.249960950782421",
         "4.248590324691225",
         "4.2466263491895555",
         "4.250944552613215",
         "4.262981499198677",
         "4.249174530860041",
         "4.2493796665849795",
         "4.249793359371342",
         "4.250764339172068",
         "4.246093942108685",
         "4.249573869246775",
         "4.25042403640622",
         "4.2413454449677985",
         "4.250836919121708",
         "4.250019788307812",
         "4.2521792452785485",
         "4.251377179821692",
         "4.24880543388056",
         "4.222829961529874",
         "4.250395043006955",
         "4.249566118020224",
         "4.252215938655412",
         "4.252994735256054",
         "4.415345049870052",
         "4.249637686252774",
         "4.2493849851720675",
         "4.272423261996371",
         "4.250120921425553",
         "4.2555605368116325",
         "4.25118896606781",
         "4.2429374950730905",
         "4.25506547083503",
         "4.247961408412476",
         "4.2592522526544006",
         "4.247973707619101",
         "4.247060161608635",
         "4.25278224525148",
         "4.248332872790955",
         "4.2502297972266865",
         "4.249362228710424",
         "4.251686146125543",
         "4.2516237767562",
         "4.244512545991507",
         "4.309978714740696",
         "4.261052914278697",
         "4.244356709744683",
         "4.250176268535302",
         "4.253257905431976",
         "4.250932938080192",
         "4.2493410187266925",
         "4.257542972726614",
         "4.236599438418655",
         "4.251049338404466",
         "4.250272160569238",
         "4.251915444709766",
         "4.261807792489622",
         "4.248792873278393",
         "4.255147044001065",
         "4.255444394190597",
         "4.250077002206234",
         "4.234020778804633",
         "4.238366283076989",
         "4.249029378901074",
         "4.2499754709741335",
         "4.25021425204291",
         "4.2522212988839705",
         "4.24214791147083",
         "4.245565784613177",
         "4.240875494690927",
         "4.24977597553983",
         "4.249932178320456",
         "4.243848281500069",
         "4.246762757929276",
         "4.249333495627849",
         "4.249503213801896",
         "4.258447800860573",
         "4.234014319391348",
         "4.25035579841828",
         "4.24859325112251",
         "4.240773436013172",
         "4.2449464262073935",
         "4.261835469514286",
         "4.252323934199444",
         "4.25067754693145",
         "4.261417816568756",
         "4.249464769658576",
         "4.258359519177958",
         "4.253949149420903",
         "4.2575580349505975",
         "4.26206352988444",
         "4.250175093704728",
         "4.261178740767491",
         "4.2406269334748306",
         "4.249909381512869",
         "4.248152258697738",
         "4.259425942705353",
         "4.248002373875368",
         "4.229663243584516",
         "4.239897391676501",
         "4.247826154952743",
         "4.248039417960357",
         "4.244341359329736",
         "4.2606796317725",
         "4.248651738494335",
         "4.246678851411994",
         "4.248822911542699",
         "4.25127642034623",
         "4.250156304870876",
         "4.249603344059172",
         "4.243149633951711",
         "4.247317748460311",
         "4.2478455961850425",
         "4.248832340897072",
         "4.247676232203247",
         "4.2434586719776695",
         "4.25724374911366",
         "4.249501480836811",
         "4.228445724087965",
         "4.245556782709378",
         "4.246935738729672",
         "4.249883033088159",
         "4.239439115731093",
         "4.247431615584126",
         "4.250277617379122",
         "4.249059553832594",
         "4.25007471599905",
         "4.246489472729144",
         "4.259159645186234",
         "4.249374270512204",
         "4.2499046021426805",
         "4.2494483494431705",
         "4.251317332105129",
         "4.249517447155862",
         "4.249863989292438",
         "4.248242782945597",
         "4.246809123165434",
         "4.245623846327961",
         "4.355603750337642",
         "4.2501579787545",
         "4.257009261371468",
         "4.2349939347148755",
         "4.244090592777747",
         "4.4091658932879945",
         "4.249231137581425",
         "4.249932367439684",
         "4.22241609015486",
         "4.245454353687719",
         "4.24133451141474",
         "4.255414059308185",
         "4.250288999321991",
         "4.251392163796596",
         "4.241638825967327",
         "4.249467468224962",
         "4.2498780546558885",
         "4.253585994159119",
         "4.247100821222724",
         "4.250868839808068",
         "4.254091811062311",
         "4.249612046805218",
         "4.245804581444951",
         "4.254447960240656",
         "4.25076480863626",
         "4.25045522315971",
         "4.253398849753538",
         "4.24676576499835",
         "4.223224464496259",
         "4.254952703600713",
         "4.252993989555428",
         "4.257107221874995",
         "4.2526424200871515",
         "4.251039249824473",
         "4.249463097430763",
         "4.2378848759576195",
         "4.249964862495261",
         "4.2485042953216485",
         "4.252176703774542",
         "4.287146005004849",
         "4.245824648070775",
         "4.2357038411878785",
         "4.2496826089973405",
         "4.2400568172106965",
         "4.253895603883458",
         "4.252095257041728",
         "4.250963500507779",
         "4.24346693155664",
         "4.247098224255854",
         "4.242637542637388",
         "4.252127135112496",
         "4.235253360546466",
         "4.249016521687113",
         "4.250907086247648",
         "4.246531903718593",
         "4.249538223857139",
         "4.2519684639748005",
         "4.249546955962602",
         "4.250174681186397",
         "4.250201857636905",
         "4.2530982474049965",
         "4.247537456956392",
         "4.282741965677887",
         "4.252238473790055",
         "4.2436694266701345",
         "4.246514498032651",
         "4.252120024034758",
         "4.240143361665825",
         "4.243662934139164",
         "4.249870443768848",
         "4.248996300250473",
         "4.248453373400498",
         "4.252402801853375",
         "4.250245404176467",
         "4.249582394227461",
         "4.250085885777004",
         "4.250290583328469",
         "4.2498256180066",
         "4.249224432425597",
         "4.268085716824195",
         "4.2443743572972465",
         "4.245019544633911",
         "4.264781849897386",
         "4.252109332935639",
         "4.2199077284146895",
         "4.2371990271123625",
         "4.2608429448136205",
         "4.259232016531325",
         "4.255140535947358",
         "4.244631909497209",
         "4.250587717174345",
         "4.24077134116495",
         "4.2410034789404545",
         "4.248423153344806",
         "4.253004613675352",
         "4.2361011514505895",
         "4.234053446545427",
         "4.233803915963045",
         "4.247093175856566",
         "4.250012763805826",
         "4.243395154048307",
         "4.240527242857322",
         "4.2490515192618545",
         "4.249908804080505",
         "4.260917932123985",
         "4.262237669194867",
         "4.250609117815928",
         "4.28474931539902",
         "4.247856866231075",
         "4.2497810784285015",
         "4.253053940935603",
         "4.249605751064091",
         "4.251133973973527",
         "4.254227063592956",
         "4.248683302553881",
         "4.262946275694067",
         "4.247383784755796",
         "4.250240071258535",
         "4.249070170861401",
         "4.250380282088547",
         "4.248544680461437",
         "4.250135091603289",
         "4.247564939670383",
         "4.248254541347573",
         "4.249190479423436",
         "4.247953080249317",
         "4.2516737247525",
         "4.251135904773848",
         "4.249283644823725",
         "4.245589005489772",
         "4.234051555004714",
         "4.221518902840591",
         "4.258015199057446",
         "4.249119876951434",
         "4.243003445921044",
         "4.266822004792536",
         "4.264848350318462",
         "4.269057309716678",
         "4.254549362129378",
         "4.1898942646006825",
         "4.268627668937614",
         "4.2501873147384",
         "4.270142213292629",
         "4.241811976291773",
         "4.208936311687691",
         "4.2466294098737825",
         "4.244510142614192",
         "4.249591697607013",
         "4.261570355367079",
         "4.249818766833164",
         "4.246967697648044",
         "4.250795138692483",
         "4.248412789817238",
         "4.264207992807461",
         "4.249050002415257",
         "4.253006619159424",
         "4.304651338923397",
         "4.249641526562812",
         "4.251925600508023",
         "4.249434273027126",
         "4.243926143595431",
         "4.240782639035511",
         "4.264382502113509",
         "4.243498336876208",
         "4.248259468664185",
         "4.250449804567191",
         "4.258344978147319",
         "4.2438113616190805",
         "4.164336044020589",
         "4.24451056230613",
         "4.259133047742151",
         "4.2269717140362255",
         "4.230048012949909",
         "4.251495485778067",
         "4.249002416603194",
         "4.248080040961527",
         "4.253543298036648",
         "4.253987769510279",
         "4.249078541004322",
         "4.248262966836351",
         "4.254415958325977",
         "4.248682524345624",
         "4.249015808312365",
         "4.249523704931305",
         "4.250540690382166",
         "4.258924345075036",
         "4.254654561173698",
         "4.237116251335663",
         "4.250554049132911",
         "4.255581440274782",
         "4.250091762607158",
         "4.266559417206905",
         "4.257056655595693",
         "4.2541956079072865",
         "4.258389646240519",
         "4.260056589749659",
         "4.253582313126844",
         "4.230549023095877",
         "4.250413324515792",
         "4.259683578717137",
         "4.249254330341",
         "4.250735749990544",
         "4.248587597968406",
         "4.251560649419156",
         "4.242484629707875",
         "4.250430380072643",
         "4.249549498387103",
         "4.242628569629299",
         "4.278347071918356",
         "4.256769898245089",
         "4.22679937623761",
         "4.239473222594991",
         "4.264518992792034",
         "4.267686471375449",
         "4.250495514352303",
         "4.245092848898426",
         "4.250086938298223",
         "4.247565495771619",
         "4.255022349194729",
         "4.253008278976545",
         "4.247270389892849",
         "4.2455164934516825",
         "4.25042951261139",
         "4.239590485486925",
         "4.2555633574376195",
         "4.249705139983034",
         "4.247671010271978",
         "4.250098666536195",
         "4.250526904713128",
         "4.250107028682816",
         "4.250097610188403",
         "4.249681585855385",
         "4.2499754709741335",
         "4.256558506195364",
         "4.252062733071846",
         "4.251044568816145",
         "4.246829029506353",
         "4.2499712079237435",
         "4.249603706658555",
         "4.262208151428858",
         "4.25221220322593",
         "4.250034173114039",
         "4.2437663156364165",
         "4.247088388237738",
         "4.2494261156411826",
         "4.251210448820051",
         "4.272667006285185",
         "4.247255594798808",
         "4.254185080687297",
         "4.238860766143921",
         "4.257295744909071",
         "4.257790696544237",
         "4.250075202279849",
         "4.250945284355983",
         "4.244687687483217",
         "4.260261987728716",
         "4.26150795636543",
         "4.23460214238413",
         "4.250035030363921",
         "4.249568949258906",
         "4.249032945139134",
         "4.252719517027161",
         "4.252436124725268",
         "4.251346076048729",
         "4.249407786071831",
         "4.246136011451912",
         "4.24987205157082",
         "4.2466081183636994",
         "4.250040443162841",
         "4.2148682490172025",
         "4.249551357332503",
         "4.233231823070233",
         "4.245296706658962",
         "4.248106005220842",
         "4.250073094998421",
         "4.24573716733955",
         "4.242420569098452",
         "4.248886976064377",
         "4.248694381431317",
         "4.306796906747023",
         "4.244121956808933",
         "4.2543743879560765",
         "4.249694073711281",
         "4.250379383038435",
         "4.264329096042789",
         "4.231364371276394",
         "4.250310749489111",
         "4.248558048478609",
         "4.238582079758151",
         "4.241962995701468",
         "4.250496865323943",
         "4.249406097064532",
         "4.257403623793202",
         "4.252450996204629",
         "4.248316903166903",
         "4.248930484391683",
         "4.249881183377312",
         "4.257393030525614",
         "4.264217292987198",
         "4.250265368648609",
         "4.247985527873761",
         "4.249510683043095",
         "4.2413043837470426",
         "4.250248010261758",
         "4.2478518158545375",
         "4.247065189495526",
         "4.250896483387854",
         "4.248758482435022",
         "4.247162579134664",
         "4.249076273824208",
         "4.250798418937932",
         "4.226403696290904",
         "4.2491654842596285",
         "4.2508628024010155",
         "4.247838358509119",
         "4.250624231462614",
         "4.248343295278089",
         "4.248515770545432",
         "4.252461262590901",
         "4.251080579778359",
         "4.255317372471652",
         "4.249315293826524",
         "4.249619925586736",
         "4.249090421314117",
         "4.2527796980249235",
         "4.255796152451492",
         "4.23263673307383",
         "4.239945347947483",
         "4.248615556994805",
         "4.273047130423632",
         "4.249182154195696",
         "4.249760165128975",
         "4.250395892391594",
         "4.24064788955804",
         "4.259735556886064",
         "4.24311806300583",
         "4.245373220645102",
         "4.164579630279628",
         "4.243147626498345",
         "4.2499827393860485",
         "4.235489053097126",
         "4.279811537701547",
         "4.251666278207802",
         "4.249357533431337",
         "4.25168729647867",
         "4.249996540051463",
         "4.251342517290571",
         "4.252393369429436",
         "4.249581534525729",
         "4.248894573514417",
         "4.237473860583483",
         "4.251383041412484",
         "4.2497060268438",
         "4.256154863745544",
         "4.252642652079636",
         "4.297005587498603",
         "4.235854690595536",
         "4.249267184653534",
         "4.2465925475581265",
         "4.235394852128886",
         "4.246949098060644",
         "4.2459035535291285",
         "4.249412697032247",
         "4.249729122645884",
         "4.246108661065724",
         "4.246833101202575",
         "4.250058538094607",
         "4.249770701661028",
         "4.2500484140186074",
         "4.214192402179796",
         "4.247898462964097",
         "4.255730042191823",
         "4.248784927959944",
         "4.253454019148673",
         "4.248582645563504",
         "4.248054751248344",
         "4.24117996359496",
         "4.250625933482941",
         "4.250028220957391",
         "4.24315021712006",
         "4.244995472510461",
         "4.245723087506264",
         "4.2369559433124415",
         "4.260019368809845",
         "4.2538758387962075",
         "4.257162567386618",
         "4.2603236439679035",
         "4.254353620063716",
         "4.2485813436423845",
         "4.251641128933158",
         "4.239683733412775",
         "4.257194394921318",
         "4.25049673600147",
         "4.245521390265435",
         "4.250759642715231",
         "4.255821771184384",
         "4.212033101033509",
         "4.249705051290681",
         "4.248349774632567",
         "4.250677785700699",
         "4.2475843864563005",
         "4.258640597681999",
         "4.262882294159312",
         "4.2491510375383985",
         "4.253895196129635",
         "4.253876852975395",
         "4.2509654281027505",
         "4.255099458936827",
         "4.258502871542258",
         "4.251729954583551",
         "4.24980593736074",
         "4.249823390029587",
         "4.239978223977768",
         "4.251044876900008",
         "4.260846171794836",
         "4.261424448159842",
         "4.250171560364424",
         "4.251814719356724",
         "4.240876413716214",
         "4.250281120238041",
         "4.249660743798291",
         "4.250006412879114",
         "4.249048045238041",
         "4.247304974202115",
         "4.249013594912447",
         "4.251185112389117",
         "4.249681098290952",
         "4.24295102174547",
         "4.246480317829142",
         "4.249898877466575",
         "4.204764133181148",
         "4.251642539375716",
         "4.26100513814818",
         "4.249200239322322",
         "4.249123989615942",
         "4.229067313876363",
         "4.244071666309164",
         "4.263337833840502",
         "4.251491088868319",
         "4.249743170608714",
         "4.251760610434343",
         "4.221739597499987",
         "4.24663104825405",
         "4.248327028250042",
         "4.235718003917083",
         "4.254753491741863",
         "4.215883805754224",
         "4.246861483756674",
         "4.237917466935988",
         "4.261335255975466",
         "4.239784720582007",
         "4.244693321612053",
         "4.224681958783131",
         "4.2491870042305395",
         "4.2496427629930835",
         "4.253006961788379",
         "4.243715852189881",
         "4.26712050988109",
         "4.24636377048621",
         "4.277870133599542",
         "4.232522111305861",
         "4.252011912132434",
         "4.249456505259301",
         "4.249406434834332",
         "4.234711148120491",
         "4.255801269069436",
         "4.250026806235618",
         "4.2484742456069124",
         "4.250070540450598",
         "4.249600042600353",
         "4.248890093970703",
         "4.248347506651379",
         "4.2491979856981175",
         "4.258276694238134",
         "4.251804819635978",
         "4.25919406384162",
         "4.248858631648351",
         "4.249968580765432",
         "4.249711958736881",
         "4.25071980104822",
         "4.248973194564111",
         "4.260376220156588",
         "4.250699551212928",
         "4.412198202911729",
         "4.323741899206617",
         "4.221523716092883",
         "4.250762849440184",
         "4.2491121138456975",
         "4.256770658068715",
         "4.250859809518505",
         "4.245837442885836",
         "4.24759796787264",
         "4.251557227337274",
         "4.2369851424220615",
         "4.251339071815584",
         "4.248539091642212",
         "4.289535815591128",
         "4.258287322374631",
         "4.247753865898036",
         "4.249931853314518",
         "4.278066686136556",
         "4.250241986362213",
         "4.248302822538615",
         "4.248330434390475",
         "4.245314048209837",
         "4.25052425342151",
         "4.250296950921753",
         "4.250339734216651",
         "4.249472417914395",
         "4.281885626379632",
         "4.223685038763459",
         "4.250549714376147",
         "4.252926432025301",
         "4.249975361049238",
         "4.250339189877685",
         "4.247123170951093",
         "4.2551427657743695",
         "4.2506949504962686",
         "4.2447927251556985",
         "4.250305691589937",
         "4.249986798471706",
         "4.24892471364393",
         "4.249746663289272",
         "4.245259010928017",
         "4.25363562767572",
         "4.2313984209703355",
         "4.233271542842057",
         "4.248273790196446",
         "4.277013615224659",
         "4.250000218059125",
         "4.245785124885619",
         "4.25969010891754",
         "4.227821953148394",
         "4.249354840694087",
         "4.247334349491166",
         "4.254583407388446",
         "4.249024375867982",
         "4.243390612383695",
         "4.248704843363962",
         "4.249589521504062",
         "4.236087728757801",
         "4.248944914368393",
         "4.246997220445562",
         "4.251058542454848",
         "4.250139061867005",
         "4.287546956118588",
         "4.264021938199029",
         "4.250023762462972",
         "4.253563536028928",
         "4.250394657807754",
         "4.250275832213885",
         "4.24890223987602",
         "4.2495902153309695",
         "4.249982587316529",
         "4.248202482684951",
         "4.247618608566654",
         "4.261430029105563",
         "4.242863601703121",
         "4.25125820683364",
         "4.249359992558287",
         "4.2468956461192455",
         "4.248134986952725",
         "4.250337128269626",
         "4.249616267220943",
         "4.272389820978054",
         "4.249470360101263",
         "4.254059423583845",
         "4.248498042297254",
         "4.249098082056111",
         "4.252980910963606",
         "4.254606961678023",
         "4.250546338039214",
         "4.246884780302419",
         "4.250741031243309",
         "4.250262712257353",
         "4.2463383105431465",
         "4.250187214310953",
         "4.245962622379015",
         "4.239327310858305",
         "4.250028916826158",
         "4.250815777063749",
         "4.236088815378041",
         "4.263482757544892",
         "4.249582642043115",
         "4.228962031788513",
         "4.246867394659561",
         "4.249365329415343",
         "4.251672489084541",
         "4.255633078539421",
         "4.243175296514829",
         "4.249948258059932",
         "4.252746155669068",
         "4.249405269669235",
         "4.262003808366261",
         "4.248102827340415",
         "4.246528888685761",
         "4.248813546343807",
         "4.247153134323777",
         "4.2433573808636575",
         "4.249717029468793",
         "4.249492356675487",
         "4.248399782317428",
         "4.238584029873238",
         "4.302436480391267",
         "4.250136585571863",
         "4.249811702757552",
         "4.25281469568345",
         "4.256552085203841",
         "4.2502561368413305",
         "4.24904312705151",
         "4.254261867006384",
         "4.2476996438234496",
         "4.2479737618489715",
         "4.2517272992840365",
         "4.263481012206169",
         "4.247070219673651",
         "4.212639120286614",
         "4.238027238892588",
         "4.248597668562602",
         "4.2500103566819485",
         "4.29544981954573",
         "4.249230710582288",
         "4.248017276939042",
         "4.247842117003908",
         "4.248806332202681",
         "4.254972986333061",
         "4.249713710777797",
         "4.258527335047189",
         "4.250522337122457",
         "4.24240247219312",
         "4.245182290973593",
         "4.232671212092474",
         "4.250967178938653",
         "4.247968887907314",
         "4.223632040353366",
         "4.251000242706361",
         "4.248666409661848",
         "4.24859025944347",
         "4.249042149430344",
         "4.24842140260867",
         "4.253520738198355",
         "4.249582746695145",
         "4.242223844049932",
         "4.243583312712869",
         "4.249365176497599",
         "4.2508595744681115",
         "4.244284525858335",
         "4.242528705046682",
         "4.249456728689513",
         "4.275386231234471",
         "4.253887030412479",
         "4.250174863198873",
         "4.250931232245214",
         "4.2475633680451645",
         "4.262174477716168",
         "4.225966945985148",
         "4.2429866724619405",
         "4.227820347946286",
         "4.251237635127856",
         "4.255769668160866",
         "4.255650877936277",
         "4.25127487360317",
         "4.249502383406092",
         "4.242809911824181",
         "4.248562042022132",
         "4.252104812926385",
         "4.232040186841179",
         "4.239486508585256",
         "4.253447593880197",
         "4.250811555923763",
         "4.250036934430114",
         "4.254811824720538",
         "4.253866833278426",
         "4.244170277019491",
         "4.2507588536609475",
         "4.250242678380368",
         "4.254986589654239",
         "4.246129863660758",
         "4.244537637595893",
         "4.250673178359767",
         "4.254782413869077",
         "4.253426156247835",
         "4.260856126781993",
         "4.256747890799394",
         "4.2564484861270655",
         "4.256240908051519",
         "4.228036393767199",
         "4.250389319970851",
         "4.2048117316971005",
         "4.248608798270065",
         "4.2500712240107",
         "4.256097836393121",
         "4.2755437902312154",
         "4.226664663336634",
         "4.236320235727029",
         "4.252701158507063",
         "4.249378212837623",
         "4.25168513311651",
         "4.236066910249829",
         "4.259899730538154",
         "4.250359704700857",
         "4.249350941503402",
         "4.252569197234757",
         "4.247486804037349",
         "4.243946415745009",
         "4.37600942989024",
         "4.251784712719262",
         "4.251914884712955",
         "4.2486907751151195",
         "4.251340792191542",
         "4.2345800126717705",
         "4.251755091953228",
         "4.250294741421697",
         "4.255312240972481",
         "4.250643677587699",
         "4.2476741036005645",
         "4.243071806600479",
         "4.24297936402141",
         "4.251478168695263",
         "4.248107868604342",
         "4.250798661847527",
         "4.245885488322909",
         "4.2532972257097565",
         "4.248787357348617",
         "4.2498982664470795",
         "4.254681963176663",
         "4.2469455140857235",
         "4.247554307701901",
         "4.242465580585698",
         "4.25144758566085",
         "4.254293598082673",
         "4.249951178000437",
         "4.250599590770137",
         "4.254761786720222",
         "4.245364406329914",
         "4.257406099225375",
         "4.246539077431307",
         "4.241262337394507",
         "4.220489686962993",
         "4.24334114096164",
         "4.246474231813492",
         "4.25056173651933",
         "4.2393965013349755",
         "4.26380049885984",
         "4.246019325472407",
         "4.250468757991981",
         "4.25125878999041",
         "4.255097070773218",
         "4.244798850156156",
         "4.254324439625113",
         "4.252228584853797",
         "4.2503215993084575",
         "4.255405413664454",
         "4.247303562217427",
         "4.249632677302973",
         "4.2495621573116065",
         "4.252068758630812",
         "4.248510022220581",
         "4.247501404061772",
         "4.252045005860585",
         "4.2540915805546105",
         "4.251248008498821",
         "4.249180011036061",
         "4.39473807832906",
         "4.250244474583585",
         "4.282216190757918",
         "4.251920371216791",
         "4.249636842956547",
         "4.248664327036532",
         "4.349840323863995",
         "4.2496480262174625",
         "4.36570009238912",
         "4.24779869679894",
         "4.25139257874716",
         "4.247510310489761",
         "4.250655398468916",
         "4.24806591952443",
         "4.255644491452558",
         "4.248251164074549",
         "4.235718319954923",
         "4.265087177778027",
         "4.250473282903049",
         "4.2506778537674235",
         "4.247035282717087",
         "4.250169481337432",
         "4.250564938462866",
         "4.245005594222843",
         "4.249863825363048",
         "4.295249732304643",
         "4.247891433013574",
         "4.248606831829608",
         "4.2515831125279755",
         "4.250944658156559",
         "4.250892685992046",
         "4.257138312105547",
         "4.250960683808801",
         "4.245623884696805",
         "4.249716653553936",
         "4.249439957381305",
         "4.248731689159468",
         "4.240171533071039",
         "4.244847137940841",
         "4.247108962817914",
         "4.177643441606311",
         "4.249769694696601",
         "4.246723761243822",
         "4.242756964109619",
         "4.284704190574253",
         "4.239338350387839",
         "4.258171880741471",
         "4.256158480817193",
         "4.216568624183147",
         "4.254472045372946",
         "4.270418925416657",
         "4.247229854209494",
         "4.259762381351755",
         "4.243908159892528",
         "4.24152119228454",
         "4.249869669931182",
         "4.250996445811461",
         "4.235466582744037",
         "4.2507859738978615",
         "4.2425690938649",
         "4.243920476756794",
         "4.256604409305357",
         "4.266334718032838",
         "4.2530099956538",
         "4.251752664586886",
         "4.2478833696112686",
         "4.225644734443097",
         "4.2386291618585075",
         "4.249945007560948",
         "4.252629582707599",
         "4.248766549614119",
         "4.23579747865857",
         "4.249976724637912",
         "4.252646989959357",
         "4.31045782851208",
         "4.247904316720159",
         "4.243437472078373",
         "4.250568218623364",
         "4.238882688901478",
         "4.249756296769401",
         "4.248517401285891",
         "4.248585443993655",
         "4.247034190640781",
         "4.250537661834248",
         "4.255189871988648",
         "4.254036457414303",
         "4.254368750377054",
         "4.235530437566289",
         "4.241911516659964",
         "4.241141801987039",
         "4.232686017598604",
         "4.248420569639505",
         "4.2497018779349105",
         "4.243277597737664",
         "4.2468962076988035",
         "4.342648746828235",
         "4.253856698455929",
         "4.250921343157196",
         "4.249638587194988",
         "4.247268305988329",
         "4.245386950982955",
         "4.308135610616391",
         "4.249305094999347",
         "4.249936749648005",
         "4.208069708767778",
         "4.2433284628538415",
         "4.250782742749503",
         "4.252452064424188",
         "4.2487684134274915",
         "4.2498921849548035",
         "4.241167175468494",
         "4.2503398936750365",
         "4.253045796276075",
         "4.294316473062151",
         "4.244815375838456",
         "4.2491326017460045",
         "4.2579014417379915",
         "4.246003968436064",
         "4.248572853262955",
         "4.2098012484833705",
         "4.2481337655391505",
         "4.251589108890364",
         "4.249395942054586",
         "4.248050481649111",
         "4.249966178621469",
         "4.246710055350205",
         "4.245458597190731",
         "4.24857474146706",
         "4.2493219625835446",
         "4.236583859194226",
         "4.26520355157065",
         "4.221311272442734",
         "4.2419965138612445",
         "4.2404685609010055",
         "4.239946710588608",
         "4.198484377684369",
         "4.24057820259844",
         "4.248180459277013",
         "4.261495050069766",
         "4.231664743990437",
         "4.254348778068302",
         "4.298979027037162",
         "4.250817286384878",
         "4.250552499144576",
         "4.249207597123939",
         "4.251349135971117",
         "4.250190767554165",
         "4.2629738176681835",
         "4.239661481742406",
         "4.261157830071317",
         "4.246970599299502",
         "4.259728577087496",
         "4.256715344850776",
         "4.251668244372869",
         "4.239341514944034",
         "4.254005828985903",
         "4.249561025968572",
         "4.249656685488262",
         "4.214152406141866",
         "4.251967570998915",
         "4.259510178475213",
         "4.251721636328495",
         "4.251297348058486",
         "4.298969388009514",
         "4.289819675534025",
         "4.26314804108334",
         "4.2639973528396995",
         "4.23519873221932",
         "4.25003032673549",
         "4.250061512383039",
         "4.2491566558985125",
         "4.249030883347548",
         "4.256497064256885",
         "4.252538724414127",
         "4.249524103518458",
         "4.2500031415405655",
         "4.249953362617437",
         "4.249820139568529",
         "4.234474903355055",
         "4.247126079497149",
         "4.251519242233966",
         "4.248228754360591",
         "4.235613557106437",
         "4.244609787649468",
         "4.255169894119788",
         "4.254492505076357",
         "4.247295298822842",
         "4.2489917548978955",
         "4.261467354394635",
         "4.250069581744486",
         "4.249672206263571",
         "4.251262913861128",
         "4.2060166974609965",
         "4.250433523758777",
         "4.253069270322551",
         "4.246909791907018",
         "4.251022127526459",
         "4.249952677049301",
         "4.2382980250598985",
         "4.249978213314441",
         "4.252758698348218",
         "4.251508471659028",
         "4.250759129847605",
         "4.249222706842045",
         "4.250507133997353",
         "4.240077111559486",
         "4.247562218950135",
         "4.237395008354976",
         "4.250385145900953",
         "4.251153300274129",
         "4.259040147167873",
         "4.2512313475750885",
         "4.253883672659325",
         "4.250012470383621",
         "4.252583480506491",
         "4.2458433881388515",
         "4.249204637739363",
         "4.271305762092973",
         "4.258393238411778",
         "4.248734971103836",
         "4.249152232617272",
         "4.249009520253243",
         "4.252889488272903",
         "4.256462089236729",
         "4.250912713021941",
         "4.246538425620278",
         "4.257015132310157",
         "4.2537675444190945",
         "4.249836050143577",
         "4.2466776107019735",
         "4.257967462686511",
         "4.249586026823774",
         "4.275423331120895",
         "4.2567373623223475",
         "4.250089344943596",
         "4.243603111585973",
         "4.24332881036364",
         "4.254053527894522",
         "4.262903553627655",
         "4.259264193351359",
         "4.266293928617859",
         "4.247482145380165",
         "4.2499048622952165",
         "4.25013156022466",
         "4.243717207526039",
         "4.213205662187778",
         "4.2517784030798005",
         "4.245466486173333",
         "4.249083117807298",
         "4.248850244146792",
         "4.249448341187566",
         "4.248596929286473",
         "4.2497871573110455",
         "4.246844311532587",
         "4.242682358123392",
         "4.226566866411513",
         "4.250831362780382",
         "4.246235925774669",
         "4.252110986218436",
         "4.2493324026712385",
         "4.238738090401198",
         "4.2548223152568525",
         "4.247253604753884",
         "4.270770780068056",
         "4.228842309428683",
         "4.236792499983681",
         "4.257596796481277",
         "4.243713527185431",
         "4.246859723777571",
         "4.251961791989303",
         "4.246067161029315",
         "4.235765014502262",
         "4.250031392338937",
         "4.2514097614151",
         "4.284986012861793",
         "4.248649054682437",
         "4.259794545772093",
         "4.245481865671607",
         "4.247834256732096",
         "4.250341376273188",
         "4.247747210473794",
         "4.252599801268914",
         "4.250839528189744",
         "4.256114977316568",
         "4.224747235787181",
         "4.251918436883515",
         "4.2525829104883925",
         "4.250615370076939",
         "4.2490950240994465",
         "4.2491172907873125",
         "4.248759092945956",
         "4.250655018276187",
         "4.250927165911858",
         "4.248861802004173",
         "4.237693132671414",
         "4.25106948371934",
         "4.249110570758475",
         "4.25433943448495",
         "4.249166693515236",
         "4.263994338143174",
         "4.249241753415496",
         "4.246026732004901",
         "4.252055656935085",
         "4.251175202597327",
         "4.249907133600769",
         "4.249585538064551",
         "4.252263568034701",
         "4.249932232125591",
         "4.266728314888651",
         "4.254463219470934",
         "4.250429360053496",
         "4.2475534667123425",
         "4.2290737216028695",
         "4.249369496089705",
         "4.247526923169858",
         "4.248071643652934",
         "4.234928800388401",
         "4.258116569170411",
         "4.246538792842618",
         "4.252683204522793",
         "4.249823212053892",
         "4.250029989060918",
         "4.23766107129182",
         "4.258717381960285",
         "4.247926369782614",
         "4.238537150004476",
         "4.251030350990161",
         "4.306941444824297",
         "4.250391874784831",
         "4.252371803339229",
         "4.246310961472702",
         "4.250956650671572",
         "4.249570163797042",
         "4.24101879139704",
         "4.242929901601903"
        ],
        [
         "5",
         "3.1456326225377547",
         "3.1591445201353276",
         "3.098493123335378",
         "3.105984882532831",
         "3.1706255849404723",
         "3.147819344238982",
         "3.1272525544813994",
         "3.1168746390783784",
         "3.124355188465633",
         "3.432448030206711",
         "3.120452883519264",
         "3.161599716118028",
         "3.072408472639461",
         "3.1606020081812836",
         "3.1623492615732354",
         "3.1935419882435734",
         "3.175521009659582",
         "3.091362583455185",
         "3.1164165629380736",
         "3.1351650166264307",
         "3.138137829900683",
         "3.160615798572359",
         "3.161813801117257",
         "3.1927438912961423",
         "3.163257704872509",
         "3.1265933260497887",
         "3.281267275387982",
         "3.1255378460381635",
         "3.5607002505748837",
         "3.4399103220203635",
         "3.1633742576564674",
         "3.148707274484547",
         "3.17016466088512",
         "3.1711138140473647",
         "3.171981977486984",
         "3.151368989712685",
         "3.1439963265486837",
         "2.90736071244243",
         "3.3444206597848214",
         "3.1638144336774867",
         "3.161209869294412",
         "3.15839189016813",
         "3.149159650863503",
         "3.170800646124879",
         "3.2724162380059916",
         "3.161431182584124",
         "3.143044160356064",
         "3.1586745145038755",
         "2.9995138062972475",
         "3.1461804259682653",
         "3.1725401529556954",
         "3.1584390993120315",
         "3.1584004334632807",
         "3.1630851557609656",
         "3.1532001935944645",
         "3.1207518543392254",
         "3.1559348846008426",
         "3.15629468480144",
         "3.149398722783723",
         "3.206453011556372",
         "3.1856323850737325",
         "3.20193957693338",
         "3.1964957163605603",
         "3.1880134488277805",
         "3.1622701135023887",
         "3.1768407072187475",
         "3.086202658175459",
         "3.1986619001824823",
         "3.1684865898337957",
         "3.15392489698648",
         "3.1550167117690564",
         "3.146328595136481",
         "3.072348041045467",
         "3.2784015521071024",
         "3.132418269832256",
         "3.150620646604026",
         "3.153997592369794",
         "3.1619259611341137",
         "3.129871318117797",
         "3.157375295693542",
         "3.254563381576899",
         "3.166290791970389",
         "3.14806477883364",
         "3.0498019710853814",
         "3.187867661946725",
         "3.162148603880712",
         "3.11740872722859",
         "3.1115698415118893",
         "3.1601868745862722",
         "3.156426681684138",
         "3.1641487419633383",
         "3.1610818093137376",
         "3.147757724961869",
         "3.1653378745777894",
         "3.0928016407387147",
         "3.163222829669308",
         "3.0830225962781515",
         "3.0785337095733682",
         "3.1538817233730394",
         "3.1553795636173416",
         "3.187730599862481",
         "3.2239283909284806",
         "3.1294953770712146",
         "3.1597824376474697",
         "3.1177492587506914",
         "3.1996061813660117",
         "3.192801660779308",
         "3.148275586798679",
         "3.1463037158974405",
         "3.15429816505458",
         "3.138004811767686",
         "3.1667334023104776",
         "3.1626121011747848",
         "3.166786106242222",
         "2.9241019421584165",
         "3.095573558386581",
         "3.1978003344388384",
         "3.445570015974621",
         "3.1675702628501483",
         "3.1316346042503618",
         "3.1759251202820074",
         "3.2796482432021183",
         "3.031032767724252",
         "3.149620562187035",
         "3.16581099085213",
         "3.135576927947274",
         "3.1667843196470464",
         "3.157486830086872",
         "3.307658004787986",
         "3.1555284412971965",
         "3.0493224631512996",
         "3.239720850863115",
         "3.1005869995696695",
         "3.125755958176867",
         "3.2624891634617854",
         "3.131783485207596",
         "3.1423599418218484",
         "3.161524263706662",
         "3.1532671721611685",
         "3.1809410768872564",
         "3.1727796477796066",
         "3.153344141060598",
         "3.2081438040192736",
         "3.3469895185271907",
         "3.1594962216526596",
         "3.183860366154009",
         "3.148883323303699",
         "3.273174361834423",
         "3.1868974059535713",
         "4.018874963784021",
         "3.150244226616564",
         "3.17345403870214",
         "3.1574989343386886",
         "3.162206620434322",
         "3.1028667297753185",
         "3.208175739096515",
         "3.2668245988629057",
         "3.1048590590619973",
         "3.191586542050093",
         "3.151583666237004",
         "3.235131699807634",
         "3.1608405975425224",
         "3.098900664459525",
         "3.205963132860111",
         "3.212516821534524",
         "3.171315950986326",
         "3.1886651622841886",
         "3.160726972511128",
         "3.1516366428820803",
         "3.1207937853031065",
         "3.078684269193527",
         "3.1275690007562265",
         "3.191059479769959",
         "3.1400565010876953",
         "3.2026179806895283",
         "3.1642124743782722",
         "3.186209538983778",
         "3.1608398462018186",
         "3.169825004889621",
         "3.1228971434454844",
         "3.1178547581224447",
         "3.1582619508048797",
         "3.1464416053687",
         "3.1453687755542044",
         "3.2755214450659236",
         "3.1708598327709927",
         "3.155247818493894",
         "3.154697968902263",
         "3.2052646923858865",
         "3.1520452864738004",
         "3.1673773925877278",
         "3.1627425480982434",
         "3.132344405141156",
         "3.1561100263265556",
         "3.1266276235816313",
         "3.172416352552742",
         "3.167627585272209",
         "3.1538325262872506",
         "3.0833359148512276",
         "3.1741641702460934",
         "3.6133888091670108",
         "3.1563087458307417",
         "3.164787182297818",
         "3.14067542429557",
         "3.0683239101893207",
         "3.136761760597718",
         "3.1714841312957915",
         "3.301362843179055",
         "2.9917118282001005",
         "3.1510419478577845",
         "3.1491170282671104",
         "3.1259961343175693",
         "3.0807399141569327",
         "2.7897632251701667",
         "3.158003823518744",
         "3.2015787568099343",
         "3.154107169682819",
         "3.118590499699545",
         "3.1631536114093772",
         "3.169090008025325",
         "3.148232113549497",
         "3.156439042983425",
         "3.173224178793943",
         "3.1466136973091934",
         "3.2236095676776135",
         "3.1488448892060243",
         "3.1615618606157874",
         "3.1534547899585363",
         "3.3976491046431443",
         "3.1677502887535782",
         "3.127424443117133",
         "3.1659134036110452",
         "3.0844391251444607",
         "3.1589689064418214",
         "3.1507759539929503",
         "3.3384417961364994",
         "3.206545309130797",
         "3.158889302512634",
         "3.1108654607724975",
         "3.159367088024359",
         "3.1440531353082997",
         "3.0954783479410413",
         "2.988212459219679",
         "3.0194906768952117",
         "3.046290119228128",
         "2.9742641774417047",
         "3.0972062044618154",
         "3.1651707334661032",
         "3.1548947749640397",
         "3.165360358443804",
         "3.1608361832887044",
         "3.1692104609120424",
         "3.2556125863652823",
         "3.161355470402123",
         "3.142176264225983",
         "3.0799058007157702",
         "3.1568046438782567",
         "3.265570145178152",
         "3.1715733763735554",
         "3.1590550011635767",
         "3.1635057678475103",
         "3.1767021070830586",
         "3.197046670418941",
         "3.1888744881612805",
         "3.172773066367934",
         "3.153185006806965",
         "3.1554610852837963",
         "3.193619259882225",
         "3.1807544656686972",
         "3.027599370862665",
         "3.15787388798222",
         "3.1550566192850877",
         "2.9779965607775924",
         "3.117995823748494",
         "3.01133309215268",
         "3.178270974052744",
         "3.2035551888052822",
         "3.1627401631704295",
         "3.1765670015267062",
         "3.0081590362217945",
         "3.1662395158141177",
         "3.154148947152331",
         "3.1565130621009483",
         "3.1358009589716955",
         "3.1803823278753582",
         "3.1628823190055604",
         "3.178532153021963",
         "3.0483406536136184",
         "3.11896118206987",
         "3.15303425431426",
         "3.3372455248601174",
         "3.1906842715350905",
         "3.1472665893418386",
         "4.056344167653855",
         "3.2687913105650126",
         "3.160608836432513",
         "3.137270457621733",
         "3.155121139452039",
         "3.1630533592952466",
         "2.995543311347708",
         "3.1615269022892116",
         "3.1317318263118916",
         "3.1685758740926175",
         "3.131256142360397",
         "3.157018633008222",
         "3.1575403976214584",
         "3.1522942600719377",
         "3.3616104541133924",
         "3.156317123407926",
         "3.153047330433697",
         "3.163907410067575",
         "3.162975784419465",
         "3.2433968828223896",
         "3.160657509449301",
         "3.1307948853727194",
         "3.1580203560135085",
         "3.136622990747554",
         "3.1640111262825084",
         "3.177672599082774",
         "3.03009424371892",
         "3.07490984397877",
         "3.1502208137539567",
         "3.046077420034678",
         "3.135058758312984",
         "3.30922277166612",
         "3.1911899659192926",
         "3.160120459314355",
         "3.1466668283500088",
         "3.160368043488995",
         "3.1590468581398685",
         "3.13974181505581",
         "3.195738146512275",
         "3.1671417203348002",
         "3.15660363909642",
         "3.158975750031048",
         "3.1335563316688626",
         "3.123891624768747",
         "3.156359658747499",
         "3.1658325545160118",
         "3.144991642828451",
         "3.543275786434069",
         "3.1168390192918225",
         "3.149012839498731",
         "3.1344914190437914",
         "3.236251990903986",
         "3.1309781055575847",
         "3.1278087473808984",
         "3.1581974207073555",
         "3.1465942476975273",
         "3.1615786060165187",
         "3.433289767571902",
         "3.160436444202661",
         "3.1580931753412846",
         "3.164153956903302",
         "3.1413731140194465",
         "3.141343825578954",
         "3.164488317288481",
         "3.167048999812765",
         "3.169058372302584",
         "3.1443397170465524",
         "3.3384776406196006",
         "3.1592025634556826",
         "3.160617060092612",
         "3.152829030831365",
         "3.2418254301614806",
         "3.1905816112460026",
         "3.1692466371230177",
         "3.1512669393379396",
         "3.207267791053556",
         "3.14559298127094",
         "3.149497566767951",
         "3.173881859154208",
         "3.226569459362416",
         "3.4886155050851944",
         "3.12737457564815",
         "3.1565029834343163",
         "3.162679118087746",
         "3.157275048579836",
         "3.187084378759727",
         "3.1602372488450494",
         "3.260455062091993",
         "3.285733274929957",
         "3.157617381797179",
         "3.241378793387027",
         "3.141335844269302",
         "3.1528955296174357",
         "3.3748741156213673",
         "3.1563702732892702",
         "3.1319055587356313",
         "3.098301523421086",
         "3.1907001178117937",
         "3.193124064887473",
         "3.1614369218609384",
         "2.7344019773812707",
         "3.509902198812563",
         "3.1380794739942166",
         "3.184550368345157",
         "3.1372587268509253",
         "3.1485510264416376",
         "3.20729659603589",
         "3.25276243101081",
         "3.17217345449152",
         "3.1633238391503657",
         "3.2069965205373",
         "3.187615557663158",
         "3.172389919366743",
         "3.146339053196926",
         "3.2231896184754256",
         "3.2044349599430033",
         "3.256714189126829",
         "3.1607366821179177",
         "3.1344669631042925",
         "3.0910762196978965",
         "3.1604846326597498",
         "3.161145547034098",
         "3.2054178183401536",
         "3.160503538556416",
         "3.16167216005877",
         "3.161183216007373",
         "3.1492001758423718",
         "3.1988075246382124",
         "3.1414528477893904",
         "3.194460729692685",
         "3.164080011302234",
         "3.287299749709437",
         "3.2459170220169398",
         "3.1436790759957853",
         "3.1614942491697224",
         "3.160610627586608",
         "3.163737659524882",
         "3.1625101255036947",
         "3.1503649390126323",
         "3.1619635286004377",
         "3.1608713207481562",
         "3.208221498598276",
         "3.1760109748037877",
         "3.137174133786678",
         "3.147853097622164",
         "3.1266274186505023",
         "3.153911914666038",
         "3.157988471636906",
         "3.210387942164032",
         "3.197019621826816",
         "3.179086737822471",
         "3.1605771859086147",
         "3.1644658928088956",
         "3.163699941103752",
         "3.1651859156850746",
         "3.1665061447060756",
         "3.178031817073437",
         "3.203603182365986",
         "3.1600880764044024",
         "3.1723162000545506",
         "3.1726812676351988",
         "3.151002611094617",
         "3.202697885456799",
         "3.1557897424657817",
         "3.1433859083846936",
         "3.3241810893550117",
         "3.201034628990485",
         "3.151831182122313",
         "3.184903601130388",
         "3.138735793454541",
         "3.1718936824416737",
         "3.2091433304910613",
         "3.1617228963233552",
         "3.162624234869449",
         "3.146078851375549",
         "3.1695432158360193",
         "3.1547953975638836",
         "3.1611774151604584",
         "3.150611958129951",
         "3.1453411338458745",
         "3.1550188504156553",
         "3.142009365628249",
         "3.160672040488079",
         "3.125950084816421",
         "3.160874099778918",
         "3.1481637067536896",
         "3.1776928950245473",
         "3.1221149390419987",
         "3.1630845570407655",
         "3.121541570370858",
         "3.1556158541385297",
         "3.2831875073992483",
         "3.1593817591461013",
         "3.3247208107560833",
         "3.1807015832597196",
         "3.2062999219439052",
         "3.156089735837765",
         "3.168501603834055",
         "3.206415223644021",
         "3.202573201858406",
         "3.1749688529505873",
         "3.1585784283505722",
         "3.4730529505729635",
         "3.154950654474641",
         "3.159586922628667",
         "3.1642949480494105",
         "3.1861277040786886",
         "3.1970108740330696",
         "3.1556945882821306",
         "3.0605725195774913",
         "3.2913754120238625",
         "3.110510313806363",
         "3.1645097390922357",
         "3.423543883817613",
         "3.2209148449836045",
         "3.1265842520623432",
         "3.2455957653816427",
         "3.1273659926693718",
         "3.0703180911568246",
         "3.144940662236021",
         "3.1392193315467067",
         "3.130116241305828",
         "3.16830344610867",
         "3.1922281340602914",
         "3.160933209482322",
         "3.1587931257630517",
         "2.9786951020680204",
         "3.464864362903702",
         "3.047330286414797",
         "3.1809395158630376",
         "3.203277807893217",
         "3.137277084893479",
         "3.1201389673288933",
         "3.3100091282639887",
         "3.1525944674222224",
         "3.161980604029951",
         "3.001783378155078",
         "3.145714430577331",
         "3.2006724236072848",
         "3.1689517592787193",
         "3.1630843311157033",
         "3.105722219158584",
         "3.145270855469449",
         "3.1575512316658565",
         "3.164708059542039",
         "3.1836125399321538",
         "3.1572924961408386",
         "3.1577953037540785",
         "3.133896887944074",
         "3.0266171925015355",
         "3.166155604523336",
         "3.1606565270558504",
         "3.167592003109765",
         "3.129244834316247",
         "3.0626104233617397",
         "3.1835918503319935",
         "3.0360830331047746",
         "3.046651106476316",
         "3.1483955748498555",
         "3.1823372571179998",
         "3.2218579632306716",
         "3.116984200169802",
         "3.1485329963261646",
         "3.197528955099459",
         "3.0840983549632193",
         "3.122909097063788",
         "3.166545743458906",
         "3.160123549742247",
         "3.161147330681317",
         "3.1614236992223557",
         "3.1105930609852863",
         "3.152368462976629",
         "3.0902203185338855",
         "3.1340063107962166",
         "3.1489917263655762",
         "3.155219887858119",
         "3.183452200514452",
         "3.3235096368118",
         "3.1561903336029697",
         "3.007800082983",
         "3.143235368412976",
         "2.991474199202892",
         "3.1233319005601348",
         "3.159644482717995",
         "3.1454392621640612",
         "3.168884826873404",
         "3.212752860008406",
         "3.0856913103755472",
         "3.404906308609063",
         "3.167948111578456",
         "3.154482198417037",
         "3.163357985358663",
         "3.1654716199984203",
         "3.194046059940408",
         "3.1620619483486876",
         "3.1344284665198905",
         "3.170153852665503",
         "3.190491652031244",
         "3.1578983156892955",
         "3.150608856516379",
         "3.17277662591495",
         "3.1706318335664423",
         "3.140108414178853",
         "3.206552149099224",
         "3.160803398615758",
         "2.816315633688661",
         "3.1402513786055017",
         "3.140471547282626",
         "3.160823250382135",
         "3.159738643708393",
         "3.2758784214500394",
         "3.1048227438823037",
         "3.0980752890869936",
         "3.1567369719728027",
         "3.3314985694911408",
         "3.162000463208307",
         "3.104302628490352",
         "3.1345850953625893",
         "3.1407637816888427",
         "3.1972963205844582",
         "3.110559298801947",
         "3.2229099936073684",
         "3.1923228355269977",
         "3.1627009354407716",
         "3.2219984683013076",
         "3.2830722606007714",
         "3.1295197157223673",
         "3.2053111753230437",
         "3.030552401710089",
         "3.163572330004358",
         "3.183443737016151",
         "3.1703893923582895",
         "3.1373361483816358",
         "3.1301367766549677",
         "3.1065529898289874",
         "3.1732039180242446",
         "3.18160127906933",
         "3.1878591589653054",
         "3.1581693334051395",
         "3.187218366058786",
         "3.0811020117790133",
         "3.0141358342025235",
         "3.1583689224752027",
         "3.245743402867495",
         "3.161571503931429",
         "3.300324007704531",
         "3.1851016368873424",
         "3.126359400831656",
         "3.1621330694478447",
         "3.1612664859631656",
         "3.157292715736386",
         "3.162036017961276",
         "3.1394068091597482",
         "3.1838637348128027",
         "3.1565035728564417",
         "3.1487657728547287",
         "3.159807660559281",
         "3.147423657700059",
         "3.1371215403689336",
         "3.178599979800914",
         "3.145145096026779",
         "3.1707902419639926",
         "3.15303450301304",
         "3.181851068276433",
         "3.179693235802817",
         "3.013417366036434",
         "3.015761760320372",
         "3.082964433565545",
         "3.161906706812481",
         "3.1613645815895643",
         "3.2601711291573365",
         "3.101225552309463",
         "2.9637501201183403",
         "3.134938494233695",
         "3.102813373306529",
         "3.1267935849613417",
         "3.213690908504065",
         "3.3650557477995675",
         "3.125381595231554",
         "3.094500023150066",
         "3.1001471246681773",
         "3.2368881162593133",
         "3.143902806679416",
         "3.250024547635355",
         "3.138040741407847",
         "3.213252611115078",
         "3.1681883642773023",
         "3.3027615484836277",
         "2.969368706891487",
         "3.1895960530967944",
         "3.1577959509080227",
         "3.1703108149668298",
         "3.2244003861920847",
         "3.164454280182469",
         "3.1332881576103477",
         "3.105596263672289",
         "3.158811997986162",
         "3.140471990429214",
         "3.1607277091481825",
         "3.1636194159938174",
         "3.1299345320768603",
         "3.1420886045671415",
         "3.0451626693375324",
         "3.126864947951269",
         "3.1799756688934653",
         "3.163055467284834",
         "3.1431424738108746",
         "3.2954978542760194",
         "3.161086117449127",
         "3.343430263637565",
         "3.1646872507559984",
         "3.1620532509433126",
         "3.132173381097032",
         "3.1073301884094775",
         "3.0961823415696914",
         "3.1734818804433327",
         "3.134675252367708",
         "2.92155640734804",
         "3.1579903924445203",
         "3.1798473318555005",
         "3.175320763188464",
         "3.2029366079600154",
         "3.2406563534343733",
         "3.163361704989664",
         "3.1527573104910647",
         "3.4572401343352857",
         "3.165519554509284",
         "3.15244526812927",
         "3.166779192773985",
         "3.4385422069168583",
         "3.15695960633002",
         "3.655224295027753",
         "3.257847745200766",
         "3.160724960271987",
         "3.186506348301509",
         "3.0952170690416887",
         "3.189756806745044",
         "3.124395779795305",
         "3.038784314933009",
         "2.997715452261064",
         "2.9882032975393384",
         "3.08879131419862",
         "3.1957871855566293",
         "3.0581435883967063",
         "3.1752064288612067",
         "3.1627640243969277",
         "3.161143288072408",
         "3.163161443508066",
         "3.1731051140855113",
         "3.1569306321670654",
         "3.0854425712910145",
         "3.158093370506974",
         "3.179311459336294",
         "3.160848175457859",
         "3.1285717406520854",
         "3.120965184273907",
         "3.1390352485667754",
         "3.088283836375126",
         "3.131792029358575",
         "3.1849693268262693",
         "3.2211913394097222",
         "3.151063594940719",
         "3.1600470356707837",
         "3.1484361086487005",
         "3.123982966094401",
         "3.276470459686498",
         "3.141336176347837",
         "3.1340447741294497",
         "3.0370401984606588",
         "3.174095718441162",
         "3.1462080180624192",
         "3.1283518261400483",
         "3.16391578347217",
         "3.1634486697546884",
         "3.1609098570736442",
         "3.1322606296927717",
         "3.1671291887817516",
         "3.1568438085685178",
         "3.1652365242528555",
         "3.162159060271949",
         "3.173180330604586",
         "3.1529998889547626",
         "3.143812758342214",
         "3.064400230372968",
         "3.219193390526709",
         "3.867236622575082",
         "3.2298222240668317",
         "3.22167533436978",
         "3.0066966622144107",
         "3.1580875018092662",
         "3.1557916399747343",
         "3.1039198524835965",
         "3.106201039528468",
         "3.1483590095723",
         "3.161704531096688",
         "3.1053274146214265",
         "3.2277637398759214",
         "3.199199541439868",
         "3.163533812320637",
         "3.1227196006666595",
         "3.174428338903888",
         "3.170426330029792",
         "3.2975072137923775",
         "3.1686666471699003",
         "3.02253531992635",
         "3.168007960747701",
         "3.609337369240042",
         "3.0703631215375475",
         "3.195546301081788",
         "3.156037560492719",
         "3.1475221037528747",
         "3.1697793106134293",
         "3.1767227958191047",
         "3.0622521861953267",
         "3.147691614404277",
         "3.0811029979428497",
         "3.1828097519693155",
         "3.2520019666486",
         "3.0765425506644073",
         "3.1168839858768127",
         "3.1549704401242527",
         "3.1570339081256713",
         "3.1628986631814504",
         "3.1379520685563373",
         "3.1474008880346864",
         "3.113759753185925",
         "3.1626864932365426",
         "3.173684743322654",
         "3.11280269069609",
         "3.1595157098275655",
         "3.1486009392551275",
         "3.1648160023771075",
         "3.1740898706010543",
         "3.160431993762978",
         "3.1128557420643035",
         "3.0546876552216933",
         "3.17041684427559",
         "3.160555107971598",
         "3.0653250636811094",
         "3.148752877418785",
         "3.161530132526095",
         "3.1477635942859616",
         "3.0696799285868943",
         "3.164142918320729",
         "3.1648038878272176",
         "3.13109305169768",
         "3.1569420233041763",
         "3.1648140378045757",
         "3.1411328273198778",
         "3.1576923477040406",
         "3.1582053096961196",
         "3.0860563117182136",
         "3.123995791187773",
         "2.650352263861603",
         "3.1884400426827146",
         "3.156521124324192",
         "3.2170673203049427",
         "3.156477597999976",
         "3.1813123266232157",
         "3.160817049589928",
         "3.208211593429143",
         "3.172808936008576",
         "3.1512081060984705",
         "3.1770805336280996",
         "3.1652488485980568",
         "3.131007974084624",
         "3.1820311142539337",
         "3.135219348731186",
         "3.2220222398577327",
         "3.116591543152875",
         "3.171166253943746",
         "3.0522510658090396",
         "3.190430587530133",
         "3.1688019670592373",
         "3.121271303644124",
         "3.162909173151616",
         "3.2227258034233692",
         "3.211001966183237",
         "3.2016134813770094",
         "3.2006464964931496",
         "3.0662465732537245",
         "3.145066755674783",
         "3.1643236240950863",
         "3.156734679675412",
         "3.140720871815035",
         "3.1566834404544584",
         "3.1145483743383964",
         "3.1520853558447537",
         "3.16418589014025",
         "3.2540186149055286",
         "3.1611696463230428",
         "3.160776668045569",
         "3.161795448550096",
         "3.1739230326887427",
         "3.1444758630379273",
         "3.1116766419568385",
         "3.1675454209766842",
         "3.3146193301622064",
         "3.173684224322159",
         "3.1560528881179177",
         "3.186369383887396",
         "3.2250661351310463",
         "3.1593332706596136",
         "3.1686350265176837",
         "3.1483674074391588",
         "3.161013936640592",
         "3.1625712475974668",
         "3.1630958774612323",
         "3.1241796011743133",
         "3.1708229256820983",
         "3.306855328628247",
         "3.157749756263622",
         "3.151152289691854",
         "2.782194289867152",
         "3.2387235746218415",
         "3.2200065692839828",
         "3.1336556260943884",
         "3.092417694453908",
         "3.145451842867773",
         "3.1378632603217382",
         "3.1842088962692334",
         "3.1372806002374403",
         "3.110640369954091",
         "3.158414307706809",
         "3.154296004205758",
         "3.0310278034545393",
         "3.178261480502262",
         "3.353603649017884",
         "3.142463501632412",
         "3.0415265530164755",
         "3.3050236156250676",
         "3.1455485067170894",
         "3.1532899927480647",
         "3.17533415756128",
         "3.2601128172227636",
         "3.0501658015863016",
         "3.1511403779365303",
         "3.159956928959068",
         "3.162656695301088",
         "3.0705894674196497",
         "3.1146085299620445",
         "3.1537043432759715",
         "3.0211450893408",
         "2.9992063483893854",
         "3.094080350418693",
         "3.4365049259118323",
         "3.1612964279756888",
         "3.1241577209201807",
         "3.135327028742952",
         "3.1559803863927502",
         "3.1320392941773996",
         "3.1679208861277197",
         "3.162270551489536",
         "3.159203636859246",
         "3.0175562323880913",
         "3.1084080550303987",
         "3.163256956790454",
         "3.141784384468528",
         "3.1367107186644723",
         "3.203375344210938",
         "3.163017716511305",
         "3.1513404062208967",
         "3.3489219364965273",
         "3.4466670331203066",
         "3.1042352541255815",
         "3.0673548786203706",
         "3.0917429037432345",
         "3.1570236664414435",
         "3.164140418238412",
         "3.170371233232936",
         "3.161878668551124",
         "3.1540092625592435",
         "3.1325546437684584",
         "3.1860822621933305",
         "3.157363262495107",
         "3.169111580647843",
         "3.1193127886531467",
         "3.261453677835995",
         "3.1392115578682844",
         "3.2030546822004267",
         "3.1923519642685547",
         "3.2286935894463653",
         "3.171258339203365",
         "3.1788366116177857",
         "3.2232972145267116",
         "3.181477008479251",
         "3.1604838664271386",
         "3.1448767114756406",
         "3.1840294384552186",
         "3.159657687617565",
         "3.100887099850926",
         "3.29551499390177",
         "3.1404507169807987",
         "3.161052618602206",
         "3.161882575784451",
         "3.1598239931480947",
         "3.1644446102153885",
         "3.156476166207895",
         "3.121777748325068",
         "3.3536586084876374",
         "3.1748780864106645",
         "3.134345407305825",
         "3.155601108087844",
         "3.163243157647473",
         "3.16066334615191",
         "3.1779072638268047",
         "3.165887812427721",
         "3.1607866316368196",
         "3.1567697244488664",
         "3.169539715829645",
         "3.152395687404972",
         "3.132222717093716",
         "3.148381177396936",
         "3.1346070361312988",
         "3.170630220427077",
         "3.153959054148476",
         "3.1457604522501055",
         "3.1607709441402765",
         "3.148874547336069",
         "3.3360842368871397",
         "3.1433606571660317",
         "3.118265481780917",
         "3.1703336669328586",
         "3.1751494642734173",
         "3.159986614127107",
         "3.193476765854242",
         "3.194251989035175",
         "3.196486755860259",
         "3.175161451864044",
         "3.2082851410645623",
         "3.2052101253447844",
         "3.183343411379833",
         "3.250547834202608",
         "3.156129445906791",
         "3.158584088204985",
         "3.124209095509234",
         "3.117392778306996",
         "3.162931723465958",
         "3.169061558587691",
         "3.1934777490344253",
         "3.489501237986498",
         "3.1376622680000286",
         "3.156331552669514",
         "3.119091884101233",
         "3.1228773775300778",
         "3.170424900604868",
         "3.188194428463422",
         "3.157556313955477",
         "3.2573182014611533",
         "3.1589788469610585",
         "3.120600560794742",
         "3.132089046654854",
         "3.0580898732777704",
         "3.165234517962306",
         "3.1650584084053746",
         "2.9869481964697755",
         "3.140759640374615",
         "3.1839382367329376",
         "3.1443338247483044",
         "3.159573470894589",
         "3.168941311670501",
         "3.1708815189959405",
         "3.118281651709028",
         "3.0495716457546136",
         "3.1005662019851727",
         "3.135255466867158",
         "3.012474930107051",
         "3.355945325864407",
         "3.0735300991282792",
         "3.064276572575294",
         "3.1727214827618684",
         "3.22138517677809",
         "3.1553122090400567",
         "3.1642599042285258",
         "3.1443712136745474",
         "3.1883957506832115",
         "3.161710556424761",
         "3.163023843919818",
         "3.153011072181261",
         "3.1732305231787645",
         "3.1704592539675325",
         "3.1461991422085367",
         "3.1534160581321458",
         "3.153506390738363",
         "3.1625786346883866",
         "3.179035945179636",
         "3.1805816230777517",
         "3.181906374174695",
         "3.168143276302397",
         "3.1550963303112045",
         "3.1309611984730794",
         "3.151115791601478",
         "3.1791362082181824",
         "3.151497052031553",
         "3.137298296391677",
         "3.159615829651797",
         "3.0756857686920385",
         "3.1673404865150685",
         "3.1406975044243057",
         "3.162003698405372",
         "3.157168693434921",
         "3.1791815018096523",
         "3.1042863373548424",
         "3.170053454942211",
         "3.1554347465888006",
         "3.1511692408892102",
         "3.121301746226579",
         "3.144986961790253",
         "3.1374009330705817",
         "3.186407338968116",
         "3.1607731607715897",
         "3.1456915535785517",
         "3.133367805186235",
         "3.1601446658474655",
         "3.0988320894215726",
         "3.1453316699414566",
         "3.1589246374937923",
         "3.1600860092091656",
         "3.161687150218378",
         "3.148304551419061",
         "3.1520669476965244",
         "3.1942104143852768",
         "3.256422007635542",
         "3.1501573999061305",
         "3.11065810213657",
         "3.1849141124389746",
         "3.161167614814599",
         "3.098865856070301",
         "2.985343361544454",
         "3.005104308285349",
         "3.1652109377006057",
         "3.1666132728164014",
         "3.159727925669173",
         "3.1256434161573416",
         "3.181268765170089",
         "3.083141354453885",
         "3.1330400547627826",
         "3.1664913964491985",
         "3.158100543865686",
         "3.0787349965649313",
         "3.158766126384153",
         "3.2060696278599674",
         "3.1355802489812015",
         "3.144675880588015",
         "3.1850193551568164",
         "3.2712409514850984",
         "3.221457019360151",
         "3.1624548328006914",
         "3.1622867135259205",
         "3.1556291822933904",
         "3.1660926744070346",
         "3.0942782118847227",
         "3.184472126249942",
         "3.167839112355309",
         "3.07001636558493",
         "3.1446037457987046",
         "3.1193261704623296",
         "3.1246824747313524",
         "3.302576722168751",
         "3.237118484779852",
         "3.164385900961922",
         "3.12540953605972",
         "3.1570755704572973",
         "3.11928408728742",
         "3.154371157380118",
         "3.1941536805614112",
         "3.1498409813915176",
         "3.1549767938746243",
         "3.134968737864636",
         "3.0963766579397456",
         "3.1617858706252306",
         "3.221044114957229",
         "3.217216488752012",
         "3.155553607630762",
         "3.1457786255094784",
         "3.1173381695202145",
         "3.0428528820794987",
         "3.213158601734279",
         "3.155358203486589",
         "3.1400296551913947",
         "3.1462757098576026",
         "3.167089814028657",
         "3.1771433340899145",
         "3.1605159212084275",
         "3.125567276072854",
         "3.1580030641515067",
         "3.1664934789347816",
         "3.1587209778593355",
         "3.178390270802486",
         "3.13398472056625",
         "3.1540199333920116",
         "3.157807936691495",
         "3.086922686749218",
         "3.123333101913352",
         "3.1437993013855063",
         "3.131821197513924",
         "3.159638544340534",
         "2.7249172089146496",
         "3.1531033084186064",
         "3.1238642995393375",
         "3.159320411867633",
         "3.175917152809472",
         "3.187341691303412",
         "3.1513840800332424",
         "3.1671365914616714",
         "3.139612982312043",
         "3.1414737470858323",
         "3.112380744755112",
         "3.1789085971691846",
         "3.154860132586182",
         "3.1592750823061824",
         "3.18467026658216",
         "3.1593254053726825",
         "3.144567634630475",
         "3.229679766719101",
         "3.1642415635430066",
         "3.1662279535618993",
         "3.160394060350457",
         "3.1542240526933254",
         "3.1817226565953445",
         "3.149978098828717",
         "3.1873200815869773",
         "3.171542009438556",
         "3.1760842595465753",
         "3.279161706783061",
         "3.132830126867041",
         "3.144490759161493",
         "3.0468219325204133",
         "3.159447522266348",
         "3.154712731023757",
         "3.200167752446143",
         "3.1542038441013367",
         "3.1600623230584084",
         "3.1737060420541217",
         "3.1457599699685663",
         "3.167327356656869",
         "3.17266064024373",
         "3.1804953652068333",
         "3.1397081094540966",
         "3.571659574766949",
         "3.2831776591500637",
         "3.16933827926535",
         "3.0725018998155864",
         "3.1582620616531423",
         "3.1718604225797273",
         "3.099242111083368",
         "3.0878162380810124",
         "3.1662481954389614",
         "3.143911593079387",
         "3.1678228213290835",
         "3.1742933258501203",
         "3.162371441835412",
         "3.142239076131207",
         "3.1849613079758736",
         "3.153970777937331",
         "3.163584796662766",
         "3.2258724708804696",
         "3.1609003868477834",
         "3.160467897529065",
         "3.242689232844538",
         "3.211656240830851",
         "3.2873647935851587",
         "3.1389794776703384",
         "2.995038243984073",
         "3.1735225914355407",
         "3.1566982021848524",
         "2.91416391596287",
         "3.0112822855507657",
         "3.0428303311644873",
         "3.0291814639747847",
         "3.0905975602075353",
         "3.1584339405511432",
         "3.0862790655371093",
         "3.151712626064899",
         "3.1697981613878787",
         "3.179202734546105",
         "3.1567495057339907",
         "3.1498490542306854",
         "3.1801479441356286",
         "3.1933394050612085",
         "3.168122098488513",
         "3.1493191157442437",
         "3.183786162336693",
         "3.158488136388061",
         "3.1690753799010314",
         "3.153307666400963",
         "3.159534413312302",
         "3.168766817999024",
         "3.311694690267293",
         "3.184766329144571",
         "3.1200747410793688",
         "3.169138437485654",
         "3.1463957981918114",
         "3.0940433507178144",
         "3.156002343485532",
         "3.2399022805695896",
         "3.206091945692816",
         "3.142046435248643",
         "3.2039173479967653",
         "3.1878905294719977",
         "3.371040737915595",
         "3.1503235516166805",
         "3.195563070976472",
         "3.1587533630104763",
         "3.177633150675854",
         "3.1083050399709933",
         "3.1604507022454156",
         "3.1563019356517246",
         "3.1479996670965686",
         "3.1856840880731934",
         "3.160797611193027",
         "3.0718891006640257",
         "3.1654562911147632",
         "3.163491567528161",
         "3.159187239576358",
         "3.141101913477877",
         "3.1545032335864946",
         "3.1552866220472744",
         "3.1524263434292723",
         "3.150634470615529",
         "3.2285533464180096",
         "3.168561322187428",
         "3.1652512082997353",
         "3.1518396219379596",
         "3.150302309066872",
         "3.1420529082150686",
         "3.144002892591331",
         "3.162129623567833",
         "3.165048800121664",
         "3.1639956598192525",
         "3.159099907232174",
         "3.161019843106951",
         "3.2897206403091723",
         "3.1909312842155946",
         "3.159596084749719",
         "3.1602594524062027",
         "3.156935211558901",
         "3.148629019846059",
         "3.136190597949667",
         "3.159175303647582",
         "3.149106213039811",
         "3.162505915556732",
         "3.14907359477391",
         "3.160348147211257",
         "3.1587047168816955",
         "3.1540063695076883",
         "3.522982991952521",
         "3.1263524245451264",
         "3.160445617267041",
         "3.1690484711833213",
         "3.210491527232419",
         "3.162336975620335",
         "3.1400361699181745",
         "3.1785049556247724",
         "3.1650711765225092",
         "3.155736162732016",
         "3.1548961728959783",
         "3.2380925554150917",
         "3.378049381798405",
         "3.2114915845013403",
         "3.159884183735906",
         "3.173424880647546",
         "3.1786642658534583",
         "3.1601722478730725",
         "3.163114897922227",
         "3.1375027578626797",
         "3.1528063857986983",
         "3.3549753443064025",
         "3.168617004597249",
         "3.1470720793972347",
         "3.0448479403491153",
         "3.1705480993950155",
         "3.119129972598467",
         "3.160592340888657",
         "3.1613888855015344",
         "3.20490715868895",
         "3.16730777866488",
         "3.1785453247334012",
         "3.047671348338157",
         "3.169019961010418",
         "3.1435030455501445",
         "3.1590680652439946",
         "3.2269960763009427",
         "3.2066448146415225",
         "3.1642214548912486",
         "3.1781388139255506",
         "3.165175369474991",
         "3.150584199942856",
         "3.1009802625089766",
         "3.1734066990893774",
         "3.1427374374994335",
         "3.170812221701419",
         "3.1417655361157615",
         "3.1558968978550332",
         "3.1602542694062303",
         "3.1605741260210056",
         "3.1627032378911495",
         "3.179430146194014",
         "3.1693493954423064",
         "3.081027914085616",
         "3.1776993462312437",
         "3.1740720911719187",
         "3.1051056370402965",
         "3.144902131225438",
         "3.1665985413616755",
         "3.1350601632174113",
         "3.16811113657759",
         "3.164009567241847",
         "3.2124930650655945",
         "3.1613344242139716",
         "3.058326264404308",
         "3.1389461569095056",
         "3.068723639926148",
         "3.3147562710329233",
         "3.1165896598807117",
         "3.209557219497201",
         "3.086683241982068",
         "3.2139954341527703",
         "3.165831815822899",
         "3.142747719824844",
         "3.2154283531725745",
         "3.1651730407959273",
         "3.1760118024007196",
         "3.136169913170608",
         "3.306481990457246",
         "3.147315738910419",
         "3.161661929700161",
         "3.162400707611522",
         "3.09438825911798",
         "3.1291948440101565",
         "3.16196069549767",
         "3.156497428286328",
         "3.1580899342716644",
         "3.159911687742633",
         "3.195204888335346",
         "2.913919201506453",
         "2.973831647034989",
         "3.0992319891562587",
         "3.129087240999997",
         "3.15345273209566",
         "3.2732489187577136",
         "3.1613883183641414",
         "3.13498361245966",
         "3.1604674456194464",
         "3.163971128260551",
         "3.1645228467514634",
         "3.153663980161944",
         "3.1431740338536818",
         "3.1709989391620432",
         "3.1718538128428797",
         "3.1606950261172138",
         "3.1594633045860876",
         "3.1609549698518595",
         "3.1398939645233983",
         "3.0688907367180294",
         "3.213319827009141",
         "3.152173589637282",
         "3.1662830026997124",
         "3.1483590566873354",
         "3.1857906109034313",
         "3.181043373823448",
         "3.157573064056721",
         "3.0099631919470515",
         "3.1634871943483027",
         "3.1563490879578193",
         "3.1787939913390515",
         "3.0706928282695323",
         "3.150852800194015",
         "3.133775220357362",
         "3.1299904033527173",
         "3.164319792744741",
         "3.1628023546498194",
         "3.1697504505832863",
         "2.9504979837300334",
         "3.1479321370896893",
         "3.156142108040512",
         "3.1272641313222227",
         "3.1943253734757207",
         "3.058552039602135",
         "3.1006753650547765",
         "3.1204185852835495",
         "3.1922763182163805",
         "3.1411377798184392",
         "3.104577278239359",
         "3.118489103299631",
         "3.160160280369408",
         "3.1651471446156507",
         "3.2221429740889693",
         "3.124176265118653",
         "3.1098750581707297",
         "3.1381522181404145",
         "3.006993333027866",
         "3.1511923904787977",
         "3.1826955797971155",
         "3.1558596436862807",
         "3.1625289966518473",
         "3.0942245308842167",
         "3.0886963644846923",
         "3.158892863687808",
         "3.1476452494694245",
         "3.183796619570271",
         "3.212241239040368",
         "3.1436907497448234",
         "3.1463753446188107",
         "3.156431607289706",
         "3.1593379902581713",
         "3.171133660896778",
         "3.164110451509862",
         "3.166489257751696",
         "3.2190333119314403",
         "3.1413448794701893",
         "3.1715588118580307",
         "3.2246293346557326",
         "3.2703461540416514",
         "3.2469434315829413",
         "3.097658357237747",
         "3.1507929900524556",
         "3.1703379098622446",
         "3.186264625992365",
         "3.1610010986718295",
         "3.2818191361739655",
         "3.1589672767303005",
         "3.2846341031087656",
         "3.1979140808995687",
         "3.1362987092211356",
         "3.1660853579351786",
         "3.1023215221580593",
         "3.321185892237904",
         "3.0388168032617546",
         "3.1727912231419877",
         "3.156771555362761",
         "3.1576780044349473",
         "3.1606654109225336",
         "3.1552203118185345",
         "3.112854765383826",
         "3.139887715320471",
         "3.1668440933320445",
         "3.140886990737994",
         "3.16630935529832",
         "3.169730821878372",
         "3.161882575784451",
         "3.1361511901013297",
         "3.17920779736258",
         "3.276930984608985",
         "3.203964837351821",
         "3.162147081923697",
         "3.1694549653948227",
         "3.1546018682383328",
         "3.114818091327342",
         "3.1176906439182104",
         "3.1643494536264223",
         "3.1746771360828667",
         "3.172535439350129",
         "3.1540565673969905",
         "3.1576811624177266",
         "3.1554786254068765",
         "3.1560871519165703",
         "3.0853969308450315",
         "3.1948528296690895",
         "3.1540202919850855",
         "3.149869406514659",
         "3.1642834430546314",
         "3.3654301198645045",
         "3.1534812652217097",
         "3.152955596918064",
         "3.267819721874955",
         "3.0411942895279838",
         "3.1390926411853535",
         "3.151630880551539",
         "3.160740815155273",
         "3.1606774699669873",
         "3.195392718905949",
         "3.12299923099789",
         "3.0810033569043305",
         "3.166373247400825",
         "3.15252518137826",
         "3.154336012505523",
         "3.352318989844558",
         "3.107313081066096",
         "3.123706453161511",
         "3.1077979153437005",
         "3.159238124829524",
         "3.1085599238507875",
         "3.1471304901436543",
         "3.1631514412168125",
         "3.1649889107184865",
         "3.1652341714273686",
         "3.1660239843432656",
         "3.255388634169128",
         "3.2006037092316624",
         "3.1847134440925142",
         "3.146236129081451",
         "3.1222184401850783",
         "3.381816393540534",
         "3.160216280475717",
         "3.1507767722369815",
         "3.161882575784451",
         "3.1458211298193373",
         "3.1647304145920803",
         "3.1447956936257393",
         "3.1583620229893468",
         "3.1602830563694306",
         "3.1524954814619313",
         "3.160843338923705",
         "3.2030448794931003",
         "3.2316609318046674",
         "3.192852109604362",
         "3.160927925910552",
         "3.171180081522426",
         "3.1490245652342463",
         "3.15379274367224",
         "3.14716023804273",
         "3.35697211878724",
         "3.1944535265014875",
         "3.164077013025975",
         "3.0128228123060445",
         "3.1326376595634176",
         "3.1608159716004263",
         "3.1622135601101338",
         "3.1638298727825096",
         "3.0733021301991323",
         "3.1611929394184015",
         "3.1437358779895104",
         "3.126364518746643",
         "3.0898342571763986",
         "3.1606044038144305",
         "3.1370386741773255",
         "3.1294665598812346",
         "3.253970692021097",
         "3.149076343181373",
         "3.165603734285924",
         "3.1797122349684326",
         "3.2102812770928764",
         "3.148926959565986",
         "3.1708969762799977",
         "2.945271326527054",
         "3.1830897654329378",
         "3.235664788656184",
         "2.984253668632986",
         "3.061597626514666",
         "3.173973444782726",
         "3.129166374253287",
         "3.2039294438878287",
         "3.4816546296784487",
         "3.1839735647077707",
         "3.151041963002934",
         "3.165560223649707",
         "3.1638716762847006",
         "3.168222989577111",
         "3.1651588942630573",
         "3.2000850096056985",
         "3.149397593096797",
         "3.17974463769755",
         "3.1270211227765854",
         "3.0863678793426463",
         "3.1096691120753497",
         "3.188159102330781",
         "3.195255571175452",
         "3.1821360966360976",
         "3.172400810560408",
         "3.1388578397762585",
         "3.1579106795581753",
         "3.045281019478467",
         "3.0648063936718115",
         "3.3347086970335074",
         "3.154104057125957",
         "3.1811623456587887",
         "3.1530263296914827",
         "3.1497756950574183",
         "3.178175128041563",
         "3.13064150161003",
         "3.1994486967544695",
         "3.1272574105111173",
         "3.1158342053690804",
         "3.116512921552737",
         "3.1042064545447197",
         "3.136865657107342",
         "3.1472398430055284",
         "3.2212720346565487",
         "3.1749552216729366",
         "3.096450497393572",
         "3.163545107482228",
         "3.152701451263859",
         "3.1437616230109597",
         "3.126307581168699",
         "3.167902205187261",
         "3.177476836519249",
         "3.1788256025002717",
         "3.2033273690431696",
         "3.130558552224099",
         "3.1406995817724166",
         "3.156887940708179",
         "3.192106757676215",
         "3.1911962035740964",
         "3.175886062192334",
         "3.196723697647466",
         "3.1445050086131765",
         "3.0808313747481355",
         "3.2066297592402635",
         "3.1632427333412925",
         "3.0459881899808154",
         "3.1161602739390544",
         "3.1615863313989974",
         "3.06136688768436",
         "3.129587189849118",
         "3.148247508166922",
         "2.9018592786612283",
         "3.1443552391819933",
         "3.1585832363621833",
         "3.170585623555206",
         "3.175581602814784",
         "3.1226193953184582",
         "3.178356804148394",
         "3.160074580905252",
         "3.1641873621982004",
         "3.1588458936947146",
         "3.106676781653505",
         "3.192346108057627",
         "3.1540047151418715",
         "3.148793819891211",
         "3.1589423339420897",
         "3.1380911920999957",
         "3.1607420881516046",
         "3.168146504569532",
         "3.301572907583722",
         "3.134995075219549",
         "3.15372316181312",
         "3.1891602327949946",
         "3.1850933037280345",
         "3.158204089439153",
         "3.714862994580222",
         "3.185893645236629",
         "3.1684352663325397",
         "3.2004885171428774",
         "3.205026880038214",
         "3.208579607520825",
         "3.1729877930126897",
         "3.1640819675328014",
         "3.083657407484181",
         "3.189669601217883",
         "3.1921567923162195",
         "3.137997224758772",
         "3.15889090627087",
         "3.1778927792697345",
         "3.258108697232166",
         "3.1605984644683978",
         "3.2080740125011387",
         "3.14811199440551",
         "3.365585790625401",
         "3.104169642372447",
         "3.163450450103665",
         "3.1617639048359507",
         "3.045732738771424",
         "3.1626583141970492",
         "3.226672148919266",
         "3.1617872365664055",
         "3.5816049313153266",
         "3.161344863797693",
         "3.106590702655725",
         "3.2523687466760283",
         "3.1303308014948805",
         "3.0028764866722133",
         "3.201375380160003",
         "3.166142712324936",
         "3.1724408220026312",
         "3.2080731413855386",
         "3.146216737519089",
         "3.175229533938285",
         "3.069945530463082",
         "3.3412010081999424",
         "3.2392170537377774",
         "3.1860070286550863",
         "3.165126259705858",
         "3.128824557894421",
         "3.0449736302703894",
         "3.162858250990062",
         "3.198821612112511",
         "3.1931655103272805",
         "3.103592681066454",
         "3.1553408952937105",
         "3.056560156254264",
         "3.1239812548950616",
         "3.1619230176833426",
         "3.3513376963470907",
         "3.149583823344524",
         "3.1850463695559674",
         "3.2919937003902473",
         "3.507926937348008",
         "3.1535930973171498",
         "3.160431993762978",
         "3.1602523279007437",
         "3.1727865373784367",
         "3.171917876531349",
         "3.1093952519248247",
         "3.1875010929732612",
         "3.1573737466801917",
         "3.1611998927902514",
         "3.229918092531937",
         "3.1620165635597868",
         "3.1827677305836914",
         "3.158555719537215",
         "3.0798212100050435",
         "3.0994437884131805",
         "3.109392573403936",
         "3.1706379736193826",
         "3.083382593333188",
         "3.1115810857517694",
         "3.151380196516027",
         "3.0708947130955226",
         "3.1480444963165306",
         "3.071420882463216",
         "3.1027029041204015",
         "3.120127578823391",
         "3.147268392567287",
         "3.1998528918689786",
         "3.456111299055917",
         "3.1736926757455612",
         "3.1944692220343263",
         "2.993765449334529",
         "3.1627409882810364",
         "3.106717493453438",
         "3.1439266328168296",
         "3.1826243842130393",
         "3.1401344521231964",
         "3.168304335960936",
         "3.1677257293374317",
         "3.1479729418713362",
         "3.19749896391875",
         "3.2567551495154596",
         "3.170743353313496",
         "3.144926986825537",
         "3.1629888444150396",
         "3.1517330146671396",
         "3.1528094332184144",
         "3.1604085767306653",
         "3.1700871803616963",
         "3.1690601506468363",
         "3.174060587326858",
         "3.0688887136204217",
         "3.0778337121718744",
         "3.172127584850277",
         "3.1273846631861377",
         "3.1333485439009032",
         "3.029308822305359",
         "3.187164664664742",
         "3.1742755625487233",
         "3.144873723537319",
         "3.661892088336383",
         "3.1270658894037737",
         "3.1457016584122175",
         "3.1492310126436123",
         "3.1572428762945415",
         "3.147179987986396",
         "3.0680990711357934",
         "3.1910180798425793",
         "3.155797062678351",
         "3.1604985353391326",
         "3.189183839764432",
         "3.081475438030386",
         "3.16231483648067",
         "3.1434367031403094",
         "3.152337304035862",
         "3.1525404733076674",
         "2.86694785619184",
         "3.160258142061893",
         "3.3304889160284357",
         "3.1078013411707883",
         "3.0562045904403323",
         "3.06294187443279",
         "3.1853359114783126",
         "3.1452196009946447",
         "3.1717469714029636",
         "3.1152544745439434",
         "3.085002538521834",
         "3.1841503704161385",
         "3.132881485568254",
         "3.1493636002975256",
         "3.236150729240915",
         "3.1606306228951224",
         "3.154824585268001",
         "3.2506913855162183",
         "3.1422933928052537",
         "3.2050048619261573",
         "3.1510900036767766",
         "3.237868339493704",
         "3.1806029528951836",
         "3.1725850415981376",
         "3.143804431117602",
         "3.161146854537747",
         "3.162130922005954",
         "3.088394254427023",
         "3.2941372119124197",
         "3.1753876062070865",
         "3.1493222346466885",
         "3.213286684988475",
         "3.1474864549607817",
         "3.158974370557038",
         "3.167240732382096",
         "3.116822320866383",
         "3.1724778245198504",
         "3.164610214231104",
         "3.161674082253692",
         "3.341576760003005",
         "3.2161263670601437",
         "3.208266344103562",
         "3.1326383657893535",
         "3.17379498426558",
         "3.1559172553357278",
         "3.1635294624072174",
         "3.0800825031194594",
         "3.18624057545591",
         "3.151720138792886",
         "3.118314215826372",
         "3.1521235936083034",
         "3.150553086391106",
         "3.158401657894129",
         "3.1576090174354268",
         "3.251278006448277",
         "3.131590030096724",
         "3.1549801115367866",
         "3.1071961565884436",
         "3.163103253606228",
         "3.150441592179997",
         "3.1368786636778334",
         "3.1643920670851267",
         "3.2513423357988582",
         "3.116360833613154",
         "3.155017351309515",
         "2.968549235933913",
         "3.1470872862415016",
         "3.0635264085773355",
         "3.246766475096309",
         "3.161183251039284",
         "3.154424889140996",
         "3.1673585691524866",
         "3.178274981210822",
         "3.1613090093882525",
         "3.168232242178905",
         "3.1605340428461286",
         "3.1667173012572123",
         "3.160829803555962",
         "3.177480408875708",
         "3.3512900767787372",
         "3.1048954800934627",
         "3.084610381698735",
         "2.962180427456726",
         "3.1584031845046647",
         "3.2306310813415497",
         "3.1516560313693733",
         "3.283573215767804",
         "3.1252169409390165",
         "3.1398100136891793",
         "3.171325942934657",
         "3.160891776550078",
         "3.1479505646430295",
         "3.2113640015489024",
         "3.19726351076988",
         "3.1068810548092864",
         "3.0875923906244203",
         "3.1291587497866993",
         "3.1439331561830377",
         "3.0813571110429954",
         "3.161829093974259",
         "3.2217055540129973",
         "3.1369276525640513",
         "3.1718315360760263",
         "3.1607272038237326",
         "3.165238828329994",
         "3.1752683464620466",
         "3.1248136955911736",
         "3.2871837417511367",
         "3.1672840471508272",
         "3.1573430174552155",
         "3.182595077261034",
         "3.1602975392662898",
         "3.140941011944422",
         "3.0917236631073637",
         "3.089752735881499",
         "3.1639193370253382",
         "3.1653026690677923",
         "3.159425386775162",
         "3.1665429664212956",
         "3.161156726940967",
         "3.092373057593131",
         "3.1613818329115912",
         "3.2096256133494325",
         "3.1788558757109273",
         "3.165104328700073",
         "3.1543485057194545",
         "3.1218109364434943",
         "3.158850504462683",
         "3.1237612802336754",
         "3.1359363737854804",
         "3.0744253950156724",
         "3.0755896254919977",
         "3.157849830117849",
         "3.1849596199543644",
         "3.1300971577779824",
         "3.135512915062945",
         "3.115453116479008",
         "3.1575045732667424",
         "3.132701460952266",
         "2.959066901678729",
         "3.185279556050916",
         "3.190040025524238",
         "3.0685152304777565",
         "3.131881928140002",
         "3.0965939723343765",
         "3.1491199077431213",
         "3.1528980755700324",
         "3.1608130518083937",
         "3.132717615370509",
         "3.149355221823253",
         "3.0891739822427198",
         "3.1570048516776508",
         "3.1540472882411175",
         "3.130305670569067",
         "3.1526301388238918",
         "3.1758749245169686",
         "3.153612208321968",
         "3.156900063561741",
         "3.1374186219759497",
         "3.1466679885289452",
         "3.010531768754099",
         "3.042011489596944",
         "2.9703691015030955",
         "3.0504188387298163",
         "3.059981826030501",
         "3.0023361311235006",
         "2.995199549903515",
         "3.018232503226593",
         "2.6011875069454504",
         "3.167823092662597",
         "2.960424294883571",
         "3.0928198910289217",
         "3.1583248959173975",
         "3.1525795405523076",
         "3.1445147786399104",
         "3.147226674063511",
         "3.1611396615625225",
         "3.029159916855712",
         "3.1429949558870836",
         "3.1618531267017524",
         "3.083081474513793",
         "3.1659323608918943",
         "3.1636751997618737",
         "3.134623605009572",
         "3.1606280474565533",
         "3.255845173477904",
         "3.1847526343161223",
         "3.1818741931053056",
         "3.1614331901685495",
         "3.19026678592883",
         "3.160849062470173",
         "3.2688274114939433",
         "3.1350123989116585",
         "3.2813426552084466",
         "3.134413340447639",
         "3.1364577386621044",
         "3.1356185722497085",
         "3.094744373671509",
         "3.1603140045574256",
         "3.164101376006108",
         "3.158847887649349",
         "3.1763125572067588",
         "3.1541989083219337",
         "3.1518031978697363",
         "3.1883076008205253",
         "3.156639347767452",
         "3.161049147707249",
         "3.180061020312096",
         "3.1618333624651487",
         "3.210362655961158",
         "3.037210869446368",
         "3.1381847343872042",
         "3.1420837951859246",
         "3.141237157187194",
         "3.1122558377470244",
         "3.146607560612912",
         "3.1499404812082634",
         "3.155493578711961",
         "3.1570517153487296",
         "3.1851561786085107",
         "3.1600528695868455",
         "3.1869953623105953",
         "3.159927387313025",
         "3.2467940107954734",
         "3.118160880596416",
         "3.283468519078697",
         "3.1054550068849958",
         "3.1557181936047134",
         "3.1591345854374033",
         "3.1612164480910065",
         "3.163707144639096",
         "3.1583237388123777",
         "3.160431993762978",
         "3.2453054237898615",
         "3.1649383569779856",
         "3.169195538292228",
         "3.172518378452141",
         "3.1617061280482903",
         "3.1559296083922908",
         "3.1791991728808644",
         "3.169310827507747",
         "3.160449713106828",
         "3.134200693599871",
         "3.178293929700927",
         "3.1650558691331963",
         "3.164957069682583",
         "3.475861304010163",
         "3.1343961232995876",
         "3.1159650636514002",
         "3.1626257185608098",
         "3.1644612070938027",
         "3.1695675072788703",
         "3.1604542720395306",
         "3.162174011419972",
         "3.134924121578754",
         "3.1739900278509623",
         "3.203302733975388",
         "3.140231059716984",
         "3.163333157805924",
         "3.1762270920265285",
         "3.1573518866194847",
         "3.1240634707090016",
         "3.164258543249705",
         "3.094359392462826",
         "3.1649206106390486",
         "3.124035779297462",
         "3.177750340593135",
         "3.1732894256578774",
         "3.1637936568403218",
         "3.08987724488091",
         "3.15943572330627",
         "3.16432471115699",
         "3.166858044661216",
         "3.163474409770772",
         "3.1428303545619993",
         "3.160569530031733",
         "3.1908964815432626",
         "3.1235395059902236",
         "3.1768113351337433",
         "3.1828537552003446",
         "3.1324150329867964",
         "3.141937515069304",
         "3.158729844151162",
         "3.158255498545298",
         "3.026657978865236",
         "3.1487969245364074",
         "3.223079750025516",
         "3.168278562109689",
         "3.2489581056439616",
         "3.138256961540157",
         "3.1663069536898796",
         "3.108891596307844",
         "3.149476644400011",
         "3.1357964610713736",
         "3.1783956835170173",
         "3.157102643973858",
         "3.1570001135188273",
         "3.070911304828588",
         "3.1480317851301933",
         "3.161141828938417",
         "3.1630312033453345",
         "3.161381571141657",
         "3.0734851292310554",
         "3.180767362202793",
         "3.1704901595737103",
         "3.171148186285748",
         "3.1811816951238896",
         "3.151564375015385",
         "3.1289144260995716",
         "3.160292384350772",
         "3.1574960432723813",
         "3.0708976195264737",
         "3.1600637849152515",
         "3.1570463366896977",
         "3.193226611782526",
         "3.1596730913514484",
         "3.1682667670894737",
         "3.161629101349438",
         "3.1381417476283064",
         "3.1650908510737055",
         "3.1536777253655037",
         "3.1310072137377065",
         "3.161287179823134",
         "3.1514772656958887",
         "3.1537607067548215",
         "3.150797953551339",
         "3.1768440138166256",
         "3.4859096001944705",
         "3.211845559963165",
         "3.2739143092765137",
         "3.160241128367444",
         "3.1645500192265823",
         "3.158902729824026",
         "3.1104085081077155",
         "3.1675445933777326",
         "3.1364312698345325",
         "3.14164160823224",
         "3.1968846191731832",
         "3.1443916482289254",
         "3.161824094461658",
         "3.1376228361286587",
         "3.2054415047027596",
         "3.17231590453137",
         "3.0248241633894333",
         "3.0536962384980564",
         "3.160036461296348",
         "3.1598425820947447",
         "3.14997861544369",
         "3.154581980583847",
         "3.1468272274398985",
         "3.1802098339659635",
         "3.1604713854847977",
         "3.1796930732901116",
         "3.145781364826184",
         "3.1620900431883774",
         "3.1314910843119232",
         "3.1163040375626814",
         "3.1619252598879983",
         "3.195091626472562",
         "3.12144085633749",
         "3.155458135983608",
         "3.1472727345695817",
         "3.154525812541204",
         "3.160266002396668",
         "3.2343583458938916",
         "3.1905808436486227",
         "3.160857087549758",
         "3.1685648496778063",
         "3.156552101872922",
         "3.1222945853184116",
         "3.160534389023962",
         "3.1514849976941295",
         "3.153436740093321",
         "3.1074069945218987",
         "3.1776973699852946",
         "3.3281940210845287",
         "3.1429975631106997",
         "3.05907288370857",
         "3.1608271136205763",
         "3.1113980283662097",
         "3.126407612068614",
         "3.1965661592368138",
         "3.162242308373142",
         "3.291257066161508",
         "3.1535564599656363",
         "3.156996139834589",
         "3.143986928469208",
         "3.1496733914533306",
         "3.1427734531418112",
         "3.1601746893403404",
         "3.1755064093019576",
         "3.1522422087826256",
         "3.1691056213122915",
         "3.173819350313235",
         "3.1693060949729257",
         "3.132427275214621",
         "3.3524086683119574",
         "3.158343236049085",
         "3.1981214858704425",
         "3.1308100935882304",
         "3.191098551518103",
         "3.1493685664622246",
         "3.150535885488383",
         "3.189854411161406",
         "3.2019423170281334",
         "3.184754893479382",
         "3.1767759626439798",
         "3.1465317107340627",
         "3.1996081494597886",
         "3.1613559042955175",
         "3.1669002730503375",
         "3.1556555103061554",
         "3.0667857021559626",
         "3.1581273276664237",
         "3.1158865823931543",
         "3.04515908021557",
         "3.142906370920848",
         "3.1134069970343745",
         "3.107318141351342",
         "3.172798271083773",
         "3.1483596856210383",
         "3.156571612444214",
         "3.161806614425324",
         "3.227263804064842",
         "3.1434319425482906",
         "3.1350426523462334",
         "3.1613217546589047",
         "3.185209966921075",
         "3.165853845557444",
         "3.153542181152819",
         "3.1981545814185024",
         "3.1378404043106136",
         "3.1997804264233016",
         "3.1992136581114843",
         "3.198229962548705",
         "3.175422110897309",
         "3.111323406917382",
         "3.144616768853154",
         "3.1541930492566874",
         "3.1591214596369275",
         "3.1649139283330796",
         "3.2278045034341805",
         "3.1528106377309597",
         "3.1680939033762705",
         "2.9955479206453615",
         "3.0800412138949604",
         "3.319304492069299",
         "3.172888485310778",
         "3.175983016930574",
         "3.143096131506686",
         "3.1471734675586664",
         "3.152505490497328",
         "3.197576279744308",
         "3.203948167470664",
         "3.1625275971903943",
         "3.191565834434987",
         "3.1240420694648705",
         "3.2042365939592523",
         "3.190001460248302",
         "2.972369745406137",
         "3.291047704126937",
         "3.1522436711113384",
         "3.1825042647643724",
         "3.1734236687519988",
         "3.1762174961341576",
         "3.1530560528656735",
         "3.1751750224572577",
         "3.1688942213727787",
         "3.16548362729651",
         "3.1602453819599723",
         "3.1795180988651097",
         "3.167194772043897",
         "3.0243417435109605",
         "3.154139063535961",
         "3.1358004246547453",
         "3.0901902287241945",
         "3.1713292692990183",
         "3.1636261278392817",
         "3.1504111544316173",
         "3.1685606558810586",
         "3.1652385458281853",
         "3.146199526966209",
         "3.1586674561889554",
         "3.3760493427177756",
         "3.3205182797334674",
         "3.0493740894450725",
         "3.17614920029843",
         "3.1685805918802465",
         "3.242191164447143",
         "3.158941781369565",
         "3.143328171686287",
         "3.1490924566831917",
         "3.150890628308613",
         "3.137114461664227",
         "3.160162974725821",
         "3.165668700285049",
         "3.371964557454348",
         "3.1414098562964523",
         "3.1587269895265115",
         "3.214573667143353",
         "3.1042650664354317",
         "3.1576719207469046",
         "3.1493802798917874",
         "3.193872582530325",
         "3.1574442542467587",
         "3.149171984282936",
         "3.157080327681001",
         "3.1489760461871046",
         "3.1649769957980216",
         "2.91340171896626",
         "3.329711794282398",
         "3.155506439315957",
         "3.091865503825086",
         "3.165778620683051",
         "3.158099414239817",
         "3.177717359737706",
         "3.0448010655560327",
         "3.163717388508441",
         "3.1891481808263875",
         "3.1638145456744886",
         "3.1436755811610206",
         "3.1053191705504166",
         "3.1503956101812047",
         "3.2149882141979584",
         "3.1323364657351127",
         "3.3181690341263694",
         "3.1089440670506163",
         "3.176516939416089",
         "2.8730769891697956",
         "3.156843944953225",
         "3.1025020144299678",
         "3.18287769183477",
         "3.3278959830340855",
         "3.1652312215432485",
         "3.193960482104102",
         "3.146679272376221",
         "3.1297389197077976",
         "3.148491201316828",
         "3.1413052030384163",
         "3.1692755486526325",
         "3.283889739109599",
         "3.1622450882982274",
         "3.176711189692743",
         "3.147837870166462",
         "3.3111798399030725",
         "3.1549051506906243",
         "3.109608016565614",
         "3.1623368334400648",
         "3.2661138948742297",
         "3.0503973705310066",
         "3.158924208487253",
         "3.1322617652245004",
         "3.1232925866314214",
         "3.1607094499276958",
         "3.098141142197375",
         "3.155052198442598",
         "3.139295657037",
         "3.063826775728495",
         "3.143863340350873",
         "3.209560255738028",
         "3.183351626318137",
         "3.1329439655078875",
         "3.1507925505279637",
         "3.222529333969043",
         "3.197738487347592",
         "3.1703768211554104",
         "3.079678948300102",
         "3.155048154465013",
         "3.1599954560568766",
         "3.1937076689433033",
         "3.1933842535830212",
         "3.159562089712249",
         "3.1586780679267767",
         "3.1930766446912404",
         "3.1632510965904306",
         "3.216359675880075",
         "3.2307675188156484",
         "3.1749861147040273",
         "3.245844934620388",
         "3.162131439388719",
         "3.1573231891927493",
         "2.9549699199677715",
         "3.0632331682502456",
         "3.158625252474551",
         "3.29617531585223",
         "2.9561927417651503",
         "3.049415837153926",
         "3.146900781131533",
         "3.1348558643248405",
         "3.156584614169279",
         "3.184434801231991",
         "3.128336216351015",
         "3.1620443905260194",
         "3.072111294828618",
         "3.0970762768768507",
         "3.1771311544633467",
         "3.1535982545049177",
         "3.1724385322069475",
         "2.820228976274157",
         "3.1479786530697407",
         "3.160248679880365",
         "3.163428166153152",
         "3.234380247230133",
         "3.336108774240217",
         "3.160206856025537",
         "3.155509730210482",
         "3.1347761768745066",
         "3.1712531927075442",
         "3.1607556780884964",
         "3.147761895681743",
         "3.1208248314985747",
         "3.2460365784190857",
         "3.1711086392796712",
         "3.0772881330048714",
         "3.354139449375782",
         "3.143733664431982",
         "3.141056144587468",
         "3.0413528401636247",
         "3.156566696143721",
         "3.1622426460063005",
         "3.3940530322580154",
         "3.1014832233880383",
         "3.159080826022857",
         "3.110772585018771",
         "3.167281178413322",
         "3.095308603226472",
         "3.155745746084064",
         "3.149164474294776",
         "3.152736749719087",
         "3.1176330044958633",
         "3.1671738565263707",
         "3.1670338588443347",
         "3.152874904497544",
         "3.1637298800073665",
         "3.13307400990667",
         "3.170724369736899",
         "3.1657865591358205",
         "3.1898095520132945",
         "3.1716586772399262",
         "3.140866980866287",
         "3.2598440892994494",
         "3.1725147901373756",
         "3.164201850490578",
         "3.2658528707515404",
         "3.1621040305599615",
         "3.1278026268000265",
         "3.1090757431760667",
         "3.0697061869112336",
         "3.1597213295467226",
         "3.0135221072660383",
         "3.133771015339007",
         "3.165022643712976",
         "3.1484794419794837",
         "3.0903195456241366",
         "3.2340980061342974",
         "3.368599907397303",
         "3.129009024779541",
         "3.0828474610852847",
         "3.121779044660122",
         "3.1354768854983117",
         "3.1545220516135752",
         "3.154436002707521",
         "3.140951286297028",
         "3.1495093442582656",
         "3.133124626853899",
         "3.161143856722926",
         "3.284638478858065",
         "3.15878813615864",
         "3.1180438483086386",
         "3.1453765080312133",
         "3.166069811402958",
         "3.0963869561897077",
         "3.11636109023648",
         "3.1563376852212643",
         "3.144818385784921",
         "3.1529173895258404",
         "3.1921767980387123",
         "3.1405408059361526",
         "3.1578747864386982",
         "3.160478686396455",
         "3.1243869907323605",
         "3.124403732663683",
         "2.806088013900297",
         "3.169589636883835",
         "3.120553970025822",
         "3.067823790751234",
         "3.249033600809625",
         "3.1512036046806373",
         "2.989065770953401",
         "3.149408633164184",
         "3.1467198243677337",
         "3.1776612292322195",
         "3.2571498819285187",
         "3.2323305843798673",
         "3.459997761293329",
         "3.1632298373508583",
         "3.166766762035412",
         "3.1715663411752217",
         "3.084218128706891",
         "3.1177347683741674",
         "3.1508537741785103",
         "3.1552048014499263",
         "3.0923341161629265",
         "3.0998816288825113",
         "3.0836057921274485",
         "3.403078754354808",
         "3.1132179180974546",
         "3.1467697909360797",
         "3.162953214116977",
         "3.1605514997162523",
         "3.2391874183860754",
         "3.1649803959134895",
         "3.1779945790715147",
         "3.1103332877974044",
         "3.1578983951551263",
         "3.1826702990636813",
         "3.153175955111467",
         "3.1806851233590607",
         "3.1634501192785978",
         "3.1560682261862127",
         "3.1588255747416243",
         "3.1854187016423174",
         "3.1331941166923176",
         "3.1586976963231836",
         "3.216063061722918",
         "3.145270808954641",
         "3.0935957854455842",
         "3.1165637178556067",
         "3.1242712062035456",
         "3.15961389072815",
         "3.1291383941954307",
         "3.160331113679919",
         "3.161235636193701",
         "3.1298772157594907",
         "3.1276566296204544",
         "3.1289515186178667",
         "2.9337817908574326",
         "3.151499437722155",
         "3.2309713392676627",
         "3.151102569458526",
         "3.1711460235596105",
         "3.1606764649884633",
         "3.095590285948694",
         "3.0587686815783313",
         "3.163947388146818",
         "3.1593311202762386",
         "3.160089692339054",
         "3.0279519182964716",
         "3.162809059527792",
         "3.1504150526201857",
         "3.146950351114718",
         "3.1599697945566416",
         "3.1209819086958572",
         "3.1621295464344015",
         "3.150972347928561",
         "3.1639645822985245",
         "3.147921276171216",
         "3.186131970350467",
         "3.1909858847064054",
         "3.1213620160802105",
         "3.201826325017175",
         "3.139897234381977",
         "3.12818566184528",
         "3.1414730476269837",
         "3.143477901924256",
         "3.2912831771578523",
         "3.1635847096620773",
         "3.1611988693472672",
         "3.1374549307597195",
         "3.2406564900281074",
         "3.1583782141154835",
         "3.2222531785226987",
         "3.057913723215677",
         "3.156652175595215",
         "3.180494415834403",
         "3.160817387946824",
         "3.1615814365678485",
         "3.023645017834881",
         "3.1681843205738263",
         "3.2986321608661204",
         "3.1627301916583037",
         "3.163238134153152",
         "3.164570451041259",
         "3.1034336531826234",
         "3.097609432171227",
         "3.164469526658605",
         "3.179479287154943",
         "3.1596242913187704",
         "3.151063905410116",
         "3.1609360625838305",
         "3.0954448740852007",
         "3.252612912040486",
         "3.181311553202295",
         "3.160258574212803",
         "3.1785310653414376",
         "3.1588774025583715",
         "3.1720307492649535",
         "3.1644435025516877",
         "3.1603993676364963",
         "3.1490979994362545",
         "3.329659124202412",
         "3.1310716319455407",
         "3.172745155536614",
         "3.285341098734897",
         "3.1586411906643472",
         "3.1647126360290447",
         "3.1769851042071156",
         "3.13192607723722",
         "3.208788187642894",
         "3.2715529415077094",
         "3.1772930833046185",
         "3.3347550410401183",
         "3.166849976103954",
         "3.3217215093712187",
         "3.1635010495118943",
         "3.1271366279644286",
         "3.0980313109694335",
         "3.0354324299261615",
         "3.0977965381590606",
         "3.1616095010651626",
         "3.132087893944248",
         "3.1797373726556293",
         "3.11620099966131",
         "3.181322397501947",
         "3.15282330069018",
         "3.1886444980485438",
         "3.143047259465307",
         "3.157261474065553",
         "3.1619967071603217",
         "3.272863665242814",
         "3.1040842600305063",
         "3.168458610854433",
         "3.1544195211696593",
         "3.1620452002903248",
         "3.1936827413863917",
         "3.1636302769137354",
         "3.0744601726125174",
         "3.534225460624892",
         "3.1573332788343924",
         "3.161551271742095",
         "3.1563257091475303",
         "3.2219444549708576",
         "3.163162243772118",
         "3.1444204084320897",
         "3.213308359823885",
         "3.1853231622586544",
         "3.1607568678789457",
         "3.1303846725725832",
         "3.1269920096335473",
         "3.1027685851020994",
         "3.105984210636532",
         "3.1369200823302417",
         "3.1440437488949686",
         "3.069383717394453",
         "3.1663765382062725",
         "3.192843168224245",
         "3.1867611062684125",
         "3.1667973911716243",
         "3.1530026251889343",
         "3.149876108986594",
         "3.1719348752351397",
         "3.163546637701556",
         "3.039279546419249",
         "3.163117368334485",
         "3.4890922507485196",
         "3.1629898950008712",
         "3.1719765971145577",
         "3.2232120851972805",
         "3.159091429176004",
         "3.1601737271240227",
         "3.274022628810037",
         "3.162551124540513",
         "3.1559727199778385",
         "3.1802400349641395",
         "3.1775201728829874",
         "3.1731549970033774",
         "3.642946777342118",
         "3.1364402052348694",
         "3.2490674457230284",
         "3.285197262828476",
         "3.2279064644787745",
         "3.1277241936460425",
         "3.4028435210366905",
         "3.1742552561026227",
         "3.1525052695461397",
         "3.119560106548328",
         "3.1340415311606753",
         "3.1525536553568756",
         "3.090041272543545",
         "3.171769895265203",
         "3.147753965381788",
         "3.1647135813516134",
         "3.329893695647851",
         "3.128639456413632",
         "3.0941228478435607",
         "3.1851514970444956",
         "3.124766738965456",
         "3.1198308274552597",
         "2.6936648150276663",
         "3.1989753392003153",
         "3.162897554851081",
         "3.1628119646318704",
         "3.3193170288732325",
         "3.1661059753516607",
         "3.252416971058731",
         "3.1675134299234182",
         "3.157489523556454",
         "3.156867755848955",
         "3.185058956510903",
         "3.154076628863902",
         "3.0657757232244776",
         "3.1310912122948227",
         "3.1520675379923286",
         "3.0752791834028077",
         "2.839883313206043",
         "3.172236367342606",
         "3.160592472748104",
         "3.2250799724629124",
         "3.1192717030745403",
         "3.1451641303645745",
         "3.1331277955297923",
         "3.0667735504587164",
         "3.153552652955226",
         "3.3440556970516577",
         "3.139074486846937",
         "3.163871834759869",
         "3.188355082078016",
         "3.314745244879187",
         "3.077871806875777",
         "3.140554477435848",
         "3.4216809341435974",
         "3.1618290568642484",
         "3.1652373894071513",
         "3.168346067796259",
         "3.231827962315277",
         "3.1397830565176053",
         "3.16081948515864",
         "3.1536981440626914",
         "3.156193366697623",
         "3.160764811848726",
         "3.1568507460856234",
         "3.2351607052049363",
         "3.1663199894161247",
         "3.1466622951049446",
         "3.098312018028971",
         "3.0032156849162708",
         "3.2579675009989213",
         "3.2204408229893384",
         "3.1470434989217013",
         "3.1637640178974418",
         "3.174476447374862",
         "3.173215210328842",
         "3.162258854879127",
         "3.1630859823704633",
         "3.1720028779990126",
         "3.5016535458105515",
         "3.1596444847950083",
         "3.173089162508184",
         "3.172938969029167",
         "3.161162009840094",
         "3.1556348458811994",
         "2.889397558163437",
         "3.1603681223709383",
         "3.163184008077",
         "3.1368194015267457",
         "3.157766427449105",
         "3.163381662949185",
         "3.153920312273034",
         "3.00170143573333",
         "3.126456635750678",
         "3.2055385677818187",
         "3.1618492143782966",
         "3.109979784471124",
         "3.162599384498076",
         "3.1623068077425507",
         "3.1611483098241644",
         "3.1629527926562715",
         "3.1564240936865007",
         "3.248463380636207",
         "3.1556779583009886",
         "3.1255635435535876",
         "3.1804563125690737",
         "3.180592466700933",
         "3.17668226661272",
         "3.1562673111142403",
         "3.155493167093993",
         "3.121289908121957",
         "3.137604410158006",
         "3.1618586898845464",
         "3.1736232571855907",
         "3.155148854495182",
         "3.204812498905472",
         "3.077061114147098",
         "3.1511744583747894",
         "3.1530151766546517",
         "3.3067106899353136",
         "3.1314681261227046",
         "3.1551939616119236",
         "3.1597455425106866",
         "3.1833229247198527",
         "3.1748635422789913",
         "3.12922019693528",
         "3.1184224796808477",
         "3.1347787496406965",
         "3.1470974916615404",
         "3.1638269068958116",
         "3.160838861225087",
         "3.1585006693800355",
         "3.2389517702129176",
         "3.3719048511381304",
         "3.1205526735591067",
         "3.173045838862125",
         "3.1781620681190574",
         "3.1659608556619974",
         "3.1582849649399805",
         "3.1501911490209795",
         "3.195159814500511",
         "3.1234756524157974",
         "3.2740465652206185",
         "3.1716783937983246",
         "3.145917534045988",
         "3.14403616072319",
         "3.1610768233664275",
         "3.0984006678395",
         "3.1026146194714457",
         "3.3398407915854573",
         "3.158239316419897",
         "3.1501275653304535",
         "3.1405251794747686",
         "3.1015635733070335",
         "3.1877064247272497",
         "3.1651300545832632",
         "3.027346733841606",
         "3.094274816560656",
         "3.2674245423040653",
         "3.1653001876005393",
         "3.1459595788617394",
         "3.1158509601993694",
         "3.1646024667066532",
         "3.2706583013803043",
         "3.125697677866439",
         "3.1588756744565467",
         "3.0995522440711705",
         "3.0788038209767192",
         "3.1596360831085737",
         "3.13243900735308",
         "3.1640023576192027",
         "3.156826586068608",
         "3.1498807035259957",
         "3.1010420916748744",
         "3.2514312267544767",
         "3.1885093942302016",
         "3.162173691118631",
         "3.163082627175918",
         "3.136756646793661",
         "3.166247669810494",
         "3.159352221468903",
         "3.11934491086823",
         "2.9597148070675017",
         "3.1648315115350094",
         "3.052953806016075",
         "3.160325341178505",
         "3.1347848758758348",
         "3.1479489874959166",
         "3.149572911675631",
         "3.126331046088569",
         "3.1625472813092133",
         "3.1606289005833217",
         "3.160728834799224",
         "3.080056763247781",
         "3.150834684602154",
         "3.0883821646766845",
         "3.1190331896829964",
         "3.1427619424384083",
         "3.2453588507238766",
         "3.293594125423218",
         "3.1655345135897393",
         "3.165661572307263",
         "3.156079474148344",
         "3.1227435051163184",
         "3.164074398264139",
         "3.105592150322297",
         "3.187932916859396",
         "3.1619210383738308",
         "3.1610210023276224",
         "3.244136731098457",
         "3.2391897833780554",
         "3.17974553056606",
         "2.97279692288589",
         "3.1518284239759082",
         "3.3458236546167486",
         "3.0232361470346136",
         "3.111150649285547",
         "3.1322881257545183",
         "3.159311806966654",
         "3.160824492229288",
         "3.241375118211935",
         "3.217694887995896"
        ]
       ],
       "shape": {
        "columns": 2954,
        "rows": 5
       }
      },
      "text/html": [
       "<div>\n",
       "<style scoped>\n",
       "    .dataframe tbody tr th:only-of-type {\n",
       "        vertical-align: middle;\n",
       "    }\n",
       "\n",
       "    .dataframe tbody tr th {\n",
       "        vertical-align: top;\n",
       "    }\n",
       "\n",
       "    .dataframe thead th {\n",
       "        text-align: right;\n",
       "    }\n",
       "</style>\n",
       "<table border=\"1\" class=\"dataframe\">\n",
       "  <thead>\n",
       "    <tr style=\"text-align: right;\">\n",
       "      <th>title_clean_x</th>\n",
       "      <th>...And Justice for All (1979)</th>\n",
       "      <th>1-900 (1994)</th>\n",
       "      <th>10 Things I Hate About You (1999)</th>\n",
       "      <th>101 Dalmatians (1996)</th>\n",
       "      <th>12 Angry Men (1957)</th>\n",
       "      <th>2 Days in the Valley (1996)</th>\n",
       "      <th>20 Dates (1998)</th>\n",
       "      <th>20,000 Leagues Under the Sea (1954)</th>\n",
       "      <th>200 Cigarettes (1999)</th>\n",
       "      <th>2001: A Space Odyssey (1968)</th>\n",
       "      <th>...</th>\n",
       "      <th>You've Got Mail (1998)</th>\n",
       "      <th>Young Doctors in Love (1982)</th>\n",
       "      <th>Young Frankenstein (1974)</th>\n",
       "      <th>Young Guns (1988)</th>\n",
       "      <th>Young Guns II (1990)</th>\n",
       "      <th>Young Sherlock Holmes (1985)</th>\n",
       "      <th>Young and Innocent (1937)</th>\n",
       "      <th>Zachariah (1971)</th>\n",
       "      <th>Zero Effect (1998)</th>\n",
       "      <th>eXistenZ (1999)</th>\n",
       "    </tr>\n",
       "    <tr>\n",
       "      <th>userId</th>\n",
       "      <th></th>\n",
       "      <th></th>\n",
       "      <th></th>\n",
       "      <th></th>\n",
       "      <th></th>\n",
       "      <th></th>\n",
       "      <th></th>\n",
       "      <th></th>\n",
       "      <th></th>\n",
       "      <th></th>\n",
       "      <th></th>\n",
       "      <th></th>\n",
       "      <th></th>\n",
       "      <th></th>\n",
       "      <th></th>\n",
       "      <th></th>\n",
       "      <th></th>\n",
       "      <th></th>\n",
       "      <th></th>\n",
       "      <th></th>\n",
       "      <th></th>\n",
       "    </tr>\n",
       "  </thead>\n",
       "  <tbody>\n",
       "    <tr>\n",
       "      <th>1</th>\n",
       "      <td>4.227423</td>\n",
       "      <td>4.219395</td>\n",
       "      <td>4.211117</td>\n",
       "      <td>4.221725</td>\n",
       "      <td>4.245857</td>\n",
       "      <td>4.215183</td>\n",
       "      <td>4.216863</td>\n",
       "      <td>4.234052</td>\n",
       "      <td>4.219222</td>\n",
       "      <td>4.223471</td>\n",
       "      <td>...</td>\n",
       "      <td>4.232792</td>\n",
       "      <td>4.224336</td>\n",
       "      <td>4.235984</td>\n",
       "      <td>4.242288</td>\n",
       "      <td>4.225385</td>\n",
       "      <td>4.220644</td>\n",
       "      <td>4.220811</td>\n",
       "      <td>4.219457</td>\n",
       "      <td>4.205524</td>\n",
       "      <td>4.207888</td>\n",
       "    </tr>\n",
       "    <tr>\n",
       "      <th>2</th>\n",
       "      <td>3.699238</td>\n",
       "      <td>3.695525</td>\n",
       "      <td>3.679112</td>\n",
       "      <td>3.702531</td>\n",
       "      <td>3.756614</td>\n",
       "      <td>3.660729</td>\n",
       "      <td>3.684913</td>\n",
       "      <td>3.706129</td>\n",
       "      <td>3.691713</td>\n",
       "      <td>3.666243</td>\n",
       "      <td>...</td>\n",
       "      <td>3.737699</td>\n",
       "      <td>3.708497</td>\n",
       "      <td>3.668422</td>\n",
       "      <td>3.739689</td>\n",
       "      <td>3.694741</td>\n",
       "      <td>3.671797</td>\n",
       "      <td>3.696901</td>\n",
       "      <td>3.694963</td>\n",
       "      <td>3.662439</td>\n",
       "      <td>3.628428</td>\n",
       "    </tr>\n",
       "    <tr>\n",
       "      <th>3</th>\n",
       "      <td>3.920693</td>\n",
       "      <td>3.910296</td>\n",
       "      <td>3.907890</td>\n",
       "      <td>3.900028</td>\n",
       "      <td>3.935104</td>\n",
       "      <td>3.909399</td>\n",
       "      <td>3.914723</td>\n",
       "      <td>3.938554</td>\n",
       "      <td>3.927391</td>\n",
       "      <td>3.987330</td>\n",
       "      <td>...</td>\n",
       "      <td>3.901333</td>\n",
       "      <td>3.913594</td>\n",
       "      <td>3.981481</td>\n",
       "      <td>3.928239</td>\n",
       "      <td>3.900411</td>\n",
       "      <td>3.916392</td>\n",
       "      <td>3.913141</td>\n",
       "      <td>3.910511</td>\n",
       "      <td>3.898285</td>\n",
       "      <td>3.913302</td>\n",
       "    </tr>\n",
       "    <tr>\n",
       "      <th>4</th>\n",
       "      <td>4.250666</td>\n",
       "      <td>4.249104</td>\n",
       "      <td>4.243986</td>\n",
       "      <td>4.241444</td>\n",
       "      <td>4.275322</td>\n",
       "      <td>4.244326</td>\n",
       "      <td>4.245975</td>\n",
       "      <td>4.254232</td>\n",
       "      <td>4.251230</td>\n",
       "      <td>4.286549</td>\n",
       "      <td>...</td>\n",
       "      <td>4.238537</td>\n",
       "      <td>4.251030</td>\n",
       "      <td>4.306941</td>\n",
       "      <td>4.250392</td>\n",
       "      <td>4.252372</td>\n",
       "      <td>4.246311</td>\n",
       "      <td>4.250957</td>\n",
       "      <td>4.249570</td>\n",
       "      <td>4.241019</td>\n",
       "      <td>4.242930</td>\n",
       "    </tr>\n",
       "    <tr>\n",
       "      <th>5</th>\n",
       "      <td>3.145633</td>\n",
       "      <td>3.159145</td>\n",
       "      <td>3.098493</td>\n",
       "      <td>3.105985</td>\n",
       "      <td>3.170626</td>\n",
       "      <td>3.147819</td>\n",
       "      <td>3.127253</td>\n",
       "      <td>3.116875</td>\n",
       "      <td>3.124355</td>\n",
       "      <td>3.432448</td>\n",
       "      <td>...</td>\n",
       "      <td>2.972797</td>\n",
       "      <td>3.151828</td>\n",
       "      <td>3.345824</td>\n",
       "      <td>3.023236</td>\n",
       "      <td>3.111151</td>\n",
       "      <td>3.132288</td>\n",
       "      <td>3.159312</td>\n",
       "      <td>3.160824</td>\n",
       "      <td>3.241375</td>\n",
       "      <td>3.217695</td>\n",
       "    </tr>\n",
       "  </tbody>\n",
       "</table>\n",
       "<p>5 rows × 2954 columns</p>\n",
       "</div>"
      ],
      "text/plain": [
       "title_clean_x  ...And Justice for All (1979)  1-900 (1994)  \\\n",
       "userId                                                       \n",
       "1                                   4.227423      4.219395   \n",
       "2                                   3.699238      3.695525   \n",
       "3                                   3.920693      3.910296   \n",
       "4                                   4.250666      4.249104   \n",
       "5                                   3.145633      3.159145   \n",
       "\n",
       "title_clean_x  10 Things I Hate About You (1999)  101 Dalmatians (1996)  \\\n",
       "userId                                                                    \n",
       "1                                       4.211117               4.221725   \n",
       "2                                       3.679112               3.702531   \n",
       "3                                       3.907890               3.900028   \n",
       "4                                       4.243986               4.241444   \n",
       "5                                       3.098493               3.105985   \n",
       "\n",
       "title_clean_x  12 Angry Men (1957)  2 Days in the Valley (1996)  \\\n",
       "userId                                                            \n",
       "1                         4.245857                     4.215183   \n",
       "2                         3.756614                     3.660729   \n",
       "3                         3.935104                     3.909399   \n",
       "4                         4.275322                     4.244326   \n",
       "5                         3.170626                     3.147819   \n",
       "\n",
       "title_clean_x  20 Dates (1998)  20,000 Leagues Under the Sea (1954)  \\\n",
       "userId                                                                \n",
       "1                     4.216863                             4.234052   \n",
       "2                     3.684913                             3.706129   \n",
       "3                     3.914723                             3.938554   \n",
       "4                     4.245975                             4.254232   \n",
       "5                     3.127253                             3.116875   \n",
       "\n",
       "title_clean_x  200 Cigarettes (1999)  2001: A Space Odyssey (1968)  ...  \\\n",
       "userId                                                              ...   \n",
       "1                           4.219222                      4.223471  ...   \n",
       "2                           3.691713                      3.666243  ...   \n",
       "3                           3.927391                      3.987330  ...   \n",
       "4                           4.251230                      4.286549  ...   \n",
       "5                           3.124355                      3.432448  ...   \n",
       "\n",
       "title_clean_x  You've Got Mail (1998)  Young Doctors in Love (1982)  \\\n",
       "userId                                                                \n",
       "1                            4.232792                      4.224336   \n",
       "2                            3.737699                      3.708497   \n",
       "3                            3.901333                      3.913594   \n",
       "4                            4.238537                      4.251030   \n",
       "5                            2.972797                      3.151828   \n",
       "\n",
       "title_clean_x  Young Frankenstein (1974)  Young Guns (1988)  \\\n",
       "userId                                                        \n",
       "1                               4.235984           4.242288   \n",
       "2                               3.668422           3.739689   \n",
       "3                               3.981481           3.928239   \n",
       "4                               4.306941           4.250392   \n",
       "5                               3.345824           3.023236   \n",
       "\n",
       "title_clean_x  Young Guns II (1990)  Young Sherlock Holmes (1985)  \\\n",
       "userId                                                              \n",
       "1                          4.225385                      4.220644   \n",
       "2                          3.694741                      3.671797   \n",
       "3                          3.900411                      3.916392   \n",
       "4                          4.252372                      4.246311   \n",
       "5                          3.111151                      3.132288   \n",
       "\n",
       "title_clean_x  Young and Innocent (1937)  Zachariah (1971)  \\\n",
       "userId                                                       \n",
       "1                               4.220811          4.219457   \n",
       "2                               3.696901          3.694963   \n",
       "3                               3.913141          3.910511   \n",
       "4                               4.250957          4.249570   \n",
       "5                               3.159312          3.160824   \n",
       "\n",
       "title_clean_x  Zero Effect (1998)  eXistenZ (1999)  \n",
       "userId                                              \n",
       "1                        4.205524         4.207888  \n",
       "2                        3.662439         3.628428  \n",
       "3                        3.898285         3.913302  \n",
       "4                        4.241019         4.242930  \n",
       "5                        3.241375         3.217695  \n",
       "\n",
       "[5 rows x 2954 columns]"
      ]
     },
     "execution_count": 11,
     "metadata": {},
     "output_type": "execute_result"
    }
   ],
   "source": [
    "svd = TruncatedSVD(n_components=10, random_state=42)\n",
    "\n",
    "user_factors = svd.fit_transform(util_matrix_filled) # 6040 utilisateurs X 10 composantes\n",
    "\n",
    "# Étape 3 : Obtenir les composantes (vecteurs latents des items)\n",
    "item_factors = svd.components_ # 10 lignes X 2954 films\n",
    "\n",
    "# Étape 4 : Reconstruction de la matrice approximée\n",
    "approx_matrix = np.dot(user_factors, item_factors)\n",
    "\n",
    "# Étape 5 (optionnelle) : reconstruire un DataFrame pour mieux visualiser\n",
    "approx_df = pd.DataFrame(approx_matrix, index=util_matrix.index, columns=util_matrix.columns)\n",
    "\n",
    "approx_df.head()"
   ]
  },
  {
   "cell_type": "markdown",
   "id": "9e517e63",
   "metadata": {},
   "source": [
    "## Test du modèle"
   ]
  },
  {
   "cell_type": "code",
   "execution_count": 12,
   "id": "0771d0f2",
   "metadata": {},
   "outputs": [
    {
     "name": "stdout",
     "output_type": "stream",
     "text": [
      "RMSE : 0.9238\n"
     ]
    }
   ],
   "source": [
    "# Étape 1 : Extraire uniquement les valeurs non-NaN (en format long)\n",
    "true_values = util_matrix.stack()  # Series indexée par (user, item) avec uniquement les valeurs non manquantes\n",
    "pred_values = approx_df.stack()\n",
    "\n",
    "# Étape 2 : Aligner les deux séries\n",
    "true_values, pred_values = true_values.align(pred_values, join = 'inner')\n",
    "\n",
    "# Étape 3 : Calcul du RMSE\n",
    "rmse = np.sqrt(np.mean((true_values - pred_values) ** 2))\n",
    "print(f\"RMSE : {rmse:.4f}\")"
   ]
  },
  {
   "cell_type": "code",
   "execution_count": null,
   "id": "022dd867",
   "metadata": {},
   "outputs": [
    {
     "data": {
      "text/plain": [
       "userId  title_clean_x                                   \n",
       "1       A Bug's Life (1998)                                 5.0\n",
       "        A Christmas Story (1983)                            5.0\n",
       "        A Close Shave (1995)                                3.0\n",
       "        Airplane! (1980)                                    4.0\n",
       "        Aladdin (1992)                                      4.0\n",
       "                                                           ... \n",
       "6040    West Side Story (1961)                              4.0\n",
       "        When Harry Met Sally... (1989)                      5.0\n",
       "        Witness (1985)                                      4.0\n",
       "        Women on the Verge of a Nervous Breakdown (1988)    4.0\n",
       "        Young Frankenstein (1974)                           4.0\n",
       "Length: 898688, dtype: float64"
      ]
     },
     "execution_count": 14,
     "metadata": {},
     "output_type": "execute_result"
    }
   ],
   "source": [
    "true_values"
   ]
  },
  {
   "cell_type": "code",
   "execution_count": null,
   "id": "7011886a",
   "metadata": {},
   "outputs": [
    {
     "data": {
      "text/plain": [
       "userId  title_clean_x                                   \n",
       "1       A Bug's Life (1998)                                 4.228845\n",
       "        A Christmas Story (1983)                            4.269920\n",
       "        A Close Shave (1995)                                4.203578\n",
       "        Airplane! (1980)                                    4.223617\n",
       "        Aladdin (1992)                                      4.256946\n",
       "                                                              ...   \n",
       "6040    West Side Story (1961)                              3.626886\n",
       "        When Harry Met Sally... (1989)                      3.345340\n",
       "        Witness (1985)                                      3.625645\n",
       "        Women on the Verge of a Nervous Breakdown (1988)    3.562638\n",
       "        Young Frankenstein (1974)                           3.780059\n",
       "Length: 898688, dtype: float64"
      ]
     },
     "execution_count": 15,
     "metadata": {},
     "output_type": "execute_result"
    }
   ],
   "source": [
    "pred_values"
   ]
  },
  {
   "cell_type": "markdown",
   "id": "45ea364b",
   "metadata": {},
   "source": [
    "### Comparaison du RMSE avec différents nombres de composantes + explication du problème d'avoir trop de composantes"
   ]
  },
  {
   "cell_type": "code",
   "execution_count": null,
   "id": "1ee8e122",
   "metadata": {},
   "outputs": [
    {
     "name": "stdout",
     "output_type": "stream",
     "text": [
      "n_components = 5 → RMSE = 0.9454\n",
      "n_components = 10 → RMSE = 0.9238\n",
      "n_components = 20 → RMSE = 0.8967\n",
      "n_components = 50 → RMSE = 0.8405\n",
      "n_components = 100 → RMSE = 0.7677\n",
      "n_components = 150 → RMSE = 0.7066\n"
     ]
    }
   ],
   "source": [
    "components_list = [5, 10, 20, 50, 100, 150]\n",
    "rmse_scores = []\n",
    "\n",
    "for k in components_list:\n",
    "    svd = TruncatedSVD(n_components=k, random_state=42)\n",
    "    user_factors = svd.fit_transform(util_matrix_filled)\n",
    "    item_factors = svd.components_\n",
    "    approx = np.dot(user_factors, item_factors)\n",
    "    approx_df = pd.DataFrame(approx, index=util_matrix.index, columns=util_matrix.columns)\n",
    "    \n",
    "    true_vals, pred_vals = util_matrix.stack(), approx_df.stack()\n",
    "    true_vals, pred_vals = true_vals.align(pred_vals, join='inner')\n",
    "    \n",
    "    rmse = np.sqrt(np.mean((true_vals - pred_vals) ** 2))\n",
    "    rmse_scores.append((k, rmse))\n",
    "\n",
    "for k, r in rmse_scores:\n",
    "    print(f\"n_components = {k} → RMSE = {r:.4f}\")"
   ]
  },
  {
   "cell_type": "code",
   "execution_count": null,
   "id": "d8b29f54",
   "metadata": {},
   "outputs": [],
   "source": [
    "# Tester plusieurs valeurs de composantes\n",
    "# components_range = [5, 10, 20, 50, 100, 150, 200]\n",
    "# rmse_list = []\n",
    "\n",
    "# for k in components_range:\n",
    "    # svd = TruncatedSVD(n_components=k, random_state=42)\n",
    "    # user_factors = svd.fit_transform(util_matrix_filled)\n",
    "    # item_factors = svd.components_\n",
    "    # approx = np.dot(user_factors, item_factors)\n",
    "    # approx_df = pd.DataFrame(approx, index=util_matrix.index, columns=util_matrix.columns)\n",
    "    \n",
    "    # Comparaison uniquement sur les vraies valeurs\n",
    "    # y_true, y_pred = util_matrix.stack(), approx_df.stack()\n",
    "    # y_true, y_pred = y_true.align(y_pred, join='inner')\n",
    "    \n",
    "    # rmse = np.sqrt(np.mean((y_true - y_pred) ** 2))\n",
    "    # rmse_list.append((k, rmse))\n",
    "\n",
    "# 3. Visualiser\n",
    "# ks, rmses = zip(*rmse_list)\n",
    "# plt.plot(ks, rmses, marker='o')\n",
    "# plt.xlabel(\"Nombre de composantes\")\n",
    "# plt.ylabel(\"RMSE\")\n",
    "# plt.title(\"RMSE selon le nombre de composantes\")\n",
    "# plt.grid(True)\n",
    "# plt.show()"
   ]
  },
  {
   "cell_type": "markdown",
   "id": "02a02027",
   "metadata": {},
   "source": [
    "# III. Méthode train/test"
   ]
  },
  {
   "cell_type": "markdown",
   "id": "2de13c55",
   "metadata": {},
   "source": [
    "Dans cette méthode on fait nos prédictions sur 90% du jeu d'entraînement et 10% des notes sont cachées. Ensuite, nous vérifions si ces 10% ont bien été reconstruits par SVD."
   ]
  },
  {
   "cell_type": "code",
   "execution_count": null,
   "id": "86542ca4",
   "metadata": {},
   "outputs": [
    {
     "name": "stdout",
     "output_type": "stream",
     "text": [
      "RMSE sur le test set : 0.9551\n"
     ]
    }
   ],
   "source": [
    "from sklearn.model_selection import train_test_split\n",
    "\n",
    "# 1. Extraire toutes les notes connues\n",
    "ratings = all[[\"userId\", \"rating\", \"title_clean_y\"]]\n",
    "\n",
    "# 2. Split en train/test (ex : 90% - 10%)\n",
    "train_data, test_data = train_test_split(ratings, test_size=0.1, random_state=42)\n",
    "\n",
    "# 3. Créer une matrice d’utilité pour le train\n",
    "train_matrix = pd.pivot_table(train_data, index='userId', columns='title_clean_y', values='rating')\n",
    "\n",
    "# 4. Remplir les NaN (moyenne utilisateur par exemple)\n",
    "train_matrix_filled = train_matrix.apply(lambda row: row.fillna(row.mean()), axis=1)\n",
    "\n",
    "# 5. Appliquer SVD à 10 composantes\n",
    "svd = TruncatedSVD(n_components=10, random_state=42)\n",
    "user_factors = svd.fit_transform(train_matrix_filled)\n",
    "item_factors = svd.components_\n",
    "\n",
    "# 6. Recréer la matrice approximée : il s'agit de notre matrice d'entraînement sur laquelle on a fait nos\n",
    "# prédictions\n",
    "approx_matrix = np.dot(user_factors, item_factors) # Multiplication de matrice\n",
    "approx_df = pd.DataFrame(approx_matrix, index=train_matrix.index, columns=train_matrix.columns) # Reconstruction en DF\n",
    "\n",
    "# 7. Comparer aux vraies notes du test set\n",
    "y_true, y_pred = [], []\n",
    "\n",
    "for _, row in test_data.iterrows():\n",
    "    user, item, true_rating = row['userId'], row['title_clean_y'], row['rating']\n",
    "    # Parcours des lignes du jeu de données test pour obtenir les vrais notes\n",
    "    \n",
    "    if user in approx_df.index and item in approx_df.columns: \n",
    "        # Condition pour comparer uniquement aux données du test\n",
    "        pred_rating = approx_df.loc[user, item] # Localisation de la prédiction\n",
    "\n",
    "        y_true.append(true_rating) # Remplissage des listes\n",
    "        y_pred.append(pred_rating)\n",
    "\n",
    "# 8. Calcul du RMSE\n",
    "rmse = np.sqrt(np.mean((np.array(y_true) - np.array(y_pred)) ** 2))\n",
    "print(f\"RMSE sur le test set : {rmse:.4f}\")"
   ]
  },
  {
   "cell_type": "markdown",
   "id": "af7cd8cd",
   "metadata": {},
   "source": [
    "### Méthode train/test avec différent nombre de composantes"
   ]
  },
  {
   "cell_type": "code",
   "execution_count": null,
   "id": "c90737e5",
   "metadata": {},
   "outputs": [
    {
     "name": "stdout",
     "output_type": "stream",
     "text": [
      "Test de n_components = 10\n",
      "→ RMSE = 0.9551\n",
      "Test de n_components = 50\n",
      "→ RMSE = 0.9519\n",
      "Test de n_components = 100\n",
      "→ RMSE = 0.9626\n",
      "Test de n_components = 150\n",
      "→ RMSE = 0.9739\n",
      "Test de n_components = 200\n",
      "→ RMSE = 0.9826\n"
     ]
    },
    {
     "data": {
      "image/png": "[encoded data removed]",
      "text/plain": [
       "<Figure size 640x480 with 1 Axes>"
      ]
     },
     "metadata": {},
     "output_type": "display_data"
    }
   ],
   "source": [
    "import numpy as np\n",
    "import pandas as pd\n",
    "from sklearn.decomposition import TruncatedSVD\n",
    "import matplotlib.pyplot as plt\n",
    "\n",
    "rmse_results = []\n",
    "components_list = [10, 50, 100, 150, 200]\n",
    "\n",
    "for k in components_list:\n",
    "    print(f\"Test de n_components = {k}\")\n",
    "    \n",
    "    # Étape 1 : recréer matrice train\n",
    "    train_matrix = pd.pivot_table(train_data, index='userId', columns='title_clean_y', values='rating')\n",
    "    \n",
    "    # Étape 2 : remplissage des NaN (moyenne par utilisateur)\n",
    "    train_filled = train_matrix.apply(lambda row: row.fillna(row.mean()), axis=1)\n",
    "    \n",
    "    # Étape 3 : SVD\n",
    "    svd = TruncatedSVD(n_components=k, random_state=42)\n",
    "    user_factors = svd.fit_transform(train_filled)\n",
    "    item_factors = svd.components_\n",
    "    \n",
    "    # Étape 4 : reconstruction de la matrice approximée\n",
    "    approx_matrix = np.dot(user_factors, item_factors)\n",
    "    approx_df = pd.DataFrame(approx_matrix, index=train_filled.index, columns=train_filled.columns)\n",
    "    \n",
    "    # Étape 5 : Évaluation sur le test set\n",
    "    y_true, y_pred = [], []\n",
    "    for _, row in test_data.iterrows():\n",
    "        user, item, true_rating = row['userId'], row['title_clean_y'], row['rating']\n",
    "        if user in approx_df.index and item in approx_df.columns:\n",
    "            pred_rating = approx_df.loc[user, item]\n",
    "            y_true.append(true_rating)\n",
    "            y_pred.append(pred_rating)\n",
    "\n",
    "    # Étape 6 : Calcul du RMSE\n",
    "    if y_true:  # vérifie qu'on a bien des valeurs valides\n",
    "        rmse = np.sqrt(np.mean((np.array(y_true) - np.array(y_pred)) ** 2))\n",
    "        rmse_results.append((k, rmse))\n",
    "        print(f\"→ RMSE = {rmse:.4f}\")\n",
    "    else:\n",
    "        print(f\"⚠️ Aucune prédiction possible pour n_components={k}\")\n",
    "\n",
    "# Étape 7 : Graphique\n",
    "ks, rmses = zip(*rmse_results)\n",
    "plt.plot(ks, rmses, marker='o')\n",
    "plt.xlabel(\"Nombre de composantes (k)\")\n",
    "plt.ylabel(\"RMSE sur test set\")\n",
    "plt.title(\"Évolution du RMSE selon n_components (test set)\")\n",
    "plt.grid(True)\n",
    "plt.show()"
   ]
  },
  {
   "cell_type": "markdown",
   "id": "17c6c670",
   "metadata": {},
   "source": [
    "# IV. Cross-validation"
   ]
  },
  {
   "cell_type": "code",
   "execution_count": null,
   "id": "4ef7a293",
   "metadata": {},
   "outputs": [
    {
     "data": {
      "text/plain": [
       "pandas.core.frame.DataFrame"
      ]
     },
     "execution_count": 8,
     "metadata": {},
     "output_type": "execute_result"
    }
   ],
   "source": [
    "util_matrix_filled = util_matrix.apply(lambda row: row.fillna(row.mean()), axis=1)"
   ]
  },
  {
   "cell_type": "code",
   "execution_count": 22,
   "id": "428ba5f9",
   "metadata": {},
   "outputs": [],
   "source": [
    "# cellules_non_vides = []\n",
    "\n",
    "# for idx in util_matrix.index :\n",
    "    # for col in util_matrix.columns :\n",
    "        # if pd.notna(util_matrix.loc[idx, col]) :\n",
    "            # cellules_non_vides.append((idx, col))\n",
    "    "
   ]
  },
  {
   "cell_type": "code",
   "execution_count": null,
   "id": "0b52ad7e",
   "metadata": {},
   "outputs": [
    {
     "name": "stdout",
     "output_type": "stream",
     "text": [
      "RMSE moyen sur 5 folds : 0.9319\n",
      "RMSE sur toutes les notes : 0.2152539361384825\n"
     ]
    }
   ],
   "source": [
    "import numpy as np\n",
    "import pandas as pd\n",
    "from sklearn.decomposition import TruncatedSVD\n",
    "from sklearn.model_selection import KFold\n",
    "from sklearn.metrics import mean_squared_error, mean_absolute_error\n",
    "\n",
    "\n",
    "# Paramètres\n",
    "n_splits = 5\n",
    "n_components = 10\n",
    "\n",
    "kf = KFold(n_splits=n_splits, shuffle=True, random_state=42)\n",
    "\n",
    "rmse_scores = []\n",
    "mae_scores = []\n",
    "\n",
    "# Matrices de base\n",
    "X_filled = util_matrix_filled  # matrice remplie\n",
    "X_original = util_matrix       # matrice d'origine (avec NaN)\n",
    "\n",
    "# Nouvelle matrice pour stocker toutes les prédictions\n",
    "final_predictions = pd.DataFrame(index=X_original.index, columns=X_original.columns)\n",
    "\n",
    "for train_index, test_index in kf.split(X_filled):\n",
    "    X_train, X_test = X_filled.iloc[train_index], X_filled.iloc[test_index]\n",
    "    X_test_original = X_original.iloc[test_index]\n",
    "    \n",
    "    # SVD sur X_train\n",
    "    svd = TruncatedSVD(n_components=n_components, random_state=42)\n",
    "    svd.fit(X_train)\n",
    "    \n",
    "    # Reconstruction\n",
    "    X_test_reconstructed = svd.transform(X_test) @ svd.components_\n",
    "    X_test_reconstructed = pd.DataFrame(X_test_reconstructed, index=X_test.index, columns=X_test.columns)\n",
    "    \n",
    "    # Ici on stocke TOUTES les prédictions du fold et à la fin on aura TOUT\n",
    "    final_predictions.loc[X_test.index, X_test.columns] = X_test_reconstructed\n",
    "    \n",
    "    # Maintenant RMSE uniquement sur les vraies notes :\n",
    "    true_ratings = []\n",
    "    predicted_ratings = []\n",
    "    \n",
    "    for i in X_test.index:\n",
    "        for j in X_test.columns:\n",
    "            if pd.notna(X_test_original.loc[i, j]):  # uniquement où il y avait une vraie note\n",
    "                true_ratings.append(X_test_original.loc[i, j])\n",
    "                predicted_ratings.append(X_test_reconstructed.loc[i, j])\n",
    "    \n",
    "    rmse = np.sqrt(mean_squared_error(true_ratings, predicted_ratings))\n",
    "    rmse_scores.append(rmse)\n",
    "    mae = mean_absolute_error(true_ratings, predicted_ratings)\n",
    "    mae_scores.append(mae)"
   ]
  },
  {
   "cell_type": "code",
   "execution_count": null,
   "id": "8290c358",
   "metadata": {},
   "outputs": [
    {
     "name": "stdout",
     "output_type": "stream",
     "text": [
      "RMSE moyen sur 5 folds : 0.9319\n",
      "RMSE sur toutes les notes : 0.2152539361384825\n",
      "MAE moyen sur 5 folds : 0.7351\n"
     ]
    }
   ],
   "source": [
    "# Résultat final\n",
    "print(f\"RMSE moyen sur {n_splits} folds : {np.mean(rmse_scores):.4f}\")\n",
    "print(f\"RMSE sur toutes les notes : {np.sqrt(mean_squared_error(util_matrix_filled, final_predictions))}\")\n",
    "print(f\"MAE moyen sur {n_splits} folds : {np.mean(mae_scores):.4f}\")"
   ]
  },
  {
   "cell_type": "code",
   "execution_count": null,
   "id": "be5669b0",
   "metadata": {},
   "outputs": [],
   "source": [
    "true_all = X_original.stack()         # Uniquement les vraies notes (valeurs non NaN)\n",
    "pred_all = final_predictions.stack()  # Prédictions à ces mêmes positions"
   ]
  },
  {
   "cell_type": "markdown",
   "id": "62f7480c",
   "metadata": {},
   "source": [
    "### Export vers CSV pour interface Power BI/Power apps"
   ]
  },
  {
   "cell_type": "code",
   "execution_count": 24,
   "id": "8d4e36ff",
   "metadata": {},
   "outputs": [],
   "source": [
    "# final_predictions_export = pd.DataFrame(index= final_predictions.index, \n",
    "                                        # columns= final_predictions.columns)\n",
    "\n",
    "# for i in final_predictions_export.index : \n",
    "    # for j in final_predictions_export.columns : \n",
    "        # if pd.isna(util_matrix.loc[i,j]) : \n",
    "            # final_predictions_export.loc[i,j] = final_predictions.loc[i,j]\n",
    "        # else : \n",
    "            # final_predictions_export.loc[i,j] = None\n",
    "\n",
    "# final_predictions_export"
   ]
  },
  {
   "cell_type": "code",
   "execution_count": 25,
   "id": "4069c1ed",
   "metadata": {},
   "outputs": [],
   "source": [
    "# Autre possibilité : \n",
    "# final_predictions_export = final_predictions.where(util_matrix.isna(), None) \n",
    "# --> On garde les prédictions quand le film est NA dans util_matrix, sinon c'est None\n",
    "# --> Other est la valeur prise si la condition est true\n",
    "\n",
    "# final_predictions_export = final_predictions.mask(util_matrix.notna(), other = \"Masqué\")\n",
    "# Other est la valeur prise si la condition est true"
   ]
  },
  {
   "cell_type": "code",
   "execution_count": 26,
   "id": "02f80378",
   "metadata": {},
   "outputs": [],
   "source": [
    " # On garde uniquement les films non notés dans util_matrix\n",
    "final_predictions_export = final_predictions.mask(util_matrix.notna(), None)\n",
    "\n",
    "# Remettre userId comme colonne normale\n",
    "final_predictions_export_reset = final_predictions_export.reset_index()\n",
    "\n",
    "# Puis faire le melt\n",
    "final_predictions_long = final_predictions_export_reset.melt(\n",
    "    id_vars='userId',\n",
    "    var_name='film',\n",
    "    value_name='rating'\n",
    ")"
   ]
  },
  {
   "cell_type": "code",
   "execution_count": 27,
   "id": "587247c3",
   "metadata": {},
   "outputs": [
    {
     "data": {
      "application/vnd.microsoft.datawrangler.viewer.v0+json": {
       "columns": [
        {
         "name": "index",
         "rawType": "int64",
         "type": "integer"
        },
        {
         "name": "userId",
         "rawType": "int64",
         "type": "integer"
        },
        {
         "name": "film",
         "rawType": "object",
         "type": "string"
        },
        {
         "name": "rating",
         "rawType": "object",
         "type": "unknown"
        }
       ],
       "conversionMethod": "pd.DataFrame",
       "ref": "ef9b1c19-8098-43af-8557-9eeeb8a6e01b",
       "rows": [
        [
         "0",
         "1",
         "...And Justice for All (1979)",
         "4.226670581047164"
        ],
        [
         "1",
         "2",
         "...And Justice for All (1979)",
         "3.7049949108951674"
        ],
        [
         "2",
         "3",
         "...And Justice for All (1979)",
         "3.921290675797251"
        ],
        [
         "3",
         "4",
         "...And Justice for All (1979)",
         "4.251606844596874"
        ],
        [
         "4",
         "5",
         "...And Justice for All (1979)",
         "3.140712933759522"
        ],
        [
         "5",
         "6",
         "...And Justice for All (1979)",
         "3.9143926646521363"
        ],
        [
         "6",
         "7",
         "...And Justice for All (1979)",
         "4.314227447050089"
        ],
        [
         "7",
         "8",
         "...And Justice for All (1979)",
         "3.8527496638194525"
        ],
        [
         "8",
         "9",
         "...And Justice for All (1979)",
         "3.734517577414344"
        ],
        [
         "9",
         "10",
         "...And Justice for All (1979)",
         "4.116466035338242"
        ]
       ],
       "shape": {
        "columns": 3,
        "rows": 10
       }
      },
      "text/html": [
       "<div>\n",
       "<style scoped>\n",
       "    .dataframe tbody tr th:only-of-type {\n",
       "        vertical-align: middle;\n",
       "    }\n",
       "\n",
       "    .dataframe tbody tr th {\n",
       "        vertical-align: top;\n",
       "    }\n",
       "\n",
       "    .dataframe thead th {\n",
       "        text-align: right;\n",
       "    }\n",
       "</style>\n",
       "<table border=\"1\" class=\"dataframe\">\n",
       "  <thead>\n",
       "    <tr style=\"text-align: right;\">\n",
       "      <th></th>\n",
       "      <th>userId</th>\n",
       "      <th>film</th>\n",
       "      <th>rating</th>\n",
       "    </tr>\n",
       "  </thead>\n",
       "  <tbody>\n",
       "    <tr>\n",
       "      <th>0</th>\n",
       "      <td>1</td>\n",
       "      <td>...And Justice for All (1979)</td>\n",
       "      <td>4.226671</td>\n",
       "    </tr>\n",
       "    <tr>\n",
       "      <th>1</th>\n",
       "      <td>2</td>\n",
       "      <td>...And Justice for All (1979)</td>\n",
       "      <td>3.704995</td>\n",
       "    </tr>\n",
       "    <tr>\n",
       "      <th>2</th>\n",
       "      <td>3</td>\n",
       "      <td>...And Justice for All (1979)</td>\n",
       "      <td>3.921291</td>\n",
       "    </tr>\n",
       "    <tr>\n",
       "      <th>3</th>\n",
       "      <td>4</td>\n",
       "      <td>...And Justice for All (1979)</td>\n",
       "      <td>4.251607</td>\n",
       "    </tr>\n",
       "    <tr>\n",
       "      <th>4</th>\n",
       "      <td>5</td>\n",
       "      <td>...And Justice for All (1979)</td>\n",
       "      <td>3.140713</td>\n",
       "    </tr>\n",
       "    <tr>\n",
       "      <th>5</th>\n",
       "      <td>6</td>\n",
       "      <td>...And Justice for All (1979)</td>\n",
       "      <td>3.914393</td>\n",
       "    </tr>\n",
       "    <tr>\n",
       "      <th>6</th>\n",
       "      <td>7</td>\n",
       "      <td>...And Justice for All (1979)</td>\n",
       "      <td>4.314227</td>\n",
       "    </tr>\n",
       "    <tr>\n",
       "      <th>7</th>\n",
       "      <td>8</td>\n",
       "      <td>...And Justice for All (1979)</td>\n",
       "      <td>3.85275</td>\n",
       "    </tr>\n",
       "    <tr>\n",
       "      <th>8</th>\n",
       "      <td>9</td>\n",
       "      <td>...And Justice for All (1979)</td>\n",
       "      <td>3.734518</td>\n",
       "    </tr>\n",
       "    <tr>\n",
       "      <th>9</th>\n",
       "      <td>10</td>\n",
       "      <td>...And Justice for All (1979)</td>\n",
       "      <td>4.116466</td>\n",
       "    </tr>\n",
       "  </tbody>\n",
       "</table>\n",
       "</div>"
      ],
      "text/plain": [
       "   userId                           film    rating\n",
       "0       1  ...And Justice for All (1979)  4.226671\n",
       "1       2  ...And Justice for All (1979)  3.704995\n",
       "2       3  ...And Justice for All (1979)  3.921291\n",
       "3       4  ...And Justice for All (1979)  4.251607\n",
       "4       5  ...And Justice for All (1979)  3.140713\n",
       "5       6  ...And Justice for All (1979)  3.914393\n",
       "6       7  ...And Justice for All (1979)  4.314227\n",
       "7       8  ...And Justice for All (1979)   3.85275\n",
       "8       9  ...And Justice for All (1979)  3.734518\n",
       "9      10  ...And Justice for All (1979)  4.116466"
      ]
     },
     "execution_count": 27,
     "metadata": {},
     "output_type": "execute_result"
    }
   ],
   "source": [
    "final_predictions_long.head(10)"
   ]
  },
  {
   "cell_type": "code",
   "execution_count": 28,
   "id": "efcfbcc9",
   "metadata": {},
   "outputs": [],
   "source": [
    "# final_predictions_long.to_csv(r\"C:\\Users\\nolle\\OneDrive\\Documents\\Université\\M2\\Mémoire\\Méthodes\\Prédictions SVD.csv\")"
   ]
  }
 ],
 "metadata": {
  "kernelspec": {
   "display_name": "base",
   "language": "python",
   "name": "python3"
  },
  "language_info": {
   "codemirror_mode": {
    "name": "ipython",
    "version": 3
   },
   "file_extension": ".py",
   "mimetype": "text/x-python",
   "name": "python",
   "nbconvert_exporter": "python",
   "pygments_lexer": "ipython3",
   "version": "3.11.4"
  }
 },
 "nbformat": 4,
 "nbformat_minor": 5
}
